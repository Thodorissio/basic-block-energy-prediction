{
 "cells": [
  {
   "cell_type": "markdown",
   "metadata": {},
   "source": [
    "# Imports"
   ]
  },
  {
   "cell_type": "code",
   "execution_count": 1,
   "metadata": {},
   "outputs": [
    {
     "name": "stderr",
     "output_type": "stream",
     "text": [
      "c:\\Users\\thodo\\miniconda3\\envs\\energy-prediction\\lib\\site-packages\\tqdm\\auto.py:22: TqdmWarning: IProgress not found. Please update jupyter and ipywidgets. See https://ipywidgets.readthedocs.io/en/stable/user_install.html\n",
      "  from .autonotebook import tqdm as notebook_tqdm\n"
     ]
    },
    {
     "data": {
      "text/plain": [
       "True"
      ]
     },
     "execution_count": 1,
     "metadata": {},
     "output_type": "execute_result"
    }
   ],
   "source": [
    "import numpy as np\n",
    "import pandas as pd\n",
    "import matplotlib.pyplot as plt\n",
    "import tqdm\n",
    "import random\n",
    "import json\n",
    "import sys\n",
    "import os\n",
    "import logging\n",
    "from dotenv import load_dotenv\n",
    "\n",
    "import torch\n",
    "from torch import nn\n",
    "from torch.utils.data import Dataset, DataLoader\n",
    "\n",
    "import optuna\n",
    "\n",
    "from collections import Counter\n",
    "from typing import Optional\n",
    "\n",
    "from sklearn.metrics import mean_absolute_error, mean_squared_error\n",
    "\n",
    "from bb_energy_prediction import embedder, models, data_utils, train, dataset, evaluate\n",
    "\n",
    "load_dotenv()"
   ]
  },
  {
   "cell_type": "code",
   "execution_count": 2,
   "metadata": {},
   "outputs": [
    {
     "data": {
      "text/plain": [
       "device(type='cuda', index=1)"
      ]
     },
     "execution_count": 2,
     "metadata": {},
     "output_type": "execute_result"
    }
   ],
   "source": [
    "torch.device('cuda:1' if torch.cuda.is_available() else 'cpu')"
   ]
  },
  {
   "attachments": {},
   "cell_type": "markdown",
   "metadata": {},
   "source": [
    "# Data"
   ]
  },
  {
   "cell_type": "code",
   "execution_count": 3,
   "metadata": {},
   "outputs": [],
   "source": [
    "no_dupl = False\n",
    "if no_dupl:\n",
    "    data_df = data_utils.get_data_df(data_path=\"../energy_data/no_dupl_data.pkl\")\n",
    "else:\n",
    "    data_df = data_utils.get_data_df(data_path=\"../energy_data/data.pkl\")\n",
    "\n",
    "if \"bb_embeddings\" in data_df.columns:\n",
    "    data_df = data_df.drop(columns=\"bb_embeddings\")"
   ]
  },
  {
   "attachments": {},
   "cell_type": "markdown",
   "metadata": {},
   "source": [
    "We create the vocab and tokenize the data"
   ]
  },
  {
   "cell_type": "code",
   "execution_count": 4,
   "metadata": {},
   "outputs": [
    {
     "name": "stdout",
     "output_type": "stream",
     "text": [
      "size of vocabulary: 3359\n"
     ]
    }
   ],
   "source": [
    "vocab = data_utils.get_inst_vocab(data_df)\n",
    "print(f\"size of vocabulary: {len(vocab)}\")"
   ]
  },
  {
   "cell_type": "markdown",
   "metadata": {},
   "source": [
    "We remove outliers in order to have more balanced padded sequences"
   ]
  },
  {
   "cell_type": "code",
   "execution_count": 5,
   "metadata": {},
   "outputs": [
    {
     "data": {
      "image/png": "[encoded data removed]",
      "text/plain": [
       "<Figure size 720x288 with 1 Axes>"
      ]
     },
     "metadata": {
      "needs_background": "light"
     },
     "output_type": "display_data"
    }
   ],
   "source": [
    "plt.figure(figsize=(10,4))\n",
    "plt.hist(data_df.bb.map(len))\n",
    "plt.title(\"Number of instructions per bb\")\n",
    "plt.ylabel(\"Instructions\")\n",
    "plt.show()"
   ]
  },
  {
   "cell_type": "code",
   "execution_count": 6,
   "metadata": {},
   "outputs": [
    {
     "data": {
      "text/html": [
       "<div>\n",
       "<style scoped>\n",
       "    .dataframe tbody tr th:only-of-type {\n",
       "        vertical-align: middle;\n",
       "    }\n",
       "\n",
       "    .dataframe tbody tr th {\n",
       "        vertical-align: top;\n",
       "    }\n",
       "\n",
       "    .dataframe thead th {\n",
       "        text-align: right;\n",
       "    }\n",
       "</style>\n",
       "<table border=\"1\" class=\"dataframe\">\n",
       "  <thead>\n",
       "    <tr style=\"text-align: right;\">\n",
       "      <th></th>\n",
       "      <th>bb</th>\n",
       "      <th>energy</th>\n",
       "      <th>program_name</th>\n",
       "      <th>encoded_bb</th>\n",
       "    </tr>\n",
       "  </thead>\n",
       "  <tbody>\n",
       "    <tr>\n",
       "      <th>357461</th>\n",
       "      <td>[movq %rdi, movq %r15, cmpq %r15, jz 0x26]</td>\n",
       "      <td>0.030069</td>\n",
       "      <td>variable_name</td>\n",
       "      <td>[12, 101, 331, 389]</td>\n",
       "    </tr>\n",
       "    <tr>\n",
       "      <th>182328</th>\n",
       "      <td>[sub $0x1 %rax, cmpb $0xa (%rax), jz 0x111]</td>\n",
       "      <td>0.254436</td>\n",
       "      <td>ip_get</td>\n",
       "      <td>[9, 10, 11]</td>\n",
       "    </tr>\n",
       "    <tr>\n",
       "      <th>98866</th>\n",
       "      <td>[movsx %r15b %eax, lea %rsi, sub $0x20 %eax, c...</td>\n",
       "      <td>0.023618</td>\n",
       "      <td>find_dyn_sum</td>\n",
       "      <td>[168, 49, 167, 50, 39, 36, 3, 34, 427, 764, 76...</td>\n",
       "    </tr>\n",
       "    <tr>\n",
       "      <th>227332</th>\n",
       "      <td>[cmp %rax %r12, jb]</td>\n",
       "      <td>0.163123</td>\n",
       "      <td>ip</td>\n",
       "      <td>[8, 6]</td>\n",
       "    </tr>\n",
       "    <tr>\n",
       "      <th>135881</th>\n",
       "      <td>[cmp %r9d, jz]</td>\n",
       "      <td>0.282755</td>\n",
       "      <td>function_pointer</td>\n",
       "      <td>[715, 38]</td>\n",
       "    </tr>\n",
       "    <tr>\n",
       "      <th>213473</th>\n",
       "      <td>[cmp %r10d, jnbe]</td>\n",
       "      <td>0.163123</td>\n",
       "      <td>ip</td>\n",
       "      <td>[735, 67]</td>\n",
       "    </tr>\n",
       "    <tr>\n",
       "      <th>195395</th>\n",
       "      <td>[cmp $0xa %ebx, jz 0xa3]</td>\n",
       "      <td>0.008835</td>\n",
       "      <td>ip</td>\n",
       "      <td>[300, 298]</td>\n",
       "    </tr>\n",
       "    <tr>\n",
       "      <th>37234</th>\n",
       "      <td>[cmp $0x20 %rdx, jb 0x4b]</td>\n",
       "      <td>0.000100</td>\n",
       "      <td>find_biggest</td>\n",
       "      <td>[73, 76]</td>\n",
       "    </tr>\n",
       "    <tr>\n",
       "      <th>365745</th>\n",
       "      <td>[movl (%r12) %r15d, test $0x8 %r15b, jnz 0x249b]</td>\n",
       "      <td>0.170516</td>\n",
       "      <td>variable_name</td>\n",
       "      <td>[343, 342, 344]</td>\n",
       "    </tr>\n",
       "    <tr>\n",
       "      <th>356140</th>\n",
       "      <td>[jnle 0x44]</td>\n",
       "      <td>0.027423</td>\n",
       "      <td>variable_name</td>\n",
       "      <td>[261]</td>\n",
       "    </tr>\n",
       "  </tbody>\n",
       "</table>\n",
       "</div>"
      ],
      "text/plain": [
       "                                                       bb    energy  \\\n",
       "357461         [movq %rdi, movq %r15, cmpq %r15, jz 0x26]  0.030069   \n",
       "182328        [sub $0x1 %rax, cmpb $0xa (%rax), jz 0x111]  0.254436   \n",
       "98866   [movsx %r15b %eax, lea %rsi, sub $0x20 %eax, c...  0.023618   \n",
       "227332                                [cmp %rax %r12, jb]  0.163123   \n",
       "135881                                     [cmp %r9d, jz]  0.282755   \n",
       "213473                                  [cmp %r10d, jnbe]  0.163123   \n",
       "195395                           [cmp $0xa %ebx, jz 0xa3]  0.008835   \n",
       "37234                           [cmp $0x20 %rdx, jb 0x4b]  0.000100   \n",
       "365745   [movl (%r12) %r15d, test $0x8 %r15b, jnz 0x249b]  0.170516   \n",
       "356140                                        [jnle 0x44]  0.027423   \n",
       "\n",
       "            program_name                                         encoded_bb  \n",
       "357461     variable_name                                [12, 101, 331, 389]  \n",
       "182328            ip_get                                        [9, 10, 11]  \n",
       "98866       find_dyn_sum  [168, 49, 167, 50, 39, 36, 3, 34, 427, 764, 76...  \n",
       "227332                ip                                             [8, 6]  \n",
       "135881  function_pointer                                          [715, 38]  \n",
       "213473                ip                                          [735, 67]  \n",
       "195395                ip                                         [300, 298]  \n",
       "37234       find_biggest                                           [73, 76]  \n",
       "365745     variable_name                                    [343, 342, 344]  \n",
       "356140     variable_name                                              [261]  "
      ]
     },
     "execution_count": 6,
     "metadata": {},
     "output_type": "execute_result"
    }
   ],
   "source": [
    "data_df[\"encoded_bb\"] = data_df.bb.apply(lambda x: data_utils.encode_bb_from_vocab(x, vocab, max_insts=20))\n",
    "data_df.sample(10)"
   ]
  },
  {
   "attachments": {},
   "cell_type": "markdown",
   "metadata": {},
   "source": [
    "Exclude some programs for test purposes, keeping though in the training data the programs with the most data so as not to have a large fraction of the data for testing."
   ]
  },
  {
   "cell_type": "code",
   "execution_count": 7,
   "metadata": {},
   "outputs": [
    {
     "name": "stdout",
     "output_type": "stream",
     "text": [
      "Test data size: 56165\n"
     ]
    }
   ],
   "source": [
    "if no_dupl:\n",
    "    test_size = 0.15\n",
    "else:\n",
    "    test_size = 0.1\n",
    "\n",
    "shuffled_data_df = data_df.sample(frac=1).reset_index(drop=True)\n",
    "test_size = int(0.1 * len(shuffled_data_df))\n",
    "test_df = shuffled_data_df[-test_size:]\n",
    "train_val_df = shuffled_data_df[:-test_size]\n",
    "\n",
    "print(f\"Test data size: {len(test_df)}\")"
   ]
  },
  {
   "attachments": {},
   "cell_type": "markdown",
   "metadata": {},
   "source": [
    "# Optuna Trials"
   ]
  },
  {
   "cell_type": "code",
   "execution_count": 8,
   "metadata": {},
   "outputs": [
    {
     "name": "stderr",
     "output_type": "stream",
     "text": [
      "\u001b[32m[I 2023-02-20 20:33:53,116]\u001b[0m A new study created in RDB with name: lstm-vocab-regression-study-fixed-hidden\u001b[0m\n"
     ]
    },
    {
     "name": "stdout",
     "output_type": "stream",
     "text": [
      "A new study created in RDB with name: lstm-vocab-regression-study-fixed-hidden\n"
     ]
    }
   ],
   "source": [
    "optuna.logging.get_logger(\"optuna\").addHandler(logging.StreamHandler(sys.stdout))\n",
    "study_name = \"lstm-vocab-regression-study-fixed-hidden\"\n",
    "storage_name = f\"sqlite:////Users/thodo/Documents/sxoli/diplomatiki/optuna-studies/lstm-vocab-regression-study.db\"\n",
    "study = optuna.create_study(study_name=study_name, storage=storage_name, load_if_exists=True, direction=\"minimize\")\n",
    "study.set_user_attr(\"Loss\", \"RMSE\")\n",
    "study.set_user_attr(\"Special vocab tokens\", \"['unk': 0, 'pad': 1]\")\n",
    "study.set_user_attr(\"Max instructions\", 20)\n",
    "study.set_user_attr(\"Training-val data\", len(train_val_df))\n",
    "study.set_user_attr(\"lr_decay\", 0.6)\n",
    "study.set_user_attr(\"lr_decay_step\", 9)"
   ]
  },
  {
   "cell_type": "code",
   "execution_count": null,
   "metadata": {},
   "outputs": [],
   "source": [
    "def objective(trial):\n",
    "\n",
    "    if no_dupl:\n",
    "        embedding_size = trial.suggest_int(\"embedding_size\", 64, 256)\n",
    "        lstm_layers = trial.suggest_int(\"lstm_layers\", 1, 3)\n",
    "        hidden_size = trial.suggest_int(\"hidden_size\", 4, 128)\n",
    "        dense_size = trial.suggest_int(\"dense_size\", 8, 256)\n",
    "        smaller_dense_size = trial.suggest_int(\"smaller_dense_size\", 4, 128)\n",
    "        batch_size = trial.suggest_int(\"batch_size\", 8, 64)\n",
    "        lstm_dropout = trial.suggest_float(\"lstm_dropout\", 0, 0.2)\n",
    "        dense_dropout = trial.suggest_float(\"dense_dropout\", 0, 0.15)\n",
    "        lr = trial.suggest_float(\"lr\", 1e-5, 5e-2)\n",
    "    else:\n",
    "        embedding_size = trial.suggest_int(\"embedding_size\", 64, 512)\n",
    "        lstm_layers = trial.suggest_int(\"lstm_layers\", 1, 4)\n",
    "        hidden_size = trial.suggest_int(\"hidden_size\", 8, 128)\n",
    "        dense_size = trial.suggest_int(\"dense_size\", 16, 256)\n",
    "        smaller_dense_size = trial.suggest_int(\"smaller_dense_size\", 8, 64)\n",
    "        batch_size = trial.suggest_int(\"batch_size\", 64, 512)\n",
    "        lstm_dropout = trial.suggest_float(\"lstm_dropout\", 0, 0.2)\n",
    "        dense_dropout = trial.suggest_float(\"dense_dropout\", 0, 0.15)\n",
    "        lr = trial.suggest_float(\"lr\", 1e-4, 1e-2)\n",
    "\n",
    "    data_loaders = data_utils.get_data_dict(data_df=train_val_df, enc_type=\"vocab\", batch_size=batch_size, split=0.85)\n",
    "    train_loader = data_loaders[\"train_loader\"]\n",
    "    val_loader = data_loaders[\"val_loader\"]\n",
    "\n",
    "    model = models.LSTM_Regressor(\n",
    "        vocab_size=len(vocab),\n",
    "        embedding_size=embedding_size,\n",
    "        custom_embs=True,\n",
    "        hidden_size=hidden_size,\n",
    "        num_layers=lstm_layers,\n",
    "        dense_size=dense_size,\n",
    "        smaller_dense_size=smaller_dense_size,\n",
    "        lstm_dropout=lstm_dropout,\n",
    "        dense_dropout=dense_dropout,\n",
    "    )\n",
    "    train_results = train.train_model(\n",
    "        model=model,\n",
    "        train_loader=train_loader,\n",
    "        val_loader=val_loader,\n",
    "        lr=lr,\n",
    "        epochs=200,\n",
    "        early_stopping=True,\n",
    "        lr_decay=9,\n",
    "        lr_decay_step=0.6,\n",
    "    )\n",
    "\n",
    "    val_loss = train_results[\"val_loss\"]\n",
    "\n",
    "    return val_loss[-1]\n",
    "\n",
    "\n",
    "study.optimize(objective, n_trials=100)"
   ]
  },
  {
   "cell_type": "code",
   "execution_count": 12,
   "metadata": {},
   "outputs": [
    {
     "data": {
      "text/html": [
       "<div>\n",
       "<style scoped>\n",
       "    .dataframe tbody tr th:only-of-type {\n",
       "        vertical-align: middle;\n",
       "    }\n",
       "\n",
       "    .dataframe tbody tr th {\n",
       "        vertical-align: top;\n",
       "    }\n",
       "\n",
       "    .dataframe thead th {\n",
       "        text-align: right;\n",
       "    }\n",
       "</style>\n",
       "<table border=\"1\" class=\"dataframe\">\n",
       "  <thead>\n",
       "    <tr style=\"text-align: right;\">\n",
       "      <th></th>\n",
       "      <th>number</th>\n",
       "      <th>value</th>\n",
       "      <th>datetime_start</th>\n",
       "      <th>datetime_complete</th>\n",
       "      <th>duration</th>\n",
       "      <th>params_batch_size</th>\n",
       "      <th>params_dense_dropout</th>\n",
       "      <th>params_dense_size</th>\n",
       "      <th>params_embedding_size</th>\n",
       "      <th>params_hidden_size</th>\n",
       "      <th>params_lr</th>\n",
       "      <th>params_lstm_dropout</th>\n",
       "      <th>params_lstm_layers</th>\n",
       "      <th>params_smaller_dense_size</th>\n",
       "      <th>state</th>\n",
       "    </tr>\n",
       "  </thead>\n",
       "  <tbody>\n",
       "    <tr>\n",
       "      <th>57</th>\n",
       "      <td>57</td>\n",
       "      <td>0.522099</td>\n",
       "      <td>2023-02-21 06:43:28.249465</td>\n",
       "      <td>2023-02-21 07:01:29.212646</td>\n",
       "      <td>0 days 00:18:00.963181</td>\n",
       "      <td>74</td>\n",
       "      <td>0.098736</td>\n",
       "      <td>211</td>\n",
       "      <td>463</td>\n",
       "      <td>30</td>\n",
       "      <td>0.004635</td>\n",
       "      <td>0.018812</td>\n",
       "      <td>4</td>\n",
       "      <td>62</td>\n",
       "      <td>COMPLETE</td>\n",
       "    </tr>\n",
       "    <tr>\n",
       "      <th>24</th>\n",
       "      <td>24</td>\n",
       "      <td>0.524343</td>\n",
       "      <td>2023-02-21 00:31:45.120955</td>\n",
       "      <td>2023-02-21 00:47:20.740291</td>\n",
       "      <td>0 days 00:15:35.619336</td>\n",
       "      <td>69</td>\n",
       "      <td>0.107987</td>\n",
       "      <td>218</td>\n",
       "      <td>314</td>\n",
       "      <td>20</td>\n",
       "      <td>0.005427</td>\n",
       "      <td>0.022358</td>\n",
       "      <td>3</td>\n",
       "      <td>40</td>\n",
       "      <td>COMPLETE</td>\n",
       "    </tr>\n",
       "    <tr>\n",
       "      <th>67</th>\n",
       "      <td>67</td>\n",
       "      <td>0.527356</td>\n",
       "      <td>2023-02-21 08:54:25.973247</td>\n",
       "      <td>2023-02-21 09:09:08.326575</td>\n",
       "      <td>0 days 00:14:42.353328</td>\n",
       "      <td>77</td>\n",
       "      <td>0.119226</td>\n",
       "      <td>186</td>\n",
       "      <td>202</td>\n",
       "      <td>18</td>\n",
       "      <td>0.005087</td>\n",
       "      <td>0.031180</td>\n",
       "      <td>3</td>\n",
       "      <td>58</td>\n",
       "      <td>COMPLETE</td>\n",
       "    </tr>\n",
       "    <tr>\n",
       "      <th>26</th>\n",
       "      <td>26</td>\n",
       "      <td>0.528793</td>\n",
       "      <td>2023-02-21 00:59:46.325727</td>\n",
       "      <td>2023-02-21 01:10:26.995729</td>\n",
       "      <td>0 days 00:10:40.670002</td>\n",
       "      <td>106</td>\n",
       "      <td>0.096848</td>\n",
       "      <td>203</td>\n",
       "      <td>313</td>\n",
       "      <td>17</td>\n",
       "      <td>0.003083</td>\n",
       "      <td>0.019072</td>\n",
       "      <td>3</td>\n",
       "      <td>59</td>\n",
       "      <td>COMPLETE</td>\n",
       "    </tr>\n",
       "    <tr>\n",
       "      <th>62</th>\n",
       "      <td>62</td>\n",
       "      <td>0.529613</td>\n",
       "      <td>2023-02-21 07:51:07.815089</td>\n",
       "      <td>2023-02-21 08:15:21.240166</td>\n",
       "      <td>0 days 00:24:13.425077</td>\n",
       "      <td>80</td>\n",
       "      <td>0.102224</td>\n",
       "      <td>247</td>\n",
       "      <td>448</td>\n",
       "      <td>22</td>\n",
       "      <td>0.005679</td>\n",
       "      <td>0.008868</td>\n",
       "      <td>4</td>\n",
       "      <td>55</td>\n",
       "      <td>COMPLETE</td>\n",
       "    </tr>\n",
       "    <tr>\n",
       "      <th>44</th>\n",
       "      <td>44</td>\n",
       "      <td>0.530055</td>\n",
       "      <td>2023-02-21 04:23:11.215379</td>\n",
       "      <td>2023-02-21 04:40:56.966298</td>\n",
       "      <td>0 days 00:17:45.750919</td>\n",
       "      <td>92</td>\n",
       "      <td>0.082842</td>\n",
       "      <td>215</td>\n",
       "      <td>338</td>\n",
       "      <td>54</td>\n",
       "      <td>0.004623</td>\n",
       "      <td>0.013227</td>\n",
       "      <td>4</td>\n",
       "      <td>50</td>\n",
       "      <td>COMPLETE</td>\n",
       "    </tr>\n",
       "    <tr>\n",
       "      <th>76</th>\n",
       "      <td>76</td>\n",
       "      <td>0.530992</td>\n",
       "      <td>2023-02-21 10:33:25.587066</td>\n",
       "      <td>2023-02-21 10:57:43.029279</td>\n",
       "      <td>0 days 00:24:17.442213</td>\n",
       "      <td>64</td>\n",
       "      <td>0.128697</td>\n",
       "      <td>209</td>\n",
       "      <td>143</td>\n",
       "      <td>11</td>\n",
       "      <td>0.004474</td>\n",
       "      <td>0.023135</td>\n",
       "      <td>3</td>\n",
       "      <td>58</td>\n",
       "      <td>COMPLETE</td>\n",
       "    </tr>\n",
       "    <tr>\n",
       "      <th>99</th>\n",
       "      <td>99</td>\n",
       "      <td>0.531148</td>\n",
       "      <td>2023-02-21 16:04:44.319996</td>\n",
       "      <td>2023-02-21 16:28:19.870842</td>\n",
       "      <td>0 days 00:23:35.550846</td>\n",
       "      <td>64</td>\n",
       "      <td>0.092994</td>\n",
       "      <td>226</td>\n",
       "      <td>96</td>\n",
       "      <td>17</td>\n",
       "      <td>0.003824</td>\n",
       "      <td>0.002586</td>\n",
       "      <td>4</td>\n",
       "      <td>54</td>\n",
       "      <td>COMPLETE</td>\n",
       "    </tr>\n",
       "    <tr>\n",
       "      <th>96</th>\n",
       "      <td>96</td>\n",
       "      <td>0.533705</td>\n",
       "      <td>2023-02-21 15:13:13.721517</td>\n",
       "      <td>2023-02-21 15:31:21.258895</td>\n",
       "      <td>0 days 00:18:07.537378</td>\n",
       "      <td>74</td>\n",
       "      <td>0.094998</td>\n",
       "      <td>240</td>\n",
       "      <td>98</td>\n",
       "      <td>16</td>\n",
       "      <td>0.004752</td>\n",
       "      <td>0.017953</td>\n",
       "      <td>4</td>\n",
       "      <td>58</td>\n",
       "      <td>COMPLETE</td>\n",
       "    </tr>\n",
       "    <tr>\n",
       "      <th>38</th>\n",
       "      <td>38</td>\n",
       "      <td>0.535134</td>\n",
       "      <td>2023-02-21 03:13:52.251338</td>\n",
       "      <td>2023-02-21 03:25:28.276278</td>\n",
       "      <td>0 days 00:11:36.024940</td>\n",
       "      <td>121</td>\n",
       "      <td>0.097295</td>\n",
       "      <td>217</td>\n",
       "      <td>260</td>\n",
       "      <td>54</td>\n",
       "      <td>0.005080</td>\n",
       "      <td>0.011695</td>\n",
       "      <td>4</td>\n",
       "      <td>49</td>\n",
       "      <td>COMPLETE</td>\n",
       "    </tr>\n",
       "  </tbody>\n",
       "</table>\n",
       "</div>"
      ],
      "text/plain": [
       "    number     value             datetime_start          datetime_complete  \\\n",
       "57      57  0.522099 2023-02-21 06:43:28.249465 2023-02-21 07:01:29.212646   \n",
       "24      24  0.524343 2023-02-21 00:31:45.120955 2023-02-21 00:47:20.740291   \n",
       "67      67  0.527356 2023-02-21 08:54:25.973247 2023-02-21 09:09:08.326575   \n",
       "26      26  0.528793 2023-02-21 00:59:46.325727 2023-02-21 01:10:26.995729   \n",
       "62      62  0.529613 2023-02-21 07:51:07.815089 2023-02-21 08:15:21.240166   \n",
       "44      44  0.530055 2023-02-21 04:23:11.215379 2023-02-21 04:40:56.966298   \n",
       "76      76  0.530992 2023-02-21 10:33:25.587066 2023-02-21 10:57:43.029279   \n",
       "99      99  0.531148 2023-02-21 16:04:44.319996 2023-02-21 16:28:19.870842   \n",
       "96      96  0.533705 2023-02-21 15:13:13.721517 2023-02-21 15:31:21.258895   \n",
       "38      38  0.535134 2023-02-21 03:13:52.251338 2023-02-21 03:25:28.276278   \n",
       "\n",
       "                 duration  params_batch_size  params_dense_dropout  \\\n",
       "57 0 days 00:18:00.963181                 74              0.098736   \n",
       "24 0 days 00:15:35.619336                 69              0.107987   \n",
       "67 0 days 00:14:42.353328                 77              0.119226   \n",
       "26 0 days 00:10:40.670002                106              0.096848   \n",
       "62 0 days 00:24:13.425077                 80              0.102224   \n",
       "44 0 days 00:17:45.750919                 92              0.082842   \n",
       "76 0 days 00:24:17.442213                 64              0.128697   \n",
       "99 0 days 00:23:35.550846                 64              0.092994   \n",
       "96 0 days 00:18:07.537378                 74              0.094998   \n",
       "38 0 days 00:11:36.024940                121              0.097295   \n",
       "\n",
       "    params_dense_size  params_embedding_size  params_hidden_size  params_lr  \\\n",
       "57                211                    463                  30   0.004635   \n",
       "24                218                    314                  20   0.005427   \n",
       "67                186                    202                  18   0.005087   \n",
       "26                203                    313                  17   0.003083   \n",
       "62                247                    448                  22   0.005679   \n",
       "44                215                    338                  54   0.004623   \n",
       "76                209                    143                  11   0.004474   \n",
       "99                226                     96                  17   0.003824   \n",
       "96                240                     98                  16   0.004752   \n",
       "38                217                    260                  54   0.005080   \n",
       "\n",
       "    params_lstm_dropout  params_lstm_layers  params_smaller_dense_size  \\\n",
       "57             0.018812                   4                         62   \n",
       "24             0.022358                   3                         40   \n",
       "67             0.031180                   3                         58   \n",
       "26             0.019072                   3                         59   \n",
       "62             0.008868                   4                         55   \n",
       "44             0.013227                   4                         50   \n",
       "76             0.023135                   3                         58   \n",
       "99             0.002586                   4                         54   \n",
       "96             0.017953                   4                         58   \n",
       "38             0.011695                   4                         49   \n",
       "\n",
       "       state  \n",
       "57  COMPLETE  \n",
       "24  COMPLETE  \n",
       "67  COMPLETE  \n",
       "26  COMPLETE  \n",
       "62  COMPLETE  \n",
       "44  COMPLETE  \n",
       "76  COMPLETE  \n",
       "99  COMPLETE  \n",
       "96  COMPLETE  \n",
       "38  COMPLETE  "
      ]
     },
     "execution_count": 12,
     "metadata": {},
     "output_type": "execute_result"
    }
   ],
   "source": [
    "study.trials_dataframe().sort_values(by=\"value\").head(10)"
   ]
  },
  {
   "cell_type": "code",
   "execution_count": 13,
   "metadata": {},
   "outputs": [
    {
     "name": "stdout",
     "output_type": "stream",
     "text": [
      "Best lstm-regressor-model params: {'batch_size': 74, 'dense_dropout': 0.09873596229127929, 'dense_size': 211, 'embedding_size': 463, 'hidden_size': 30, 'lr': 0.0046345478419115805, 'lstm_dropout': 0.0188121154069118, 'lstm_layers': 4, 'smaller_dense_size': 62}, achieving val RMSE: 0.522099172388303\n"
     ]
    }
   ],
   "source": [
    "print(f\"Best lstm-regressor-model params: {study.best_params}, achieving val RMSE: {study.best_value}\")"
   ]
  },
  {
   "attachments": {},
   "cell_type": "markdown",
   "metadata": {},
   "source": [
    "# Model Training"
   ]
  },
  {
   "cell_type": "code",
   "execution_count": 14,
   "metadata": {},
   "outputs": [],
   "source": [
    "batch_size = 74\n",
    "\n",
    "model_params = {\n",
    "    \"embedding_size\": 463,\n",
    "    \"hidden_size\": 30,\n",
    "    \"num_layers\": 4,\n",
    "    \"dense_size\": 211,\n",
    "    \"smaller_dense_size\": 62,\n",
    "    \"lstm_dropout\": 0.02,\n",
    "    \"dense_dropout\": 0.1,\n",
    "}\n",
    "\n",
    "train_params = {\n",
    "    \"lr\": 0.0046,\n",
    "    \"epochs\": 200,\n",
    "    \"early_stopping\": True,\n",
    "}"
   ]
  },
  {
   "cell_type": "code",
   "execution_count": null,
   "metadata": {},
   "outputs": [],
   "source": [
    "load = False\n",
    "save = True\n",
    "\n",
    "exp_dir = \"/Users/thodo/Documents/sxoli/diplomatiki/basic-block-energy-prediction/model_checkpoints/lstm_vocab_models/base_model\"\n",
    "\n",
    "data_loaders = data_utils.get_data_dict(\n",
    "    data_df=train_val_df, batch_size=batch_size, enc_type=\"vocab\"\n",
    ")\n",
    "train_loader = data_loaders[\"train_loader\"]\n",
    "val_loader = data_loaders[\"val_loader\"]\n",
    "\n",
    "model = models.LSTM_Regressor(vocab_size=len(vocab), custom_embs=True, **model_params)\n",
    "\n",
    "if load:\n",
    "    model.load_state_dict(torch.load(f\"{exp_dir}/model\"))\n",
    "    model.cuda()\n",
    "else:\n",
    "    train_results = train.train_model(\n",
    "        model=model,\n",
    "        train_loader=train_loader,\n",
    "        val_loader=val_loader,\n",
    "        verbose=True,\n",
    "        **train_params,\n",
    "    )\n",
    "    if save:\n",
    "        torch.save(model.state_dict(), f\"{exp_dir}/model\")\n",
    "        additional_attributes = {\n",
    "            \"model_params\": model_params,\n",
    "            \"train_params\": train_params,\n",
    "            \"loss\": \"RMSE\",\n",
    "            \"batch_size\": batch_size,\n",
    "            \"number of data\": len(train_loader)*batch_size,\n",
    "            \"train_loss\": train_results[\"train_loss\"],\n",
    "            \"val_loss\": train_results[\"val_loss\"],\n",
    "        }\n",
    "        with open(f\"{exp_dir}/additional_attributes.json\", \"w\") as file:\n",
    "            json.dump(additional_attributes, file, indent=4)"
   ]
  },
  {
   "cell_type": "code",
   "execution_count": 16,
   "metadata": {},
   "outputs": [
    {
     "data": {
      "image/png": "[encoded data removed]",
      "text/plain": [
       "<Figure size 720x360 with 1 Axes>"
      ]
     },
     "metadata": {
      "needs_background": "light"
     },
     "output_type": "display_data"
    }
   ],
   "source": [
    "plt.figure(figsize=(10, 5))\n",
    "plt.plot(train_results[\"train_loss\"], label=\"train_loss\")\n",
    "plt.plot(train_results[\"val_loss\"], label=\"val_loss\")\n",
    "plt.title(\"Train and Val losses\")\n",
    "plt.xlabel(\"Labels\")\n",
    "plt.legend\n",
    "plt.show()"
   ]
  },
  {
   "attachments": {},
   "cell_type": "markdown",
   "metadata": {},
   "source": [
    "# Evaluation"
   ]
  },
  {
   "cell_type": "code",
   "execution_count": 17,
   "metadata": {},
   "outputs": [],
   "source": [
    "pred_dict = evaluate.evaluate(model=model, val_loader=val_loader)\n",
    "preds = pred_dict[\"preds\"]\n",
    "true_energies = pred_dict[\"true_energies\"]"
   ]
  },
  {
   "cell_type": "code",
   "execution_count": 18,
   "metadata": {},
   "outputs": [
    {
     "data": {
      "image/png": "[encoded data removed]",
      "text/plain": [
       "<Figure size 720x360 with 1 Axes>"
      ]
     },
     "metadata": {
      "needs_background": "light"
     },
     "output_type": "display_data"
    }
   ],
   "source": [
    "plt.figure(figsize=(10, 5))\n",
    "plt.hist(preds, bins=100, range=(0,5))\n",
    "plt.title(\"Predictions' energy distribution\")\n",
    "plt.xlabel(\"Energy\")\n",
    "plt.show()"
   ]
  },
  {
   "cell_type": "code",
   "execution_count": 19,
   "metadata": {},
   "outputs": [
    {
     "data": {
      "image/png": "[encoded data removed]",
      "text/plain": [
       "<Figure size 720x360 with 1 Axes>"
      ]
     },
     "metadata": {
      "needs_background": "light"
     },
     "output_type": "display_data"
    }
   ],
   "source": [
    "val_labels = true_energies\n",
    "\n",
    "plt.figure(figsize=(10, 5))\n",
    "plt.hist(val_labels, bins=100, range=(0,5))\n",
    "plt.title(\"Validation labels energy distribution\")\n",
    "plt.xlabel(\"Energy\")\n",
    "plt.show()"
   ]
  },
  {
   "cell_type": "code",
   "execution_count": 20,
   "metadata": {},
   "outputs": [
    {
     "name": "stdout",
     "output_type": "stream",
     "text": [
      "Labels' median: 0.1860279462621192, Labels' std: 0.7301842829446544\n",
      "MSE: 0.348\n",
      "MAE: 0.257\n"
     ]
    }
   ],
   "source": [
    "median = np.median(true_energies)\n",
    "std = np.std(true_energies)\n",
    "mse = round(mean_squared_error(true_energies, preds), 3)\n",
    "mae = round(mean_absolute_error(true_energies, preds), 3)\n",
    "\n",
    "print(f\"Labels' median: {median}, Labels' std: {std}\")\n",
    "print(f\"MSE: {mse}\")\n",
    "print(f\"MAE: {mae}\")"
   ]
  },
  {
   "cell_type": "code",
   "execution_count": 21,
   "metadata": {},
   "outputs": [
    {
     "data": {
      "image/png": "[encoded data removed]",
      "text/plain": [
       "<Figure size 720x360 with 1 Axes>"
      ]
     },
     "metadata": {
      "needs_background": "light"
     },
     "output_type": "display_data"
    }
   ],
   "source": [
    "plt.figure(figsize=(10, 5))\n",
    "plt.title(\"Total energy\")\n",
    "plt.ylabel(\"Energy (*61μJ)\")\n",
    "plt.bar([\"true energy\", \"prediction\"], [sum(true_energies), sum(preds)])\n",
    "plt.show()"
   ]
  },
  {
   "attachments": {},
   "cell_type": "markdown",
   "metadata": {},
   "source": [
    "# Test programs prediction"
   ]
  },
  {
   "cell_type": "code",
   "execution_count": 25,
   "metadata": {},
   "outputs": [],
   "source": [
    "test_preds = evaluate.predict(model=model, test_bbs=test_df.bb.tolist(), vocab=vocab)\n",
    "true_energies = test_df.energy.values"
   ]
  },
  {
   "cell_type": "code",
   "execution_count": 26,
   "metadata": {},
   "outputs": [
    {
     "name": "stdout",
     "output_type": "stream",
     "text": [
      "Labels' median: 0.18474359828785508, Labels' std: 0.690261739319124\n",
      "MSE: 0.311\n",
      "MAE: 0.251\n"
     ]
    }
   ],
   "source": [
    "median = np.median(true_energies)\n",
    "std = np.std(true_energies)\n",
    "mse = round(mean_squared_error(true_energies, test_preds), 3)\n",
    "mae = round(mean_absolute_error(true_energies, test_preds), 3)\n",
    "\n",
    "print(f\"Labels' median: {median}, Labels' std: {std}\")\n",
    "print(f\"MSE: {mse}\")\n",
    "print(f\"MAE: {mae}\")"
   ]
  },
  {
   "cell_type": "code",
   "execution_count": null,
   "metadata": {},
   "outputs": [],
   "source": []
  }
 ],
 "metadata": {
  "kernelspec": {
   "display_name": "energy-prediction",
   "language": "python",
   "name": "energy-prediction"
  },
  "language_info": {
   "codemirror_mode": {
    "name": "ipython",
    "version": 3
   },
   "file_extension": ".py",
   "mimetype": "text/x-python",
   "name": "python",
   "nbconvert_exporter": "python",
   "pygments_lexer": "ipython3",
   "version": "3.10.4"
  },
  "orig_nbformat": 4,
  "vscode": {
   "interpreter": {
    "hash": "2d8ea44dacc84c32c3ffb10f5fa42b465f31145cc9ac97a8028dfa96db72aa4c"
   }
  }
 },
 "nbformat": 4,
 "nbformat_minor": 2
}
