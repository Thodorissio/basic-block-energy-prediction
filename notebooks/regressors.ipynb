{
 "cells": [
  {
   "attachments": {},
   "cell_type": "markdown",
   "metadata": {},
   "source": [
    "# Imports"
   ]
  },
  {
   "cell_type": "code",
   "execution_count": 1,
   "metadata": {},
   "outputs": [
    {
     "name": "stderr",
     "output_type": "stream",
     "text": [
      "c:\\Users\\thodo\\miniconda3\\envs\\energy-prediction\\lib\\site-packages\\tqdm\\auto.py:22: TqdmWarning: IProgress not found. Please update jupyter and ipywidgets. See https://ipywidgets.readthedocs.io/en/stable/user_install.html\n",
      "  from .autonotebook import tqdm as notebook_tqdm\n"
     ]
    }
   ],
   "source": [
    "import sys\n",
    "import json\n",
    "import logging\n",
    "import joblib\n",
    "import numpy as np\n",
    "import matplotlib.pyplot as plt\n",
    "\n",
    "import optuna\n",
    "\n",
    "from sklearn.model_selection import cross_val_score, ShuffleSplit\n",
    "from sklearn.linear_model import LinearRegression, SGDRegressor, ElasticNet, BayesianRidge, Ridge, Lasso\n",
    "from sklearn.svm import SVR\n",
    "from sklearn.ensemble import HistGradientBoostingRegressor\n",
    "\n",
    "from sklearn.feature_extraction.text import CountVectorizer, TfidfTransformer\n",
    "from sklearn.preprocessing import Normalizer, StandardScaler\n",
    "from sklearn.metrics import mean_absolute_error, mean_squared_error\n",
    "from sklearn.pipeline import Pipeline\n",
    "\n",
    "from typing import Union\n",
    "\n",
    "from bb_energy_prediction import data_utils, sklearn_regressors"
   ]
  },
  {
   "attachments": {},
   "cell_type": "markdown",
   "metadata": {},
   "source": [
    "# Data"
   ]
  },
  {
   "cell_type": "code",
   "execution_count": 2,
   "metadata": {},
   "outputs": [
    {
     "data": {
      "text/html": [
       "<div>\n",
       "<style scoped>\n",
       "    .dataframe tbody tr th:only-of-type {\n",
       "        vertical-align: middle;\n",
       "    }\n",
       "\n",
       "    .dataframe tbody tr th {\n",
       "        vertical-align: top;\n",
       "    }\n",
       "\n",
       "    .dataframe thead th {\n",
       "        text-align: right;\n",
       "    }\n",
       "</style>\n",
       "<table border=\"1\" class=\"dataframe\">\n",
       "  <thead>\n",
       "    <tr style=\"text-align: right;\">\n",
       "      <th></th>\n",
       "      <th>bb</th>\n",
       "      <th>energy</th>\n",
       "      <th>program_name</th>\n",
       "    </tr>\n",
       "  </thead>\n",
       "  <tbody>\n",
       "    <tr>\n",
       "      <th>79203</th>\n",
       "      <td>[movl %eax, orl %eax, orl %eax, jz 0x932]</td>\n",
       "      <td>0.175075</td>\n",
       "      <td>find_biggest</td>\n",
       "    </tr>\n",
       "    <tr>\n",
       "      <th>398085</th>\n",
       "      <td>[movl %eax, mov $0x1 %ebx, mov %eax %r9d, cmp ...</td>\n",
       "      <td>0.194707</td>\n",
       "      <td>variable_name</td>\n",
       "    </tr>\n",
       "    <tr>\n",
       "      <th>208370</th>\n",
       "      <td>[cmpq $0x0, jz 0x6b]</td>\n",
       "      <td>0.195748</td>\n",
       "      <td>ip</td>\n",
       "    </tr>\n",
       "    <tr>\n",
       "      <th>316974</th>\n",
       "      <td>[cmp %rax %r12, jb]</td>\n",
       "      <td>0.014741</td>\n",
       "      <td>simple_sort</td>\n",
       "    </tr>\n",
       "    <tr>\n",
       "      <th>146151</th>\n",
       "      <td>[movl (%r12) %r15d, test $0x8 %r15b, jnz 0x249b]</td>\n",
       "      <td>0.395857</td>\n",
       "      <td>function_pointer</td>\n",
       "    </tr>\n",
       "    <tr>\n",
       "      <th>147844</th>\n",
       "      <td>[cmpl $0x10, jnz 0xa]</td>\n",
       "      <td>0.339306</td>\n",
       "      <td>function_pointer</td>\n",
       "    </tr>\n",
       "    <tr>\n",
       "      <th>215515</th>\n",
       "      <td>[mov %rax %r14, jmp]</td>\n",
       "      <td>0.293623</td>\n",
       "      <td>ip</td>\n",
       "    </tr>\n",
       "    <tr>\n",
       "      <th>280705</th>\n",
       "      <td>[mov %rcx, nopw %ax, mov %rdi %rax, mov %rdi %...</td>\n",
       "      <td>0.021893</td>\n",
       "      <td>quicksort</td>\n",
       "    </tr>\n",
       "    <tr>\n",
       "      <th>92156</th>\n",
       "      <td>[movl %eax, mov %rdi %rbx, movl $0x0, movl $0x...</td>\n",
       "      <td>0.023618</td>\n",
       "      <td>find_dyn_sum</td>\n",
       "    </tr>\n",
       "    <tr>\n",
       "      <th>286259</th>\n",
       "      <td>[mov %r14 %rdi, mov %rbx %rsi, callq, pushq %r...</td>\n",
       "      <td>0.586020</td>\n",
       "      <td>quicksort</td>\n",
       "    </tr>\n",
       "  </tbody>\n",
       "</table>\n",
       "</div>"
      ],
      "text/plain": [
       "                                                       bb    energy  \\\n",
       "79203           [movl %eax, orl %eax, orl %eax, jz 0x932]  0.175075   \n",
       "398085  [movl %eax, mov $0x1 %ebx, mov %eax %r9d, cmp ...  0.194707   \n",
       "208370                               [cmpq $0x0, jz 0x6b]  0.195748   \n",
       "316974                                [cmp %rax %r12, jb]  0.014741   \n",
       "146151   [movl (%r12) %r15d, test $0x8 %r15b, jnz 0x249b]  0.395857   \n",
       "147844                              [cmpl $0x10, jnz 0xa]  0.339306   \n",
       "215515                               [mov %rax %r14, jmp]  0.293623   \n",
       "280705  [mov %rcx, nopw %ax, mov %rdi %rax, mov %rdi %...  0.021893   \n",
       "92156   [movl %eax, mov %rdi %rbx, movl $0x0, movl $0x...  0.023618   \n",
       "286259  [mov %r14 %rdi, mov %rbx %rsi, callq, pushq %r...  0.586020   \n",
       "\n",
       "            program_name  \n",
       "79203       find_biggest  \n",
       "398085     variable_name  \n",
       "208370                ip  \n",
       "316974       simple_sort  \n",
       "146151  function_pointer  \n",
       "147844  function_pointer  \n",
       "215515                ip  \n",
       "280705         quicksort  \n",
       "92156       find_dyn_sum  \n",
       "286259         quicksort  "
      ]
     },
     "execution_count": 2,
     "metadata": {},
     "output_type": "execute_result"
    }
   ],
   "source": [
    "no_dupl = False\n",
    "if no_dupl:\n",
    "    data_df = data_utils.get_data_df(data_path=\"../energy_data/no_dupl_data.pkl\")\n",
    "else:\n",
    "    data_df = data_utils.get_data_df(data_path=\"../energy_data/data.pkl\")\n",
    "\n",
    "if \"bb_embeddings\" in data_df.columns:\n",
    "    data_df = data_df.drop(columns=\"bb_embeddings\")\n",
    "data_df = data_df.sample(frac=1)\n",
    "data_df.head(10)"
   ]
  },
  {
   "cell_type": "code",
   "execution_count": 3,
   "metadata": {},
   "outputs": [
    {
     "name": "stdout",
     "output_type": "stream",
     "text": [
      "Test data size: 56165\n"
     ]
    }
   ],
   "source": [
    "if no_dupl:\n",
    "    test_size = 0.15\n",
    "else:\n",
    "    test_size = 0.1\n",
    "\n",
    "shuffled_data_df = data_df.sample(frac=1).reset_index(drop=True)\n",
    "test_size = int(test_size * len(shuffled_data_df))\n",
    "test_df = shuffled_data_df[-test_size:]\n",
    "train_df = shuffled_data_df[:-test_size]\n",
    "\n",
    "print(f\"Test data size: {len(test_df)}\")"
   ]
  },
  {
   "cell_type": "code",
   "execution_count": 4,
   "metadata": {},
   "outputs": [],
   "source": [
    "X_train = np.array([\" \".join(bb) for bb in train_df.bb.tolist()])\n",
    "y_train = train_df.energy.values\n",
    "\n",
    "X_test = np.array([\" \".join(bb) for bb in test_df.bb.tolist()])\n",
    "y_test = test_df.energy.values"
   ]
  },
  {
   "cell_type": "code",
   "execution_count": 5,
   "metadata": {},
   "outputs": [
    {
     "name": "stdout",
     "output_type": "stream",
     "text": [
      "Vocab length: 1266\n"
     ]
    }
   ],
   "source": [
    "cnt_vect = CountVectorizer()\n",
    "cnt_vect.fit_transform(X_train)\n",
    "vocab_len = len(cnt_vect.get_feature_names_out())\n",
    "print(f\"Vocab length: {vocab_len}\")"
   ]
  },
  {
   "attachments": {},
   "cell_type": "markdown",
   "metadata": {
    "id": "m-bKya-8hJ6F"
   },
   "source": [
    "# Regressors"
   ]
  },
  {
   "cell_type": "code",
   "execution_count": 6,
   "metadata": {},
   "outputs": [],
   "source": [
    "optuna.logging.get_logger(\"optuna\").addHandler(logging.StreamHandler(sys.stdout))\n",
    "if no_dupl:\n",
    "    exp_dir = \"/Users/thodo/Documents/sxoli/diplomatiki/basic-block-energy-prediction/model_checkpoints/regressors_no_dupl\"\n",
    "    storage_name = \"sqlite:////Users/thodo/Documents/sxoli/diplomatiki/optuna-studies/sklearn-regressors-no-duplicates.db\"\n",
    "else:\n",
    "    exp_dir = \"/Users/thodo/Documents/sxoli/diplomatiki/basic-block-energy-prediction/model_checkpoints/regressors\"\n",
    "    storage_name = \"sqlite:////Users/thodo/Documents/sxoli/diplomatiki/optuna-studies/sklearn-regressors.db\"\n"
   ]
  },
  {
   "cell_type": "markdown",
   "metadata": {
    "id": "Us9h9aYghJ6G"
   },
   "source": [
    "## Linear Regression"
   ]
  },
  {
   "cell_type": "markdown",
   "metadata": {
    "id": "neDJrZnbhJ6G"
   },
   "source": [
    "Simple least squares regression.\n",
    "No need for extra tuning."
   ]
  },
  {
   "cell_type": "code",
   "execution_count": 7,
   "metadata": {
    "colab": {
     "base_uri": "https://localhost:8080/"
    },
    "id": "gUm5RDoGit4y",
    "outputId": "43238da4-f5ad-4616-9de3-c61b737c8657"
   },
   "outputs": [
    {
     "name": "stderr",
     "output_type": "stream",
     "text": [
      "\u001b[32m[I 2023-02-20 15:33:59,323]\u001b[0m A new study created in RDB with name: linear-regression\u001b[0m\n"
     ]
    },
    {
     "name": "stdout",
     "output_type": "stream",
     "text": [
      "A new study created in RDB with name: linear-regression\n"
     ]
    }
   ],
   "source": [
    "study = optuna.create_study(study_name=\"linear-regression\", storage=storage_name, load_if_exists=True, direction=\"minimize\")\n",
    "study.set_user_attr(\"Loss\", \"RMSE\")"
   ]
  },
  {
   "cell_type": "code",
   "execution_count": null,
   "metadata": {
    "id": "keMwGIsEkxZz"
   },
   "outputs": [],
   "source": [
    "def objective(trial):\n",
    "\n",
    "    tfidf = trial.suggest_categorical(\"tfidf\", [True, False])\n",
    "    normalization = trial.suggest_categorical(\"normalization\", [True, False])\n",
    "    scaling = trial.suggest_categorical(\"scaling\", [True, False])\n",
    "\n",
    "    regressor = LinearRegression()\n",
    "    score = sklearn_regressors.evaluate_regressor(\n",
    "        regressor=regressor,\n",
    "        X=X_train,\n",
    "        y=y_train,\n",
    "        tfidf=tfidf,\n",
    "        normalization=normalization, \n",
    "        scaling=scaling\n",
    "    )\n",
    "\n",
    "    return score\n",
    "\n",
    "study.optimize(objective, n_trials=10)"
   ]
  },
  {
   "cell_type": "code",
   "execution_count": 9,
   "metadata": {
    "id": "aEHy0IE-lj-J"
   },
   "outputs": [
    {
     "data": {
      "text/html": [
       "<div>\n",
       "<style scoped>\n",
       "    .dataframe tbody tr th:only-of-type {\n",
       "        vertical-align: middle;\n",
       "    }\n",
       "\n",
       "    .dataframe tbody tr th {\n",
       "        vertical-align: top;\n",
       "    }\n",
       "\n",
       "    .dataframe thead th {\n",
       "        text-align: right;\n",
       "    }\n",
       "</style>\n",
       "<table border=\"1\" class=\"dataframe\">\n",
       "  <thead>\n",
       "    <tr style=\"text-align: right;\">\n",
       "      <th></th>\n",
       "      <th>number</th>\n",
       "      <th>value</th>\n",
       "      <th>datetime_start</th>\n",
       "      <th>datetime_complete</th>\n",
       "      <th>duration</th>\n",
       "      <th>params_normalization</th>\n",
       "      <th>params_scaling</th>\n",
       "      <th>params_tfidf</th>\n",
       "      <th>state</th>\n",
       "    </tr>\n",
       "  </thead>\n",
       "  <tbody>\n",
       "    <tr>\n",
       "      <th>0</th>\n",
       "      <td>0</td>\n",
       "      <td>1.391</td>\n",
       "      <td>2023-02-20 15:34:01.801151</td>\n",
       "      <td>2023-02-20 15:34:02.251864</td>\n",
       "      <td>0 days 00:00:00.450713</td>\n",
       "      <td>False</td>\n",
       "      <td>False</td>\n",
       "      <td>True</td>\n",
       "      <td>COMPLETE</td>\n",
       "    </tr>\n",
       "    <tr>\n",
       "      <th>1</th>\n",
       "      <td>1</td>\n",
       "      <td>1.394</td>\n",
       "      <td>2023-02-20 15:34:02.276361</td>\n",
       "      <td>2023-02-20 15:34:02.498864</td>\n",
       "      <td>0 days 00:00:00.222503</td>\n",
       "      <td>False</td>\n",
       "      <td>True</td>\n",
       "      <td>True</td>\n",
       "      <td>COMPLETE</td>\n",
       "    </tr>\n",
       "    <tr>\n",
       "      <th>7</th>\n",
       "      <td>7</td>\n",
       "      <td>1.565</td>\n",
       "      <td>2023-02-20 15:34:04.561908</td>\n",
       "      <td>2023-02-20 15:34:04.767401</td>\n",
       "      <td>0 days 00:00:00.205493</td>\n",
       "      <td>True</td>\n",
       "      <td>True</td>\n",
       "      <td>False</td>\n",
       "      <td>COMPLETE</td>\n",
       "    </tr>\n",
       "    <tr>\n",
       "      <th>6</th>\n",
       "      <td>6</td>\n",
       "      <td>1.695</td>\n",
       "      <td>2023-02-20 15:34:04.305399</td>\n",
       "      <td>2023-02-20 15:34:04.545399</td>\n",
       "      <td>0 days 00:00:00.240000</td>\n",
       "      <td>True</td>\n",
       "      <td>True</td>\n",
       "      <td>False</td>\n",
       "      <td>COMPLETE</td>\n",
       "    </tr>\n",
       "    <tr>\n",
       "      <th>4</th>\n",
       "      <td>4</td>\n",
       "      <td>1.852</td>\n",
       "      <td>2023-02-20 15:34:03.834829</td>\n",
       "      <td>2023-02-20 15:34:04.062158</td>\n",
       "      <td>0 days 00:00:00.227329</td>\n",
       "      <td>True</td>\n",
       "      <td>True</td>\n",
       "      <td>False</td>\n",
       "      <td>COMPLETE</td>\n",
       "    </tr>\n",
       "    <tr>\n",
       "      <th>3</th>\n",
       "      <td>3</td>\n",
       "      <td>2.005</td>\n",
       "      <td>2023-02-20 15:34:03.323764</td>\n",
       "      <td>2023-02-20 15:34:03.816773</td>\n",
       "      <td>0 days 00:00:00.493009</td>\n",
       "      <td>False</td>\n",
       "      <td>False</td>\n",
       "      <td>True</td>\n",
       "      <td>COMPLETE</td>\n",
       "    </tr>\n",
       "    <tr>\n",
       "      <th>2</th>\n",
       "      <td>2</td>\n",
       "      <td>2.129</td>\n",
       "      <td>2023-02-20 15:34:02.517863</td>\n",
       "      <td>2023-02-20 15:34:03.306765</td>\n",
       "      <td>0 days 00:00:00.788902</td>\n",
       "      <td>False</td>\n",
       "      <td>False</td>\n",
       "      <td>False</td>\n",
       "      <td>COMPLETE</td>\n",
       "    </tr>\n",
       "    <tr>\n",
       "      <th>5</th>\n",
       "      <td>5</td>\n",
       "      <td>2.130</td>\n",
       "      <td>2023-02-20 15:34:04.078658</td>\n",
       "      <td>2023-02-20 15:34:04.287906</td>\n",
       "      <td>0 days 00:00:00.209248</td>\n",
       "      <td>True</td>\n",
       "      <td>True</td>\n",
       "      <td>True</td>\n",
       "      <td>COMPLETE</td>\n",
       "    </tr>\n",
       "    <tr>\n",
       "      <th>8</th>\n",
       "      <td>8</td>\n",
       "      <td>2.158</td>\n",
       "      <td>2023-02-20 15:34:04.784519</td>\n",
       "      <td>2023-02-20 15:34:04.993911</td>\n",
       "      <td>0 days 00:00:00.209392</td>\n",
       "      <td>False</td>\n",
       "      <td>True</td>\n",
       "      <td>True</td>\n",
       "      <td>COMPLETE</td>\n",
       "    </tr>\n",
       "    <tr>\n",
       "      <th>9</th>\n",
       "      <td>9</td>\n",
       "      <td>3.260</td>\n",
       "      <td>2023-02-20 15:34:05.010990</td>\n",
       "      <td>2023-02-20 15:34:05.221483</td>\n",
       "      <td>0 days 00:00:00.210493</td>\n",
       "      <td>False</td>\n",
       "      <td>True</td>\n",
       "      <td>True</td>\n",
       "      <td>COMPLETE</td>\n",
       "    </tr>\n",
       "  </tbody>\n",
       "</table>\n",
       "</div>"
      ],
      "text/plain": [
       "   number  value             datetime_start          datetime_complete  \\\n",
       "0       0  1.391 2023-02-20 15:34:01.801151 2023-02-20 15:34:02.251864   \n",
       "1       1  1.394 2023-02-20 15:34:02.276361 2023-02-20 15:34:02.498864   \n",
       "7       7  1.565 2023-02-20 15:34:04.561908 2023-02-20 15:34:04.767401   \n",
       "6       6  1.695 2023-02-20 15:34:04.305399 2023-02-20 15:34:04.545399   \n",
       "4       4  1.852 2023-02-20 15:34:03.834829 2023-02-20 15:34:04.062158   \n",
       "3       3  2.005 2023-02-20 15:34:03.323764 2023-02-20 15:34:03.816773   \n",
       "2       2  2.129 2023-02-20 15:34:02.517863 2023-02-20 15:34:03.306765   \n",
       "5       5  2.130 2023-02-20 15:34:04.078658 2023-02-20 15:34:04.287906   \n",
       "8       8  2.158 2023-02-20 15:34:04.784519 2023-02-20 15:34:04.993911   \n",
       "9       9  3.260 2023-02-20 15:34:05.010990 2023-02-20 15:34:05.221483   \n",
       "\n",
       "                duration  params_normalization  params_scaling  params_tfidf  \\\n",
       "0 0 days 00:00:00.450713                 False           False          True   \n",
       "1 0 days 00:00:00.222503                 False            True          True   \n",
       "7 0 days 00:00:00.205493                  True            True         False   \n",
       "6 0 days 00:00:00.240000                  True            True         False   \n",
       "4 0 days 00:00:00.227329                  True            True         False   \n",
       "3 0 days 00:00:00.493009                 False           False          True   \n",
       "2 0 days 00:00:00.788902                 False           False         False   \n",
       "5 0 days 00:00:00.209248                  True            True          True   \n",
       "8 0 days 00:00:00.209392                 False            True          True   \n",
       "9 0 days 00:00:00.210493                 False            True          True   \n",
       "\n",
       "      state  \n",
       "0  COMPLETE  \n",
       "1  COMPLETE  \n",
       "7  COMPLETE  \n",
       "6  COMPLETE  \n",
       "4  COMPLETE  \n",
       "3  COMPLETE  \n",
       "2  COMPLETE  \n",
       "5  COMPLETE  \n",
       "8  COMPLETE  \n",
       "9  COMPLETE  "
      ]
     },
     "execution_count": 9,
     "metadata": {},
     "output_type": "execute_result"
    }
   ],
   "source": [
    "study.trials_dataframe().sort_values(by=\"value\").head(10)"
   ]
  },
  {
   "cell_type": "code",
   "execution_count": 10,
   "metadata": {
    "id": "2KisfHMXlk4H"
   },
   "outputs": [
    {
     "name": "stdout",
     "output_type": "stream",
     "text": [
      "Best linear regression params: {'normalization': False, 'scaling': False, 'tfidf': True}, achieving val RMSE: 1.391\n"
     ]
    }
   ],
   "source": [
    "print(f\"Best linear regression params: {study.best_params}, achieving val RMSE: {study.best_value}\")"
   ]
  },
  {
   "cell_type": "code",
   "execution_count": 10,
   "metadata": {},
   "outputs": [],
   "source": [
    "save = True\n",
    "load = False\n",
    "\n",
    "pipe_params = {\n",
    "    'normalization': False,\n",
    "    'scaling': False,\n",
    "    'tfidf': True,\n",
    "}\n",
    "\n",
    "if load:\n",
    "    pipe = joblib.load(f\"{exp_dir}/linear/pipe\")\n",
    "else:\n",
    "    regressor = LinearRegression()\n",
    "    pipe = sklearn_regressors.train_pipe(regressor, X_train, y_train, **pipe_params)\n",
    "\n",
    "    if save:\n",
    "        additional_attributes = {\n",
    "            \"pipe_params\": pipe_params,\n",
    "            #\"test_programs\": test_programs,\n",
    "        }\n",
    "\n",
    "        joblib.dump(pipe, f\"{exp_dir}/linear/pipe\")\n",
    "        with open(f\"{exp_dir}/linear/additional_attributes.json\", \"w\") as file:\n",
    "            json.dump(additional_attributes, file, indent=4)"
   ]
  },
  {
   "cell_type": "code",
   "execution_count": 11,
   "metadata": {},
   "outputs": [
    {
     "name": "stdout",
     "output_type": "stream",
     "text": [
      "MSE: 4.706\n",
      "MAE: 0.908\n"
     ]
    }
   ],
   "source": [
    "test_bbs = np.array([\" \".join(bb) for bb in test_df.bb.tolist()])\n",
    "test_preds = pipe.predict(test_bbs)\n",
    "true_energies = test_df.energy.values\n",
    "\n",
    "median = np.median(true_energies)\n",
    "std = np.std(true_energies)\n",
    "mse = round(mean_squared_error(true_energies, test_preds), 3)\n",
    "mae = round(mean_absolute_error(true_energies, test_preds), 3)\n",
    "\n",
    "print(f\"MSE: {mse}\")\n",
    "print(f\"MAE: {mae}\")"
   ]
  },
  {
   "cell_type": "markdown",
   "metadata": {
    "id": "U6DporjLhJ6H"
   },
   "source": [
    "## Lasso"
   ]
  },
  {
   "cell_type": "markdown",
   "metadata": {
    "id": "lnhF2Xw-hJ6H"
   },
   "source": [
    "Linear regression with L1 regularization. Tune:\n",
    "* alpha (L1 regularization term)."
   ]
  },
  {
   "cell_type": "code",
   "execution_count": 10,
   "metadata": {
    "id": "sZwXzrrjlulv"
   },
   "outputs": [
    {
     "name": "stderr",
     "output_type": "stream",
     "text": [
      "\u001b[32m[I 2023-02-23 22:56:45,573]\u001b[0m A new study created in RDB with name: lasso-regression\u001b[0m\n"
     ]
    },
    {
     "name": "stdout",
     "output_type": "stream",
     "text": [
      "A new study created in RDB with name: lasso-regression\n"
     ]
    }
   ],
   "source": [
    "study = optuna.create_study(study_name=\"lasso-regression\", storage=storage_name, load_if_exists=True, direction=\"minimize\")\n",
    "study.set_user_attr(\"Loss\", \"RMSE\")"
   ]
  },
  {
   "cell_type": "code",
   "execution_count": null,
   "metadata": {},
   "outputs": [],
   "source": [
    "def objective(trial):\n",
    "\n",
    "    alpha = trial.suggest_float(\"alpha\", 0, 10.0)\n",
    "    tfidf = trial.suggest_categorical(\"tfidf\", [True, False])\n",
    "    normalization = trial.suggest_categorical(\"normalization\", [True, False])\n",
    "    scaling = trial.suggest_categorical(\"scaling\", [True, False])\n",
    "\n",
    "    regressor = Lasso(alpha=alpha)\n",
    "    score = sklearn_regressors.evaluate_regressor(\n",
    "        regressor=regressor,\n",
    "        X=X_train,\n",
    "        y=y_train,\n",
    "        tfidf=tfidf,\n",
    "        normalization=normalization, \n",
    "        scaling=scaling\n",
    "    )\n",
    "\n",
    "    return score\n",
    "\n",
    "study.optimize(objective, n_trials=20)"
   ]
  },
  {
   "cell_type": "code",
   "execution_count": 12,
   "metadata": {
    "id": "CDRq8F53mG8h"
   },
   "outputs": [
    {
     "data": {
      "text/html": [
       "<div>\n",
       "<style scoped>\n",
       "    .dataframe tbody tr th:only-of-type {\n",
       "        vertical-align: middle;\n",
       "    }\n",
       "\n",
       "    .dataframe tbody tr th {\n",
       "        vertical-align: top;\n",
       "    }\n",
       "\n",
       "    .dataframe thead th {\n",
       "        text-align: right;\n",
       "    }\n",
       "</style>\n",
       "<table border=\"1\" class=\"dataframe\">\n",
       "  <thead>\n",
       "    <tr style=\"text-align: right;\">\n",
       "      <th></th>\n",
       "      <th>number</th>\n",
       "      <th>value</th>\n",
       "      <th>datetime_start</th>\n",
       "      <th>datetime_complete</th>\n",
       "      <th>duration</th>\n",
       "      <th>params_alpha</th>\n",
       "      <th>params_normalization</th>\n",
       "      <th>params_scaling</th>\n",
       "      <th>params_tfidf</th>\n",
       "      <th>state</th>\n",
       "    </tr>\n",
       "  </thead>\n",
       "  <tbody>\n",
       "    <tr>\n",
       "      <th>4</th>\n",
       "      <td>4</td>\n",
       "      <td>0.692</td>\n",
       "      <td>2023-02-23 22:57:44.181905</td>\n",
       "      <td>2023-02-23 22:57:58.314589</td>\n",
       "      <td>0 days 00:00:14.132684</td>\n",
       "      <td>5.917380</td>\n",
       "      <td>False</td>\n",
       "      <td>False</td>\n",
       "      <td>True</td>\n",
       "      <td>COMPLETE</td>\n",
       "    </tr>\n",
       "    <tr>\n",
       "      <th>15</th>\n",
       "      <td>15</td>\n",
       "      <td>0.696</td>\n",
       "      <td>2023-02-23 23:00:18.974504</td>\n",
       "      <td>2023-02-23 23:00:32.370134</td>\n",
       "      <td>0 days 00:00:13.395630</td>\n",
       "      <td>6.282374</td>\n",
       "      <td>False</td>\n",
       "      <td>False</td>\n",
       "      <td>False</td>\n",
       "      <td>COMPLETE</td>\n",
       "    </tr>\n",
       "    <tr>\n",
       "      <th>12</th>\n",
       "      <td>12</td>\n",
       "      <td>0.697</td>\n",
       "      <td>2023-02-23 22:59:36.850902</td>\n",
       "      <td>2023-02-23 22:59:50.645707</td>\n",
       "      <td>0 days 00:00:13.794805</td>\n",
       "      <td>4.017790</td>\n",
       "      <td>False</td>\n",
       "      <td>False</td>\n",
       "      <td>True</td>\n",
       "      <td>COMPLETE</td>\n",
       "    </tr>\n",
       "    <tr>\n",
       "      <th>9</th>\n",
       "      <td>9</td>\n",
       "      <td>0.699</td>\n",
       "      <td>2023-02-23 22:58:54.142856</td>\n",
       "      <td>2023-02-23 22:59:09.079188</td>\n",
       "      <td>0 days 00:00:14.936332</td>\n",
       "      <td>2.461454</td>\n",
       "      <td>True</td>\n",
       "      <td>True</td>\n",
       "      <td>True</td>\n",
       "      <td>COMPLETE</td>\n",
       "    </tr>\n",
       "    <tr>\n",
       "      <th>1</th>\n",
       "      <td>1</td>\n",
       "      <td>0.699</td>\n",
       "      <td>2023-02-23 22:57:01.180312</td>\n",
       "      <td>2023-02-23 22:57:15.129809</td>\n",
       "      <td>0 days 00:00:13.949497</td>\n",
       "      <td>1.841672</td>\n",
       "      <td>True</td>\n",
       "      <td>False</td>\n",
       "      <td>True</td>\n",
       "      <td>COMPLETE</td>\n",
       "    </tr>\n",
       "    <tr>\n",
       "      <th>11</th>\n",
       "      <td>11</td>\n",
       "      <td>0.700</td>\n",
       "      <td>2023-02-23 22:59:23.022401</td>\n",
       "      <td>2023-02-23 22:59:36.833912</td>\n",
       "      <td>0 days 00:00:13.811511</td>\n",
       "      <td>0.041001</td>\n",
       "      <td>False</td>\n",
       "      <td>False</td>\n",
       "      <td>True</td>\n",
       "      <td>COMPLETE</td>\n",
       "    </tr>\n",
       "    <tr>\n",
       "      <th>18</th>\n",
       "      <td>18</td>\n",
       "      <td>0.700</td>\n",
       "      <td>2023-02-23 23:00:59.072141</td>\n",
       "      <td>2023-02-23 23:01:12.447933</td>\n",
       "      <td>0 days 00:00:13.375792</td>\n",
       "      <td>5.751310</td>\n",
       "      <td>False</td>\n",
       "      <td>False</td>\n",
       "      <td>False</td>\n",
       "      <td>COMPLETE</td>\n",
       "    </tr>\n",
       "    <tr>\n",
       "      <th>8</th>\n",
       "      <td>8</td>\n",
       "      <td>0.702</td>\n",
       "      <td>2023-02-23 22:58:40.427411</td>\n",
       "      <td>2023-02-23 22:58:54.125378</td>\n",
       "      <td>0 days 00:00:13.697967</td>\n",
       "      <td>6.811531</td>\n",
       "      <td>True</td>\n",
       "      <td>False</td>\n",
       "      <td>False</td>\n",
       "      <td>COMPLETE</td>\n",
       "    </tr>\n",
       "    <tr>\n",
       "      <th>0</th>\n",
       "      <td>0</td>\n",
       "      <td>0.702</td>\n",
       "      <td>2023-02-23 22:56:46.535341</td>\n",
       "      <td>2023-02-23 22:57:01.157810</td>\n",
       "      <td>0 days 00:00:14.622469</td>\n",
       "      <td>6.543619</td>\n",
       "      <td>True</td>\n",
       "      <td>True</td>\n",
       "      <td>True</td>\n",
       "      <td>COMPLETE</td>\n",
       "    </tr>\n",
       "    <tr>\n",
       "      <th>3</th>\n",
       "      <td>3</td>\n",
       "      <td>0.702</td>\n",
       "      <td>2023-02-23 22:57:29.344184</td>\n",
       "      <td>2023-02-23 22:57:44.164911</td>\n",
       "      <td>0 days 00:00:14.820727</td>\n",
       "      <td>1.504827</td>\n",
       "      <td>True</td>\n",
       "      <td>False</td>\n",
       "      <td>True</td>\n",
       "      <td>COMPLETE</td>\n",
       "    </tr>\n",
       "  </tbody>\n",
       "</table>\n",
       "</div>"
      ],
      "text/plain": [
       "    number  value             datetime_start          datetime_complete  \\\n",
       "4        4  0.692 2023-02-23 22:57:44.181905 2023-02-23 22:57:58.314589   \n",
       "15      15  0.696 2023-02-23 23:00:18.974504 2023-02-23 23:00:32.370134   \n",
       "12      12  0.697 2023-02-23 22:59:36.850902 2023-02-23 22:59:50.645707   \n",
       "9        9  0.699 2023-02-23 22:58:54.142856 2023-02-23 22:59:09.079188   \n",
       "1        1  0.699 2023-02-23 22:57:01.180312 2023-02-23 22:57:15.129809   \n",
       "11      11  0.700 2023-02-23 22:59:23.022401 2023-02-23 22:59:36.833912   \n",
       "18      18  0.700 2023-02-23 23:00:59.072141 2023-02-23 23:01:12.447933   \n",
       "8        8  0.702 2023-02-23 22:58:40.427411 2023-02-23 22:58:54.125378   \n",
       "0        0  0.702 2023-02-23 22:56:46.535341 2023-02-23 22:57:01.157810   \n",
       "3        3  0.702 2023-02-23 22:57:29.344184 2023-02-23 22:57:44.164911   \n",
       "\n",
       "                 duration  params_alpha  params_normalization  params_scaling  \\\n",
       "4  0 days 00:00:14.132684      5.917380                 False           False   \n",
       "15 0 days 00:00:13.395630      6.282374                 False           False   \n",
       "12 0 days 00:00:13.794805      4.017790                 False           False   \n",
       "9  0 days 00:00:14.936332      2.461454                  True            True   \n",
       "1  0 days 00:00:13.949497      1.841672                  True           False   \n",
       "11 0 days 00:00:13.811511      0.041001                 False           False   \n",
       "18 0 days 00:00:13.375792      5.751310                 False           False   \n",
       "8  0 days 00:00:13.697967      6.811531                  True           False   \n",
       "0  0 days 00:00:14.622469      6.543619                  True            True   \n",
       "3  0 days 00:00:14.820727      1.504827                  True           False   \n",
       "\n",
       "    params_tfidf     state  \n",
       "4           True  COMPLETE  \n",
       "15         False  COMPLETE  \n",
       "12          True  COMPLETE  \n",
       "9           True  COMPLETE  \n",
       "1           True  COMPLETE  \n",
       "11          True  COMPLETE  \n",
       "18         False  COMPLETE  \n",
       "8          False  COMPLETE  \n",
       "0           True  COMPLETE  \n",
       "3           True  COMPLETE  "
      ]
     },
     "execution_count": 12,
     "metadata": {},
     "output_type": "execute_result"
    }
   ],
   "source": [
    "study.trials_dataframe().sort_values(by=\"value\").head(10)"
   ]
  },
  {
   "cell_type": "code",
   "execution_count": 13,
   "metadata": {
    "id": "2mXQMTplmHrG"
   },
   "outputs": [
    {
     "name": "stdout",
     "output_type": "stream",
     "text": [
      "Best lasso regression params: {'alpha': 5.91737974176493, 'normalization': False, 'scaling': False, 'tfidf': True}, achieving val RMSE: 0.692\n"
     ]
    }
   ],
   "source": [
    "print(f\"Best lasso regression params: {study.best_params}, achieving val RMSE: {study.best_value}\")"
   ]
  },
  {
   "cell_type": "code",
   "execution_count": 15,
   "metadata": {},
   "outputs": [],
   "source": [
    "save = True\n",
    "load = False\n",
    "\n",
    "regressor_params = {\"alpha\": 5.9}\n",
    "pipe_params = {\n",
    "    'normalization': False,\n",
    "    'scaling': False,\n",
    "    'tfidf': True,\n",
    "}\n",
    "\n",
    "if load:\n",
    "    pipe = joblib.load(f\"{exp_dir}/lasso/pipe\")\n",
    "else:\n",
    "    regressor = Lasso(**regressor_params)\n",
    "    pipe = sklearn_regressors.train_pipe(regressor, X_train, y_train, **pipe_params)\n",
    "\n",
    "    if save:\n",
    "        additional_attributes = {\n",
    "            \"regressor_params\": regressor_params,\n",
    "            \"pipe_params\": pipe_params,\n",
    "        }\n",
    "\n",
    "        joblib.dump(pipe, f\"{exp_dir}/lasso/pipe\")\n",
    "        with open(f\"{exp_dir}/lasso/additional_attributes.json\", \"w\") as file:\n",
    "            json.dump(additional_attributes, file, indent=4)"
   ]
  },
  {
   "cell_type": "code",
   "execution_count": 16,
   "metadata": {},
   "outputs": [
    {
     "name": "stdout",
     "output_type": "stream",
     "text": [
      "MSE: 0.523\n",
      "MAE: 0.374\n"
     ]
    }
   ],
   "source": [
    "test_bbs = np.array([\" \".join(bb) for bb in test_df.bb.tolist()])\n",
    "test_preds = pipe.predict(test_bbs)\n",
    "true_energies = test_df.energy.values\n",
    "\n",
    "median = np.median(true_energies)\n",
    "std = np.std(true_energies)\n",
    "mse = round(mean_squared_error(true_energies, test_preds), 3)\n",
    "mae = round(mean_absolute_error(true_energies, test_preds), 3)\n",
    "\n",
    "print(f\"MSE: {mse}\")\n",
    "print(f\"MAE: {mae}\")"
   ]
  },
  {
   "cell_type": "markdown",
   "metadata": {
    "id": "4QTGtDJ7hJ6H"
   },
   "source": [
    "## Ridge"
   ]
  },
  {
   "cell_type": "markdown",
   "metadata": {
    "id": "iFYA7y_LhJ6H"
   },
   "source": [
    "Linear regression with L2 regularization. Tune:\n",
    "* alpha (L2 regularization term)."
   ]
  },
  {
   "cell_type": "code",
   "execution_count": 17,
   "metadata": {
    "id": "R3KnNlEqm4M9"
   },
   "outputs": [
    {
     "name": "stderr",
     "output_type": "stream",
     "text": [
      "\u001b[32m[I 2023-02-23 23:01:59,681]\u001b[0m A new study created in RDB with name: ridge-regression\u001b[0m\n"
     ]
    },
    {
     "name": "stdout",
     "output_type": "stream",
     "text": [
      "A new study created in RDB with name: ridge-regression\n"
     ]
    }
   ],
   "source": [
    "study = optuna.create_study(study_name=\"ridge-regression\", storage=storage_name, load_if_exists=True, direction=\"minimize\")\n",
    "study.set_user_attr(\"Loss\", \"RMSE\")"
   ]
  },
  {
   "cell_type": "code",
   "execution_count": null,
   "metadata": {},
   "outputs": [],
   "source": [
    "def objective(trial):\n",
    "\n",
    "    alpha = trial.suggest_float(\"alpha\", 0, 10.0)\n",
    "    tfidf = trial.suggest_categorical(\"tfidf\", [True, False])\n",
    "    normalization = trial.suggest_categorical(\"normalization\", [True, False])\n",
    "    scaling = trial.suggest_categorical(\"scaling\", [True, False])\n",
    "\n",
    "    regressor = Ridge(alpha=alpha)\n",
    "    score = sklearn_regressors.evaluate_regressor(\n",
    "        regressor=regressor,\n",
    "        X=X_train,\n",
    "        y=y_train,\n",
    "        tfidf=tfidf,\n",
    "        normalization=normalization, \n",
    "        scaling=scaling\n",
    "    )\n",
    "\n",
    "    return score\n",
    "\n",
    "study.optimize(objective, n_trials=20)"
   ]
  },
  {
   "cell_type": "code",
   "execution_count": 19,
   "metadata": {
    "id": "0vjKVK2Em4M9"
   },
   "outputs": [
    {
     "data": {
      "text/html": [
       "<div>\n",
       "<style scoped>\n",
       "    .dataframe tbody tr th:only-of-type {\n",
       "        vertical-align: middle;\n",
       "    }\n",
       "\n",
       "    .dataframe tbody tr th {\n",
       "        vertical-align: top;\n",
       "    }\n",
       "\n",
       "    .dataframe thead th {\n",
       "        text-align: right;\n",
       "    }\n",
       "</style>\n",
       "<table border=\"1\" class=\"dataframe\">\n",
       "  <thead>\n",
       "    <tr style=\"text-align: right;\">\n",
       "      <th></th>\n",
       "      <th>number</th>\n",
       "      <th>value</th>\n",
       "      <th>datetime_start</th>\n",
       "      <th>datetime_complete</th>\n",
       "      <th>duration</th>\n",
       "      <th>params_alpha</th>\n",
       "      <th>params_normalization</th>\n",
       "      <th>params_scaling</th>\n",
       "      <th>params_tfidf</th>\n",
       "      <th>state</th>\n",
       "    </tr>\n",
       "  </thead>\n",
       "  <tbody>\n",
       "    <tr>\n",
       "      <th>16</th>\n",
       "      <td>16</td>\n",
       "      <td>0.570</td>\n",
       "      <td>2023-02-23 23:06:13.309209</td>\n",
       "      <td>2023-02-23 23:06:30.538625</td>\n",
       "      <td>0 days 00:00:17.229416</td>\n",
       "      <td>0.227142</td>\n",
       "      <td>False</td>\n",
       "      <td>True</td>\n",
       "      <td>False</td>\n",
       "      <td>COMPLETE</td>\n",
       "    </tr>\n",
       "    <tr>\n",
       "      <th>6</th>\n",
       "      <td>6</td>\n",
       "      <td>0.570</td>\n",
       "      <td>2023-02-23 23:03:39.845163</td>\n",
       "      <td>2023-02-23 23:03:54.339203</td>\n",
       "      <td>0 days 00:00:14.494040</td>\n",
       "      <td>7.558995</td>\n",
       "      <td>True</td>\n",
       "      <td>True</td>\n",
       "      <td>True</td>\n",
       "      <td>COMPLETE</td>\n",
       "    </tr>\n",
       "    <tr>\n",
       "      <th>9</th>\n",
       "      <td>9</td>\n",
       "      <td>0.571</td>\n",
       "      <td>2023-02-23 23:04:24.766999</td>\n",
       "      <td>2023-02-23 23:04:43.280817</td>\n",
       "      <td>0 days 00:00:18.513818</td>\n",
       "      <td>9.413899</td>\n",
       "      <td>False</td>\n",
       "      <td>False</td>\n",
       "      <td>False</td>\n",
       "      <td>COMPLETE</td>\n",
       "    </tr>\n",
       "    <tr>\n",
       "      <th>1</th>\n",
       "      <td>1</td>\n",
       "      <td>0.572</td>\n",
       "      <td>2023-02-23 23:02:21.435224</td>\n",
       "      <td>2023-02-23 23:02:36.612951</td>\n",
       "      <td>0 days 00:00:15.177727</td>\n",
       "      <td>6.342039</td>\n",
       "      <td>False</td>\n",
       "      <td>False</td>\n",
       "      <td>True</td>\n",
       "      <td>COMPLETE</td>\n",
       "    </tr>\n",
       "    <tr>\n",
       "      <th>13</th>\n",
       "      <td>13</td>\n",
       "      <td>0.575</td>\n",
       "      <td>2023-02-23 23:05:27.403146</td>\n",
       "      <td>2023-02-23 23:05:42.520299</td>\n",
       "      <td>0 days 00:00:15.117153</td>\n",
       "      <td>8.088298</td>\n",
       "      <td>True</td>\n",
       "      <td>False</td>\n",
       "      <td>True</td>\n",
       "      <td>COMPLETE</td>\n",
       "    </tr>\n",
       "    <tr>\n",
       "      <th>12</th>\n",
       "      <td>12</td>\n",
       "      <td>0.576</td>\n",
       "      <td>2023-02-23 23:05:12.739115</td>\n",
       "      <td>2023-02-23 23:05:27.386145</td>\n",
       "      <td>0 days 00:00:14.647030</td>\n",
       "      <td>8.129031</td>\n",
       "      <td>True</td>\n",
       "      <td>True</td>\n",
       "      <td>False</td>\n",
       "      <td>COMPLETE</td>\n",
       "    </tr>\n",
       "    <tr>\n",
       "      <th>0</th>\n",
       "      <td>0</td>\n",
       "      <td>0.578</td>\n",
       "      <td>2023-02-23 23:02:02.566181</td>\n",
       "      <td>2023-02-23 23:02:21.410223</td>\n",
       "      <td>0 days 00:00:18.844042</td>\n",
       "      <td>5.893820</td>\n",
       "      <td>False</td>\n",
       "      <td>False</td>\n",
       "      <td>False</td>\n",
       "      <td>COMPLETE</td>\n",
       "    </tr>\n",
       "    <tr>\n",
       "      <th>4</th>\n",
       "      <td>4</td>\n",
       "      <td>0.578</td>\n",
       "      <td>2023-02-23 23:03:08.138003</td>\n",
       "      <td>2023-02-23 23:03:25.196195</td>\n",
       "      <td>0 days 00:00:17.058192</td>\n",
       "      <td>1.598583</td>\n",
       "      <td>False</td>\n",
       "      <td>True</td>\n",
       "      <td>False</td>\n",
       "      <td>COMPLETE</td>\n",
       "    </tr>\n",
       "    <tr>\n",
       "      <th>3</th>\n",
       "      <td>3</td>\n",
       "      <td>0.578</td>\n",
       "      <td>2023-02-23 23:02:53.527112</td>\n",
       "      <td>2023-02-23 23:03:08.121002</td>\n",
       "      <td>0 days 00:00:14.593890</td>\n",
       "      <td>2.199179</td>\n",
       "      <td>False</td>\n",
       "      <td>True</td>\n",
       "      <td>True</td>\n",
       "      <td>COMPLETE</td>\n",
       "    </tr>\n",
       "    <tr>\n",
       "      <th>18</th>\n",
       "      <td>18</td>\n",
       "      <td>0.579</td>\n",
       "      <td>2023-02-23 23:06:45.234579</td>\n",
       "      <td>2023-02-23 23:06:59.917210</td>\n",
       "      <td>0 days 00:00:14.682631</td>\n",
       "      <td>3.955875</td>\n",
       "      <td>False</td>\n",
       "      <td>True</td>\n",
       "      <td>True</td>\n",
       "      <td>COMPLETE</td>\n",
       "    </tr>\n",
       "  </tbody>\n",
       "</table>\n",
       "</div>"
      ],
      "text/plain": [
       "    number  value             datetime_start          datetime_complete  \\\n",
       "16      16  0.570 2023-02-23 23:06:13.309209 2023-02-23 23:06:30.538625   \n",
       "6        6  0.570 2023-02-23 23:03:39.845163 2023-02-23 23:03:54.339203   \n",
       "9        9  0.571 2023-02-23 23:04:24.766999 2023-02-23 23:04:43.280817   \n",
       "1        1  0.572 2023-02-23 23:02:21.435224 2023-02-23 23:02:36.612951   \n",
       "13      13  0.575 2023-02-23 23:05:27.403146 2023-02-23 23:05:42.520299   \n",
       "12      12  0.576 2023-02-23 23:05:12.739115 2023-02-23 23:05:27.386145   \n",
       "0        0  0.578 2023-02-23 23:02:02.566181 2023-02-23 23:02:21.410223   \n",
       "4        4  0.578 2023-02-23 23:03:08.138003 2023-02-23 23:03:25.196195   \n",
       "3        3  0.578 2023-02-23 23:02:53.527112 2023-02-23 23:03:08.121002   \n",
       "18      18  0.579 2023-02-23 23:06:45.234579 2023-02-23 23:06:59.917210   \n",
       "\n",
       "                 duration  params_alpha  params_normalization  params_scaling  \\\n",
       "16 0 days 00:00:17.229416      0.227142                 False            True   \n",
       "6  0 days 00:00:14.494040      7.558995                  True            True   \n",
       "9  0 days 00:00:18.513818      9.413899                 False           False   \n",
       "1  0 days 00:00:15.177727      6.342039                 False           False   \n",
       "13 0 days 00:00:15.117153      8.088298                  True           False   \n",
       "12 0 days 00:00:14.647030      8.129031                  True            True   \n",
       "0  0 days 00:00:18.844042      5.893820                 False           False   \n",
       "4  0 days 00:00:17.058192      1.598583                 False            True   \n",
       "3  0 days 00:00:14.593890      2.199179                 False            True   \n",
       "18 0 days 00:00:14.682631      3.955875                 False            True   \n",
       "\n",
       "    params_tfidf     state  \n",
       "16         False  COMPLETE  \n",
       "6           True  COMPLETE  \n",
       "9          False  COMPLETE  \n",
       "1           True  COMPLETE  \n",
       "13          True  COMPLETE  \n",
       "12         False  COMPLETE  \n",
       "0          False  COMPLETE  \n",
       "4          False  COMPLETE  \n",
       "3           True  COMPLETE  \n",
       "18          True  COMPLETE  "
      ]
     },
     "execution_count": 19,
     "metadata": {},
     "output_type": "execute_result"
    }
   ],
   "source": [
    "study.trials_dataframe().sort_values(by=\"value\").head(10)"
   ]
  },
  {
   "cell_type": "code",
   "execution_count": 20,
   "metadata": {
    "id": "0_CHFe7Sm4M-"
   },
   "outputs": [
    {
     "name": "stdout",
     "output_type": "stream",
     "text": [
      "Best ridge regression params: {'alpha': 7.558994936255297, 'normalization': True, 'scaling': True, 'tfidf': True}, achieving val RMSE: 0.57\n"
     ]
    }
   ],
   "source": [
    "print(f\"Best ridge regression params: {study.best_params}, achieving val RMSE: {study.best_value}\")"
   ]
  },
  {
   "cell_type": "code",
   "execution_count": 21,
   "metadata": {},
   "outputs": [],
   "source": [
    "save = True\n",
    "load = False\n",
    "\n",
    "regressor_params = {\"alpha\": 7.6}\n",
    "pipe_params = {\n",
    "    'normalization': True,\n",
    "    'scaling': True,\n",
    "    'tfidf': True,\n",
    "}\n",
    "\n",
    "if load:\n",
    "    pipe = joblib.load(f\"{exp_dir}/ridge/pipe\")\n",
    "else:\n",
    "    regressor = Ridge(**regressor_params)\n",
    "    pipe = sklearn_regressors.train_pipe(regressor, X_train, y_train, **pipe_params)\n",
    "\n",
    "    if save:\n",
    "        additional_attributes = {\n",
    "            \"regressor_params\": regressor_params,\n",
    "            \"pipe_params\": pipe_params,\n",
    "            #\"test_programs\": test_programs,\n",
    "        }\n",
    "\n",
    "        joblib.dump(pipe, f\"{exp_dir}/ridge/pipe\")\n",
    "        with open(f\"{exp_dir}/ridge/additional_attributes.json\", \"w\") as file:\n",
    "            json.dump(additional_attributes, file, indent=4)"
   ]
  },
  {
   "cell_type": "code",
   "execution_count": 22,
   "metadata": {},
   "outputs": [
    {
     "name": "stdout",
     "output_type": "stream",
     "text": [
      "MSE: 0.351\n",
      "MAE: 0.271\n"
     ]
    }
   ],
   "source": [
    "test_bbs = np.array([\" \".join(bb) for bb in test_df.bb.tolist()])\n",
    "test_preds = pipe.predict(test_bbs)\n",
    "true_energies = test_df.energy.values\n",
    "\n",
    "median = np.median(true_energies)\n",
    "std = np.std(true_energies)\n",
    "mse = round(mean_squared_error(true_energies, test_preds), 3)\n",
    "mae = round(mean_absolute_error(true_energies, test_preds), 3)\n",
    "\n",
    "print(f\"MSE: {mse}\")\n",
    "print(f\"MAE: {mae}\")"
   ]
  },
  {
   "cell_type": "markdown",
   "metadata": {
    "id": "I1ogsA4EhJ6H"
   },
   "source": [
    "## ElasticNet"
   ]
  },
  {
   "cell_type": "markdown",
   "metadata": {
    "id": "Ejz37kVmhJ6H"
   },
   "source": [
    "Linear regression with both L1 and L2 regularization. Tune\n",
    "* alpha\n",
    "* l1_ratio. "
   ]
  },
  {
   "cell_type": "code",
   "execution_count": 23,
   "metadata": {
    "id": "7BpIlB7Nm-Rt"
   },
   "outputs": [
    {
     "name": "stderr",
     "output_type": "stream",
     "text": [
      "\u001b[32m[I 2023-02-23 23:09:09,560]\u001b[0m A new study created in RDB with name: elasticnet-regression\u001b[0m\n"
     ]
    },
    {
     "name": "stdout",
     "output_type": "stream",
     "text": [
      "A new study created in RDB with name: elasticnet-regression\n"
     ]
    }
   ],
   "source": [
    "study = optuna.create_study(study_name=\"elasticnet-regression\", storage=storage_name, load_if_exists=True, direction=\"minimize\")\n",
    "study.set_user_attr(\"Loss\", \"RMSE\")"
   ]
  },
  {
   "cell_type": "code",
   "execution_count": null,
   "metadata": {},
   "outputs": [],
   "source": [
    "def objective(trial):\n",
    "\n",
    "    alpha = trial.suggest_float(\"alpha\", 0, 10.0)\n",
    "    l1_ratio = trial.suggest_float(\"l1_ratio\", 0, 0.9)\n",
    "    tfidf = trial.suggest_categorical(\"tfidf\", [True, False])\n",
    "    normalization = trial.suggest_categorical(\"normalization\", [True, False])\n",
    "    scaling = trial.suggest_categorical(\"scaling\", [True, False])\n",
    "\n",
    "    regressor = ElasticNet(alpha=alpha, l1_ratio=l1_ratio)\n",
    "    score = sklearn_regressors.evaluate_regressor(\n",
    "        regressor=regressor,\n",
    "        X=X_train,\n",
    "        y=y_train,\n",
    "        tfidf=tfidf,\n",
    "        normalization=normalization, \n",
    "        scaling=scaling\n",
    "    )\n",
    "\n",
    "    return score\n",
    "\n",
    "study.optimize(objective, n_trials=20)"
   ]
  },
  {
   "cell_type": "code",
   "execution_count": 25,
   "metadata": {
    "id": "-G5CteZrm-Rt"
   },
   "outputs": [
    {
     "data": {
      "text/html": [
       "<div>\n",
       "<style scoped>\n",
       "    .dataframe tbody tr th:only-of-type {\n",
       "        vertical-align: middle;\n",
       "    }\n",
       "\n",
       "    .dataframe tbody tr th {\n",
       "        vertical-align: top;\n",
       "    }\n",
       "\n",
       "    .dataframe thead th {\n",
       "        text-align: right;\n",
       "    }\n",
       "</style>\n",
       "<table border=\"1\" class=\"dataframe\">\n",
       "  <thead>\n",
       "    <tr style=\"text-align: right;\">\n",
       "      <th></th>\n",
       "      <th>number</th>\n",
       "      <th>value</th>\n",
       "      <th>datetime_start</th>\n",
       "      <th>datetime_complete</th>\n",
       "      <th>duration</th>\n",
       "      <th>params_alpha</th>\n",
       "      <th>params_l1_ratio</th>\n",
       "      <th>params_normalization</th>\n",
       "      <th>params_scaling</th>\n",
       "      <th>params_tfidf</th>\n",
       "      <th>state</th>\n",
       "    </tr>\n",
       "  </thead>\n",
       "  <tbody>\n",
       "    <tr>\n",
       "      <th>14</th>\n",
       "      <td>14</td>\n",
       "      <td>0.678</td>\n",
       "      <td>2023-02-23 23:12:42.749424</td>\n",
       "      <td>2023-02-23 23:13:03.997340</td>\n",
       "      <td>0 days 00:00:21.247916</td>\n",
       "      <td>6.951369</td>\n",
       "      <td>0.006451</td>\n",
       "      <td>False</td>\n",
       "      <td>True</td>\n",
       "      <td>True</td>\n",
       "      <td>COMPLETE</td>\n",
       "    </tr>\n",
       "    <tr>\n",
       "      <th>12</th>\n",
       "      <td>12</td>\n",
       "      <td>0.681</td>\n",
       "      <td>2023-02-23 23:12:01.653850</td>\n",
       "      <td>2023-02-23 23:12:22.928126</td>\n",
       "      <td>0 days 00:00:21.274276</td>\n",
       "      <td>7.993278</td>\n",
       "      <td>0.005983</td>\n",
       "      <td>False</td>\n",
       "      <td>True</td>\n",
       "      <td>True</td>\n",
       "      <td>COMPLETE</td>\n",
       "    </tr>\n",
       "    <tr>\n",
       "      <th>17</th>\n",
       "      <td>17</td>\n",
       "      <td>0.691</td>\n",
       "      <td>2023-02-23 23:13:32.201532</td>\n",
       "      <td>2023-02-23 23:13:51.561341</td>\n",
       "      <td>0 days 00:00:19.359809</td>\n",
       "      <td>8.190970</td>\n",
       "      <td>0.013323</td>\n",
       "      <td>False</td>\n",
       "      <td>True</td>\n",
       "      <td>True</td>\n",
       "      <td>COMPLETE</td>\n",
       "    </tr>\n",
       "    <tr>\n",
       "      <th>13</th>\n",
       "      <td>13</td>\n",
       "      <td>0.695</td>\n",
       "      <td>2023-02-23 23:12:22.946183</td>\n",
       "      <td>2023-02-23 23:12:42.731923</td>\n",
       "      <td>0 days 00:00:19.785740</td>\n",
       "      <td>7.011900</td>\n",
       "      <td>0.011715</td>\n",
       "      <td>False</td>\n",
       "      <td>True</td>\n",
       "      <td>True</td>\n",
       "      <td>COMPLETE</td>\n",
       "    </tr>\n",
       "    <tr>\n",
       "      <th>10</th>\n",
       "      <td>10</td>\n",
       "      <td>0.699</td>\n",
       "      <td>2023-02-23 23:11:32.307638</td>\n",
       "      <td>2023-02-23 23:11:46.848537</td>\n",
       "      <td>0 days 00:00:14.540899</td>\n",
       "      <td>9.882783</td>\n",
       "      <td>0.039426</td>\n",
       "      <td>False</td>\n",
       "      <td>True</td>\n",
       "      <td>True</td>\n",
       "      <td>COMPLETE</td>\n",
       "    </tr>\n",
       "    <tr>\n",
       "      <th>1</th>\n",
       "      <td>1</td>\n",
       "      <td>0.700</td>\n",
       "      <td>2023-02-23 23:09:27.137007</td>\n",
       "      <td>2023-02-23 23:09:41.047906</td>\n",
       "      <td>0 days 00:00:13.910899</td>\n",
       "      <td>8.350481</td>\n",
       "      <td>0.312563</td>\n",
       "      <td>True</td>\n",
       "      <td>True</td>\n",
       "      <td>False</td>\n",
       "      <td>COMPLETE</td>\n",
       "    </tr>\n",
       "    <tr>\n",
       "      <th>19</th>\n",
       "      <td>19</td>\n",
       "      <td>0.703</td>\n",
       "      <td>2023-02-23 23:14:05.821041</td>\n",
       "      <td>2023-02-23 23:14:19.875400</td>\n",
       "      <td>0 days 00:00:14.054359</td>\n",
       "      <td>7.545994</td>\n",
       "      <td>0.195365</td>\n",
       "      <td>False</td>\n",
       "      <td>True</td>\n",
       "      <td>True</td>\n",
       "      <td>COMPLETE</td>\n",
       "    </tr>\n",
       "    <tr>\n",
       "      <th>15</th>\n",
       "      <td>15</td>\n",
       "      <td>0.703</td>\n",
       "      <td>2023-02-23 23:13:04.013340</td>\n",
       "      <td>2023-02-23 23:13:18.097159</td>\n",
       "      <td>0 days 00:00:14.083819</td>\n",
       "      <td>6.857993</td>\n",
       "      <td>0.142235</td>\n",
       "      <td>False</td>\n",
       "      <td>True</td>\n",
       "      <td>True</td>\n",
       "      <td>COMPLETE</td>\n",
       "    </tr>\n",
       "    <tr>\n",
       "      <th>6</th>\n",
       "      <td>6</td>\n",
       "      <td>0.703</td>\n",
       "      <td>2023-02-23 23:10:36.325045</td>\n",
       "      <td>2023-02-23 23:10:50.206146</td>\n",
       "      <td>0 days 00:00:13.881101</td>\n",
       "      <td>3.796461</td>\n",
       "      <td>0.281320</td>\n",
       "      <td>True</td>\n",
       "      <td>True</td>\n",
       "      <td>False</td>\n",
       "      <td>COMPLETE</td>\n",
       "    </tr>\n",
       "    <tr>\n",
       "      <th>11</th>\n",
       "      <td>11</td>\n",
       "      <td>0.704</td>\n",
       "      <td>2023-02-23 23:11:46.871537</td>\n",
       "      <td>2023-02-23 23:12:01.635939</td>\n",
       "      <td>0 days 00:00:14.764402</td>\n",
       "      <td>9.580784</td>\n",
       "      <td>0.046656</td>\n",
       "      <td>False</td>\n",
       "      <td>True</td>\n",
       "      <td>True</td>\n",
       "      <td>COMPLETE</td>\n",
       "    </tr>\n",
       "  </tbody>\n",
       "</table>\n",
       "</div>"
      ],
      "text/plain": [
       "    number  value             datetime_start          datetime_complete  \\\n",
       "14      14  0.678 2023-02-23 23:12:42.749424 2023-02-23 23:13:03.997340   \n",
       "12      12  0.681 2023-02-23 23:12:01.653850 2023-02-23 23:12:22.928126   \n",
       "17      17  0.691 2023-02-23 23:13:32.201532 2023-02-23 23:13:51.561341   \n",
       "13      13  0.695 2023-02-23 23:12:22.946183 2023-02-23 23:12:42.731923   \n",
       "10      10  0.699 2023-02-23 23:11:32.307638 2023-02-23 23:11:46.848537   \n",
       "1        1  0.700 2023-02-23 23:09:27.137007 2023-02-23 23:09:41.047906   \n",
       "19      19  0.703 2023-02-23 23:14:05.821041 2023-02-23 23:14:19.875400   \n",
       "15      15  0.703 2023-02-23 23:13:04.013340 2023-02-23 23:13:18.097159   \n",
       "6        6  0.703 2023-02-23 23:10:36.325045 2023-02-23 23:10:50.206146   \n",
       "11      11  0.704 2023-02-23 23:11:46.871537 2023-02-23 23:12:01.635939   \n",
       "\n",
       "                 duration  params_alpha  params_l1_ratio  \\\n",
       "14 0 days 00:00:21.247916      6.951369         0.006451   \n",
       "12 0 days 00:00:21.274276      7.993278         0.005983   \n",
       "17 0 days 00:00:19.359809      8.190970         0.013323   \n",
       "13 0 days 00:00:19.785740      7.011900         0.011715   \n",
       "10 0 days 00:00:14.540899      9.882783         0.039426   \n",
       "1  0 days 00:00:13.910899      8.350481         0.312563   \n",
       "19 0 days 00:00:14.054359      7.545994         0.195365   \n",
       "15 0 days 00:00:14.083819      6.857993         0.142235   \n",
       "6  0 days 00:00:13.881101      3.796461         0.281320   \n",
       "11 0 days 00:00:14.764402      9.580784         0.046656   \n",
       "\n",
       "    params_normalization  params_scaling  params_tfidf     state  \n",
       "14                 False            True          True  COMPLETE  \n",
       "12                 False            True          True  COMPLETE  \n",
       "17                 False            True          True  COMPLETE  \n",
       "13                 False            True          True  COMPLETE  \n",
       "10                 False            True          True  COMPLETE  \n",
       "1                   True            True         False  COMPLETE  \n",
       "19                 False            True          True  COMPLETE  \n",
       "15                 False            True          True  COMPLETE  \n",
       "6                   True            True         False  COMPLETE  \n",
       "11                 False            True          True  COMPLETE  "
      ]
     },
     "execution_count": 25,
     "metadata": {},
     "output_type": "execute_result"
    }
   ],
   "source": [
    "study.trials_dataframe().sort_values(by=\"value\").head(10)"
   ]
  },
  {
   "cell_type": "code",
   "execution_count": 27,
   "metadata": {
    "id": "dIJhZwaNm-Rt"
   },
   "outputs": [
    {
     "name": "stdout",
     "output_type": "stream",
     "text": [
      "Best ElasticNET regression params: {'alpha': 6.951369371511551, 'l1_ratio': 0.006451007849770041, 'normalization': False, 'scaling': True, 'tfidf': True}, achieving val RMSE: 0.678\n"
     ]
    }
   ],
   "source": [
    "print(f\"Best ElasticNET regression params: {study.best_params}, achieving val RMSE: {study.best_value}\")"
   ]
  },
  {
   "cell_type": "code",
   "execution_count": 28,
   "metadata": {},
   "outputs": [],
   "source": [
    "save = True\n",
    "load = False\n",
    "\n",
    "regressor_params = {\"alpha\": 6.95, \"l1_ratio\": 0.006}\n",
    "pipe_params = {\n",
    "    'normalization': False,\n",
    "    'scaling': True,\n",
    "    'tfidf': True,\n",
    "}\n",
    "\n",
    "if load:\n",
    "    pipe = joblib.load(f\"{exp_dir}/elasticnet/pipe\")\n",
    "else:\n",
    "    regressor = ElasticNet(**regressor_params)\n",
    "    pipe = sklearn_regressors.train_pipe(regressor, X_train, y_train, **pipe_params)\n",
    "\n",
    "    if save:\n",
    "        additional_attributes = {\n",
    "            \"regressor_params\": regressor_params,\n",
    "            \"pipe_params\": pipe_params,\n",
    "            #\"test_programs\": test_programs,\n",
    "        }\n",
    "\n",
    "        joblib.dump(pipe, f\"{exp_dir}/elasticnet/pipe\")\n",
    "        with open(f\"{exp_dir}/elasticnet/additional_attributes.json\", \"w\") as file:\n",
    "            json.dump(additional_attributes, file, indent=4)"
   ]
  },
  {
   "cell_type": "code",
   "execution_count": 29,
   "metadata": {},
   "outputs": [
    {
     "name": "stdout",
     "output_type": "stream",
     "text": [
      "MSE: 0.48\n",
      "MAE: 0.348\n"
     ]
    }
   ],
   "source": [
    "test_bbs = np.array([\" \".join(bb) for bb in test_df.bb.tolist()])\n",
    "test_preds = pipe.predict(test_bbs)\n",
    "true_energies = test_df.energy.values\n",
    "\n",
    "median = np.median(true_energies)\n",
    "std = np.std(true_energies)\n",
    "mse = round(mean_squared_error(true_energies, test_preds), 3)\n",
    "mae = round(mean_absolute_error(true_energies, test_preds), 3)\n",
    "\n",
    "print(f\"MSE: {mse}\")\n",
    "print(f\"MAE: {mae}\")"
   ]
  },
  {
   "cell_type": "markdown",
   "metadata": {
    "id": "0yrfpGpQhJ6I"
   },
   "source": [
    "## SGD Regression"
   ]
  },
  {
   "cell_type": "markdown",
   "metadata": {
    "id": "wutmcIO6hJ6I"
   },
   "source": [
    "Stochastic Gradient Descent Regression using either of the above reguliration techniques. Tune:\n",
    "* penalty method\n",
    "* alpha\n",
    "* l1_ratio (if elasticnet penalty)."
   ]
  },
  {
   "cell_type": "code",
   "execution_count": 8,
   "metadata": {
    "id": "sOSQ1Cr4nHDZ"
   },
   "outputs": [
    {
     "name": "stderr",
     "output_type": "stream",
     "text": [
      "\u001b[32m[I 2023-02-23 23:40:04,072]\u001b[0m A new study created in RDB with name: SGD-regression\u001b[0m\n"
     ]
    },
    {
     "name": "stdout",
     "output_type": "stream",
     "text": [
      "A new study created in RDB with name: SGD-regression\n"
     ]
    }
   ],
   "source": [
    "study = optuna.create_study(study_name=\"SGD-regression\", storage=storage_name, load_if_exists=True, direction=\"minimize\")\n",
    "study.set_user_attr(\"Loss\", \"RMSE\")"
   ]
  },
  {
   "cell_type": "code",
   "execution_count": null,
   "metadata": {},
   "outputs": [],
   "source": [
    "def objective(trial):\n",
    "\n",
    "    penalty = trial.suggest_categorical(\"penalty\", [\"l1\", \"l2\", \"elasticnet\"])\n",
    "    alpha = trial.suggest_float(\"alpha\", 0, 10.0)\n",
    "    l1_ratio = trial.suggest_float(\"l1_ratio\", 0, 0.9)\n",
    "    tfidf = trial.suggest_categorical(\"tfidf\", [True, False])\n",
    "    normalization = trial.suggest_categorical(\"normalization\", [True, False])\n",
    "    scaling = trial.suggest_categorical(\"scaling\", [True, False])\n",
    "\n",
    "    regressor = SGDRegressor(penalty=penalty, alpha=alpha, l1_ratio=l1_ratio)\n",
    "    score = sklearn_regressors.evaluate_regressor(\n",
    "        regressor=regressor,\n",
    "        X=X_train,\n",
    "        y=y_train,\n",
    "        tfidf=tfidf,\n",
    "        normalization=normalization, \n",
    "        scaling=scaling\n",
    "    )\n",
    "\n",
    "    return score\n",
    "\n",
    "study.optimize(objective, n_trials=40)"
   ]
  },
  {
   "cell_type": "code",
   "execution_count": 10,
   "metadata": {
    "id": "MPJGdClmnHDZ"
   },
   "outputs": [
    {
     "data": {
      "text/html": [
       "<div>\n",
       "<style scoped>\n",
       "    .dataframe tbody tr th:only-of-type {\n",
       "        vertical-align: middle;\n",
       "    }\n",
       "\n",
       "    .dataframe tbody tr th {\n",
       "        vertical-align: top;\n",
       "    }\n",
       "\n",
       "    .dataframe thead th {\n",
       "        text-align: right;\n",
       "    }\n",
       "</style>\n",
       "<table border=\"1\" class=\"dataframe\">\n",
       "  <thead>\n",
       "    <tr style=\"text-align: right;\">\n",
       "      <th></th>\n",
       "      <th>number</th>\n",
       "      <th>value</th>\n",
       "      <th>datetime_start</th>\n",
       "      <th>datetime_complete</th>\n",
       "      <th>duration</th>\n",
       "      <th>params_alpha</th>\n",
       "      <th>params_l1_ratio</th>\n",
       "      <th>params_normalization</th>\n",
       "      <th>params_penalty</th>\n",
       "      <th>params_scaling</th>\n",
       "      <th>params_tfidf</th>\n",
       "      <th>state</th>\n",
       "    </tr>\n",
       "  </thead>\n",
       "  <tbody>\n",
       "    <tr>\n",
       "      <th>33</th>\n",
       "      <td>33</td>\n",
       "      <td>0.631</td>\n",
       "      <td>2023-02-23 23:47:34.672118</td>\n",
       "      <td>2023-02-23 23:47:47.976857</td>\n",
       "      <td>0 days 00:00:13.304739</td>\n",
       "      <td>0.635574</td>\n",
       "      <td>0.322415</td>\n",
       "      <td>False</td>\n",
       "      <td>l2</td>\n",
       "      <td>False</td>\n",
       "      <td>False</td>\n",
       "      <td>COMPLETE</td>\n",
       "    </tr>\n",
       "    <tr>\n",
       "      <th>34</th>\n",
       "      <td>34</td>\n",
       "      <td>0.632</td>\n",
       "      <td>2023-02-23 23:47:47.992856</td>\n",
       "      <td>2023-02-23 23:48:01.375355</td>\n",
       "      <td>0 days 00:00:13.382499</td>\n",
       "      <td>0.632296</td>\n",
       "      <td>0.344076</td>\n",
       "      <td>False</td>\n",
       "      <td>l2</td>\n",
       "      <td>False</td>\n",
       "      <td>False</td>\n",
       "      <td>COMPLETE</td>\n",
       "    </tr>\n",
       "    <tr>\n",
       "      <th>32</th>\n",
       "      <td>32</td>\n",
       "      <td>0.634</td>\n",
       "      <td>2023-02-23 23:47:21.507735</td>\n",
       "      <td>2023-02-23 23:47:34.655114</td>\n",
       "      <td>0 days 00:00:13.147379</td>\n",
       "      <td>0.795358</td>\n",
       "      <td>0.326961</td>\n",
       "      <td>False</td>\n",
       "      <td>l2</td>\n",
       "      <td>False</td>\n",
       "      <td>False</td>\n",
       "      <td>COMPLETE</td>\n",
       "    </tr>\n",
       "    <tr>\n",
       "      <th>18</th>\n",
       "      <td>18</td>\n",
       "      <td>0.635</td>\n",
       "      <td>2023-02-23 23:44:15.096003</td>\n",
       "      <td>2023-02-23 23:44:29.493540</td>\n",
       "      <td>0 days 00:00:14.397537</td>\n",
       "      <td>1.595639</td>\n",
       "      <td>0.295640</td>\n",
       "      <td>False</td>\n",
       "      <td>l2</td>\n",
       "      <td>False</td>\n",
       "      <td>False</td>\n",
       "      <td>COMPLETE</td>\n",
       "    </tr>\n",
       "    <tr>\n",
       "      <th>28</th>\n",
       "      <td>28</td>\n",
       "      <td>0.636</td>\n",
       "      <td>2023-02-23 23:46:28.685720</td>\n",
       "      <td>2023-02-23 23:46:41.851265</td>\n",
       "      <td>0 days 00:00:13.165545</td>\n",
       "      <td>1.657489</td>\n",
       "      <td>0.120385</td>\n",
       "      <td>False</td>\n",
       "      <td>l2</td>\n",
       "      <td>False</td>\n",
       "      <td>False</td>\n",
       "      <td>COMPLETE</td>\n",
       "    </tr>\n",
       "    <tr>\n",
       "      <th>17</th>\n",
       "      <td>17</td>\n",
       "      <td>0.637</td>\n",
       "      <td>2023-02-23 23:44:00.593681</td>\n",
       "      <td>2023-02-23 23:44:15.076505</td>\n",
       "      <td>0 days 00:00:14.482824</td>\n",
       "      <td>2.002745</td>\n",
       "      <td>0.140757</td>\n",
       "      <td>False</td>\n",
       "      <td>l2</td>\n",
       "      <td>False</td>\n",
       "      <td>False</td>\n",
       "      <td>COMPLETE</td>\n",
       "    </tr>\n",
       "    <tr>\n",
       "      <th>38</th>\n",
       "      <td>38</td>\n",
       "      <td>0.637</td>\n",
       "      <td>2023-02-23 23:48:41.258086</td>\n",
       "      <td>2023-02-23 23:48:54.661371</td>\n",
       "      <td>0 days 00:00:13.403285</td>\n",
       "      <td>0.034489</td>\n",
       "      <td>0.302983</td>\n",
       "      <td>False</td>\n",
       "      <td>l1</td>\n",
       "      <td>False</td>\n",
       "      <td>False</td>\n",
       "      <td>COMPLETE</td>\n",
       "    </tr>\n",
       "    <tr>\n",
       "      <th>20</th>\n",
       "      <td>20</td>\n",
       "      <td>0.637</td>\n",
       "      <td>2023-02-23 23:44:42.707081</td>\n",
       "      <td>2023-02-23 23:44:56.398148</td>\n",
       "      <td>0 days 00:00:13.691067</td>\n",
       "      <td>1.501492</td>\n",
       "      <td>0.470841</td>\n",
       "      <td>False</td>\n",
       "      <td>l2</td>\n",
       "      <td>False</td>\n",
       "      <td>False</td>\n",
       "      <td>COMPLETE</td>\n",
       "    </tr>\n",
       "    <tr>\n",
       "      <th>27</th>\n",
       "      <td>27</td>\n",
       "      <td>0.639</td>\n",
       "      <td>2023-02-23 23:46:15.540754</td>\n",
       "      <td>2023-02-23 23:46:28.668447</td>\n",
       "      <td>0 days 00:00:13.127693</td>\n",
       "      <td>1.142344</td>\n",
       "      <td>0.209599</td>\n",
       "      <td>False</td>\n",
       "      <td>l2</td>\n",
       "      <td>False</td>\n",
       "      <td>False</td>\n",
       "      <td>COMPLETE</td>\n",
       "    </tr>\n",
       "    <tr>\n",
       "      <th>21</th>\n",
       "      <td>21</td>\n",
       "      <td>0.639</td>\n",
       "      <td>2023-02-23 23:44:56.414855</td>\n",
       "      <td>2023-02-23 23:45:09.631967</td>\n",
       "      <td>0 days 00:00:13.217112</td>\n",
       "      <td>1.967395</td>\n",
       "      <td>0.537627</td>\n",
       "      <td>False</td>\n",
       "      <td>l2</td>\n",
       "      <td>False</td>\n",
       "      <td>False</td>\n",
       "      <td>COMPLETE</td>\n",
       "    </tr>\n",
       "  </tbody>\n",
       "</table>\n",
       "</div>"
      ],
      "text/plain": [
       "    number  value             datetime_start          datetime_complete  \\\n",
       "33      33  0.631 2023-02-23 23:47:34.672118 2023-02-23 23:47:47.976857   \n",
       "34      34  0.632 2023-02-23 23:47:47.992856 2023-02-23 23:48:01.375355   \n",
       "32      32  0.634 2023-02-23 23:47:21.507735 2023-02-23 23:47:34.655114   \n",
       "18      18  0.635 2023-02-23 23:44:15.096003 2023-02-23 23:44:29.493540   \n",
       "28      28  0.636 2023-02-23 23:46:28.685720 2023-02-23 23:46:41.851265   \n",
       "17      17  0.637 2023-02-23 23:44:00.593681 2023-02-23 23:44:15.076505   \n",
       "38      38  0.637 2023-02-23 23:48:41.258086 2023-02-23 23:48:54.661371   \n",
       "20      20  0.637 2023-02-23 23:44:42.707081 2023-02-23 23:44:56.398148   \n",
       "27      27  0.639 2023-02-23 23:46:15.540754 2023-02-23 23:46:28.668447   \n",
       "21      21  0.639 2023-02-23 23:44:56.414855 2023-02-23 23:45:09.631967   \n",
       "\n",
       "                 duration  params_alpha  params_l1_ratio  \\\n",
       "33 0 days 00:00:13.304739      0.635574         0.322415   \n",
       "34 0 days 00:00:13.382499      0.632296         0.344076   \n",
       "32 0 days 00:00:13.147379      0.795358         0.326961   \n",
       "18 0 days 00:00:14.397537      1.595639         0.295640   \n",
       "28 0 days 00:00:13.165545      1.657489         0.120385   \n",
       "17 0 days 00:00:14.482824      2.002745         0.140757   \n",
       "38 0 days 00:00:13.403285      0.034489         0.302983   \n",
       "20 0 days 00:00:13.691067      1.501492         0.470841   \n",
       "27 0 days 00:00:13.127693      1.142344         0.209599   \n",
       "21 0 days 00:00:13.217112      1.967395         0.537627   \n",
       "\n",
       "    params_normalization params_penalty  params_scaling  params_tfidf  \\\n",
       "33                 False             l2           False         False   \n",
       "34                 False             l2           False         False   \n",
       "32                 False             l2           False         False   \n",
       "18                 False             l2           False         False   \n",
       "28                 False             l2           False         False   \n",
       "17                 False             l2           False         False   \n",
       "38                 False             l1           False         False   \n",
       "20                 False             l2           False         False   \n",
       "27                 False             l2           False         False   \n",
       "21                 False             l2           False         False   \n",
       "\n",
       "       state  \n",
       "33  COMPLETE  \n",
       "34  COMPLETE  \n",
       "32  COMPLETE  \n",
       "18  COMPLETE  \n",
       "28  COMPLETE  \n",
       "17  COMPLETE  \n",
       "38  COMPLETE  \n",
       "20  COMPLETE  \n",
       "27  COMPLETE  \n",
       "21  COMPLETE  "
      ]
     },
     "execution_count": 10,
     "metadata": {},
     "output_type": "execute_result"
    }
   ],
   "source": [
    "study.trials_dataframe().sort_values(by=\"value\").head(10)"
   ]
  },
  {
   "cell_type": "code",
   "execution_count": 11,
   "metadata": {
    "id": "RHHcfjFvnHDa"
   },
   "outputs": [
    {
     "name": "stdout",
     "output_type": "stream",
     "text": [
      "Best SGD regression params: {'alpha': 0.6355739460605232, 'l1_ratio': 0.32241514893328543, 'normalization': False, 'penalty': 'l2', 'scaling': False, 'tfidf': False}, achieving val RMSE: 0.631\n"
     ]
    }
   ],
   "source": [
    "print(f\"Best SGD regression params: {study.best_params}, achieving val RMSE: {study.best_value}\")"
   ]
  },
  {
   "cell_type": "code",
   "execution_count": 13,
   "metadata": {},
   "outputs": [],
   "source": [
    "save = True\n",
    "load = False\n",
    "\n",
    "regressor_params = {\"alpha\": 0.63, \"l1_ratio\": 0.32, \"penalty\": \"l2\"}\n",
    "pipe_params = {\n",
    "    'normalization': False,\n",
    "    'scaling': False,\n",
    "    'tfidf': False,\n",
    "}\n",
    "\n",
    "if load:\n",
    "    pipe = joblib.load(f\"{exp_dir}/sgd/pipe\")\n",
    "else:\n",
    "    regressor = SGDRegressor(**regressor_params)\n",
    "    pipe = sklearn_regressors.train_pipe(regressor, X_train, y_train, **pipe_params)\n",
    "\n",
    "    if save:\n",
    "        additional_attributes = {\n",
    "            \"regressor_params\": regressor_params,\n",
    "            \"pipe_params\": pipe_params,\n",
    "        }\n",
    "\n",
    "        joblib.dump(pipe, f\"{exp_dir}/sgd/pipe\")\n",
    "        with open(f\"{exp_dir}/sgd/additional_attributes.json\", \"w\") as file:\n",
    "            json.dump(additional_attributes, file, indent=4)"
   ]
  },
  {
   "cell_type": "code",
   "execution_count": 14,
   "metadata": {},
   "outputs": [
    {
     "name": "stdout",
     "output_type": "stream",
     "text": [
      "MSE: 0.389\n",
      "MAE: 0.29\n"
     ]
    }
   ],
   "source": [
    "test_bbs = np.array([\" \".join(bb) for bb in test_df.bb.tolist()])\n",
    "test_preds = pipe.predict(test_bbs)\n",
    "true_energies = test_df.energy.values\n",
    "\n",
    "median = np.median(true_energies)\n",
    "std = np.std(true_energies)\n",
    "mse = round(mean_squared_error(true_energies, test_preds), 3)\n",
    "mae = round(mean_absolute_error(true_energies, test_preds), 3)\n",
    "\n",
    "print(f\"MSE: {mse}\")\n",
    "print(f\"MAE: {mae}\")"
   ]
  },
  {
   "cell_type": "markdown",
   "metadata": {
    "id": "Bygw9RgEhJ6I"
   },
   "source": [
    "## SVR"
   ]
  },
  {
   "cell_type": "markdown",
   "metadata": {
    "id": "nvZKfhWJhJ6I"
   },
   "source": [
    "Support Vector Regression. Tune:\n",
    "* kernel\n",
    "* gamma\n",
    "* C"
   ]
  },
  {
   "cell_type": "code",
   "execution_count": 7,
   "metadata": {
    "id": "w3QypaVGpjBx"
   },
   "outputs": [
    {
     "name": "stderr",
     "output_type": "stream",
     "text": [
      "\u001b[32m[I 2023-03-02 01:26:21,704]\u001b[0m A new study created in RDB with name: SVR-regression\u001b[0m\n"
     ]
    },
    {
     "name": "stdout",
     "output_type": "stream",
     "text": [
      "A new study created in RDB with name: SVR-regression\n"
     ]
    }
   ],
   "source": [
    "study = optuna.create_study(study_name=\"SVR-regression\", storage=storage_name, load_if_exists=True, direction=\"minimize\")\n",
    "study.set_user_attr(\"Loss\", \"RMSE\")"
   ]
  },
  {
   "cell_type": "code",
   "execution_count": 8,
   "metadata": {},
   "outputs": [
    {
     "name": "stderr",
     "output_type": "stream",
     "text": [
      "\u001b[32m[I 2023-03-02 01:26:34,104]\u001b[0m Trial 0 finished with value: 0.669 and parameters: {'kernel': 'rbf', 'C': 8.09189854989799, 'gamma': 0.41694319737413976, 'tfidf': False, 'normalization': True, 'scaling': True}. Best is trial 0 with value: 0.669.\u001b[0m\n"
     ]
    },
    {
     "name": "stdout",
     "output_type": "stream",
     "text": [
      "Trial 0 finished with value: 0.669 and parameters: {'kernel': 'rbf', 'C': 8.09189854989799, 'gamma': 0.41694319737413976, 'tfidf': False, 'normalization': True, 'scaling': True}. Best is trial 0 with value: 0.669.\n"
     ]
    },
    {
     "name": "stderr",
     "output_type": "stream",
     "text": [
      "\u001b[32m[I 2023-03-02 01:26:48,953]\u001b[0m Trial 1 finished with value: 0.605 and parameters: {'kernel': 'linear', 'C': 7.015790408226381, 'gamma': 0.7047882900770297, 'tfidf': True, 'normalization': False, 'scaling': False}. Best is trial 1 with value: 0.605.\u001b[0m\n"
     ]
    },
    {
     "name": "stdout",
     "output_type": "stream",
     "text": [
      "Trial 1 finished with value: 0.605 and parameters: {'kernel': 'linear', 'C': 7.015790408226381, 'gamma': 0.7047882900770297, 'tfidf': True, 'normalization': False, 'scaling': False}. Best is trial 1 with value: 0.605.\n"
     ]
    },
    {
     "name": "stderr",
     "output_type": "stream",
     "text": [
      "\u001b[32m[I 2023-03-02 02:05:38,909]\u001b[0m Trial 2 finished with value: 0.695 and parameters: {'kernel': 'linear', 'C': 6.2245680323114305, 'gamma': 0.4655339187819725, 'tfidf': True, 'normalization': False, 'scaling': True}. Best is trial 1 with value: 0.605.\u001b[0m\n"
     ]
    },
    {
     "name": "stdout",
     "output_type": "stream",
     "text": [
      "Trial 2 finished with value: 0.695 and parameters: {'kernel': 'linear', 'C': 6.2245680323114305, 'gamma': 0.4655339187819725, 'tfidf': True, 'normalization': False, 'scaling': True}. Best is trial 1 with value: 0.605.\n"
     ]
    },
    {
     "name": "stderr",
     "output_type": "stream",
     "text": [
      "\u001b[32m[I 2023-03-02 02:05:47,332]\u001b[0m Trial 3 finished with value: 0.601 and parameters: {'kernel': 'rbf', 'C': 0.6798703145441517, 'gamma': 0.594640966384394, 'tfidf': False, 'normalization': False, 'scaling': False}. Best is trial 3 with value: 0.601.\u001b[0m\n"
     ]
    },
    {
     "name": "stdout",
     "output_type": "stream",
     "text": [
      "Trial 3 finished with value: 0.601 and parameters: {'kernel': 'rbf', 'C': 0.6798703145441517, 'gamma': 0.594640966384394, 'tfidf': False, 'normalization': False, 'scaling': False}. Best is trial 3 with value: 0.601.\n"
     ]
    },
    {
     "name": "stderr",
     "output_type": "stream",
     "text": [
      "\u001b[32m[I 2023-03-02 02:35:02,477]\u001b[0m Trial 4 finished with value: 0.674 and parameters: {'kernel': 'linear', 'C': 4.415529519411901, 'gamma': 0.20842695362528302, 'tfidf': True, 'normalization': True, 'scaling': True}. Best is trial 3 with value: 0.601.\u001b[0m\n"
     ]
    },
    {
     "name": "stdout",
     "output_type": "stream",
     "text": [
      "Trial 4 finished with value: 0.674 and parameters: {'kernel': 'linear', 'C': 4.415529519411901, 'gamma': 0.20842695362528302, 'tfidf': True, 'normalization': True, 'scaling': True}. Best is trial 3 with value: 0.601.\n"
     ]
    },
    {
     "name": "stderr",
     "output_type": "stream",
     "text": [
      "\u001b[32m[I 2023-03-02 02:35:10,836]\u001b[0m Trial 5 finished with value: 0.611 and parameters: {'kernel': 'rbf', 'C': 3.5931480715880646, 'gamma': 0.8774235326806479, 'tfidf': True, 'normalization': False, 'scaling': False}. Best is trial 3 with value: 0.601.\u001b[0m\n"
     ]
    },
    {
     "name": "stdout",
     "output_type": "stream",
     "text": [
      "Trial 5 finished with value: 0.611 and parameters: {'kernel': 'rbf', 'C': 3.5931480715880646, 'gamma': 0.8774235326806479, 'tfidf': True, 'normalization': False, 'scaling': False}. Best is trial 3 with value: 0.601.\n"
     ]
    },
    {
     "name": "stderr",
     "output_type": "stream",
     "text": [
      "\u001b[32m[I 2023-03-02 02:35:19,571]\u001b[0m Trial 6 finished with value: 0.574 and parameters: {'kernel': 'rbf', 'C': 1.817476795238639, 'gamma': 0.4353331068442312, 'tfidf': False, 'normalization': False, 'scaling': False}. Best is trial 6 with value: 0.574.\u001b[0m\n"
     ]
    },
    {
     "name": "stdout",
     "output_type": "stream",
     "text": [
      "Trial 6 finished with value: 0.574 and parameters: {'kernel': 'rbf', 'C': 1.817476795238639, 'gamma': 0.4353331068442312, 'tfidf': False, 'normalization': False, 'scaling': False}. Best is trial 6 with value: 0.574.\n"
     ]
    },
    {
     "name": "stderr",
     "output_type": "stream",
     "text": [
      "\u001b[32m[I 2023-03-02 02:35:28,038]\u001b[0m Trial 7 finished with value: 0.539 and parameters: {'kernel': 'rbf', 'C': 8.266746610677888, 'gamma': 0.9732063755520685, 'tfidf': True, 'normalization': False, 'scaling': False}. Best is trial 7 with value: 0.539.\u001b[0m\n"
     ]
    },
    {
     "name": "stdout",
     "output_type": "stream",
     "text": [
      "Trial 7 finished with value: 0.539 and parameters: {'kernel': 'rbf', 'C': 8.266746610677888, 'gamma': 0.9732063755520685, 'tfidf': True, 'normalization': False, 'scaling': False}. Best is trial 7 with value: 0.539.\n"
     ]
    },
    {
     "name": "stderr",
     "output_type": "stream",
     "text": [
      "\u001b[32m[I 2023-03-02 02:47:30,668]\u001b[0m Trial 8 finished with value: 0.635 and parameters: {'kernel': 'linear', 'C': 1.7352685590467325, 'gamma': 0.6980379962810118, 'tfidf': True, 'normalization': False, 'scaling': True}. Best is trial 7 with value: 0.539.\u001b[0m\n"
     ]
    },
    {
     "name": "stdout",
     "output_type": "stream",
     "text": [
      "Trial 8 finished with value: 0.635 and parameters: {'kernel': 'linear', 'C': 1.7352685590467325, 'gamma': 0.6980379962810118, 'tfidf': True, 'normalization': False, 'scaling': True}. Best is trial 7 with value: 0.539.\n"
     ]
    },
    {
     "name": "stderr",
     "output_type": "stream",
     "text": [
      "\u001b[32m[I 2023-03-02 02:47:42,027]\u001b[0m Trial 9 finished with value: 0.608 and parameters: {'kernel': 'linear', 'C': 4.457717574442739, 'gamma': 0.6577037824295383, 'tfidf': False, 'normalization': True, 'scaling': False}. Best is trial 7 with value: 0.539.\u001b[0m\n"
     ]
    },
    {
     "name": "stdout",
     "output_type": "stream",
     "text": [
      "Trial 9 finished with value: 0.608 and parameters: {'kernel': 'linear', 'C': 4.457717574442739, 'gamma': 0.6577037824295383, 'tfidf': False, 'normalization': True, 'scaling': False}. Best is trial 7 with value: 0.539.\n"
     ]
    },
    {
     "name": "stderr",
     "output_type": "stream",
     "text": [
      "\u001b[32m[I 2023-03-02 02:47:50,010]\u001b[0m Trial 10 finished with value: 0.616 and parameters: {'kernel': 'rbf', 'C': 9.723763274950771, 'gamma': 0.9867944979303487, 'tfidf': True, 'normalization': False, 'scaling': False}. Best is trial 7 with value: 0.539.\u001b[0m\n"
     ]
    },
    {
     "name": "stdout",
     "output_type": "stream",
     "text": [
      "Trial 10 finished with value: 0.616 and parameters: {'kernel': 'rbf', 'C': 9.723763274950771, 'gamma': 0.9867944979303487, 'tfidf': True, 'normalization': False, 'scaling': False}. Best is trial 7 with value: 0.539.\n"
     ]
    },
    {
     "name": "stderr",
     "output_type": "stream",
     "text": [
      "\u001b[32m[I 2023-03-02 02:47:58,237]\u001b[0m Trial 11 finished with value: 0.578 and parameters: {'kernel': 'rbf', 'C': 2.5848136460887137, 'gamma': 0.3020654274653549, 'tfidf': False, 'normalization': False, 'scaling': False}. Best is trial 7 with value: 0.539.\u001b[0m\n"
     ]
    },
    {
     "name": "stdout",
     "output_type": "stream",
     "text": [
      "Trial 11 finished with value: 0.578 and parameters: {'kernel': 'rbf', 'C': 2.5848136460887137, 'gamma': 0.3020654274653549, 'tfidf': False, 'normalization': False, 'scaling': False}. Best is trial 7 with value: 0.539.\n"
     ]
    },
    {
     "name": "stderr",
     "output_type": "stream",
     "text": [
      "\u001b[32m[I 2023-03-02 02:48:06,042]\u001b[0m Trial 12 finished with value: 0.588 and parameters: {'kernel': 'rbf', 'C': 0.5813864600766818, 'gamma': 0.0788917613681106, 'tfidf': False, 'normalization': False, 'scaling': False}. Best is trial 7 with value: 0.539.\u001b[0m\n"
     ]
    },
    {
     "name": "stdout",
     "output_type": "stream",
     "text": [
      "Trial 12 finished with value: 0.588 and parameters: {'kernel': 'rbf', 'C': 0.5813864600766818, 'gamma': 0.0788917613681106, 'tfidf': False, 'normalization': False, 'scaling': False}. Best is trial 7 with value: 0.539.\n"
     ]
    },
    {
     "name": "stderr",
     "output_type": "stream",
     "text": [
      "\u001b[32m[I 2023-03-02 02:48:15,349]\u001b[0m Trial 13 finished with value: 0.7 and parameters: {'kernel': 'rbf', 'C': 6.088963343816186, 'gamma': 0.8235040653152463, 'tfidf': False, 'normalization': False, 'scaling': False}. Best is trial 7 with value: 0.539.\u001b[0m\n"
     ]
    },
    {
     "name": "stdout",
     "output_type": "stream",
     "text": [
      "Trial 13 finished with value: 0.7 and parameters: {'kernel': 'rbf', 'C': 6.088963343816186, 'gamma': 0.8235040653152463, 'tfidf': False, 'normalization': False, 'scaling': False}. Best is trial 7 with value: 0.539.\n"
     ]
    },
    {
     "name": "stderr",
     "output_type": "stream",
     "text": [
      "\u001b[32m[I 2023-03-02 02:48:23,786]\u001b[0m Trial 14 finished with value: 0.579 and parameters: {'kernel': 'rbf', 'C': 2.83931821627723, 'gamma': 0.5418771986866919, 'tfidf': False, 'normalization': False, 'scaling': False}. Best is trial 7 with value: 0.539.\u001b[0m\n"
     ]
    },
    {
     "name": "stdout",
     "output_type": "stream",
     "text": [
      "Trial 14 finished with value: 0.579 and parameters: {'kernel': 'rbf', 'C': 2.83931821627723, 'gamma': 0.5418771986866919, 'tfidf': False, 'normalization': False, 'scaling': False}. Best is trial 7 with value: 0.539.\n"
     ]
    },
    {
     "name": "stderr",
     "output_type": "stream",
     "text": [
      "\u001b[32m[I 2023-03-02 02:48:32,085]\u001b[0m Trial 15 finished with value: 0.597 and parameters: {'kernel': 'rbf', 'C': 9.965298260289376, 'gamma': 0.38826394148923266, 'tfidf': True, 'normalization': True, 'scaling': False}. Best is trial 7 with value: 0.539.\u001b[0m\n"
     ]
    },
    {
     "name": "stdout",
     "output_type": "stream",
     "text": [
      "Trial 15 finished with value: 0.597 and parameters: {'kernel': 'rbf', 'C': 9.965298260289376, 'gamma': 0.38826394148923266, 'tfidf': True, 'normalization': True, 'scaling': False}. Best is trial 7 with value: 0.539.\n"
     ]
    },
    {
     "name": "stderr",
     "output_type": "stream",
     "text": [
      "\u001b[32m[I 2023-03-02 02:48:40,146]\u001b[0m Trial 16 finished with value: 0.607 and parameters: {'kernel': 'rbf', 'C': 5.063590365700627, 'gamma': 0.5243217723071262, 'tfidf': True, 'normalization': False, 'scaling': False}. Best is trial 7 with value: 0.539.\u001b[0m\n"
     ]
    },
    {
     "name": "stdout",
     "output_type": "stream",
     "text": [
      "Trial 16 finished with value: 0.607 and parameters: {'kernel': 'rbf', 'C': 5.063590365700627, 'gamma': 0.5243217723071262, 'tfidf': True, 'normalization': False, 'scaling': False}. Best is trial 7 with value: 0.539.\n"
     ]
    },
    {
     "name": "stderr",
     "output_type": "stream",
     "text": [
      "\u001b[32m[I 2023-03-02 02:48:49,300]\u001b[0m Trial 17 finished with value: 0.625 and parameters: {'kernel': 'rbf', 'C': 8.154357956045613, 'gamma': 0.9786834553369809, 'tfidf': False, 'normalization': False, 'scaling': False}. Best is trial 7 with value: 0.539.\u001b[0m\n"
     ]
    },
    {
     "name": "stdout",
     "output_type": "stream",
     "text": [
      "Trial 17 finished with value: 0.625 and parameters: {'kernel': 'rbf', 'C': 8.154357956045613, 'gamma': 0.9786834553369809, 'tfidf': False, 'normalization': False, 'scaling': False}. Best is trial 7 with value: 0.539.\n"
     ]
    },
    {
     "name": "stderr",
     "output_type": "stream",
     "text": [
      "\u001b[32m[I 2023-03-02 02:48:58,289]\u001b[0m Trial 18 finished with value: 0.576 and parameters: {'kernel': 'rbf', 'C': 0.18543193598363206, 'gamma': 0.7929923390080663, 'tfidf': True, 'normalization': True, 'scaling': True}. Best is trial 7 with value: 0.539.\u001b[0m\n"
     ]
    },
    {
     "name": "stdout",
     "output_type": "stream",
     "text": [
      "Trial 18 finished with value: 0.576 and parameters: {'kernel': 'rbf', 'C': 0.18543193598363206, 'gamma': 0.7929923390080663, 'tfidf': True, 'normalization': True, 'scaling': True}. Best is trial 7 with value: 0.539.\n"
     ]
    },
    {
     "name": "stderr",
     "output_type": "stream",
     "text": [
      "\u001b[32m[I 2023-03-02 02:49:07,102]\u001b[0m Trial 19 finished with value: 0.606 and parameters: {'kernel': 'rbf', 'C': 1.8637469242704583, 'gamma': 0.585489005436695, 'tfidf': False, 'normalization': False, 'scaling': False}. Best is trial 7 with value: 0.539.\u001b[0m\n"
     ]
    },
    {
     "name": "stdout",
     "output_type": "stream",
     "text": [
      "Trial 19 finished with value: 0.606 and parameters: {'kernel': 'rbf', 'C': 1.8637469242704583, 'gamma': 0.585489005436695, 'tfidf': False, 'normalization': False, 'scaling': False}. Best is trial 7 with value: 0.539.\n"
     ]
    },
    {
     "name": "stderr",
     "output_type": "stream",
     "text": [
      "\u001b[32m[I 2023-03-02 02:49:15,198]\u001b[0m Trial 20 finished with value: 0.633 and parameters: {'kernel': 'rbf', 'C': 3.7167390551871504, 'gamma': 0.31969351832988957, 'tfidf': False, 'normalization': False, 'scaling': False}. Best is trial 7 with value: 0.539.\u001b[0m\n"
     ]
    },
    {
     "name": "stdout",
     "output_type": "stream",
     "text": [
      "Trial 20 finished with value: 0.633 and parameters: {'kernel': 'rbf', 'C': 3.7167390551871504, 'gamma': 0.31969351832988957, 'tfidf': False, 'normalization': False, 'scaling': False}. Best is trial 7 with value: 0.539.\n"
     ]
    },
    {
     "name": "stderr",
     "output_type": "stream",
     "text": [
      "\u001b[32m[I 2023-03-02 02:49:24,088]\u001b[0m Trial 21 finished with value: 0.644 and parameters: {'kernel': 'rbf', 'C': 0.31900542069268045, 'gamma': 0.802289761159284, 'tfidf': True, 'normalization': True, 'scaling': True}. Best is trial 7 with value: 0.539.\u001b[0m\n"
     ]
    },
    {
     "name": "stdout",
     "output_type": "stream",
     "text": [
      "Trial 21 finished with value: 0.644 and parameters: {'kernel': 'rbf', 'C': 0.31900542069268045, 'gamma': 0.802289761159284, 'tfidf': True, 'normalization': True, 'scaling': True}. Best is trial 7 with value: 0.539.\n"
     ]
    },
    {
     "name": "stderr",
     "output_type": "stream",
     "text": [
      "\u001b[32m[I 2023-03-02 02:49:33,289]\u001b[0m Trial 22 finished with value: 0.562 and parameters: {'kernel': 'rbf', 'C': 1.2121899236916738, 'gamma': 0.9094991906939753, 'tfidf': True, 'normalization': True, 'scaling': True}. Best is trial 7 with value: 0.539.\u001b[0m\n"
     ]
    },
    {
     "name": "stdout",
     "output_type": "stream",
     "text": [
      "Trial 22 finished with value: 0.562 and parameters: {'kernel': 'rbf', 'C': 1.2121899236916738, 'gamma': 0.9094991906939753, 'tfidf': True, 'normalization': True, 'scaling': True}. Best is trial 7 with value: 0.539.\n"
     ]
    },
    {
     "name": "stderr",
     "output_type": "stream",
     "text": [
      "\u001b[32m[I 2023-03-02 02:49:42,533]\u001b[0m Trial 23 finished with value: 0.635 and parameters: {'kernel': 'rbf', 'C': 1.3525282703663846, 'gamma': 0.9126512684754382, 'tfidf': True, 'normalization': True, 'scaling': True}. Best is trial 7 with value: 0.539.\u001b[0m\n"
     ]
    },
    {
     "name": "stdout",
     "output_type": "stream",
     "text": [
      "Trial 23 finished with value: 0.635 and parameters: {'kernel': 'rbf', 'C': 1.3525282703663846, 'gamma': 0.9126512684754382, 'tfidf': True, 'normalization': True, 'scaling': True}. Best is trial 7 with value: 0.539.\n"
     ]
    },
    {
     "name": "stderr",
     "output_type": "stream",
     "text": [
      "\u001b[32m[I 2023-03-02 02:49:51,941]\u001b[0m Trial 24 finished with value: 0.646 and parameters: {'kernel': 'rbf', 'C': 2.6050436275616224, 'gamma': 0.9207930931911099, 'tfidf': True, 'normalization': True, 'scaling': True}. Best is trial 7 with value: 0.539.\u001b[0m\n"
     ]
    },
    {
     "name": "stdout",
     "output_type": "stream",
     "text": [
      "Trial 24 finished with value: 0.646 and parameters: {'kernel': 'rbf', 'C': 2.6050436275616224, 'gamma': 0.9207930931911099, 'tfidf': True, 'normalization': True, 'scaling': True}. Best is trial 7 with value: 0.539.\n"
     ]
    },
    {
     "name": "stderr",
     "output_type": "stream",
     "text": [
      "\u001b[32m[I 2023-03-02 02:50:00,902]\u001b[0m Trial 25 finished with value: 0.573 and parameters: {'kernel': 'rbf', 'C': 1.1820126126000907, 'gamma': 0.763908264757172, 'tfidf': True, 'normalization': True, 'scaling': True}. Best is trial 7 with value: 0.539.\u001b[0m\n"
     ]
    },
    {
     "name": "stdout",
     "output_type": "stream",
     "text": [
      "Trial 25 finished with value: 0.573 and parameters: {'kernel': 'rbf', 'C': 1.1820126126000907, 'gamma': 0.763908264757172, 'tfidf': True, 'normalization': True, 'scaling': True}. Best is trial 7 with value: 0.539.\n"
     ]
    },
    {
     "name": "stderr",
     "output_type": "stream",
     "text": [
      "\u001b[32m[I 2023-03-02 02:58:07,918]\u001b[0m Trial 26 finished with value: 0.668 and parameters: {'kernel': 'linear', 'C': 1.1402239894427317, 'gamma': 0.9821793539363138, 'tfidf': True, 'normalization': True, 'scaling': True}. Best is trial 7 with value: 0.539.\u001b[0m\n"
     ]
    },
    {
     "name": "stdout",
     "output_type": "stream",
     "text": [
      "Trial 26 finished with value: 0.668 and parameters: {'kernel': 'linear', 'C': 1.1402239894427317, 'gamma': 0.9821793539363138, 'tfidf': True, 'normalization': True, 'scaling': True}. Best is trial 7 with value: 0.539.\n"
     ]
    },
    {
     "name": "stderr",
     "output_type": "stream",
     "text": [
      "\u001b[32m[I 2023-03-02 02:58:17,195]\u001b[0m Trial 27 finished with value: 0.609 and parameters: {'kernel': 'rbf', 'C': 2.1485548223856084, 'gamma': 0.7566541093417758, 'tfidf': True, 'normalization': True, 'scaling': True}. Best is trial 7 with value: 0.539.\u001b[0m\n"
     ]
    },
    {
     "name": "stdout",
     "output_type": "stream",
     "text": [
      "Trial 27 finished with value: 0.609 and parameters: {'kernel': 'rbf', 'C': 2.1485548223856084, 'gamma': 0.7566541093417758, 'tfidf': True, 'normalization': True, 'scaling': True}. Best is trial 7 with value: 0.539.\n"
     ]
    },
    {
     "name": "stderr",
     "output_type": "stream",
     "text": [
      "\u001b[32m[I 2023-03-02 02:58:26,356]\u001b[0m Trial 28 finished with value: 0.59 and parameters: {'kernel': 'rbf', 'C': 1.0846775044210684, 'gamma': 0.8623855205986186, 'tfidf': True, 'normalization': True, 'scaling': True}. Best is trial 7 with value: 0.539.\u001b[0m\n"
     ]
    },
    {
     "name": "stdout",
     "output_type": "stream",
     "text": [
      "Trial 28 finished with value: 0.59 and parameters: {'kernel': 'rbf', 'C': 1.0846775044210684, 'gamma': 0.8623855205986186, 'tfidf': True, 'normalization': True, 'scaling': True}. Best is trial 7 with value: 0.539.\n"
     ]
    },
    {
     "name": "stderr",
     "output_type": "stream",
     "text": [
      "\u001b[32m[I 2023-03-02 02:58:35,776]\u001b[0m Trial 29 finished with value: 0.643 and parameters: {'kernel': 'rbf', 'C': 3.220802399639031, 'gamma': 0.8942462335733705, 'tfidf': True, 'normalization': True, 'scaling': True}. Best is trial 7 with value: 0.539.\u001b[0m\n"
     ]
    },
    {
     "name": "stdout",
     "output_type": "stream",
     "text": [
      "Trial 29 finished with value: 0.643 and parameters: {'kernel': 'rbf', 'C': 3.220802399639031, 'gamma': 0.8942462335733705, 'tfidf': True, 'normalization': True, 'scaling': True}. Best is trial 7 with value: 0.539.\n"
     ]
    },
    {
     "name": "stderr",
     "output_type": "stream",
     "text": [
      "\u001b[32m[I 2023-03-02 02:58:44,887]\u001b[0m Trial 30 finished with value: 0.625 and parameters: {'kernel': 'rbf', 'C': 2.2359220751804694, 'gamma': 0.7591999578584889, 'tfidf': True, 'normalization': True, 'scaling': True}. Best is trial 7 with value: 0.539.\u001b[0m\n"
     ]
    },
    {
     "name": "stdout",
     "output_type": "stream",
     "text": [
      "Trial 30 finished with value: 0.625 and parameters: {'kernel': 'rbf', 'C': 2.2359220751804694, 'gamma': 0.7591999578584889, 'tfidf': True, 'normalization': True, 'scaling': True}. Best is trial 7 with value: 0.539.\n"
     ]
    },
    {
     "name": "stderr",
     "output_type": "stream",
     "text": [
      "\u001b[32m[I 2023-03-02 02:58:54,084]\u001b[0m Trial 31 finished with value: 0.631 and parameters: {'kernel': 'rbf', 'C': 1.5823875627931132, 'gamma': 0.9484421700541625, 'tfidf': True, 'normalization': True, 'scaling': True}. Best is trial 7 with value: 0.539.\u001b[0m\n"
     ]
    },
    {
     "name": "stdout",
     "output_type": "stream",
     "text": [
      "Trial 31 finished with value: 0.631 and parameters: {'kernel': 'rbf', 'C': 1.5823875627931132, 'gamma': 0.9484421700541625, 'tfidf': True, 'normalization': True, 'scaling': True}. Best is trial 7 with value: 0.539.\n"
     ]
    },
    {
     "name": "stderr",
     "output_type": "stream",
     "text": [
      "\u001b[32m[I 2023-03-02 02:59:03,155]\u001b[0m Trial 32 finished with value: 0.589 and parameters: {'kernel': 'rbf', 'C': 0.902436505094099, 'gamma': 0.8344989353513164, 'tfidf': False, 'normalization': True, 'scaling': True}. Best is trial 7 with value: 0.539.\u001b[0m\n"
     ]
    },
    {
     "name": "stdout",
     "output_type": "stream",
     "text": [
      "Trial 32 finished with value: 0.589 and parameters: {'kernel': 'rbf', 'C': 0.902436505094099, 'gamma': 0.8344989353513164, 'tfidf': False, 'normalization': True, 'scaling': True}. Best is trial 7 with value: 0.539.\n"
     ]
    },
    {
     "name": "stderr",
     "output_type": "stream",
     "text": [
      "\u001b[32m[I 2023-03-02 02:59:10,788]\u001b[0m Trial 33 finished with value: 0.584 and parameters: {'kernel': 'rbf', 'C': 0.19125379834050782, 'gamma': 0.9054885966893408, 'tfidf': True, 'normalization': False, 'scaling': False}. Best is trial 7 with value: 0.539.\u001b[0m\n"
     ]
    },
    {
     "name": "stdout",
     "output_type": "stream",
     "text": [
      "Trial 33 finished with value: 0.584 and parameters: {'kernel': 'rbf', 'C': 0.19125379834050782, 'gamma': 0.9054885966893408, 'tfidf': True, 'normalization': False, 'scaling': False}. Best is trial 7 with value: 0.539.\n"
     ]
    },
    {
     "name": "stderr",
     "output_type": "stream",
     "text": [
      "\u001b[32m[I 2023-03-02 03:06:17,795]\u001b[0m Trial 34 finished with value: 0.656 and parameters: {'kernel': 'linear', 'C': 1.5097502032425942, 'gamma': 0.673151458475344, 'tfidf': True, 'normalization': False, 'scaling': True}. Best is trial 7 with value: 0.539.\u001b[0m\n"
     ]
    },
    {
     "name": "stdout",
     "output_type": "stream",
     "text": [
      "Trial 34 finished with value: 0.656 and parameters: {'kernel': 'linear', 'C': 1.5097502032425942, 'gamma': 0.673151458475344, 'tfidf': True, 'normalization': False, 'scaling': True}. Best is trial 7 with value: 0.539.\n"
     ]
    },
    {
     "name": "stderr",
     "output_type": "stream",
     "text": [
      "\u001b[32m[I 2023-03-02 03:06:25,479]\u001b[0m Trial 35 finished with value: 0.669 and parameters: {'kernel': 'rbf', 'C': 0.8420120266251017, 'gamma': 0.4668291132404676, 'tfidf': True, 'normalization': True, 'scaling': False}. Best is trial 7 with value: 0.539.\u001b[0m\n"
     ]
    },
    {
     "name": "stdout",
     "output_type": "stream",
     "text": [
      "Trial 35 finished with value: 0.669 and parameters: {'kernel': 'rbf', 'C': 0.8420120266251017, 'gamma': 0.4668291132404676, 'tfidf': True, 'normalization': True, 'scaling': False}. Best is trial 7 with value: 0.539.\n"
     ]
    },
    {
     "name": "stderr",
     "output_type": "stream",
     "text": [
      "\u001b[32m[I 2023-03-02 03:17:40,970]\u001b[0m Trial 36 finished with value: 0.642 and parameters: {'kernel': 'linear', 'C': 2.2084255539493887, 'gamma': 0.9955202474014198, 'tfidf': False, 'normalization': False, 'scaling': True}. Best is trial 7 with value: 0.539.\u001b[0m\n"
     ]
    },
    {
     "name": "stdout",
     "output_type": "stream",
     "text": [
      "Trial 36 finished with value: 0.642 and parameters: {'kernel': 'linear', 'C': 2.2084255539493887, 'gamma': 0.9955202474014198, 'tfidf': False, 'normalization': False, 'scaling': True}. Best is trial 7 with value: 0.539.\n"
     ]
    },
    {
     "name": "stderr",
     "output_type": "stream",
     "text": [
      "\u001b[32m[I 2023-03-02 03:17:48,926]\u001b[0m Trial 37 finished with value: 0.621 and parameters: {'kernel': 'rbf', 'C': 3.035197015066412, 'gamma': 0.7246579017306212, 'tfidf': True, 'normalization': False, 'scaling': False}. Best is trial 7 with value: 0.539.\u001b[0m\n"
     ]
    },
    {
     "name": "stdout",
     "output_type": "stream",
     "text": [
      "Trial 37 finished with value: 0.621 and parameters: {'kernel': 'rbf', 'C': 3.035197015066412, 'gamma': 0.7246579017306212, 'tfidf': True, 'normalization': False, 'scaling': False}. Best is trial 7 with value: 0.539.\n"
     ]
    },
    {
     "name": "stderr",
     "output_type": "stream",
     "text": [
      "\u001b[32m[I 2023-03-02 03:17:58,186]\u001b[0m Trial 38 finished with value: 0.619 and parameters: {'kernel': 'rbf', 'C': 1.6311158291122412, 'gamma': 0.853774437592896, 'tfidf': True, 'normalization': True, 'scaling': True}. Best is trial 7 with value: 0.539.\u001b[0m\n"
     ]
    },
    {
     "name": "stdout",
     "output_type": "stream",
     "text": [
      "Trial 38 finished with value: 0.619 and parameters: {'kernel': 'rbf', 'C': 1.6311158291122412, 'gamma': 0.853774437592896, 'tfidf': True, 'normalization': True, 'scaling': True}. Best is trial 7 with value: 0.539.\n"
     ]
    },
    {
     "name": "stderr",
     "output_type": "stream",
     "text": [
      "\u001b[32m[I 2023-03-02 03:18:15,870]\u001b[0m Trial 39 finished with value: 0.633 and parameters: {'kernel': 'linear', 'C': 0.7549664510757861, 'gamma': 0.6256739621022606, 'tfidf': False, 'normalization': False, 'scaling': False}. Best is trial 7 with value: 0.539.\u001b[0m\n"
     ]
    },
    {
     "name": "stdout",
     "output_type": "stream",
     "text": [
      "Trial 39 finished with value: 0.633 and parameters: {'kernel': 'linear', 'C': 0.7549664510757861, 'gamma': 0.6256739621022606, 'tfidf': False, 'normalization': False, 'scaling': False}. Best is trial 7 with value: 0.539.\n"
     ]
    }
   ],
   "source": [
    "def objective(trial):\n",
    "\n",
    "    kernel = trial.suggest_categorical(\"kernel\", [\"rbf\", \"linear\"])\n",
    "    C = trial.suggest_float(\"C\", 0.1, 10.0)\n",
    "    gamma = trial.suggest_float(\"gamma\", 0.01, 1)\n",
    "    tfidf = trial.suggest_categorical(\"tfidf\", [True, False])\n",
    "    normalization = trial.suggest_categorical(\"normalization\", [True, False])\n",
    "    scaling = trial.suggest_categorical(\"scaling\", [True, False])\n",
    "\n",
    "    regressor = SVR(kernel=kernel, C=C, gamma=gamma)\n",
    "    score = sklearn_regressors.evaluate_regressor(\n",
    "        regressor=regressor,\n",
    "        X=X_train[:10000],\n",
    "        y=y_train[:10000],\n",
    "        tfidf=tfidf,\n",
    "        normalization=normalization, \n",
    "        scaling=scaling\n",
    "    )\n",
    "\n",
    "    return score\n",
    "\n",
    "study.optimize(objective, n_trials=40)"
   ]
  },
  {
   "cell_type": "code",
   "execution_count": 9,
   "metadata": {
    "id": "E4CUCnjypjBx"
   },
   "outputs": [
    {
     "data": {
      "text/html": [
       "<div>\n",
       "<style scoped>\n",
       "    .dataframe tbody tr th:only-of-type {\n",
       "        vertical-align: middle;\n",
       "    }\n",
       "\n",
       "    .dataframe tbody tr th {\n",
       "        vertical-align: top;\n",
       "    }\n",
       "\n",
       "    .dataframe thead th {\n",
       "        text-align: right;\n",
       "    }\n",
       "</style>\n",
       "<table border=\"1\" class=\"dataframe\">\n",
       "  <thead>\n",
       "    <tr style=\"text-align: right;\">\n",
       "      <th></th>\n",
       "      <th>number</th>\n",
       "      <th>value</th>\n",
       "      <th>datetime_start</th>\n",
       "      <th>datetime_complete</th>\n",
       "      <th>duration</th>\n",
       "      <th>params_C</th>\n",
       "      <th>params_gamma</th>\n",
       "      <th>params_kernel</th>\n",
       "      <th>params_normalization</th>\n",
       "      <th>params_scaling</th>\n",
       "      <th>params_tfidf</th>\n",
       "      <th>state</th>\n",
       "    </tr>\n",
       "  </thead>\n",
       "  <tbody>\n",
       "    <tr>\n",
       "      <th>7</th>\n",
       "      <td>7</td>\n",
       "      <td>0.539</td>\n",
       "      <td>2023-03-02 02:35:19.576094</td>\n",
       "      <td>2023-03-02 02:35:28.025263</td>\n",
       "      <td>0 days 00:00:08.449169</td>\n",
       "      <td>8.266747</td>\n",
       "      <td>0.973206</td>\n",
       "      <td>rbf</td>\n",
       "      <td>False</td>\n",
       "      <td>False</td>\n",
       "      <td>True</td>\n",
       "      <td>COMPLETE</td>\n",
       "    </tr>\n",
       "    <tr>\n",
       "      <th>22</th>\n",
       "      <td>22</td>\n",
       "      <td>0.562</td>\n",
       "      <td>2023-03-02 02:49:24.099901</td>\n",
       "      <td>2023-03-02 02:49:33.275564</td>\n",
       "      <td>0 days 00:00:09.175663</td>\n",
       "      <td>1.212190</td>\n",
       "      <td>0.909499</td>\n",
       "      <td>rbf</td>\n",
       "      <td>True</td>\n",
       "      <td>True</td>\n",
       "      <td>True</td>\n",
       "      <td>COMPLETE</td>\n",
       "    </tr>\n",
       "    <tr>\n",
       "      <th>25</th>\n",
       "      <td>25</td>\n",
       "      <td>0.573</td>\n",
       "      <td>2023-03-02 02:49:51.944888</td>\n",
       "      <td>2023-03-02 02:50:00.889523</td>\n",
       "      <td>0 days 00:00:08.944635</td>\n",
       "      <td>1.182013</td>\n",
       "      <td>0.763908</td>\n",
       "      <td>rbf</td>\n",
       "      <td>True</td>\n",
       "      <td>True</td>\n",
       "      <td>True</td>\n",
       "      <td>COMPLETE</td>\n",
       "    </tr>\n",
       "    <tr>\n",
       "      <th>6</th>\n",
       "      <td>6</td>\n",
       "      <td>0.574</td>\n",
       "      <td>2023-03-02 02:35:10.840927</td>\n",
       "      <td>2023-03-02 02:35:19.558089</td>\n",
       "      <td>0 days 00:00:08.717162</td>\n",
       "      <td>1.817477</td>\n",
       "      <td>0.435333</td>\n",
       "      <td>rbf</td>\n",
       "      <td>False</td>\n",
       "      <td>False</td>\n",
       "      <td>False</td>\n",
       "      <td>COMPLETE</td>\n",
       "    </tr>\n",
       "    <tr>\n",
       "      <th>18</th>\n",
       "      <td>18</td>\n",
       "      <td>0.576</td>\n",
       "      <td>2023-03-02 02:48:49.304172</td>\n",
       "      <td>2023-03-02 02:48:58.274334</td>\n",
       "      <td>0 days 00:00:08.970162</td>\n",
       "      <td>0.185432</td>\n",
       "      <td>0.792992</td>\n",
       "      <td>rbf</td>\n",
       "      <td>True</td>\n",
       "      <td>True</td>\n",
       "      <td>True</td>\n",
       "      <td>COMPLETE</td>\n",
       "    </tr>\n",
       "    <tr>\n",
       "      <th>11</th>\n",
       "      <td>11</td>\n",
       "      <td>0.578</td>\n",
       "      <td>2023-03-02 02:47:50.014429</td>\n",
       "      <td>2023-03-02 02:47:58.224430</td>\n",
       "      <td>0 days 00:00:08.210001</td>\n",
       "      <td>2.584814</td>\n",
       "      <td>0.302065</td>\n",
       "      <td>rbf</td>\n",
       "      <td>False</td>\n",
       "      <td>False</td>\n",
       "      <td>False</td>\n",
       "      <td>COMPLETE</td>\n",
       "    </tr>\n",
       "    <tr>\n",
       "      <th>14</th>\n",
       "      <td>14</td>\n",
       "      <td>0.579</td>\n",
       "      <td>2023-03-02 02:48:15.353429</td>\n",
       "      <td>2023-03-02 02:48:23.773135</td>\n",
       "      <td>0 days 00:00:08.419706</td>\n",
       "      <td>2.839318</td>\n",
       "      <td>0.541877</td>\n",
       "      <td>rbf</td>\n",
       "      <td>False</td>\n",
       "      <td>False</td>\n",
       "      <td>False</td>\n",
       "      <td>COMPLETE</td>\n",
       "    </tr>\n",
       "    <tr>\n",
       "      <th>33</th>\n",
       "      <td>33</td>\n",
       "      <td>0.584</td>\n",
       "      <td>2023-03-02 02:59:03.158829</td>\n",
       "      <td>2023-03-02 02:59:10.775366</td>\n",
       "      <td>0 days 00:00:07.616537</td>\n",
       "      <td>0.191254</td>\n",
       "      <td>0.905489</td>\n",
       "      <td>rbf</td>\n",
       "      <td>False</td>\n",
       "      <td>False</td>\n",
       "      <td>True</td>\n",
       "      <td>COMPLETE</td>\n",
       "    </tr>\n",
       "    <tr>\n",
       "      <th>12</th>\n",
       "      <td>12</td>\n",
       "      <td>0.588</td>\n",
       "      <td>2023-03-02 02:47:58.241428</td>\n",
       "      <td>2023-03-02 02:48:06.029428</td>\n",
       "      <td>0 days 00:00:07.788000</td>\n",
       "      <td>0.581386</td>\n",
       "      <td>0.078892</td>\n",
       "      <td>rbf</td>\n",
       "      <td>False</td>\n",
       "      <td>False</td>\n",
       "      <td>False</td>\n",
       "      <td>COMPLETE</td>\n",
       "    </tr>\n",
       "    <tr>\n",
       "      <th>32</th>\n",
       "      <td>32</td>\n",
       "      <td>0.589</td>\n",
       "      <td>2023-03-02 02:58:54.087201</td>\n",
       "      <td>2023-03-02 02:59:03.142411</td>\n",
       "      <td>0 days 00:00:09.055210</td>\n",
       "      <td>0.902437</td>\n",
       "      <td>0.834499</td>\n",
       "      <td>rbf</td>\n",
       "      <td>True</td>\n",
       "      <td>True</td>\n",
       "      <td>False</td>\n",
       "      <td>COMPLETE</td>\n",
       "    </tr>\n",
       "  </tbody>\n",
       "</table>\n",
       "</div>"
      ],
      "text/plain": [
       "    number  value             datetime_start          datetime_complete  \\\n",
       "7        7  0.539 2023-03-02 02:35:19.576094 2023-03-02 02:35:28.025263   \n",
       "22      22  0.562 2023-03-02 02:49:24.099901 2023-03-02 02:49:33.275564   \n",
       "25      25  0.573 2023-03-02 02:49:51.944888 2023-03-02 02:50:00.889523   \n",
       "6        6  0.574 2023-03-02 02:35:10.840927 2023-03-02 02:35:19.558089   \n",
       "18      18  0.576 2023-03-02 02:48:49.304172 2023-03-02 02:48:58.274334   \n",
       "11      11  0.578 2023-03-02 02:47:50.014429 2023-03-02 02:47:58.224430   \n",
       "14      14  0.579 2023-03-02 02:48:15.353429 2023-03-02 02:48:23.773135   \n",
       "33      33  0.584 2023-03-02 02:59:03.158829 2023-03-02 02:59:10.775366   \n",
       "12      12  0.588 2023-03-02 02:47:58.241428 2023-03-02 02:48:06.029428   \n",
       "32      32  0.589 2023-03-02 02:58:54.087201 2023-03-02 02:59:03.142411   \n",
       "\n",
       "                 duration  params_C  params_gamma params_kernel  \\\n",
       "7  0 days 00:00:08.449169  8.266747      0.973206           rbf   \n",
       "22 0 days 00:00:09.175663  1.212190      0.909499           rbf   \n",
       "25 0 days 00:00:08.944635  1.182013      0.763908           rbf   \n",
       "6  0 days 00:00:08.717162  1.817477      0.435333           rbf   \n",
       "18 0 days 00:00:08.970162  0.185432      0.792992           rbf   \n",
       "11 0 days 00:00:08.210001  2.584814      0.302065           rbf   \n",
       "14 0 days 00:00:08.419706  2.839318      0.541877           rbf   \n",
       "33 0 days 00:00:07.616537  0.191254      0.905489           rbf   \n",
       "12 0 days 00:00:07.788000  0.581386      0.078892           rbf   \n",
       "32 0 days 00:00:09.055210  0.902437      0.834499           rbf   \n",
       "\n",
       "    params_normalization  params_scaling  params_tfidf     state  \n",
       "7                  False           False          True  COMPLETE  \n",
       "22                  True            True          True  COMPLETE  \n",
       "25                  True            True          True  COMPLETE  \n",
       "6                  False           False         False  COMPLETE  \n",
       "18                  True            True          True  COMPLETE  \n",
       "11                 False           False         False  COMPLETE  \n",
       "14                 False           False         False  COMPLETE  \n",
       "33                 False           False          True  COMPLETE  \n",
       "12                 False           False         False  COMPLETE  \n",
       "32                  True            True         False  COMPLETE  "
      ]
     },
     "execution_count": 9,
     "metadata": {},
     "output_type": "execute_result"
    }
   ],
   "source": [
    "study.trials_dataframe().sort_values(by=\"value\").head(10)"
   ]
  },
  {
   "cell_type": "code",
   "execution_count": 10,
   "metadata": {
    "id": "ldt9BKzppjBx"
   },
   "outputs": [
    {
     "name": "stdout",
     "output_type": "stream",
     "text": [
      "Best SVR regression params: {'C': 8.266746610677888, 'gamma': 0.9732063755520685, 'kernel': 'rbf', 'normalization': False, 'scaling': False, 'tfidf': True}, achieving val RMSE: 0.539\n"
     ]
    }
   ],
   "source": [
    "print(f\"Best SVR regression params: {study.best_params}, achieving val RMSE: {study.best_value}\")"
   ]
  },
  {
   "cell_type": "code",
   "execution_count": 11,
   "metadata": {},
   "outputs": [],
   "source": [
    "save = True\n",
    "load = False\n",
    "\n",
    "regressor_params = {\"kernel\": \"rbf\", \"C\": 8.3, \"gamma\": 0.97}\n",
    "pipe_params = {\n",
    "    'normalization': False,\n",
    "    'scaling': False,\n",
    "    'tfidf': True,\n",
    "}\n",
    "\n",
    "sample = 50000\n",
    "\n",
    "if load:\n",
    "    pipe = joblib.load(f\"{exp_dir}/svr/pipe\")\n",
    "else:\n",
    "    regressor = SVR(**regressor_params)\n",
    "    pipe = sklearn_regressors.train_pipe(regressor, X_train[:sample], y_train[:sample], **pipe_params)\n",
    "    if save:\n",
    "        additional_attributes = {\n",
    "            \"regressor_params\": regressor_params,\n",
    "            \"pipe_params\": pipe_params,\n",
    "        }\n",
    "\n",
    "        joblib.dump(pipe, f\"{exp_dir}/svr/pipe\")\n",
    "        with open(f\"{exp_dir}/svr/additional_attributes.json\", \"w\") as file:\n",
    "            json.dump(additional_attributes, file, indent=4)"
   ]
  },
  {
   "cell_type": "code",
   "execution_count": 12,
   "metadata": {},
   "outputs": [
    {
     "name": "stdout",
     "output_type": "stream",
     "text": [
      "MSE: 0.36\n",
      "MAE: 0.249\n"
     ]
    }
   ],
   "source": [
    "test_bbs = np.array([\" \".join(bb) for bb in test_df.bb.tolist()])\n",
    "test_preds = pipe.predict(test_bbs)\n",
    "true_energies = test_df.energy.values\n",
    "\n",
    "median = np.median(true_energies)\n",
    "std = np.std(true_energies)\n",
    "mse = round(mean_squared_error(true_energies, test_preds), 3)\n",
    "mae = round(mean_absolute_error(true_energies, test_preds), 3)\n",
    "\n",
    "print(f\"MSE: {mse}\")\n",
    "print(f\"MAE: {mae}\")"
   ]
  },
  {
   "cell_type": "markdown",
   "metadata": {
    "id": "niRzqRbiqktt"
   },
   "source": [
    "## Hist Gradient Boosting Regressor"
   ]
  },
  {
   "cell_type": "markdown",
   "metadata": {
    "id": "TqDc4QTTqp-b"
   },
   "source": [
    "Gradient Boosting regression for large datasets. Tune:\n",
    "* learning rate\n",
    "* max leaf nodes\n",
    "* l2 regularization"
   ]
  },
  {
   "cell_type": "code",
   "execution_count": 16,
   "metadata": {
    "id": "N1XDTSmfqxFl"
   },
   "outputs": [
    {
     "name": "stderr",
     "output_type": "stream",
     "text": [
      "\u001b[32m[I 2023-02-20 18:32:50,351]\u001b[0m A new study created in RDB with name: HistGBoost-regression\u001b[0m\n"
     ]
    },
    {
     "name": "stdout",
     "output_type": "stream",
     "text": [
      "A new study created in RDB with name: HistGBoost-regression\n"
     ]
    }
   ],
   "source": [
    "study = optuna.create_study(study_name=\"HistGBoost-regression\", storage=storage_name, load_if_exists=True, direction=\"minimize\")\n",
    "study.set_user_attr(\"Loss\", \"RMSE\")"
   ]
  },
  {
   "cell_type": "code",
   "execution_count": null,
   "metadata": {},
   "outputs": [],
   "source": [
    "def objective(trial):\n",
    "\n",
    "    learning_rate = trial.suggest_float(\"learning_rate\", 1e-4, 0.5)\n",
    "    max_leaf_nodes = trial.suggest_int(\"max_leaf_nodes\", 10, 60)\n",
    "    l2_regularization = trial.suggest_float(\"l2_regularization\", 0.1, 10.0)\n",
    "    tfidf = trial.suggest_categorical(\"tfidf\", [True, False])\n",
    "    normalization = trial.suggest_categorical(\"normalization\", [True, False])\n",
    "    scaling = trial.suggest_categorical(\"scaling\", [True, False])\n",
    "\n",
    "    regressor = HistGradientBoostingRegressor(learning_rate=learning_rate, max_leaf_nodes=max_leaf_nodes, l2_regularization=l2_regularization)\n",
    "    score = sklearn_regressors.evaluate_regressor(\n",
    "        regressor=regressor,\n",
    "        X=X_train,\n",
    "        y=y_train,\n",
    "        tfidf=tfidf,\n",
    "        normalization=normalization, \n",
    "        scaling=scaling,\n",
    "        requires_dense=True,\n",
    "    )\n",
    "\n",
    "    return score\n",
    "\n",
    "study.optimize(objective, n_trials=40)"
   ]
  },
  {
   "cell_type": "code",
   "execution_count": 20,
   "metadata": {
    "id": "y0rvRiP-qxFm"
   },
   "outputs": [
    {
     "data": {
      "text/html": [
       "<div>\n",
       "<style scoped>\n",
       "    .dataframe tbody tr th:only-of-type {\n",
       "        vertical-align: middle;\n",
       "    }\n",
       "\n",
       "    .dataframe tbody tr th {\n",
       "        vertical-align: top;\n",
       "    }\n",
       "\n",
       "    .dataframe thead th {\n",
       "        text-align: right;\n",
       "    }\n",
       "</style>\n",
       "<table border=\"1\" class=\"dataframe\">\n",
       "  <thead>\n",
       "    <tr style=\"text-align: right;\">\n",
       "      <th></th>\n",
       "      <th>number</th>\n",
       "      <th>value</th>\n",
       "      <th>datetime_start</th>\n",
       "      <th>datetime_complete</th>\n",
       "      <th>duration</th>\n",
       "      <th>params_l2_regularization</th>\n",
       "      <th>params_learning_rate</th>\n",
       "      <th>params_max_leaf_nodes</th>\n",
       "      <th>params_normalization</th>\n",
       "      <th>params_scaling</th>\n",
       "      <th>params_tfidf</th>\n",
       "      <th>state</th>\n",
       "    </tr>\n",
       "  </thead>\n",
       "  <tbody>\n",
       "    <tr>\n",
       "      <th>27</th>\n",
       "      <td>27</td>\n",
       "      <td>1.159</td>\n",
       "      <td>2023-02-20 18:52:59.665193</td>\n",
       "      <td>2023-02-20 18:53:17.724195</td>\n",
       "      <td>0 days 00:00:18.059002</td>\n",
       "      <td>2.744975</td>\n",
       "      <td>0.035091</td>\n",
       "      <td>11</td>\n",
       "      <td>False</td>\n",
       "      <td>False</td>\n",
       "      <td>False</td>\n",
       "      <td>COMPLETE</td>\n",
       "    </tr>\n",
       "    <tr>\n",
       "      <th>0</th>\n",
       "      <td>0</td>\n",
       "      <td>1.166</td>\n",
       "      <td>2023-02-20 18:32:54.411005</td>\n",
       "      <td>2023-02-20 18:33:35.052018</td>\n",
       "      <td>0 days 00:00:40.641013</td>\n",
       "      <td>0.604280</td>\n",
       "      <td>0.017179</td>\n",
       "      <td>25</td>\n",
       "      <td>False</td>\n",
       "      <td>False</td>\n",
       "      <td>False</td>\n",
       "      <td>COMPLETE</td>\n",
       "    </tr>\n",
       "    <tr>\n",
       "      <th>23</th>\n",
       "      <td>23</td>\n",
       "      <td>1.171</td>\n",
       "      <td>2023-02-20 18:50:36.498693</td>\n",
       "      <td>2023-02-20 18:51:10.542193</td>\n",
       "      <td>0 days 00:00:34.043500</td>\n",
       "      <td>3.965629</td>\n",
       "      <td>0.122618</td>\n",
       "      <td>21</td>\n",
       "      <td>False</td>\n",
       "      <td>False</td>\n",
       "      <td>False</td>\n",
       "      <td>COMPLETE</td>\n",
       "    </tr>\n",
       "    <tr>\n",
       "      <th>17</th>\n",
       "      <td>17</td>\n",
       "      <td>1.176</td>\n",
       "      <td>2023-02-20 18:46:51.490254</td>\n",
       "      <td>2023-02-20 18:47:23.308750</td>\n",
       "      <td>0 days 00:00:31.818496</td>\n",
       "      <td>9.630193</td>\n",
       "      <td>0.102127</td>\n",
       "      <td>20</td>\n",
       "      <td>False</td>\n",
       "      <td>False</td>\n",
       "      <td>False</td>\n",
       "      <td>COMPLETE</td>\n",
       "    </tr>\n",
       "    <tr>\n",
       "      <th>12</th>\n",
       "      <td>12</td>\n",
       "      <td>1.193</td>\n",
       "      <td>2023-02-20 18:43:53.610250</td>\n",
       "      <td>2023-02-20 18:44:29.325749</td>\n",
       "      <td>0 days 00:00:35.715499</td>\n",
       "      <td>5.683796</td>\n",
       "      <td>0.296192</td>\n",
       "      <td>23</td>\n",
       "      <td>False</td>\n",
       "      <td>False</td>\n",
       "      <td>False</td>\n",
       "      <td>COMPLETE</td>\n",
       "    </tr>\n",
       "    <tr>\n",
       "      <th>22</th>\n",
       "      <td>22</td>\n",
       "      <td>1.208</td>\n",
       "      <td>2023-02-20 18:49:51.526250</td>\n",
       "      <td>2023-02-20 18:50:36.479193</td>\n",
       "      <td>0 days 00:00:44.952943</td>\n",
       "      <td>5.153518</td>\n",
       "      <td>0.061101</td>\n",
       "      <td>28</td>\n",
       "      <td>False</td>\n",
       "      <td>False</td>\n",
       "      <td>False</td>\n",
       "      <td>COMPLETE</td>\n",
       "    </tr>\n",
       "    <tr>\n",
       "      <th>24</th>\n",
       "      <td>24</td>\n",
       "      <td>1.210</td>\n",
       "      <td>2023-02-20 18:51:10.562693</td>\n",
       "      <td>2023-02-20 18:51:32.506193</td>\n",
       "      <td>0 days 00:00:21.943500</td>\n",
       "      <td>1.272847</td>\n",
       "      <td>0.126748</td>\n",
       "      <td>14</td>\n",
       "      <td>False</td>\n",
       "      <td>False</td>\n",
       "      <td>False</td>\n",
       "      <td>COMPLETE</td>\n",
       "    </tr>\n",
       "    <tr>\n",
       "      <th>33</th>\n",
       "      <td>33</td>\n",
       "      <td>1.222</td>\n",
       "      <td>2023-02-20 18:55:34.949193</td>\n",
       "      <td>2023-02-20 18:56:00.773694</td>\n",
       "      <td>0 days 00:00:25.824501</td>\n",
       "      <td>4.295648</td>\n",
       "      <td>0.084432</td>\n",
       "      <td>16</td>\n",
       "      <td>False</td>\n",
       "      <td>False</td>\n",
       "      <td>False</td>\n",
       "      <td>COMPLETE</td>\n",
       "    </tr>\n",
       "    <tr>\n",
       "      <th>32</th>\n",
       "      <td>32</td>\n",
       "      <td>1.224</td>\n",
       "      <td>2023-02-20 18:55:02.206195</td>\n",
       "      <td>2023-02-20 18:55:34.929193</td>\n",
       "      <td>0 days 00:00:32.722998</td>\n",
       "      <td>3.248474</td>\n",
       "      <td>0.140634</td>\n",
       "      <td>21</td>\n",
       "      <td>False</td>\n",
       "      <td>False</td>\n",
       "      <td>False</td>\n",
       "      <td>COMPLETE</td>\n",
       "    </tr>\n",
       "    <tr>\n",
       "      <th>35</th>\n",
       "      <td>35</td>\n",
       "      <td>1.231</td>\n",
       "      <td>2023-02-20 18:56:52.135694</td>\n",
       "      <td>2023-02-20 18:57:19.166193</td>\n",
       "      <td>0 days 00:00:27.030499</td>\n",
       "      <td>0.774214</td>\n",
       "      <td>0.173554</td>\n",
       "      <td>17</td>\n",
       "      <td>True</td>\n",
       "      <td>True</td>\n",
       "      <td>True</td>\n",
       "      <td>COMPLETE</td>\n",
       "    </tr>\n",
       "  </tbody>\n",
       "</table>\n",
       "</div>"
      ],
      "text/plain": [
       "    number  value             datetime_start          datetime_complete  \\\n",
       "27      27  1.159 2023-02-20 18:52:59.665193 2023-02-20 18:53:17.724195   \n",
       "0        0  1.166 2023-02-20 18:32:54.411005 2023-02-20 18:33:35.052018   \n",
       "23      23  1.171 2023-02-20 18:50:36.498693 2023-02-20 18:51:10.542193   \n",
       "17      17  1.176 2023-02-20 18:46:51.490254 2023-02-20 18:47:23.308750   \n",
       "12      12  1.193 2023-02-20 18:43:53.610250 2023-02-20 18:44:29.325749   \n",
       "22      22  1.208 2023-02-20 18:49:51.526250 2023-02-20 18:50:36.479193   \n",
       "24      24  1.210 2023-02-20 18:51:10.562693 2023-02-20 18:51:32.506193   \n",
       "33      33  1.222 2023-02-20 18:55:34.949193 2023-02-20 18:56:00.773694   \n",
       "32      32  1.224 2023-02-20 18:55:02.206195 2023-02-20 18:55:34.929193   \n",
       "35      35  1.231 2023-02-20 18:56:52.135694 2023-02-20 18:57:19.166193   \n",
       "\n",
       "                 duration  params_l2_regularization  params_learning_rate  \\\n",
       "27 0 days 00:00:18.059002                  2.744975              0.035091   \n",
       "0  0 days 00:00:40.641013                  0.604280              0.017179   \n",
       "23 0 days 00:00:34.043500                  3.965629              0.122618   \n",
       "17 0 days 00:00:31.818496                  9.630193              0.102127   \n",
       "12 0 days 00:00:35.715499                  5.683796              0.296192   \n",
       "22 0 days 00:00:44.952943                  5.153518              0.061101   \n",
       "24 0 days 00:00:21.943500                  1.272847              0.126748   \n",
       "33 0 days 00:00:25.824501                  4.295648              0.084432   \n",
       "32 0 days 00:00:32.722998                  3.248474              0.140634   \n",
       "35 0 days 00:00:27.030499                  0.774214              0.173554   \n",
       "\n",
       "    params_max_leaf_nodes  params_normalization  params_scaling  params_tfidf  \\\n",
       "27                     11                 False           False         False   \n",
       "0                      25                 False           False         False   \n",
       "23                     21                 False           False         False   \n",
       "17                     20                 False           False         False   \n",
       "12                     23                 False           False         False   \n",
       "22                     28                 False           False         False   \n",
       "24                     14                 False           False         False   \n",
       "33                     16                 False           False         False   \n",
       "32                     21                 False           False         False   \n",
       "35                     17                  True            True          True   \n",
       "\n",
       "       state  \n",
       "27  COMPLETE  \n",
       "0   COMPLETE  \n",
       "23  COMPLETE  \n",
       "17  COMPLETE  \n",
       "12  COMPLETE  \n",
       "22  COMPLETE  \n",
       "24  COMPLETE  \n",
       "33  COMPLETE  \n",
       "32  COMPLETE  \n",
       "35  COMPLETE  "
      ]
     },
     "execution_count": 20,
     "metadata": {},
     "output_type": "execute_result"
    }
   ],
   "source": [
    "study.trials_dataframe().sort_values(by=\"value\").head(10)"
   ]
  },
  {
   "cell_type": "code",
   "execution_count": 21,
   "metadata": {
    "id": "jsVyX3vTqxFm"
   },
   "outputs": [
    {
     "name": "stdout",
     "output_type": "stream",
     "text": [
      "Best HistGBoost regression params: {'l2_regularization': 2.7449752057437693, 'learning_rate': 0.03509097403389229, 'max_leaf_nodes': 11, 'normalization': False, 'scaling': False, 'tfidf': False}, achieving val RMSE: 1.159\n"
     ]
    }
   ],
   "source": [
    "print(f\"Best HistGBoost regression params: {study.best_params}, achieving val RMSE: {study.best_value}\")"
   ]
  },
  {
   "cell_type": "code",
   "execution_count": 23,
   "metadata": {},
   "outputs": [],
   "source": [
    "save = True\n",
    "load = False\n",
    "\n",
    "regressor_params = {\"learning_rate\": 0.035, \"max_leaf_nodes\": 11, \"l2_regularization\": 2.75}\n",
    "pipe_params = {\n",
    "    'normalization': False,\n",
    "    'scaling': False,\n",
    "    'tfidf': False,\n",
    "    'requires_dense': True,\n",
    "}\n",
    "\n",
    "if load:\n",
    "    pipe = joblib.load(f\"{exp_dir}/hist_gradient_boosting/pipe\")\n",
    "else:\n",
    "    regressor = HistGradientBoostingRegressor(**regressor_params)\n",
    "    pipe = sklearn_regressors.train_pipe(regressor, X_train, y_train, **pipe_params)\n",
    "\n",
    "    if save:\n",
    "        additional_attributes = {\n",
    "            \"regressor_params\": regressor_params,\n",
    "            \"pipe_params\": pipe_params,\n",
    "        }\n",
    "\n",
    "        joblib.dump(pipe, f\"{exp_dir}/hist_gradient_boosting/pipe\")\n",
    "        with open(f\"{exp_dir}/hist_gradient_boosting/additional_attributes.json\", \"w\") as file:\n",
    "            json.dump(additional_attributes, file, indent=4)"
   ]
  },
  {
   "cell_type": "code",
   "execution_count": 24,
   "metadata": {},
   "outputs": [
    {
     "name": "stdout",
     "output_type": "stream",
     "text": [
      "MSE: 1.325\n",
      "MAE: 0.718\n"
     ]
    }
   ],
   "source": [
    "test_bbs = np.array([\" \".join(bb) for bb in test_df.bb.tolist()])\n",
    "test_preds = pipe.predict(test_bbs)\n",
    "true_energies = test_df.energy.values\n",
    "\n",
    "median = np.median(true_energies)\n",
    "std = np.std(true_energies)\n",
    "mse = round(mean_squared_error(true_energies, test_preds), 3)\n",
    "mae = round(mean_absolute_error(true_energies, test_preds), 3)\n",
    "\n",
    "print(f\"MSE: {mse}\")\n",
    "print(f\"MAE: {mae}\")"
   ]
  }
 ],
 "metadata": {
  "kernelspec": {
   "display_name": "energy-prediction",
   "language": "python",
   "name": "python3"
  },
  "language_info": {
   "codemirror_mode": {
    "name": "ipython",
    "version": 3
   },
   "file_extension": ".py",
   "mimetype": "text/x-python",
   "name": "python",
   "nbconvert_exporter": "python",
   "pygments_lexer": "ipython3",
   "version": "3.10.4"
  },
  "orig_nbformat": 4,
  "vscode": {
   "interpreter": {
    "hash": "2d8ea44dacc84c32c3ffb10f5fa42b465f31145cc9ac97a8028dfa96db72aa4c"
   }
  }
 },
 "nbformat": 4,
 "nbformat_minor": 2
}
