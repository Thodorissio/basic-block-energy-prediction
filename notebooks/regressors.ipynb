{
 "cells": [
  {
   "attachments": {},
   "cell_type": "markdown",
   "metadata": {},
   "source": [
    "# Imports"
   ]
  },
  {
   "cell_type": "code",
   "execution_count": 1,
   "metadata": {},
   "outputs": [
    {
     "name": "stderr",
     "output_type": "stream",
     "text": [
      "c:\\Users\\thodo\\miniconda3\\envs\\energy-prediction\\lib\\site-packages\\tqdm\\auto.py:22: TqdmWarning: IProgress not found. Please update jupyter and ipywidgets. See https://ipywidgets.readthedocs.io/en/stable/user_install.html\n",
      "  from .autonotebook import tqdm as notebook_tqdm\n"
     ]
    }
   ],
   "source": [
    "import sys\n",
    "import json\n",
    "import logging\n",
    "import joblib\n",
    "import numpy as np\n",
    "import matplotlib.pyplot as plt\n",
    "\n",
    "import optuna\n",
    "\n",
    "from sklearn.model_selection import cross_val_score, ShuffleSplit\n",
    "from sklearn.linear_model import LinearRegression, SGDRegressor, ElasticNet, BayesianRidge, Ridge, Lasso\n",
    "from sklearn.svm import SVR\n",
    "from sklearn.ensemble import HistGradientBoostingRegressor\n",
    "\n",
    "from sklearn.feature_extraction.text import CountVectorizer, TfidfTransformer\n",
    "from sklearn.preprocessing import Normalizer, StandardScaler\n",
    "from sklearn.metrics import mean_absolute_error, mean_squared_error\n",
    "from sklearn.pipeline import Pipeline\n",
    "\n",
    "from typing import Union\n",
    "\n",
    "from bb_energy_prediction import data_utils, sklearn_regressors"
   ]
  },
  {
   "attachments": {},
   "cell_type": "markdown",
   "metadata": {},
   "source": [
    "# Data"
   ]
  },
  {
   "cell_type": "code",
   "execution_count": 2,
   "metadata": {},
   "outputs": [
    {
     "data": {
      "text/html": [
       "<div>\n",
       "<style scoped>\n",
       "    .dataframe tbody tr th:only-of-type {\n",
       "        vertical-align: middle;\n",
       "    }\n",
       "\n",
       "    .dataframe tbody tr th {\n",
       "        vertical-align: top;\n",
       "    }\n",
       "\n",
       "    .dataframe thead th {\n",
       "        text-align: right;\n",
       "    }\n",
       "</style>\n",
       "<table border=\"1\" class=\"dataframe\">\n",
       "  <thead>\n",
       "    <tr style=\"text-align: right;\">\n",
       "      <th></th>\n",
       "      <th>bb</th>\n",
       "      <th>energy</th>\n",
       "    </tr>\n",
       "  </thead>\n",
       "  <tbody>\n",
       "    <tr>\n",
       "      <th>1341</th>\n",
       "      <td>[mov $0xc %r13d, xor %r14d %r14d, xor %eax %ea...</td>\n",
       "      <td>1.108462</td>\n",
       "    </tr>\n",
       "    <tr>\n",
       "      <th>2636</th>\n",
       "      <td>[movq %rax, lea %r12, movq (%rbp) %rdi, lea %r...</td>\n",
       "      <td>0.776596</td>\n",
       "    </tr>\n",
       "    <tr>\n",
       "      <th>1855</th>\n",
       "      <td>[movl %ebx, movq %r15, movl %r14d, movl %ebx, ...</td>\n",
       "      <td>0.293011</td>\n",
       "    </tr>\n",
       "    <tr>\n",
       "      <th>1809</th>\n",
       "      <td>[movl $0x0, movl %ebx, movq %r14]</td>\n",
       "      <td>0.406841</td>\n",
       "    </tr>\n",
       "    <tr>\n",
       "      <th>110</th>\n",
       "      <td>[and $0x2 %ecx, jz]</td>\n",
       "      <td>0.883783</td>\n",
       "    </tr>\n",
       "    <tr>\n",
       "      <th>1581</th>\n",
       "      <td>[mov %rbp %rsi, lea %rdi, callq, test %rsi %rs...</td>\n",
       "      <td>1.766037</td>\n",
       "    </tr>\n",
       "    <tr>\n",
       "      <th>2232</th>\n",
       "      <td>[movq $0x0, movl %edx, test %edx %edx, jnz 0xa0]</td>\n",
       "      <td>0.865977</td>\n",
       "    </tr>\n",
       "    <tr>\n",
       "      <th>850</th>\n",
       "      <td>[lea %rbx, nopl %eax (%rax), callq, nop %edi %...</td>\n",
       "      <td>0.750367</td>\n",
       "    </tr>\n",
       "    <tr>\n",
       "      <th>1271</th>\n",
       "      <td>[mov %rdi, mov $0x0 %al, callq 0xf0f2, nop %ed...</td>\n",
       "      <td>0.020873</td>\n",
       "    </tr>\n",
       "    <tr>\n",
       "      <th>183</th>\n",
       "      <td>[callq, pushq %rbp, mov %rsp %rbp]</td>\n",
       "      <td>2.867793</td>\n",
       "    </tr>\n",
       "  </tbody>\n",
       "</table>\n",
       "</div>"
      ],
      "text/plain": [
       "                                                     bb    energy\n",
       "1341  [mov $0xc %r13d, xor %r14d %r14d, xor %eax %ea...  1.108462\n",
       "2636  [movq %rax, lea %r12, movq (%rbp) %rdi, lea %r...  0.776596\n",
       "1855  [movl %ebx, movq %r15, movl %r14d, movl %ebx, ...  0.293011\n",
       "1809                  [movl $0x0, movl %ebx, movq %r14]  0.406841\n",
       "110                                 [and $0x2 %ecx, jz]  0.883783\n",
       "1581  [mov %rbp %rsi, lea %rdi, callq, test %rsi %rs...  1.766037\n",
       "2232   [movq $0x0, movl %edx, test %edx %edx, jnz 0xa0]  0.865977\n",
       "850   [lea %rbx, nopl %eax (%rax), callq, nop %edi %...  0.750367\n",
       "1271  [mov %rdi, mov $0x0 %al, callq 0xf0f2, nop %ed...  0.020873\n",
       "183                  [callq, pushq %rbp, mov %rsp %rbp]  2.867793"
      ]
     },
     "execution_count": 2,
     "metadata": {},
     "output_type": "execute_result"
    }
   ],
   "source": [
    "no_dupl = True\n",
    "if no_dupl:\n",
    "    data_df = data_utils.get_data_df(data_path=\"../energy_data/no_dupl_data.pkl\")\n",
    "else:\n",
    "    data_df = data_utils.get_data_df(data_path=\"../energy_data/data.pkl\")\n",
    "\n",
    "if \"bb_embeddings\" in data_df.columns:\n",
    "    data_df = data_df.drop(columns=\"bb_embeddings\")\n",
    "data_df = data_df.sample(frac=1)\n",
    "data_df.head(10)"
   ]
  },
  {
   "cell_type": "code",
   "execution_count": 3,
   "metadata": {},
   "outputs": [
    {
     "name": "stdout",
     "output_type": "stream",
     "text": [
      "Test data size: 561\n"
     ]
    }
   ],
   "source": [
    "if no_dupl:\n",
    "    shuffled_data_df = data_df.sample(frac=1).reset_index(drop=True)\n",
    "    test_size = int(0.15 * len(shuffled_data_df))\n",
    "    test_df = shuffled_data_df[-test_size:]\n",
    "    train_df = shuffled_data_df[:-test_size]\n",
    "\n",
    "    print(f\"Test data size: {len(test_df)}\")\n",
    "else:\n",
    "    program_names = data_df.program_name.value_counts().index[4:]\n",
    "    test_programs = np.random.choice(program_names, 3, replace=False)\n",
    "    train_val_df = data_df[~data_df.program_name.isin(test_programs)]\n",
    "    test_df = data_df[data_df.program_name.isin(test_programs)]\n",
    "\n",
    "    print(f\"Test programs: {test_programs}\")\n",
    "    print(f\"Test data size: {len(test_df)}\")"
   ]
  },
  {
   "cell_type": "code",
   "execution_count": 4,
   "metadata": {},
   "outputs": [],
   "source": [
    "X_train = np.array([\" \".join(bb) for bb in train_df.bb.tolist()])\n",
    "y_train = train_df.energy.values\n",
    "\n",
    "X_test = np.array([\" \".join(bb) for bb in test_df.bb.tolist()])\n",
    "y_test = test_df.energy.values"
   ]
  },
  {
   "cell_type": "code",
   "execution_count": 5,
   "metadata": {},
   "outputs": [
    {
     "name": "stdout",
     "output_type": "stream",
     "text": [
      "Vocab length: 1158\n"
     ]
    }
   ],
   "source": [
    "cnt_vect = CountVectorizer()\n",
    "cnt_vect.fit_transform(X_train)\n",
    "vocab_len = len(cnt_vect.get_feature_names_out())\n",
    "print(f\"Vocab length: {vocab_len}\")"
   ]
  },
  {
   "attachments": {},
   "cell_type": "markdown",
   "metadata": {
    "id": "m-bKya-8hJ6F"
   },
   "source": [
    "# Regressors"
   ]
  },
  {
   "cell_type": "code",
   "execution_count": 6,
   "metadata": {},
   "outputs": [],
   "source": [
    "exp_dir = \"/Users/thodo/Documents/sxoli/diplomatiki/basic-block-energy-prediction/model_checkpoints/regressors_no_dupl\""
   ]
  },
  {
   "cell_type": "code",
   "execution_count": 7,
   "metadata": {
    "id": "yM7w9f7CiVNS"
   },
   "outputs": [],
   "source": [
    "optuna.logging.get_logger(\"optuna\").addHandler(logging.StreamHandler(sys.stdout))\n",
    "storage_name = \"sqlite:////Users/thodo/Documents/sxoli/diplomatiki/optuna-studies/sklearn-regressors-no-duplicates.db\""
   ]
  },
  {
   "cell_type": "markdown",
   "metadata": {
    "id": "Us9h9aYghJ6G"
   },
   "source": [
    "## Linear Regression"
   ]
  },
  {
   "cell_type": "markdown",
   "metadata": {
    "id": "neDJrZnbhJ6G"
   },
   "source": [
    "Simple least squares regression.\n",
    "No need for extra tuning."
   ]
  },
  {
   "cell_type": "code",
   "execution_count": 7,
   "metadata": {
    "colab": {
     "base_uri": "https://localhost:8080/"
    },
    "id": "gUm5RDoGit4y",
    "outputId": "43238da4-f5ad-4616-9de3-c61b737c8657"
   },
   "outputs": [
    {
     "name": "stderr",
     "output_type": "stream",
     "text": [
      "\u001b[32m[I 2023-02-20 15:33:59,323]\u001b[0m A new study created in RDB with name: linear-regression\u001b[0m\n"
     ]
    },
    {
     "name": "stdout",
     "output_type": "stream",
     "text": [
      "A new study created in RDB with name: linear-regression\n"
     ]
    }
   ],
   "source": [
    "study = optuna.create_study(study_name=\"linear-regression\", storage=storage_name, load_if_exists=True, direction=\"minimize\")\n",
    "study.set_user_attr(\"Loss\", \"RMSE\")"
   ]
  },
  {
   "cell_type": "code",
   "execution_count": null,
   "metadata": {
    "id": "keMwGIsEkxZz"
   },
   "outputs": [],
   "source": [
    "def objective(trial):\n",
    "\n",
    "    tfidf = trial.suggest_categorical(\"tfidf\", [True, False])\n",
    "    normalization = trial.suggest_categorical(\"normalization\", [True, False])\n",
    "    scaling = trial.suggest_categorical(\"scaling\", [True, False])\n",
    "\n",
    "    regressor = LinearRegression()\n",
    "    score = sklearn_regressors.evaluate_regressor(\n",
    "        regressor=regressor,\n",
    "        X=X_train,\n",
    "        y=y_train,\n",
    "        tfidf=tfidf,\n",
    "        normalization=normalization, \n",
    "        scaling=scaling\n",
    "    )\n",
    "\n",
    "    return score\n",
    "\n",
    "study.optimize(objective, n_trials=10)"
   ]
  },
  {
   "cell_type": "code",
   "execution_count": 9,
   "metadata": {
    "id": "aEHy0IE-lj-J"
   },
   "outputs": [
    {
     "data": {
      "text/html": [
       "<div>\n",
       "<style scoped>\n",
       "    .dataframe tbody tr th:only-of-type {\n",
       "        vertical-align: middle;\n",
       "    }\n",
       "\n",
       "    .dataframe tbody tr th {\n",
       "        vertical-align: top;\n",
       "    }\n",
       "\n",
       "    .dataframe thead th {\n",
       "        text-align: right;\n",
       "    }\n",
       "</style>\n",
       "<table border=\"1\" class=\"dataframe\">\n",
       "  <thead>\n",
       "    <tr style=\"text-align: right;\">\n",
       "      <th></th>\n",
       "      <th>number</th>\n",
       "      <th>value</th>\n",
       "      <th>datetime_start</th>\n",
       "      <th>datetime_complete</th>\n",
       "      <th>duration</th>\n",
       "      <th>params_normalization</th>\n",
       "      <th>params_scaling</th>\n",
       "      <th>params_tfidf</th>\n",
       "      <th>state</th>\n",
       "    </tr>\n",
       "  </thead>\n",
       "  <tbody>\n",
       "    <tr>\n",
       "      <th>0</th>\n",
       "      <td>0</td>\n",
       "      <td>1.391</td>\n",
       "      <td>2023-02-20 15:34:01.801151</td>\n",
       "      <td>2023-02-20 15:34:02.251864</td>\n",
       "      <td>0 days 00:00:00.450713</td>\n",
       "      <td>False</td>\n",
       "      <td>False</td>\n",
       "      <td>True</td>\n",
       "      <td>COMPLETE</td>\n",
       "    </tr>\n",
       "    <tr>\n",
       "      <th>1</th>\n",
       "      <td>1</td>\n",
       "      <td>1.394</td>\n",
       "      <td>2023-02-20 15:34:02.276361</td>\n",
       "      <td>2023-02-20 15:34:02.498864</td>\n",
       "      <td>0 days 00:00:00.222503</td>\n",
       "      <td>False</td>\n",
       "      <td>True</td>\n",
       "      <td>True</td>\n",
       "      <td>COMPLETE</td>\n",
       "    </tr>\n",
       "    <tr>\n",
       "      <th>7</th>\n",
       "      <td>7</td>\n",
       "      <td>1.565</td>\n",
       "      <td>2023-02-20 15:34:04.561908</td>\n",
       "      <td>2023-02-20 15:34:04.767401</td>\n",
       "      <td>0 days 00:00:00.205493</td>\n",
       "      <td>True</td>\n",
       "      <td>True</td>\n",
       "      <td>False</td>\n",
       "      <td>COMPLETE</td>\n",
       "    </tr>\n",
       "    <tr>\n",
       "      <th>6</th>\n",
       "      <td>6</td>\n",
       "      <td>1.695</td>\n",
       "      <td>2023-02-20 15:34:04.305399</td>\n",
       "      <td>2023-02-20 15:34:04.545399</td>\n",
       "      <td>0 days 00:00:00.240000</td>\n",
       "      <td>True</td>\n",
       "      <td>True</td>\n",
       "      <td>False</td>\n",
       "      <td>COMPLETE</td>\n",
       "    </tr>\n",
       "    <tr>\n",
       "      <th>4</th>\n",
       "      <td>4</td>\n",
       "      <td>1.852</td>\n",
       "      <td>2023-02-20 15:34:03.834829</td>\n",
       "      <td>2023-02-20 15:34:04.062158</td>\n",
       "      <td>0 days 00:00:00.227329</td>\n",
       "      <td>True</td>\n",
       "      <td>True</td>\n",
       "      <td>False</td>\n",
       "      <td>COMPLETE</td>\n",
       "    </tr>\n",
       "    <tr>\n",
       "      <th>3</th>\n",
       "      <td>3</td>\n",
       "      <td>2.005</td>\n",
       "      <td>2023-02-20 15:34:03.323764</td>\n",
       "      <td>2023-02-20 15:34:03.816773</td>\n",
       "      <td>0 days 00:00:00.493009</td>\n",
       "      <td>False</td>\n",
       "      <td>False</td>\n",
       "      <td>True</td>\n",
       "      <td>COMPLETE</td>\n",
       "    </tr>\n",
       "    <tr>\n",
       "      <th>2</th>\n",
       "      <td>2</td>\n",
       "      <td>2.129</td>\n",
       "      <td>2023-02-20 15:34:02.517863</td>\n",
       "      <td>2023-02-20 15:34:03.306765</td>\n",
       "      <td>0 days 00:00:00.788902</td>\n",
       "      <td>False</td>\n",
       "      <td>False</td>\n",
       "      <td>False</td>\n",
       "      <td>COMPLETE</td>\n",
       "    </tr>\n",
       "    <tr>\n",
       "      <th>5</th>\n",
       "      <td>5</td>\n",
       "      <td>2.130</td>\n",
       "      <td>2023-02-20 15:34:04.078658</td>\n",
       "      <td>2023-02-20 15:34:04.287906</td>\n",
       "      <td>0 days 00:00:00.209248</td>\n",
       "      <td>True</td>\n",
       "      <td>True</td>\n",
       "      <td>True</td>\n",
       "      <td>COMPLETE</td>\n",
       "    </tr>\n",
       "    <tr>\n",
       "      <th>8</th>\n",
       "      <td>8</td>\n",
       "      <td>2.158</td>\n",
       "      <td>2023-02-20 15:34:04.784519</td>\n",
       "      <td>2023-02-20 15:34:04.993911</td>\n",
       "      <td>0 days 00:00:00.209392</td>\n",
       "      <td>False</td>\n",
       "      <td>True</td>\n",
       "      <td>True</td>\n",
       "      <td>COMPLETE</td>\n",
       "    </tr>\n",
       "    <tr>\n",
       "      <th>9</th>\n",
       "      <td>9</td>\n",
       "      <td>3.260</td>\n",
       "      <td>2023-02-20 15:34:05.010990</td>\n",
       "      <td>2023-02-20 15:34:05.221483</td>\n",
       "      <td>0 days 00:00:00.210493</td>\n",
       "      <td>False</td>\n",
       "      <td>True</td>\n",
       "      <td>True</td>\n",
       "      <td>COMPLETE</td>\n",
       "    </tr>\n",
       "  </tbody>\n",
       "</table>\n",
       "</div>"
      ],
      "text/plain": [
       "   number  value             datetime_start          datetime_complete  \\\n",
       "0       0  1.391 2023-02-20 15:34:01.801151 2023-02-20 15:34:02.251864   \n",
       "1       1  1.394 2023-02-20 15:34:02.276361 2023-02-20 15:34:02.498864   \n",
       "7       7  1.565 2023-02-20 15:34:04.561908 2023-02-20 15:34:04.767401   \n",
       "6       6  1.695 2023-02-20 15:34:04.305399 2023-02-20 15:34:04.545399   \n",
       "4       4  1.852 2023-02-20 15:34:03.834829 2023-02-20 15:34:04.062158   \n",
       "3       3  2.005 2023-02-20 15:34:03.323764 2023-02-20 15:34:03.816773   \n",
       "2       2  2.129 2023-02-20 15:34:02.517863 2023-02-20 15:34:03.306765   \n",
       "5       5  2.130 2023-02-20 15:34:04.078658 2023-02-20 15:34:04.287906   \n",
       "8       8  2.158 2023-02-20 15:34:04.784519 2023-02-20 15:34:04.993911   \n",
       "9       9  3.260 2023-02-20 15:34:05.010990 2023-02-20 15:34:05.221483   \n",
       "\n",
       "                duration  params_normalization  params_scaling  params_tfidf  \\\n",
       "0 0 days 00:00:00.450713                 False           False          True   \n",
       "1 0 days 00:00:00.222503                 False            True          True   \n",
       "7 0 days 00:00:00.205493                  True            True         False   \n",
       "6 0 days 00:00:00.240000                  True            True         False   \n",
       "4 0 days 00:00:00.227329                  True            True         False   \n",
       "3 0 days 00:00:00.493009                 False           False          True   \n",
       "2 0 days 00:00:00.788902                 False           False         False   \n",
       "5 0 days 00:00:00.209248                  True            True          True   \n",
       "8 0 days 00:00:00.209392                 False            True          True   \n",
       "9 0 days 00:00:00.210493                 False            True          True   \n",
       "\n",
       "      state  \n",
       "0  COMPLETE  \n",
       "1  COMPLETE  \n",
       "7  COMPLETE  \n",
       "6  COMPLETE  \n",
       "4  COMPLETE  \n",
       "3  COMPLETE  \n",
       "2  COMPLETE  \n",
       "5  COMPLETE  \n",
       "8  COMPLETE  \n",
       "9  COMPLETE  "
      ]
     },
     "execution_count": 9,
     "metadata": {},
     "output_type": "execute_result"
    }
   ],
   "source": [
    "study.trials_dataframe().sort_values(by=\"value\").head(10)"
   ]
  },
  {
   "cell_type": "code",
   "execution_count": 10,
   "metadata": {
    "id": "2KisfHMXlk4H"
   },
   "outputs": [
    {
     "name": "stdout",
     "output_type": "stream",
     "text": [
      "Best linear regression params: {'normalization': False, 'scaling': False, 'tfidf': True}, achieving val RMSE: 1.391\n"
     ]
    }
   ],
   "source": [
    "print(f\"Best linear regression params: {study.best_params}, achieving val RMSE: {study.best_value}\")"
   ]
  },
  {
   "cell_type": "code",
   "execution_count": 10,
   "metadata": {},
   "outputs": [],
   "source": [
    "save = True\n",
    "load = False\n",
    "\n",
    "pipe_params = {\n",
    "    'normalization': False,\n",
    "    'scaling': False,\n",
    "    'tfidf': True,\n",
    "}\n",
    "\n",
    "if load:\n",
    "    pipe = joblib.load(f\"{exp_dir}/linear/pipe\")\n",
    "else:\n",
    "    regressor = LinearRegression()\n",
    "    pipe = sklearn_regressors.train_pipe(regressor, X_train, y_train, **pipe_params)\n",
    "\n",
    "    if save:\n",
    "        additional_attributes = {\n",
    "            \"pipe_params\": pipe_params,\n",
    "            #\"test_programs\": test_programs,\n",
    "        }\n",
    "\n",
    "        joblib.dump(pipe, f\"{exp_dir}/linear/pipe\")\n",
    "        with open(f\"{exp_dir}/linear/additional_attributes.json\", \"w\") as file:\n",
    "            json.dump(additional_attributes, file, indent=4)"
   ]
  },
  {
   "cell_type": "code",
   "execution_count": 11,
   "metadata": {},
   "outputs": [
    {
     "name": "stdout",
     "output_type": "stream",
     "text": [
      "MSE: 4.706\n",
      "MAE: 0.908\n"
     ]
    }
   ],
   "source": [
    "test_bbs = np.array([\" \".join(bb) for bb in test_df.bb.tolist()])\n",
    "test_preds = pipe.predict(test_bbs)\n",
    "true_energies = test_df.energy.values\n",
    "\n",
    "median = np.median(true_energies)\n",
    "std = np.std(true_energies)\n",
    "mse = round(mean_squared_error(true_energies, test_preds), 3)\n",
    "mae = round(mean_absolute_error(true_energies, test_preds), 3)\n",
    "\n",
    "print(f\"MSE: {mse}\")\n",
    "print(f\"MAE: {mae}\")"
   ]
  },
  {
   "cell_type": "markdown",
   "metadata": {
    "id": "U6DporjLhJ6H"
   },
   "source": [
    "## Lasso"
   ]
  },
  {
   "cell_type": "markdown",
   "metadata": {
    "id": "lnhF2Xw-hJ6H"
   },
   "source": [
    "Linear regression with L1 regularization. Tune:\n",
    "* alpha (L1 regularization term)."
   ]
  },
  {
   "cell_type": "code",
   "execution_count": 13,
   "metadata": {
    "id": "sZwXzrrjlulv"
   },
   "outputs": [
    {
     "name": "stderr",
     "output_type": "stream",
     "text": [
      "\u001b[32m[I 2023-02-20 15:34:33,054]\u001b[0m A new study created in RDB with name: lasso-regression\u001b[0m\n"
     ]
    },
    {
     "name": "stdout",
     "output_type": "stream",
     "text": [
      "A new study created in RDB with name: lasso-regression\n"
     ]
    }
   ],
   "source": [
    "study = optuna.create_study(study_name=\"lasso-regression\", storage=storage_name, load_if_exists=True, direction=\"minimize\")\n",
    "study.set_user_attr(\"Loss\", \"RMSE\")"
   ]
  },
  {
   "cell_type": "code",
   "execution_count": null,
   "metadata": {},
   "outputs": [],
   "source": [
    "def objective(trial):\n",
    "\n",
    "    alpha = trial.suggest_float(\"alpha\", 0.1, 10.0)\n",
    "    tfidf = trial.suggest_categorical(\"tfidf\", [True, False])\n",
    "    normalization = trial.suggest_categorical(\"normalization\", [True, False])\n",
    "    scaling = trial.suggest_categorical(\"scaling\", [True, False])\n",
    "\n",
    "    regressor = Lasso(alpha=alpha)\n",
    "    score = sklearn_regressors.evaluate_regressor(\n",
    "        regressor=regressor,\n",
    "        X=X_train,\n",
    "        y=y_train,\n",
    "        tfidf=tfidf,\n",
    "        normalization=normalization, \n",
    "        scaling=scaling\n",
    "    )\n",
    "\n",
    "    return score\n",
    "\n",
    "study.optimize(objective, n_trials=20)"
   ]
  },
  {
   "cell_type": "code",
   "execution_count": 15,
   "metadata": {
    "id": "CDRq8F53mG8h"
   },
   "outputs": [
    {
     "data": {
      "text/html": [
       "<div>\n",
       "<style scoped>\n",
       "    .dataframe tbody tr th:only-of-type {\n",
       "        vertical-align: middle;\n",
       "    }\n",
       "\n",
       "    .dataframe tbody tr th {\n",
       "        vertical-align: top;\n",
       "    }\n",
       "\n",
       "    .dataframe thead th {\n",
       "        text-align: right;\n",
       "    }\n",
       "</style>\n",
       "<table border=\"1\" class=\"dataframe\">\n",
       "  <thead>\n",
       "    <tr style=\"text-align: right;\">\n",
       "      <th></th>\n",
       "      <th>number</th>\n",
       "      <th>value</th>\n",
       "      <th>datetime_start</th>\n",
       "      <th>datetime_complete</th>\n",
       "      <th>duration</th>\n",
       "      <th>params_alpha</th>\n",
       "      <th>params_normalization</th>\n",
       "      <th>params_scaling</th>\n",
       "      <th>params_tfidf</th>\n",
       "      <th>state</th>\n",
       "    </tr>\n",
       "  </thead>\n",
       "  <tbody>\n",
       "    <tr>\n",
       "      <th>13</th>\n",
       "      <td>13</td>\n",
       "      <td>1.283</td>\n",
       "      <td>2023-02-20 15:34:37.334249</td>\n",
       "      <td>2023-02-20 15:34:37.511251</td>\n",
       "      <td>0 days 00:00:00.177002</td>\n",
       "      <td>8.406526</td>\n",
       "      <td>True</td>\n",
       "      <td>False</td>\n",
       "      <td>False</td>\n",
       "      <td>COMPLETE</td>\n",
       "    </tr>\n",
       "    <tr>\n",
       "      <th>7</th>\n",
       "      <td>7</td>\n",
       "      <td>1.329</td>\n",
       "      <td>2023-02-20 15:34:36.252813</td>\n",
       "      <td>2023-02-20 15:34:36.415310</td>\n",
       "      <td>0 days 00:00:00.162497</td>\n",
       "      <td>9.905034</td>\n",
       "      <td>True</td>\n",
       "      <td>False</td>\n",
       "      <td>True</td>\n",
       "      <td>COMPLETE</td>\n",
       "    </tr>\n",
       "    <tr>\n",
       "      <th>8</th>\n",
       "      <td>8</td>\n",
       "      <td>1.358</td>\n",
       "      <td>2023-02-20 15:34:36.433306</td>\n",
       "      <td>2023-02-20 15:34:36.587816</td>\n",
       "      <td>0 days 00:00:00.154510</td>\n",
       "      <td>4.451271</td>\n",
       "      <td>True</td>\n",
       "      <td>False</td>\n",
       "      <td>False</td>\n",
       "      <td>COMPLETE</td>\n",
       "    </tr>\n",
       "    <tr>\n",
       "      <th>17</th>\n",
       "      <td>17</td>\n",
       "      <td>1.387</td>\n",
       "      <td>2023-02-20 15:34:38.122383</td>\n",
       "      <td>2023-02-20 15:34:38.303883</td>\n",
       "      <td>0 days 00:00:00.181500</td>\n",
       "      <td>8.246980</td>\n",
       "      <td>True</td>\n",
       "      <td>False</td>\n",
       "      <td>True</td>\n",
       "      <td>COMPLETE</td>\n",
       "    </tr>\n",
       "    <tr>\n",
       "      <th>0</th>\n",
       "      <td>0</td>\n",
       "      <td>1.391</td>\n",
       "      <td>2023-02-20 15:34:34.972038</td>\n",
       "      <td>2023-02-20 15:34:35.149055</td>\n",
       "      <td>0 days 00:00:00.177017</td>\n",
       "      <td>4.766426</td>\n",
       "      <td>False</td>\n",
       "      <td>False</td>\n",
       "      <td>False</td>\n",
       "      <td>COMPLETE</td>\n",
       "    </tr>\n",
       "    <tr>\n",
       "      <th>2</th>\n",
       "      <td>2</td>\n",
       "      <td>1.394</td>\n",
       "      <td>2023-02-20 15:34:35.357539</td>\n",
       "      <td>2023-02-20 15:34:35.526089</td>\n",
       "      <td>0 days 00:00:00.168550</td>\n",
       "      <td>7.280160</td>\n",
       "      <td>True</td>\n",
       "      <td>False</td>\n",
       "      <td>False</td>\n",
       "      <td>COMPLETE</td>\n",
       "    </tr>\n",
       "    <tr>\n",
       "      <th>4</th>\n",
       "      <td>4</td>\n",
       "      <td>1.402</td>\n",
       "      <td>2023-02-20 15:34:35.726315</td>\n",
       "      <td>2023-02-20 15:34:35.884015</td>\n",
       "      <td>0 days 00:00:00.157700</td>\n",
       "      <td>2.382495</td>\n",
       "      <td>False</td>\n",
       "      <td>True</td>\n",
       "      <td>False</td>\n",
       "      <td>COMPLETE</td>\n",
       "    </tr>\n",
       "    <tr>\n",
       "      <th>10</th>\n",
       "      <td>10</td>\n",
       "      <td>1.406</td>\n",
       "      <td>2023-02-20 15:34:36.783307</td>\n",
       "      <td>2023-02-20 15:34:36.950560</td>\n",
       "      <td>0 days 00:00:00.167253</td>\n",
       "      <td>9.992270</td>\n",
       "      <td>True</td>\n",
       "      <td>False</td>\n",
       "      <td>True</td>\n",
       "      <td>COMPLETE</td>\n",
       "    </tr>\n",
       "    <tr>\n",
       "      <th>16</th>\n",
       "      <td>16</td>\n",
       "      <td>1.426</td>\n",
       "      <td>2023-02-20 15:34:37.930738</td>\n",
       "      <td>2023-02-20 15:34:38.104504</td>\n",
       "      <td>0 days 00:00:00.173766</td>\n",
       "      <td>9.882431</td>\n",
       "      <td>True</td>\n",
       "      <td>False</td>\n",
       "      <td>False</td>\n",
       "      <td>COMPLETE</td>\n",
       "    </tr>\n",
       "    <tr>\n",
       "      <th>6</th>\n",
       "      <td>6</td>\n",
       "      <td>1.440</td>\n",
       "      <td>2023-02-20 15:34:36.078317</td>\n",
       "      <td>2023-02-20 15:34:36.236313</td>\n",
       "      <td>0 days 00:00:00.157996</td>\n",
       "      <td>1.382539</td>\n",
       "      <td>True</td>\n",
       "      <td>True</td>\n",
       "      <td>True</td>\n",
       "      <td>COMPLETE</td>\n",
       "    </tr>\n",
       "  </tbody>\n",
       "</table>\n",
       "</div>"
      ],
      "text/plain": [
       "    number  value             datetime_start          datetime_complete  \\\n",
       "13      13  1.283 2023-02-20 15:34:37.334249 2023-02-20 15:34:37.511251   \n",
       "7        7  1.329 2023-02-20 15:34:36.252813 2023-02-20 15:34:36.415310   \n",
       "8        8  1.358 2023-02-20 15:34:36.433306 2023-02-20 15:34:36.587816   \n",
       "17      17  1.387 2023-02-20 15:34:38.122383 2023-02-20 15:34:38.303883   \n",
       "0        0  1.391 2023-02-20 15:34:34.972038 2023-02-20 15:34:35.149055   \n",
       "2        2  1.394 2023-02-20 15:34:35.357539 2023-02-20 15:34:35.526089   \n",
       "4        4  1.402 2023-02-20 15:34:35.726315 2023-02-20 15:34:35.884015   \n",
       "10      10  1.406 2023-02-20 15:34:36.783307 2023-02-20 15:34:36.950560   \n",
       "16      16  1.426 2023-02-20 15:34:37.930738 2023-02-20 15:34:38.104504   \n",
       "6        6  1.440 2023-02-20 15:34:36.078317 2023-02-20 15:34:36.236313   \n",
       "\n",
       "                 duration  params_alpha  params_normalization  params_scaling  \\\n",
       "13 0 days 00:00:00.177002      8.406526                  True           False   \n",
       "7  0 days 00:00:00.162497      9.905034                  True           False   \n",
       "8  0 days 00:00:00.154510      4.451271                  True           False   \n",
       "17 0 days 00:00:00.181500      8.246980                  True           False   \n",
       "0  0 days 00:00:00.177017      4.766426                 False           False   \n",
       "2  0 days 00:00:00.168550      7.280160                  True           False   \n",
       "4  0 days 00:00:00.157700      2.382495                 False            True   \n",
       "10 0 days 00:00:00.167253      9.992270                  True           False   \n",
       "16 0 days 00:00:00.173766      9.882431                  True           False   \n",
       "6  0 days 00:00:00.157996      1.382539                  True            True   \n",
       "\n",
       "    params_tfidf     state  \n",
       "13         False  COMPLETE  \n",
       "7           True  COMPLETE  \n",
       "8          False  COMPLETE  \n",
       "17          True  COMPLETE  \n",
       "0          False  COMPLETE  \n",
       "2          False  COMPLETE  \n",
       "4          False  COMPLETE  \n",
       "10          True  COMPLETE  \n",
       "16         False  COMPLETE  \n",
       "6           True  COMPLETE  "
      ]
     },
     "execution_count": 15,
     "metadata": {},
     "output_type": "execute_result"
    }
   ],
   "source": [
    "study.trials_dataframe().sort_values(by=\"value\").head(10)"
   ]
  },
  {
   "cell_type": "code",
   "execution_count": 16,
   "metadata": {
    "id": "2mXQMTplmHrG"
   },
   "outputs": [
    {
     "name": "stdout",
     "output_type": "stream",
     "text": [
      "Best lasso regression params: {'alpha': 8.406525586151336, 'normalization': True, 'scaling': False, 'tfidf': False}, achieving val RMSE: 1.283\n"
     ]
    }
   ],
   "source": [
    "print(f\"Best lasso regression params: {study.best_params}, achieving val RMSE: {study.best_value}\")"
   ]
  },
  {
   "cell_type": "code",
   "execution_count": 13,
   "metadata": {},
   "outputs": [],
   "source": [
    "save = True\n",
    "load = False\n",
    "\n",
    "regressor_params = {\"alpha\": 8.4}\n",
    "pipe_params = {\n",
    "    'normalization': True,\n",
    "    'scaling': False,\n",
    "    'tfidf': False,\n",
    "}\n",
    "\n",
    "if load:\n",
    "    pipe = joblib.load(f\"{exp_dir}/lasso/pipe\")\n",
    "else:\n",
    "    regressor = Lasso(**regressor_params)\n",
    "    pipe = sklearn_regressors.train_pipe(regressor, X_train, y_train, **pipe_params)\n",
    "\n",
    "    if save:\n",
    "        additional_attributes = {\n",
    "            \"regressor_params\": regressor_params,\n",
    "            \"pipe_params\": pipe_params,\n",
    "            #\"test_programs\": test_programs,\n",
    "        }\n",
    "\n",
    "        joblib.dump(pipe, f\"{exp_dir}/lasso/pipe\")\n",
    "        with open(f\"{exp_dir}/lasso/additional_attributes.json\", \"w\") as file:\n",
    "            json.dump(additional_attributes, file, indent=4)"
   ]
  },
  {
   "cell_type": "code",
   "execution_count": 14,
   "metadata": {},
   "outputs": [
    {
     "name": "stdout",
     "output_type": "stream",
     "text": [
      "MSE: 2.198\n",
      "MAE: 0.931\n"
     ]
    }
   ],
   "source": [
    "test_bbs = np.array([\" \".join(bb) for bb in test_df.bb.tolist()])\n",
    "test_preds = pipe.predict(test_bbs)\n",
    "true_energies = test_df.energy.values\n",
    "\n",
    "median = np.median(true_energies)\n",
    "std = np.std(true_energies)\n",
    "mse = round(mean_squared_error(true_energies, test_preds), 3)\n",
    "mae = round(mean_absolute_error(true_energies, test_preds), 3)\n",
    "\n",
    "print(f\"MSE: {mse}\")\n",
    "print(f\"MAE: {mae}\")"
   ]
  },
  {
   "cell_type": "markdown",
   "metadata": {
    "id": "4QTGtDJ7hJ6H"
   },
   "source": [
    "## Ridge"
   ]
  },
  {
   "cell_type": "markdown",
   "metadata": {
    "id": "iFYA7y_LhJ6H"
   },
   "source": [
    "Linear regression with L2 regularization. Tune:\n",
    "* alpha (L2 regularization term)."
   ]
  },
  {
   "cell_type": "code",
   "execution_count": 20,
   "metadata": {
    "id": "R3KnNlEqm4M9"
   },
   "outputs": [
    {
     "name": "stderr",
     "output_type": "stream",
     "text": [
      "\u001b[32m[I 2023-02-20 15:35:25,705]\u001b[0m A new study created in RDB with name: ridge-regression\u001b[0m\n"
     ]
    },
    {
     "name": "stdout",
     "output_type": "stream",
     "text": [
      "A new study created in RDB with name: ridge-regression\n"
     ]
    }
   ],
   "source": [
    "study = optuna.create_study(study_name=\"ridge-regression\", storage=storage_name, load_if_exists=True, direction=\"minimize\")\n",
    "study.set_user_attr(\"Loss\", \"RMSE\")"
   ]
  },
  {
   "cell_type": "code",
   "execution_count": null,
   "metadata": {},
   "outputs": [],
   "source": [
    "def objective(trial):\n",
    "\n",
    "    alpha = trial.suggest_float(\"alpha\", 0.1, 10.0)\n",
    "    tfidf = trial.suggest_categorical(\"tfidf\", [True, False])\n",
    "    normalization = trial.suggest_categorical(\"normalization\", [True, False])\n",
    "    scaling = trial.suggest_categorical(\"scaling\", [True, False])\n",
    "\n",
    "    regressor = Ridge(alpha=alpha)\n",
    "    score = sklearn_regressors.evaluate_regressor(\n",
    "        regressor=regressor,\n",
    "        X=X_train,\n",
    "        y=y_train,\n",
    "        tfidf=tfidf,\n",
    "        normalization=normalization, \n",
    "        scaling=scaling\n",
    "    )\n",
    "\n",
    "    return score\n",
    "\n",
    "study.optimize(objective, n_trials=20)"
   ]
  },
  {
   "cell_type": "code",
   "execution_count": 22,
   "metadata": {
    "id": "0vjKVK2Em4M9"
   },
   "outputs": [
    {
     "data": {
      "text/html": [
       "<div>\n",
       "<style scoped>\n",
       "    .dataframe tbody tr th:only-of-type {\n",
       "        vertical-align: middle;\n",
       "    }\n",
       "\n",
       "    .dataframe tbody tr th {\n",
       "        vertical-align: top;\n",
       "    }\n",
       "\n",
       "    .dataframe thead th {\n",
       "        text-align: right;\n",
       "    }\n",
       "</style>\n",
       "<table border=\"1\" class=\"dataframe\">\n",
       "  <thead>\n",
       "    <tr style=\"text-align: right;\">\n",
       "      <th></th>\n",
       "      <th>number</th>\n",
       "      <th>value</th>\n",
       "      <th>datetime_start</th>\n",
       "      <th>datetime_complete</th>\n",
       "      <th>duration</th>\n",
       "      <th>params_alpha</th>\n",
       "      <th>params_normalization</th>\n",
       "      <th>params_scaling</th>\n",
       "      <th>params_tfidf</th>\n",
       "      <th>state</th>\n",
       "    </tr>\n",
       "  </thead>\n",
       "  <tbody>\n",
       "    <tr>\n",
       "      <th>17</th>\n",
       "      <td>17</td>\n",
       "      <td>1.137</td>\n",
       "      <td>2023-02-20 15:35:30.496136</td>\n",
       "      <td>2023-02-20 15:35:30.663641</td>\n",
       "      <td>0 days 00:00:00.167505</td>\n",
       "      <td>3.676679</td>\n",
       "      <td>False</td>\n",
       "      <td>False</td>\n",
       "      <td>True</td>\n",
       "      <td>COMPLETE</td>\n",
       "    </tr>\n",
       "    <tr>\n",
       "      <th>14</th>\n",
       "      <td>14</td>\n",
       "      <td>1.204</td>\n",
       "      <td>2023-02-20 15:35:29.934280</td>\n",
       "      <td>2023-02-20 15:35:30.108909</td>\n",
       "      <td>0 days 00:00:00.174629</td>\n",
       "      <td>5.854226</td>\n",
       "      <td>False</td>\n",
       "      <td>False</td>\n",
       "      <td>True</td>\n",
       "      <td>COMPLETE</td>\n",
       "    </tr>\n",
       "    <tr>\n",
       "      <th>12</th>\n",
       "      <td>12</td>\n",
       "      <td>1.227</td>\n",
       "      <td>2023-02-20 15:35:29.548637</td>\n",
       "      <td>2023-02-20 15:35:29.722652</td>\n",
       "      <td>0 days 00:00:00.174015</td>\n",
       "      <td>9.533101</td>\n",
       "      <td>False</td>\n",
       "      <td>False</td>\n",
       "      <td>True</td>\n",
       "      <td>COMPLETE</td>\n",
       "    </tr>\n",
       "    <tr>\n",
       "      <th>15</th>\n",
       "      <td>15</td>\n",
       "      <td>1.234</td>\n",
       "      <td>2023-02-20 15:35:30.125410</td>\n",
       "      <td>2023-02-20 15:35:30.292144</td>\n",
       "      <td>0 days 00:00:00.166734</td>\n",
       "      <td>5.939947</td>\n",
       "      <td>False</td>\n",
       "      <td>False</td>\n",
       "      <td>True</td>\n",
       "      <td>COMPLETE</td>\n",
       "    </tr>\n",
       "    <tr>\n",
       "      <th>5</th>\n",
       "      <td>5</td>\n",
       "      <td>1.238</td>\n",
       "      <td>2023-02-20 15:35:28.167013</td>\n",
       "      <td>2023-02-20 15:35:28.335519</td>\n",
       "      <td>0 days 00:00:00.168506</td>\n",
       "      <td>8.184475</td>\n",
       "      <td>False</td>\n",
       "      <td>False</td>\n",
       "      <td>True</td>\n",
       "      <td>COMPLETE</td>\n",
       "    </tr>\n",
       "    <tr>\n",
       "      <th>13</th>\n",
       "      <td>13</td>\n",
       "      <td>1.258</td>\n",
       "      <td>2023-02-20 15:35:29.741653</td>\n",
       "      <td>2023-02-20 15:35:29.916161</td>\n",
       "      <td>0 days 00:00:00.174508</td>\n",
       "      <td>9.898587</td>\n",
       "      <td>False</td>\n",
       "      <td>False</td>\n",
       "      <td>True</td>\n",
       "      <td>COMPLETE</td>\n",
       "    </tr>\n",
       "    <tr>\n",
       "      <th>10</th>\n",
       "      <td>10</td>\n",
       "      <td>1.260</td>\n",
       "      <td>2023-02-20 15:35:29.175171</td>\n",
       "      <td>2023-02-20 15:35:29.342912</td>\n",
       "      <td>0 days 00:00:00.167741</td>\n",
       "      <td>9.538996</td>\n",
       "      <td>False</td>\n",
       "      <td>False</td>\n",
       "      <td>True</td>\n",
       "      <td>COMPLETE</td>\n",
       "    </tr>\n",
       "    <tr>\n",
       "      <th>2</th>\n",
       "      <td>2</td>\n",
       "      <td>1.262</td>\n",
       "      <td>2023-02-20 15:35:27.507175</td>\n",
       "      <td>2023-02-20 15:35:27.674538</td>\n",
       "      <td>0 days 00:00:00.167363</td>\n",
       "      <td>7.608997</td>\n",
       "      <td>True</td>\n",
       "      <td>False</td>\n",
       "      <td>True</td>\n",
       "      <td>COMPLETE</td>\n",
       "    </tr>\n",
       "    <tr>\n",
       "      <th>18</th>\n",
       "      <td>18</td>\n",
       "      <td>1.271</td>\n",
       "      <td>2023-02-20 15:35:30.681069</td>\n",
       "      <td>2023-02-20 15:35:30.850963</td>\n",
       "      <td>0 days 00:00:00.169894</td>\n",
       "      <td>3.439453</td>\n",
       "      <td>True</td>\n",
       "      <td>False</td>\n",
       "      <td>False</td>\n",
       "      <td>COMPLETE</td>\n",
       "    </tr>\n",
       "    <tr>\n",
       "      <th>3</th>\n",
       "      <td>3</td>\n",
       "      <td>1.276</td>\n",
       "      <td>2023-02-20 15:35:27.692210</td>\n",
       "      <td>2023-02-20 15:35:27.950722</td>\n",
       "      <td>0 days 00:00:00.258512</td>\n",
       "      <td>7.662617</td>\n",
       "      <td>False</td>\n",
       "      <td>False</td>\n",
       "      <td>False</td>\n",
       "      <td>COMPLETE</td>\n",
       "    </tr>\n",
       "  </tbody>\n",
       "</table>\n",
       "</div>"
      ],
      "text/plain": [
       "    number  value             datetime_start          datetime_complete  \\\n",
       "17      17  1.137 2023-02-20 15:35:30.496136 2023-02-20 15:35:30.663641   \n",
       "14      14  1.204 2023-02-20 15:35:29.934280 2023-02-20 15:35:30.108909   \n",
       "12      12  1.227 2023-02-20 15:35:29.548637 2023-02-20 15:35:29.722652   \n",
       "15      15  1.234 2023-02-20 15:35:30.125410 2023-02-20 15:35:30.292144   \n",
       "5        5  1.238 2023-02-20 15:35:28.167013 2023-02-20 15:35:28.335519   \n",
       "13      13  1.258 2023-02-20 15:35:29.741653 2023-02-20 15:35:29.916161   \n",
       "10      10  1.260 2023-02-20 15:35:29.175171 2023-02-20 15:35:29.342912   \n",
       "2        2  1.262 2023-02-20 15:35:27.507175 2023-02-20 15:35:27.674538   \n",
       "18      18  1.271 2023-02-20 15:35:30.681069 2023-02-20 15:35:30.850963   \n",
       "3        3  1.276 2023-02-20 15:35:27.692210 2023-02-20 15:35:27.950722   \n",
       "\n",
       "                 duration  params_alpha  params_normalization  params_scaling  \\\n",
       "17 0 days 00:00:00.167505      3.676679                 False           False   \n",
       "14 0 days 00:00:00.174629      5.854226                 False           False   \n",
       "12 0 days 00:00:00.174015      9.533101                 False           False   \n",
       "15 0 days 00:00:00.166734      5.939947                 False           False   \n",
       "5  0 days 00:00:00.168506      8.184475                 False           False   \n",
       "13 0 days 00:00:00.174508      9.898587                 False           False   \n",
       "10 0 days 00:00:00.167741      9.538996                 False           False   \n",
       "2  0 days 00:00:00.167363      7.608997                  True           False   \n",
       "18 0 days 00:00:00.169894      3.439453                  True           False   \n",
       "3  0 days 00:00:00.258512      7.662617                 False           False   \n",
       "\n",
       "    params_tfidf     state  \n",
       "17          True  COMPLETE  \n",
       "14          True  COMPLETE  \n",
       "12          True  COMPLETE  \n",
       "15          True  COMPLETE  \n",
       "5           True  COMPLETE  \n",
       "13          True  COMPLETE  \n",
       "10          True  COMPLETE  \n",
       "2           True  COMPLETE  \n",
       "18         False  COMPLETE  \n",
       "3          False  COMPLETE  "
      ]
     },
     "execution_count": 22,
     "metadata": {},
     "output_type": "execute_result"
    }
   ],
   "source": [
    "study.trials_dataframe().sort_values(by=\"value\").head(10)"
   ]
  },
  {
   "cell_type": "code",
   "execution_count": 23,
   "metadata": {
    "id": "0_CHFe7Sm4M-"
   },
   "outputs": [
    {
     "name": "stdout",
     "output_type": "stream",
     "text": [
      "Best ridge regression params: {'alpha': 3.6766792495848, 'normalization': False, 'scaling': False, 'tfidf': True}, achieving val RMSE: 1.137\n"
     ]
    }
   ],
   "source": [
    "print(f\"Best ridge regression params: {study.best_params}, achieving val RMSE: {study.best_value}\")"
   ]
  },
  {
   "cell_type": "code",
   "execution_count": 15,
   "metadata": {},
   "outputs": [],
   "source": [
    "save = True\n",
    "load = False\n",
    "\n",
    "regressor_params = {\"alpha\": 3.6}\n",
    "pipe_params = {\n",
    "    'normalization': False,\n",
    "    'scaling': False,\n",
    "    'tfidf': True,\n",
    "}\n",
    "\n",
    "if load:\n",
    "    pipe = joblib.load(f\"{exp_dir}/ridge/pipe\")\n",
    "else:\n",
    "    regressor = Ridge(**regressor_params)\n",
    "    pipe = sklearn_regressors.train_pipe(regressor, X_train, y_train, **pipe_params)\n",
    "\n",
    "    if save:\n",
    "        additional_attributes = {\n",
    "            \"regressor_params\": regressor_params,\n",
    "            \"pipe_params\": pipe_params,\n",
    "            #\"test_programs\": test_programs,\n",
    "        }\n",
    "\n",
    "        joblib.dump(pipe, f\"{exp_dir}/ridge/pipe\")\n",
    "        with open(f\"{exp_dir}/ridge/additional_attributes.json\", \"w\") as file:\n",
    "            json.dump(additional_attributes, file, indent=4)"
   ]
  },
  {
   "cell_type": "code",
   "execution_count": 16,
   "metadata": {},
   "outputs": [
    {
     "name": "stdout",
     "output_type": "stream",
     "text": [
      "MSE: 1.685\n",
      "MAE: 0.778\n"
     ]
    }
   ],
   "source": [
    "test_bbs = np.array([\" \".join(bb) for bb in test_df.bb.tolist()])\n",
    "test_preds = pipe.predict(test_bbs)\n",
    "true_energies = test_df.energy.values\n",
    "\n",
    "median = np.median(true_energies)\n",
    "std = np.std(true_energies)\n",
    "mse = round(mean_squared_error(true_energies, test_preds), 3)\n",
    "mae = round(mean_absolute_error(true_energies, test_preds), 3)\n",
    "\n",
    "print(f\"MSE: {mse}\")\n",
    "print(f\"MAE: {mae}\")"
   ]
  },
  {
   "cell_type": "markdown",
   "metadata": {
    "id": "I1ogsA4EhJ6H"
   },
   "source": [
    "## ElasticNet"
   ]
  },
  {
   "cell_type": "markdown",
   "metadata": {
    "id": "Ejz37kVmhJ6H"
   },
   "source": [
    "Linear regression with both L1 and L2 regularization. Tune\n",
    "* alpha\n",
    "* l1_ratio. "
   ]
  },
  {
   "cell_type": "code",
   "execution_count": 27,
   "metadata": {
    "id": "7BpIlB7Nm-Rt"
   },
   "outputs": [
    {
     "name": "stderr",
     "output_type": "stream",
     "text": [
      "\u001b[32m[I 2023-02-20 15:36:06,708]\u001b[0m A new study created in RDB with name: elasticnet-regression\u001b[0m\n"
     ]
    },
    {
     "name": "stdout",
     "output_type": "stream",
     "text": [
      "A new study created in RDB with name: elasticnet-regression\n"
     ]
    }
   ],
   "source": [
    "study = optuna.create_study(study_name=\"elasticnet-regression\", storage=storage_name, load_if_exists=True, direction=\"minimize\")\n",
    "study.set_user_attr(\"Loss\", \"RMSE\")"
   ]
  },
  {
   "cell_type": "code",
   "execution_count": null,
   "metadata": {},
   "outputs": [],
   "source": [
    "def objective(trial):\n",
    "\n",
    "    alpha = trial.suggest_float(\"alpha\", 0.1, 10.0)\n",
    "    l1_ratio = trial.suggest_float(\"l1_ratio\", 0.1, 0.9)\n",
    "    tfidf = trial.suggest_categorical(\"tfidf\", [True, False])\n",
    "    normalization = trial.suggest_categorical(\"normalization\", [True, False])\n",
    "    scaling = trial.suggest_categorical(\"scaling\", [True, False])\n",
    "\n",
    "    regressor = ElasticNet(alpha=alpha, l1_ratio=l1_ratio)\n",
    "    score = sklearn_regressors.evaluate_regressor(\n",
    "        regressor=regressor,\n",
    "        X=X_train,\n",
    "        y=y_train,\n",
    "        tfidf=tfidf,\n",
    "        normalization=normalization, \n",
    "        scaling=scaling\n",
    "    )\n",
    "\n",
    "    return score\n",
    "\n",
    "study.optimize(objective, n_trials=20)"
   ]
  },
  {
   "cell_type": "code",
   "execution_count": 29,
   "metadata": {
    "id": "-G5CteZrm-Rt"
   },
   "outputs": [
    {
     "data": {
      "text/html": [
       "<div>\n",
       "<style scoped>\n",
       "    .dataframe tbody tr th:only-of-type {\n",
       "        vertical-align: middle;\n",
       "    }\n",
       "\n",
       "    .dataframe tbody tr th {\n",
       "        vertical-align: top;\n",
       "    }\n",
       "\n",
       "    .dataframe thead th {\n",
       "        text-align: right;\n",
       "    }\n",
       "</style>\n",
       "<table border=\"1\" class=\"dataframe\">\n",
       "  <thead>\n",
       "    <tr style=\"text-align: right;\">\n",
       "      <th></th>\n",
       "      <th>number</th>\n",
       "      <th>value</th>\n",
       "      <th>datetime_start</th>\n",
       "      <th>datetime_complete</th>\n",
       "      <th>duration</th>\n",
       "      <th>params_alpha</th>\n",
       "      <th>params_l1_ratio</th>\n",
       "      <th>params_normalization</th>\n",
       "      <th>params_scaling</th>\n",
       "      <th>params_tfidf</th>\n",
       "      <th>state</th>\n",
       "    </tr>\n",
       "  </thead>\n",
       "  <tbody>\n",
       "    <tr>\n",
       "      <th>18</th>\n",
       "      <td>18</td>\n",
       "      <td>1.251</td>\n",
       "      <td>2023-02-20 15:36:10.884320</td>\n",
       "      <td>2023-02-20 15:36:11.199201</td>\n",
       "      <td>0 days 00:00:00.314881</td>\n",
       "      <td>0.272486</td>\n",
       "      <td>0.295620</td>\n",
       "      <td>True</td>\n",
       "      <td>True</td>\n",
       "      <td>True</td>\n",
       "      <td>COMPLETE</td>\n",
       "    </tr>\n",
       "    <tr>\n",
       "      <th>6</th>\n",
       "      <td>6</td>\n",
       "      <td>1.341</td>\n",
       "      <td>2023-02-20 15:36:08.474913</td>\n",
       "      <td>2023-02-20 15:36:08.656431</td>\n",
       "      <td>0 days 00:00:00.181518</td>\n",
       "      <td>4.106715</td>\n",
       "      <td>0.152726</td>\n",
       "      <td>True</td>\n",
       "      <td>False</td>\n",
       "      <td>True</td>\n",
       "      <td>COMPLETE</td>\n",
       "    </tr>\n",
       "    <tr>\n",
       "      <th>14</th>\n",
       "      <td>14</td>\n",
       "      <td>1.345</td>\n",
       "      <td>2023-02-20 15:36:10.068108</td>\n",
       "      <td>2023-02-20 15:36:10.245156</td>\n",
       "      <td>0 days 00:00:00.177048</td>\n",
       "      <td>1.849326</td>\n",
       "      <td>0.362417</td>\n",
       "      <td>False</td>\n",
       "      <td>False</td>\n",
       "      <td>False</td>\n",
       "      <td>COMPLETE</td>\n",
       "    </tr>\n",
       "    <tr>\n",
       "      <th>8</th>\n",
       "      <td>8</td>\n",
       "      <td>1.362</td>\n",
       "      <td>2023-02-20 15:36:08.868852</td>\n",
       "      <td>2023-02-20 15:36:09.045848</td>\n",
       "      <td>0 days 00:00:00.176996</td>\n",
       "      <td>4.893964</td>\n",
       "      <td>0.426713</td>\n",
       "      <td>False</td>\n",
       "      <td>False</td>\n",
       "      <td>False</td>\n",
       "      <td>COMPLETE</td>\n",
       "    </tr>\n",
       "    <tr>\n",
       "      <th>19</th>\n",
       "      <td>19</td>\n",
       "      <td>1.374</td>\n",
       "      <td>2023-02-20 15:36:11.218698</td>\n",
       "      <td>2023-02-20 15:36:11.541705</td>\n",
       "      <td>0 days 00:00:00.323007</td>\n",
       "      <td>0.298526</td>\n",
       "      <td>0.275196</td>\n",
       "      <td>True</td>\n",
       "      <td>True</td>\n",
       "      <td>True</td>\n",
       "      <td>COMPLETE</td>\n",
       "    </tr>\n",
       "    <tr>\n",
       "      <th>12</th>\n",
       "      <td>12</td>\n",
       "      <td>1.377</td>\n",
       "      <td>2023-02-20 15:36:09.661214</td>\n",
       "      <td>2023-02-20 15:36:09.844556</td>\n",
       "      <td>0 days 00:00:00.183342</td>\n",
       "      <td>6.025417</td>\n",
       "      <td>0.373996</td>\n",
       "      <td>False</td>\n",
       "      <td>False</td>\n",
       "      <td>False</td>\n",
       "      <td>COMPLETE</td>\n",
       "    </tr>\n",
       "    <tr>\n",
       "      <th>16</th>\n",
       "      <td>16</td>\n",
       "      <td>1.380</td>\n",
       "      <td>2023-02-20 15:36:10.474854</td>\n",
       "      <td>2023-02-20 15:36:10.669320</td>\n",
       "      <td>0 days 00:00:00.194466</td>\n",
       "      <td>1.697139</td>\n",
       "      <td>0.100542</td>\n",
       "      <td>True</td>\n",
       "      <td>False</td>\n",
       "      <td>False</td>\n",
       "      <td>COMPLETE</td>\n",
       "    </tr>\n",
       "    <tr>\n",
       "      <th>17</th>\n",
       "      <td>17</td>\n",
       "      <td>1.386</td>\n",
       "      <td>2023-02-20 15:36:10.686823</td>\n",
       "      <td>2023-02-20 15:36:10.866824</td>\n",
       "      <td>0 days 00:00:00.180001</td>\n",
       "      <td>1.861158</td>\n",
       "      <td>0.465428</td>\n",
       "      <td>False</td>\n",
       "      <td>False</td>\n",
       "      <td>True</td>\n",
       "      <td>COMPLETE</td>\n",
       "    </tr>\n",
       "    <tr>\n",
       "      <th>13</th>\n",
       "      <td>13</td>\n",
       "      <td>1.430</td>\n",
       "      <td>2023-02-20 15:36:09.862141</td>\n",
       "      <td>2023-02-20 15:36:10.051468</td>\n",
       "      <td>0 days 00:00:00.189327</td>\n",
       "      <td>3.571594</td>\n",
       "      <td>0.116734</td>\n",
       "      <td>False</td>\n",
       "      <td>False</td>\n",
       "      <td>True</td>\n",
       "      <td>COMPLETE</td>\n",
       "    </tr>\n",
       "    <tr>\n",
       "      <th>5</th>\n",
       "      <td>5</td>\n",
       "      <td>1.441</td>\n",
       "      <td>2023-02-20 15:36:08.278437</td>\n",
       "      <td>2023-02-20 15:36:08.458293</td>\n",
       "      <td>0 days 00:00:00.179856</td>\n",
       "      <td>8.839634</td>\n",
       "      <td>0.224013</td>\n",
       "      <td>True</td>\n",
       "      <td>True</td>\n",
       "      <td>False</td>\n",
       "      <td>COMPLETE</td>\n",
       "    </tr>\n",
       "  </tbody>\n",
       "</table>\n",
       "</div>"
      ],
      "text/plain": [
       "    number  value             datetime_start          datetime_complete  \\\n",
       "18      18  1.251 2023-02-20 15:36:10.884320 2023-02-20 15:36:11.199201   \n",
       "6        6  1.341 2023-02-20 15:36:08.474913 2023-02-20 15:36:08.656431   \n",
       "14      14  1.345 2023-02-20 15:36:10.068108 2023-02-20 15:36:10.245156   \n",
       "8        8  1.362 2023-02-20 15:36:08.868852 2023-02-20 15:36:09.045848   \n",
       "19      19  1.374 2023-02-20 15:36:11.218698 2023-02-20 15:36:11.541705   \n",
       "12      12  1.377 2023-02-20 15:36:09.661214 2023-02-20 15:36:09.844556   \n",
       "16      16  1.380 2023-02-20 15:36:10.474854 2023-02-20 15:36:10.669320   \n",
       "17      17  1.386 2023-02-20 15:36:10.686823 2023-02-20 15:36:10.866824   \n",
       "13      13  1.430 2023-02-20 15:36:09.862141 2023-02-20 15:36:10.051468   \n",
       "5        5  1.441 2023-02-20 15:36:08.278437 2023-02-20 15:36:08.458293   \n",
       "\n",
       "                 duration  params_alpha  params_l1_ratio  \\\n",
       "18 0 days 00:00:00.314881      0.272486         0.295620   \n",
       "6  0 days 00:00:00.181518      4.106715         0.152726   \n",
       "14 0 days 00:00:00.177048      1.849326         0.362417   \n",
       "8  0 days 00:00:00.176996      4.893964         0.426713   \n",
       "19 0 days 00:00:00.323007      0.298526         0.275196   \n",
       "12 0 days 00:00:00.183342      6.025417         0.373996   \n",
       "16 0 days 00:00:00.194466      1.697139         0.100542   \n",
       "17 0 days 00:00:00.180001      1.861158         0.465428   \n",
       "13 0 days 00:00:00.189327      3.571594         0.116734   \n",
       "5  0 days 00:00:00.179856      8.839634         0.224013   \n",
       "\n",
       "    params_normalization  params_scaling  params_tfidf     state  \n",
       "18                  True            True          True  COMPLETE  \n",
       "6                   True           False          True  COMPLETE  \n",
       "14                 False           False         False  COMPLETE  \n",
       "8                  False           False         False  COMPLETE  \n",
       "19                  True            True          True  COMPLETE  \n",
       "12                 False           False         False  COMPLETE  \n",
       "16                  True           False         False  COMPLETE  \n",
       "17                 False           False          True  COMPLETE  \n",
       "13                 False           False          True  COMPLETE  \n",
       "5                   True            True         False  COMPLETE  "
      ]
     },
     "execution_count": 29,
     "metadata": {},
     "output_type": "execute_result"
    }
   ],
   "source": [
    "study.trials_dataframe().sort_values(by=\"value\").head(10)"
   ]
  },
  {
   "cell_type": "code",
   "execution_count": 30,
   "metadata": {
    "id": "dIJhZwaNm-Rt"
   },
   "outputs": [
    {
     "name": "stdout",
     "output_type": "stream",
     "text": [
      "Best ElasticNET regression params: {'alpha': 0.2724859546847187, 'l1_ratio': 0.29561996999439866, 'normalization': True, 'scaling': True, 'tfidf': True}, achieving val RMSE: 1.251\n"
     ]
    }
   ],
   "source": [
    "print(f\"Best ElasticNET regression params: {study.best_params}, achieving val RMSE: {study.best_value}\")"
   ]
  },
  {
   "cell_type": "code",
   "execution_count": 17,
   "metadata": {},
   "outputs": [],
   "source": [
    "save = True\n",
    "load = False\n",
    "\n",
    "regressor_params = {\"alpha\": 0.27, \"l1_ratio\": 0.29}\n",
    "pipe_params = {\n",
    "    'normalization': True,\n",
    "    'scaling': True,\n",
    "    'tfidf': True,\n",
    "}\n",
    "\n",
    "if load:\n",
    "    pipe = joblib.load(f\"{exp_dir}/elasticnet/pipe\")\n",
    "else:\n",
    "    regressor = ElasticNet(**regressor_params)\n",
    "    pipe = sklearn_regressors.train_pipe(regressor, X_train, y_train, **pipe_params)\n",
    "\n",
    "    if save:\n",
    "        additional_attributes = {\n",
    "            \"regressor_params\": regressor_params,\n",
    "            \"pipe_params\": pipe_params,\n",
    "            #\"test_programs\": test_programs,\n",
    "        }\n",
    "\n",
    "        joblib.dump(pipe, f\"{exp_dir}/elasticnet/pipe\")\n",
    "        with open(f\"{exp_dir}/elasticnet/additional_attributes.json\", \"w\") as file:\n",
    "            json.dump(additional_attributes, file, indent=4)"
   ]
  },
  {
   "cell_type": "code",
   "execution_count": 18,
   "metadata": {},
   "outputs": [
    {
     "name": "stdout",
     "output_type": "stream",
     "text": [
      "MSE: 1.765\n",
      "MAE: 0.801\n"
     ]
    }
   ],
   "source": [
    "test_bbs = np.array([\" \".join(bb) for bb in test_df.bb.tolist()])\n",
    "test_preds = pipe.predict(test_bbs)\n",
    "true_energies = test_df.energy.values\n",
    "\n",
    "median = np.median(true_energies)\n",
    "std = np.std(true_energies)\n",
    "mse = round(mean_squared_error(true_energies, test_preds), 3)\n",
    "mae = round(mean_absolute_error(true_energies, test_preds), 3)\n",
    "\n",
    "print(f\"MSE: {mse}\")\n",
    "print(f\"MAE: {mae}\")"
   ]
  },
  {
   "cell_type": "markdown",
   "metadata": {
    "id": "0yrfpGpQhJ6I"
   },
   "source": [
    "## SGD Regression"
   ]
  },
  {
   "cell_type": "markdown",
   "metadata": {
    "id": "wutmcIO6hJ6I"
   },
   "source": [
    "Stochastic Gradient Descent Regression using either of the above reguliration techniques. Tune:\n",
    "* penalty method\n",
    "* alpha\n",
    "* l1_ratio (if elasticnet penalty)."
   ]
  },
  {
   "cell_type": "code",
   "execution_count": 33,
   "metadata": {
    "id": "sOSQ1Cr4nHDZ"
   },
   "outputs": [
    {
     "name": "stderr",
     "output_type": "stream",
     "text": [
      "\u001b[32m[I 2023-02-20 15:36:36,171]\u001b[0m A new study created in RDB with name: SGD-regression\u001b[0m\n"
     ]
    },
    {
     "name": "stdout",
     "output_type": "stream",
     "text": [
      "A new study created in RDB with name: SGD-regression\n"
     ]
    }
   ],
   "source": [
    "study = optuna.create_study(study_name=\"SGD-regression\", storage=storage_name, load_if_exists=True, direction=\"minimize\")\n",
    "study.set_user_attr(\"Loss\", \"RMSE\")"
   ]
  },
  {
   "cell_type": "code",
   "execution_count": null,
   "metadata": {},
   "outputs": [],
   "source": [
    "def objective(trial):\n",
    "\n",
    "    penalty = trial.suggest_categorical(\"penalty\", [\"l1\", \"l2\", \"elasticnet\"])\n",
    "    alpha = trial.suggest_float(\"alpha\", 0.1, 10.0)\n",
    "    l1_ratio = trial.suggest_float(\"l1_ratio\", 0.1, 0.1)\n",
    "    tfidf = trial.suggest_categorical(\"tfidf\", [True, False])\n",
    "    normalization = trial.suggest_categorical(\"normalization\", [True, False])\n",
    "    scaling = trial.suggest_categorical(\"scaling\", [True, False])\n",
    "\n",
    "    regressor = SGDRegressor(penalty=penalty, alpha=alpha, l1_ratio=l1_ratio)\n",
    "    score = sklearn_regressors.evaluate_regressor(\n",
    "        regressor=regressor,\n",
    "        X=X_train,\n",
    "        y=y_train,\n",
    "        tfidf=tfidf,\n",
    "        normalization=normalization, \n",
    "        scaling=scaling\n",
    "    )\n",
    "\n",
    "    return score\n",
    "\n",
    "study.optimize(objective, n_trials=40)"
   ]
  },
  {
   "cell_type": "code",
   "execution_count": 29,
   "metadata": {
    "id": "MPJGdClmnHDZ"
   },
   "outputs": [
    {
     "data": {
      "text/html": [
       "<div>\n",
       "<style scoped>\n",
       "    .dataframe tbody tr th:only-of-type {\n",
       "        vertical-align: middle;\n",
       "    }\n",
       "\n",
       "    .dataframe tbody tr th {\n",
       "        vertical-align: top;\n",
       "    }\n",
       "\n",
       "    .dataframe thead th {\n",
       "        text-align: right;\n",
       "    }\n",
       "</style>\n",
       "<table border=\"1\" class=\"dataframe\">\n",
       "  <thead>\n",
       "    <tr style=\"text-align: right;\">\n",
       "      <th></th>\n",
       "      <th>number</th>\n",
       "      <th>value</th>\n",
       "      <th>datetime_start</th>\n",
       "      <th>datetime_complete</th>\n",
       "      <th>duration</th>\n",
       "      <th>params_alpha</th>\n",
       "      <th>params_l1_ratio</th>\n",
       "      <th>params_normalization</th>\n",
       "      <th>params_penalty</th>\n",
       "      <th>params_scaling</th>\n",
       "      <th>params_tfidf</th>\n",
       "      <th>state</th>\n",
       "    </tr>\n",
       "  </thead>\n",
       "  <tbody>\n",
       "    <tr>\n",
       "      <th>33</th>\n",
       "      <td>33</td>\n",
       "      <td>0.646</td>\n",
       "      <td>2023-02-12 20:19:40.921652</td>\n",
       "      <td>2023-02-12 20:19:55.090151</td>\n",
       "      <td>0 days 00:00:14.168499</td>\n",
       "      <td>4.324908</td>\n",
       "      <td>0.1</td>\n",
       "      <td>False</td>\n",
       "      <td>l2</td>\n",
       "      <td>False</td>\n",
       "      <td>False</td>\n",
       "      <td>COMPLETE</td>\n",
       "    </tr>\n",
       "    <tr>\n",
       "      <th>27</th>\n",
       "      <td>27</td>\n",
       "      <td>0.646</td>\n",
       "      <td>2023-02-12 20:18:15.011229</td>\n",
       "      <td>2023-02-12 20:18:29.342369</td>\n",
       "      <td>0 days 00:00:14.331140</td>\n",
       "      <td>4.394182</td>\n",
       "      <td>0.1</td>\n",
       "      <td>False</td>\n",
       "      <td>l2</td>\n",
       "      <td>False</td>\n",
       "      <td>False</td>\n",
       "      <td>COMPLETE</td>\n",
       "    </tr>\n",
       "    <tr>\n",
       "      <th>36</th>\n",
       "      <td>36</td>\n",
       "      <td>0.649</td>\n",
       "      <td>2023-02-12 20:20:23.841917</td>\n",
       "      <td>2023-02-12 20:20:38.031959</td>\n",
       "      <td>0 days 00:00:14.190042</td>\n",
       "      <td>2.823420</td>\n",
       "      <td>0.1</td>\n",
       "      <td>False</td>\n",
       "      <td>l2</td>\n",
       "      <td>False</td>\n",
       "      <td>False</td>\n",
       "      <td>COMPLETE</td>\n",
       "    </tr>\n",
       "    <tr>\n",
       "      <th>38</th>\n",
       "      <td>38</td>\n",
       "      <td>0.654</td>\n",
       "      <td>2023-02-12 20:20:52.464274</td>\n",
       "      <td>2023-02-12 20:21:06.633232</td>\n",
       "      <td>0 days 00:00:14.168958</td>\n",
       "      <td>2.761732</td>\n",
       "      <td>0.1</td>\n",
       "      <td>False</td>\n",
       "      <td>l2</td>\n",
       "      <td>False</td>\n",
       "      <td>False</td>\n",
       "      <td>COMPLETE</td>\n",
       "    </tr>\n",
       "    <tr>\n",
       "      <th>32</th>\n",
       "      <td>32</td>\n",
       "      <td>0.654</td>\n",
       "      <td>2023-02-12 20:19:26.693659</td>\n",
       "      <td>2023-02-12 20:19:40.906652</td>\n",
       "      <td>0 days 00:00:14.212993</td>\n",
       "      <td>4.428107</td>\n",
       "      <td>0.1</td>\n",
       "      <td>False</td>\n",
       "      <td>l2</td>\n",
       "      <td>False</td>\n",
       "      <td>False</td>\n",
       "      <td>COMPLETE</td>\n",
       "    </tr>\n",
       "    <tr>\n",
       "      <th>23</th>\n",
       "      <td>23</td>\n",
       "      <td>0.655</td>\n",
       "      <td>2023-02-12 20:17:18.110064</td>\n",
       "      <td>2023-02-12 20:17:32.220056</td>\n",
       "      <td>0 days 00:00:14.109992</td>\n",
       "      <td>6.133459</td>\n",
       "      <td>0.1</td>\n",
       "      <td>False</td>\n",
       "      <td>l2</td>\n",
       "      <td>False</td>\n",
       "      <td>False</td>\n",
       "      <td>COMPLETE</td>\n",
       "    </tr>\n",
       "    <tr>\n",
       "      <th>31</th>\n",
       "      <td>31</td>\n",
       "      <td>0.658</td>\n",
       "      <td>2023-02-12 20:19:12.543496</td>\n",
       "      <td>2023-02-12 20:19:26.676186</td>\n",
       "      <td>0 days 00:00:14.132690</td>\n",
       "      <td>6.027586</td>\n",
       "      <td>0.1</td>\n",
       "      <td>False</td>\n",
       "      <td>l2</td>\n",
       "      <td>False</td>\n",
       "      <td>False</td>\n",
       "      <td>COMPLETE</td>\n",
       "    </tr>\n",
       "    <tr>\n",
       "      <th>17</th>\n",
       "      <td>17</td>\n",
       "      <td>0.660</td>\n",
       "      <td>2023-02-12 20:15:51.947395</td>\n",
       "      <td>2023-02-12 20:16:06.275483</td>\n",
       "      <td>0 days 00:00:14.328088</td>\n",
       "      <td>5.391655</td>\n",
       "      <td>0.1</td>\n",
       "      <td>False</td>\n",
       "      <td>l2</td>\n",
       "      <td>False</td>\n",
       "      <td>False</td>\n",
       "      <td>COMPLETE</td>\n",
       "    </tr>\n",
       "    <tr>\n",
       "      <th>24</th>\n",
       "      <td>24</td>\n",
       "      <td>0.661</td>\n",
       "      <td>2023-02-12 20:17:32.235063</td>\n",
       "      <td>2023-02-12 20:17:46.365057</td>\n",
       "      <td>0 days 00:00:14.129994</td>\n",
       "      <td>5.782303</td>\n",
       "      <td>0.1</td>\n",
       "      <td>False</td>\n",
       "      <td>l2</td>\n",
       "      <td>False</td>\n",
       "      <td>False</td>\n",
       "      <td>COMPLETE</td>\n",
       "    </tr>\n",
       "    <tr>\n",
       "      <th>30</th>\n",
       "      <td>30</td>\n",
       "      <td>0.662</td>\n",
       "      <td>2023-02-12 20:18:58.337785</td>\n",
       "      <td>2023-02-12 20:19:12.528499</td>\n",
       "      <td>0 days 00:00:14.190714</td>\n",
       "      <td>6.127276</td>\n",
       "      <td>0.1</td>\n",
       "      <td>False</td>\n",
       "      <td>l2</td>\n",
       "      <td>False</td>\n",
       "      <td>False</td>\n",
       "      <td>COMPLETE</td>\n",
       "    </tr>\n",
       "  </tbody>\n",
       "</table>\n",
       "</div>"
      ],
      "text/plain": [
       "    number  value             datetime_start          datetime_complete  \\\n",
       "33      33  0.646 2023-02-12 20:19:40.921652 2023-02-12 20:19:55.090151   \n",
       "27      27  0.646 2023-02-12 20:18:15.011229 2023-02-12 20:18:29.342369   \n",
       "36      36  0.649 2023-02-12 20:20:23.841917 2023-02-12 20:20:38.031959   \n",
       "38      38  0.654 2023-02-12 20:20:52.464274 2023-02-12 20:21:06.633232   \n",
       "32      32  0.654 2023-02-12 20:19:26.693659 2023-02-12 20:19:40.906652   \n",
       "23      23  0.655 2023-02-12 20:17:18.110064 2023-02-12 20:17:32.220056   \n",
       "31      31  0.658 2023-02-12 20:19:12.543496 2023-02-12 20:19:26.676186   \n",
       "17      17  0.660 2023-02-12 20:15:51.947395 2023-02-12 20:16:06.275483   \n",
       "24      24  0.661 2023-02-12 20:17:32.235063 2023-02-12 20:17:46.365057   \n",
       "30      30  0.662 2023-02-12 20:18:58.337785 2023-02-12 20:19:12.528499   \n",
       "\n",
       "                 duration  params_alpha  params_l1_ratio  \\\n",
       "33 0 days 00:00:14.168499      4.324908              0.1   \n",
       "27 0 days 00:00:14.331140      4.394182              0.1   \n",
       "36 0 days 00:00:14.190042      2.823420              0.1   \n",
       "38 0 days 00:00:14.168958      2.761732              0.1   \n",
       "32 0 days 00:00:14.212993      4.428107              0.1   \n",
       "23 0 days 00:00:14.109992      6.133459              0.1   \n",
       "31 0 days 00:00:14.132690      6.027586              0.1   \n",
       "17 0 days 00:00:14.328088      5.391655              0.1   \n",
       "24 0 days 00:00:14.129994      5.782303              0.1   \n",
       "30 0 days 00:00:14.190714      6.127276              0.1   \n",
       "\n",
       "    params_normalization params_penalty  params_scaling  params_tfidf  \\\n",
       "33                 False             l2           False         False   \n",
       "27                 False             l2           False         False   \n",
       "36                 False             l2           False         False   \n",
       "38                 False             l2           False         False   \n",
       "32                 False             l2           False         False   \n",
       "23                 False             l2           False         False   \n",
       "31                 False             l2           False         False   \n",
       "17                 False             l2           False         False   \n",
       "24                 False             l2           False         False   \n",
       "30                 False             l2           False         False   \n",
       "\n",
       "       state  \n",
       "33  COMPLETE  \n",
       "27  COMPLETE  \n",
       "36  COMPLETE  \n",
       "38  COMPLETE  \n",
       "32  COMPLETE  \n",
       "23  COMPLETE  \n",
       "31  COMPLETE  \n",
       "17  COMPLETE  \n",
       "24  COMPLETE  \n",
       "30  COMPLETE  "
      ]
     },
     "execution_count": 29,
     "metadata": {},
     "output_type": "execute_result"
    }
   ],
   "source": [
    "study.trials_dataframe().sort_values(by=\"value\").head(10)"
   ]
  },
  {
   "cell_type": "code",
   "execution_count": 38,
   "metadata": {
    "id": "RHHcfjFvnHDa"
   },
   "outputs": [
    {
     "name": "stdout",
     "output_type": "stream",
     "text": [
      "Best SGD regression params: {'alpha': 1.341812665544318, 'l1_ratio': 0.1, 'normalization': False, 'penalty': 'l2', 'scaling': False, 'tfidf': False}, achieving val RMSE: 1.245\n"
     ]
    }
   ],
   "source": [
    "print(f\"Best SGD regression params: {study.best_params}, achieving val RMSE: {study.best_value}\")"
   ]
  },
  {
   "cell_type": "code",
   "execution_count": 19,
   "metadata": {},
   "outputs": [],
   "source": [
    "save = True\n",
    "load = False\n",
    "\n",
    "regressor_params = {\"alpha\": 1.34, \"l1_ratio\": 0.1, \"penalty\": \"l2\"}\n",
    "pipe_params = {\n",
    "    'normalization': False,\n",
    "    'scaling': False,\n",
    "    'tfidf': False,\n",
    "}\n",
    "\n",
    "if load:\n",
    "    pipe = joblib.load(f\"{exp_dir}/sgd/pipe\")\n",
    "else:\n",
    "    regressor = SGDRegressor(**regressor_params)\n",
    "    pipe = sklearn_regressors.train_pipe(regressor, X_train, y_train, **pipe_params)\n",
    "\n",
    "    if save:\n",
    "        additional_attributes = {\n",
    "            \"regressor_params\": regressor_params,\n",
    "            \"pipe_params\": pipe_params,\n",
    "            #\"test_programs\": test_programs,\n",
    "        }\n",
    "\n",
    "        joblib.dump(pipe, f\"{exp_dir}/sgd/pipe\")\n",
    "        with open(f\"{exp_dir}/sgd/additional_attributes.json\", \"w\") as file:\n",
    "            json.dump(additional_attributes, file, indent=4)"
   ]
  },
  {
   "cell_type": "code",
   "execution_count": 20,
   "metadata": {},
   "outputs": [
    {
     "name": "stdout",
     "output_type": "stream",
     "text": [
      "MSE: 2.02\n",
      "MAE: 0.744\n"
     ]
    }
   ],
   "source": [
    "test_bbs = np.array([\" \".join(bb) for bb in test_df.bb.tolist()])\n",
    "test_preds = pipe.predict(test_bbs)\n",
    "true_energies = test_df.energy.values\n",
    "\n",
    "median = np.median(true_energies)\n",
    "std = np.std(true_energies)\n",
    "mse = round(mean_squared_error(true_energies, test_preds), 3)\n",
    "mae = round(mean_absolute_error(true_energies, test_preds), 3)\n",
    "\n",
    "print(f\"MSE: {mse}\")\n",
    "print(f\"MAE: {mae}\")"
   ]
  },
  {
   "cell_type": "markdown",
   "metadata": {
    "id": "Bygw9RgEhJ6I"
   },
   "source": [
    "## SVR"
   ]
  },
  {
   "cell_type": "markdown",
   "metadata": {
    "id": "nvZKfhWJhJ6I"
   },
   "source": [
    "Support Vector Regression. Tune:\n",
    "* kernel\n",
    "* gamma\n",
    "* C"
   ]
  },
  {
   "cell_type": "code",
   "execution_count": 8,
   "metadata": {
    "id": "w3QypaVGpjBx"
   },
   "outputs": [
    {
     "name": "stderr",
     "output_type": "stream",
     "text": [
      "\u001b[32m[I 2023-02-20 17:57:42,719]\u001b[0m A new study created in RDB with name: SVR-regression\u001b[0m\n"
     ]
    },
    {
     "name": "stdout",
     "output_type": "stream",
     "text": [
      "A new study created in RDB with name: SVR-regression\n"
     ]
    }
   ],
   "source": [
    "study = optuna.create_study(study_name=\"SVR-regression\", storage=storage_name, load_if_exists=True, direction=\"minimize\")\n",
    "study.set_user_attr(\"Loss\", \"RMSE\")"
   ]
  },
  {
   "cell_type": "code",
   "execution_count": null,
   "metadata": {},
   "outputs": [],
   "source": [
    "def objective(trial):\n",
    "\n",
    "    kernel = trial.suggest_categorical(\"kernel\", [\"rbf\", \"linear\"])\n",
    "    C = trial.suggest_float(\"C\", 0.1, 10.0)\n",
    "    gamma = trial.suggest_float(\"gamma\", 0.1, 0.1)\n",
    "    tfidf = trial.suggest_categorical(\"tfidf\", [True, False])\n",
    "    normalization = trial.suggest_categorical(\"normalization\", [True, False])\n",
    "    scaling = trial.suggest_categorical(\"scaling\", [True, False])\n",
    "\n",
    "    regressor = SVR(kernel=kernel, C=C, gamma=gamma)\n",
    "    score = sklearn_regressors.evaluate_regressor(\n",
    "        regressor=regressor,\n",
    "        X=X_train[:10000],\n",
    "        y=y_train[:10000],\n",
    "        tfidf=tfidf,\n",
    "        normalization=normalization, \n",
    "        scaling=scaling\n",
    "    )\n",
    "\n",
    "    return score\n",
    "\n",
    "study.optimize(objective, n_trials=40)"
   ]
  },
  {
   "cell_type": "code",
   "execution_count": 10,
   "metadata": {
    "id": "E4CUCnjypjBx"
   },
   "outputs": [
    {
     "data": {
      "text/html": [
       "<div>\n",
       "<style scoped>\n",
       "    .dataframe tbody tr th:only-of-type {\n",
       "        vertical-align: middle;\n",
       "    }\n",
       "\n",
       "    .dataframe tbody tr th {\n",
       "        vertical-align: top;\n",
       "    }\n",
       "\n",
       "    .dataframe thead th {\n",
       "        text-align: right;\n",
       "    }\n",
       "</style>\n",
       "<table border=\"1\" class=\"dataframe\">\n",
       "  <thead>\n",
       "    <tr style=\"text-align: right;\">\n",
       "      <th></th>\n",
       "      <th>number</th>\n",
       "      <th>value</th>\n",
       "      <th>datetime_start</th>\n",
       "      <th>datetime_complete</th>\n",
       "      <th>duration</th>\n",
       "      <th>params_C</th>\n",
       "      <th>params_gamma</th>\n",
       "      <th>params_kernel</th>\n",
       "      <th>params_normalization</th>\n",
       "      <th>params_scaling</th>\n",
       "      <th>params_tfidf</th>\n",
       "      <th>state</th>\n",
       "    </tr>\n",
       "  </thead>\n",
       "  <tbody>\n",
       "    <tr>\n",
       "      <th>22</th>\n",
       "      <td>22</td>\n",
       "      <td>1.189</td>\n",
       "      <td>2023-02-20 18:30:22.377620</td>\n",
       "      <td>2023-02-20 18:30:24.073617</td>\n",
       "      <td>0 days 00:00:01.695997</td>\n",
       "      <td>7.200131</td>\n",
       "      <td>0.1</td>\n",
       "      <td>rbf</td>\n",
       "      <td>True</td>\n",
       "      <td>False</td>\n",
       "      <td>False</td>\n",
       "      <td>COMPLETE</td>\n",
       "    </tr>\n",
       "    <tr>\n",
       "      <th>18</th>\n",
       "      <td>18</td>\n",
       "      <td>1.192</td>\n",
       "      <td>2023-02-20 18:30:13.887883</td>\n",
       "      <td>2023-02-20 18:30:15.588621</td>\n",
       "      <td>0 days 00:00:01.700738</td>\n",
       "      <td>9.990970</td>\n",
       "      <td>0.1</td>\n",
       "      <td>rbf</td>\n",
       "      <td>True</td>\n",
       "      <td>False</td>\n",
       "      <td>False</td>\n",
       "      <td>COMPLETE</td>\n",
       "    </tr>\n",
       "    <tr>\n",
       "      <th>9</th>\n",
       "      <td>9</td>\n",
       "      <td>1.198</td>\n",
       "      <td>2023-02-20 18:29:36.954581</td>\n",
       "      <td>2023-02-20 18:29:38.842582</td>\n",
       "      <td>0 days 00:00:01.888001</td>\n",
       "      <td>3.756106</td>\n",
       "      <td>0.1</td>\n",
       "      <td>linear</td>\n",
       "      <td>True</td>\n",
       "      <td>False</td>\n",
       "      <td>False</td>\n",
       "      <td>COMPLETE</td>\n",
       "    </tr>\n",
       "    <tr>\n",
       "      <th>25</th>\n",
       "      <td>25</td>\n",
       "      <td>1.204</td>\n",
       "      <td>2023-02-20 18:30:27.460547</td>\n",
       "      <td>2023-02-20 18:30:29.144814</td>\n",
       "      <td>0 days 00:00:01.684267</td>\n",
       "      <td>7.389770</td>\n",
       "      <td>0.1</td>\n",
       "      <td>rbf</td>\n",
       "      <td>True</td>\n",
       "      <td>False</td>\n",
       "      <td>False</td>\n",
       "      <td>COMPLETE</td>\n",
       "    </tr>\n",
       "    <tr>\n",
       "      <th>26</th>\n",
       "      <td>26</td>\n",
       "      <td>1.206</td>\n",
       "      <td>2023-02-20 18:30:29.161903</td>\n",
       "      <td>2023-02-20 18:30:30.893968</td>\n",
       "      <td>0 days 00:00:01.732065</td>\n",
       "      <td>9.662281</td>\n",
       "      <td>0.1</td>\n",
       "      <td>rbf</td>\n",
       "      <td>True</td>\n",
       "      <td>False</td>\n",
       "      <td>True</td>\n",
       "      <td>COMPLETE</td>\n",
       "    </tr>\n",
       "    <tr>\n",
       "      <th>10</th>\n",
       "      <td>10</td>\n",
       "      <td>1.223</td>\n",
       "      <td>2023-02-20 18:29:38.860089</td>\n",
       "      <td>2023-02-20 18:29:40.609037</td>\n",
       "      <td>0 days 00:00:01.748948</td>\n",
       "      <td>5.509130</td>\n",
       "      <td>0.1</td>\n",
       "      <td>rbf</td>\n",
       "      <td>False</td>\n",
       "      <td>False</td>\n",
       "      <td>False</td>\n",
       "      <td>COMPLETE</td>\n",
       "    </tr>\n",
       "    <tr>\n",
       "      <th>32</th>\n",
       "      <td>32</td>\n",
       "      <td>1.230</td>\n",
       "      <td>2023-02-20 18:30:40.980095</td>\n",
       "      <td>2023-02-20 18:30:42.686375</td>\n",
       "      <td>0 days 00:00:01.706280</td>\n",
       "      <td>8.393829</td>\n",
       "      <td>0.1</td>\n",
       "      <td>rbf</td>\n",
       "      <td>True</td>\n",
       "      <td>False</td>\n",
       "      <td>False</td>\n",
       "      <td>COMPLETE</td>\n",
       "    </tr>\n",
       "    <tr>\n",
       "      <th>31</th>\n",
       "      <td>31</td>\n",
       "      <td>1.231</td>\n",
       "      <td>2023-02-20 18:30:39.276778</td>\n",
       "      <td>2023-02-20 18:30:40.963397</td>\n",
       "      <td>0 days 00:00:01.686619</td>\n",
       "      <td>7.266420</td>\n",
       "      <td>0.1</td>\n",
       "      <td>rbf</td>\n",
       "      <td>True</td>\n",
       "      <td>False</td>\n",
       "      <td>False</td>\n",
       "      <td>COMPLETE</td>\n",
       "    </tr>\n",
       "    <tr>\n",
       "      <th>6</th>\n",
       "      <td>6</td>\n",
       "      <td>1.233</td>\n",
       "      <td>2023-02-20 18:09:47.242202</td>\n",
       "      <td>2023-02-20 18:09:49.150196</td>\n",
       "      <td>0 days 00:00:01.907994</td>\n",
       "      <td>3.022796</td>\n",
       "      <td>0.1</td>\n",
       "      <td>linear</td>\n",
       "      <td>True</td>\n",
       "      <td>False</td>\n",
       "      <td>True</td>\n",
       "      <td>COMPLETE</td>\n",
       "    </tr>\n",
       "    <tr>\n",
       "      <th>24</th>\n",
       "      <td>24</td>\n",
       "      <td>1.238</td>\n",
       "      <td>2023-02-20 18:30:25.765158</td>\n",
       "      <td>2023-02-20 18:30:27.443546</td>\n",
       "      <td>0 days 00:00:01.678388</td>\n",
       "      <td>7.606435</td>\n",
       "      <td>0.1</td>\n",
       "      <td>rbf</td>\n",
       "      <td>True</td>\n",
       "      <td>False</td>\n",
       "      <td>False</td>\n",
       "      <td>COMPLETE</td>\n",
       "    </tr>\n",
       "  </tbody>\n",
       "</table>\n",
       "</div>"
      ],
      "text/plain": [
       "    number  value             datetime_start          datetime_complete  \\\n",
       "22      22  1.189 2023-02-20 18:30:22.377620 2023-02-20 18:30:24.073617   \n",
       "18      18  1.192 2023-02-20 18:30:13.887883 2023-02-20 18:30:15.588621   \n",
       "9        9  1.198 2023-02-20 18:29:36.954581 2023-02-20 18:29:38.842582   \n",
       "25      25  1.204 2023-02-20 18:30:27.460547 2023-02-20 18:30:29.144814   \n",
       "26      26  1.206 2023-02-20 18:30:29.161903 2023-02-20 18:30:30.893968   \n",
       "10      10  1.223 2023-02-20 18:29:38.860089 2023-02-20 18:29:40.609037   \n",
       "32      32  1.230 2023-02-20 18:30:40.980095 2023-02-20 18:30:42.686375   \n",
       "31      31  1.231 2023-02-20 18:30:39.276778 2023-02-20 18:30:40.963397   \n",
       "6        6  1.233 2023-02-20 18:09:47.242202 2023-02-20 18:09:49.150196   \n",
       "24      24  1.238 2023-02-20 18:30:25.765158 2023-02-20 18:30:27.443546   \n",
       "\n",
       "                 duration  params_C  params_gamma params_kernel  \\\n",
       "22 0 days 00:00:01.695997  7.200131           0.1           rbf   \n",
       "18 0 days 00:00:01.700738  9.990970           0.1           rbf   \n",
       "9  0 days 00:00:01.888001  3.756106           0.1        linear   \n",
       "25 0 days 00:00:01.684267  7.389770           0.1           rbf   \n",
       "26 0 days 00:00:01.732065  9.662281           0.1           rbf   \n",
       "10 0 days 00:00:01.748948  5.509130           0.1           rbf   \n",
       "32 0 days 00:00:01.706280  8.393829           0.1           rbf   \n",
       "31 0 days 00:00:01.686619  7.266420           0.1           rbf   \n",
       "6  0 days 00:00:01.907994  3.022796           0.1        linear   \n",
       "24 0 days 00:00:01.678388  7.606435           0.1           rbf   \n",
       "\n",
       "    params_normalization  params_scaling  params_tfidf     state  \n",
       "22                  True           False         False  COMPLETE  \n",
       "18                  True           False         False  COMPLETE  \n",
       "9                   True           False         False  COMPLETE  \n",
       "25                  True           False         False  COMPLETE  \n",
       "26                  True           False          True  COMPLETE  \n",
       "10                 False           False         False  COMPLETE  \n",
       "32                  True           False         False  COMPLETE  \n",
       "31                  True           False         False  COMPLETE  \n",
       "6                   True           False          True  COMPLETE  \n",
       "24                  True           False         False  COMPLETE  "
      ]
     },
     "execution_count": 10,
     "metadata": {},
     "output_type": "execute_result"
    }
   ],
   "source": [
    "study.trials_dataframe().sort_values(by=\"value\").head(10)"
   ]
  },
  {
   "cell_type": "code",
   "execution_count": 12,
   "metadata": {
    "id": "ldt9BKzppjBx"
   },
   "outputs": [
    {
     "name": "stdout",
     "output_type": "stream",
     "text": [
      "Best SVR regression params: {'C': 7.2001310227775885, 'gamma': 0.1, 'kernel': 'rbf', 'normalization': True, 'scaling': False, 'tfidf': False}, achieving val RMSE: 1.189\n"
     ]
    }
   ],
   "source": [
    "print(f\"Best SVR regression params: {study.best_params}, achieving val RMSE: {study.best_value}\")"
   ]
  },
  {
   "cell_type": "code",
   "execution_count": 14,
   "metadata": {},
   "outputs": [],
   "source": [
    "save = True\n",
    "load = False\n",
    "\n",
    "regressor_params = {\"kernel\": \"rbf\", \"C\": 7.2, \"gamma\": 0.1}\n",
    "pipe_params = {\n",
    "    'normalization': False,\n",
    "    'scaling': False,\n",
    "    'tfidf': False,\n",
    "}\n",
    "\n",
    "sample = 50000\n",
    "\n",
    "if load:\n",
    "    pipe = joblib.load(f\"{exp_dir}/svr/pipe\")\n",
    "else:\n",
    "    regressor = SVR(**regressor_params)\n",
    "    pipe = sklearn_regressors.train_pipe(regressor, X_train[:sample], y_train[:sample], **pipe_params)\n",
    "    if save:\n",
    "        additional_attributes = {\n",
    "            \"regressor_params\": regressor_params,\n",
    "            \"pipe_params\": pipe_params,\n",
    "        }\n",
    "\n",
    "        joblib.dump(pipe, f\"{exp_dir}/svr/pipe\")\n",
    "        with open(f\"{exp_dir}/svr/additional_attributes.json\", \"w\") as file:\n",
    "            json.dump(additional_attributes, file, indent=4)"
   ]
  },
  {
   "cell_type": "code",
   "execution_count": 15,
   "metadata": {},
   "outputs": [
    {
     "name": "stdout",
     "output_type": "stream",
     "text": [
      "MSE: 1.375\n",
      "MAE: 0.673\n"
     ]
    }
   ],
   "source": [
    "test_bbs = np.array([\" \".join(bb) for bb in test_df.bb.tolist()])\n",
    "test_preds = pipe.predict(test_bbs)\n",
    "true_energies = test_df.energy.values\n",
    "\n",
    "median = np.median(true_energies)\n",
    "std = np.std(true_energies)\n",
    "mse = round(mean_squared_error(true_energies, test_preds), 3)\n",
    "mae = round(mean_absolute_error(true_energies, test_preds), 3)\n",
    "\n",
    "print(f\"MSE: {mse}\")\n",
    "print(f\"MAE: {mae}\")"
   ]
  },
  {
   "cell_type": "markdown",
   "metadata": {
    "id": "niRzqRbiqktt"
   },
   "source": [
    "## Hist Gradient Boosting Regressor"
   ]
  },
  {
   "cell_type": "markdown",
   "metadata": {
    "id": "TqDc4QTTqp-b"
   },
   "source": [
    "Gradient Boosting regression for large datasets. Tune:\n",
    "* learning rate\n",
    "* max leaf nodes\n",
    "* l2 regularization"
   ]
  },
  {
   "cell_type": "code",
   "execution_count": 16,
   "metadata": {
    "id": "N1XDTSmfqxFl"
   },
   "outputs": [
    {
     "name": "stderr",
     "output_type": "stream",
     "text": [
      "\u001b[32m[I 2023-02-20 18:32:50,351]\u001b[0m A new study created in RDB with name: HistGBoost-regression\u001b[0m\n"
     ]
    },
    {
     "name": "stdout",
     "output_type": "stream",
     "text": [
      "A new study created in RDB with name: HistGBoost-regression\n"
     ]
    }
   ],
   "source": [
    "study = optuna.create_study(study_name=\"HistGBoost-regression\", storage=storage_name, load_if_exists=True, direction=\"minimize\")\n",
    "study.set_user_attr(\"Loss\", \"RMSE\")"
   ]
  },
  {
   "cell_type": "code",
   "execution_count": null,
   "metadata": {},
   "outputs": [],
   "source": [
    "def objective(trial):\n",
    "\n",
    "    learning_rate = trial.suggest_float(\"learning_rate\", 1e-4, 0.5)\n",
    "    max_leaf_nodes = trial.suggest_int(\"max_leaf_nodes\", 10, 60)\n",
    "    l2_regularization = trial.suggest_float(\"l2_regularization\", 0.1, 10.0)\n",
    "    tfidf = trial.suggest_categorical(\"tfidf\", [True, False])\n",
    "    normalization = trial.suggest_categorical(\"normalization\", [True, False])\n",
    "    scaling = trial.suggest_categorical(\"scaling\", [True, False])\n",
    "\n",
    "    regressor = HistGradientBoostingRegressor(learning_rate=learning_rate, max_leaf_nodes=max_leaf_nodes, l2_regularization=l2_regularization)\n",
    "    score = sklearn_regressors.evaluate_regressor(\n",
    "        regressor=regressor,\n",
    "        X=X_train,\n",
    "        y=y_train,\n",
    "        tfidf=tfidf,\n",
    "        normalization=normalization, \n",
    "        scaling=scaling,\n",
    "        requires_dense=True,\n",
    "    )\n",
    "\n",
    "    return score\n",
    "\n",
    "study.optimize(objective, n_trials=40)"
   ]
  },
  {
   "cell_type": "code",
   "execution_count": 20,
   "metadata": {
    "id": "y0rvRiP-qxFm"
   },
   "outputs": [
    {
     "data": {
      "text/html": [
       "<div>\n",
       "<style scoped>\n",
       "    .dataframe tbody tr th:only-of-type {\n",
       "        vertical-align: middle;\n",
       "    }\n",
       "\n",
       "    .dataframe tbody tr th {\n",
       "        vertical-align: top;\n",
       "    }\n",
       "\n",
       "    .dataframe thead th {\n",
       "        text-align: right;\n",
       "    }\n",
       "</style>\n",
       "<table border=\"1\" class=\"dataframe\">\n",
       "  <thead>\n",
       "    <tr style=\"text-align: right;\">\n",
       "      <th></th>\n",
       "      <th>number</th>\n",
       "      <th>value</th>\n",
       "      <th>datetime_start</th>\n",
       "      <th>datetime_complete</th>\n",
       "      <th>duration</th>\n",
       "      <th>params_l2_regularization</th>\n",
       "      <th>params_learning_rate</th>\n",
       "      <th>params_max_leaf_nodes</th>\n",
       "      <th>params_normalization</th>\n",
       "      <th>params_scaling</th>\n",
       "      <th>params_tfidf</th>\n",
       "      <th>state</th>\n",
       "    </tr>\n",
       "  </thead>\n",
       "  <tbody>\n",
       "    <tr>\n",
       "      <th>27</th>\n",
       "      <td>27</td>\n",
       "      <td>1.159</td>\n",
       "      <td>2023-02-20 18:52:59.665193</td>\n",
       "      <td>2023-02-20 18:53:17.724195</td>\n",
       "      <td>0 days 00:00:18.059002</td>\n",
       "      <td>2.744975</td>\n",
       "      <td>0.035091</td>\n",
       "      <td>11</td>\n",
       "      <td>False</td>\n",
       "      <td>False</td>\n",
       "      <td>False</td>\n",
       "      <td>COMPLETE</td>\n",
       "    </tr>\n",
       "    <tr>\n",
       "      <th>0</th>\n",
       "      <td>0</td>\n",
       "      <td>1.166</td>\n",
       "      <td>2023-02-20 18:32:54.411005</td>\n",
       "      <td>2023-02-20 18:33:35.052018</td>\n",
       "      <td>0 days 00:00:40.641013</td>\n",
       "      <td>0.604280</td>\n",
       "      <td>0.017179</td>\n",
       "      <td>25</td>\n",
       "      <td>False</td>\n",
       "      <td>False</td>\n",
       "      <td>False</td>\n",
       "      <td>COMPLETE</td>\n",
       "    </tr>\n",
       "    <tr>\n",
       "      <th>23</th>\n",
       "      <td>23</td>\n",
       "      <td>1.171</td>\n",
       "      <td>2023-02-20 18:50:36.498693</td>\n",
       "      <td>2023-02-20 18:51:10.542193</td>\n",
       "      <td>0 days 00:00:34.043500</td>\n",
       "      <td>3.965629</td>\n",
       "      <td>0.122618</td>\n",
       "      <td>21</td>\n",
       "      <td>False</td>\n",
       "      <td>False</td>\n",
       "      <td>False</td>\n",
       "      <td>COMPLETE</td>\n",
       "    </tr>\n",
       "    <tr>\n",
       "      <th>17</th>\n",
       "      <td>17</td>\n",
       "      <td>1.176</td>\n",
       "      <td>2023-02-20 18:46:51.490254</td>\n",
       "      <td>2023-02-20 18:47:23.308750</td>\n",
       "      <td>0 days 00:00:31.818496</td>\n",
       "      <td>9.630193</td>\n",
       "      <td>0.102127</td>\n",
       "      <td>20</td>\n",
       "      <td>False</td>\n",
       "      <td>False</td>\n",
       "      <td>False</td>\n",
       "      <td>COMPLETE</td>\n",
       "    </tr>\n",
       "    <tr>\n",
       "      <th>12</th>\n",
       "      <td>12</td>\n",
       "      <td>1.193</td>\n",
       "      <td>2023-02-20 18:43:53.610250</td>\n",
       "      <td>2023-02-20 18:44:29.325749</td>\n",
       "      <td>0 days 00:00:35.715499</td>\n",
       "      <td>5.683796</td>\n",
       "      <td>0.296192</td>\n",
       "      <td>23</td>\n",
       "      <td>False</td>\n",
       "      <td>False</td>\n",
       "      <td>False</td>\n",
       "      <td>COMPLETE</td>\n",
       "    </tr>\n",
       "    <tr>\n",
       "      <th>22</th>\n",
       "      <td>22</td>\n",
       "      <td>1.208</td>\n",
       "      <td>2023-02-20 18:49:51.526250</td>\n",
       "      <td>2023-02-20 18:50:36.479193</td>\n",
       "      <td>0 days 00:00:44.952943</td>\n",
       "      <td>5.153518</td>\n",
       "      <td>0.061101</td>\n",
       "      <td>28</td>\n",
       "      <td>False</td>\n",
       "      <td>False</td>\n",
       "      <td>False</td>\n",
       "      <td>COMPLETE</td>\n",
       "    </tr>\n",
       "    <tr>\n",
       "      <th>24</th>\n",
       "      <td>24</td>\n",
       "      <td>1.210</td>\n",
       "      <td>2023-02-20 18:51:10.562693</td>\n",
       "      <td>2023-02-20 18:51:32.506193</td>\n",
       "      <td>0 days 00:00:21.943500</td>\n",
       "      <td>1.272847</td>\n",
       "      <td>0.126748</td>\n",
       "      <td>14</td>\n",
       "      <td>False</td>\n",
       "      <td>False</td>\n",
       "      <td>False</td>\n",
       "      <td>COMPLETE</td>\n",
       "    </tr>\n",
       "    <tr>\n",
       "      <th>33</th>\n",
       "      <td>33</td>\n",
       "      <td>1.222</td>\n",
       "      <td>2023-02-20 18:55:34.949193</td>\n",
       "      <td>2023-02-20 18:56:00.773694</td>\n",
       "      <td>0 days 00:00:25.824501</td>\n",
       "      <td>4.295648</td>\n",
       "      <td>0.084432</td>\n",
       "      <td>16</td>\n",
       "      <td>False</td>\n",
       "      <td>False</td>\n",
       "      <td>False</td>\n",
       "      <td>COMPLETE</td>\n",
       "    </tr>\n",
       "    <tr>\n",
       "      <th>32</th>\n",
       "      <td>32</td>\n",
       "      <td>1.224</td>\n",
       "      <td>2023-02-20 18:55:02.206195</td>\n",
       "      <td>2023-02-20 18:55:34.929193</td>\n",
       "      <td>0 days 00:00:32.722998</td>\n",
       "      <td>3.248474</td>\n",
       "      <td>0.140634</td>\n",
       "      <td>21</td>\n",
       "      <td>False</td>\n",
       "      <td>False</td>\n",
       "      <td>False</td>\n",
       "      <td>COMPLETE</td>\n",
       "    </tr>\n",
       "    <tr>\n",
       "      <th>35</th>\n",
       "      <td>35</td>\n",
       "      <td>1.231</td>\n",
       "      <td>2023-02-20 18:56:52.135694</td>\n",
       "      <td>2023-02-20 18:57:19.166193</td>\n",
       "      <td>0 days 00:00:27.030499</td>\n",
       "      <td>0.774214</td>\n",
       "      <td>0.173554</td>\n",
       "      <td>17</td>\n",
       "      <td>True</td>\n",
       "      <td>True</td>\n",
       "      <td>True</td>\n",
       "      <td>COMPLETE</td>\n",
       "    </tr>\n",
       "  </tbody>\n",
       "</table>\n",
       "</div>"
      ],
      "text/plain": [
       "    number  value             datetime_start          datetime_complete  \\\n",
       "27      27  1.159 2023-02-20 18:52:59.665193 2023-02-20 18:53:17.724195   \n",
       "0        0  1.166 2023-02-20 18:32:54.411005 2023-02-20 18:33:35.052018   \n",
       "23      23  1.171 2023-02-20 18:50:36.498693 2023-02-20 18:51:10.542193   \n",
       "17      17  1.176 2023-02-20 18:46:51.490254 2023-02-20 18:47:23.308750   \n",
       "12      12  1.193 2023-02-20 18:43:53.610250 2023-02-20 18:44:29.325749   \n",
       "22      22  1.208 2023-02-20 18:49:51.526250 2023-02-20 18:50:36.479193   \n",
       "24      24  1.210 2023-02-20 18:51:10.562693 2023-02-20 18:51:32.506193   \n",
       "33      33  1.222 2023-02-20 18:55:34.949193 2023-02-20 18:56:00.773694   \n",
       "32      32  1.224 2023-02-20 18:55:02.206195 2023-02-20 18:55:34.929193   \n",
       "35      35  1.231 2023-02-20 18:56:52.135694 2023-02-20 18:57:19.166193   \n",
       "\n",
       "                 duration  params_l2_regularization  params_learning_rate  \\\n",
       "27 0 days 00:00:18.059002                  2.744975              0.035091   \n",
       "0  0 days 00:00:40.641013                  0.604280              0.017179   \n",
       "23 0 days 00:00:34.043500                  3.965629              0.122618   \n",
       "17 0 days 00:00:31.818496                  9.630193              0.102127   \n",
       "12 0 days 00:00:35.715499                  5.683796              0.296192   \n",
       "22 0 days 00:00:44.952943                  5.153518              0.061101   \n",
       "24 0 days 00:00:21.943500                  1.272847              0.126748   \n",
       "33 0 days 00:00:25.824501                  4.295648              0.084432   \n",
       "32 0 days 00:00:32.722998                  3.248474              0.140634   \n",
       "35 0 days 00:00:27.030499                  0.774214              0.173554   \n",
       "\n",
       "    params_max_leaf_nodes  params_normalization  params_scaling  params_tfidf  \\\n",
       "27                     11                 False           False         False   \n",
       "0                      25                 False           False         False   \n",
       "23                     21                 False           False         False   \n",
       "17                     20                 False           False         False   \n",
       "12                     23                 False           False         False   \n",
       "22                     28                 False           False         False   \n",
       "24                     14                 False           False         False   \n",
       "33                     16                 False           False         False   \n",
       "32                     21                 False           False         False   \n",
       "35                     17                  True            True          True   \n",
       "\n",
       "       state  \n",
       "27  COMPLETE  \n",
       "0   COMPLETE  \n",
       "23  COMPLETE  \n",
       "17  COMPLETE  \n",
       "12  COMPLETE  \n",
       "22  COMPLETE  \n",
       "24  COMPLETE  \n",
       "33  COMPLETE  \n",
       "32  COMPLETE  \n",
       "35  COMPLETE  "
      ]
     },
     "execution_count": 20,
     "metadata": {},
     "output_type": "execute_result"
    }
   ],
   "source": [
    "study.trials_dataframe().sort_values(by=\"value\").head(10)"
   ]
  },
  {
   "cell_type": "code",
   "execution_count": 21,
   "metadata": {
    "id": "jsVyX3vTqxFm"
   },
   "outputs": [
    {
     "name": "stdout",
     "output_type": "stream",
     "text": [
      "Best HistGBoost regression params: {'l2_regularization': 2.7449752057437693, 'learning_rate': 0.03509097403389229, 'max_leaf_nodes': 11, 'normalization': False, 'scaling': False, 'tfidf': False}, achieving val RMSE: 1.159\n"
     ]
    }
   ],
   "source": [
    "print(f\"Best HistGBoost regression params: {study.best_params}, achieving val RMSE: {study.best_value}\")"
   ]
  },
  {
   "cell_type": "code",
   "execution_count": 23,
   "metadata": {},
   "outputs": [],
   "source": [
    "save = True\n",
    "load = False\n",
    "\n",
    "regressor_params = {\"learning_rate\": 0.035, \"max_leaf_nodes\": 11, \"l2_regularization\": 2.75}\n",
    "pipe_params = {\n",
    "    'normalization': False,\n",
    "    'scaling': False,\n",
    "    'tfidf': False,\n",
    "    'requires_dense': True,\n",
    "}\n",
    "\n",
    "if load:\n",
    "    pipe = joblib.load(f\"{exp_dir}/hist_gradient_boosting/pipe\")\n",
    "else:\n",
    "    regressor = HistGradientBoostingRegressor(**regressor_params)\n",
    "    pipe = sklearn_regressors.train_pipe(regressor, X_train, y_train, **pipe_params)\n",
    "\n",
    "    if save:\n",
    "        additional_attributes = {\n",
    "            \"regressor_params\": regressor_params,\n",
    "            \"pipe_params\": pipe_params,\n",
    "        }\n",
    "\n",
    "        joblib.dump(pipe, f\"{exp_dir}/hist_gradient_boosting/pipe\")\n",
    "        with open(f\"{exp_dir}/hist_gradient_boosting/additional_attributes.json\", \"w\") as file:\n",
    "            json.dump(additional_attributes, file, indent=4)"
   ]
  },
  {
   "cell_type": "code",
   "execution_count": 24,
   "metadata": {},
   "outputs": [
    {
     "name": "stdout",
     "output_type": "stream",
     "text": [
      "MSE: 1.325\n",
      "MAE: 0.718\n"
     ]
    }
   ],
   "source": [
    "test_bbs = np.array([\" \".join(bb) for bb in test_df.bb.tolist()])\n",
    "test_preds = pipe.predict(test_bbs)\n",
    "true_energies = test_df.energy.values\n",
    "\n",
    "median = np.median(true_energies)\n",
    "std = np.std(true_energies)\n",
    "mse = round(mean_squared_error(true_energies, test_preds), 3)\n",
    "mae = round(mean_absolute_error(true_energies, test_preds), 3)\n",
    "\n",
    "print(f\"MSE: {mse}\")\n",
    "print(f\"MAE: {mae}\")"
   ]
  }
 ],
 "metadata": {
  "kernelspec": {
   "display_name": "energy-prediction",
   "language": "python",
   "name": "python3"
  },
  "language_info": {
   "codemirror_mode": {
    "name": "ipython",
    "version": 3
   },
   "file_extension": ".py",
   "mimetype": "text/x-python",
   "name": "python",
   "nbconvert_exporter": "python",
   "pygments_lexer": "ipython3",
   "version": "3.10.4"
  },
  "orig_nbformat": 4,
  "vscode": {
   "interpreter": {
    "hash": "2d8ea44dacc84c32c3ffb10f5fa42b465f31145cc9ac97a8028dfa96db72aa4c"
   }
  }
 },
 "nbformat": 4,
 "nbformat_minor": 2
}
