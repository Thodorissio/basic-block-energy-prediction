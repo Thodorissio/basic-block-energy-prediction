{
 "cells": [
  {
   "attachments": {},
   "cell_type": "markdown",
   "metadata": {},
   "source": [
    "# Imports"
   ]
  },
  {
   "cell_type": "code",
   "execution_count": 1,
   "metadata": {},
   "outputs": [
    {
     "name": "stderr",
     "output_type": "stream",
     "text": [
      "c:\\Users\\thodo\\miniconda3\\envs\\energy-prediction\\lib\\site-packages\\tqdm\\auto.py:22: TqdmWarning: IProgress not found. Please update jupyter and ipywidgets. See https://ipywidgets.readthedocs.io/en/stable/user_install.html\n",
      "  from .autonotebook import tqdm as notebook_tqdm\n"
     ]
    }
   ],
   "source": [
    "import sys\n",
    "import json\n",
    "import logging\n",
    "import joblib\n",
    "import numpy as np\n",
    "import matplotlib.pyplot as plt\n",
    "\n",
    "import optuna\n",
    "\n",
    "from sklearn.model_selection import cross_val_score, ShuffleSplit\n",
    "from sklearn.linear_model import LinearRegression, SGDRegressor, ElasticNet, BayesianRidge, Ridge, Lasso\n",
    "from sklearn.svm import SVR\n",
    "from sklearn.ensemble import HistGradientBoostingRegressor\n",
    "\n",
    "from sklearn.feature_extraction.text import CountVectorizer, TfidfTransformer\n",
    "from sklearn.preprocessing import Normalizer, StandardScaler\n",
    "from sklearn.metrics import mean_absolute_error, mean_squared_error\n",
    "from sklearn.pipeline import Pipeline\n",
    "\n",
    "from typing import Union\n",
    "\n",
    "from bb_energy_prediction import data_utils, sklearn_regressors"
   ]
  },
  {
   "attachments": {},
   "cell_type": "markdown",
   "metadata": {},
   "source": [
    "# Data"
   ]
  },
  {
   "cell_type": "code",
   "execution_count": 2,
   "metadata": {},
   "outputs": [
    {
     "data": {
      "text/html": [
       "<div>\n",
       "<style scoped>\n",
       "    .dataframe tbody tr th:only-of-type {\n",
       "        vertical-align: middle;\n",
       "    }\n",
       "\n",
       "    .dataframe tbody tr th {\n",
       "        vertical-align: top;\n",
       "    }\n",
       "\n",
       "    .dataframe thead th {\n",
       "        text-align: right;\n",
       "    }\n",
       "</style>\n",
       "<table border=\"1\" class=\"dataframe\">\n",
       "  <thead>\n",
       "    <tr style=\"text-align: right;\">\n",
       "      <th></th>\n",
       "      <th>bb</th>\n",
       "      <th>energy</th>\n",
       "      <th>program_name</th>\n",
       "    </tr>\n",
       "  </thead>\n",
       "  <tbody>\n",
       "    <tr>\n",
       "      <th>145775</th>\n",
       "      <td>[movq %rcx, mov %rcx %rdx, mov %r11 %rsi, mov ...</td>\n",
       "      <td>2.884094</td>\n",
       "      <td>function_pointer</td>\n",
       "    </tr>\n",
       "    <tr>\n",
       "      <th>34647</th>\n",
       "      <td>[mov %rcx, nopw %ax, mov %rdi %rax, mov %rdi %...</td>\n",
       "      <td>0.000583</td>\n",
       "      <td>find_biggest</td>\n",
       "    </tr>\n",
       "    <tr>\n",
       "      <th>510665</th>\n",
       "      <td>[movq %rdx (%rsi), jmp]</td>\n",
       "      <td>0.259610</td>\n",
       "      <td>variable_name</td>\n",
       "    </tr>\n",
       "    <tr>\n",
       "      <th>5424</th>\n",
       "      <td>[jb 0x7]</td>\n",
       "      <td>0.012634</td>\n",
       "      <td>bubblesort</td>\n",
       "    </tr>\n",
       "    <tr>\n",
       "      <th>440869</th>\n",
       "      <td>[lea %rdi, movq %rdi, movq %rdi, movq %rax, jmp]</td>\n",
       "      <td>0.519218</td>\n",
       "      <td>variable_name</td>\n",
       "    </tr>\n",
       "    <tr>\n",
       "      <th>455246</th>\n",
       "      <td>[sub $0x1 %rax, cmpb $0xa (%rax), jz 0x111]</td>\n",
       "      <td>0.151438</td>\n",
       "      <td>variable_name</td>\n",
       "    </tr>\n",
       "    <tr>\n",
       "      <th>317234</th>\n",
       "      <td>[cmp %rax %r12, jb]</td>\n",
       "      <td>0.014741</td>\n",
       "      <td>simple_sort</td>\n",
       "    </tr>\n",
       "    <tr>\n",
       "      <th>138583</th>\n",
       "      <td>[mov %rcx %rax, jmp]</td>\n",
       "      <td>0.508958</td>\n",
       "      <td>function_pointer</td>\n",
       "    </tr>\n",
       "    <tr>\n",
       "      <th>260558</th>\n",
       "      <td>[cmpq $0x0, jz 0x4a]</td>\n",
       "      <td>0.221693</td>\n",
       "      <td>polinominal</td>\n",
       "    </tr>\n",
       "    <tr>\n",
       "      <th>133856</th>\n",
       "      <td>[add $0x8 %rsp, popq %rbx, popq %rbp, popq %r1...</td>\n",
       "      <td>0.000079</td>\n",
       "      <td>function_pointer</td>\n",
       "    </tr>\n",
       "  </tbody>\n",
       "</table>\n",
       "</div>"
      ],
      "text/plain": [
       "                                                       bb    energy  \\\n",
       "145775  [movq %rcx, mov %rcx %rdx, mov %r11 %rsi, mov ...  2.884094   \n",
       "34647   [mov %rcx, nopw %ax, mov %rdi %rax, mov %rdi %...  0.000583   \n",
       "510665                            [movq %rdx (%rsi), jmp]  0.259610   \n",
       "5424                                             [jb 0x7]  0.012634   \n",
       "440869   [lea %rdi, movq %rdi, movq %rdi, movq %rax, jmp]  0.519218   \n",
       "455246        [sub $0x1 %rax, cmpb $0xa (%rax), jz 0x111]  0.151438   \n",
       "317234                                [cmp %rax %r12, jb]  0.014741   \n",
       "138583                               [mov %rcx %rax, jmp]  0.508958   \n",
       "260558                               [cmpq $0x0, jz 0x4a]  0.221693   \n",
       "133856  [add $0x8 %rsp, popq %rbx, popq %rbp, popq %r1...  0.000079   \n",
       "\n",
       "            program_name  \n",
       "145775  function_pointer  \n",
       "34647       find_biggest  \n",
       "510665     variable_name  \n",
       "5424          bubblesort  \n",
       "440869     variable_name  \n",
       "455246     variable_name  \n",
       "317234       simple_sort  \n",
       "138583  function_pointer  \n",
       "260558       polinominal  \n",
       "133856  function_pointer  "
      ]
     },
     "execution_count": 2,
     "metadata": {},
     "output_type": "execute_result"
    }
   ],
   "source": [
    "data_df = data_utils.get_data_df(data_path=f\"../energy_data/data.pkl\")\n",
    "if \"bb_embeddings\" in data_df.columns:\n",
    "    data_df = data_df.drop(columns=\"bb_embeddings\")\n",
    "data_df = data_df.sample(frac=1)\n",
    "data_df.head(10)"
   ]
  },
  {
   "cell_type": "code",
   "execution_count": 3,
   "metadata": {},
   "outputs": [
    {
     "name": "stdout",
     "output_type": "stream",
     "text": [
      "Test programs: ['faa', 'quicksort', 'declare']\n",
      "Test data size: 28575\n"
     ]
    }
   ],
   "source": [
    "program_names = data_df.program_name.value_counts().index[4:]\n",
    "#test_programs = np.random.choice(program_names, 3, replace=False)\n",
    "test_programs = [\"faa\", \"quicksort\", \"declare\"]\n",
    "train_df = data_df[~data_df.program_name.isin(test_programs)]\n",
    "test_df = data_df[data_df.program_name.isin(test_programs)]\n",
    "\n",
    "print(f\"Test programs: {test_programs}\")\n",
    "print(f\"Test data size: {len(test_df)}\")"
   ]
  },
  {
   "cell_type": "code",
   "execution_count": 4,
   "metadata": {},
   "outputs": [],
   "source": [
    "X_train = np.array([\" \".join(bb) for bb in train_df.bb.tolist()])\n",
    "y_train = train_df.energy.values\n",
    "\n",
    "X_test = np.array([\" \".join(bb) for bb in test_df.bb.tolist()])\n",
    "y_test = test_df.energy.values"
   ]
  },
  {
   "cell_type": "code",
   "execution_count": 5,
   "metadata": {},
   "outputs": [
    {
     "name": "stdout",
     "output_type": "stream",
     "text": [
      "Vocab length: 1258\n"
     ]
    }
   ],
   "source": [
    "cnt_vect = CountVectorizer()\n",
    "cnt_vect.fit_transform(X_train)\n",
    "vocab_len = len(cnt_vect.get_feature_names_out())\n",
    "print(f\"Vocab length: {vocab_len}\")"
   ]
  },
  {
   "attachments": {},
   "cell_type": "markdown",
   "metadata": {
    "id": "m-bKya-8hJ6F"
   },
   "source": [
    "# Regressors"
   ]
  },
  {
   "cell_type": "code",
   "execution_count": 6,
   "metadata": {},
   "outputs": [],
   "source": [
    "exp_dir = \"/Users/thodo/Documents/sxoli/diplomatiki/basic-block-energy-prediction/model_checkpoints/regressors\""
   ]
  },
  {
   "cell_type": "code",
   "execution_count": 7,
   "metadata": {
    "id": "yM7w9f7CiVNS"
   },
   "outputs": [],
   "source": [
    "optuna.logging.get_logger(\"optuna\").addHandler(logging.StreamHandler(sys.stdout))\n",
    "storage_name = \"sqlite:////Users/thodo/Documents/sxoli/diplomatiki/optuna-studies/sklearn-regressors.db\""
   ]
  },
  {
   "cell_type": "markdown",
   "metadata": {
    "id": "Us9h9aYghJ6G"
   },
   "source": [
    "## Linear Regression"
   ]
  },
  {
   "cell_type": "markdown",
   "metadata": {
    "id": "neDJrZnbhJ6G"
   },
   "source": [
    "Simple least squares regression.\n",
    "No need for extra tuning."
   ]
  },
  {
   "cell_type": "code",
   "execution_count": 8,
   "metadata": {
    "colab": {
     "base_uri": "https://localhost:8080/"
    },
    "id": "gUm5RDoGit4y",
    "outputId": "43238da4-f5ad-4616-9de3-c61b737c8657"
   },
   "outputs": [
    {
     "name": "stderr",
     "output_type": "stream",
     "text": [
      "\u001b[32m[I 2023-02-13 10:08:23,477]\u001b[0m Using an existing study with name 'linear-regression' instead of creating a new one.\u001b[0m\n"
     ]
    },
    {
     "name": "stdout",
     "output_type": "stream",
     "text": [
      "Using an existing study with name 'linear-regression' instead of creating a new one.\n"
     ]
    }
   ],
   "source": [
    "study = optuna.create_study(study_name=\"linear-regression\", storage=storage_name, load_if_exists=True, direction=\"minimize\")\n",
    "study.set_user_attr(\"Loss\", \"RMSE\")"
   ]
  },
  {
   "cell_type": "code",
   "execution_count": 9,
   "metadata": {
    "id": "keMwGIsEkxZz"
   },
   "outputs": [
    {
     "name": "stderr",
     "output_type": "stream",
     "text": [
      "\u001b[32m[I 2023-02-12 19:27:08,112]\u001b[0m Trial 0 finished with value: 0.584 and parameters: {'tfidf': False, 'normalization': True, 'scaling': False}. Best is trial 0 with value: 0.584.\u001b[0m\n"
     ]
    },
    {
     "name": "stdout",
     "output_type": "stream",
     "text": [
      "Trial 0 finished with value: 0.584 and parameters: {'tfidf': False, 'normalization': True, 'scaling': False}. Best is trial 0 with value: 0.584.\n"
     ]
    },
    {
     "name": "stderr",
     "output_type": "stream",
     "text": [
      "\u001b[32m[I 2023-02-12 19:27:42,693]\u001b[0m Trial 1 finished with value: 0.586 and parameters: {'tfidf': False, 'normalization': False, 'scaling': True}. Best is trial 0 with value: 0.584.\u001b[0m\n"
     ]
    },
    {
     "name": "stdout",
     "output_type": "stream",
     "text": [
      "Trial 1 finished with value: 0.586 and parameters: {'tfidf': False, 'normalization': False, 'scaling': True}. Best is trial 0 with value: 0.584.\n"
     ]
    },
    {
     "name": "stderr",
     "output_type": "stream",
     "text": [
      "\u001b[32m[I 2023-02-12 19:28:08,316]\u001b[0m Trial 2 finished with value: 0.577 and parameters: {'tfidf': True, 'normalization': True, 'scaling': True}. Best is trial 2 with value: 0.577.\u001b[0m\n"
     ]
    },
    {
     "name": "stdout",
     "output_type": "stream",
     "text": [
      "Trial 2 finished with value: 0.577 and parameters: {'tfidf': True, 'normalization': True, 'scaling': True}. Best is trial 2 with value: 0.577.\n"
     ]
    },
    {
     "name": "stderr",
     "output_type": "stream",
     "text": [
      "\u001b[32m[I 2023-02-12 19:28:32,625]\u001b[0m Trial 3 finished with value: 0.581 and parameters: {'tfidf': False, 'normalization': True, 'scaling': True}. Best is trial 2 with value: 0.577.\u001b[0m\n"
     ]
    },
    {
     "name": "stdout",
     "output_type": "stream",
     "text": [
      "Trial 3 finished with value: 0.581 and parameters: {'tfidf': False, 'normalization': True, 'scaling': True}. Best is trial 2 with value: 0.577.\n"
     ]
    },
    {
     "name": "stderr",
     "output_type": "stream",
     "text": [
      "\u001b[32m[I 2023-02-12 19:30:41,874]\u001b[0m Trial 4 finished with value: 0.59 and parameters: {'tfidf': False, 'normalization': True, 'scaling': False}. Best is trial 2 with value: 0.577.\u001b[0m\n"
     ]
    },
    {
     "name": "stdout",
     "output_type": "stream",
     "text": [
      "Trial 4 finished with value: 0.59 and parameters: {'tfidf': False, 'normalization': True, 'scaling': False}. Best is trial 2 with value: 0.577.\n"
     ]
    },
    {
     "name": "stderr",
     "output_type": "stream",
     "text": [
      "\u001b[32m[I 2023-02-12 19:32:29,073]\u001b[0m Trial 5 finished with value: 0.581 and parameters: {'tfidf': True, 'normalization': True, 'scaling': False}. Best is trial 2 with value: 0.577.\u001b[0m\n"
     ]
    },
    {
     "name": "stdout",
     "output_type": "stream",
     "text": [
      "Trial 5 finished with value: 0.581 and parameters: {'tfidf': True, 'normalization': True, 'scaling': False}. Best is trial 2 with value: 0.577.\n"
     ]
    },
    {
     "name": "stderr",
     "output_type": "stream",
     "text": [
      "\u001b[32m[I 2023-02-12 19:34:42,330]\u001b[0m Trial 6 finished with value: 0.579 and parameters: {'tfidf': False, 'normalization': False, 'scaling': False}. Best is trial 2 with value: 0.577.\u001b[0m\n"
     ]
    },
    {
     "name": "stdout",
     "output_type": "stream",
     "text": [
      "Trial 6 finished with value: 0.579 and parameters: {'tfidf': False, 'normalization': False, 'scaling': False}. Best is trial 2 with value: 0.577.\n"
     ]
    },
    {
     "name": "stderr",
     "output_type": "stream",
     "text": [
      "\u001b[32m[I 2023-02-12 19:36:25,277]\u001b[0m Trial 7 finished with value: 0.582 and parameters: {'tfidf': True, 'normalization': True, 'scaling': False}. Best is trial 2 with value: 0.577.\u001b[0m\n"
     ]
    },
    {
     "name": "stdout",
     "output_type": "stream",
     "text": [
      "Trial 7 finished with value: 0.582 and parameters: {'tfidf': True, 'normalization': True, 'scaling': False}. Best is trial 2 with value: 0.577.\n"
     ]
    },
    {
     "name": "stderr",
     "output_type": "stream",
     "text": [
      "\u001b[32m[I 2023-02-12 19:38:38,708]\u001b[0m Trial 8 finished with value: 0.587 and parameters: {'tfidf': False, 'normalization': False, 'scaling': False}. Best is trial 2 with value: 0.577.\u001b[0m\n"
     ]
    },
    {
     "name": "stdout",
     "output_type": "stream",
     "text": [
      "Trial 8 finished with value: 0.587 and parameters: {'tfidf': False, 'normalization': False, 'scaling': False}. Best is trial 2 with value: 0.577.\n"
     ]
    },
    {
     "name": "stderr",
     "output_type": "stream",
     "text": [
      "\u001b[32m[I 2023-02-12 19:39:03,423]\u001b[0m Trial 9 finished with value: 0.578 and parameters: {'tfidf': True, 'normalization': True, 'scaling': True}. Best is trial 2 with value: 0.577.\u001b[0m\n"
     ]
    },
    {
     "name": "stdout",
     "output_type": "stream",
     "text": [
      "Trial 9 finished with value: 0.578 and parameters: {'tfidf': True, 'normalization': True, 'scaling': True}. Best is trial 2 with value: 0.577.\n"
     ]
    }
   ],
   "source": [
    "def objective(trial):\n",
    "\n",
    "    tfidf = trial.suggest_categorical(\"tfidf\", [True, False])\n",
    "    normalization = trial.suggest_categorical(\"normalization\", [True, False])\n",
    "    scaling = trial.suggest_categorical(\"scaling\", [True, False])\n",
    "\n",
    "    regressor = LinearRegression()\n",
    "    score = sklearn_regressors.evaluate_regressor(\n",
    "        regressor=regressor,\n",
    "        X=X_train,\n",
    "        y=y_train,\n",
    "        tfidf=tfidf,\n",
    "        normalization=normalization, \n",
    "        scaling=scaling\n",
    "    )\n",
    "\n",
    "    return score\n",
    "\n",
    "study.optimize(objective, n_trials=10)"
   ]
  },
  {
   "cell_type": "code",
   "execution_count": 9,
   "metadata": {
    "id": "aEHy0IE-lj-J"
   },
   "outputs": [
    {
     "data": {
      "text/html": [
       "<div>\n",
       "<style scoped>\n",
       "    .dataframe tbody tr th:only-of-type {\n",
       "        vertical-align: middle;\n",
       "    }\n",
       "\n",
       "    .dataframe tbody tr th {\n",
       "        vertical-align: top;\n",
       "    }\n",
       "\n",
       "    .dataframe thead th {\n",
       "        text-align: right;\n",
       "    }\n",
       "</style>\n",
       "<table border=\"1\" class=\"dataframe\">\n",
       "  <thead>\n",
       "    <tr style=\"text-align: right;\">\n",
       "      <th></th>\n",
       "      <th>number</th>\n",
       "      <th>value</th>\n",
       "      <th>datetime_start</th>\n",
       "      <th>datetime_complete</th>\n",
       "      <th>duration</th>\n",
       "      <th>params_normalization</th>\n",
       "      <th>params_scaling</th>\n",
       "      <th>params_tfidf</th>\n",
       "      <th>state</th>\n",
       "    </tr>\n",
       "  </thead>\n",
       "  <tbody>\n",
       "    <tr>\n",
       "      <th>2</th>\n",
       "      <td>2</td>\n",
       "      <td>0.577</td>\n",
       "      <td>2023-02-12 19:27:42.697463</td>\n",
       "      <td>2023-02-12 19:28:08.303165</td>\n",
       "      <td>0 days 00:00:25.605702</td>\n",
       "      <td>True</td>\n",
       "      <td>True</td>\n",
       "      <td>True</td>\n",
       "      <td>COMPLETE</td>\n",
       "    </tr>\n",
       "    <tr>\n",
       "      <th>9</th>\n",
       "      <td>9</td>\n",
       "      <td>0.578</td>\n",
       "      <td>2023-02-12 19:38:38.712430</td>\n",
       "      <td>2023-02-12 19:39:03.410964</td>\n",
       "      <td>0 days 00:00:24.698534</td>\n",
       "      <td>True</td>\n",
       "      <td>True</td>\n",
       "      <td>True</td>\n",
       "      <td>COMPLETE</td>\n",
       "    </tr>\n",
       "    <tr>\n",
       "      <th>6</th>\n",
       "      <td>6</td>\n",
       "      <td>0.579</td>\n",
       "      <td>2023-02-12 19:32:29.077328</td>\n",
       "      <td>2023-02-12 19:34:42.318137</td>\n",
       "      <td>0 days 00:02:13.240809</td>\n",
       "      <td>False</td>\n",
       "      <td>False</td>\n",
       "      <td>False</td>\n",
       "      <td>COMPLETE</td>\n",
       "    </tr>\n",
       "    <tr>\n",
       "      <th>3</th>\n",
       "      <td>3</td>\n",
       "      <td>0.581</td>\n",
       "      <td>2023-02-12 19:28:08.320091</td>\n",
       "      <td>2023-02-12 19:28:32.611529</td>\n",
       "      <td>0 days 00:00:24.291438</td>\n",
       "      <td>True</td>\n",
       "      <td>True</td>\n",
       "      <td>False</td>\n",
       "      <td>COMPLETE</td>\n",
       "    </tr>\n",
       "    <tr>\n",
       "      <th>5</th>\n",
       "      <td>5</td>\n",
       "      <td>0.581</td>\n",
       "      <td>2023-02-12 19:30:41.877848</td>\n",
       "      <td>2023-02-12 19:32:29.060359</td>\n",
       "      <td>0 days 00:01:47.182511</td>\n",
       "      <td>True</td>\n",
       "      <td>False</td>\n",
       "      <td>True</td>\n",
       "      <td>COMPLETE</td>\n",
       "    </tr>\n",
       "    <tr>\n",
       "      <th>7</th>\n",
       "      <td>7</td>\n",
       "      <td>0.582</td>\n",
       "      <td>2023-02-12 19:34:42.333613</td>\n",
       "      <td>2023-02-12 19:36:25.262902</td>\n",
       "      <td>0 days 00:01:42.929289</td>\n",
       "      <td>True</td>\n",
       "      <td>False</td>\n",
       "      <td>True</td>\n",
       "      <td>COMPLETE</td>\n",
       "    </tr>\n",
       "    <tr>\n",
       "      <th>0</th>\n",
       "      <td>0</td>\n",
       "      <td>0.584</td>\n",
       "      <td>2023-02-12 19:25:00.574415</td>\n",
       "      <td>2023-02-12 19:27:08.093968</td>\n",
       "      <td>0 days 00:02:07.519553</td>\n",
       "      <td>True</td>\n",
       "      <td>False</td>\n",
       "      <td>False</td>\n",
       "      <td>COMPLETE</td>\n",
       "    </tr>\n",
       "    <tr>\n",
       "      <th>1</th>\n",
       "      <td>1</td>\n",
       "      <td>0.586</td>\n",
       "      <td>2023-02-12 19:27:08.116439</td>\n",
       "      <td>2023-02-12 19:27:42.680967</td>\n",
       "      <td>0 days 00:00:34.564528</td>\n",
       "      <td>False</td>\n",
       "      <td>True</td>\n",
       "      <td>False</td>\n",
       "      <td>COMPLETE</td>\n",
       "    </tr>\n",
       "    <tr>\n",
       "      <th>8</th>\n",
       "      <td>8</td>\n",
       "      <td>0.587</td>\n",
       "      <td>2023-02-12 19:36:25.280903</td>\n",
       "      <td>2023-02-12 19:38:38.695933</td>\n",
       "      <td>0 days 00:02:13.415030</td>\n",
       "      <td>False</td>\n",
       "      <td>False</td>\n",
       "      <td>False</td>\n",
       "      <td>COMPLETE</td>\n",
       "    </tr>\n",
       "    <tr>\n",
       "      <th>4</th>\n",
       "      <td>4</td>\n",
       "      <td>0.590</td>\n",
       "      <td>2023-02-12 19:28:32.628512</td>\n",
       "      <td>2023-02-12 19:30:41.862347</td>\n",
       "      <td>0 days 00:02:09.233835</td>\n",
       "      <td>True</td>\n",
       "      <td>False</td>\n",
       "      <td>False</td>\n",
       "      <td>COMPLETE</td>\n",
       "    </tr>\n",
       "  </tbody>\n",
       "</table>\n",
       "</div>"
      ],
      "text/plain": [
       "   number  value             datetime_start          datetime_complete  \\\n",
       "2       2  0.577 2023-02-12 19:27:42.697463 2023-02-12 19:28:08.303165   \n",
       "9       9  0.578 2023-02-12 19:38:38.712430 2023-02-12 19:39:03.410964   \n",
       "6       6  0.579 2023-02-12 19:32:29.077328 2023-02-12 19:34:42.318137   \n",
       "3       3  0.581 2023-02-12 19:28:08.320091 2023-02-12 19:28:32.611529   \n",
       "5       5  0.581 2023-02-12 19:30:41.877848 2023-02-12 19:32:29.060359   \n",
       "7       7  0.582 2023-02-12 19:34:42.333613 2023-02-12 19:36:25.262902   \n",
       "0       0  0.584 2023-02-12 19:25:00.574415 2023-02-12 19:27:08.093968   \n",
       "1       1  0.586 2023-02-12 19:27:08.116439 2023-02-12 19:27:42.680967   \n",
       "8       8  0.587 2023-02-12 19:36:25.280903 2023-02-12 19:38:38.695933   \n",
       "4       4  0.590 2023-02-12 19:28:32.628512 2023-02-12 19:30:41.862347   \n",
       "\n",
       "                duration  params_normalization  params_scaling  params_tfidf  \\\n",
       "2 0 days 00:00:25.605702                  True            True          True   \n",
       "9 0 days 00:00:24.698534                  True            True          True   \n",
       "6 0 days 00:02:13.240809                 False           False         False   \n",
       "3 0 days 00:00:24.291438                  True            True         False   \n",
       "5 0 days 00:01:47.182511                  True           False          True   \n",
       "7 0 days 00:01:42.929289                  True           False          True   \n",
       "0 0 days 00:02:07.519553                  True           False         False   \n",
       "1 0 days 00:00:34.564528                 False            True         False   \n",
       "8 0 days 00:02:13.415030                 False           False         False   \n",
       "4 0 days 00:02:09.233835                  True           False         False   \n",
       "\n",
       "      state  \n",
       "2  COMPLETE  \n",
       "9  COMPLETE  \n",
       "6  COMPLETE  \n",
       "3  COMPLETE  \n",
       "5  COMPLETE  \n",
       "7  COMPLETE  \n",
       "0  COMPLETE  \n",
       "1  COMPLETE  \n",
       "8  COMPLETE  \n",
       "4  COMPLETE  "
      ]
     },
     "execution_count": 9,
     "metadata": {},
     "output_type": "execute_result"
    }
   ],
   "source": [
    "study.trials_dataframe().sort_values(by=\"value\").head(10)"
   ]
  },
  {
   "cell_type": "code",
   "execution_count": 10,
   "metadata": {
    "id": "2KisfHMXlk4H"
   },
   "outputs": [
    {
     "name": "stdout",
     "output_type": "stream",
     "text": [
      "Best linear regression params: {'normalization': True, 'scaling': True, 'tfidf': True}, achieving val RMSE: 0.577\n"
     ]
    }
   ],
   "source": [
    "print(f\"Best linear regression params: {study.best_params}, achieving val RMSE: {study.best_value}\")"
   ]
  },
  {
   "cell_type": "code",
   "execution_count": 11,
   "metadata": {},
   "outputs": [],
   "source": [
    "save = True\n",
    "load = False\n",
    "\n",
    "pipe_params = {\n",
    "    'normalization': True,\n",
    "    'scaling': True,\n",
    "    'tfidf': True,\n",
    "}\n",
    "\n",
    "if load:\n",
    "    pipe = joblib.load(f\"{exp_dir}/linear/pipe\")\n",
    "else:\n",
    "    regressor = LinearRegression()\n",
    "    pipe = sklearn_regressors.train_pipe(regressor, X_train, y_train, **pipe_params)\n",
    "\n",
    "    if save:\n",
    "        additional_attributes = {\n",
    "            \"pipe_params\": pipe_params,\n",
    "            \"test_programs\": test_programs,\n",
    "        }\n",
    "\n",
    "        joblib.dump(pipe, f\"{exp_dir}/linear/pipe\")\n",
    "        with open(f\"{exp_dir}/linear/additional_attributes.json\", \"w\") as file:\n",
    "            json.dump(additional_attributes, file, indent=4)"
   ]
  },
  {
   "cell_type": "code",
   "execution_count": 12,
   "metadata": {},
   "outputs": [
    {
     "name": "stdout",
     "output_type": "stream",
     "text": [
      "Mean absolute error for test programs\n",
      "{'faa': 0.8564875429972671, 'quicksort': 0.2580165094097379, 'declare': 0.42751488030627116}\n",
      "\n",
      "Total energies for test programs\n",
      "{'faa': {'true_energy': 1593.1851865544543, 'pred_energy': 581.280986254267}, 'quicksort': {'true_energy': 4246.078264105911, 'pred_energy': 7350.651970431555}, 'declare': {'true_energy': 6382.83618144921, 'pred_energy': 3866.6772622437725}}\n"
     ]
    }
   ],
   "source": [
    "maes = {}\n",
    "prog_energy = {}\n",
    "\n",
    "for test_program in test_programs:\n",
    "    prog_df = test_df[test_df.program_name == test_program]\n",
    "    prog_bbs = np.array([\" \".join(bb) for bb in prog_df.bb.tolist()])\n",
    "    test_preds = pipe.predict(prog_bbs)\n",
    "    true_energies = prog_df.energy.values\n",
    "    \n",
    "    maes[test_program] = mean_absolute_error(true_energies, test_preds)\n",
    "    prog_energy[test_program] = {\n",
    "        \"true_energy\": sum(true_energies),\n",
    "        \"pred_energy\": sum(test_preds),\n",
    "    }\n",
    "\n",
    "print(\"Mean absolute error for test programs\")\n",
    "print(f\"{maes}\\n\")\n",
    "\n",
    "print(\"Total energies for test programs\")\n",
    "print(prog_energy)"
   ]
  },
  {
   "cell_type": "markdown",
   "metadata": {
    "id": "U6DporjLhJ6H"
   },
   "source": [
    "## Lasso"
   ]
  },
  {
   "cell_type": "markdown",
   "metadata": {
    "id": "lnhF2Xw-hJ6H"
   },
   "source": [
    "Linear regression with L1 regularization. Tune:\n",
    "* alpha (L1 regularization term)."
   ]
  },
  {
   "cell_type": "code",
   "execution_count": 13,
   "metadata": {
    "id": "sZwXzrrjlulv"
   },
   "outputs": [
    {
     "name": "stderr",
     "output_type": "stream",
     "text": [
      "\u001b[32m[I 2023-02-13 10:08:44,491]\u001b[0m Using an existing study with name 'lasso-regression' instead of creating a new one.\u001b[0m\n"
     ]
    },
    {
     "name": "stdout",
     "output_type": "stream",
     "text": [
      "Using an existing study with name 'lasso-regression' instead of creating a new one.\n"
     ]
    }
   ],
   "source": [
    "study = optuna.create_study(study_name=\"lasso-regression\", storage=storage_name, load_if_exists=True, direction=\"minimize\")\n",
    "study.set_user_attr(\"Loss\", \"RMSE\")"
   ]
  },
  {
   "cell_type": "code",
   "execution_count": 13,
   "metadata": {},
   "outputs": [
    {
     "name": "stderr",
     "output_type": "stream",
     "text": [
      "\u001b[32m[I 2023-02-12 19:39:18,857]\u001b[0m Trial 0 finished with value: 0.698 and parameters: {'alpha': 4.814427097179507, 'tfidf': False, 'normalization': True, 'scaling': False}. Best is trial 0 with value: 0.698.\u001b[0m\n"
     ]
    },
    {
     "name": "stdout",
     "output_type": "stream",
     "text": [
      "Trial 0 finished with value: 0.698 and parameters: {'alpha': 4.814427097179507, 'tfidf': False, 'normalization': True, 'scaling': False}. Best is trial 0 with value: 0.698.\n"
     ]
    },
    {
     "name": "stderr",
     "output_type": "stream",
     "text": [
      "\u001b[32m[I 2023-02-12 19:39:33,720]\u001b[0m Trial 1 finished with value: 0.711 and parameters: {'alpha': 1.88409913571284, 'tfidf': False, 'normalization': True, 'scaling': False}. Best is trial 0 with value: 0.698.\u001b[0m\n"
     ]
    },
    {
     "name": "stdout",
     "output_type": "stream",
     "text": [
      "Trial 1 finished with value: 0.711 and parameters: {'alpha': 1.88409913571284, 'tfidf': False, 'normalization': True, 'scaling': False}. Best is trial 0 with value: 0.698.\n"
     ]
    },
    {
     "name": "stderr",
     "output_type": "stream",
     "text": [
      "\u001b[32m[I 2023-02-12 19:39:48,553]\u001b[0m Trial 2 finished with value: 0.703 and parameters: {'alpha': 1.9321236682453649, 'tfidf': False, 'normalization': True, 'scaling': False}. Best is trial 0 with value: 0.698.\u001b[0m\n"
     ]
    },
    {
     "name": "stdout",
     "output_type": "stream",
     "text": [
      "Trial 2 finished with value: 0.703 and parameters: {'alpha': 1.9321236682453649, 'tfidf': False, 'normalization': True, 'scaling': False}. Best is trial 0 with value: 0.698.\n"
     ]
    },
    {
     "name": "stderr",
     "output_type": "stream",
     "text": [
      "\u001b[32m[I 2023-02-12 19:40:03,477]\u001b[0m Trial 3 finished with value: 0.705 and parameters: {'alpha': 2.2421514399121314, 'tfidf': False, 'normalization': False, 'scaling': True}. Best is trial 0 with value: 0.698.\u001b[0m\n"
     ]
    },
    {
     "name": "stdout",
     "output_type": "stream",
     "text": [
      "Trial 3 finished with value: 0.705 and parameters: {'alpha': 2.2421514399121314, 'tfidf': False, 'normalization': False, 'scaling': True}. Best is trial 0 with value: 0.698.\n"
     ]
    },
    {
     "name": "stderr",
     "output_type": "stream",
     "text": [
      "\u001b[32m[I 2023-02-12 19:40:18,085]\u001b[0m Trial 4 finished with value: 0.704 and parameters: {'alpha': 6.4155008735014185, 'tfidf': False, 'normalization': False, 'scaling': False}. Best is trial 0 with value: 0.698.\u001b[0m\n"
     ]
    },
    {
     "name": "stdout",
     "output_type": "stream",
     "text": [
      "Trial 4 finished with value: 0.704 and parameters: {'alpha': 6.4155008735014185, 'tfidf': False, 'normalization': False, 'scaling': False}. Best is trial 0 with value: 0.698.\n"
     ]
    },
    {
     "name": "stderr",
     "output_type": "stream",
     "text": [
      "\u001b[32m[I 2023-02-12 19:40:33,252]\u001b[0m Trial 5 finished with value: 0.704 and parameters: {'alpha': 3.69903251896639, 'tfidf': True, 'normalization': False, 'scaling': True}. Best is trial 0 with value: 0.698.\u001b[0m\n"
     ]
    },
    {
     "name": "stdout",
     "output_type": "stream",
     "text": [
      "Trial 5 finished with value: 0.704 and parameters: {'alpha': 3.69903251896639, 'tfidf': True, 'normalization': False, 'scaling': True}. Best is trial 0 with value: 0.698.\n"
     ]
    },
    {
     "name": "stderr",
     "output_type": "stream",
     "text": [
      "\u001b[32m[I 2023-02-12 19:40:48,281]\u001b[0m Trial 6 finished with value: 0.713 and parameters: {'alpha': 1.7016988574638576, 'tfidf': True, 'normalization': False, 'scaling': False}. Best is trial 0 with value: 0.698.\u001b[0m\n"
     ]
    },
    {
     "name": "stdout",
     "output_type": "stream",
     "text": [
      "Trial 6 finished with value: 0.713 and parameters: {'alpha': 1.7016988574638576, 'tfidf': True, 'normalization': False, 'scaling': False}. Best is trial 0 with value: 0.698.\n"
     ]
    },
    {
     "name": "stderr",
     "output_type": "stream",
     "text": [
      "\u001b[32m[I 2023-02-12 19:41:03,500]\u001b[0m Trial 7 finished with value: 0.707 and parameters: {'alpha': 7.366511932718572, 'tfidf': True, 'normalization': False, 'scaling': True}. Best is trial 0 with value: 0.698.\u001b[0m\n"
     ]
    },
    {
     "name": "stdout",
     "output_type": "stream",
     "text": [
      "Trial 7 finished with value: 0.707 and parameters: {'alpha': 7.366511932718572, 'tfidf': True, 'normalization': False, 'scaling': True}. Best is trial 0 with value: 0.698.\n"
     ]
    },
    {
     "name": "stderr",
     "output_type": "stream",
     "text": [
      "\u001b[32m[I 2023-02-12 19:41:18,635]\u001b[0m Trial 8 finished with value: 0.7 and parameters: {'alpha': 9.393990157968663, 'tfidf': True, 'normalization': True, 'scaling': False}. Best is trial 0 with value: 0.698.\u001b[0m\n"
     ]
    },
    {
     "name": "stdout",
     "output_type": "stream",
     "text": [
      "Trial 8 finished with value: 0.7 and parameters: {'alpha': 9.393990157968663, 'tfidf': True, 'normalization': True, 'scaling': False}. Best is trial 0 with value: 0.698.\n"
     ]
    },
    {
     "name": "stderr",
     "output_type": "stream",
     "text": [
      "\u001b[32m[I 2023-02-12 19:41:33,946]\u001b[0m Trial 9 finished with value: 0.706 and parameters: {'alpha': 6.701910400002038, 'tfidf': True, 'normalization': True, 'scaling': True}. Best is trial 0 with value: 0.698.\u001b[0m\n"
     ]
    },
    {
     "name": "stdout",
     "output_type": "stream",
     "text": [
      "Trial 9 finished with value: 0.706 and parameters: {'alpha': 6.701910400002038, 'tfidf': True, 'normalization': True, 'scaling': True}. Best is trial 0 with value: 0.698.\n"
     ]
    },
    {
     "name": "stderr",
     "output_type": "stream",
     "text": [
      "\u001b[32m[I 2023-02-12 19:41:48,807]\u001b[0m Trial 10 finished with value: 0.706 and parameters: {'alpha': 4.299597659352175, 'tfidf': False, 'normalization': True, 'scaling': False}. Best is trial 0 with value: 0.698.\u001b[0m\n"
     ]
    },
    {
     "name": "stdout",
     "output_type": "stream",
     "text": [
      "Trial 10 finished with value: 0.706 and parameters: {'alpha': 4.299597659352175, 'tfidf': False, 'normalization': True, 'scaling': False}. Best is trial 0 with value: 0.698.\n"
     ]
    },
    {
     "name": "stderr",
     "output_type": "stream",
     "text": [
      "\u001b[32m[I 2023-02-12 19:42:03,897]\u001b[0m Trial 11 finished with value: 0.707 and parameters: {'alpha': 9.52087418076839, 'tfidf': True, 'normalization': True, 'scaling': False}. Best is trial 0 with value: 0.698.\u001b[0m\n"
     ]
    },
    {
     "name": "stdout",
     "output_type": "stream",
     "text": [
      "Trial 11 finished with value: 0.707 and parameters: {'alpha': 9.52087418076839, 'tfidf': True, 'normalization': True, 'scaling': False}. Best is trial 0 with value: 0.698.\n"
     ]
    },
    {
     "name": "stderr",
     "output_type": "stream",
     "text": [
      "\u001b[32m[I 2023-02-12 19:42:18,854]\u001b[0m Trial 12 finished with value: 0.702 and parameters: {'alpha': 9.714165008426788, 'tfidf': False, 'normalization': True, 'scaling': False}. Best is trial 0 with value: 0.698.\u001b[0m\n"
     ]
    },
    {
     "name": "stdout",
     "output_type": "stream",
     "text": [
      "Trial 12 finished with value: 0.702 and parameters: {'alpha': 9.714165008426788, 'tfidf': False, 'normalization': True, 'scaling': False}. Best is trial 0 with value: 0.698.\n"
     ]
    },
    {
     "name": "stderr",
     "output_type": "stream",
     "text": [
      "\u001b[32m[I 2023-02-12 19:42:34,036]\u001b[0m Trial 13 finished with value: 0.704 and parameters: {'alpha': 5.405069881427979, 'tfidf': True, 'normalization': True, 'scaling': False}. Best is trial 0 with value: 0.698.\u001b[0m\n"
     ]
    },
    {
     "name": "stdout",
     "output_type": "stream",
     "text": [
      "Trial 13 finished with value: 0.704 and parameters: {'alpha': 5.405069881427979, 'tfidf': True, 'normalization': True, 'scaling': False}. Best is trial 0 with value: 0.698.\n"
     ]
    },
    {
     "name": "stderr",
     "output_type": "stream",
     "text": [
      "\u001b[32m[I 2023-02-12 19:42:49,174]\u001b[0m Trial 14 finished with value: 0.704 and parameters: {'alpha': 8.460035782330909, 'tfidf': True, 'normalization': True, 'scaling': False}. Best is trial 0 with value: 0.698.\u001b[0m\n"
     ]
    },
    {
     "name": "stdout",
     "output_type": "stream",
     "text": [
      "Trial 14 finished with value: 0.704 and parameters: {'alpha': 8.460035782330909, 'tfidf': True, 'normalization': True, 'scaling': False}. Best is trial 0 with value: 0.698.\n"
     ]
    },
    {
     "name": "stderr",
     "output_type": "stream",
     "text": [
      "\u001b[32m[I 2023-02-12 19:43:04,238]\u001b[0m Trial 15 finished with value: 0.71 and parameters: {'alpha': 7.985507283266603, 'tfidf': False, 'normalization': True, 'scaling': False}. Best is trial 0 with value: 0.698.\u001b[0m\n"
     ]
    },
    {
     "name": "stdout",
     "output_type": "stream",
     "text": [
      "Trial 15 finished with value: 0.71 and parameters: {'alpha': 7.985507283266603, 'tfidf': False, 'normalization': True, 'scaling': False}. Best is trial 0 with value: 0.698.\n"
     ]
    },
    {
     "name": "stderr",
     "output_type": "stream",
     "text": [
      "\u001b[32m[I 2023-02-12 19:43:18,996]\u001b[0m Trial 16 finished with value: 0.71 and parameters: {'alpha': 5.315801116001432, 'tfidf': False, 'normalization': True, 'scaling': False}. Best is trial 0 with value: 0.698.\u001b[0m\n"
     ]
    },
    {
     "name": "stdout",
     "output_type": "stream",
     "text": [
      "Trial 16 finished with value: 0.71 and parameters: {'alpha': 5.315801116001432, 'tfidf': False, 'normalization': True, 'scaling': False}. Best is trial 0 with value: 0.698.\n"
     ]
    },
    {
     "name": "stderr",
     "output_type": "stream",
     "text": [
      "\u001b[32m[I 2023-02-12 19:43:34,044]\u001b[0m Trial 17 finished with value: 0.71 and parameters: {'alpha': 3.3599300135642705, 'tfidf': True, 'normalization': True, 'scaling': False}. Best is trial 0 with value: 0.698.\u001b[0m\n"
     ]
    },
    {
     "name": "stdout",
     "output_type": "stream",
     "text": [
      "Trial 17 finished with value: 0.71 and parameters: {'alpha': 3.3599300135642705, 'tfidf': True, 'normalization': True, 'scaling': False}. Best is trial 0 with value: 0.698.\n"
     ]
    },
    {
     "name": "stderr",
     "output_type": "stream",
     "text": [
      "\u001b[32m[I 2023-02-12 19:43:49,049]\u001b[0m Trial 18 finished with value: 0.701 and parameters: {'alpha': 6.1804517447271206, 'tfidf': False, 'normalization': True, 'scaling': True}. Best is trial 0 with value: 0.698.\u001b[0m\n"
     ]
    },
    {
     "name": "stdout",
     "output_type": "stream",
     "text": [
      "Trial 18 finished with value: 0.701 and parameters: {'alpha': 6.1804517447271206, 'tfidf': False, 'normalization': True, 'scaling': True}. Best is trial 0 with value: 0.698.\n"
     ]
    },
    {
     "name": "stderr",
     "output_type": "stream",
     "text": [
      "\u001b[32m[I 2023-02-12 19:44:04,215]\u001b[0m Trial 19 finished with value: 0.705 and parameters: {'alpha': 0.5037687817231662, 'tfidf': True, 'normalization': True, 'scaling': False}. Best is trial 0 with value: 0.698.\u001b[0m\n"
     ]
    },
    {
     "name": "stdout",
     "output_type": "stream",
     "text": [
      "Trial 19 finished with value: 0.705 and parameters: {'alpha': 0.5037687817231662, 'tfidf': True, 'normalization': True, 'scaling': False}. Best is trial 0 with value: 0.698.\n"
     ]
    }
   ],
   "source": [
    "def objective(trial):\n",
    "\n",
    "    alpha = trial.suggest_float(\"alpha\", 0.1, 10.0)\n",
    "    tfidf = trial.suggest_categorical(\"tfidf\", [True, False])\n",
    "    normalization = trial.suggest_categorical(\"normalization\", [True, False])\n",
    "    scaling = trial.suggest_categorical(\"scaling\", [True, False])\n",
    "\n",
    "    regressor = Lasso(alpha=alpha)\n",
    "    score = sklearn_regressors.evaluate_regressor(\n",
    "        regressor=regressor,\n",
    "        X=X_train,\n",
    "        y=y_train,\n",
    "        tfidf=tfidf,\n",
    "        normalization=normalization, \n",
    "        scaling=scaling\n",
    "    )\n",
    "\n",
    "    return score\n",
    "\n",
    "study.optimize(objective, n_trials=20)"
   ]
  },
  {
   "cell_type": "code",
   "execution_count": 14,
   "metadata": {
    "id": "CDRq8F53mG8h"
   },
   "outputs": [
    {
     "data": {
      "text/html": [
       "<div>\n",
       "<style scoped>\n",
       "    .dataframe tbody tr th:only-of-type {\n",
       "        vertical-align: middle;\n",
       "    }\n",
       "\n",
       "    .dataframe tbody tr th {\n",
       "        vertical-align: top;\n",
       "    }\n",
       "\n",
       "    .dataframe thead th {\n",
       "        text-align: right;\n",
       "    }\n",
       "</style>\n",
       "<table border=\"1\" class=\"dataframe\">\n",
       "  <thead>\n",
       "    <tr style=\"text-align: right;\">\n",
       "      <th></th>\n",
       "      <th>number</th>\n",
       "      <th>value</th>\n",
       "      <th>datetime_start</th>\n",
       "      <th>datetime_complete</th>\n",
       "      <th>duration</th>\n",
       "      <th>params_alpha</th>\n",
       "      <th>params_normalization</th>\n",
       "      <th>params_scaling</th>\n",
       "      <th>params_tfidf</th>\n",
       "      <th>state</th>\n",
       "    </tr>\n",
       "  </thead>\n",
       "  <tbody>\n",
       "    <tr>\n",
       "      <th>0</th>\n",
       "      <td>0</td>\n",
       "      <td>0.698</td>\n",
       "      <td>2023-02-12 19:39:03.656946</td>\n",
       "      <td>2023-02-12 19:39:18.840222</td>\n",
       "      <td>0 days 00:00:15.183276</td>\n",
       "      <td>4.814427</td>\n",
       "      <td>True</td>\n",
       "      <td>False</td>\n",
       "      <td>False</td>\n",
       "      <td>COMPLETE</td>\n",
       "    </tr>\n",
       "    <tr>\n",
       "      <th>8</th>\n",
       "      <td>8</td>\n",
       "      <td>0.700</td>\n",
       "      <td>2023-02-12 19:41:03.503741</td>\n",
       "      <td>2023-02-12 19:41:18.622516</td>\n",
       "      <td>0 days 00:00:15.118775</td>\n",
       "      <td>9.393990</td>\n",
       "      <td>True</td>\n",
       "      <td>False</td>\n",
       "      <td>True</td>\n",
       "      <td>COMPLETE</td>\n",
       "    </tr>\n",
       "    <tr>\n",
       "      <th>18</th>\n",
       "      <td>18</td>\n",
       "      <td>0.701</td>\n",
       "      <td>2023-02-12 19:43:34.047270</td>\n",
       "      <td>2023-02-12 19:43:49.035790</td>\n",
       "      <td>0 days 00:00:14.988520</td>\n",
       "      <td>6.180452</td>\n",
       "      <td>True</td>\n",
       "      <td>True</td>\n",
       "      <td>False</td>\n",
       "      <td>COMPLETE</td>\n",
       "    </tr>\n",
       "    <tr>\n",
       "      <th>12</th>\n",
       "      <td>12</td>\n",
       "      <td>0.702</td>\n",
       "      <td>2023-02-12 19:42:03.900519</td>\n",
       "      <td>2023-02-12 19:42:18.840543</td>\n",
       "      <td>0 days 00:00:14.940024</td>\n",
       "      <td>9.714165</td>\n",
       "      <td>True</td>\n",
       "      <td>False</td>\n",
       "      <td>False</td>\n",
       "      <td>COMPLETE</td>\n",
       "    </tr>\n",
       "    <tr>\n",
       "      <th>2</th>\n",
       "      <td>2</td>\n",
       "      <td>0.703</td>\n",
       "      <td>2023-02-12 19:39:33.723236</td>\n",
       "      <td>2023-02-12 19:39:48.541263</td>\n",
       "      <td>0 days 00:00:14.818027</td>\n",
       "      <td>1.932124</td>\n",
       "      <td>True</td>\n",
       "      <td>False</td>\n",
       "      <td>False</td>\n",
       "      <td>COMPLETE</td>\n",
       "    </tr>\n",
       "    <tr>\n",
       "      <th>14</th>\n",
       "      <td>14</td>\n",
       "      <td>0.704</td>\n",
       "      <td>2023-02-12 19:42:34.039209</td>\n",
       "      <td>2023-02-12 19:42:49.161452</td>\n",
       "      <td>0 days 00:00:15.122243</td>\n",
       "      <td>8.460036</td>\n",
       "      <td>True</td>\n",
       "      <td>False</td>\n",
       "      <td>True</td>\n",
       "      <td>COMPLETE</td>\n",
       "    </tr>\n",
       "    <tr>\n",
       "      <th>13</th>\n",
       "      <td>13</td>\n",
       "      <td>0.704</td>\n",
       "      <td>2023-02-12 19:42:18.858010</td>\n",
       "      <td>2023-02-12 19:42:34.022210</td>\n",
       "      <td>0 days 00:00:15.164200</td>\n",
       "      <td>5.405070</td>\n",
       "      <td>True</td>\n",
       "      <td>False</td>\n",
       "      <td>True</td>\n",
       "      <td>COMPLETE</td>\n",
       "    </tr>\n",
       "    <tr>\n",
       "      <th>4</th>\n",
       "      <td>4</td>\n",
       "      <td>0.704</td>\n",
       "      <td>2023-02-12 19:40:03.481276</td>\n",
       "      <td>2023-02-12 19:40:18.072702</td>\n",
       "      <td>0 days 00:00:14.591426</td>\n",
       "      <td>6.415501</td>\n",
       "      <td>False</td>\n",
       "      <td>False</td>\n",
       "      <td>False</td>\n",
       "      <td>COMPLETE</td>\n",
       "    </tr>\n",
       "    <tr>\n",
       "      <th>5</th>\n",
       "      <td>5</td>\n",
       "      <td>0.704</td>\n",
       "      <td>2023-02-12 19:40:18.088171</td>\n",
       "      <td>2023-02-12 19:40:33.238692</td>\n",
       "      <td>0 days 00:00:15.150521</td>\n",
       "      <td>3.699033</td>\n",
       "      <td>False</td>\n",
       "      <td>True</td>\n",
       "      <td>True</td>\n",
       "      <td>COMPLETE</td>\n",
       "    </tr>\n",
       "    <tr>\n",
       "      <th>19</th>\n",
       "      <td>19</td>\n",
       "      <td>0.705</td>\n",
       "      <td>2023-02-12 19:43:49.052268</td>\n",
       "      <td>2023-02-12 19:44:04.203400</td>\n",
       "      <td>0 days 00:00:15.151132</td>\n",
       "      <td>0.503769</td>\n",
       "      <td>True</td>\n",
       "      <td>False</td>\n",
       "      <td>True</td>\n",
       "      <td>COMPLETE</td>\n",
       "    </tr>\n",
       "  </tbody>\n",
       "</table>\n",
       "</div>"
      ],
      "text/plain": [
       "    number  value             datetime_start          datetime_complete  \\\n",
       "0        0  0.698 2023-02-12 19:39:03.656946 2023-02-12 19:39:18.840222   \n",
       "8        8  0.700 2023-02-12 19:41:03.503741 2023-02-12 19:41:18.622516   \n",
       "18      18  0.701 2023-02-12 19:43:34.047270 2023-02-12 19:43:49.035790   \n",
       "12      12  0.702 2023-02-12 19:42:03.900519 2023-02-12 19:42:18.840543   \n",
       "2        2  0.703 2023-02-12 19:39:33.723236 2023-02-12 19:39:48.541263   \n",
       "14      14  0.704 2023-02-12 19:42:34.039209 2023-02-12 19:42:49.161452   \n",
       "13      13  0.704 2023-02-12 19:42:18.858010 2023-02-12 19:42:34.022210   \n",
       "4        4  0.704 2023-02-12 19:40:03.481276 2023-02-12 19:40:18.072702   \n",
       "5        5  0.704 2023-02-12 19:40:18.088171 2023-02-12 19:40:33.238692   \n",
       "19      19  0.705 2023-02-12 19:43:49.052268 2023-02-12 19:44:04.203400   \n",
       "\n",
       "                 duration  params_alpha  params_normalization  params_scaling  \\\n",
       "0  0 days 00:00:15.183276      4.814427                  True           False   \n",
       "8  0 days 00:00:15.118775      9.393990                  True           False   \n",
       "18 0 days 00:00:14.988520      6.180452                  True            True   \n",
       "12 0 days 00:00:14.940024      9.714165                  True           False   \n",
       "2  0 days 00:00:14.818027      1.932124                  True           False   \n",
       "14 0 days 00:00:15.122243      8.460036                  True           False   \n",
       "13 0 days 00:00:15.164200      5.405070                  True           False   \n",
       "4  0 days 00:00:14.591426      6.415501                 False           False   \n",
       "5  0 days 00:00:15.150521      3.699033                 False            True   \n",
       "19 0 days 00:00:15.151132      0.503769                  True           False   \n",
       "\n",
       "    params_tfidf     state  \n",
       "0          False  COMPLETE  \n",
       "8           True  COMPLETE  \n",
       "18         False  COMPLETE  \n",
       "12         False  COMPLETE  \n",
       "2          False  COMPLETE  \n",
       "14          True  COMPLETE  \n",
       "13          True  COMPLETE  \n",
       "4          False  COMPLETE  \n",
       "5           True  COMPLETE  \n",
       "19          True  COMPLETE  "
      ]
     },
     "execution_count": 14,
     "metadata": {},
     "output_type": "execute_result"
    }
   ],
   "source": [
    "study.trials_dataframe().sort_values(by=\"value\").head(10)"
   ]
  },
  {
   "cell_type": "code",
   "execution_count": 15,
   "metadata": {
    "id": "2mXQMTplmHrG"
   },
   "outputs": [
    {
     "name": "stdout",
     "output_type": "stream",
     "text": [
      "Best lasso regression params: {'alpha': 4.814427097179507, 'normalization': True, 'scaling': False, 'tfidf': False}, achieving val RMSE: 0.698\n"
     ]
    }
   ],
   "source": [
    "print(f\"Best lasso regression params: {study.best_params}, achieving val RMSE: {study.best_value}\")"
   ]
  },
  {
   "cell_type": "code",
   "execution_count": 16,
   "metadata": {},
   "outputs": [],
   "source": [
    "save = True\n",
    "load = False\n",
    "\n",
    "regressor_params = {\"alpha\": 4.81}\n",
    "pipe_params = {\n",
    "    'normalization': True,\n",
    "    'scaling': False,\n",
    "    'tfidf': False,\n",
    "}\n",
    "\n",
    "if load:\n",
    "    pipe = joblib.load(f\"{exp_dir}/lasso/pipe\")\n",
    "else:\n",
    "    regressor = Lasso(**regressor_params)\n",
    "    pipe = sklearn_regressors.train_pipe(regressor, X_train, y_train, **pipe_params)\n",
    "\n",
    "    if save:\n",
    "        additional_attributes = {\n",
    "            \"regressor_params\": regressor_params,\n",
    "            \"pipe_params\": pipe_params,\n",
    "            \"test_programs\": test_programs,\n",
    "        }\n",
    "\n",
    "        joblib.dump(pipe, f\"{exp_dir}/lasso/pipe\")\n",
    "        with open(f\"{exp_dir}/lasso/additional_attributes.json\", \"w\") as file:\n",
    "            json.dump(additional_attributes, file, indent=4)"
   ]
  },
  {
   "cell_type": "code",
   "execution_count": 17,
   "metadata": {},
   "outputs": [
    {
     "name": "stdout",
     "output_type": "stream",
     "text": [
      "Mean absolute error for test programs\n",
      "{'faa': 0.9109510074307886, 'quicksort': 0.31704603813120613, 'declare': 0.4567457793792269}\n",
      "\n",
      "Total energies for test programs\n",
      "{'faa': {'true_energy': 1593.1851865544543, 'pred_energy': 475.4874028864406}, 'quicksort': {'true_energy': 4246.078264105911, 'pred_energy': 6599.130136312516}, 'declare': {'true_energy': 6382.83618144921, 'pred_energy': 3989.757491321512}}\n"
     ]
    }
   ],
   "source": [
    "maes = {}\n",
    "prog_energy = {}\n",
    "\n",
    "for test_program in test_programs:\n",
    "    prog_df = test_df[test_df.program_name == test_program]\n",
    "    prog_bbs = np.array([\" \".join(bb) for bb in prog_df.bb.tolist()])\n",
    "    test_preds = pipe.predict(prog_bbs)\n",
    "    true_energies = prog_df.energy.values\n",
    "    \n",
    "    maes[test_program] = mean_absolute_error(true_energies, test_preds)\n",
    "    prog_energy[test_program] = {\n",
    "        \"true_energy\": sum(true_energies),\n",
    "        \"pred_energy\": sum(test_preds),\n",
    "    }\n",
    "\n",
    "print(\"Mean absolute error for test programs\")\n",
    "print(f\"{maes}\\n\")\n",
    "\n",
    "print(\"Total energies for test programs\")\n",
    "print(prog_energy)"
   ]
  },
  {
   "cell_type": "markdown",
   "metadata": {
    "id": "4QTGtDJ7hJ6H"
   },
   "source": [
    "## Ridge"
   ]
  },
  {
   "cell_type": "markdown",
   "metadata": {
    "id": "iFYA7y_LhJ6H"
   },
   "source": [
    "Linear regression with L2 regularization. Tune:\n",
    "* alpha (L2 regularization term)."
   ]
  },
  {
   "cell_type": "code",
   "execution_count": 18,
   "metadata": {
    "id": "R3KnNlEqm4M9"
   },
   "outputs": [
    {
     "name": "stderr",
     "output_type": "stream",
     "text": [
      "\u001b[32m[I 2023-02-13 10:08:59,535]\u001b[0m Using an existing study with name 'ridge-regression' instead of creating a new one.\u001b[0m\n"
     ]
    },
    {
     "name": "stdout",
     "output_type": "stream",
     "text": [
      "Using an existing study with name 'ridge-regression' instead of creating a new one.\n"
     ]
    }
   ],
   "source": [
    "study = optuna.create_study(study_name=\"ridge-regression\", storage=storage_name, load_if_exists=True, direction=\"minimize\")\n",
    "study.set_user_attr(\"Loss\", \"RMSE\")"
   ]
  },
  {
   "cell_type": "code",
   "execution_count": 24,
   "metadata": {},
   "outputs": [
    {
     "name": "stderr",
     "output_type": "stream",
     "text": [
      "\u001b[32m[I 2023-02-13 00:17:52,008]\u001b[0m Trial 0 finished with value: 0.571 and parameters: {'alpha': 4.580125801925755, 'tfidf': True, 'normalization': True, 'scaling': False}. Best is trial 0 with value: 0.571.\u001b[0m\n"
     ]
    },
    {
     "name": "stdout",
     "output_type": "stream",
     "text": [
      "Trial 0 finished with value: 0.571 and parameters: {'alpha': 4.580125801925755, 'tfidf': True, 'normalization': True, 'scaling': False}. Best is trial 0 with value: 0.571.\n"
     ]
    },
    {
     "name": "stderr",
     "output_type": "stream",
     "text": [
      "\u001b[32m[I 2023-02-13 00:18:07,805]\u001b[0m Trial 1 finished with value: 0.578 and parameters: {'alpha': 0.9453533393144836, 'tfidf': True, 'normalization': True, 'scaling': True}. Best is trial 0 with value: 0.571.\u001b[0m\n"
     ]
    },
    {
     "name": "stdout",
     "output_type": "stream",
     "text": [
      "Trial 1 finished with value: 0.578 and parameters: {'alpha': 0.9453533393144836, 'tfidf': True, 'normalization': True, 'scaling': True}. Best is trial 0 with value: 0.571.\n"
     ]
    },
    {
     "name": "stderr",
     "output_type": "stream",
     "text": [
      "\u001b[32m[I 2023-02-13 00:18:25,037]\u001b[0m Trial 2 finished with value: 0.586 and parameters: {'alpha': 4.883188382960704, 'tfidf': False, 'normalization': False, 'scaling': True}. Best is trial 0 with value: 0.571.\u001b[0m\n"
     ]
    },
    {
     "name": "stdout",
     "output_type": "stream",
     "text": [
      "Trial 2 finished with value: 0.586 and parameters: {'alpha': 4.883188382960704, 'tfidf': False, 'normalization': False, 'scaling': True}. Best is trial 0 with value: 0.571.\n"
     ]
    },
    {
     "name": "stderr",
     "output_type": "stream",
     "text": [
      "\u001b[32m[I 2023-02-13 00:18:40,865]\u001b[0m Trial 3 finished with value: 0.583 and parameters: {'alpha': 5.550875241887742, 'tfidf': True, 'normalization': True, 'scaling': False}. Best is trial 0 with value: 0.571.\u001b[0m\n"
     ]
    },
    {
     "name": "stdout",
     "output_type": "stream",
     "text": [
      "Trial 3 finished with value: 0.583 and parameters: {'alpha': 5.550875241887742, 'tfidf': True, 'normalization': True, 'scaling': False}. Best is trial 0 with value: 0.571.\n"
     ]
    },
    {
     "name": "stderr",
     "output_type": "stream",
     "text": [
      "\u001b[32m[I 2023-02-13 00:18:55,908]\u001b[0m Trial 4 finished with value: 0.574 and parameters: {'alpha': 7.909947413280453, 'tfidf': True, 'normalization': True, 'scaling': True}. Best is trial 0 with value: 0.571.\u001b[0m\n"
     ]
    },
    {
     "name": "stdout",
     "output_type": "stream",
     "text": [
      "Trial 4 finished with value: 0.574 and parameters: {'alpha': 7.909947413280453, 'tfidf': True, 'normalization': True, 'scaling': True}. Best is trial 0 with value: 0.571.\n"
     ]
    },
    {
     "name": "stderr",
     "output_type": "stream",
     "text": [
      "\u001b[32m[I 2023-02-13 00:19:11,036]\u001b[0m Trial 5 finished with value: 0.572 and parameters: {'alpha': 8.685663080931134, 'tfidf': True, 'normalization': True, 'scaling': True}. Best is trial 0 with value: 0.571.\u001b[0m\n"
     ]
    },
    {
     "name": "stdout",
     "output_type": "stream",
     "text": [
      "Trial 5 finished with value: 0.572 and parameters: {'alpha': 8.685663080931134, 'tfidf': True, 'normalization': True, 'scaling': True}. Best is trial 0 with value: 0.571.\n"
     ]
    },
    {
     "name": "stderr",
     "output_type": "stream",
     "text": [
      "\u001b[32m[I 2023-02-13 00:19:26,152]\u001b[0m Trial 6 finished with value: 0.579 and parameters: {'alpha': 8.485506050956728, 'tfidf': False, 'normalization': True, 'scaling': True}. Best is trial 0 with value: 0.571.\u001b[0m\n"
     ]
    },
    {
     "name": "stdout",
     "output_type": "stream",
     "text": [
      "Trial 6 finished with value: 0.579 and parameters: {'alpha': 8.485506050956728, 'tfidf': False, 'normalization': True, 'scaling': True}. Best is trial 0 with value: 0.571.\n"
     ]
    },
    {
     "name": "stderr",
     "output_type": "stream",
     "text": [
      "\u001b[32m[I 2023-02-13 00:19:41,169]\u001b[0m Trial 7 finished with value: 0.58 and parameters: {'alpha': 1.4558659255882256, 'tfidf': True, 'normalization': False, 'scaling': True}. Best is trial 0 with value: 0.571.\u001b[0m\n"
     ]
    },
    {
     "name": "stdout",
     "output_type": "stream",
     "text": [
      "Trial 7 finished with value: 0.58 and parameters: {'alpha': 1.4558659255882256, 'tfidf': True, 'normalization': False, 'scaling': True}. Best is trial 0 with value: 0.571.\n"
     ]
    },
    {
     "name": "stderr",
     "output_type": "stream",
     "text": [
      "\u001b[32m[I 2023-02-13 00:19:56,137]\u001b[0m Trial 8 finished with value: 0.578 and parameters: {'alpha': 7.862033032375683, 'tfidf': True, 'normalization': False, 'scaling': True}. Best is trial 0 with value: 0.571.\u001b[0m\n"
     ]
    },
    {
     "name": "stdout",
     "output_type": "stream",
     "text": [
      "Trial 8 finished with value: 0.578 and parameters: {'alpha': 7.862033032375683, 'tfidf': True, 'normalization': False, 'scaling': True}. Best is trial 0 with value: 0.571.\n"
     ]
    },
    {
     "name": "stderr",
     "output_type": "stream",
     "text": [
      "\u001b[32m[I 2023-02-13 00:20:11,516]\u001b[0m Trial 9 finished with value: 0.576 and parameters: {'alpha': 5.1819958790924, 'tfidf': True, 'normalization': True, 'scaling': True}. Best is trial 0 with value: 0.571.\u001b[0m\n"
     ]
    },
    {
     "name": "stdout",
     "output_type": "stream",
     "text": [
      "Trial 9 finished with value: 0.576 and parameters: {'alpha': 5.1819958790924, 'tfidf': True, 'normalization': True, 'scaling': True}. Best is trial 0 with value: 0.571.\n"
     ]
    },
    {
     "name": "stderr",
     "output_type": "stream",
     "text": [
      "\u001b[32m[I 2023-02-13 00:20:32,329]\u001b[0m Trial 10 finished with value: 0.571 and parameters: {'alpha': 2.8731494215238524, 'tfidf': False, 'normalization': False, 'scaling': False}. Best is trial 0 with value: 0.571.\u001b[0m\n"
     ]
    },
    {
     "name": "stdout",
     "output_type": "stream",
     "text": [
      "Trial 10 finished with value: 0.571 and parameters: {'alpha': 2.8731494215238524, 'tfidf': False, 'normalization': False, 'scaling': False}. Best is trial 0 with value: 0.571.\n"
     ]
    },
    {
     "name": "stderr",
     "output_type": "stream",
     "text": [
      "\u001b[32m[I 2023-02-13 00:20:52,490]\u001b[0m Trial 11 finished with value: 0.569 and parameters: {'alpha': 2.964135035227021, 'tfidf': False, 'normalization': False, 'scaling': False}. Best is trial 11 with value: 0.569.\u001b[0m\n"
     ]
    },
    {
     "name": "stdout",
     "output_type": "stream",
     "text": [
      "Trial 11 finished with value: 0.569 and parameters: {'alpha': 2.964135035227021, 'tfidf': False, 'normalization': False, 'scaling': False}. Best is trial 11 with value: 0.569.\n"
     ]
    },
    {
     "name": "stderr",
     "output_type": "stream",
     "text": [
      "\u001b[32m[I 2023-02-13 00:21:12,857]\u001b[0m Trial 12 finished with value: 0.569 and parameters: {'alpha': 2.705393400580099, 'tfidf': False, 'normalization': False, 'scaling': False}. Best is trial 11 with value: 0.569.\u001b[0m\n"
     ]
    },
    {
     "name": "stdout",
     "output_type": "stream",
     "text": [
      "Trial 12 finished with value: 0.569 and parameters: {'alpha': 2.705393400580099, 'tfidf': False, 'normalization': False, 'scaling': False}. Best is trial 11 with value: 0.569.\n"
     ]
    },
    {
     "name": "stderr",
     "output_type": "stream",
     "text": [
      "\u001b[32m[I 2023-02-13 00:21:33,086]\u001b[0m Trial 13 finished with value: 0.576 and parameters: {'alpha': 2.5337330297298335, 'tfidf': False, 'normalization': False, 'scaling': False}. Best is trial 11 with value: 0.569.\u001b[0m\n"
     ]
    },
    {
     "name": "stdout",
     "output_type": "stream",
     "text": [
      "Trial 13 finished with value: 0.576 and parameters: {'alpha': 2.5337330297298335, 'tfidf': False, 'normalization': False, 'scaling': False}. Best is trial 11 with value: 0.569.\n"
     ]
    },
    {
     "name": "stderr",
     "output_type": "stream",
     "text": [
      "\u001b[32m[I 2023-02-13 00:21:57,419]\u001b[0m Trial 14 finished with value: 0.574 and parameters: {'alpha': 0.24505083701357444, 'tfidf': False, 'normalization': False, 'scaling': False}. Best is trial 11 with value: 0.569.\u001b[0m\n"
     ]
    },
    {
     "name": "stdout",
     "output_type": "stream",
     "text": [
      "Trial 14 finished with value: 0.574 and parameters: {'alpha': 0.24505083701357444, 'tfidf': False, 'normalization': False, 'scaling': False}. Best is trial 11 with value: 0.569.\n"
     ]
    },
    {
     "name": "stderr",
     "output_type": "stream",
     "text": [
      "\u001b[32m[I 2023-02-13 00:22:17,742]\u001b[0m Trial 15 finished with value: 0.573 and parameters: {'alpha': 2.8752741870100893, 'tfidf': False, 'normalization': False, 'scaling': False}. Best is trial 11 with value: 0.569.\u001b[0m\n"
     ]
    },
    {
     "name": "stdout",
     "output_type": "stream",
     "text": [
      "Trial 15 finished with value: 0.573 and parameters: {'alpha': 2.8752741870100893, 'tfidf': False, 'normalization': False, 'scaling': False}. Best is trial 11 with value: 0.569.\n"
     ]
    },
    {
     "name": "stderr",
     "output_type": "stream",
     "text": [
      "\u001b[32m[I 2023-02-13 00:22:37,617]\u001b[0m Trial 16 finished with value: 0.575 and parameters: {'alpha': 3.469536101738413, 'tfidf': False, 'normalization': False, 'scaling': False}. Best is trial 11 with value: 0.569.\u001b[0m\n"
     ]
    },
    {
     "name": "stdout",
     "output_type": "stream",
     "text": [
      "Trial 16 finished with value: 0.575 and parameters: {'alpha': 3.469536101738413, 'tfidf': False, 'normalization': False, 'scaling': False}. Best is trial 11 with value: 0.569.\n"
     ]
    },
    {
     "name": "stderr",
     "output_type": "stream",
     "text": [
      "\u001b[32m[I 2023-02-13 00:22:58,228]\u001b[0m Trial 17 finished with value: 0.581 and parameters: {'alpha': 1.8123402010923577, 'tfidf': False, 'normalization': False, 'scaling': False}. Best is trial 11 with value: 0.569.\u001b[0m\n"
     ]
    },
    {
     "name": "stdout",
     "output_type": "stream",
     "text": [
      "Trial 17 finished with value: 0.581 and parameters: {'alpha': 1.8123402010923577, 'tfidf': False, 'normalization': False, 'scaling': False}. Best is trial 11 with value: 0.569.\n"
     ]
    },
    {
     "name": "stderr",
     "output_type": "stream",
     "text": [
      "\u001b[32m[I 2023-02-13 00:23:18,244]\u001b[0m Trial 18 finished with value: 0.574 and parameters: {'alpha': 3.814716619114115, 'tfidf': False, 'normalization': False, 'scaling': False}. Best is trial 11 with value: 0.569.\u001b[0m\n"
     ]
    },
    {
     "name": "stdout",
     "output_type": "stream",
     "text": [
      "Trial 18 finished with value: 0.574 and parameters: {'alpha': 3.814716619114115, 'tfidf': False, 'normalization': False, 'scaling': False}. Best is trial 11 with value: 0.569.\n"
     ]
    },
    {
     "name": "stderr",
     "output_type": "stream",
     "text": [
      "\u001b[32m[I 2023-02-13 00:23:39,486]\u001b[0m Trial 19 finished with value: 0.575 and parameters: {'alpha': 1.9522098761230005, 'tfidf': False, 'normalization': False, 'scaling': False}. Best is trial 11 with value: 0.569.\u001b[0m\n"
     ]
    },
    {
     "name": "stdout",
     "output_type": "stream",
     "text": [
      "Trial 19 finished with value: 0.575 and parameters: {'alpha': 1.9522098761230005, 'tfidf': False, 'normalization': False, 'scaling': False}. Best is trial 11 with value: 0.569.\n"
     ]
    }
   ],
   "source": [
    "def objective(trial):\n",
    "\n",
    "    alpha = trial.suggest_float(\"alpha\", 0.1, 10.0)\n",
    "    tfidf = trial.suggest_categorical(\"tfidf\", [True, False])\n",
    "    normalization = trial.suggest_categorical(\"normalization\", [True, False])\n",
    "    scaling = trial.suggest_categorical(\"scaling\", [True, False])\n",
    "\n",
    "    regressor = Ridge(alpha=alpha)\n",
    "    score = sklearn_regressors.evaluate_regressor(\n",
    "        regressor=regressor,\n",
    "        X=X_train,\n",
    "        y=y_train,\n",
    "        tfidf=tfidf,\n",
    "        normalization=normalization, \n",
    "        scaling=scaling\n",
    "    )\n",
    "\n",
    "    return score\n",
    "\n",
    "study.optimize(objective, n_trials=20)"
   ]
  },
  {
   "cell_type": "code",
   "execution_count": 19,
   "metadata": {
    "id": "0vjKVK2Em4M9"
   },
   "outputs": [
    {
     "data": {
      "text/html": [
       "<div>\n",
       "<style scoped>\n",
       "    .dataframe tbody tr th:only-of-type {\n",
       "        vertical-align: middle;\n",
       "    }\n",
       "\n",
       "    .dataframe tbody tr th {\n",
       "        vertical-align: top;\n",
       "    }\n",
       "\n",
       "    .dataframe thead th {\n",
       "        text-align: right;\n",
       "    }\n",
       "</style>\n",
       "<table border=\"1\" class=\"dataframe\">\n",
       "  <thead>\n",
       "    <tr style=\"text-align: right;\">\n",
       "      <th></th>\n",
       "      <th>number</th>\n",
       "      <th>value</th>\n",
       "      <th>datetime_start</th>\n",
       "      <th>datetime_complete</th>\n",
       "      <th>duration</th>\n",
       "      <th>params_alpha</th>\n",
       "      <th>params_normalization</th>\n",
       "      <th>params_scaling</th>\n",
       "      <th>params_tfidf</th>\n",
       "      <th>state</th>\n",
       "    </tr>\n",
       "  </thead>\n",
       "  <tbody>\n",
       "    <tr>\n",
       "      <th>12</th>\n",
       "      <td>12</td>\n",
       "      <td>0.569</td>\n",
       "      <td>2023-02-13 00:20:52.494345</td>\n",
       "      <td>2023-02-13 00:21:12.844826</td>\n",
       "      <td>0 days 00:00:20.350481</td>\n",
       "      <td>2.705393</td>\n",
       "      <td>False</td>\n",
       "      <td>False</td>\n",
       "      <td>False</td>\n",
       "      <td>COMPLETE</td>\n",
       "    </tr>\n",
       "    <tr>\n",
       "      <th>11</th>\n",
       "      <td>11</td>\n",
       "      <td>0.569</td>\n",
       "      <td>2023-02-13 00:20:32.332712</td>\n",
       "      <td>2023-02-13 00:20:52.477348</td>\n",
       "      <td>0 days 00:00:20.144636</td>\n",
       "      <td>2.964135</td>\n",
       "      <td>False</td>\n",
       "      <td>False</td>\n",
       "      <td>False</td>\n",
       "      <td>COMPLETE</td>\n",
       "    </tr>\n",
       "    <tr>\n",
       "      <th>0</th>\n",
       "      <td>0</td>\n",
       "      <td>0.571</td>\n",
       "      <td>2023-02-13 00:17:35.266633</td>\n",
       "      <td>2023-02-13 00:17:51.989490</td>\n",
       "      <td>0 days 00:00:16.722857</td>\n",
       "      <td>4.580126</td>\n",
       "      <td>True</td>\n",
       "      <td>False</td>\n",
       "      <td>True</td>\n",
       "      <td>COMPLETE</td>\n",
       "    </tr>\n",
       "    <tr>\n",
       "      <th>10</th>\n",
       "      <td>10</td>\n",
       "      <td>0.571</td>\n",
       "      <td>2023-02-13 00:20:11.519570</td>\n",
       "      <td>2023-02-13 00:20:32.313745</td>\n",
       "      <td>0 days 00:00:20.794175</td>\n",
       "      <td>2.873149</td>\n",
       "      <td>False</td>\n",
       "      <td>False</td>\n",
       "      <td>False</td>\n",
       "      <td>COMPLETE</td>\n",
       "    </tr>\n",
       "    <tr>\n",
       "      <th>5</th>\n",
       "      <td>5</td>\n",
       "      <td>0.572</td>\n",
       "      <td>2023-02-13 00:18:55.911532</td>\n",
       "      <td>2023-02-13 00:19:11.024032</td>\n",
       "      <td>0 days 00:00:15.112500</td>\n",
       "      <td>8.685663</td>\n",
       "      <td>True</td>\n",
       "      <td>True</td>\n",
       "      <td>True</td>\n",
       "      <td>COMPLETE</td>\n",
       "    </tr>\n",
       "    <tr>\n",
       "      <th>15</th>\n",
       "      <td>15</td>\n",
       "      <td>0.573</td>\n",
       "      <td>2023-02-13 00:21:57.422958</td>\n",
       "      <td>2023-02-13 00:22:17.729151</td>\n",
       "      <td>0 days 00:00:20.306193</td>\n",
       "      <td>2.875274</td>\n",
       "      <td>False</td>\n",
       "      <td>False</td>\n",
       "      <td>False</td>\n",
       "      <td>COMPLETE</td>\n",
       "    </tr>\n",
       "    <tr>\n",
       "      <th>14</th>\n",
       "      <td>14</td>\n",
       "      <td>0.574</td>\n",
       "      <td>2023-02-13 00:21:33.089674</td>\n",
       "      <td>2023-02-13 00:21:57.407457</td>\n",
       "      <td>0 days 00:00:24.317783</td>\n",
       "      <td>0.245051</td>\n",
       "      <td>False</td>\n",
       "      <td>False</td>\n",
       "      <td>False</td>\n",
       "      <td>COMPLETE</td>\n",
       "    </tr>\n",
       "    <tr>\n",
       "      <th>4</th>\n",
       "      <td>4</td>\n",
       "      <td>0.574</td>\n",
       "      <td>2023-02-13 00:18:40.868462</td>\n",
       "      <td>2023-02-13 00:18:55.895532</td>\n",
       "      <td>0 days 00:00:15.027070</td>\n",
       "      <td>7.909947</td>\n",
       "      <td>True</td>\n",
       "      <td>True</td>\n",
       "      <td>True</td>\n",
       "      <td>COMPLETE</td>\n",
       "    </tr>\n",
       "    <tr>\n",
       "      <th>18</th>\n",
       "      <td>18</td>\n",
       "      <td>0.574</td>\n",
       "      <td>2023-02-13 00:22:58.231718</td>\n",
       "      <td>2023-02-13 00:23:18.231779</td>\n",
       "      <td>0 days 00:00:20.000061</td>\n",
       "      <td>3.814717</td>\n",
       "      <td>False</td>\n",
       "      <td>False</td>\n",
       "      <td>False</td>\n",
       "      <td>COMPLETE</td>\n",
       "    </tr>\n",
       "    <tr>\n",
       "      <th>16</th>\n",
       "      <td>16</td>\n",
       "      <td>0.575</td>\n",
       "      <td>2023-02-13 00:22:17.745150</td>\n",
       "      <td>2023-02-13 00:22:37.604546</td>\n",
       "      <td>0 days 00:00:19.859396</td>\n",
       "      <td>3.469536</td>\n",
       "      <td>False</td>\n",
       "      <td>False</td>\n",
       "      <td>False</td>\n",
       "      <td>COMPLETE</td>\n",
       "    </tr>\n",
       "  </tbody>\n",
       "</table>\n",
       "</div>"
      ],
      "text/plain": [
       "    number  value             datetime_start          datetime_complete  \\\n",
       "12      12  0.569 2023-02-13 00:20:52.494345 2023-02-13 00:21:12.844826   \n",
       "11      11  0.569 2023-02-13 00:20:32.332712 2023-02-13 00:20:52.477348   \n",
       "0        0  0.571 2023-02-13 00:17:35.266633 2023-02-13 00:17:51.989490   \n",
       "10      10  0.571 2023-02-13 00:20:11.519570 2023-02-13 00:20:32.313745   \n",
       "5        5  0.572 2023-02-13 00:18:55.911532 2023-02-13 00:19:11.024032   \n",
       "15      15  0.573 2023-02-13 00:21:57.422958 2023-02-13 00:22:17.729151   \n",
       "14      14  0.574 2023-02-13 00:21:33.089674 2023-02-13 00:21:57.407457   \n",
       "4        4  0.574 2023-02-13 00:18:40.868462 2023-02-13 00:18:55.895532   \n",
       "18      18  0.574 2023-02-13 00:22:58.231718 2023-02-13 00:23:18.231779   \n",
       "16      16  0.575 2023-02-13 00:22:17.745150 2023-02-13 00:22:37.604546   \n",
       "\n",
       "                 duration  params_alpha  params_normalization  params_scaling  \\\n",
       "12 0 days 00:00:20.350481      2.705393                 False           False   \n",
       "11 0 days 00:00:20.144636      2.964135                 False           False   \n",
       "0  0 days 00:00:16.722857      4.580126                  True           False   \n",
       "10 0 days 00:00:20.794175      2.873149                 False           False   \n",
       "5  0 days 00:00:15.112500      8.685663                  True            True   \n",
       "15 0 days 00:00:20.306193      2.875274                 False           False   \n",
       "14 0 days 00:00:24.317783      0.245051                 False           False   \n",
       "4  0 days 00:00:15.027070      7.909947                  True            True   \n",
       "18 0 days 00:00:20.000061      3.814717                 False           False   \n",
       "16 0 days 00:00:19.859396      3.469536                 False           False   \n",
       "\n",
       "    params_tfidf     state  \n",
       "12         False  COMPLETE  \n",
       "11         False  COMPLETE  \n",
       "0           True  COMPLETE  \n",
       "10         False  COMPLETE  \n",
       "5           True  COMPLETE  \n",
       "15         False  COMPLETE  \n",
       "14         False  COMPLETE  \n",
       "4           True  COMPLETE  \n",
       "18         False  COMPLETE  \n",
       "16         False  COMPLETE  "
      ]
     },
     "execution_count": 19,
     "metadata": {},
     "output_type": "execute_result"
    }
   ],
   "source": [
    "study.trials_dataframe().sort_values(by=\"value\").head(10)"
   ]
  },
  {
   "cell_type": "code",
   "execution_count": 20,
   "metadata": {
    "id": "0_CHFe7Sm4M-"
   },
   "outputs": [
    {
     "name": "stdout",
     "output_type": "stream",
     "text": [
      "Best ridge regression params: {'alpha': 2.964135035227021, 'normalization': False, 'scaling': False, 'tfidf': False}, achieving val RMSE: 0.569\n"
     ]
    }
   ],
   "source": [
    "print(f\"Best ridge regression params: {study.best_params}, achieving val RMSE: {study.best_value}\")"
   ]
  },
  {
   "cell_type": "code",
   "execution_count": 21,
   "metadata": {},
   "outputs": [],
   "source": [
    "save = False\n",
    "load = True\n",
    "\n",
    "regressor_params = {\"alpha\": 2.96}\n",
    "pipe_params = {\n",
    "    'normalization': False,\n",
    "    'scaling': False,\n",
    "    'tfidf': False,\n",
    "}\n",
    "\n",
    "if load:\n",
    "    pipe = joblib.load(f\"{exp_dir}/ridge/pipe\")\n",
    "else:\n",
    "    regressor = Ridge(**regressor_params)\n",
    "    pipe = sklearn_regressors.train_pipe(regressor, X_train, y_train, **pipe_params)\n",
    "\n",
    "    if save:\n",
    "        additional_attributes = {\n",
    "            \"regressor_params\": regressor_params,\n",
    "            \"pipe_params\": pipe_params,\n",
    "            \"test_programs\": test_programs,\n",
    "        }\n",
    "\n",
    "        joblib.dump(pipe, f\"{exp_dir}/ridge/pipe\")\n",
    "        with open(f\"{exp_dir}/ridge/additional_attributes.json\", \"w\") as file:\n",
    "            json.dump(additional_attributes, file, indent=4)"
   ]
  },
  {
   "cell_type": "code",
   "execution_count": 22,
   "metadata": {},
   "outputs": [
    {
     "name": "stdout",
     "output_type": "stream",
     "text": [
      "Mean absolute error for test programs\n",
      "{'faa': 0.8569234326811495, 'quicksort': 0.25804184569469063, 'declare': 0.4274168206139757}\n",
      "\n",
      "Total energies for test programs\n",
      "{'faa': {'true_energy': 1593.1851865544543, 'pred_energy': 582.1524586769206}, 'quicksort': {'true_energy': 4246.078264105911, 'pred_energy': 7351.804519804801}, 'declare': {'true_energy': 6382.83618144921, 'pred_energy': 3867.893760943608}}\n"
     ]
    }
   ],
   "source": [
    "maes = {}\n",
    "prog_energy = {}\n",
    "\n",
    "for test_program in test_programs:\n",
    "    prog_df = test_df[test_df.program_name == test_program]\n",
    "    prog_bbs = np.array([\" \".join(bb) for bb in prog_df.bb.tolist()])\n",
    "    test_preds = pipe.predict(prog_bbs)\n",
    "    true_energies = prog_df.energy.values\n",
    "    \n",
    "    maes[test_program] = mean_absolute_error(true_energies, test_preds)\n",
    "    prog_energy[test_program] = {\n",
    "        \"true_energy\": sum(true_energies),\n",
    "        \"pred_energy\": sum(test_preds),\n",
    "    }\n",
    "\n",
    "print(\"Mean absolute error for test programs\")\n",
    "print(f\"{maes}\\n\")\n",
    "\n",
    "print(\"Total energies for test programs\")\n",
    "print(prog_energy)"
   ]
  },
  {
   "cell_type": "markdown",
   "metadata": {
    "id": "I1ogsA4EhJ6H"
   },
   "source": [
    "## ElasticNet"
   ]
  },
  {
   "cell_type": "markdown",
   "metadata": {
    "id": "Ejz37kVmhJ6H"
   },
   "source": [
    "Linear regression with both L1 and L2 regularization. Tune\n",
    "* alpha\n",
    "* l1_ratio. "
   ]
  },
  {
   "cell_type": "code",
   "execution_count": 23,
   "metadata": {
    "id": "7BpIlB7Nm-Rt"
   },
   "outputs": [
    {
     "name": "stderr",
     "output_type": "stream",
     "text": [
      "\u001b[32m[I 2023-02-13 10:09:24,875]\u001b[0m Using an existing study with name 'elasticnet-regression' instead of creating a new one.\u001b[0m\n"
     ]
    },
    {
     "name": "stdout",
     "output_type": "stream",
     "text": [
      "Using an existing study with name 'elasticnet-regression' instead of creating a new one.\n"
     ]
    }
   ],
   "source": [
    "study = optuna.create_study(study_name=\"elasticnet-regression\", storage=storage_name, load_if_exists=True, direction=\"minimize\")\n",
    "study.set_user_attr(\"Loss\", \"RMSE\")"
   ]
  },
  {
   "cell_type": "code",
   "execution_count": 21,
   "metadata": {},
   "outputs": [
    {
     "name": "stderr",
     "output_type": "stream",
     "text": [
      "\u001b[32m[I 2023-02-12 20:04:13,106]\u001b[0m Trial 0 finished with value: 0.712 and parameters: {'alpha': 7.6767592564378555, 'l1_ratio': 0.7947754314368692, 'tfidf': False, 'normalization': True, 'scaling': False}. Best is trial 0 with value: 0.712.\u001b[0m\n"
     ]
    },
    {
     "name": "stdout",
     "output_type": "stream",
     "text": [
      "Trial 0 finished with value: 0.712 and parameters: {'alpha': 7.6767592564378555, 'l1_ratio': 0.7947754314368692, 'tfidf': False, 'normalization': True, 'scaling': False}. Best is trial 0 with value: 0.712.\n"
     ]
    },
    {
     "name": "stderr",
     "output_type": "stream",
     "text": [
      "\u001b[32m[I 2023-02-12 20:04:27,854]\u001b[0m Trial 1 finished with value: 0.703 and parameters: {'alpha': 5.691982379501282, 'l1_ratio': 0.8611016476247246, 'tfidf': False, 'normalization': True, 'scaling': False}. Best is trial 1 with value: 0.703.\u001b[0m\n"
     ]
    },
    {
     "name": "stdout",
     "output_type": "stream",
     "text": [
      "Trial 1 finished with value: 0.703 and parameters: {'alpha': 5.691982379501282, 'l1_ratio': 0.8611016476247246, 'tfidf': False, 'normalization': True, 'scaling': False}. Best is trial 1 with value: 0.703.\n"
     ]
    },
    {
     "name": "stderr",
     "output_type": "stream",
     "text": [
      "\u001b[32m[I 2023-02-12 20:04:42,789]\u001b[0m Trial 2 finished with value: 0.712 and parameters: {'alpha': 3.0480953980362853, 'l1_ratio': 0.777522900069485, 'tfidf': True, 'normalization': False, 'scaling': False}. Best is trial 1 with value: 0.703.\u001b[0m\n"
     ]
    },
    {
     "name": "stdout",
     "output_type": "stream",
     "text": [
      "Trial 2 finished with value: 0.712 and parameters: {'alpha': 3.0480953980362853, 'l1_ratio': 0.777522900069485, 'tfidf': True, 'normalization': False, 'scaling': False}. Best is trial 1 with value: 0.703.\n"
     ]
    },
    {
     "name": "stderr",
     "output_type": "stream",
     "text": [
      "\u001b[32m[I 2023-02-12 20:04:57,715]\u001b[0m Trial 3 finished with value: 0.714 and parameters: {'alpha': 9.13385301998779, 'l1_ratio': 0.32878763039201014, 'tfidf': True, 'normalization': False, 'scaling': False}. Best is trial 1 with value: 0.703.\u001b[0m\n"
     ]
    },
    {
     "name": "stdout",
     "output_type": "stream",
     "text": [
      "Trial 3 finished with value: 0.714 and parameters: {'alpha': 9.13385301998779, 'l1_ratio': 0.32878763039201014, 'tfidf': True, 'normalization': False, 'scaling': False}. Best is trial 1 with value: 0.703.\n"
     ]
    },
    {
     "name": "stderr",
     "output_type": "stream",
     "text": [
      "\u001b[32m[I 2023-02-12 20:05:12,485]\u001b[0m Trial 4 finished with value: 0.708 and parameters: {'alpha': 1.7324995511446453, 'l1_ratio': 0.7949651990976754, 'tfidf': False, 'normalization': True, 'scaling': False}. Best is trial 1 with value: 0.703.\u001b[0m\n"
     ]
    },
    {
     "name": "stdout",
     "output_type": "stream",
     "text": [
      "Trial 4 finished with value: 0.708 and parameters: {'alpha': 1.7324995511446453, 'l1_ratio': 0.7949651990976754, 'tfidf': False, 'normalization': True, 'scaling': False}. Best is trial 1 with value: 0.703.\n"
     ]
    },
    {
     "name": "stderr",
     "output_type": "stream",
     "text": [
      "\u001b[32m[I 2023-02-12 20:05:27,388]\u001b[0m Trial 5 finished with value: 0.703 and parameters: {'alpha': 5.673337422798416, 'l1_ratio': 0.39168741336340185, 'tfidf': False, 'normalization': False, 'scaling': True}. Best is trial 1 with value: 0.703.\u001b[0m\n"
     ]
    },
    {
     "name": "stdout",
     "output_type": "stream",
     "text": [
      "Trial 5 finished with value: 0.703 and parameters: {'alpha': 5.673337422798416, 'l1_ratio': 0.39168741336340185, 'tfidf': False, 'normalization': False, 'scaling': True}. Best is trial 1 with value: 0.703.\n"
     ]
    },
    {
     "name": "stderr",
     "output_type": "stream",
     "text": [
      "\u001b[32m[I 2023-02-12 20:05:42,927]\u001b[0m Trial 6 finished with value: 0.706 and parameters: {'alpha': 5.891976190685219, 'l1_ratio': 0.3460802906431496, 'tfidf': True, 'normalization': True, 'scaling': False}. Best is trial 1 with value: 0.703.\u001b[0m\n"
     ]
    },
    {
     "name": "stdout",
     "output_type": "stream",
     "text": [
      "Trial 6 finished with value: 0.706 and parameters: {'alpha': 5.891976190685219, 'l1_ratio': 0.3460802906431496, 'tfidf': True, 'normalization': True, 'scaling': False}. Best is trial 1 with value: 0.703.\n"
     ]
    },
    {
     "name": "stderr",
     "output_type": "stream",
     "text": [
      "\u001b[32m[I 2023-02-12 20:05:57,916]\u001b[0m Trial 7 finished with value: 0.697 and parameters: {'alpha': 9.692300727460283, 'l1_ratio': 0.6865284769913371, 'tfidf': False, 'normalization': True, 'scaling': False}. Best is trial 7 with value: 0.697.\u001b[0m\n"
     ]
    },
    {
     "name": "stdout",
     "output_type": "stream",
     "text": [
      "Trial 7 finished with value: 0.697 and parameters: {'alpha': 9.692300727460283, 'l1_ratio': 0.6865284769913371, 'tfidf': False, 'normalization': True, 'scaling': False}. Best is trial 7 with value: 0.697.\n"
     ]
    },
    {
     "name": "stderr",
     "output_type": "stream",
     "text": [
      "\u001b[32m[I 2023-02-12 20:06:13,299]\u001b[0m Trial 8 finished with value: 0.706 and parameters: {'alpha': 5.617326529159289, 'l1_ratio': 0.5045939392128937, 'tfidf': True, 'normalization': False, 'scaling': False}. Best is trial 7 with value: 0.697.\u001b[0m\n"
     ]
    },
    {
     "name": "stdout",
     "output_type": "stream",
     "text": [
      "Trial 8 finished with value: 0.706 and parameters: {'alpha': 5.617326529159289, 'l1_ratio': 0.5045939392128937, 'tfidf': True, 'normalization': False, 'scaling': False}. Best is trial 7 with value: 0.697.\n"
     ]
    },
    {
     "name": "stderr",
     "output_type": "stream",
     "text": [
      "\u001b[32m[I 2023-02-12 20:06:28,129]\u001b[0m Trial 9 finished with value: 0.699 and parameters: {'alpha': 1.2393491454924748, 'l1_ratio': 0.4344194590093555, 'tfidf': False, 'normalization': False, 'scaling': False}. Best is trial 7 with value: 0.697.\u001b[0m\n"
     ]
    },
    {
     "name": "stdout",
     "output_type": "stream",
     "text": [
      "Trial 9 finished with value: 0.699 and parameters: {'alpha': 1.2393491454924748, 'l1_ratio': 0.4344194590093555, 'tfidf': False, 'normalization': False, 'scaling': False}. Best is trial 7 with value: 0.697.\n"
     ]
    },
    {
     "name": "stderr",
     "output_type": "stream",
     "text": [
      "\u001b[32m[I 2023-02-12 20:06:43,343]\u001b[0m Trial 10 finished with value: 0.701 and parameters: {'alpha': 9.87872617683266, 'l1_ratio': 0.5977550207115114, 'tfidf': False, 'normalization': True, 'scaling': True}. Best is trial 7 with value: 0.697.\u001b[0m\n"
     ]
    },
    {
     "name": "stdout",
     "output_type": "stream",
     "text": [
      "Trial 10 finished with value: 0.701 and parameters: {'alpha': 9.87872617683266, 'l1_ratio': 0.5977550207115114, 'tfidf': False, 'normalization': True, 'scaling': True}. Best is trial 7 with value: 0.697.\n"
     ]
    },
    {
     "name": "stderr",
     "output_type": "stream",
     "text": [
      "\u001b[32m[I 2023-02-12 20:07:25,059]\u001b[0m Trial 11 finished with value: 0.63 and parameters: {'alpha': 0.15998231814396924, 'l1_ratio': 0.6175743573587327, 'tfidf': False, 'normalization': False, 'scaling': True}. Best is trial 11 with value: 0.63.\u001b[0m\n"
     ]
    },
    {
     "name": "stdout",
     "output_type": "stream",
     "text": [
      "Trial 11 finished with value: 0.63 and parameters: {'alpha': 0.15998231814396924, 'l1_ratio': 0.6175743573587327, 'tfidf': False, 'normalization': False, 'scaling': True}. Best is trial 11 with value: 0.63.\n"
     ]
    },
    {
     "name": "stderr",
     "output_type": "stream",
     "text": [
      "\u001b[32m[I 2023-02-12 20:07:40,192]\u001b[0m Trial 12 finished with value: 0.704 and parameters: {'alpha': 2.8811898741239776, 'l1_ratio': 0.6241048180357445, 'tfidf': False, 'normalization': True, 'scaling': True}. Best is trial 11 with value: 0.63.\u001b[0m\n"
     ]
    },
    {
     "name": "stdout",
     "output_type": "stream",
     "text": [
      "Trial 12 finished with value: 0.704 and parameters: {'alpha': 2.8811898741239776, 'l1_ratio': 0.6241048180357445, 'tfidf': False, 'normalization': True, 'scaling': True}. Best is trial 11 with value: 0.63.\n"
     ]
    },
    {
     "name": "stderr",
     "output_type": "stream",
     "text": [
      "\u001b[32m[I 2023-02-12 20:08:20,427]\u001b[0m Trial 13 finished with value: 0.626 and parameters: {'alpha': 0.4009095343696467, 'l1_ratio': 0.17653555342654514, 'tfidf': False, 'normalization': False, 'scaling': True}. Best is trial 13 with value: 0.626.\u001b[0m\n"
     ]
    },
    {
     "name": "stdout",
     "output_type": "stream",
     "text": [
      "Trial 13 finished with value: 0.626 and parameters: {'alpha': 0.4009095343696467, 'l1_ratio': 0.17653555342654514, 'tfidf': False, 'normalization': False, 'scaling': True}. Best is trial 13 with value: 0.626.\n"
     ]
    },
    {
     "name": "stderr",
     "output_type": "stream",
     "text": [
      "\u001b[32m[I 2023-02-12 20:09:05,072]\u001b[0m Trial 14 finished with value: 0.625 and parameters: {'alpha': 0.29376941240124577, 'l1_ratio': 0.1708032477248703, 'tfidf': False, 'normalization': False, 'scaling': True}. Best is trial 14 with value: 0.625.\u001b[0m\n"
     ]
    },
    {
     "name": "stdout",
     "output_type": "stream",
     "text": [
      "Trial 14 finished with value: 0.625 and parameters: {'alpha': 0.29376941240124577, 'l1_ratio': 0.1708032477248703, 'tfidf': False, 'normalization': False, 'scaling': True}. Best is trial 14 with value: 0.625.\n"
     ]
    },
    {
     "name": "stderr",
     "output_type": "stream",
     "text": [
      "\u001b[32m[I 2023-02-12 20:09:50,273]\u001b[0m Trial 15 finished with value: 0.617 and parameters: {'alpha': 0.30908933395254606, 'l1_ratio': 0.13605876528263688, 'tfidf': False, 'normalization': False, 'scaling': True}. Best is trial 15 with value: 0.617.\u001b[0m\n"
     ]
    },
    {
     "name": "stdout",
     "output_type": "stream",
     "text": [
      "Trial 15 finished with value: 0.617 and parameters: {'alpha': 0.30908933395254606, 'l1_ratio': 0.13605876528263688, 'tfidf': False, 'normalization': False, 'scaling': True}. Best is trial 15 with value: 0.617.\n"
     ]
    },
    {
     "name": "stderr",
     "output_type": "stream",
     "text": [
      "\u001b[32m[I 2023-02-12 20:10:05,300]\u001b[0m Trial 16 finished with value: 0.706 and parameters: {'alpha': 2.9967459204310116, 'l1_ratio': 0.10092718262079851, 'tfidf': False, 'normalization': False, 'scaling': True}. Best is trial 15 with value: 0.617.\u001b[0m\n"
     ]
    },
    {
     "name": "stdout",
     "output_type": "stream",
     "text": [
      "Trial 16 finished with value: 0.706 and parameters: {'alpha': 2.9967459204310116, 'l1_ratio': 0.10092718262079851, 'tfidf': False, 'normalization': False, 'scaling': True}. Best is trial 15 with value: 0.617.\n"
     ]
    },
    {
     "name": "stderr",
     "output_type": "stream",
     "text": [
      "\u001b[32m[I 2023-02-12 20:10:20,399]\u001b[0m Trial 17 finished with value: 0.706 and parameters: {'alpha': 1.379902294338415, 'l1_ratio': 0.23948946362395285, 'tfidf': False, 'normalization': False, 'scaling': True}. Best is trial 15 with value: 0.617.\u001b[0m\n"
     ]
    },
    {
     "name": "stdout",
     "output_type": "stream",
     "text": [
      "Trial 17 finished with value: 0.706 and parameters: {'alpha': 1.379902294338415, 'l1_ratio': 0.23948946362395285, 'tfidf': False, 'normalization': False, 'scaling': True}. Best is trial 15 with value: 0.617.\n"
     ]
    },
    {
     "name": "stderr",
     "output_type": "stream",
     "text": [
      "\u001b[32m[I 2023-02-12 20:10:35,635]\u001b[0m Trial 18 finished with value: 0.708 and parameters: {'alpha': 4.025708596980282, 'l1_ratio': 0.10381172088245072, 'tfidf': True, 'normalization': False, 'scaling': True}. Best is trial 15 with value: 0.617.\u001b[0m\n"
     ]
    },
    {
     "name": "stdout",
     "output_type": "stream",
     "text": [
      "Trial 18 finished with value: 0.708 and parameters: {'alpha': 4.025708596980282, 'l1_ratio': 0.10381172088245072, 'tfidf': True, 'normalization': False, 'scaling': True}. Best is trial 15 with value: 0.617.\n"
     ]
    },
    {
     "name": "stderr",
     "output_type": "stream",
     "text": [
      "\u001b[32m[I 2023-02-12 20:11:32,678]\u001b[0m Trial 19 finished with value: 0.606 and parameters: {'alpha': 0.11242693435738552, 'l1_ratio': 0.23653131327938587, 'tfidf': False, 'normalization': False, 'scaling': True}. Best is trial 19 with value: 0.606.\u001b[0m\n"
     ]
    },
    {
     "name": "stdout",
     "output_type": "stream",
     "text": [
      "Trial 19 finished with value: 0.606 and parameters: {'alpha': 0.11242693435738552, 'l1_ratio': 0.23653131327938587, 'tfidf': False, 'normalization': False, 'scaling': True}. Best is trial 19 with value: 0.606.\n"
     ]
    }
   ],
   "source": [
    "def objective(trial):\n",
    "\n",
    "    alpha = trial.suggest_float(\"alpha\", 0.1, 10.0)\n",
    "    l1_ratio = trial.suggest_float(\"l1_ratio\", 0.1, 0.9)\n",
    "    tfidf = trial.suggest_categorical(\"tfidf\", [True, False])\n",
    "    normalization = trial.suggest_categorical(\"normalization\", [True, False])\n",
    "    scaling = trial.suggest_categorical(\"scaling\", [True, False])\n",
    "\n",
    "    regressor = ElasticNet(alpha=alpha, l1_ratio=l1_ratio)\n",
    "    score = sklearn_regressors.evaluate_regressor(\n",
    "        regressor=regressor,\n",
    "        X=X_train,\n",
    "        y=y_train,\n",
    "        tfidf=tfidf,\n",
    "        normalization=normalization, \n",
    "        scaling=scaling\n",
    "    )\n",
    "\n",
    "    return score\n",
    "\n",
    "study.optimize(objective, n_trials=20)"
   ]
  },
  {
   "cell_type": "code",
   "execution_count": 24,
   "metadata": {
    "id": "-G5CteZrm-Rt"
   },
   "outputs": [
    {
     "data": {
      "text/html": [
       "<div>\n",
       "<style scoped>\n",
       "    .dataframe tbody tr th:only-of-type {\n",
       "        vertical-align: middle;\n",
       "    }\n",
       "\n",
       "    .dataframe tbody tr th {\n",
       "        vertical-align: top;\n",
       "    }\n",
       "\n",
       "    .dataframe thead th {\n",
       "        text-align: right;\n",
       "    }\n",
       "</style>\n",
       "<table border=\"1\" class=\"dataframe\">\n",
       "  <thead>\n",
       "    <tr style=\"text-align: right;\">\n",
       "      <th></th>\n",
       "      <th>number</th>\n",
       "      <th>value</th>\n",
       "      <th>datetime_start</th>\n",
       "      <th>datetime_complete</th>\n",
       "      <th>duration</th>\n",
       "      <th>params_alpha</th>\n",
       "      <th>params_l1_ratio</th>\n",
       "      <th>params_normalization</th>\n",
       "      <th>params_scaling</th>\n",
       "      <th>params_tfidf</th>\n",
       "      <th>state</th>\n",
       "    </tr>\n",
       "  </thead>\n",
       "  <tbody>\n",
       "    <tr>\n",
       "      <th>19</th>\n",
       "      <td>19</td>\n",
       "      <td>0.606</td>\n",
       "      <td>2023-02-12 20:10:35.639328</td>\n",
       "      <td>2023-02-12 20:11:32.665827</td>\n",
       "      <td>0 days 00:00:57.026499</td>\n",
       "      <td>0.112427</td>\n",
       "      <td>0.236531</td>\n",
       "      <td>False</td>\n",
       "      <td>True</td>\n",
       "      <td>False</td>\n",
       "      <td>COMPLETE</td>\n",
       "    </tr>\n",
       "    <tr>\n",
       "      <th>15</th>\n",
       "      <td>15</td>\n",
       "      <td>0.617</td>\n",
       "      <td>2023-02-12 20:09:05.075636</td>\n",
       "      <td>2023-02-12 20:09:50.259511</td>\n",
       "      <td>0 days 00:00:45.183875</td>\n",
       "      <td>0.309089</td>\n",
       "      <td>0.136059</td>\n",
       "      <td>False</td>\n",
       "      <td>True</td>\n",
       "      <td>False</td>\n",
       "      <td>COMPLETE</td>\n",
       "    </tr>\n",
       "    <tr>\n",
       "      <th>14</th>\n",
       "      <td>14</td>\n",
       "      <td>0.625</td>\n",
       "      <td>2023-02-12 20:08:20.431011</td>\n",
       "      <td>2023-02-12 20:09:05.059881</td>\n",
       "      <td>0 days 00:00:44.628870</td>\n",
       "      <td>0.293769</td>\n",
       "      <td>0.170803</td>\n",
       "      <td>False</td>\n",
       "      <td>True</td>\n",
       "      <td>False</td>\n",
       "      <td>COMPLETE</td>\n",
       "    </tr>\n",
       "    <tr>\n",
       "      <th>13</th>\n",
       "      <td>13</td>\n",
       "      <td>0.626</td>\n",
       "      <td>2023-02-12 20:07:40.196028</td>\n",
       "      <td>2023-02-12 20:08:20.414043</td>\n",
       "      <td>0 days 00:00:40.218015</td>\n",
       "      <td>0.400910</td>\n",
       "      <td>0.176536</td>\n",
       "      <td>False</td>\n",
       "      <td>True</td>\n",
       "      <td>False</td>\n",
       "      <td>COMPLETE</td>\n",
       "    </tr>\n",
       "    <tr>\n",
       "      <th>11</th>\n",
       "      <td>11</td>\n",
       "      <td>0.630</td>\n",
       "      <td>2023-02-12 20:06:43.347274</td>\n",
       "      <td>2023-02-12 20:07:25.046306</td>\n",
       "      <td>0 days 00:00:41.699032</td>\n",
       "      <td>0.159982</td>\n",
       "      <td>0.617574</td>\n",
       "      <td>False</td>\n",
       "      <td>True</td>\n",
       "      <td>False</td>\n",
       "      <td>COMPLETE</td>\n",
       "    </tr>\n",
       "    <tr>\n",
       "      <th>7</th>\n",
       "      <td>7</td>\n",
       "      <td>0.697</td>\n",
       "      <td>2023-02-12 20:05:42.930764</td>\n",
       "      <td>2023-02-12 20:05:57.903260</td>\n",
       "      <td>0 days 00:00:14.972496</td>\n",
       "      <td>9.692301</td>\n",
       "      <td>0.686528</td>\n",
       "      <td>True</td>\n",
       "      <td>False</td>\n",
       "      <td>False</td>\n",
       "      <td>COMPLETE</td>\n",
       "    </tr>\n",
       "    <tr>\n",
       "      <th>9</th>\n",
       "      <td>9</td>\n",
       "      <td>0.699</td>\n",
       "      <td>2023-02-12 20:06:13.302679</td>\n",
       "      <td>2023-02-12 20:06:28.116305</td>\n",
       "      <td>0 days 00:00:14.813626</td>\n",
       "      <td>1.239349</td>\n",
       "      <td>0.434419</td>\n",
       "      <td>False</td>\n",
       "      <td>False</td>\n",
       "      <td>False</td>\n",
       "      <td>COMPLETE</td>\n",
       "    </tr>\n",
       "    <tr>\n",
       "      <th>10</th>\n",
       "      <td>10</td>\n",
       "      <td>0.701</td>\n",
       "      <td>2023-02-12 20:06:28.132778</td>\n",
       "      <td>2023-02-12 20:06:43.331306</td>\n",
       "      <td>0 days 00:00:15.198528</td>\n",
       "      <td>9.878726</td>\n",
       "      <td>0.597755</td>\n",
       "      <td>True</td>\n",
       "      <td>True</td>\n",
       "      <td>False</td>\n",
       "      <td>COMPLETE</td>\n",
       "    </tr>\n",
       "    <tr>\n",
       "      <th>5</th>\n",
       "      <td>5</td>\n",
       "      <td>0.703</td>\n",
       "      <td>2023-02-12 20:05:12.488259</td>\n",
       "      <td>2023-02-12 20:05:27.375760</td>\n",
       "      <td>0 days 00:00:14.887501</td>\n",
       "      <td>5.673337</td>\n",
       "      <td>0.391687</td>\n",
       "      <td>False</td>\n",
       "      <td>True</td>\n",
       "      <td>False</td>\n",
       "      <td>COMPLETE</td>\n",
       "    </tr>\n",
       "    <tr>\n",
       "      <th>1</th>\n",
       "      <td>1</td>\n",
       "      <td>0.703</td>\n",
       "      <td>2023-02-12 20:04:13.109187</td>\n",
       "      <td>2023-02-12 20:04:27.838393</td>\n",
       "      <td>0 days 00:00:14.729206</td>\n",
       "      <td>5.691982</td>\n",
       "      <td>0.861102</td>\n",
       "      <td>True</td>\n",
       "      <td>False</td>\n",
       "      <td>False</td>\n",
       "      <td>COMPLETE</td>\n",
       "    </tr>\n",
       "  </tbody>\n",
       "</table>\n",
       "</div>"
      ],
      "text/plain": [
       "    number  value             datetime_start          datetime_complete  \\\n",
       "19      19  0.606 2023-02-12 20:10:35.639328 2023-02-12 20:11:32.665827   \n",
       "15      15  0.617 2023-02-12 20:09:05.075636 2023-02-12 20:09:50.259511   \n",
       "14      14  0.625 2023-02-12 20:08:20.431011 2023-02-12 20:09:05.059881   \n",
       "13      13  0.626 2023-02-12 20:07:40.196028 2023-02-12 20:08:20.414043   \n",
       "11      11  0.630 2023-02-12 20:06:43.347274 2023-02-12 20:07:25.046306   \n",
       "7        7  0.697 2023-02-12 20:05:42.930764 2023-02-12 20:05:57.903260   \n",
       "9        9  0.699 2023-02-12 20:06:13.302679 2023-02-12 20:06:28.116305   \n",
       "10      10  0.701 2023-02-12 20:06:28.132778 2023-02-12 20:06:43.331306   \n",
       "5        5  0.703 2023-02-12 20:05:12.488259 2023-02-12 20:05:27.375760   \n",
       "1        1  0.703 2023-02-12 20:04:13.109187 2023-02-12 20:04:27.838393   \n",
       "\n",
       "                 duration  params_alpha  params_l1_ratio  \\\n",
       "19 0 days 00:00:57.026499      0.112427         0.236531   \n",
       "15 0 days 00:00:45.183875      0.309089         0.136059   \n",
       "14 0 days 00:00:44.628870      0.293769         0.170803   \n",
       "13 0 days 00:00:40.218015      0.400910         0.176536   \n",
       "11 0 days 00:00:41.699032      0.159982         0.617574   \n",
       "7  0 days 00:00:14.972496      9.692301         0.686528   \n",
       "9  0 days 00:00:14.813626      1.239349         0.434419   \n",
       "10 0 days 00:00:15.198528      9.878726         0.597755   \n",
       "5  0 days 00:00:14.887501      5.673337         0.391687   \n",
       "1  0 days 00:00:14.729206      5.691982         0.861102   \n",
       "\n",
       "    params_normalization  params_scaling  params_tfidf     state  \n",
       "19                 False            True         False  COMPLETE  \n",
       "15                 False            True         False  COMPLETE  \n",
       "14                 False            True         False  COMPLETE  \n",
       "13                 False            True         False  COMPLETE  \n",
       "11                 False            True         False  COMPLETE  \n",
       "7                   True           False         False  COMPLETE  \n",
       "9                  False           False         False  COMPLETE  \n",
       "10                  True            True         False  COMPLETE  \n",
       "5                  False            True         False  COMPLETE  \n",
       "1                   True           False         False  COMPLETE  "
      ]
     },
     "execution_count": 24,
     "metadata": {},
     "output_type": "execute_result"
    }
   ],
   "source": [
    "study.trials_dataframe().sort_values(by=\"value\").head(10)"
   ]
  },
  {
   "cell_type": "code",
   "execution_count": 25,
   "metadata": {
    "id": "dIJhZwaNm-Rt"
   },
   "outputs": [
    {
     "name": "stdout",
     "output_type": "stream",
     "text": [
      "Best ElasticNET regression params: {'alpha': 0.11242693435738552, 'l1_ratio': 0.23653131327938587, 'normalization': False, 'scaling': True, 'tfidf': False}, achieving val RMSE: 0.606\n"
     ]
    }
   ],
   "source": [
    "print(f\"Best ElasticNET regression params: {study.best_params}, achieving val RMSE: {study.best_value}\")"
   ]
  },
  {
   "cell_type": "code",
   "execution_count": 26,
   "metadata": {},
   "outputs": [],
   "source": [
    "save = False\n",
    "load = True\n",
    "\n",
    "regressor_params = {\"alpha\": 0.11, \"l1_ratio\": 0.24}\n",
    "pipe_params = {\n",
    "    'normalization': False,\n",
    "    'scaling': True,\n",
    "    'tfidf': False,\n",
    "}\n",
    "\n",
    "if load:\n",
    "    pipe = joblib.load(f\"{exp_dir}/elasticnet/pipe\")\n",
    "else:\n",
    "    regressor = ElasticNet(**regressor_params)\n",
    "    pipe = sklearn_regressors.train_pipe(regressor, X_train, y_train, **pipe_params)\n",
    "\n",
    "    if save:\n",
    "        additional_attributes = {\n",
    "            \"regressor_params\": regressor_params,\n",
    "            \"pipe_params\": pipe_params,\n",
    "            \"test_programs\": test_programs,\n",
    "        }\n",
    "\n",
    "        joblib.dump(pipe, f\"{exp_dir}/elasticnet/pipe\")\n",
    "        with open(f\"{exp_dir}/elasticnet/additional_attributes.json\", \"w\") as file:\n",
    "            json.dump(additional_attributes, file, indent=4)"
   ]
  },
  {
   "cell_type": "code",
   "execution_count": 27,
   "metadata": {},
   "outputs": [
    {
     "name": "stdout",
     "output_type": "stream",
     "text": [
      "Mean absolute error for test programs\n",
      "{'faa': 0.89147165008725, 'quicksort': 0.25386099978710697, 'declare': 0.43216138903587825}\n",
      "\n",
      "Total energies for test programs\n",
      "{'faa': {'true_energy': 1593.1851865544543, 'pred_energy': 500.42793924663556}, 'quicksort': {'true_energy': 4246.078264105911, 'pred_energy': 6705.826639080588}, 'declare': {'true_energy': 6382.83618144921, 'pred_energy': 3819.1135006007057}}\n"
     ]
    }
   ],
   "source": [
    "maes = {}\n",
    "prog_energy = {}\n",
    "\n",
    "for test_program in test_programs:\n",
    "    prog_df = test_df[test_df.program_name == test_program]\n",
    "    prog_bbs = np.array([\" \".join(bb) for bb in prog_df.bb.tolist()])\n",
    "    test_preds = pipe.predict(prog_bbs)\n",
    "    true_energies = prog_df.energy.values\n",
    "    \n",
    "    maes[test_program] = mean_absolute_error(true_energies, test_preds)\n",
    "    prog_energy[test_program] = {\n",
    "        \"true_energy\": sum(true_energies),\n",
    "        \"pred_energy\": sum(test_preds),\n",
    "    }\n",
    "\n",
    "print(\"Mean absolute error for test programs\")\n",
    "print(f\"{maes}\\n\")\n",
    "\n",
    "print(\"Total energies for test programs\")\n",
    "print(prog_energy)"
   ]
  },
  {
   "cell_type": "markdown",
   "metadata": {
    "id": "0yrfpGpQhJ6I"
   },
   "source": [
    "## SGD Regression"
   ]
  },
  {
   "cell_type": "markdown",
   "metadata": {
    "id": "wutmcIO6hJ6I"
   },
   "source": [
    "Stochastic Gradient Descent Regression using either of the above reguliration techniques. Tune:\n",
    "* penalty method\n",
    "* alpha\n",
    "* l1_ratio (if elasticnet penalty)."
   ]
  },
  {
   "cell_type": "code",
   "execution_count": 28,
   "metadata": {
    "id": "sOSQ1Cr4nHDZ"
   },
   "outputs": [
    {
     "name": "stderr",
     "output_type": "stream",
     "text": [
      "\u001b[32m[I 2023-02-13 10:09:42,950]\u001b[0m Using an existing study with name 'SGD-regression' instead of creating a new one.\u001b[0m\n"
     ]
    },
    {
     "name": "stdout",
     "output_type": "stream",
     "text": [
      "Using an existing study with name 'SGD-regression' instead of creating a new one.\n"
     ]
    }
   ],
   "source": [
    "study = optuna.create_study(study_name=\"SGD-regression\", storage=storage_name, load_if_exists=True, direction=\"minimize\")\n",
    "study.set_user_attr(\"Loss\", \"RMSE\")"
   ]
  },
  {
   "cell_type": "code",
   "execution_count": 25,
   "metadata": {},
   "outputs": [
    {
     "name": "stderr",
     "output_type": "stream",
     "text": [
      "\u001b[32m[I 2023-02-12 20:11:48,285]\u001b[0m Trial 0 finished with value: 0.675 and parameters: {'penalty': 'l2', 'alpha': 8.126047195718966, 'l1_ratio': 0.1, 'tfidf': True, 'normalization': False, 'scaling': True}. Best is trial 0 with value: 0.675.\u001b[0m\n"
     ]
    },
    {
     "name": "stdout",
     "output_type": "stream",
     "text": [
      "Trial 0 finished with value: 0.675 and parameters: {'penalty': 'l2', 'alpha': 8.126047195718966, 'l1_ratio': 0.1, 'tfidf': True, 'normalization': False, 'scaling': True}. Best is trial 0 with value: 0.675.\n"
     ]
    },
    {
     "name": "stderr",
     "output_type": "stream",
     "text": [
      "\u001b[32m[I 2023-02-12 20:12:03,083]\u001b[0m Trial 1 finished with value: 0.713 and parameters: {'penalty': 'l1', 'alpha': 8.840943103159544, 'l1_ratio': 0.1, 'tfidf': True, 'normalization': True, 'scaling': False}. Best is trial 0 with value: 0.675.\u001b[0m\n"
     ]
    },
    {
     "name": "stdout",
     "output_type": "stream",
     "text": [
      "Trial 1 finished with value: 0.713 and parameters: {'penalty': 'l1', 'alpha': 8.840943103159544, 'l1_ratio': 0.1, 'tfidf': True, 'normalization': True, 'scaling': False}. Best is trial 0 with value: 0.675.\n"
     ]
    },
    {
     "name": "stderr",
     "output_type": "stream",
     "text": [
      "\u001b[32m[I 2023-02-12 20:12:17,886]\u001b[0m Trial 2 finished with value: 1773240610374.694 and parameters: {'penalty': 'l1', 'alpha': 0.24060479728254555, 'l1_ratio': 0.1, 'tfidf': False, 'normalization': True, 'scaling': True}. Best is trial 0 with value: 0.675.\u001b[0m\n"
     ]
    },
    {
     "name": "stdout",
     "output_type": "stream",
     "text": [
      "Trial 2 finished with value: 1773240610374.694 and parameters: {'penalty': 'l1', 'alpha': 0.24060479728254555, 'l1_ratio': 0.1, 'tfidf': False, 'normalization': True, 'scaling': True}. Best is trial 0 with value: 0.675.\n"
     ]
    },
    {
     "name": "stderr",
     "output_type": "stream",
     "text": [
      "\u001b[32m[I 2023-02-12 20:12:34,145]\u001b[0m Trial 3 finished with value: 0.695 and parameters: {'penalty': 'l2', 'alpha': 3.3482433415553117, 'l1_ratio': 0.1, 'tfidf': True, 'normalization': True, 'scaling': True}. Best is trial 0 with value: 0.675.\u001b[0m\n"
     ]
    },
    {
     "name": "stdout",
     "output_type": "stream",
     "text": [
      "Trial 3 finished with value: 0.695 and parameters: {'penalty': 'l2', 'alpha': 3.3482433415553117, 'l1_ratio': 0.1, 'tfidf': True, 'normalization': True, 'scaling': True}. Best is trial 0 with value: 0.675.\n"
     ]
    },
    {
     "name": "stderr",
     "output_type": "stream",
     "text": [
      "\u001b[32m[I 2023-02-12 20:12:48,672]\u001b[0m Trial 4 finished with value: 0.702 and parameters: {'penalty': 'l1', 'alpha': 2.7672922815066747, 'l1_ratio': 0.1, 'tfidf': False, 'normalization': False, 'scaling': False}. Best is trial 0 with value: 0.675.\u001b[0m\n"
     ]
    },
    {
     "name": "stdout",
     "output_type": "stream",
     "text": [
      "Trial 4 finished with value: 0.702 and parameters: {'penalty': 'l1', 'alpha': 2.7672922815066747, 'l1_ratio': 0.1, 'tfidf': False, 'normalization': False, 'scaling': False}. Best is trial 0 with value: 0.675.\n"
     ]
    },
    {
     "name": "stderr",
     "output_type": "stream",
     "text": [
      "\u001b[32m[I 2023-02-12 20:13:03,132]\u001b[0m Trial 5 finished with value: 0.704 and parameters: {'penalty': 'l1', 'alpha': 8.771042710873411, 'l1_ratio': 0.1, 'tfidf': False, 'normalization': False, 'scaling': False}. Best is trial 0 with value: 0.675.\u001b[0m\n"
     ]
    },
    {
     "name": "stdout",
     "output_type": "stream",
     "text": [
      "Trial 5 finished with value: 0.704 and parameters: {'penalty': 'l1', 'alpha': 8.771042710873411, 'l1_ratio': 0.1, 'tfidf': False, 'normalization': False, 'scaling': False}. Best is trial 0 with value: 0.675.\n"
     ]
    },
    {
     "name": "stderr",
     "output_type": "stream",
     "text": [
      "\u001b[32m[I 2023-02-12 20:13:18,849]\u001b[0m Trial 6 finished with value: 0.665 and parameters: {'penalty': 'l2', 'alpha': 9.150106587750104, 'l1_ratio': 0.1, 'tfidf': False, 'normalization': True, 'scaling': True}. Best is trial 6 with value: 0.665.\u001b[0m\n"
     ]
    },
    {
     "name": "stdout",
     "output_type": "stream",
     "text": [
      "Trial 6 finished with value: 0.665 and parameters: {'penalty': 'l2', 'alpha': 9.150106587750104, 'l1_ratio': 0.1, 'tfidf': False, 'normalization': True, 'scaling': True}. Best is trial 6 with value: 0.665.\n"
     ]
    },
    {
     "name": "stderr",
     "output_type": "stream",
     "text": [
      "\u001b[32m[I 2023-02-12 20:13:35,108]\u001b[0m Trial 7 finished with value: 0.745 and parameters: {'penalty': 'l2', 'alpha': 6.59286855825322, 'l1_ratio': 0.1, 'tfidf': False, 'normalization': False, 'scaling': True}. Best is trial 6 with value: 0.665.\u001b[0m\n"
     ]
    },
    {
     "name": "stdout",
     "output_type": "stream",
     "text": [
      "Trial 7 finished with value: 0.745 and parameters: {'penalty': 'l2', 'alpha': 6.59286855825322, 'l1_ratio': 0.1, 'tfidf': False, 'normalization': False, 'scaling': True}. Best is trial 6 with value: 0.665.\n"
     ]
    },
    {
     "name": "stderr",
     "output_type": "stream",
     "text": [
      "\u001b[32m[I 2023-02-12 20:13:49,342]\u001b[0m Trial 8 finished with value: 0.666 and parameters: {'penalty': 'l2', 'alpha': 7.578612199954453, 'l1_ratio': 0.1, 'tfidf': False, 'normalization': False, 'scaling': False}. Best is trial 6 with value: 0.665.\u001b[0m\n"
     ]
    },
    {
     "name": "stdout",
     "output_type": "stream",
     "text": [
      "Trial 8 finished with value: 0.666 and parameters: {'penalty': 'l2', 'alpha': 7.578612199954453, 'l1_ratio': 0.1, 'tfidf': False, 'normalization': False, 'scaling': False}. Best is trial 6 with value: 0.665.\n"
     ]
    },
    {
     "name": "stderr",
     "output_type": "stream",
     "text": [
      "\u001b[32m[I 2023-02-12 20:14:04,606]\u001b[0m Trial 9 finished with value: 13299025423.464 and parameters: {'penalty': 'l2', 'alpha': 1.0622968651710285, 'l1_ratio': 0.1, 'tfidf': False, 'normalization': False, 'scaling': True}. Best is trial 6 with value: 0.665.\u001b[0m\n"
     ]
    },
    {
     "name": "stdout",
     "output_type": "stream",
     "text": [
      "Trial 9 finished with value: 13299025423.464 and parameters: {'penalty': 'l2', 'alpha': 1.0622968651710285, 'l1_ratio': 0.1, 'tfidf': False, 'normalization': False, 'scaling': True}. Best is trial 6 with value: 0.665.\n"
     ]
    },
    {
     "name": "stderr",
     "output_type": "stream",
     "text": [
      "\u001b[32m[I 2023-02-12 20:14:19,569]\u001b[0m Trial 10 finished with value: 0.7 and parameters: {'penalty': 'elasticnet', 'alpha': 9.79180717107954, 'l1_ratio': 0.1, 'tfidf': True, 'normalization': True, 'scaling': True}. Best is trial 6 with value: 0.665.\u001b[0m\n"
     ]
    },
    {
     "name": "stdout",
     "output_type": "stream",
     "text": [
      "Trial 10 finished with value: 0.7 and parameters: {'penalty': 'elasticnet', 'alpha': 9.79180717107954, 'l1_ratio': 0.1, 'tfidf': True, 'normalization': True, 'scaling': True}. Best is trial 6 with value: 0.665.\n"
     ]
    },
    {
     "name": "stderr",
     "output_type": "stream",
     "text": [
      "\u001b[32m[I 2023-02-12 20:14:33,818]\u001b[0m Trial 11 finished with value: 0.711 and parameters: {'penalty': 'l2', 'alpha': 6.77797372390831, 'l1_ratio': 0.1, 'tfidf': False, 'normalization': True, 'scaling': False}. Best is trial 6 with value: 0.665.\u001b[0m\n"
     ]
    },
    {
     "name": "stdout",
     "output_type": "stream",
     "text": [
      "Trial 11 finished with value: 0.711 and parameters: {'penalty': 'l2', 'alpha': 6.77797372390831, 'l1_ratio': 0.1, 'tfidf': False, 'normalization': True, 'scaling': False}. Best is trial 6 with value: 0.665.\n"
     ]
    },
    {
     "name": "stderr",
     "output_type": "stream",
     "text": [
      "\u001b[32m[I 2023-02-12 20:14:48,248]\u001b[0m Trial 12 finished with value: 0.699 and parameters: {'penalty': 'elasticnet', 'alpha': 6.85957293706055, 'l1_ratio': 0.1, 'tfidf': False, 'normalization': False, 'scaling': False}. Best is trial 6 with value: 0.665.\u001b[0m\n"
     ]
    },
    {
     "name": "stdout",
     "output_type": "stream",
     "text": [
      "Trial 12 finished with value: 0.699 and parameters: {'penalty': 'elasticnet', 'alpha': 6.85957293706055, 'l1_ratio': 0.1, 'tfidf': False, 'normalization': False, 'scaling': False}. Best is trial 6 with value: 0.665.\n"
     ]
    },
    {
     "name": "stderr",
     "output_type": "stream",
     "text": [
      "\u001b[32m[I 2023-02-12 20:15:03,028]\u001b[0m Trial 13 finished with value: 0.699 and parameters: {'penalty': 'l2', 'alpha': 9.674899651377821, 'l1_ratio': 0.1, 'tfidf': False, 'normalization': True, 'scaling': False}. Best is trial 6 with value: 0.665.\u001b[0m\n"
     ]
    },
    {
     "name": "stdout",
     "output_type": "stream",
     "text": [
      "Trial 13 finished with value: 0.699 and parameters: {'penalty': 'l2', 'alpha': 9.674899651377821, 'l1_ratio': 0.1, 'tfidf': False, 'normalization': True, 'scaling': False}. Best is trial 6 with value: 0.665.\n"
     ]
    },
    {
     "name": "stderr",
     "output_type": "stream",
     "text": [
      "\u001b[32m[I 2023-02-12 20:15:20,633]\u001b[0m Trial 14 finished with value: 0.746 and parameters: {'penalty': 'l2', 'alpha': 7.786631759116358, 'l1_ratio': 0.1, 'tfidf': False, 'normalization': True, 'scaling': True}. Best is trial 6 with value: 0.665.\u001b[0m\n"
     ]
    },
    {
     "name": "stdout",
     "output_type": "stream",
     "text": [
      "Trial 14 finished with value: 0.746 and parameters: {'penalty': 'l2', 'alpha': 7.786631759116358, 'l1_ratio': 0.1, 'tfidf': False, 'normalization': True, 'scaling': True}. Best is trial 6 with value: 0.665.\n"
     ]
    },
    {
     "name": "stderr",
     "output_type": "stream",
     "text": [
      "\u001b[32m[I 2023-02-12 20:15:36,979]\u001b[0m Trial 15 finished with value: 0.666 and parameters: {'penalty': 'l2', 'alpha': 5.534293227052803, 'l1_ratio': 0.1, 'tfidf': False, 'normalization': False, 'scaling': False}. Best is trial 6 with value: 0.665.\u001b[0m\n"
     ]
    },
    {
     "name": "stdout",
     "output_type": "stream",
     "text": [
      "Trial 15 finished with value: 0.666 and parameters: {'penalty': 'l2', 'alpha': 5.534293227052803, 'l1_ratio': 0.1, 'tfidf': False, 'normalization': False, 'scaling': False}. Best is trial 6 with value: 0.665.\n"
     ]
    },
    {
     "name": "stderr",
     "output_type": "stream",
     "text": [
      "\u001b[32m[I 2023-02-12 20:15:51,944]\u001b[0m Trial 16 finished with value: 0.706 and parameters: {'penalty': 'elasticnet', 'alpha': 7.859896346906717, 'l1_ratio': 0.1, 'tfidf': False, 'normalization': True, 'scaling': True}. Best is trial 6 with value: 0.665.\u001b[0m\n"
     ]
    },
    {
     "name": "stdout",
     "output_type": "stream",
     "text": [
      "Trial 16 finished with value: 0.706 and parameters: {'penalty': 'elasticnet', 'alpha': 7.859896346906717, 'l1_ratio': 0.1, 'tfidf': False, 'normalization': True, 'scaling': True}. Best is trial 6 with value: 0.665.\n"
     ]
    },
    {
     "name": "stderr",
     "output_type": "stream",
     "text": [
      "\u001b[32m[I 2023-02-12 20:16:06,289]\u001b[0m Trial 17 finished with value: 0.66 and parameters: {'penalty': 'l2', 'alpha': 5.391655466034191, 'l1_ratio': 0.1, 'tfidf': False, 'normalization': False, 'scaling': False}. Best is trial 17 with value: 0.66.\u001b[0m\n"
     ]
    },
    {
     "name": "stdout",
     "output_type": "stream",
     "text": [
      "Trial 17 finished with value: 0.66 and parameters: {'penalty': 'l2', 'alpha': 5.391655466034191, 'l1_ratio': 0.1, 'tfidf': False, 'normalization': False, 'scaling': False}. Best is trial 17 with value: 0.66.\n"
     ]
    },
    {
     "name": "stderr",
     "output_type": "stream",
     "text": [
      "\u001b[32m[I 2023-02-12 20:16:20,783]\u001b[0m Trial 18 finished with value: 0.713 and parameters: {'penalty': 'l2', 'alpha': 5.04509379048451, 'l1_ratio': 0.1, 'tfidf': True, 'normalization': True, 'scaling': False}. Best is trial 17 with value: 0.66.\u001b[0m\n"
     ]
    },
    {
     "name": "stdout",
     "output_type": "stream",
     "text": [
      "Trial 18 finished with value: 0.713 and parameters: {'penalty': 'l2', 'alpha': 5.04509379048451, 'l1_ratio': 0.1, 'tfidf': True, 'normalization': True, 'scaling': False}. Best is trial 17 with value: 0.66.\n"
     ]
    },
    {
     "name": "stderr",
     "output_type": "stream",
     "text": [
      "\u001b[32m[I 2023-02-12 20:16:35,341]\u001b[0m Trial 19 finished with value: 0.707 and parameters: {'penalty': 'elasticnet', 'alpha': 5.458404424617722, 'l1_ratio': 0.1, 'tfidf': False, 'normalization': False, 'scaling': True}. Best is trial 17 with value: 0.66.\u001b[0m\n"
     ]
    },
    {
     "name": "stdout",
     "output_type": "stream",
     "text": [
      "Trial 19 finished with value: 0.707 and parameters: {'penalty': 'elasticnet', 'alpha': 5.458404424617722, 'l1_ratio': 0.1, 'tfidf': False, 'normalization': False, 'scaling': True}. Best is trial 17 with value: 0.66.\n"
     ]
    },
    {
     "name": "stderr",
     "output_type": "stream",
     "text": [
      "\u001b[32m[I 2023-02-12 20:16:49,609]\u001b[0m Trial 20 finished with value: 0.706 and parameters: {'penalty': 'l2', 'alpha': 9.971021985029886, 'l1_ratio': 0.1, 'tfidf': False, 'normalization': True, 'scaling': False}. Best is trial 17 with value: 0.66.\u001b[0m\n"
     ]
    },
    {
     "name": "stdout",
     "output_type": "stream",
     "text": [
      "Trial 20 finished with value: 0.706 and parameters: {'penalty': 'l2', 'alpha': 9.971021985029886, 'l1_ratio': 0.1, 'tfidf': False, 'normalization': True, 'scaling': False}. Best is trial 17 with value: 0.66.\n"
     ]
    },
    {
     "name": "stderr",
     "output_type": "stream",
     "text": [
      "\u001b[32m[I 2023-02-12 20:17:03,837]\u001b[0m Trial 21 finished with value: 0.672 and parameters: {'penalty': 'l2', 'alpha': 8.7391020308791, 'l1_ratio': 0.1, 'tfidf': False, 'normalization': False, 'scaling': False}. Best is trial 17 with value: 0.66.\u001b[0m\n"
     ]
    },
    {
     "name": "stdout",
     "output_type": "stream",
     "text": [
      "Trial 21 finished with value: 0.672 and parameters: {'penalty': 'l2', 'alpha': 8.7391020308791, 'l1_ratio': 0.1, 'tfidf': False, 'normalization': False, 'scaling': False}. Best is trial 17 with value: 0.66.\n"
     ]
    },
    {
     "name": "stderr",
     "output_type": "stream",
     "text": [
      "\u001b[32m[I 2023-02-12 20:17:18,107]\u001b[0m Trial 22 finished with value: 0.671 and parameters: {'penalty': 'l2', 'alpha': 7.180920204865433, 'l1_ratio': 0.1, 'tfidf': False, 'normalization': False, 'scaling': False}. Best is trial 17 with value: 0.66.\u001b[0m\n"
     ]
    },
    {
     "name": "stdout",
     "output_type": "stream",
     "text": [
      "Trial 22 finished with value: 0.671 and parameters: {'penalty': 'l2', 'alpha': 7.180920204865433, 'l1_ratio': 0.1, 'tfidf': False, 'normalization': False, 'scaling': False}. Best is trial 17 with value: 0.66.\n"
     ]
    },
    {
     "name": "stderr",
     "output_type": "stream",
     "text": [
      "\u001b[32m[I 2023-02-12 20:17:32,231]\u001b[0m Trial 23 finished with value: 0.655 and parameters: {'penalty': 'l2', 'alpha': 6.133458824319162, 'l1_ratio': 0.1, 'tfidf': False, 'normalization': False, 'scaling': False}. Best is trial 23 with value: 0.655.\u001b[0m\n"
     ]
    },
    {
     "name": "stdout",
     "output_type": "stream",
     "text": [
      "Trial 23 finished with value: 0.655 and parameters: {'penalty': 'l2', 'alpha': 6.133458824319162, 'l1_ratio': 0.1, 'tfidf': False, 'normalization': False, 'scaling': False}. Best is trial 23 with value: 0.655.\n"
     ]
    },
    {
     "name": "stderr",
     "output_type": "stream",
     "text": [
      "\u001b[32m[I 2023-02-12 20:17:46,382]\u001b[0m Trial 24 finished with value: 0.661 and parameters: {'penalty': 'l2', 'alpha': 5.782302775253823, 'l1_ratio': 0.1, 'tfidf': False, 'normalization': False, 'scaling': False}. Best is trial 23 with value: 0.655.\u001b[0m\n"
     ]
    },
    {
     "name": "stdout",
     "output_type": "stream",
     "text": [
      "Trial 24 finished with value: 0.661 and parameters: {'penalty': 'l2', 'alpha': 5.782302775253823, 'l1_ratio': 0.1, 'tfidf': False, 'normalization': False, 'scaling': False}. Best is trial 23 with value: 0.655.\n"
     ]
    },
    {
     "name": "stderr",
     "output_type": "stream",
     "text": [
      "\u001b[32m[I 2023-02-12 20:18:00,628]\u001b[0m Trial 25 finished with value: 0.668 and parameters: {'penalty': 'l2', 'alpha': 6.157293122913626, 'l1_ratio': 0.1, 'tfidf': False, 'normalization': False, 'scaling': False}. Best is trial 23 with value: 0.655.\u001b[0m\n"
     ]
    },
    {
     "name": "stdout",
     "output_type": "stream",
     "text": [
      "Trial 25 finished with value: 0.668 and parameters: {'penalty': 'l2', 'alpha': 6.157293122913626, 'l1_ratio': 0.1, 'tfidf': False, 'normalization': False, 'scaling': False}. Best is trial 23 with value: 0.655.\n"
     ]
    },
    {
     "name": "stderr",
     "output_type": "stream",
     "text": [
      "\u001b[32m[I 2023-02-12 20:18:15,008]\u001b[0m Trial 26 finished with value: 0.706 and parameters: {'penalty': 'l2', 'alpha': 4.803254553913317, 'l1_ratio': 0.1, 'tfidf': True, 'normalization': False, 'scaling': False}. Best is trial 23 with value: 0.655.\u001b[0m\n"
     ]
    },
    {
     "name": "stdout",
     "output_type": "stream",
     "text": [
      "Trial 26 finished with value: 0.706 and parameters: {'penalty': 'l2', 'alpha': 4.803254553913317, 'l1_ratio': 0.1, 'tfidf': True, 'normalization': False, 'scaling': False}. Best is trial 23 with value: 0.655.\n"
     ]
    },
    {
     "name": "stderr",
     "output_type": "stream",
     "text": [
      "\u001b[32m[I 2023-02-12 20:18:29,355]\u001b[0m Trial 27 finished with value: 0.646 and parameters: {'penalty': 'l2', 'alpha': 4.394181615429851, 'l1_ratio': 0.1, 'tfidf': False, 'normalization': False, 'scaling': False}. Best is trial 27 with value: 0.646.\u001b[0m\n"
     ]
    },
    {
     "name": "stdout",
     "output_type": "stream",
     "text": [
      "Trial 27 finished with value: 0.646 and parameters: {'penalty': 'l2', 'alpha': 4.394181615429851, 'l1_ratio': 0.1, 'tfidf': False, 'normalization': False, 'scaling': False}. Best is trial 27 with value: 0.646.\n"
     ]
    },
    {
     "name": "stderr",
     "output_type": "stream",
     "text": [
      "\u001b[32m[I 2023-02-12 20:18:43,786]\u001b[0m Trial 28 finished with value: 0.711 and parameters: {'penalty': 'l1', 'alpha': 4.642118412320941, 'l1_ratio': 0.1, 'tfidf': False, 'normalization': False, 'scaling': False}. Best is trial 27 with value: 0.646.\u001b[0m\n"
     ]
    },
    {
     "name": "stdout",
     "output_type": "stream",
     "text": [
      "Trial 28 finished with value: 0.711 and parameters: {'penalty': 'l1', 'alpha': 4.642118412320941, 'l1_ratio': 0.1, 'tfidf': False, 'normalization': False, 'scaling': False}. Best is trial 27 with value: 0.646.\n"
     ]
    },
    {
     "name": "stderr",
     "output_type": "stream",
     "text": [
      "\u001b[32m[I 2023-02-12 20:18:58,334]\u001b[0m Trial 29 finished with value: 0.708 and parameters: {'penalty': 'elasticnet', 'alpha': 4.014005753530335, 'l1_ratio': 0.1, 'tfidf': True, 'normalization': False, 'scaling': False}. Best is trial 27 with value: 0.646.\u001b[0m\n"
     ]
    },
    {
     "name": "stdout",
     "output_type": "stream",
     "text": [
      "Trial 29 finished with value: 0.708 and parameters: {'penalty': 'elasticnet', 'alpha': 4.014005753530335, 'l1_ratio': 0.1, 'tfidf': True, 'normalization': False, 'scaling': False}. Best is trial 27 with value: 0.646.\n"
     ]
    },
    {
     "name": "stderr",
     "output_type": "stream",
     "text": [
      "\u001b[32m[I 2023-02-12 20:19:12,540]\u001b[0m Trial 30 finished with value: 0.662 and parameters: {'penalty': 'l2', 'alpha': 6.127275965662736, 'l1_ratio': 0.1, 'tfidf': False, 'normalization': False, 'scaling': False}. Best is trial 27 with value: 0.646.\u001b[0m\n"
     ]
    },
    {
     "name": "stdout",
     "output_type": "stream",
     "text": [
      "Trial 30 finished with value: 0.662 and parameters: {'penalty': 'l2', 'alpha': 6.127275965662736, 'l1_ratio': 0.1, 'tfidf': False, 'normalization': False, 'scaling': False}. Best is trial 27 with value: 0.646.\n"
     ]
    },
    {
     "name": "stderr",
     "output_type": "stream",
     "text": [
      "\u001b[32m[I 2023-02-12 20:19:26,690]\u001b[0m Trial 31 finished with value: 0.658 and parameters: {'penalty': 'l2', 'alpha': 6.02758604271719, 'l1_ratio': 0.1, 'tfidf': False, 'normalization': False, 'scaling': False}. Best is trial 27 with value: 0.646.\u001b[0m\n"
     ]
    },
    {
     "name": "stdout",
     "output_type": "stream",
     "text": [
      "Trial 31 finished with value: 0.658 and parameters: {'penalty': 'l2', 'alpha': 6.02758604271719, 'l1_ratio': 0.1, 'tfidf': False, 'normalization': False, 'scaling': False}. Best is trial 27 with value: 0.646.\n"
     ]
    },
    {
     "name": "stderr",
     "output_type": "stream",
     "text": [
      "\u001b[32m[I 2023-02-12 20:19:40,918]\u001b[0m Trial 32 finished with value: 0.654 and parameters: {'penalty': 'l2', 'alpha': 4.428106778123649, 'l1_ratio': 0.1, 'tfidf': False, 'normalization': False, 'scaling': False}. Best is trial 27 with value: 0.646.\u001b[0m\n"
     ]
    },
    {
     "name": "stdout",
     "output_type": "stream",
     "text": [
      "Trial 32 finished with value: 0.654 and parameters: {'penalty': 'l2', 'alpha': 4.428106778123649, 'l1_ratio': 0.1, 'tfidf': False, 'normalization': False, 'scaling': False}. Best is trial 27 with value: 0.646.\n"
     ]
    },
    {
     "name": "stderr",
     "output_type": "stream",
     "text": [
      "\u001b[32m[I 2023-02-12 20:19:55,107]\u001b[0m Trial 33 finished with value: 0.646 and parameters: {'penalty': 'l2', 'alpha': 4.324907804857163, 'l1_ratio': 0.1, 'tfidf': False, 'normalization': False, 'scaling': False}. Best is trial 27 with value: 0.646.\u001b[0m\n"
     ]
    },
    {
     "name": "stdout",
     "output_type": "stream",
     "text": [
      "Trial 33 finished with value: 0.646 and parameters: {'penalty': 'l2', 'alpha': 4.324907804857163, 'l1_ratio': 0.1, 'tfidf': False, 'normalization': False, 'scaling': False}. Best is trial 27 with value: 0.646.\n"
     ]
    },
    {
     "name": "stderr",
     "output_type": "stream",
     "text": [
      "\u001b[32m[I 2023-02-12 20:20:09,502]\u001b[0m Trial 34 finished with value: 0.705 and parameters: {'penalty': 'l2', 'alpha': 4.188653225648363, 'l1_ratio': 0.1, 'tfidf': True, 'normalization': False, 'scaling': False}. Best is trial 27 with value: 0.646.\u001b[0m\n"
     ]
    },
    {
     "name": "stdout",
     "output_type": "stream",
     "text": [
      "Trial 34 finished with value: 0.705 and parameters: {'penalty': 'l2', 'alpha': 4.188653225648363, 'l1_ratio': 0.1, 'tfidf': True, 'normalization': False, 'scaling': False}. Best is trial 27 with value: 0.646.\n"
     ]
    },
    {
     "name": "stderr",
     "output_type": "stream",
     "text": [
      "\u001b[32m[I 2023-02-12 20:20:23,838]\u001b[0m Trial 35 finished with value: 0.707 and parameters: {'penalty': 'l1', 'alpha': 3.534612704964779, 'l1_ratio': 0.1, 'tfidf': False, 'normalization': False, 'scaling': False}. Best is trial 27 with value: 0.646.\u001b[0m\n"
     ]
    },
    {
     "name": "stdout",
     "output_type": "stream",
     "text": [
      "Trial 35 finished with value: 0.707 and parameters: {'penalty': 'l1', 'alpha': 3.534612704964779, 'l1_ratio': 0.1, 'tfidf': False, 'normalization': False, 'scaling': False}. Best is trial 27 with value: 0.646.\n"
     ]
    },
    {
     "name": "stderr",
     "output_type": "stream",
     "text": [
      "\u001b[32m[I 2023-02-12 20:20:38,044]\u001b[0m Trial 36 finished with value: 0.649 and parameters: {'penalty': 'l2', 'alpha': 2.8234199594516722, 'l1_ratio': 0.1, 'tfidf': False, 'normalization': False, 'scaling': False}. Best is trial 27 with value: 0.646.\u001b[0m\n"
     ]
    },
    {
     "name": "stdout",
     "output_type": "stream",
     "text": [
      "Trial 36 finished with value: 0.649 and parameters: {'penalty': 'l2', 'alpha': 2.8234199594516722, 'l1_ratio': 0.1, 'tfidf': False, 'normalization': False, 'scaling': False}. Best is trial 27 with value: 0.646.\n"
     ]
    },
    {
     "name": "stderr",
     "output_type": "stream",
     "text": [
      "\u001b[32m[I 2023-02-12 20:20:52,461]\u001b[0m Trial 37 finished with value: 0.706 and parameters: {'penalty': 'l1', 'alpha': 2.50972994638051, 'l1_ratio': 0.1, 'tfidf': False, 'normalization': False, 'scaling': False}. Best is trial 27 with value: 0.646.\u001b[0m\n"
     ]
    },
    {
     "name": "stdout",
     "output_type": "stream",
     "text": [
      "Trial 37 finished with value: 0.706 and parameters: {'penalty': 'l1', 'alpha': 2.50972994638051, 'l1_ratio': 0.1, 'tfidf': False, 'normalization': False, 'scaling': False}. Best is trial 27 with value: 0.646.\n"
     ]
    },
    {
     "name": "stderr",
     "output_type": "stream",
     "text": [
      "\u001b[32m[I 2023-02-12 20:21:06,646]\u001b[0m Trial 38 finished with value: 0.654 and parameters: {'penalty': 'l2', 'alpha': 2.7617317641419845, 'l1_ratio': 0.1, 'tfidf': False, 'normalization': False, 'scaling': False}. Best is trial 27 with value: 0.646.\u001b[0m\n"
     ]
    },
    {
     "name": "stdout",
     "output_type": "stream",
     "text": [
      "Trial 38 finished with value: 0.654 and parameters: {'penalty': 'l2', 'alpha': 2.7617317641419845, 'l1_ratio': 0.1, 'tfidf': False, 'normalization': False, 'scaling': False}. Best is trial 27 with value: 0.646.\n"
     ]
    },
    {
     "name": "stderr",
     "output_type": "stream",
     "text": [
      "\u001b[32m[I 2023-02-12 20:21:20,906]\u001b[0m Trial 39 finished with value: 0.703 and parameters: {'penalty': 'l2', 'alpha': 3.3353359835785104, 'l1_ratio': 0.1, 'tfidf': True, 'normalization': False, 'scaling': False}. Best is trial 27 with value: 0.646.\u001b[0m\n"
     ]
    },
    {
     "name": "stdout",
     "output_type": "stream",
     "text": [
      "Trial 39 finished with value: 0.703 and parameters: {'penalty': 'l2', 'alpha': 3.3353359835785104, 'l1_ratio': 0.1, 'tfidf': True, 'normalization': False, 'scaling': False}. Best is trial 27 with value: 0.646.\n"
     ]
    }
   ],
   "source": [
    "def objective(trial):\n",
    "\n",
    "    penalty = trial.suggest_categorical(\"penalty\", [\"l1\", \"l2\", \"elasticnet\"])\n",
    "    alpha = trial.suggest_float(\"alpha\", 0.1, 10.0)\n",
    "    l1_ratio = trial.suggest_float(\"l1_ratio\", 0.1, 0.1)\n",
    "    tfidf = trial.suggest_categorical(\"tfidf\", [True, False])\n",
    "    normalization = trial.suggest_categorical(\"normalization\", [True, False])\n",
    "    scaling = trial.suggest_categorical(\"scaling\", [True, False])\n",
    "\n",
    "    regressor = SGDRegressor(penalty=penalty, alpha=alpha, l1_ratio=l1_ratio)\n",
    "    score = sklearn_regressors.evaluate_regressor(\n",
    "        regressor=regressor,\n",
    "        X=X_train,\n",
    "        y=y_train,\n",
    "        tfidf=tfidf,\n",
    "        normalization=normalization, \n",
    "        scaling=scaling\n",
    "    )\n",
    "\n",
    "    return score\n",
    "\n",
    "study.optimize(objective, n_trials=40)"
   ]
  },
  {
   "cell_type": "code",
   "execution_count": 29,
   "metadata": {
    "id": "MPJGdClmnHDZ"
   },
   "outputs": [
    {
     "data": {
      "text/html": [
       "<div>\n",
       "<style scoped>\n",
       "    .dataframe tbody tr th:only-of-type {\n",
       "        vertical-align: middle;\n",
       "    }\n",
       "\n",
       "    .dataframe tbody tr th {\n",
       "        vertical-align: top;\n",
       "    }\n",
       "\n",
       "    .dataframe thead th {\n",
       "        text-align: right;\n",
       "    }\n",
       "</style>\n",
       "<table border=\"1\" class=\"dataframe\">\n",
       "  <thead>\n",
       "    <tr style=\"text-align: right;\">\n",
       "      <th></th>\n",
       "      <th>number</th>\n",
       "      <th>value</th>\n",
       "      <th>datetime_start</th>\n",
       "      <th>datetime_complete</th>\n",
       "      <th>duration</th>\n",
       "      <th>params_alpha</th>\n",
       "      <th>params_l1_ratio</th>\n",
       "      <th>params_normalization</th>\n",
       "      <th>params_penalty</th>\n",
       "      <th>params_scaling</th>\n",
       "      <th>params_tfidf</th>\n",
       "      <th>state</th>\n",
       "    </tr>\n",
       "  </thead>\n",
       "  <tbody>\n",
       "    <tr>\n",
       "      <th>33</th>\n",
       "      <td>33</td>\n",
       "      <td>0.646</td>\n",
       "      <td>2023-02-12 20:19:40.921652</td>\n",
       "      <td>2023-02-12 20:19:55.090151</td>\n",
       "      <td>0 days 00:00:14.168499</td>\n",
       "      <td>4.324908</td>\n",
       "      <td>0.1</td>\n",
       "      <td>False</td>\n",
       "      <td>l2</td>\n",
       "      <td>False</td>\n",
       "      <td>False</td>\n",
       "      <td>COMPLETE</td>\n",
       "    </tr>\n",
       "    <tr>\n",
       "      <th>27</th>\n",
       "      <td>27</td>\n",
       "      <td>0.646</td>\n",
       "      <td>2023-02-12 20:18:15.011229</td>\n",
       "      <td>2023-02-12 20:18:29.342369</td>\n",
       "      <td>0 days 00:00:14.331140</td>\n",
       "      <td>4.394182</td>\n",
       "      <td>0.1</td>\n",
       "      <td>False</td>\n",
       "      <td>l2</td>\n",
       "      <td>False</td>\n",
       "      <td>False</td>\n",
       "      <td>COMPLETE</td>\n",
       "    </tr>\n",
       "    <tr>\n",
       "      <th>36</th>\n",
       "      <td>36</td>\n",
       "      <td>0.649</td>\n",
       "      <td>2023-02-12 20:20:23.841917</td>\n",
       "      <td>2023-02-12 20:20:38.031959</td>\n",
       "      <td>0 days 00:00:14.190042</td>\n",
       "      <td>2.823420</td>\n",
       "      <td>0.1</td>\n",
       "      <td>False</td>\n",
       "      <td>l2</td>\n",
       "      <td>False</td>\n",
       "      <td>False</td>\n",
       "      <td>COMPLETE</td>\n",
       "    </tr>\n",
       "    <tr>\n",
       "      <th>38</th>\n",
       "      <td>38</td>\n",
       "      <td>0.654</td>\n",
       "      <td>2023-02-12 20:20:52.464274</td>\n",
       "      <td>2023-02-12 20:21:06.633232</td>\n",
       "      <td>0 days 00:00:14.168958</td>\n",
       "      <td>2.761732</td>\n",
       "      <td>0.1</td>\n",
       "      <td>False</td>\n",
       "      <td>l2</td>\n",
       "      <td>False</td>\n",
       "      <td>False</td>\n",
       "      <td>COMPLETE</td>\n",
       "    </tr>\n",
       "    <tr>\n",
       "      <th>32</th>\n",
       "      <td>32</td>\n",
       "      <td>0.654</td>\n",
       "      <td>2023-02-12 20:19:26.693659</td>\n",
       "      <td>2023-02-12 20:19:40.906652</td>\n",
       "      <td>0 days 00:00:14.212993</td>\n",
       "      <td>4.428107</td>\n",
       "      <td>0.1</td>\n",
       "      <td>False</td>\n",
       "      <td>l2</td>\n",
       "      <td>False</td>\n",
       "      <td>False</td>\n",
       "      <td>COMPLETE</td>\n",
       "    </tr>\n",
       "    <tr>\n",
       "      <th>23</th>\n",
       "      <td>23</td>\n",
       "      <td>0.655</td>\n",
       "      <td>2023-02-12 20:17:18.110064</td>\n",
       "      <td>2023-02-12 20:17:32.220056</td>\n",
       "      <td>0 days 00:00:14.109992</td>\n",
       "      <td>6.133459</td>\n",
       "      <td>0.1</td>\n",
       "      <td>False</td>\n",
       "      <td>l2</td>\n",
       "      <td>False</td>\n",
       "      <td>False</td>\n",
       "      <td>COMPLETE</td>\n",
       "    </tr>\n",
       "    <tr>\n",
       "      <th>31</th>\n",
       "      <td>31</td>\n",
       "      <td>0.658</td>\n",
       "      <td>2023-02-12 20:19:12.543496</td>\n",
       "      <td>2023-02-12 20:19:26.676186</td>\n",
       "      <td>0 days 00:00:14.132690</td>\n",
       "      <td>6.027586</td>\n",
       "      <td>0.1</td>\n",
       "      <td>False</td>\n",
       "      <td>l2</td>\n",
       "      <td>False</td>\n",
       "      <td>False</td>\n",
       "      <td>COMPLETE</td>\n",
       "    </tr>\n",
       "    <tr>\n",
       "      <th>17</th>\n",
       "      <td>17</td>\n",
       "      <td>0.660</td>\n",
       "      <td>2023-02-12 20:15:51.947395</td>\n",
       "      <td>2023-02-12 20:16:06.275483</td>\n",
       "      <td>0 days 00:00:14.328088</td>\n",
       "      <td>5.391655</td>\n",
       "      <td>0.1</td>\n",
       "      <td>False</td>\n",
       "      <td>l2</td>\n",
       "      <td>False</td>\n",
       "      <td>False</td>\n",
       "      <td>COMPLETE</td>\n",
       "    </tr>\n",
       "    <tr>\n",
       "      <th>24</th>\n",
       "      <td>24</td>\n",
       "      <td>0.661</td>\n",
       "      <td>2023-02-12 20:17:32.235063</td>\n",
       "      <td>2023-02-12 20:17:46.365057</td>\n",
       "      <td>0 days 00:00:14.129994</td>\n",
       "      <td>5.782303</td>\n",
       "      <td>0.1</td>\n",
       "      <td>False</td>\n",
       "      <td>l2</td>\n",
       "      <td>False</td>\n",
       "      <td>False</td>\n",
       "      <td>COMPLETE</td>\n",
       "    </tr>\n",
       "    <tr>\n",
       "      <th>30</th>\n",
       "      <td>30</td>\n",
       "      <td>0.662</td>\n",
       "      <td>2023-02-12 20:18:58.337785</td>\n",
       "      <td>2023-02-12 20:19:12.528499</td>\n",
       "      <td>0 days 00:00:14.190714</td>\n",
       "      <td>6.127276</td>\n",
       "      <td>0.1</td>\n",
       "      <td>False</td>\n",
       "      <td>l2</td>\n",
       "      <td>False</td>\n",
       "      <td>False</td>\n",
       "      <td>COMPLETE</td>\n",
       "    </tr>\n",
       "  </tbody>\n",
       "</table>\n",
       "</div>"
      ],
      "text/plain": [
       "    number  value             datetime_start          datetime_complete  \\\n",
       "33      33  0.646 2023-02-12 20:19:40.921652 2023-02-12 20:19:55.090151   \n",
       "27      27  0.646 2023-02-12 20:18:15.011229 2023-02-12 20:18:29.342369   \n",
       "36      36  0.649 2023-02-12 20:20:23.841917 2023-02-12 20:20:38.031959   \n",
       "38      38  0.654 2023-02-12 20:20:52.464274 2023-02-12 20:21:06.633232   \n",
       "32      32  0.654 2023-02-12 20:19:26.693659 2023-02-12 20:19:40.906652   \n",
       "23      23  0.655 2023-02-12 20:17:18.110064 2023-02-12 20:17:32.220056   \n",
       "31      31  0.658 2023-02-12 20:19:12.543496 2023-02-12 20:19:26.676186   \n",
       "17      17  0.660 2023-02-12 20:15:51.947395 2023-02-12 20:16:06.275483   \n",
       "24      24  0.661 2023-02-12 20:17:32.235063 2023-02-12 20:17:46.365057   \n",
       "30      30  0.662 2023-02-12 20:18:58.337785 2023-02-12 20:19:12.528499   \n",
       "\n",
       "                 duration  params_alpha  params_l1_ratio  \\\n",
       "33 0 days 00:00:14.168499      4.324908              0.1   \n",
       "27 0 days 00:00:14.331140      4.394182              0.1   \n",
       "36 0 days 00:00:14.190042      2.823420              0.1   \n",
       "38 0 days 00:00:14.168958      2.761732              0.1   \n",
       "32 0 days 00:00:14.212993      4.428107              0.1   \n",
       "23 0 days 00:00:14.109992      6.133459              0.1   \n",
       "31 0 days 00:00:14.132690      6.027586              0.1   \n",
       "17 0 days 00:00:14.328088      5.391655              0.1   \n",
       "24 0 days 00:00:14.129994      5.782303              0.1   \n",
       "30 0 days 00:00:14.190714      6.127276              0.1   \n",
       "\n",
       "    params_normalization params_penalty  params_scaling  params_tfidf  \\\n",
       "33                 False             l2           False         False   \n",
       "27                 False             l2           False         False   \n",
       "36                 False             l2           False         False   \n",
       "38                 False             l2           False         False   \n",
       "32                 False             l2           False         False   \n",
       "23                 False             l2           False         False   \n",
       "31                 False             l2           False         False   \n",
       "17                 False             l2           False         False   \n",
       "24                 False             l2           False         False   \n",
       "30                 False             l2           False         False   \n",
       "\n",
       "       state  \n",
       "33  COMPLETE  \n",
       "27  COMPLETE  \n",
       "36  COMPLETE  \n",
       "38  COMPLETE  \n",
       "32  COMPLETE  \n",
       "23  COMPLETE  \n",
       "31  COMPLETE  \n",
       "17  COMPLETE  \n",
       "24  COMPLETE  \n",
       "30  COMPLETE  "
      ]
     },
     "execution_count": 29,
     "metadata": {},
     "output_type": "execute_result"
    }
   ],
   "source": [
    "study.trials_dataframe().sort_values(by=\"value\").head(10)"
   ]
  },
  {
   "cell_type": "code",
   "execution_count": 30,
   "metadata": {
    "id": "RHHcfjFvnHDa"
   },
   "outputs": [
    {
     "name": "stdout",
     "output_type": "stream",
     "text": [
      "Best SGD regression params: {'alpha': 4.394181615429851, 'l1_ratio': 0.1, 'normalization': False, 'penalty': 'l2', 'scaling': False, 'tfidf': False}, achieving val RMSE: 0.646\n"
     ]
    }
   ],
   "source": [
    "print(f\"Best SGD regression params: {study.best_params}, achieving val RMSE: {study.best_value}\")"
   ]
  },
  {
   "cell_type": "code",
   "execution_count": 31,
   "metadata": {},
   "outputs": [],
   "source": [
    "save = False\n",
    "load = True\n",
    "\n",
    "regressor_params = {\"alpha\": 4.39, \"l1_ratio\": 0.1, \"penalty\": \"l2\"}\n",
    "pipe_params = {\n",
    "    'normalization': False,\n",
    "    'scaling': False,\n",
    "    'tfidf': False,\n",
    "}\n",
    "\n",
    "if load:\n",
    "    pipe = joblib.load(f\"{exp_dir}/sgd/pipe\")\n",
    "else:\n",
    "    regressor = SGDRegressor(**regressor_params)\n",
    "    pipe = sklearn_regressors.train_pipe(regressor, X_train, y_train, **pipe_params)\n",
    "\n",
    "    if save:\n",
    "        additional_attributes = {\n",
    "            \"regressor_params\": regressor_params,\n",
    "            \"pipe_params\": pipe_params,\n",
    "            \"test_programs\": test_programs,\n",
    "        }\n",
    "\n",
    "        joblib.dump(pipe, f\"{exp_dir}/sgd/pipe\")\n",
    "        with open(f\"{exp_dir}/sgd/additional_attributes.json\", \"w\") as file:\n",
    "            json.dump(additional_attributes, file, indent=4)"
   ]
  },
  {
   "cell_type": "code",
   "execution_count": 32,
   "metadata": {},
   "outputs": [
    {
     "name": "stdout",
     "output_type": "stream",
     "text": [
      "Mean absolute error for test programs\n",
      "{'faa': 0.9330119034821376, 'quicksort': 0.25573919607704576, 'declare': 0.4441559337023836}\n",
      "\n",
      "Total energies for test programs\n",
      "{'faa': {'true_energy': 1593.1851865544543, 'pred_energy': 456.1074803135414}, 'quicksort': {'true_energy': 4246.078264105911, 'pred_energy': 6264.6491942112025}, 'declare': {'true_energy': 6382.83618144921, 'pred_energy': 3514.0047917998977}}\n"
     ]
    }
   ],
   "source": [
    "maes = {}\n",
    "prog_energy = {}\n",
    "\n",
    "for test_program in test_programs:\n",
    "    prog_df = test_df[test_df.program_name == test_program]\n",
    "    prog_bbs = np.array([\" \".join(bb) for bb in prog_df.bb.tolist()])\n",
    "    test_preds = pipe.predict(prog_bbs)\n",
    "    true_energies = prog_df.energy.values\n",
    "    \n",
    "    maes[test_program] = mean_absolute_error(true_energies, test_preds)\n",
    "    prog_energy[test_program] = {\n",
    "        \"true_energy\": sum(true_energies),\n",
    "        \"pred_energy\": sum(test_preds),\n",
    "    }\n",
    "\n",
    "print(\"Mean absolute error for test programs\")\n",
    "print(f\"{maes}\\n\")\n",
    "\n",
    "print(\"Total energies for test programs\")\n",
    "print(prog_energy)"
   ]
  },
  {
   "cell_type": "markdown",
   "metadata": {
    "id": "Bygw9RgEhJ6I"
   },
   "source": [
    "## SVR"
   ]
  },
  {
   "cell_type": "markdown",
   "metadata": {
    "id": "nvZKfhWJhJ6I"
   },
   "source": [
    "Support Vector Regression. Tune:\n",
    "* kernel\n",
    "* gamma\n",
    "* C"
   ]
  },
  {
   "cell_type": "code",
   "execution_count": 8,
   "metadata": {
    "id": "w3QypaVGpjBx"
   },
   "outputs": [
    {
     "name": "stderr",
     "output_type": "stream",
     "text": [
      "\u001b[32m[I 2023-02-13 15:33:41,824]\u001b[0m Using an existing study with name 'SVR-regression' instead of creating a new one.\u001b[0m\n"
     ]
    },
    {
     "name": "stdout",
     "output_type": "stream",
     "text": [
      "Using an existing study with name 'SVR-regression' instead of creating a new one.\n"
     ]
    }
   ],
   "source": [
    "study = optuna.create_study(study_name=\"SVR-regression\", storage=storage_name, load_if_exists=True, direction=\"minimize\")\n",
    "study.set_user_attr(\"Loss\", \"RMSE\")"
   ]
  },
  {
   "cell_type": "code",
   "execution_count": 10,
   "metadata": {},
   "outputs": [
    {
     "name": "stderr",
     "output_type": "stream",
     "text": [
      "\u001b[32m[I 2023-02-13 00:57:53,743]\u001b[0m Trial 0 finished with value: 0.604 and parameters: {'kernel': 'linear', 'C': 5.208669556171662, 'gamma': 0.1, 'tfidf': False, 'normalization': False, 'scaling': False}. Best is trial 0 with value: 0.604.\u001b[0m\n"
     ]
    },
    {
     "name": "stdout",
     "output_type": "stream",
     "text": [
      "Trial 0 finished with value: 0.604 and parameters: {'kernel': 'linear', 'C': 5.208669556171662, 'gamma': 0.1, 'tfidf': False, 'normalization': False, 'scaling': False}. Best is trial 0 with value: 0.604.\n"
     ]
    },
    {
     "name": "stderr",
     "output_type": "stream",
     "text": [
      "\u001b[32m[I 2023-02-13 01:22:24,755]\u001b[0m Trial 1 finished with value: 0.614 and parameters: {'kernel': 'linear', 'C': 4.936226669403213, 'gamma': 0.1, 'tfidf': True, 'normalization': False, 'scaling': True}. Best is trial 0 with value: 0.604.\u001b[0m\n"
     ]
    },
    {
     "name": "stdout",
     "output_type": "stream",
     "text": [
      "Trial 1 finished with value: 0.614 and parameters: {'kernel': 'linear', 'C': 4.936226669403213, 'gamma': 0.1, 'tfidf': True, 'normalization': False, 'scaling': True}. Best is trial 0 with value: 0.604.\n"
     ]
    },
    {
     "name": "stderr",
     "output_type": "stream",
     "text": [
      "\u001b[32m[I 2023-02-13 01:22:34,089]\u001b[0m Trial 2 finished with value: 0.635 and parameters: {'kernel': 'rbf', 'C': 4.441320775205987, 'gamma': 0.1, 'tfidf': True, 'normalization': True, 'scaling': True}. Best is trial 0 with value: 0.604.\u001b[0m\n"
     ]
    },
    {
     "name": "stdout",
     "output_type": "stream",
     "text": [
      "Trial 2 finished with value: 0.635 and parameters: {'kernel': 'rbf', 'C': 4.441320775205987, 'gamma': 0.1, 'tfidf': True, 'normalization': True, 'scaling': True}. Best is trial 0 with value: 0.604.\n"
     ]
    },
    {
     "name": "stderr",
     "output_type": "stream",
     "text": [
      "\u001b[32m[I 2023-02-13 01:22:48,064]\u001b[0m Trial 3 finished with value: 0.611 and parameters: {'kernel': 'linear', 'C': 7.053715745057905, 'gamma': 0.1, 'tfidf': True, 'normalization': True, 'scaling': False}. Best is trial 0 with value: 0.604.\u001b[0m\n"
     ]
    },
    {
     "name": "stdout",
     "output_type": "stream",
     "text": [
      "Trial 3 finished with value: 0.611 and parameters: {'kernel': 'linear', 'C': 7.053715745057905, 'gamma': 0.1, 'tfidf': True, 'normalization': True, 'scaling': False}. Best is trial 0 with value: 0.604.\n"
     ]
    },
    {
     "name": "stderr",
     "output_type": "stream",
     "text": [
      "\u001b[32m[I 2023-02-13 01:22:56,279]\u001b[0m Trial 4 finished with value: 0.618 and parameters: {'kernel': 'rbf', 'C': 8.783889125360108, 'gamma': 0.1, 'tfidf': True, 'normalization': False, 'scaling': False}. Best is trial 0 with value: 0.604.\u001b[0m\n"
     ]
    },
    {
     "name": "stdout",
     "output_type": "stream",
     "text": [
      "Trial 4 finished with value: 0.618 and parameters: {'kernel': 'rbf', 'C': 8.783889125360108, 'gamma': 0.1, 'tfidf': True, 'normalization': False, 'scaling': False}. Best is trial 0 with value: 0.604.\n"
     ]
    },
    {
     "name": "stderr",
     "output_type": "stream",
     "text": [
      "\u001b[32m[I 2023-02-13 01:23:04,206]\u001b[0m Trial 5 finished with value: 0.645 and parameters: {'kernel': 'rbf', 'C': 3.4035365610017996, 'gamma': 0.1, 'tfidf': False, 'normalization': True, 'scaling': False}. Best is trial 0 with value: 0.604.\u001b[0m\n"
     ]
    },
    {
     "name": "stdout",
     "output_type": "stream",
     "text": [
      "Trial 5 finished with value: 0.645 and parameters: {'kernel': 'rbf', 'C': 3.4035365610017996, 'gamma': 0.1, 'tfidf': False, 'normalization': True, 'scaling': False}. Best is trial 0 with value: 0.604.\n"
     ]
    },
    {
     "name": "stderr",
     "output_type": "stream",
     "text": [
      "\u001b[32m[I 2023-02-13 01:23:12,051]\u001b[0m Trial 6 finished with value: 0.568 and parameters: {'kernel': 'rbf', 'C': 2.200024904021774, 'gamma': 0.1, 'tfidf': False, 'normalization': False, 'scaling': False}. Best is trial 6 with value: 0.568.\u001b[0m\n"
     ]
    },
    {
     "name": "stdout",
     "output_type": "stream",
     "text": [
      "Trial 6 finished with value: 0.568 and parameters: {'kernel': 'rbf', 'C': 2.200024904021774, 'gamma': 0.1, 'tfidf': False, 'normalization': False, 'scaling': False}. Best is trial 6 with value: 0.568.\n"
     ]
    },
    {
     "name": "stderr",
     "output_type": "stream",
     "text": [
      "\u001b[32m[I 2023-02-13 01:23:21,270]\u001b[0m Trial 7 finished with value: 0.559 and parameters: {'kernel': 'rbf', 'C': 5.455871781357861, 'gamma': 0.1, 'tfidf': False, 'normalization': False, 'scaling': True}. Best is trial 7 with value: 0.559.\u001b[0m\n"
     ]
    },
    {
     "name": "stdout",
     "output_type": "stream",
     "text": [
      "Trial 7 finished with value: 0.559 and parameters: {'kernel': 'rbf', 'C': 5.455871781357861, 'gamma': 0.1, 'tfidf': False, 'normalization': False, 'scaling': True}. Best is trial 7 with value: 0.559.\n"
     ]
    },
    {
     "name": "stderr",
     "output_type": "stream",
     "text": [
      "\u001b[32m[I 2023-02-13 02:25:38,181]\u001b[0m Trial 8 finished with value: 0.564 and parameters: {'kernel': 'linear', 'C': 8.705072500948557, 'gamma': 0.1, 'tfidf': True, 'normalization': True, 'scaling': True}. Best is trial 7 with value: 0.559.\u001b[0m\n"
     ]
    },
    {
     "name": "stdout",
     "output_type": "stream",
     "text": [
      "Trial 8 finished with value: 0.564 and parameters: {'kernel': 'linear', 'C': 8.705072500948557, 'gamma': 0.1, 'tfidf': True, 'normalization': True, 'scaling': True}. Best is trial 7 with value: 0.559.\n"
     ]
    },
    {
     "name": "stderr",
     "output_type": "stream",
     "text": [
      "\u001b[32m[I 2023-02-13 02:34:46,811]\u001b[0m Trial 9 finished with value: 0.655 and parameters: {'kernel': 'linear', 'C': 1.5626808876325884, 'gamma': 0.1, 'tfidf': True, 'normalization': False, 'scaling': True}. Best is trial 7 with value: 0.559.\u001b[0m\n"
     ]
    },
    {
     "name": "stdout",
     "output_type": "stream",
     "text": [
      "Trial 9 finished with value: 0.655 and parameters: {'kernel': 'linear', 'C': 1.5626808876325884, 'gamma': 0.1, 'tfidf': True, 'normalization': False, 'scaling': True}. Best is trial 7 with value: 0.559.\n"
     ]
    },
    {
     "name": "stderr",
     "output_type": "stream",
     "text": [
      "\u001b[32m[I 2023-02-13 02:34:55,315]\u001b[0m Trial 10 finished with value: 0.607 and parameters: {'kernel': 'rbf', 'C': 0.31892278023665366, 'gamma': 0.1, 'tfidf': False, 'normalization': False, 'scaling': True}. Best is trial 7 with value: 0.559.\u001b[0m\n"
     ]
    },
    {
     "name": "stdout",
     "output_type": "stream",
     "text": [
      "Trial 10 finished with value: 0.607 and parameters: {'kernel': 'rbf', 'C': 0.31892278023665366, 'gamma': 0.1, 'tfidf': False, 'normalization': False, 'scaling': True}. Best is trial 7 with value: 0.559.\n"
     ]
    },
    {
     "name": "stderr",
     "output_type": "stream",
     "text": [
      "\u001b[32m[I 2023-02-13 03:16:45,165]\u001b[0m Trial 11 finished with value: 0.621 and parameters: {'kernel': 'linear', 'C': 9.594059165956022, 'gamma': 0.1, 'tfidf': False, 'normalization': True, 'scaling': True}. Best is trial 7 with value: 0.559.\u001b[0m\n"
     ]
    },
    {
     "name": "stdout",
     "output_type": "stream",
     "text": [
      "Trial 11 finished with value: 0.621 and parameters: {'kernel': 'linear', 'C': 9.594059165956022, 'gamma': 0.1, 'tfidf': False, 'normalization': True, 'scaling': True}. Best is trial 7 with value: 0.559.\n"
     ]
    },
    {
     "name": "stderr",
     "output_type": "stream",
     "text": [
      "\u001b[32m[I 2023-02-13 03:16:54,453]\u001b[0m Trial 12 finished with value: 0.564 and parameters: {'kernel': 'rbf', 'C': 7.275444676333413, 'gamma': 0.1, 'tfidf': False, 'normalization': True, 'scaling': True}. Best is trial 7 with value: 0.559.\u001b[0m\n"
     ]
    },
    {
     "name": "stdout",
     "output_type": "stream",
     "text": [
      "Trial 12 finished with value: 0.564 and parameters: {'kernel': 'rbf', 'C': 7.275444676333413, 'gamma': 0.1, 'tfidf': False, 'normalization': True, 'scaling': True}. Best is trial 7 with value: 0.559.\n"
     ]
    },
    {
     "name": "stderr",
     "output_type": "stream",
     "text": [
      "\u001b[32m[I 2023-02-13 03:56:18,535]\u001b[0m Trial 13 finished with value: 0.657 and parameters: {'kernel': 'linear', 'C': 6.807658660430857, 'gamma': 0.1, 'tfidf': True, 'normalization': True, 'scaling': True}. Best is trial 7 with value: 0.559.\u001b[0m\n"
     ]
    },
    {
     "name": "stdout",
     "output_type": "stream",
     "text": [
      "Trial 13 finished with value: 0.657 and parameters: {'kernel': 'linear', 'C': 6.807658660430857, 'gamma': 0.1, 'tfidf': True, 'normalization': True, 'scaling': True}. Best is trial 7 with value: 0.559.\n"
     ]
    },
    {
     "name": "stderr",
     "output_type": "stream",
     "text": [
      "\u001b[32m[I 2023-02-13 03:56:27,797]\u001b[0m Trial 14 finished with value: 0.575 and parameters: {'kernel': 'rbf', 'C': 8.388470603822016, 'gamma': 0.1, 'tfidf': True, 'normalization': False, 'scaling': True}. Best is trial 7 with value: 0.559.\u001b[0m\n"
     ]
    },
    {
     "name": "stdout",
     "output_type": "stream",
     "text": [
      "Trial 14 finished with value: 0.575 and parameters: {'kernel': 'rbf', 'C': 8.388470603822016, 'gamma': 0.1, 'tfidf': True, 'normalization': False, 'scaling': True}. Best is trial 7 with value: 0.559.\n"
     ]
    },
    {
     "name": "stderr",
     "output_type": "stream",
     "text": [
      "\u001b[32m[I 2023-02-13 04:58:10,153]\u001b[0m Trial 15 finished with value: 0.603 and parameters: {'kernel': 'linear', 'C': 9.866095469526194, 'gamma': 0.1, 'tfidf': False, 'normalization': True, 'scaling': True}. Best is trial 7 with value: 0.559.\u001b[0m\n"
     ]
    },
    {
     "name": "stdout",
     "output_type": "stream",
     "text": [
      "Trial 15 finished with value: 0.603 and parameters: {'kernel': 'linear', 'C': 9.866095469526194, 'gamma': 0.1, 'tfidf': False, 'normalization': True, 'scaling': True}. Best is trial 7 with value: 0.559.\n"
     ]
    },
    {
     "name": "stderr",
     "output_type": "stream",
     "text": [
      "\u001b[32m[I 2023-02-13 05:35:19,402]\u001b[0m Trial 16 finished with value: 0.621 and parameters: {'kernel': 'linear', 'C': 6.161478303617464, 'gamma': 0.1, 'tfidf': True, 'normalization': False, 'scaling': True}. Best is trial 7 with value: 0.559.\u001b[0m\n"
     ]
    },
    {
     "name": "stdout",
     "output_type": "stream",
     "text": [
      "Trial 16 finished with value: 0.621 and parameters: {'kernel': 'linear', 'C': 6.161478303617464, 'gamma': 0.1, 'tfidf': True, 'normalization': False, 'scaling': True}. Best is trial 7 with value: 0.559.\n"
     ]
    },
    {
     "name": "stderr",
     "output_type": "stream",
     "text": [
      "\u001b[32m[I 2023-02-13 05:35:28,586]\u001b[0m Trial 17 finished with value: 0.583 and parameters: {'kernel': 'rbf', 'C': 7.562994014269719, 'gamma': 0.1, 'tfidf': False, 'normalization': True, 'scaling': True}. Best is trial 7 with value: 0.559.\u001b[0m\n"
     ]
    },
    {
     "name": "stdout",
     "output_type": "stream",
     "text": [
      "Trial 17 finished with value: 0.583 and parameters: {'kernel': 'rbf', 'C': 7.562994014269719, 'gamma': 0.1, 'tfidf': False, 'normalization': True, 'scaling': True}. Best is trial 7 with value: 0.559.\n"
     ]
    },
    {
     "name": "stderr",
     "output_type": "stream",
     "text": [
      "\u001b[32m[I 2023-02-13 05:35:37,918]\u001b[0m Trial 18 finished with value: 0.571 and parameters: {'kernel': 'rbf', 'C': 5.964181175350156, 'gamma': 0.1, 'tfidf': True, 'normalization': True, 'scaling': True}. Best is trial 7 with value: 0.559.\u001b[0m\n"
     ]
    },
    {
     "name": "stdout",
     "output_type": "stream",
     "text": [
      "Trial 18 finished with value: 0.571 and parameters: {'kernel': 'rbf', 'C': 5.964181175350156, 'gamma': 0.1, 'tfidf': True, 'normalization': True, 'scaling': True}. Best is trial 7 with value: 0.559.\n"
     ]
    },
    {
     "name": "stderr",
     "output_type": "stream",
     "text": [
      "\u001b[32m[I 2023-02-13 06:10:36,339]\u001b[0m Trial 19 finished with value: 0.595 and parameters: {'kernel': 'linear', 'C': 8.127295656546263, 'gamma': 0.1, 'tfidf': False, 'normalization': False, 'scaling': True}. Best is trial 7 with value: 0.559.\u001b[0m\n"
     ]
    },
    {
     "name": "stdout",
     "output_type": "stream",
     "text": [
      "Trial 19 finished with value: 0.595 and parameters: {'kernel': 'linear', 'C': 8.127295656546263, 'gamma': 0.1, 'tfidf': False, 'normalization': False, 'scaling': True}. Best is trial 7 with value: 0.559.\n"
     ]
    },
    {
     "name": "stderr",
     "output_type": "stream",
     "text": [
      "\u001b[32m[I 2023-02-13 06:10:45,613]\u001b[0m Trial 20 finished with value: 0.554 and parameters: {'kernel': 'rbf', 'C': 9.159041143405295, 'gamma': 0.1, 'tfidf': False, 'normalization': False, 'scaling': True}. Best is trial 20 with value: 0.554.\u001b[0m\n"
     ]
    },
    {
     "name": "stdout",
     "output_type": "stream",
     "text": [
      "Trial 20 finished with value: 0.554 and parameters: {'kernel': 'rbf', 'C': 9.159041143405295, 'gamma': 0.1, 'tfidf': False, 'normalization': False, 'scaling': True}. Best is trial 20 with value: 0.554.\n"
     ]
    },
    {
     "name": "stderr",
     "output_type": "stream",
     "text": [
      "\u001b[32m[I 2023-02-13 06:10:54,892]\u001b[0m Trial 21 finished with value: 0.582 and parameters: {'kernel': 'rbf', 'C': 9.018874624519125, 'gamma': 0.1, 'tfidf': False, 'normalization': False, 'scaling': True}. Best is trial 20 with value: 0.554.\u001b[0m\n"
     ]
    },
    {
     "name": "stdout",
     "output_type": "stream",
     "text": [
      "Trial 21 finished with value: 0.582 and parameters: {'kernel': 'rbf', 'C': 9.018874624519125, 'gamma': 0.1, 'tfidf': False, 'normalization': False, 'scaling': True}. Best is trial 20 with value: 0.554.\n"
     ]
    },
    {
     "name": "stderr",
     "output_type": "stream",
     "text": [
      "\u001b[32m[I 2023-02-13 06:11:04,206]\u001b[0m Trial 22 finished with value: 0.599 and parameters: {'kernel': 'rbf', 'C': 9.989513734454905, 'gamma': 0.1, 'tfidf': False, 'normalization': False, 'scaling': True}. Best is trial 20 with value: 0.554.\u001b[0m\n"
     ]
    },
    {
     "name": "stdout",
     "output_type": "stream",
     "text": [
      "Trial 22 finished with value: 0.599 and parameters: {'kernel': 'rbf', 'C': 9.989513734454905, 'gamma': 0.1, 'tfidf': False, 'normalization': False, 'scaling': True}. Best is trial 20 with value: 0.554.\n"
     ]
    },
    {
     "name": "stderr",
     "output_type": "stream",
     "text": [
      "\u001b[32m[I 2023-02-13 06:11:13,497]\u001b[0m Trial 23 finished with value: 0.634 and parameters: {'kernel': 'rbf', 'C': 8.0577220239305, 'gamma': 0.1, 'tfidf': False, 'normalization': False, 'scaling': True}. Best is trial 20 with value: 0.554.\u001b[0m\n"
     ]
    },
    {
     "name": "stdout",
     "output_type": "stream",
     "text": [
      "Trial 23 finished with value: 0.634 and parameters: {'kernel': 'rbf', 'C': 8.0577220239305, 'gamma': 0.1, 'tfidf': False, 'normalization': False, 'scaling': True}. Best is trial 20 with value: 0.554.\n"
     ]
    },
    {
     "name": "stderr",
     "output_type": "stream",
     "text": [
      "\u001b[32m[I 2023-02-13 06:11:22,813]\u001b[0m Trial 24 finished with value: 0.606 and parameters: {'kernel': 'rbf', 'C': 9.153839677560727, 'gamma': 0.1, 'tfidf': False, 'normalization': False, 'scaling': True}. Best is trial 20 with value: 0.554.\u001b[0m\n"
     ]
    },
    {
     "name": "stdout",
     "output_type": "stream",
     "text": [
      "Trial 24 finished with value: 0.606 and parameters: {'kernel': 'rbf', 'C': 9.153839677560727, 'gamma': 0.1, 'tfidf': False, 'normalization': False, 'scaling': True}. Best is trial 20 with value: 0.554.\n"
     ]
    },
    {
     "name": "stderr",
     "output_type": "stream",
     "text": [
      "\u001b[32m[I 2023-02-13 06:11:32,119]\u001b[0m Trial 25 finished with value: 0.557 and parameters: {'kernel': 'rbf', 'C': 8.021215400267241, 'gamma': 0.1, 'tfidf': False, 'normalization': False, 'scaling': True}. Best is trial 20 with value: 0.554.\u001b[0m\n"
     ]
    },
    {
     "name": "stdout",
     "output_type": "stream",
     "text": [
      "Trial 25 finished with value: 0.557 and parameters: {'kernel': 'rbf', 'C': 8.021215400267241, 'gamma': 0.1, 'tfidf': False, 'normalization': False, 'scaling': True}. Best is trial 20 with value: 0.554.\n"
     ]
    },
    {
     "name": "stderr",
     "output_type": "stream",
     "text": [
      "\u001b[32m[I 2023-02-13 06:11:39,970]\u001b[0m Trial 26 finished with value: 0.601 and parameters: {'kernel': 'rbf', 'C': 7.6872657552973775, 'gamma': 0.1, 'tfidf': False, 'normalization': False, 'scaling': False}. Best is trial 20 with value: 0.554.\u001b[0m\n"
     ]
    },
    {
     "name": "stdout",
     "output_type": "stream",
     "text": [
      "Trial 26 finished with value: 0.601 and parameters: {'kernel': 'rbf', 'C': 7.6872657552973775, 'gamma': 0.1, 'tfidf': False, 'normalization': False, 'scaling': False}. Best is trial 20 with value: 0.554.\n"
     ]
    },
    {
     "name": "stderr",
     "output_type": "stream",
     "text": [
      "\u001b[32m[I 2023-02-13 06:11:49,382]\u001b[0m Trial 27 finished with value: 0.629 and parameters: {'kernel': 'rbf', 'C': 6.557935718749707, 'gamma': 0.1, 'tfidf': False, 'normalization': False, 'scaling': True}. Best is trial 20 with value: 0.554.\u001b[0m\n"
     ]
    },
    {
     "name": "stdout",
     "output_type": "stream",
     "text": [
      "Trial 27 finished with value: 0.629 and parameters: {'kernel': 'rbf', 'C': 6.557935718749707, 'gamma': 0.1, 'tfidf': False, 'normalization': False, 'scaling': True}. Best is trial 20 with value: 0.554.\n"
     ]
    },
    {
     "name": "stderr",
     "output_type": "stream",
     "text": [
      "\u001b[32m[I 2023-02-13 06:11:58,779]\u001b[0m Trial 28 finished with value: 0.568 and parameters: {'kernel': 'rbf', 'C': 7.8142911755692115, 'gamma': 0.1, 'tfidf': False, 'normalization': False, 'scaling': True}. Best is trial 20 with value: 0.554.\u001b[0m\n"
     ]
    },
    {
     "name": "stdout",
     "output_type": "stream",
     "text": [
      "Trial 28 finished with value: 0.568 and parameters: {'kernel': 'rbf', 'C': 7.8142911755692115, 'gamma': 0.1, 'tfidf': False, 'normalization': False, 'scaling': True}. Best is trial 20 with value: 0.554.\n"
     ]
    },
    {
     "name": "stderr",
     "output_type": "stream",
     "text": [
      "\u001b[32m[I 2023-02-13 06:12:06,569]\u001b[0m Trial 29 finished with value: 0.61 and parameters: {'kernel': 'rbf', 'C': 5.60071055149684, 'gamma': 0.1, 'tfidf': False, 'normalization': False, 'scaling': False}. Best is trial 20 with value: 0.554.\u001b[0m\n"
     ]
    },
    {
     "name": "stdout",
     "output_type": "stream",
     "text": [
      "Trial 29 finished with value: 0.61 and parameters: {'kernel': 'rbf', 'C': 5.60071055149684, 'gamma': 0.1, 'tfidf': False, 'normalization': False, 'scaling': False}. Best is trial 20 with value: 0.554.\n"
     ]
    },
    {
     "name": "stderr",
     "output_type": "stream",
     "text": [
      "\u001b[32m[I 2023-02-13 06:12:15,920]\u001b[0m Trial 30 finished with value: 0.597 and parameters: {'kernel': 'rbf', 'C': 7.095491179819373, 'gamma': 0.1, 'tfidf': False, 'normalization': False, 'scaling': True}. Best is trial 20 with value: 0.554.\u001b[0m\n"
     ]
    },
    {
     "name": "stdout",
     "output_type": "stream",
     "text": [
      "Trial 30 finished with value: 0.597 and parameters: {'kernel': 'rbf', 'C': 7.095491179819373, 'gamma': 0.1, 'tfidf': False, 'normalization': False, 'scaling': True}. Best is trial 20 with value: 0.554.\n"
     ]
    },
    {
     "name": "stderr",
     "output_type": "stream",
     "text": [
      "\u001b[32m[I 2023-02-13 06:58:40,530]\u001b[0m Trial 31 finished with value: 0.613 and parameters: {'kernel': 'linear', 'C': 8.601060317979337, 'gamma': 0.1, 'tfidf': False, 'normalization': False, 'scaling': True}. Best is trial 20 with value: 0.554.\u001b[0m\n"
     ]
    },
    {
     "name": "stdout",
     "output_type": "stream",
     "text": [
      "Trial 31 finished with value: 0.613 and parameters: {'kernel': 'linear', 'C': 8.601060317979337, 'gamma': 0.1, 'tfidf': False, 'normalization': False, 'scaling': True}. Best is trial 20 with value: 0.554.\n"
     ]
    },
    {
     "name": "stderr",
     "output_type": "stream",
     "text": [
      "\u001b[32m[I 2023-02-13 07:48:42,730]\u001b[0m Trial 32 finished with value: 0.749 and parameters: {'kernel': 'linear', 'C': 9.212900272877636, 'gamma': 0.1, 'tfidf': True, 'normalization': True, 'scaling': True}. Best is trial 20 with value: 0.554.\u001b[0m\n"
     ]
    },
    {
     "name": "stdout",
     "output_type": "stream",
     "text": [
      "Trial 32 finished with value: 0.749 and parameters: {'kernel': 'linear', 'C': 9.212900272877636, 'gamma': 0.1, 'tfidf': True, 'normalization': True, 'scaling': True}. Best is trial 20 with value: 0.554.\n"
     ]
    },
    {
     "name": "stderr",
     "output_type": "stream",
     "text": [
      "\u001b[32m[I 2023-02-13 07:48:52,083]\u001b[0m Trial 33 finished with value: 0.615 and parameters: {'kernel': 'rbf', 'C': 8.6271594003484, 'gamma': 0.1, 'tfidf': True, 'normalization': False, 'scaling': True}. Best is trial 20 with value: 0.554.\u001b[0m\n"
     ]
    },
    {
     "name": "stdout",
     "output_type": "stream",
     "text": [
      "Trial 33 finished with value: 0.615 and parameters: {'kernel': 'rbf', 'C': 8.6271594003484, 'gamma': 0.1, 'tfidf': True, 'normalization': False, 'scaling': True}. Best is trial 20 with value: 0.554.\n"
     ]
    },
    {
     "name": "stderr",
     "output_type": "stream",
     "text": [
      "\u001b[32m[I 2023-02-13 08:18:53,240]\u001b[0m Trial 34 finished with value: 0.649 and parameters: {'kernel': 'linear', 'C': 5.124616718997896, 'gamma': 0.1, 'tfidf': False, 'normalization': True, 'scaling': True}. Best is trial 20 with value: 0.554.\u001b[0m\n"
     ]
    },
    {
     "name": "stdout",
     "output_type": "stream",
     "text": [
      "Trial 34 finished with value: 0.649 and parameters: {'kernel': 'linear', 'C': 5.124616718997896, 'gamma': 0.1, 'tfidf': False, 'normalization': True, 'scaling': True}. Best is trial 20 with value: 0.554.\n"
     ]
    },
    {
     "name": "stderr",
     "output_type": "stream",
     "text": [
      "\u001b[32m[I 2023-02-13 08:19:02,464]\u001b[0m Trial 35 finished with value: 0.586 and parameters: {'kernel': 'rbf', 'C': 9.31668175652011, 'gamma': 0.1, 'tfidf': True, 'normalization': False, 'scaling': True}. Best is trial 20 with value: 0.554.\u001b[0m\n"
     ]
    },
    {
     "name": "stdout",
     "output_type": "stream",
     "text": [
      "Trial 35 finished with value: 0.586 and parameters: {'kernel': 'rbf', 'C': 9.31668175652011, 'gamma': 0.1, 'tfidf': True, 'normalization': False, 'scaling': True}. Best is trial 20 with value: 0.554.\n"
     ]
    },
    {
     "name": "stderr",
     "output_type": "stream",
     "text": [
      "\u001b[32m[I 2023-02-13 08:19:16,683]\u001b[0m Trial 36 finished with value: 0.625 and parameters: {'kernel': 'linear', 'C': 8.25727945087857, 'gamma': 0.1, 'tfidf': True, 'normalization': True, 'scaling': False}. Best is trial 20 with value: 0.554.\u001b[0m\n"
     ]
    },
    {
     "name": "stdout",
     "output_type": "stream",
     "text": [
      "Trial 36 finished with value: 0.625 and parameters: {'kernel': 'linear', 'C': 8.25727945087857, 'gamma': 0.1, 'tfidf': True, 'normalization': True, 'scaling': False}. Best is trial 20 with value: 0.554.\n"
     ]
    },
    {
     "name": "stderr",
     "output_type": "stream",
     "text": [
      "\u001b[32m[I 2023-02-13 08:19:25,982]\u001b[0m Trial 37 finished with value: 0.618 and parameters: {'kernel': 'rbf', 'C': 4.619650988104117, 'gamma': 0.1, 'tfidf': False, 'normalization': False, 'scaling': True}. Best is trial 20 with value: 0.554.\u001b[0m\n"
     ]
    },
    {
     "name": "stdout",
     "output_type": "stream",
     "text": [
      "Trial 37 finished with value: 0.618 and parameters: {'kernel': 'rbf', 'C': 4.619650988104117, 'gamma': 0.1, 'tfidf': False, 'normalization': False, 'scaling': True}. Best is trial 20 with value: 0.554.\n"
     ]
    },
    {
     "name": "stderr",
     "output_type": "stream",
     "text": [
      "\u001b[32m[I 2023-02-13 08:19:33,769]\u001b[0m Trial 38 finished with value: 0.547 and parameters: {'kernel': 'rbf', 'C': 7.399229326147877, 'gamma': 0.1, 'tfidf': False, 'normalization': False, 'scaling': False}. Best is trial 38 with value: 0.547.\u001b[0m\n"
     ]
    },
    {
     "name": "stdout",
     "output_type": "stream",
     "text": [
      "Trial 38 finished with value: 0.547 and parameters: {'kernel': 'rbf', 'C': 7.399229326147877, 'gamma': 0.1, 'tfidf': False, 'normalization': False, 'scaling': False}. Best is trial 38 with value: 0.547.\n"
     ]
    },
    {
     "name": "stderr",
     "output_type": "stream",
     "text": [
      "\u001b[32m[I 2023-02-13 08:19:41,676]\u001b[0m Trial 39 finished with value: 0.597 and parameters: {'kernel': 'rbf', 'C': 6.6553410056005475, 'gamma': 0.1, 'tfidf': False, 'normalization': False, 'scaling': False}. Best is trial 38 with value: 0.547.\u001b[0m\n"
     ]
    },
    {
     "name": "stdout",
     "output_type": "stream",
     "text": [
      "Trial 39 finished with value: 0.597 and parameters: {'kernel': 'rbf', 'C': 6.6553410056005475, 'gamma': 0.1, 'tfidf': False, 'normalization': False, 'scaling': False}. Best is trial 38 with value: 0.547.\n"
     ]
    }
   ],
   "source": [
    "def objective(trial):\n",
    "\n",
    "    kernel = trial.suggest_categorical(\"kernel\", [\"rbf\", \"linear\"])\n",
    "    C = trial.suggest_float(\"C\", 0.1, 10.0)\n",
    "    gamma = trial.suggest_float(\"gamma\", 0.1, 0.1)\n",
    "    tfidf = trial.suggest_categorical(\"tfidf\", [True, False])\n",
    "    normalization = trial.suggest_categorical(\"normalization\", [True, False])\n",
    "    scaling = trial.suggest_categorical(\"scaling\", [True, False])\n",
    "\n",
    "    regressor = SVR(kernel=kernel, C=C, gamma=gamma)\n",
    "    score = sklearn_regressors.evaluate_regressor(\n",
    "        regressor=regressor,\n",
    "        X=X_train[:10000],\n",
    "        y=y_train[:10000],\n",
    "        tfidf=tfidf,\n",
    "        normalization=normalization, \n",
    "        scaling=scaling\n",
    "    )\n",
    "\n",
    "    return score\n",
    "\n",
    "study.optimize(objective, n_trials=40)"
   ]
  },
  {
   "cell_type": "code",
   "execution_count": 9,
   "metadata": {
    "id": "E4CUCnjypjBx"
   },
   "outputs": [
    {
     "data": {
      "text/html": [
       "<div>\n",
       "<style scoped>\n",
       "    .dataframe tbody tr th:only-of-type {\n",
       "        vertical-align: middle;\n",
       "    }\n",
       "\n",
       "    .dataframe tbody tr th {\n",
       "        vertical-align: top;\n",
       "    }\n",
       "\n",
       "    .dataframe thead th {\n",
       "        text-align: right;\n",
       "    }\n",
       "</style>\n",
       "<table border=\"1\" class=\"dataframe\">\n",
       "  <thead>\n",
       "    <tr style=\"text-align: right;\">\n",
       "      <th></th>\n",
       "      <th>number</th>\n",
       "      <th>value</th>\n",
       "      <th>datetime_start</th>\n",
       "      <th>datetime_complete</th>\n",
       "      <th>duration</th>\n",
       "      <th>params_C</th>\n",
       "      <th>params_gamma</th>\n",
       "      <th>params_kernel</th>\n",
       "      <th>params_normalization</th>\n",
       "      <th>params_scaling</th>\n",
       "      <th>params_tfidf</th>\n",
       "      <th>state</th>\n",
       "    </tr>\n",
       "  </thead>\n",
       "  <tbody>\n",
       "    <tr>\n",
       "      <th>38</th>\n",
       "      <td>38</td>\n",
       "      <td>0.547</td>\n",
       "      <td>2023-02-13 08:19:25.985788</td>\n",
       "      <td>2023-02-13 08:19:33.755813</td>\n",
       "      <td>0 days 00:00:07.770025</td>\n",
       "      <td>7.399229</td>\n",
       "      <td>0.1</td>\n",
       "      <td>rbf</td>\n",
       "      <td>False</td>\n",
       "      <td>False</td>\n",
       "      <td>False</td>\n",
       "      <td>COMPLETE</td>\n",
       "    </tr>\n",
       "    <tr>\n",
       "      <th>20</th>\n",
       "      <td>20</td>\n",
       "      <td>0.554</td>\n",
       "      <td>2023-02-13 06:10:36.342999</td>\n",
       "      <td>2023-02-13 06:10:45.600992</td>\n",
       "      <td>0 days 00:00:09.257993</td>\n",
       "      <td>9.159041</td>\n",
       "      <td>0.1</td>\n",
       "      <td>rbf</td>\n",
       "      <td>False</td>\n",
       "      <td>True</td>\n",
       "      <td>False</td>\n",
       "      <td>COMPLETE</td>\n",
       "    </tr>\n",
       "    <tr>\n",
       "      <th>25</th>\n",
       "      <td>25</td>\n",
       "      <td>0.557</td>\n",
       "      <td>2023-02-13 06:11:22.816078</td>\n",
       "      <td>2023-02-13 06:11:32.107077</td>\n",
       "      <td>0 days 00:00:09.290999</td>\n",
       "      <td>8.021215</td>\n",
       "      <td>0.1</td>\n",
       "      <td>rbf</td>\n",
       "      <td>False</td>\n",
       "      <td>True</td>\n",
       "      <td>False</td>\n",
       "      <td>COMPLETE</td>\n",
       "    </tr>\n",
       "    <tr>\n",
       "      <th>7</th>\n",
       "      <td>7</td>\n",
       "      <td>0.559</td>\n",
       "      <td>2023-02-13 01:23:12.054681</td>\n",
       "      <td>2023-02-13 01:23:21.257705</td>\n",
       "      <td>0 days 00:00:09.203024</td>\n",
       "      <td>5.455872</td>\n",
       "      <td>0.1</td>\n",
       "      <td>rbf</td>\n",
       "      <td>False</td>\n",
       "      <td>True</td>\n",
       "      <td>False</td>\n",
       "      <td>COMPLETE</td>\n",
       "    </tr>\n",
       "    <tr>\n",
       "      <th>8</th>\n",
       "      <td>8</td>\n",
       "      <td>0.564</td>\n",
       "      <td>2023-02-13 01:23:21.273674</td>\n",
       "      <td>2023-02-13 02:25:38.167492</td>\n",
       "      <td>0 days 01:02:16.893818</td>\n",
       "      <td>8.705073</td>\n",
       "      <td>0.1</td>\n",
       "      <td>linear</td>\n",
       "      <td>True</td>\n",
       "      <td>True</td>\n",
       "      <td>True</td>\n",
       "      <td>COMPLETE</td>\n",
       "    </tr>\n",
       "    <tr>\n",
       "      <th>12</th>\n",
       "      <td>12</td>\n",
       "      <td>0.564</td>\n",
       "      <td>2023-02-13 03:16:45.168369</td>\n",
       "      <td>2023-02-13 03:16:54.440032</td>\n",
       "      <td>0 days 00:00:09.271663</td>\n",
       "      <td>7.275445</td>\n",
       "      <td>0.1</td>\n",
       "      <td>rbf</td>\n",
       "      <td>True</td>\n",
       "      <td>True</td>\n",
       "      <td>False</td>\n",
       "      <td>COMPLETE</td>\n",
       "    </tr>\n",
       "    <tr>\n",
       "      <th>28</th>\n",
       "      <td>28</td>\n",
       "      <td>0.568</td>\n",
       "      <td>2023-02-13 06:11:49.385882</td>\n",
       "      <td>2023-02-13 06:11:58.766880</td>\n",
       "      <td>0 days 00:00:09.380998</td>\n",
       "      <td>7.814291</td>\n",
       "      <td>0.1</td>\n",
       "      <td>rbf</td>\n",
       "      <td>False</td>\n",
       "      <td>True</td>\n",
       "      <td>False</td>\n",
       "      <td>COMPLETE</td>\n",
       "    </tr>\n",
       "    <tr>\n",
       "      <th>6</th>\n",
       "      <td>6</td>\n",
       "      <td>0.568</td>\n",
       "      <td>2023-02-13 01:23:04.210359</td>\n",
       "      <td>2023-02-13 01:23:12.038704</td>\n",
       "      <td>0 days 00:00:07.828345</td>\n",
       "      <td>2.200025</td>\n",
       "      <td>0.1</td>\n",
       "      <td>rbf</td>\n",
       "      <td>False</td>\n",
       "      <td>False</td>\n",
       "      <td>False</td>\n",
       "      <td>COMPLETE</td>\n",
       "    </tr>\n",
       "    <tr>\n",
       "      <th>18</th>\n",
       "      <td>18</td>\n",
       "      <td>0.571</td>\n",
       "      <td>2023-02-13 05:35:28.589634</td>\n",
       "      <td>2023-02-13 05:35:37.904512</td>\n",
       "      <td>0 days 00:00:09.314878</td>\n",
       "      <td>5.964181</td>\n",
       "      <td>0.1</td>\n",
       "      <td>rbf</td>\n",
       "      <td>True</td>\n",
       "      <td>True</td>\n",
       "      <td>True</td>\n",
       "      <td>COMPLETE</td>\n",
       "    </tr>\n",
       "    <tr>\n",
       "      <th>14</th>\n",
       "      <td>14</td>\n",
       "      <td>0.575</td>\n",
       "      <td>2023-02-13 03:56:18.538148</td>\n",
       "      <td>2023-02-13 03:56:27.784050</td>\n",
       "      <td>0 days 00:00:09.245902</td>\n",
       "      <td>8.388471</td>\n",
       "      <td>0.1</td>\n",
       "      <td>rbf</td>\n",
       "      <td>False</td>\n",
       "      <td>True</td>\n",
       "      <td>True</td>\n",
       "      <td>COMPLETE</td>\n",
       "    </tr>\n",
       "  </tbody>\n",
       "</table>\n",
       "</div>"
      ],
      "text/plain": [
       "    number  value             datetime_start          datetime_complete  \\\n",
       "38      38  0.547 2023-02-13 08:19:25.985788 2023-02-13 08:19:33.755813   \n",
       "20      20  0.554 2023-02-13 06:10:36.342999 2023-02-13 06:10:45.600992   \n",
       "25      25  0.557 2023-02-13 06:11:22.816078 2023-02-13 06:11:32.107077   \n",
       "7        7  0.559 2023-02-13 01:23:12.054681 2023-02-13 01:23:21.257705   \n",
       "8        8  0.564 2023-02-13 01:23:21.273674 2023-02-13 02:25:38.167492   \n",
       "12      12  0.564 2023-02-13 03:16:45.168369 2023-02-13 03:16:54.440032   \n",
       "28      28  0.568 2023-02-13 06:11:49.385882 2023-02-13 06:11:58.766880   \n",
       "6        6  0.568 2023-02-13 01:23:04.210359 2023-02-13 01:23:12.038704   \n",
       "18      18  0.571 2023-02-13 05:35:28.589634 2023-02-13 05:35:37.904512   \n",
       "14      14  0.575 2023-02-13 03:56:18.538148 2023-02-13 03:56:27.784050   \n",
       "\n",
       "                 duration  params_C  params_gamma params_kernel  \\\n",
       "38 0 days 00:00:07.770025  7.399229           0.1           rbf   \n",
       "20 0 days 00:00:09.257993  9.159041           0.1           rbf   \n",
       "25 0 days 00:00:09.290999  8.021215           0.1           rbf   \n",
       "7  0 days 00:00:09.203024  5.455872           0.1           rbf   \n",
       "8  0 days 01:02:16.893818  8.705073           0.1        linear   \n",
       "12 0 days 00:00:09.271663  7.275445           0.1           rbf   \n",
       "28 0 days 00:00:09.380998  7.814291           0.1           rbf   \n",
       "6  0 days 00:00:07.828345  2.200025           0.1           rbf   \n",
       "18 0 days 00:00:09.314878  5.964181           0.1           rbf   \n",
       "14 0 days 00:00:09.245902  8.388471           0.1           rbf   \n",
       "\n",
       "    params_normalization  params_scaling  params_tfidf     state  \n",
       "38                 False           False         False  COMPLETE  \n",
       "20                 False            True         False  COMPLETE  \n",
       "25                 False            True         False  COMPLETE  \n",
       "7                  False            True         False  COMPLETE  \n",
       "8                   True            True          True  COMPLETE  \n",
       "12                  True            True         False  COMPLETE  \n",
       "28                 False            True         False  COMPLETE  \n",
       "6                  False           False         False  COMPLETE  \n",
       "18                  True            True          True  COMPLETE  \n",
       "14                 False            True          True  COMPLETE  "
      ]
     },
     "execution_count": 9,
     "metadata": {},
     "output_type": "execute_result"
    }
   ],
   "source": [
    "study.trials_dataframe().sort_values(by=\"value\").head(10)"
   ]
  },
  {
   "cell_type": "code",
   "execution_count": 10,
   "metadata": {
    "id": "ldt9BKzppjBx"
   },
   "outputs": [
    {
     "name": "stdout",
     "output_type": "stream",
     "text": [
      "Best SVR regression params: {'C': 7.399229326147877, 'gamma': 0.1, 'kernel': 'rbf', 'normalization': False, 'scaling': False, 'tfidf': False}, achieving val RMSE: 0.547\n"
     ]
    }
   ],
   "source": [
    "print(f\"Best SVR regression params: {study.best_params}, achieving val RMSE: {study.best_value}\")"
   ]
  },
  {
   "cell_type": "code",
   "execution_count": 17,
   "metadata": {},
   "outputs": [],
   "source": [
    "save = True\n",
    "load = False\n",
    "\n",
    "regressor_params = {\"kernel\": \"rbf\", \"C\": 7.4, \"gamma\": 0.1}\n",
    "pipe_params = {\n",
    "    'normalization': False,\n",
    "    'scaling': False,\n",
    "    'tfidf': False,\n",
    "}\n",
    "\n",
    "sample = 50000\n",
    "\n",
    "if load:\n",
    "    pipe = joblib.load(f\"{exp_dir}/svr/pipe\")\n",
    "else:\n",
    "    regressor = SVR(**regressor_params)\n",
    "    pipe = sklearn_regressors.train_pipe(regressor, X_train[:sample], y_train[:sample], **pipe_params)\n",
    "    if save:\n",
    "        additional_attributes = {\n",
    "            \"regressor_params\": regressor_params,\n",
    "            \"pipe_params\": pipe_params,\n",
    "            \"test_programs\": test_programs,\n",
    "        }\n",
    "\n",
    "        joblib.dump(pipe, f\"{exp_dir}/svr/pipe\")\n",
    "        with open(f\"{exp_dir}/svr/additional_attributes.json\", \"w\") as file:\n",
    "            json.dump(additional_attributes, file, indent=4)"
   ]
  },
  {
   "cell_type": "code",
   "execution_count": 18,
   "metadata": {},
   "outputs": [
    {
     "name": "stdout",
     "output_type": "stream",
     "text": [
      "Mean absolute error for test programs\n",
      "{'faa': 0.947999546789649, 'quicksort': 0.20917131737962452, 'declare': 0.46181885270920847}\n",
      "\n",
      "Total energies for test programs\n",
      "{'faa': {'true_energy': 1593.1851865544559, 'pred_energy': 457.6059564138028}, 'quicksort': {'true_energy': 4246.078264105905, 'pred_energy': 6267.793849637768}, 'declare': {'true_energy': 6382.836181449226, 'pred_energy': 2851.4726615175578}}\n"
     ]
    }
   ],
   "source": [
    "maes = {}\n",
    "prog_energy = {}\n",
    "\n",
    "for test_program in test_programs:\n",
    "    prog_df = test_df[test_df.program_name == test_program]\n",
    "    prog_bbs = np.array([\" \".join(bb) for bb in prog_df.bb.tolist()])\n",
    "    test_preds = pipe.predict(prog_bbs)\n",
    "    true_energies = prog_df.energy.values\n",
    "    \n",
    "    maes[test_program] = mean_absolute_error(true_energies, test_preds)\n",
    "    prog_energy[test_program] = {\n",
    "        \"true_energy\": sum(true_energies),\n",
    "        \"pred_energy\": sum(test_preds),\n",
    "    }\n",
    "\n",
    "print(\"Mean absolute error for test programs\")\n",
    "print(f\"{maes}\\n\")\n",
    "\n",
    "print(\"Total energies for test programs\")\n",
    "print(prog_energy)"
   ]
  },
  {
   "cell_type": "markdown",
   "metadata": {
    "id": "niRzqRbiqktt"
   },
   "source": [
    "## Hist Gradient Boosting Regressor"
   ]
  },
  {
   "cell_type": "markdown",
   "metadata": {
    "id": "TqDc4QTTqp-b"
   },
   "source": [
    "Gradient Boosting regression for large datasets. Tune:\n",
    "* learning rate\n",
    "* max leaf nodes\n",
    "* l2 regularization"
   ]
  },
  {
   "cell_type": "code",
   "execution_count": 8,
   "metadata": {
    "id": "N1XDTSmfqxFl"
   },
   "outputs": [
    {
     "name": "stderr",
     "output_type": "stream",
     "text": [
      "\u001b[32m[I 2023-02-13 15:34:41,326]\u001b[0m A new study created in RDB with name: HistGBoost-regression\u001b[0m\n"
     ]
    },
    {
     "name": "stdout",
     "output_type": "stream",
     "text": [
      "A new study created in RDB with name: HistGBoost-regression\n"
     ]
    }
   ],
   "source": [
    "study = optuna.create_study(study_name=\"HistGBoost-regression\", storage=storage_name, load_if_exists=True, direction=\"minimize\")\n",
    "study.set_user_attr(\"Loss\", \"RMSE\")"
   ]
  },
  {
   "cell_type": "code",
   "execution_count": 9,
   "metadata": {},
   "outputs": [
    {
     "name": "stderr",
     "output_type": "stream",
     "text": [
      "\u001b[32m[I 2023-02-13 15:36:56,474]\u001b[0m Trial 0 finished with value: 0.564 and parameters: {'learning_rate': 0.2942079553055097, 'max_leaf_nodes': 16, 'l2_regularization': 5.512124349723596, 'tfidf': True, 'normalization': False, 'scaling': False}. Best is trial 0 with value: 0.564.\u001b[0m\n"
     ]
    },
    {
     "name": "stdout",
     "output_type": "stream",
     "text": [
      "Trial 0 finished with value: 0.564 and parameters: {'learning_rate': 0.2942079553055097, 'max_leaf_nodes': 16, 'l2_regularization': 5.512124349723596, 'tfidf': True, 'normalization': False, 'scaling': False}. Best is trial 0 with value: 0.564.\n"
     ]
    },
    {
     "name": "stderr",
     "output_type": "stream",
     "text": [
      "\u001b[32m[I 2023-02-13 15:38:53,078]\u001b[0m Trial 1 finished with value: 0.561 and parameters: {'learning_rate': 0.30633465499519946, 'max_leaf_nodes': 13, 'l2_regularization': 8.880231849204621, 'tfidf': True, 'normalization': True, 'scaling': True}. Best is trial 1 with value: 0.561.\u001b[0m\n"
     ]
    },
    {
     "name": "stdout",
     "output_type": "stream",
     "text": [
      "Trial 1 finished with value: 0.561 and parameters: {'learning_rate': 0.30633465499519946, 'max_leaf_nodes': 13, 'l2_regularization': 8.880231849204621, 'tfidf': True, 'normalization': True, 'scaling': True}. Best is trial 1 with value: 0.561.\n"
     ]
    },
    {
     "name": "stderr",
     "output_type": "stream",
     "text": [
      "\u001b[32m[I 2023-02-13 15:41:52,067]\u001b[0m Trial 2 finished with value: 0.582 and parameters: {'learning_rate': 0.017378811465498512, 'max_leaf_nodes': 31, 'l2_regularization': 0.1338996789187556, 'tfidf': True, 'normalization': False, 'scaling': True}. Best is trial 1 with value: 0.561.\u001b[0m\n"
     ]
    },
    {
     "name": "stdout",
     "output_type": "stream",
     "text": [
      "Trial 2 finished with value: 0.582 and parameters: {'learning_rate': 0.017378811465498512, 'max_leaf_nodes': 31, 'l2_regularization': 0.1338996789187556, 'tfidf': True, 'normalization': False, 'scaling': True}. Best is trial 1 with value: 0.561.\n"
     ]
    },
    {
     "name": "stderr",
     "output_type": "stream",
     "text": [
      "\u001b[32m[I 2023-02-13 15:44:22,462]\u001b[0m Trial 3 finished with value: 0.564 and parameters: {'learning_rate': 0.08615391625331668, 'max_leaf_nodes': 24, 'l2_regularization': 5.432855802619206, 'tfidf': False, 'normalization': True, 'scaling': False}. Best is trial 1 with value: 0.561.\u001b[0m\n"
     ]
    },
    {
     "name": "stdout",
     "output_type": "stream",
     "text": [
      "Trial 3 finished with value: 0.564 and parameters: {'learning_rate': 0.08615391625331668, 'max_leaf_nodes': 24, 'l2_regularization': 5.432855802619206, 'tfidf': False, 'normalization': True, 'scaling': False}. Best is trial 1 with value: 0.561.\n"
     ]
    },
    {
     "name": "stderr",
     "output_type": "stream",
     "text": [
      "\u001b[32m[I 2023-02-13 15:46:50,208]\u001b[0m Trial 4 finished with value: 0.572 and parameters: {'learning_rate': 0.07108130204140424, 'max_leaf_nodes': 18, 'l2_regularization': 3.9700205170161, 'tfidf': False, 'normalization': False, 'scaling': False}. Best is trial 1 with value: 0.561.\u001b[0m\n"
     ]
    },
    {
     "name": "stdout",
     "output_type": "stream",
     "text": [
      "Trial 4 finished with value: 0.572 and parameters: {'learning_rate': 0.07108130204140424, 'max_leaf_nodes': 18, 'l2_regularization': 3.9700205170161, 'tfidf': False, 'normalization': False, 'scaling': False}. Best is trial 1 with value: 0.561.\n"
     ]
    },
    {
     "name": "stderr",
     "output_type": "stream",
     "text": [
      "\u001b[32m[I 2023-02-13 15:49:42,364]\u001b[0m Trial 5 finished with value: 0.565 and parameters: {'learning_rate': 0.11973467901858023, 'max_leaf_nodes': 34, 'l2_regularization': 2.4590683432617326, 'tfidf': False, 'normalization': True, 'scaling': True}. Best is trial 1 with value: 0.561.\u001b[0m\n"
     ]
    },
    {
     "name": "stdout",
     "output_type": "stream",
     "text": [
      "Trial 5 finished with value: 0.565 and parameters: {'learning_rate': 0.11973467901858023, 'max_leaf_nodes': 34, 'l2_regularization': 2.4590683432617326, 'tfidf': False, 'normalization': True, 'scaling': True}. Best is trial 1 with value: 0.561.\n"
     ]
    },
    {
     "name": "stderr",
     "output_type": "stream",
     "text": [
      "\u001b[32m[I 2023-02-13 15:52:30,034]\u001b[0m Trial 6 finished with value: 0.576 and parameters: {'learning_rate': 0.02174984379863535, 'max_leaf_nodes': 28, 'l2_regularization': 3.350232714316225, 'tfidf': True, 'normalization': True, 'scaling': True}. Best is trial 1 with value: 0.561.\u001b[0m\n"
     ]
    },
    {
     "name": "stdout",
     "output_type": "stream",
     "text": [
      "Trial 6 finished with value: 0.576 and parameters: {'learning_rate': 0.02174984379863535, 'max_leaf_nodes': 28, 'l2_regularization': 3.350232714316225, 'tfidf': True, 'normalization': True, 'scaling': True}. Best is trial 1 with value: 0.561.\n"
     ]
    },
    {
     "name": "stderr",
     "output_type": "stream",
     "text": [
      "\u001b[32m[I 2023-02-13 15:55:08,649]\u001b[0m Trial 7 finished with value: 0.562 and parameters: {'learning_rate': 0.457671667104507, 'max_leaf_nodes': 60, 'l2_regularization': 5.685665191887072, 'tfidf': False, 'normalization': False, 'scaling': True}. Best is trial 1 with value: 0.561.\u001b[0m\n"
     ]
    },
    {
     "name": "stdout",
     "output_type": "stream",
     "text": [
      "Trial 7 finished with value: 0.562 and parameters: {'learning_rate': 0.457671667104507, 'max_leaf_nodes': 60, 'l2_regularization': 5.685665191887072, 'tfidf': False, 'normalization': False, 'scaling': True}. Best is trial 1 with value: 0.561.\n"
     ]
    },
    {
     "name": "stderr",
     "output_type": "stream",
     "text": [
      "\u001b[32m[I 2023-02-13 15:57:15,033]\u001b[0m Trial 8 finished with value: 0.564 and parameters: {'learning_rate': 0.44295139383359927, 'max_leaf_nodes': 25, 'l2_regularization': 2.3440541250601514, 'tfidf': True, 'normalization': False, 'scaling': False}. Best is trial 1 with value: 0.561.\u001b[0m\n"
     ]
    },
    {
     "name": "stdout",
     "output_type": "stream",
     "text": [
      "Trial 8 finished with value: 0.564 and parameters: {'learning_rate': 0.44295139383359927, 'max_leaf_nodes': 25, 'l2_regularization': 2.3440541250601514, 'tfidf': True, 'normalization': False, 'scaling': False}. Best is trial 1 with value: 0.561.\n"
     ]
    },
    {
     "name": "stderr",
     "output_type": "stream",
     "text": [
      "\u001b[32m[I 2023-02-13 15:58:57,814]\u001b[0m Trial 9 finished with value: 0.568 and parameters: {'learning_rate': 0.43636562963668124, 'max_leaf_nodes': 10, 'l2_regularization': 6.464801158890502, 'tfidf': False, 'normalization': True, 'scaling': True}. Best is trial 1 with value: 0.561.\u001b[0m\n"
     ]
    },
    {
     "name": "stdout",
     "output_type": "stream",
     "text": [
      "Trial 9 finished with value: 0.568 and parameters: {'learning_rate': 0.43636562963668124, 'max_leaf_nodes': 10, 'l2_regularization': 6.464801158890502, 'tfidf': False, 'normalization': True, 'scaling': True}. Best is trial 1 with value: 0.561.\n"
     ]
    },
    {
     "name": "stderr",
     "output_type": "stream",
     "text": [
      "\u001b[32m[I 2023-02-13 16:01:55,414]\u001b[0m Trial 10 finished with value: 0.567 and parameters: {'learning_rate': 0.27056471177068536, 'max_leaf_nodes': 45, 'l2_regularization': 9.327395151488126, 'tfidf': True, 'normalization': True, 'scaling': True}. Best is trial 1 with value: 0.561.\u001b[0m\n"
     ]
    },
    {
     "name": "stdout",
     "output_type": "stream",
     "text": [
      "Trial 10 finished with value: 0.567 and parameters: {'learning_rate': 0.27056471177068536, 'max_leaf_nodes': 45, 'l2_regularization': 9.327395151488126, 'tfidf': True, 'normalization': True, 'scaling': True}. Best is trial 1 with value: 0.561.\n"
     ]
    },
    {
     "name": "stderr",
     "output_type": "stream",
     "text": [
      "\u001b[32m[I 2023-02-13 16:04:54,919]\u001b[0m Trial 11 finished with value: 0.562 and parameters: {'learning_rate': 0.4975456500998111, 'max_leaf_nodes': 60, 'l2_regularization': 8.459157633797098, 'tfidf': False, 'normalization': False, 'scaling': True}. Best is trial 1 with value: 0.561.\u001b[0m\n"
     ]
    },
    {
     "name": "stdout",
     "output_type": "stream",
     "text": [
      "Trial 11 finished with value: 0.562 and parameters: {'learning_rate': 0.4975456500998111, 'max_leaf_nodes': 60, 'l2_regularization': 8.459157633797098, 'tfidf': False, 'normalization': False, 'scaling': True}. Best is trial 1 with value: 0.561.\n"
     ]
    },
    {
     "name": "stderr",
     "output_type": "stream",
     "text": [
      "\u001b[32m[I 2023-02-13 16:07:34,199]\u001b[0m Trial 12 finished with value: 0.571 and parameters: {'learning_rate': 0.359015102825519, 'max_leaf_nodes': 47, 'l2_regularization': 7.780671411842416, 'tfidf': False, 'normalization': True, 'scaling': True}. Best is trial 1 with value: 0.561.\u001b[0m\n"
     ]
    },
    {
     "name": "stdout",
     "output_type": "stream",
     "text": [
      "Trial 12 finished with value: 0.571 and parameters: {'learning_rate': 0.359015102825519, 'max_leaf_nodes': 47, 'l2_regularization': 7.780671411842416, 'tfidf': False, 'normalization': True, 'scaling': True}. Best is trial 1 with value: 0.561.\n"
     ]
    },
    {
     "name": "stderr",
     "output_type": "stream",
     "text": [
      "\u001b[32m[I 2023-02-13 16:11:17,523]\u001b[0m Trial 13 finished with value: 0.562 and parameters: {'learning_rate': 0.19246495943040753, 'max_leaf_nodes': 56, 'l2_regularization': 7.394104872801991, 'tfidf': True, 'normalization': False, 'scaling': True}. Best is trial 1 with value: 0.561.\u001b[0m\n"
     ]
    },
    {
     "name": "stdout",
     "output_type": "stream",
     "text": [
      "Trial 13 finished with value: 0.562 and parameters: {'learning_rate': 0.19246495943040753, 'max_leaf_nodes': 56, 'l2_regularization': 7.394104872801991, 'tfidf': True, 'normalization': False, 'scaling': True}. Best is trial 1 with value: 0.561.\n"
     ]
    },
    {
     "name": "stderr",
     "output_type": "stream",
     "text": [
      "\u001b[32m[I 2023-02-13 16:14:12,008]\u001b[0m Trial 14 finished with value: 0.565 and parameters: {'learning_rate': 0.3481833757358719, 'max_leaf_nodes': 43, 'l2_regularization': 9.669110623791262, 'tfidf': True, 'normalization': True, 'scaling': True}. Best is trial 1 with value: 0.561.\u001b[0m\n"
     ]
    },
    {
     "name": "stdout",
     "output_type": "stream",
     "text": [
      "Trial 14 finished with value: 0.565 and parameters: {'learning_rate': 0.3481833757358719, 'max_leaf_nodes': 43, 'l2_regularization': 9.669110623791262, 'tfidf': True, 'normalization': True, 'scaling': True}. Best is trial 1 with value: 0.561.\n"
     ]
    },
    {
     "name": "stderr",
     "output_type": "stream",
     "text": [
      "\u001b[32m[I 2023-02-13 16:16:56,366]\u001b[0m Trial 15 finished with value: 0.566 and parameters: {'learning_rate': 0.3489329591881863, 'max_leaf_nodes': 39, 'l2_regularization': 6.74434207323936, 'tfidf': False, 'normalization': False, 'scaling': True}. Best is trial 1 with value: 0.561.\u001b[0m\n"
     ]
    },
    {
     "name": "stdout",
     "output_type": "stream",
     "text": [
      "Trial 15 finished with value: 0.566 and parameters: {'learning_rate': 0.3489329591881863, 'max_leaf_nodes': 39, 'l2_regularization': 6.74434207323936, 'tfidf': False, 'normalization': False, 'scaling': True}. Best is trial 1 with value: 0.561.\n"
     ]
    },
    {
     "name": "stderr",
     "output_type": "stream",
     "text": [
      "\u001b[32m[I 2023-02-13 16:20:37,926]\u001b[0m Trial 16 finished with value: 0.564 and parameters: {'learning_rate': 0.18533567223628303, 'max_leaf_nodes': 52, 'l2_regularization': 9.929047109456913, 'tfidf': True, 'normalization': True, 'scaling': True}. Best is trial 1 with value: 0.561.\u001b[0m\n"
     ]
    },
    {
     "name": "stdout",
     "output_type": "stream",
     "text": [
      "Trial 16 finished with value: 0.564 and parameters: {'learning_rate': 0.18533567223628303, 'max_leaf_nodes': 52, 'l2_regularization': 9.929047109456913, 'tfidf': True, 'normalization': True, 'scaling': True}. Best is trial 1 with value: 0.561.\n"
     ]
    },
    {
     "name": "stderr",
     "output_type": "stream",
     "text": [
      "\u001b[32m[I 2023-02-13 16:22:29,821]\u001b[0m Trial 17 finished with value: 0.575 and parameters: {'learning_rate': 0.40172644669091645, 'max_leaf_nodes': 10, 'l2_regularization': 8.148799196825088, 'tfidf': False, 'normalization': False, 'scaling': True}. Best is trial 1 with value: 0.561.\u001b[0m\n"
     ]
    },
    {
     "name": "stdout",
     "output_type": "stream",
     "text": [
      "Trial 17 finished with value: 0.575 and parameters: {'learning_rate': 0.40172644669091645, 'max_leaf_nodes': 10, 'l2_regularization': 8.148799196825088, 'tfidf': False, 'normalization': False, 'scaling': True}. Best is trial 1 with value: 0.561.\n"
     ]
    },
    {
     "name": "stderr",
     "output_type": "stream",
     "text": [
      "\u001b[32m[I 2023-02-13 16:24:48,366]\u001b[0m Trial 18 finished with value: 0.563 and parameters: {'learning_rate': 0.49801016176557056, 'max_leaf_nodes': 51, 'l2_regularization': 6.502855385122128, 'tfidf': False, 'normalization': True, 'scaling': False}. Best is trial 1 with value: 0.561.\u001b[0m\n"
     ]
    },
    {
     "name": "stdout",
     "output_type": "stream",
     "text": [
      "Trial 18 finished with value: 0.563 and parameters: {'learning_rate': 0.49801016176557056, 'max_leaf_nodes': 51, 'l2_regularization': 6.502855385122128, 'tfidf': False, 'normalization': True, 'scaling': False}. Best is trial 1 with value: 0.561.\n"
     ]
    },
    {
     "name": "stderr",
     "output_type": "stream",
     "text": [
      "\u001b[32m[I 2023-02-13 16:27:53,025]\u001b[0m Trial 19 finished with value: 0.568 and parameters: {'learning_rate': 0.2969827356669297, 'max_leaf_nodes': 38, 'l2_regularization': 8.79824421503589, 'tfidf': True, 'normalization': False, 'scaling': True}. Best is trial 1 with value: 0.561.\u001b[0m\n"
     ]
    },
    {
     "name": "stdout",
     "output_type": "stream",
     "text": [
      "Trial 19 finished with value: 0.568 and parameters: {'learning_rate': 0.2969827356669297, 'max_leaf_nodes': 38, 'l2_regularization': 8.79824421503589, 'tfidf': True, 'normalization': False, 'scaling': True}. Best is trial 1 with value: 0.561.\n"
     ]
    },
    {
     "name": "stderr",
     "output_type": "stream",
     "text": [
      "\u001b[32m[I 2023-02-13 16:30:13,566]\u001b[0m Trial 20 finished with value: 0.558 and parameters: {'learning_rate': 0.23595804024556916, 'max_leaf_nodes': 20, 'l2_regularization': 8.803675229357003, 'tfidf': True, 'normalization': False, 'scaling': True}. Best is trial 20 with value: 0.558.\u001b[0m\n"
     ]
    },
    {
     "name": "stdout",
     "output_type": "stream",
     "text": [
      "Trial 20 finished with value: 0.558 and parameters: {'learning_rate': 0.23595804024556916, 'max_leaf_nodes': 20, 'l2_regularization': 8.803675229357003, 'tfidf': True, 'normalization': False, 'scaling': True}. Best is trial 20 with value: 0.558.\n"
     ]
    },
    {
     "name": "stderr",
     "output_type": "stream",
     "text": [
      "\u001b[32m[I 2023-02-13 16:32:26,996]\u001b[0m Trial 21 finished with value: 0.563 and parameters: {'learning_rate': 0.23764408191595043, 'max_leaf_nodes': 17, 'l2_regularization': 8.862525323334934, 'tfidf': True, 'normalization': False, 'scaling': True}. Best is trial 20 with value: 0.558.\u001b[0m\n"
     ]
    },
    {
     "name": "stdout",
     "output_type": "stream",
     "text": [
      "Trial 21 finished with value: 0.563 and parameters: {'learning_rate': 0.23764408191595043, 'max_leaf_nodes': 17, 'l2_regularization': 8.862525323334934, 'tfidf': True, 'normalization': False, 'scaling': True}. Best is trial 20 with value: 0.558.\n"
     ]
    },
    {
     "name": "stderr",
     "output_type": "stream",
     "text": [
      "\u001b[32m[I 2023-02-13 16:34:51,497]\u001b[0m Trial 22 finished with value: 0.566 and parameters: {'learning_rate': 0.21805688116073704, 'max_leaf_nodes': 22, 'l2_regularization': 7.731875622912549, 'tfidf': True, 'normalization': False, 'scaling': True}. Best is trial 20 with value: 0.558.\u001b[0m\n"
     ]
    },
    {
     "name": "stdout",
     "output_type": "stream",
     "text": [
      "Trial 22 finished with value: 0.566 and parameters: {'learning_rate': 0.21805688116073704, 'max_leaf_nodes': 22, 'l2_regularization': 7.731875622912549, 'tfidf': True, 'normalization': False, 'scaling': True}. Best is trial 20 with value: 0.558.\n"
     ]
    },
    {
     "name": "stderr",
     "output_type": "stream",
     "text": [
      "\u001b[32m[I 2023-02-13 16:36:55,395]\u001b[0m Trial 23 finished with value: 0.56 and parameters: {'learning_rate': 0.31505292162702436, 'max_leaf_nodes': 14, 'l2_regularization': 9.057125130908094, 'tfidf': True, 'normalization': False, 'scaling': True}. Best is trial 20 with value: 0.558.\u001b[0m\n"
     ]
    },
    {
     "name": "stdout",
     "output_type": "stream",
     "text": [
      "Trial 23 finished with value: 0.56 and parameters: {'learning_rate': 0.31505292162702436, 'max_leaf_nodes': 14, 'l2_regularization': 9.057125130908094, 'tfidf': True, 'normalization': False, 'scaling': True}. Best is trial 20 with value: 0.558.\n"
     ]
    },
    {
     "name": "stderr",
     "output_type": "stream",
     "text": [
      "\u001b[32m[I 2023-02-13 16:38:59,021]\u001b[0m Trial 24 finished with value: 0.567 and parameters: {'learning_rate': 0.3051630526554213, 'max_leaf_nodes': 14, 'l2_regularization': 9.986748687814384, 'tfidf': True, 'normalization': False, 'scaling': True}. Best is trial 20 with value: 0.558.\u001b[0m\n"
     ]
    },
    {
     "name": "stdout",
     "output_type": "stream",
     "text": [
      "Trial 24 finished with value: 0.567 and parameters: {'learning_rate': 0.3051630526554213, 'max_leaf_nodes': 14, 'l2_regularization': 9.986748687814384, 'tfidf': True, 'normalization': False, 'scaling': True}. Best is trial 20 with value: 0.558.\n"
     ]
    },
    {
     "name": "stderr",
     "output_type": "stream",
     "text": [
      "\u001b[32m[I 2023-02-13 16:41:18,475]\u001b[0m Trial 25 finished with value: 0.571 and parameters: {'learning_rate': 0.2542746257139527, 'max_leaf_nodes': 20, 'l2_regularization': 8.732735849892915, 'tfidf': True, 'normalization': False, 'scaling': True}. Best is trial 20 with value: 0.558.\u001b[0m\n"
     ]
    },
    {
     "name": "stdout",
     "output_type": "stream",
     "text": [
      "Trial 25 finished with value: 0.571 and parameters: {'learning_rate': 0.2542746257139527, 'max_leaf_nodes': 20, 'l2_regularization': 8.732735849892915, 'tfidf': True, 'normalization': False, 'scaling': True}. Best is trial 20 with value: 0.558.\n"
     ]
    },
    {
     "name": "stderr",
     "output_type": "stream",
     "text": [
      "\u001b[32m[I 2023-02-13 16:43:16,509]\u001b[0m Trial 26 finished with value: 0.565 and parameters: {'learning_rate': 0.3191102588767558, 'max_leaf_nodes': 13, 'l2_regularization': 9.23813638342909, 'tfidf': True, 'normalization': True, 'scaling': False}. Best is trial 20 with value: 0.558.\u001b[0m\n"
     ]
    },
    {
     "name": "stdout",
     "output_type": "stream",
     "text": [
      "Trial 26 finished with value: 0.565 and parameters: {'learning_rate': 0.3191102588767558, 'max_leaf_nodes': 13, 'l2_regularization': 9.23813638342909, 'tfidf': True, 'normalization': True, 'scaling': False}. Best is trial 20 with value: 0.558.\n"
     ]
    },
    {
     "name": "stderr",
     "output_type": "stream",
     "text": [
      "\u001b[32m[I 2023-02-13 16:45:49,105]\u001b[0m Trial 27 finished with value: 0.568 and parameters: {'learning_rate': 0.26174404015668484, 'max_leaf_nodes': 26, 'l2_regularization': 8.104617421186699, 'tfidf': True, 'normalization': False, 'scaling': True}. Best is trial 20 with value: 0.558.\u001b[0m\n"
     ]
    },
    {
     "name": "stdout",
     "output_type": "stream",
     "text": [
      "Trial 27 finished with value: 0.568 and parameters: {'learning_rate': 0.26174404015668484, 'max_leaf_nodes': 26, 'l2_regularization': 8.104617421186699, 'tfidf': True, 'normalization': False, 'scaling': True}. Best is trial 20 with value: 0.558.\n"
     ]
    },
    {
     "name": "stderr",
     "output_type": "stream",
     "text": [
      "\u001b[32m[I 2023-02-13 16:47:44,574]\u001b[0m Trial 28 finished with value: 0.567 and parameters: {'learning_rate': 0.3824867947347591, 'max_leaf_nodes': 13, 'l2_regularization': 7.345889519815389, 'tfidf': True, 'normalization': True, 'scaling': True}. Best is trial 20 with value: 0.558.\u001b[0m\n"
     ]
    },
    {
     "name": "stdout",
     "output_type": "stream",
     "text": [
      "Trial 28 finished with value: 0.567 and parameters: {'learning_rate': 0.3824867947347591, 'max_leaf_nodes': 13, 'l2_regularization': 7.345889519815389, 'tfidf': True, 'normalization': True, 'scaling': True}. Best is trial 20 with value: 0.558.\n"
     ]
    },
    {
     "name": "stderr",
     "output_type": "stream",
     "text": [
      "\u001b[32m[I 2023-02-13 16:49:56,281]\u001b[0m Trial 29 finished with value: 0.561 and parameters: {'learning_rate': 0.28681667462170857, 'max_leaf_nodes': 20, 'l2_regularization': 8.222416647401545, 'tfidf': True, 'normalization': False, 'scaling': False}. Best is trial 20 with value: 0.558.\u001b[0m\n"
     ]
    },
    {
     "name": "stdout",
     "output_type": "stream",
     "text": [
      "Trial 29 finished with value: 0.561 and parameters: {'learning_rate': 0.28681667462170857, 'max_leaf_nodes': 20, 'l2_regularization': 8.222416647401545, 'tfidf': True, 'normalization': False, 'scaling': False}. Best is trial 20 with value: 0.558.\n"
     ]
    },
    {
     "name": "stderr",
     "output_type": "stream",
     "text": [
      "\u001b[32m[I 2023-02-13 16:52:00,098]\u001b[0m Trial 30 finished with value: 0.566 and parameters: {'learning_rate': 0.31984087400456973, 'max_leaf_nodes': 16, 'l2_regularization': 9.303089932380201, 'tfidf': True, 'normalization': False, 'scaling': True}. Best is trial 20 with value: 0.558.\u001b[0m\n"
     ]
    },
    {
     "name": "stdout",
     "output_type": "stream",
     "text": [
      "Trial 30 finished with value: 0.566 and parameters: {'learning_rate': 0.31984087400456973, 'max_leaf_nodes': 16, 'l2_regularization': 9.303089932380201, 'tfidf': True, 'normalization': False, 'scaling': True}. Best is trial 20 with value: 0.558.\n"
     ]
    },
    {
     "name": "stderr",
     "output_type": "stream",
     "text": [
      "\u001b[32m[I 2023-02-13 16:54:14,077]\u001b[0m Trial 31 finished with value: 0.566 and parameters: {'learning_rate': 0.2754935879052238, 'max_leaf_nodes': 21, 'l2_regularization': 8.50694991533685, 'tfidf': True, 'normalization': False, 'scaling': False}. Best is trial 20 with value: 0.558.\u001b[0m\n"
     ]
    },
    {
     "name": "stdout",
     "output_type": "stream",
     "text": [
      "Trial 31 finished with value: 0.566 and parameters: {'learning_rate': 0.2754935879052238, 'max_leaf_nodes': 21, 'l2_regularization': 8.50694991533685, 'tfidf': True, 'normalization': False, 'scaling': False}. Best is trial 20 with value: 0.558.\n"
     ]
    },
    {
     "name": "stderr",
     "output_type": "stream",
     "text": [
      "\u001b[32m[I 2023-02-13 16:56:23,158]\u001b[0m Trial 32 finished with value: 0.566 and parameters: {'learning_rate': 0.27999826927850524, 'max_leaf_nodes': 19, 'l2_regularization': 9.365130601439098, 'tfidf': True, 'normalization': False, 'scaling': False}. Best is trial 20 with value: 0.558.\u001b[0m\n"
     ]
    },
    {
     "name": "stdout",
     "output_type": "stream",
     "text": [
      "Trial 32 finished with value: 0.566 and parameters: {'learning_rate': 0.27999826927850524, 'max_leaf_nodes': 19, 'l2_regularization': 9.365130601439098, 'tfidf': True, 'normalization': False, 'scaling': False}. Best is trial 20 with value: 0.558.\n"
     ]
    },
    {
     "name": "stderr",
     "output_type": "stream",
     "text": [
      "\u001b[32m[I 2023-02-13 16:58:56,747]\u001b[0m Trial 33 finished with value: 0.569 and parameters: {'learning_rate': 0.32869310506985494, 'max_leaf_nodes': 31, 'l2_regularization': 8.483828492335654, 'tfidf': True, 'normalization': False, 'scaling': False}. Best is trial 20 with value: 0.558.\u001b[0m\n"
     ]
    },
    {
     "name": "stdout",
     "output_type": "stream",
     "text": [
      "Trial 33 finished with value: 0.569 and parameters: {'learning_rate': 0.32869310506985494, 'max_leaf_nodes': 31, 'l2_regularization': 8.483828492335654, 'tfidf': True, 'normalization': False, 'scaling': False}. Best is trial 20 with value: 0.558.\n"
     ]
    },
    {
     "name": "stderr",
     "output_type": "stream",
     "text": [
      "\u001b[32m[I 2023-02-13 17:01:02,692]\u001b[0m Trial 34 finished with value: 0.564 and parameters: {'learning_rate': 0.2309580242265282, 'max_leaf_nodes': 15, 'l2_regularization': 7.090122997305471, 'tfidf': True, 'normalization': False, 'scaling': False}. Best is trial 20 with value: 0.558.\u001b[0m\n"
     ]
    },
    {
     "name": "stdout",
     "output_type": "stream",
     "text": [
      "Trial 34 finished with value: 0.564 and parameters: {'learning_rate': 0.2309580242265282, 'max_leaf_nodes': 15, 'l2_regularization': 7.090122997305471, 'tfidf': True, 'normalization': False, 'scaling': False}. Best is trial 20 with value: 0.558.\n"
     ]
    },
    {
     "name": "stderr",
     "output_type": "stream",
     "text": [
      "\u001b[32m[I 2023-02-13 17:03:26,024]\u001b[0m Trial 35 finished with value: 0.565 and parameters: {'learning_rate': 0.2904351125348219, 'max_leaf_nodes': 22, 'l2_regularization': 7.696852907461228, 'tfidf': True, 'normalization': False, 'scaling': False}. Best is trial 20 with value: 0.558.\u001b[0m\n"
     ]
    },
    {
     "name": "stdout",
     "output_type": "stream",
     "text": [
      "Trial 35 finished with value: 0.565 and parameters: {'learning_rate': 0.2904351125348219, 'max_leaf_nodes': 22, 'l2_regularization': 7.696852907461228, 'tfidf': True, 'normalization': False, 'scaling': False}. Best is trial 20 with value: 0.558.\n"
     ]
    },
    {
     "name": "stderr",
     "output_type": "stream",
     "text": [
      "\u001b[32m[I 2023-02-13 17:06:01,770]\u001b[0m Trial 36 finished with value: 0.568 and parameters: {'learning_rate': 0.19441114282683633, 'max_leaf_nodes': 28, 'l2_regularization': 9.00347612636283, 'tfidf': True, 'normalization': False, 'scaling': False}. Best is trial 20 with value: 0.558.\u001b[0m\n"
     ]
    },
    {
     "name": "stdout",
     "output_type": "stream",
     "text": [
      "Trial 36 finished with value: 0.568 and parameters: {'learning_rate': 0.19441114282683633, 'max_leaf_nodes': 28, 'l2_regularization': 9.00347612636283, 'tfidf': True, 'normalization': False, 'scaling': False}. Best is trial 20 with value: 0.558.\n"
     ]
    },
    {
     "name": "stderr",
     "output_type": "stream",
     "text": [
      "\u001b[32m[I 2023-02-13 17:07:55,112]\u001b[0m Trial 37 finished with value: 0.565 and parameters: {'learning_rate': 0.15251306407309845, 'max_leaf_nodes': 10, 'l2_regularization': 8.029144757963675, 'tfidf': True, 'normalization': True, 'scaling': False}. Best is trial 20 with value: 0.558.\u001b[0m\n"
     ]
    },
    {
     "name": "stdout",
     "output_type": "stream",
     "text": [
      "Trial 37 finished with value: 0.565 and parameters: {'learning_rate': 0.15251306407309845, 'max_leaf_nodes': 10, 'l2_regularization': 8.029144757963675, 'tfidf': True, 'normalization': True, 'scaling': False}. Best is trial 20 with value: 0.558.\n"
     ]
    },
    {
     "name": "stderr",
     "output_type": "stream",
     "text": [
      "\u001b[32m[I 2023-02-13 17:10:45,476]\u001b[0m Trial 38 finished with value: 0.561 and parameters: {'learning_rate': 0.2270912819968195, 'max_leaf_nodes': 32, 'l2_regularization': 9.58297881151908, 'tfidf': True, 'normalization': False, 'scaling': True}. Best is trial 20 with value: 0.558.\u001b[0m\n"
     ]
    },
    {
     "name": "stdout",
     "output_type": "stream",
     "text": [
      "Trial 38 finished with value: 0.561 and parameters: {'learning_rate': 0.2270912819968195, 'max_leaf_nodes': 32, 'l2_regularization': 9.58297881151908, 'tfidf': True, 'normalization': False, 'scaling': True}. Best is trial 20 with value: 0.558.\n"
     ]
    },
    {
     "name": "stderr",
     "output_type": "stream",
     "text": [
      "\u001b[32m[I 2023-02-13 17:12:55,185]\u001b[0m Trial 39 finished with value: 0.567 and parameters: {'learning_rate': 0.28839988443284753, 'max_leaf_nodes': 18, 'l2_regularization': 5.72787286872817, 'tfidf': True, 'normalization': True, 'scaling': True}. Best is trial 20 with value: 0.558.\u001b[0m\n"
     ]
    },
    {
     "name": "stdout",
     "output_type": "stream",
     "text": [
      "Trial 39 finished with value: 0.567 and parameters: {'learning_rate': 0.28839988443284753, 'max_leaf_nodes': 18, 'l2_regularization': 5.72787286872817, 'tfidf': True, 'normalization': True, 'scaling': True}. Best is trial 20 with value: 0.558.\n"
     ]
    }
   ],
   "source": [
    "def objective(trial):\n",
    "\n",
    "    learning_rate = trial.suggest_float(\"learning_rate\", 1e-4, 0.5)\n",
    "    max_leaf_nodes = trial.suggest_int(\"max_leaf_nodes\", 10, 60)\n",
    "    l2_regularization = trial.suggest_float(\"l2_regularization\", 0.1, 10.0)\n",
    "    tfidf = trial.suggest_categorical(\"tfidf\", [True, False])\n",
    "    normalization = trial.suggest_categorical(\"normalization\", [True, False])\n",
    "    scaling = trial.suggest_categorical(\"scaling\", [True, False])\n",
    "\n",
    "    regressor = HistGradientBoostingRegressor(learning_rate=learning_rate, max_leaf_nodes=max_leaf_nodes, l2_regularization=l2_regularization)\n",
    "    score = sklearn_regressors.evaluate_regressor(\n",
    "        regressor=regressor,\n",
    "        X=X_train,\n",
    "        y=y_train,\n",
    "        tfidf=tfidf,\n",
    "        normalization=normalization, \n",
    "        scaling=scaling,\n",
    "        requires_dense=True,\n",
    "    )\n",
    "\n",
    "    return score\n",
    "\n",
    "study.optimize(objective, n_trials=40)"
   ]
  },
  {
   "cell_type": "code",
   "execution_count": 10,
   "metadata": {
    "id": "y0rvRiP-qxFm"
   },
   "outputs": [
    {
     "data": {
      "text/html": [
       "<div>\n",
       "<style scoped>\n",
       "    .dataframe tbody tr th:only-of-type {\n",
       "        vertical-align: middle;\n",
       "    }\n",
       "\n",
       "    .dataframe tbody tr th {\n",
       "        vertical-align: top;\n",
       "    }\n",
       "\n",
       "    .dataframe thead th {\n",
       "        text-align: right;\n",
       "    }\n",
       "</style>\n",
       "<table border=\"1\" class=\"dataframe\">\n",
       "  <thead>\n",
       "    <tr style=\"text-align: right;\">\n",
       "      <th></th>\n",
       "      <th>number</th>\n",
       "      <th>value</th>\n",
       "      <th>datetime_start</th>\n",
       "      <th>datetime_complete</th>\n",
       "      <th>duration</th>\n",
       "      <th>params_l2_regularization</th>\n",
       "      <th>params_learning_rate</th>\n",
       "      <th>params_max_leaf_nodes</th>\n",
       "      <th>params_normalization</th>\n",
       "      <th>params_scaling</th>\n",
       "      <th>params_tfidf</th>\n",
       "      <th>state</th>\n",
       "    </tr>\n",
       "  </thead>\n",
       "  <tbody>\n",
       "    <tr>\n",
       "      <th>20</th>\n",
       "      <td>20</td>\n",
       "      <td>0.558</td>\n",
       "      <td>2023-02-13 16:27:53.031437</td>\n",
       "      <td>2023-02-13 16:30:13.552935</td>\n",
       "      <td>0 days 00:02:20.521498</td>\n",
       "      <td>8.803675</td>\n",
       "      <td>0.235958</td>\n",
       "      <td>20</td>\n",
       "      <td>False</td>\n",
       "      <td>True</td>\n",
       "      <td>True</td>\n",
       "      <td>COMPLETE</td>\n",
       "    </tr>\n",
       "    <tr>\n",
       "      <th>23</th>\n",
       "      <td>23</td>\n",
       "      <td>0.560</td>\n",
       "      <td>2023-02-13 16:34:51.510108</td>\n",
       "      <td>2023-02-13 16:36:55.377005</td>\n",
       "      <td>0 days 00:02:03.866897</td>\n",
       "      <td>9.057125</td>\n",
       "      <td>0.315053</td>\n",
       "      <td>14</td>\n",
       "      <td>False</td>\n",
       "      <td>True</td>\n",
       "      <td>True</td>\n",
       "      <td>COMPLETE</td>\n",
       "    </tr>\n",
       "    <tr>\n",
       "      <th>1</th>\n",
       "      <td>1</td>\n",
       "      <td>0.561</td>\n",
       "      <td>2023-02-13 15:36:56.492012</td>\n",
       "      <td>2023-02-13 15:38:53.064597</td>\n",
       "      <td>0 days 00:01:56.572585</td>\n",
       "      <td>8.880232</td>\n",
       "      <td>0.306335</td>\n",
       "      <td>13</td>\n",
       "      <td>True</td>\n",
       "      <td>True</td>\n",
       "      <td>True</td>\n",
       "      <td>COMPLETE</td>\n",
       "    </tr>\n",
       "    <tr>\n",
       "      <th>38</th>\n",
       "      <td>38</td>\n",
       "      <td>0.561</td>\n",
       "      <td>2023-02-13 17:07:55.122314</td>\n",
       "      <td>2023-02-13 17:10:45.452352</td>\n",
       "      <td>0 days 00:02:50.330038</td>\n",
       "      <td>9.582979</td>\n",
       "      <td>0.227091</td>\n",
       "      <td>32</td>\n",
       "      <td>False</td>\n",
       "      <td>True</td>\n",
       "      <td>True</td>\n",
       "      <td>COMPLETE</td>\n",
       "    </tr>\n",
       "    <tr>\n",
       "      <th>29</th>\n",
       "      <td>29</td>\n",
       "      <td>0.561</td>\n",
       "      <td>2023-02-13 16:47:44.578250</td>\n",
       "      <td>2023-02-13 16:49:56.268404</td>\n",
       "      <td>0 days 00:02:11.690154</td>\n",
       "      <td>8.222417</td>\n",
       "      <td>0.286817</td>\n",
       "      <td>20</td>\n",
       "      <td>False</td>\n",
       "      <td>False</td>\n",
       "      <td>True</td>\n",
       "      <td>COMPLETE</td>\n",
       "    </tr>\n",
       "    <tr>\n",
       "      <th>7</th>\n",
       "      <td>7</td>\n",
       "      <td>0.562</td>\n",
       "      <td>2023-02-13 15:52:30.038867</td>\n",
       "      <td>2023-02-13 15:55:08.636643</td>\n",
       "      <td>0 days 00:02:38.597776</td>\n",
       "      <td>5.685665</td>\n",
       "      <td>0.457672</td>\n",
       "      <td>60</td>\n",
       "      <td>False</td>\n",
       "      <td>True</td>\n",
       "      <td>False</td>\n",
       "      <td>COMPLETE</td>\n",
       "    </tr>\n",
       "    <tr>\n",
       "      <th>11</th>\n",
       "      <td>11</td>\n",
       "      <td>0.562</td>\n",
       "      <td>2023-02-13 16:01:55.418044</td>\n",
       "      <td>2023-02-13 16:04:54.906149</td>\n",
       "      <td>0 days 00:02:59.488105</td>\n",
       "      <td>8.459158</td>\n",
       "      <td>0.497546</td>\n",
       "      <td>60</td>\n",
       "      <td>False</td>\n",
       "      <td>True</td>\n",
       "      <td>False</td>\n",
       "      <td>COMPLETE</td>\n",
       "    </tr>\n",
       "    <tr>\n",
       "      <th>13</th>\n",
       "      <td>13</td>\n",
       "      <td>0.562</td>\n",
       "      <td>2023-02-13 16:07:34.214612</td>\n",
       "      <td>2023-02-13 16:11:17.505659</td>\n",
       "      <td>0 days 00:03:43.291047</td>\n",
       "      <td>7.394105</td>\n",
       "      <td>0.192465</td>\n",
       "      <td>56</td>\n",
       "      <td>False</td>\n",
       "      <td>True</td>\n",
       "      <td>True</td>\n",
       "      <td>COMPLETE</td>\n",
       "    </tr>\n",
       "    <tr>\n",
       "      <th>21</th>\n",
       "      <td>21</td>\n",
       "      <td>0.563</td>\n",
       "      <td>2023-02-13 16:30:13.570936</td>\n",
       "      <td>2023-02-13 16:32:26.975964</td>\n",
       "      <td>0 days 00:02:13.405028</td>\n",
       "      <td>8.862525</td>\n",
       "      <td>0.237644</td>\n",
       "      <td>17</td>\n",
       "      <td>False</td>\n",
       "      <td>True</td>\n",
       "      <td>True</td>\n",
       "      <td>COMPLETE</td>\n",
       "    </tr>\n",
       "    <tr>\n",
       "      <th>18</th>\n",
       "      <td>18</td>\n",
       "      <td>0.563</td>\n",
       "      <td>2023-02-13 16:22:29.826937</td>\n",
       "      <td>2023-02-13 16:24:48.352937</td>\n",
       "      <td>0 days 00:02:18.526000</td>\n",
       "      <td>6.502855</td>\n",
       "      <td>0.498010</td>\n",
       "      <td>51</td>\n",
       "      <td>True</td>\n",
       "      <td>False</td>\n",
       "      <td>False</td>\n",
       "      <td>COMPLETE</td>\n",
       "    </tr>\n",
       "  </tbody>\n",
       "</table>\n",
       "</div>"
      ],
      "text/plain": [
       "    number  value             datetime_start          datetime_complete  \\\n",
       "20      20  0.558 2023-02-13 16:27:53.031437 2023-02-13 16:30:13.552935   \n",
       "23      23  0.560 2023-02-13 16:34:51.510108 2023-02-13 16:36:55.377005   \n",
       "1        1  0.561 2023-02-13 15:36:56.492012 2023-02-13 15:38:53.064597   \n",
       "38      38  0.561 2023-02-13 17:07:55.122314 2023-02-13 17:10:45.452352   \n",
       "29      29  0.561 2023-02-13 16:47:44.578250 2023-02-13 16:49:56.268404   \n",
       "7        7  0.562 2023-02-13 15:52:30.038867 2023-02-13 15:55:08.636643   \n",
       "11      11  0.562 2023-02-13 16:01:55.418044 2023-02-13 16:04:54.906149   \n",
       "13      13  0.562 2023-02-13 16:07:34.214612 2023-02-13 16:11:17.505659   \n",
       "21      21  0.563 2023-02-13 16:30:13.570936 2023-02-13 16:32:26.975964   \n",
       "18      18  0.563 2023-02-13 16:22:29.826937 2023-02-13 16:24:48.352937   \n",
       "\n",
       "                 duration  params_l2_regularization  params_learning_rate  \\\n",
       "20 0 days 00:02:20.521498                  8.803675              0.235958   \n",
       "23 0 days 00:02:03.866897                  9.057125              0.315053   \n",
       "1  0 days 00:01:56.572585                  8.880232              0.306335   \n",
       "38 0 days 00:02:50.330038                  9.582979              0.227091   \n",
       "29 0 days 00:02:11.690154                  8.222417              0.286817   \n",
       "7  0 days 00:02:38.597776                  5.685665              0.457672   \n",
       "11 0 days 00:02:59.488105                  8.459158              0.497546   \n",
       "13 0 days 00:03:43.291047                  7.394105              0.192465   \n",
       "21 0 days 00:02:13.405028                  8.862525              0.237644   \n",
       "18 0 days 00:02:18.526000                  6.502855              0.498010   \n",
       "\n",
       "    params_max_leaf_nodes  params_normalization  params_scaling  params_tfidf  \\\n",
       "20                     20                 False            True          True   \n",
       "23                     14                 False            True          True   \n",
       "1                      13                  True            True          True   \n",
       "38                     32                 False            True          True   \n",
       "29                     20                 False           False          True   \n",
       "7                      60                 False            True         False   \n",
       "11                     60                 False            True         False   \n",
       "13                     56                 False            True          True   \n",
       "21                     17                 False            True          True   \n",
       "18                     51                  True           False         False   \n",
       "\n",
       "       state  \n",
       "20  COMPLETE  \n",
       "23  COMPLETE  \n",
       "1   COMPLETE  \n",
       "38  COMPLETE  \n",
       "29  COMPLETE  \n",
       "7   COMPLETE  \n",
       "11  COMPLETE  \n",
       "13  COMPLETE  \n",
       "21  COMPLETE  \n",
       "18  COMPLETE  "
      ]
     },
     "execution_count": 10,
     "metadata": {},
     "output_type": "execute_result"
    }
   ],
   "source": [
    "study.trials_dataframe().sort_values(by=\"value\").head(10)"
   ]
  },
  {
   "cell_type": "code",
   "execution_count": 11,
   "metadata": {
    "id": "jsVyX3vTqxFm"
   },
   "outputs": [
    {
     "name": "stdout",
     "output_type": "stream",
     "text": [
      "Best HistGBoost regression params: {'l2_regularization': 8.803675229357003, 'learning_rate': 0.23595804024556916, 'max_leaf_nodes': 20, 'normalization': False, 'scaling': True, 'tfidf': True}, achieving val RMSE: 0.558\n"
     ]
    }
   ],
   "source": [
    "print(f\"Best HistGBoost regression params: {study.best_params}, achieving val RMSE: {study.best_value}\")"
   ]
  },
  {
   "cell_type": "code",
   "execution_count": 15,
   "metadata": {},
   "outputs": [],
   "source": [
    "save = True\n",
    "load = False\n",
    "\n",
    "regressor_params = {\"learning_rate\": 0.24, \"max_leaf_nodes\": 20, \"l2_regularization\": 8.8}\n",
    "pipe_params = {\n",
    "    'normalization': False,\n",
    "    'scaling': True,\n",
    "    'tfidf': True,\n",
    "    'requires_dense': True,\n",
    "}\n",
    "\n",
    "if load:\n",
    "    pipe = joblib.load(f\"{exp_dir}/hist_gradient_boosting/pipe\")\n",
    "else:\n",
    "    regressor = HistGradientBoostingRegressor(**regressor_params)\n",
    "    pipe = sklearn_regressors.train_pipe(regressor, X_train, y_train, **pipe_params)\n",
    "\n",
    "    if save:\n",
    "        additional_attributes = {\n",
    "            \"regressor_params\": regressor_params,\n",
    "            \"pipe_params\": pipe_params,\n",
    "            \"test_programs\": test_programs,\n",
    "        }\n",
    "\n",
    "        joblib.dump(pipe, f\"{exp_dir}/hist_gradient_boosting/pipe\")\n",
    "        with open(f\"{exp_dir}/hist_gradient_boosting/additional_attributes.json\", \"w\") as file:\n",
    "            json.dump(additional_attributes, file, indent=4)"
   ]
  },
  {
   "cell_type": "code",
   "execution_count": 16,
   "metadata": {},
   "outputs": [
    {
     "name": "stdout",
     "output_type": "stream",
     "text": [
      "Mean absolute error for test programs\n",
      "{'faa': 0.8123990241181436, 'quicksort': 0.2551870738675057, 'declare': 0.4204020368187791}\n",
      "\n",
      "Total energies for test programs\n",
      "{'faa': {'true_energy': 1593.1851865544559, 'pred_energy': 596.5419792575909}, 'quicksort': {'true_energy': 4246.078264105905, 'pred_energy': 7377.537371436673}, 'declare': {'true_energy': 6382.836181449226, 'pred_energy': 3948.5523294498194}}\n"
     ]
    }
   ],
   "source": [
    "maes = {}\n",
    "prog_energy = {}\n",
    "\n",
    "for test_program in test_programs:\n",
    "    prog_df = test_df[test_df.program_name == test_program]\n",
    "    prog_bbs = np.array([\" \".join(bb) for bb in prog_df.bb.tolist()])\n",
    "    test_preds = pipe.predict(prog_bbs)\n",
    "    true_energies = prog_df.energy.values\n",
    "    \n",
    "    maes[test_program] = mean_absolute_error(true_energies, test_preds)\n",
    "    prog_energy[test_program] = {\n",
    "        \"true_energy\": sum(true_energies),\n",
    "        \"pred_energy\": sum(test_preds),\n",
    "    }\n",
    "\n",
    "print(\"Mean absolute error for test programs\")\n",
    "print(f\"{maes}\\n\")\n",
    "\n",
    "print(\"Total energies for test programs\")\n",
    "print(prog_energy)"
   ]
  }
 ],
 "metadata": {
  "kernelspec": {
   "display_name": "energy-prediction",
   "language": "python",
   "name": "python3"
  },
  "language_info": {
   "codemirror_mode": {
    "name": "ipython",
    "version": 3
   },
   "file_extension": ".py",
   "mimetype": "text/x-python",
   "name": "python",
   "nbconvert_exporter": "python",
   "pygments_lexer": "ipython3",
   "version": "3.10.4"
  },
  "orig_nbformat": 4,
  "vscode": {
   "interpreter": {
    "hash": "2d8ea44dacc84c32c3ffb10f5fa42b465f31145cc9ac97a8028dfa96db72aa4c"
   }
  }
 },
 "nbformat": 4,
 "nbformat_minor": 2
}
