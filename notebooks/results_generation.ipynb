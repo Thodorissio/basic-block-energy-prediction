{
 "cells": [
  {
   "attachments": {},
   "cell_type": "markdown",
   "metadata": {},
   "source": [
    "# Import"
   ]
  },
  {
   "cell_type": "code",
   "execution_count": 1,
   "metadata": {},
   "outputs": [
    {
     "name": "stderr",
     "output_type": "stream",
     "text": [
      "c:\\Users\\thodo\\miniconda3\\envs\\energy-prediction\\lib\\site-packages\\tqdm\\auto.py:22: TqdmWarning: IProgress not found. Please update jupyter and ipywidgets. See https://ipywidgets.readthedocs.io/en/stable/user_install.html\n",
      "  from .autonotebook import tqdm as notebook_tqdm\n"
     ]
    }
   ],
   "source": [
    "import json\n",
    "import os\n",
    "import numpy as np\n",
    "import torch\n",
    "from sklearn.metrics import mean_absolute_error, mean_squared_error\n",
    "from sklearn.linear_model import LinearRegression, SGDRegressor, ElasticNet, BayesianRidge, Ridge, Lasso\n",
    "from sklearn.svm import SVR\n",
    "from sklearn.ensemble import HistGradientBoostingRegressor\n",
    "\n",
    "from bb_energy_prediction import models, evaluate, train, data_utils, sklearn_regressors"
   ]
  },
  {
   "cell_type": "code",
   "execution_count": 2,
   "metadata": {},
   "outputs": [
    {
     "data": {
      "text/plain": [
       "True"
      ]
     },
     "execution_count": 2,
     "metadata": {},
     "output_type": "execute_result"
    }
   ],
   "source": [
    "torch.cuda.is_available()"
   ]
  },
  {
   "attachments": {},
   "cell_type": "markdown",
   "metadata": {},
   "source": [
    "# Setup"
   ]
  },
  {
   "cell_type": "code",
   "execution_count": 3,
   "metadata": {},
   "outputs": [
    {
     "data": {
      "text/html": [
       "<div>\n",
       "<style scoped>\n",
       "    .dataframe tbody tr th:only-of-type {\n",
       "        vertical-align: middle;\n",
       "    }\n",
       "\n",
       "    .dataframe tbody tr th {\n",
       "        vertical-align: top;\n",
       "    }\n",
       "\n",
       "    .dataframe thead th {\n",
       "        text-align: right;\n",
       "    }\n",
       "</style>\n",
       "<table border=\"1\" class=\"dataframe\">\n",
       "  <thead>\n",
       "    <tr style=\"text-align: right;\">\n",
       "      <th></th>\n",
       "      <th>bb</th>\n",
       "      <th>energy</th>\n",
       "      <th>program_name</th>\n",
       "      <th>bb_embeddings</th>\n",
       "      <th>encoded_bb</th>\n",
       "    </tr>\n",
       "  </thead>\n",
       "  <tbody>\n",
       "    <tr>\n",
       "      <th>456649</th>\n",
       "      <td>[mov %r15d %ebx, and $0x2 %ebx, jnz 0x425]</td>\n",
       "      <td>0.129805</td>\n",
       "      <td>variable_name</td>\n",
       "      <td>[[2.5854802, -0.6781732, 0.8800236, 0.4501543,...</td>\n",
       "      <td>[346, 347, 348]</td>\n",
       "    </tr>\n",
       "    <tr>\n",
       "      <th>548810</th>\n",
       "      <td>[sub $0x1 %rax, cmpb $0xa (%rax), jz 0x111]</td>\n",
       "      <td>0.151438</td>\n",
       "      <td>variable_name</td>\n",
       "      <td>[[1.4023652, 1.6352037, 2.4805996, 1.5314025, ...</td>\n",
       "      <td>[9, 11, 10]</td>\n",
       "    </tr>\n",
       "    <tr>\n",
       "      <th>423764</th>\n",
       "      <td>[mov %rbp %rdx, mov %r12 %rsi, mov %rbx %rdi, ...</td>\n",
       "      <td>0.757193</td>\n",
       "      <td>variable_name</td>\n",
       "      <td>[[2.5854805, -0.6781729, 0.8800227, 0.45015368...</td>\n",
       "      <td>[504, 66, 292, 14, 3, 35, 431, 24, 21, 16, 68,...</td>\n",
       "    </tr>\n",
       "  </tbody>\n",
       "</table>\n",
       "</div>"
      ],
      "text/plain": [
       "                                                       bb    energy  \\\n",
       "456649         [mov %r15d %ebx, and $0x2 %ebx, jnz 0x425]  0.129805   \n",
       "548810        [sub $0x1 %rax, cmpb $0xa (%rax), jz 0x111]  0.151438   \n",
       "423764  [mov %rbp %rdx, mov %r12 %rsi, mov %rbx %rdi, ...  0.757193   \n",
       "\n",
       "         program_name                                      bb_embeddings  \\\n",
       "456649  variable_name  [[2.5854802, -0.6781732, 0.8800236, 0.4501543,...   \n",
       "548810  variable_name  [[1.4023652, 1.6352037, 2.4805996, 1.5314025, ...   \n",
       "423764  variable_name  [[2.5854805, -0.6781729, 0.8800227, 0.45015368...   \n",
       "\n",
       "                                               encoded_bb  \n",
       "456649                                    [346, 347, 348]  \n",
       "548810                                        [9, 11, 10]  \n",
       "423764  [504, 66, 292, 14, 3, 35, 431, 24, 21, 16, 68,...  "
      ]
     },
     "execution_count": 3,
     "metadata": {},
     "output_type": "execute_result"
    }
   ],
   "source": [
    "data_df = data_utils.get_data_df(data_path=\"../energy_data/data.pkl\")\n",
    "vocab = data_utils.get_inst_vocab(data_df)\n",
    "data_df[\"encoded_bb\"] = data_df.bb.apply(lambda x: data_utils.encode_bb_from_vocab(x, vocab, max_insts=20))\n",
    "data_df.sample(3)"
   ]
  },
  {
   "cell_type": "code",
   "execution_count": 4,
   "metadata": {},
   "outputs": [
    {
     "data": {
      "text/plain": [
       "561654"
      ]
     },
     "execution_count": 4,
     "metadata": {},
     "output_type": "execute_result"
    }
   ],
   "source": [
    "len(data_df)"
   ]
  },
  {
   "cell_type": "code",
   "execution_count": 5,
   "metadata": {},
   "outputs": [],
   "source": [
    "program_data_size = data_df.program_name.value_counts()"
   ]
  },
  {
   "cell_type": "code",
   "execution_count": 6,
   "metadata": {},
   "outputs": [
    {
     "data": {
      "text/plain": [
       "variable_name       208472\n",
       "find_biggest         54529\n",
       "find_dyn_sum         49427\n",
       "ip_get               41078\n",
       "ip                   39246\n",
       "time                 23687\n",
       "function_pointer     19034\n",
       "quicksort            17043\n",
       "print_N              15514\n",
       "polinominal          14909\n",
       "random               13761\n",
       "bubblesort           10560\n",
       "declare              10304\n",
       "simple_sort           7440\n",
       "parrallel_ask2_b      6412\n",
       "parrallel_ask2_a      6351\n",
       "reverse_number        6230\n",
       "zombie                5198\n",
       "game_of_life          3562\n",
       "bin_to_dec            3203\n",
       "swap                  2573\n",
       "faa                   1228\n",
       "binary_search          982\n",
       "count_file             911\n",
       "Name: program_name, dtype: int64"
      ]
     },
     "execution_count": 6,
     "metadata": {},
     "output_type": "execute_result"
    }
   ],
   "source": [
    "program_data_size"
   ]
  },
  {
   "cell_type": "code",
   "execution_count": 7,
   "metadata": {},
   "outputs": [
    {
     "data": {
      "text/plain": [
       "[56422, 208472, 53228, 61604, 63437, 51991, 66500]"
      ]
     },
     "execution_count": 7,
     "metadata": {},
     "output_type": "execute_result"
    }
   ],
   "source": [
    "test_programs_groups = [\n",
    "    [\"find_biggest\", \"binary_search\", \"count_file\"],\n",
    "    [\"variable_name\"],\n",
    "    [\"find_dyn_sum\", \"faa\", \"swap\"],\n",
    "    [\"bin_to_dec\", \"ip_get\", \"game_of_life\", \"random\"],\n",
    "    [\"ip\", \"zombie\", \"reverse_number\", \"parrallel_ask2_a\", \"parrallel_ask2_b\"],\n",
    "    [\"simple_sort\", \"declare\", \"bubblesort\", \"time\"],\n",
    "    [\"function_pointer\", \"quicksort\", \"print_N\", \"polinominal\"]\n",
    "]\n",
    "\n",
    "test_sizes = [[program_data_size[prog] for prog in progs] for progs in test_programs_groups]\n",
    "group_size = [sum(test_size) for test_size in test_sizes]\n",
    "group_size"
   ]
  },
  {
   "cell_type": "code",
   "execution_count": 8,
   "metadata": {},
   "outputs": [],
   "source": [
    "program_names = np.unique(data_df.program_name)\n",
    "\n",
    "results_dict = {}\n",
    "for program in program_names:\n",
    "    results_dict[program] = {}\n",
    "    results_dict[program][\"labels\"] = data_df[data_df.program_name == program].energy.tolist()"
   ]
  },
  {
   "cell_type": "code",
   "execution_count": 9,
   "metadata": {},
   "outputs": [],
   "source": [
    "results_dict_dir = \"/Users/thodo/Documents/sxoli/diplomatiki/basic-block-energy-prediction/results/program_results.json\"\n",
    "\n",
    "if results_dict_dir.split(\"/\")[-1] not in os.listdir(results_dict_dir.rsplit(\"/\", 1)[0]):\n",
    "    with open(results_dict_dir, 'w') as json_file:\n",
    "        json.dump(results_dict, json_file, indent=4)"
   ]
  },
  {
   "attachments": {},
   "cell_type": "markdown",
   "metadata": {},
   "source": [
    "# Program Preds"
   ]
  },
  {
   "attachments": {},
   "cell_type": "markdown",
   "metadata": {},
   "source": [
    "## Palmtree"
   ]
  },
  {
   "attachments": {},
   "cell_type": "markdown",
   "metadata": {},
   "source": [
    "### LSTM"
   ]
  },
  {
   "cell_type": "code",
   "execution_count": null,
   "metadata": {},
   "outputs": [],
   "source": [
    "with open(\"/Users/thodo/Documents/sxoli/diplomatiki/basic-block-energy-prediction/model_checkpoints/lstm_palmtree_models/init_lstm_model/additional_attributes.json\") as json_file:\n",
    "    model_config = json.load(json_file)\n",
    "\n",
    "model_params = model_config[\"model_params\"]\n",
    "train_params = model_config[\"train_params\"]\n",
    "model_name = \"lstm_palmtree\"\n",
    "\n",
    "for test_programs in test_programs_groups:\n",
    "    \n",
    "    with open(results_dict_dir) as json_file:\n",
    "        results_dict = json.load(json_file)\n",
    "\n",
    "    print(f\"Evaluating {test_programs} benchmarks.\")\n",
    "    print(f\"Total test data: {sum(program_data_size[prog] for prog in test_programs)}\")\n",
    "\n",
    "    test_data_df = data_df[data_df.program_name.isin(test_programs)]\n",
    "    train_val_df = data_df[~data_df.program_name.isin(test_programs)]\n",
    "\n",
    "    data_loaders = data_utils.get_data_dict(\n",
    "        data_df=train_val_df,\n",
    "        enc_type=\"palmtree\",\n",
    "        mean=False,\n",
    "        batch_size=train_params[\"batch_size\"],\n",
    "        split=0.9,\n",
    "    )\n",
    "\n",
    "    train_loader = data_loaders[\"train_loader\"]\n",
    "    val_loader = data_loaders[\"val_loader\"]\n",
    "\n",
    "    embedding_size = next(iter(train_loader))[0].shape[-1]\n",
    "\n",
    "    model = models.LSTM_Regressor(embedding_size=embedding_size, **model_params)\n",
    "    \n",
    "    train_results = train.train_model(\n",
    "        model=model,\n",
    "        train_loader=train_loader,\n",
    "        val_loader=val_loader,\n",
    "        **train_params,\n",
    "        verbose=False,\n",
    "    )\n",
    "\n",
    "    for test_program in test_programs:\n",
    "        prog_df = test_data_df[test_data_df.program_name == test_program]\n",
    "        test_bbs = [emb.tolist() for emb in prog_df.bb_embeddings.tolist()]\n",
    "        test_preds = evaluate.predict(model=model, test_bbs=test_bbs)\n",
    "        results_dict[test_program][f\"{model_name}_preds\"] = test_preds.tolist()\n",
    "        with open(results_dict_dir, 'w') as json_file:\n",
    "            json.dump(results_dict, json_file, indent=4)"
   ]
  },
  {
   "attachments": {},
   "cell_type": "markdown",
   "metadata": {},
   "source": [
    "### Simple"
   ]
  },
  {
   "cell_type": "code",
   "execution_count": 42,
   "metadata": {},
   "outputs": [],
   "source": [
    "from importlib import reload\n",
    "evaluate=reload(evaluate)"
   ]
  },
  {
   "cell_type": "code",
   "execution_count": 43,
   "metadata": {},
   "outputs": [
    {
     "name": "stdout",
     "output_type": "stream",
     "text": [
      "Evaluating ['find_biggest', 'binary_search', 'count_file'] benchmarks.\n",
      "Total test data: 56422\n"
     ]
    }
   ],
   "source": [
    "with open(\"/Users/thodo/Documents/sxoli/diplomatiki/basic-block-energy-prediction/model_checkpoints/simple_palmtree_models/init_simple_model/additional_attributes.json\") as json_file:\n",
    "    model_config = json.load(json_file)\n",
    "\n",
    "model_params = model_config[\"model_params\"]\n",
    "train_params = model_config[\"train_params\"]\n",
    "\n",
    "model_name = \"simple_palmtree\"\n",
    "\n",
    "for test_programs in test_programs_groups[:1]:\n",
    "    \n",
    "    with open(results_dict_dir) as json_file:\n",
    "        results_dict = json.load(json_file)\n",
    "\n",
    "    print(f\"Evaluating {test_programs} benchmarks.\")\n",
    "    print(f\"Total test data: {sum(program_data_size[prog] for prog in test_programs)}\")\n",
    "\n",
    "    test_data_df = data_df[data_df.program_name.isin(test_programs)]\n",
    "    train_val_df = data_df[~data_df.program_name.isin(test_programs)]\n",
    "\n",
    "    data_loaders = data_utils.get_data_dict(\n",
    "        data_df=train_val_df,\n",
    "        enc_type=\"palmtree\",\n",
    "        mean=True,\n",
    "        batch_size=train_params[\"batch_size\"],\n",
    "        split=0.9,\n",
    "    )\n",
    "\n",
    "    train_loader = data_loaders[\"train_loader\"]\n",
    "    val_loader = data_loaders[\"val_loader\"]\n",
    "\n",
    "    embedding_size = next(iter(train_loader))[0].shape[-1]\n",
    "\n",
    "    model = models.Simple_Regressor(embedding_size=embedding_size, **model_params)\n",
    "    \n",
    "    train_results = train.train_model(\n",
    "        model=model,\n",
    "        train_loader=train_loader,\n",
    "        val_loader=val_loader,\n",
    "        **train_params,\n",
    "        verbose=False,\n",
    "    )\n",
    "\n",
    "    for test_program in test_programs:\n",
    "        prog_df = test_data_df[test_data_df.program_name == test_program]\n",
    "        test_embs = [emb.tolist() for emb in prog_df.bb_embeddings.tolist()]\n",
    "        test_preds = evaluate.predict(model=model, test_bbs=test_embs)\n",
    "        results_dict[test_program][f\"{model_name}_preds\"] = test_preds.tolist()\n",
    "        with open(results_dict_dir, 'w') as json_file:\n",
    "            json.dump(results_dict, json_file, indent=4)"
   ]
  },
  {
   "attachments": {},
   "cell_type": "markdown",
   "metadata": {},
   "source": [
    "## Vocab"
   ]
  },
  {
   "cell_type": "code",
   "execution_count": 10,
   "metadata": {},
   "outputs": [
    {
     "name": "stdout",
     "output_type": "stream",
     "text": [
      "Evaluating ['variable_name'] benchmarks.\n",
      "Total test data: 208472\n"
     ]
    }
   ],
   "source": [
    "with open(\"/Users/thodo/Documents/sxoli/diplomatiki/basic-block-energy-prediction/model_checkpoints/lstm_vocab_models/base_model/additional_attributes.json\") as json_file:\n",
    "    model_config = json.load(json_file)\n",
    "\n",
    "model_params = model_config[\"model_params\"]\n",
    "train_params = model_config[\"train_params\"]\n",
    "\n",
    "model_name = \"lstm_vocab\"\n",
    "\n",
    "for test_programs in test_programs_groups[1:]:\n",
    "    \n",
    "    with open(results_dict_dir) as json_file:\n",
    "        results_dict = json.load(json_file)\n",
    "\n",
    "    print(f\"Evaluating {test_programs} benchmarks.\")\n",
    "    print(f\"Total test data: {sum(program_data_size[prog] for prog in test_programs)}\")\n",
    "\n",
    "    test_data_df = data_df[data_df.program_name.isin(test_programs)]\n",
    "    train_val_df = data_df[~data_df.program_name.isin(test_programs)]\n",
    "\n",
    "    data_loaders = data_utils.get_data_dict(\n",
    "        data_df=train_val_df,\n",
    "        enc_type=\"vocab\",\n",
    "        batch_size=train_params[\"batch_size\"],\n",
    "        split=0.9,\n",
    "    )\n",
    "\n",
    "    train_loader = data_loaders[\"train_loader\"]\n",
    "    val_loader = data_loaders[\"val_loader\"]\n",
    "\n",
    "    embedding_size = next(iter(train_loader))[0].shape[-1]\n",
    "\n",
    "    model = models.LSTM_Regressor(vocab_size=len(vocab), custom_embs=True, **model_params)\n",
    "    \n",
    "    train_results = train.train_model(\n",
    "        model=model,\n",
    "        train_loader=train_loader,\n",
    "        val_loader=val_loader,\n",
    "        **train_params,\n",
    "        verbose=False,\n",
    "    )\n",
    "\n",
    "    for test_program in test_programs:\n",
    "        prog_df = test_data_df[test_data_df.program_name == test_program]\n",
    "        test_preds = evaluate.predict(model=model, test_bbs=prog_df.bb.values, vocab=vocab)\n",
    "        results_dict[test_program][f\"{model_name}_preds\"] = test_preds.tolist()\n",
    "        with open(results_dict_dir, 'w') as json_file:\n",
    "            json.dump(results_dict, json_file, indent=4)"
   ]
  },
  {
   "attachments": {},
   "cell_type": "markdown",
   "metadata": {},
   "source": [
    "## Regressors"
   ]
  },
  {
   "cell_type": "code",
   "execution_count": null,
   "metadata": {},
   "outputs": [],
   "source": [
    "regressors = [\n",
    "    \"linear\",\n",
    "    \"lasso\",\n",
    "    \"ridge\",\n",
    "    \"elasticnet\",\n",
    "    \"sgd\",\n",
    "    \"hist_gradient_boosting\",\n",
    "    \"svr\",\n",
    "]"
   ]
  },
  {
   "cell_type": "code",
   "execution_count": null,
   "metadata": {},
   "outputs": [],
   "source": [
    "for regressor in regressors:\n",
    "    with open(f\"/Users/thodo/Documents/sxoli/diplomatiki/basic-block-energy-prediction/model_checkpoints/regressors/{regressor}/additional_attributes.json\") as json_file:\n",
    "        model_config = json.load(json_file)\n",
    "\n",
    "    pipe_params = model_config[\"pipe_params\"]\n",
    "    if regressor != \"linear\":\n",
    "        regressor_params = model_config[\"regressor_params\"]\n",
    "\n",
    "    for test_programs in test_programs_groups:\n",
    "        \n",
    "        with open(results_dict_dir) as json_file:\n",
    "            results_dict = json.load(json_file)\n",
    "\n",
    "        print(f\"Evaluating {test_programs} benchmarks.\")\n",
    "        print(f\"Total test data: {sum(program_data_size[prog] for prog in test_programs)}\")\n",
    "\n",
    "        train_val_df = data_df[~data_df.program_name.isin(test_programs)]\n",
    "        test_data_df = data_df[data_df.program_name.isin(test_programs)]\n",
    "\n",
    "        X_train = np.array([\" \".join(bb) for bb in train_val_df.bb.tolist()])\n",
    "        y_train = train_val_df.energy.values\n",
    "\n",
    "        X_test = np.array([\" \".join(bb) for bb in test_data_df.bb.tolist()])\n",
    "        y_test = test_data_df.energy.values\n",
    "        \n",
    "        if regressor == \"linear\":\n",
    "            regressor = LinearRegression()\n",
    "        elif regressor == \"lasso\":\n",
    "            regressor = Lasso(**regressor_params)\n",
    "        elif regressor == \"ridge\":\n",
    "            regressor = Ridge(**regressor_params)\n",
    "        elif regressor == \"elasticnet\":\n",
    "            regressor = ElasticNet(**regressor_params)\n",
    "        elif regressor == \"sgd\":\n",
    "            regressor = SGDRegressor(**regressor_params)\n",
    "        elif regressor == \"svr\":\n",
    "            regressor = SVR(**regressor_params)\n",
    "        elif regressor == \"hist_gradient_boosting\":\n",
    "            regressor = HistGradientBoostingRegressor(**regressor_params)\n",
    "\n",
    "        pipe = sklearn_regressors.train_pipe(regressor, X_train, y_train, **pipe_params)\n",
    "\n",
    "        for test_program in test_programs:\n",
    "            prog_df = test_data_df[test_data_df.program_name == test_program]\n",
    "            prog_bbs = np.array([\" \".join(bb) for bb in prog_df.bb.tolist()])\n",
    "            test_preds = pipe.predict(prog_bbs)\n",
    "            results_dict[test_program][f\"{regressor}_preds\"] = test_preds.tolist()\n",
    "            with open(results_dict_dir, 'w') as json_file:\n",
    "                json.dump(results_dict, json_file, indent=4)"
   ]
  },
  {
   "cell_type": "code",
   "execution_count": null,
   "metadata": {},
   "outputs": [],
   "source": []
  }
 ],
 "metadata": {
  "kernelspec": {
   "display_name": "energy-prediction",
   "language": "python",
   "name": "python3"
  },
  "language_info": {
   "codemirror_mode": {
    "name": "ipython",
    "version": 3
   },
   "file_extension": ".py",
   "mimetype": "text/x-python",
   "name": "python",
   "nbconvert_exporter": "python",
   "pygments_lexer": "ipython3",
   "version": "3.10.4"
  },
  "orig_nbformat": 4,
  "vscode": {
   "interpreter": {
    "hash": "2d8ea44dacc84c32c3ffb10f5fa42b465f31145cc9ac97a8028dfa96db72aa4c"
   }
  }
 },
 "nbformat": 4,
 "nbformat_minor": 2
}
