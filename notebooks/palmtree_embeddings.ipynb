{
 "cells": [
  {
   "cell_type": "markdown",
   "metadata": {},
   "source": [
    "# Imports"
   ]
  },
  {
   "cell_type": "code",
   "execution_count": 1,
   "metadata": {},
   "outputs": [
    {
     "name": "stderr",
     "output_type": "stream",
     "text": [
      "c:\\Users\\thodo\\miniconda3\\envs\\energy-prediction\\lib\\site-packages\\tqdm\\auto.py:22: TqdmWarning: IProgress not found. Please update jupyter and ipywidgets. See https://ipywidgets.readthedocs.io/en/stable/user_install.html\n",
      "  from .autonotebook import tqdm as notebook_tqdm\n"
     ]
    }
   ],
   "source": [
    "import numpy as np\n",
    "import pandas as pd\n",
    "import matplotlib.pyplot as plt\n",
    "import sys\n",
    "import json\n",
    "import logging\n",
    "\n",
    "import optuna\n",
    "\n",
    "import torch\n",
    "from sklearn.metrics import mean_absolute_error, mean_squared_error\n",
    "\n",
    "from bb_energy_prediction import models, data_utils, train, evaluate"
   ]
  },
  {
   "cell_type": "markdown",
   "metadata": {},
   "source": [
    "# Data"
   ]
  },
  {
   "attachments": {},
   "cell_type": "markdown",
   "metadata": {},
   "source": [
    "We should firstly parse the sample basic block data, or load it from pickle if the parsed data have been saved.\n",
    "The preprocessing steps are based on data analysis done in the data exploration notebook"
   ]
  },
  {
   "cell_type": "code",
   "execution_count": 2,
   "metadata": {},
   "outputs": [],
   "source": [
    "no_dupl = False\n",
    "if no_dupl:\n",
    "    data_df = data_utils.get_data_df(data_path=\"../energy_data/no_dupl_data.pkl\")\n",
    "else:\n",
    "    data_df = data_utils.get_data_df(data_path=\"../energy_data/data.pkl\")"
   ]
  },
  {
   "cell_type": "code",
   "execution_count": 3,
   "metadata": {},
   "outputs": [
    {
     "data": {
      "text/html": [
       "<div>\n",
       "<style scoped>\n",
       "    .dataframe tbody tr th:only-of-type {\n",
       "        vertical-align: middle;\n",
       "    }\n",
       "\n",
       "    .dataframe tbody tr th {\n",
       "        vertical-align: top;\n",
       "    }\n",
       "\n",
       "    .dataframe thead th {\n",
       "        text-align: right;\n",
       "    }\n",
       "</style>\n",
       "<table border=\"1\" class=\"dataframe\">\n",
       "  <thead>\n",
       "    <tr style=\"text-align: right;\">\n",
       "      <th></th>\n",
       "      <th>bb</th>\n",
       "      <th>energy</th>\n",
       "      <th>program_name</th>\n",
       "      <th>bb_embeddings</th>\n",
       "    </tr>\n",
       "  </thead>\n",
       "  <tbody>\n",
       "    <tr>\n",
       "      <th>518317</th>\n",
       "      <td>[cmp %rdx %r9, jle 0x3e]</td>\n",
       "      <td>0.108170</td>\n",
       "      <td>variable_name</td>\n",
       "      <td>[[2.359058, 0.7902903, 4.4327393, 1.9121364, 1...</td>\n",
       "    </tr>\n",
       "    <tr>\n",
       "      <th>321936</th>\n",
       "      <td>[movq %rbx, mov %rdx, mov %rax, mov %rbx %rcx,...</td>\n",
       "      <td>0.482440</td>\n",
       "      <td>swap</td>\n",
       "      <td>[[0.85860157, 0.3787081, 2.0187519, -0.8874969...</td>\n",
       "    </tr>\n",
       "    <tr>\n",
       "      <th>333129</th>\n",
       "      <td>[sub $0x1 %rax, cmpb $0xa (%rax), jz 0x111]</td>\n",
       "      <td>0.048682</td>\n",
       "      <td>time</td>\n",
       "      <td>[[1.4023652, 1.6352037, 2.4805996, 1.5314025, ...</td>\n",
       "    </tr>\n",
       "    <tr>\n",
       "      <th>203598</th>\n",
       "      <td>[movq %rbx, mov %rdx, mov %rax, mov %rbx %rcx,...</td>\n",
       "      <td>0.456746</td>\n",
       "      <td>ip</td>\n",
       "      <td>[[0.85860157, 0.3787081, 2.0187519, -0.8874969...</td>\n",
       "    </tr>\n",
       "    <tr>\n",
       "      <th>349055</th>\n",
       "      <td>[cmpq $0x0, jz]</td>\n",
       "      <td>0.019925</td>\n",
       "      <td>variable_name</td>\n",
       "      <td>[[1.0268458, 0.028480439, 2.7335315, 0.5859076...</td>\n",
       "    </tr>\n",
       "    <tr>\n",
       "      <th>416720</th>\n",
       "      <td>[cmp %rax %r12, jb]</td>\n",
       "      <td>0.108170</td>\n",
       "      <td>variable_name</td>\n",
       "      <td>[[2.359058, 0.7902903, 4.4327393, 1.9121364, 1...</td>\n",
       "    </tr>\n",
       "    <tr>\n",
       "      <th>38020</th>\n",
       "      <td>[sub $0x1 %rax, cmpb $0xa (%rax), jz 0x111]</td>\n",
       "      <td>0.000141</td>\n",
       "      <td>find_biggest</td>\n",
       "      <td>[[1.4023652, 1.6352037, 2.4805996, 1.5314025, ...</td>\n",
       "    </tr>\n",
       "    <tr>\n",
       "      <th>212803</th>\n",
       "      <td>[mov %rdx, mov %r15d %eax, movl %ebx, mov %rdx...</td>\n",
       "      <td>1.207112</td>\n",
       "      <td>ip</td>\n",
       "      <td>[[2.5640976, -1.9068848, 0.81481344, -1.433819...</td>\n",
       "    </tr>\n",
       "    <tr>\n",
       "      <th>331493</th>\n",
       "      <td>[sub %r14 %rbx, mov %rbx %r13, add $0x18 %rsp,...</td>\n",
       "      <td>0.060675</td>\n",
       "      <td>time</td>\n",
       "      <td>[[1.4023651, 1.635204, 2.480599, 1.5314032, -0...</td>\n",
       "    </tr>\n",
       "    <tr>\n",
       "      <th>231996</th>\n",
       "      <td>[movq %rdx, cmp %ebx, jz 0xbd]</td>\n",
       "      <td>0.293623</td>\n",
       "      <td>ip</td>\n",
       "      <td>[[0.8586008, 0.37870914, 2.0187523, -0.8874969...</td>\n",
       "    </tr>\n",
       "  </tbody>\n",
       "</table>\n",
       "</div>"
      ],
      "text/plain": [
       "                                                       bb    energy  \\\n",
       "518317                           [cmp %rdx %r9, jle 0x3e]  0.108170   \n",
       "321936  [movq %rbx, mov %rdx, mov %rax, mov %rbx %rcx,...  0.482440   \n",
       "333129        [sub $0x1 %rax, cmpb $0xa (%rax), jz 0x111]  0.048682   \n",
       "203598  [movq %rbx, mov %rdx, mov %rax, mov %rbx %rcx,...  0.456746   \n",
       "349055                                    [cmpq $0x0, jz]  0.019925   \n",
       "416720                                [cmp %rax %r12, jb]  0.108170   \n",
       "38020         [sub $0x1 %rax, cmpb $0xa (%rax), jz 0x111]  0.000141   \n",
       "212803  [mov %rdx, mov %r15d %eax, movl %ebx, mov %rdx...  1.207112   \n",
       "331493  [sub %r14 %rbx, mov %rbx %r13, add $0x18 %rsp,...  0.060675   \n",
       "231996                     [movq %rdx, cmp %ebx, jz 0xbd]  0.293623   \n",
       "\n",
       "         program_name                                      bb_embeddings  \n",
       "518317  variable_name  [[2.359058, 0.7902903, 4.4327393, 1.9121364, 1...  \n",
       "321936           swap  [[0.85860157, 0.3787081, 2.0187519, -0.8874969...  \n",
       "333129           time  [[1.4023652, 1.6352037, 2.4805996, 1.5314025, ...  \n",
       "203598             ip  [[0.85860157, 0.3787081, 2.0187519, -0.8874969...  \n",
       "349055  variable_name  [[1.0268458, 0.028480439, 2.7335315, 0.5859076...  \n",
       "416720  variable_name  [[2.359058, 0.7902903, 4.4327393, 1.9121364, 1...  \n",
       "38020    find_biggest  [[1.4023652, 1.6352037, 2.4805996, 1.5314025, ...  \n",
       "212803             ip  [[2.5640976, -1.9068848, 0.81481344, -1.433819...  \n",
       "331493           time  [[1.4023651, 1.635204, 2.480599, 1.5314032, -0...  \n",
       "231996             ip  [[0.8586008, 0.37870914, 2.0187523, -0.8874969...  "
      ]
     },
     "execution_count": 3,
     "metadata": {},
     "output_type": "execute_result"
    }
   ],
   "source": [
    "data_df.sample(10)"
   ]
  },
  {
   "cell_type": "code",
   "execution_count": 4,
   "metadata": {},
   "outputs": [
    {
     "name": "stdout",
     "output_type": "stream",
     "text": [
      "Test data size: 56165\n"
     ]
    }
   ],
   "source": [
    "if no_dupl:\n",
    "    test_size = 0.15\n",
    "else:\n",
    "    test_size = 0.1\n",
    "\n",
    "shuffled_data_df = data_df.sample(frac=1).reset_index(drop=True)\n",
    "test_size = int(test_size * len(shuffled_data_df))\n",
    "test_df = shuffled_data_df[-test_size:]\n",
    "train_val_df = shuffled_data_df[:-test_size]\n",
    "\n",
    "print(f\"Test data size: {len(test_df)}\")"
   ]
  },
  {
   "cell_type": "markdown",
   "metadata": {},
   "source": [
    "# LSTM Model"
   ]
  },
  {
   "attachments": {},
   "cell_type": "markdown",
   "metadata": {},
   "source": [
    "## Optuna Trials"
   ]
  },
  {
   "cell_type": "code",
   "execution_count": 5,
   "metadata": {},
   "outputs": [
    {
     "name": "stderr",
     "output_type": "stream",
     "text": [
      "\u001b[32m[I 2023-02-23 02:10:30,617]\u001b[0m Using an existing study with name 'lstm-regression-fixed-hidden' instead of creating a new one.\u001b[0m\n"
     ]
    },
    {
     "name": "stdout",
     "output_type": "stream",
     "text": [
      "Using an existing study with name 'lstm-regression-fixed-hidden' instead of creating a new one.\n"
     ]
    }
   ],
   "source": [
    "optuna.logging.get_logger(\"optuna\").addHandler(logging.StreamHandler(sys.stdout))\n",
    "study_name = \"lstm-regression-fixed-hidden\"\n",
    "storage_name = f\"sqlite:////Users/thodo/Documents/sxoli/diplomatiki/optuna-studies/palmtee-regression-study.db\"\n",
    "study = optuna.create_study(study_name=study_name, storage=storage_name, load_if_exists=True, direction=\"minimize\")\n",
    "study.set_user_attr(\"Loss\", \"RMSE\")\n",
    "study.set_user_attr(\"Max instructions\", 20)\n",
    "study.set_user_attr(\"Training-val data\", len(train_val_df))\n",
    "study.set_user_attr(\"lr_decay\", 0.6)\n",
    "study.set_user_attr(\"lr_decay_step\", 9)"
   ]
  },
  {
   "cell_type": "code",
   "execution_count": null,
   "metadata": {},
   "outputs": [],
   "source": [
    "def objective(trial):\n",
    "    \n",
    "    if no_dupl:\n",
    "        lstm_layers = trial.suggest_int(\"lstm_layers\", 1, 3)\n",
    "        hidden_size = trial.suggest_int(\"hidden_size\", 4, 128)\n",
    "        dense_size = trial.suggest_int(\"dense_size\", 8, 256)\n",
    "        smaller_dense_size = trial.suggest_int(\"smaller_dense_size\", 4, 128)\n",
    "        batch_size = trial.suggest_int(\"batch_size\", 8, 64)\n",
    "        lstm_dropout = trial.suggest_float(\"lstm_dropout\", 0, 0.2)\n",
    "        dense_dropout = trial.suggest_float(\"dense_dropout\", 0, 0.15)\n",
    "        lr = trial.suggest_float(\"lr\", 1e-5, 5e-2)\n",
    "    else:\n",
    "        lstm_layers = trial.suggest_int(\"lstm_layers\", 1, 3)\n",
    "        hidden_size = trial.suggest_int(\"hidden_size\", 8, 128)\n",
    "        dense_size = trial.suggest_int(\"dense_size\", 16, 256)\n",
    "        smaller_dense_size = trial.suggest_int(\"smaller_dense_size\", 8, 64)\n",
    "        batch_size = trial.suggest_int(\"batch_size\", 128, 768)\n",
    "        lr = trial.suggest_float(\"lr\", 5e-4, 1e-2)\n",
    "        lstm_dropout = trial.suggest_float(\"lstm_dropout\", 0, 0.2)\n",
    "        dense_dropout = trial.suggest_float(\"dense_dropout\", 0, 0.2)\n",
    "\n",
    "    data_loaders = data_utils.get_data_dict(\n",
    "        data_df=train_val_df,\n",
    "        enc_type=\"palmtree\",\n",
    "        mean=False,\n",
    "        batch_size=batch_size,\n",
    "        split=0.9\n",
    "    )\n",
    "    train_loader = data_loaders[\"train_loader\"]\n",
    "    val_loader = data_loaders[\"val_loader\"]\n",
    "\n",
    "    embedding_size = next(iter(train_loader))[0].shape[-1]\n",
    "\n",
    "    model = models.LSTM_Regressor(\n",
    "        embedding_size=embedding_size,\n",
    "        hidden_size=hidden_size,\n",
    "        num_layers=lstm_layers,\n",
    "        dense_size=dense_size,\n",
    "        smaller_dense_size=smaller_dense_size,\n",
    "        lstm_dropout=lstm_dropout,\n",
    "        dense_dropout=dense_dropout,\n",
    "    )\n",
    "    train_results = train.train_model(\n",
    "        model=model,\n",
    "        train_loader=train_loader,\n",
    "        val_loader=val_loader,\n",
    "        lr=lr,\n",
    "        epochs=200,\n",
    "        early_stopping=True,\n",
    "    )\n",
    "\n",
    "    val_loss = train_results[\"val_loss\"]\n",
    "\n",
    "    return val_loss[-1]\n",
    "\n",
    "study.optimize(objective, n_trials=100)"
   ]
  },
  {
   "cell_type": "code",
   "execution_count": 6,
   "metadata": {},
   "outputs": [
    {
     "data": {
      "text/html": [
       "<div>\n",
       "<style scoped>\n",
       "    .dataframe tbody tr th:only-of-type {\n",
       "        vertical-align: middle;\n",
       "    }\n",
       "\n",
       "    .dataframe tbody tr th {\n",
       "        vertical-align: top;\n",
       "    }\n",
       "\n",
       "    .dataframe thead th {\n",
       "        text-align: right;\n",
       "    }\n",
       "</style>\n",
       "<table border=\"1\" class=\"dataframe\">\n",
       "  <thead>\n",
       "    <tr style=\"text-align: right;\">\n",
       "      <th></th>\n",
       "      <th>number</th>\n",
       "      <th>value</th>\n",
       "      <th>datetime_start</th>\n",
       "      <th>datetime_complete</th>\n",
       "      <th>duration</th>\n",
       "      <th>params_batch_size</th>\n",
       "      <th>params_dense_dropout</th>\n",
       "      <th>params_dense_size</th>\n",
       "      <th>params_hidden_size</th>\n",
       "      <th>params_lr</th>\n",
       "      <th>params_lstm_dropout</th>\n",
       "      <th>params_lstm_layers</th>\n",
       "      <th>params_smaller_dense_size</th>\n",
       "      <th>state</th>\n",
       "    </tr>\n",
       "  </thead>\n",
       "  <tbody>\n",
       "    <tr>\n",
       "      <th>92</th>\n",
       "      <td>92</td>\n",
       "      <td>0.531542</td>\n",
       "      <td>2023-02-22 22:07:16.683996</td>\n",
       "      <td>2023-02-22 22:28:21.674831</td>\n",
       "      <td>0 days 00:21:04.990835</td>\n",
       "      <td>149</td>\n",
       "      <td>0.146933</td>\n",
       "      <td>175</td>\n",
       "      <td>84</td>\n",
       "      <td>0.000991</td>\n",
       "      <td>0.090846</td>\n",
       "      <td>2</td>\n",
       "      <td>37</td>\n",
       "      <td>COMPLETE</td>\n",
       "    </tr>\n",
       "    <tr>\n",
       "      <th>93</th>\n",
       "      <td>93</td>\n",
       "      <td>0.542557</td>\n",
       "      <td>2023-02-22 22:28:21.695833</td>\n",
       "      <td>2023-02-22 22:56:58.721420</td>\n",
       "      <td>0 days 00:28:37.025587</td>\n",
       "      <td>152</td>\n",
       "      <td>0.133188</td>\n",
       "      <td>178</td>\n",
       "      <td>84</td>\n",
       "      <td>0.001060</td>\n",
       "      <td>0.090301</td>\n",
       "      <td>2</td>\n",
       "      <td>37</td>\n",
       "      <td>COMPLETE</td>\n",
       "    </tr>\n",
       "    <tr>\n",
       "      <th>97</th>\n",
       "      <td>97</td>\n",
       "      <td>0.544004</td>\n",
       "      <td>2023-02-23 00:06:58.542783</td>\n",
       "      <td>2023-02-23 00:33:46.436055</td>\n",
       "      <td>0 days 00:26:47.893272</td>\n",
       "      <td>150</td>\n",
       "      <td>0.151967</td>\n",
       "      <td>164</td>\n",
       "      <td>82</td>\n",
       "      <td>0.000906</td>\n",
       "      <td>0.092482</td>\n",
       "      <td>2</td>\n",
       "      <td>37</td>\n",
       "      <td>COMPLETE</td>\n",
       "    </tr>\n",
       "    <tr>\n",
       "      <th>56</th>\n",
       "      <td>56</td>\n",
       "      <td>0.544162</td>\n",
       "      <td>2023-02-22 13:20:15.139750</td>\n",
       "      <td>2023-02-22 13:28:32.927793</td>\n",
       "      <td>0 days 00:08:17.788043</td>\n",
       "      <td>279</td>\n",
       "      <td>0.127935</td>\n",
       "      <td>123</td>\n",
       "      <td>60</td>\n",
       "      <td>0.001077</td>\n",
       "      <td>0.088357</td>\n",
       "      <td>2</td>\n",
       "      <td>51</td>\n",
       "      <td>COMPLETE</td>\n",
       "    </tr>\n",
       "    <tr>\n",
       "      <th>94</th>\n",
       "      <td>94</td>\n",
       "      <td>0.545879</td>\n",
       "      <td>2023-02-22 22:56:58.745923</td>\n",
       "      <td>2023-02-22 23:22:34.898669</td>\n",
       "      <td>0 days 00:25:36.152746</td>\n",
       "      <td>150</td>\n",
       "      <td>0.132972</td>\n",
       "      <td>172</td>\n",
       "      <td>84</td>\n",
       "      <td>0.000967</td>\n",
       "      <td>0.100007</td>\n",
       "      <td>2</td>\n",
       "      <td>38</td>\n",
       "      <td>COMPLETE</td>\n",
       "    </tr>\n",
       "    <tr>\n",
       "      <th>79</th>\n",
       "      <td>79</td>\n",
       "      <td>0.548191</td>\n",
       "      <td>2023-02-22 18:36:03.402774</td>\n",
       "      <td>2023-02-22 19:01:34.576282</td>\n",
       "      <td>0 days 00:25:31.173508</td>\n",
       "      <td>156</td>\n",
       "      <td>0.155562</td>\n",
       "      <td>156</td>\n",
       "      <td>92</td>\n",
       "      <td>0.000722</td>\n",
       "      <td>0.064621</td>\n",
       "      <td>2</td>\n",
       "      <td>41</td>\n",
       "      <td>COMPLETE</td>\n",
       "    </tr>\n",
       "    <tr>\n",
       "      <th>85</th>\n",
       "      <td>85</td>\n",
       "      <td>0.549782</td>\n",
       "      <td>2023-02-22 19:58:40.927291</td>\n",
       "      <td>2023-02-22 20:14:29.685674</td>\n",
       "      <td>0 days 00:15:48.758383</td>\n",
       "      <td>196</td>\n",
       "      <td>0.134641</td>\n",
       "      <td>176</td>\n",
       "      <td>99</td>\n",
       "      <td>0.001924</td>\n",
       "      <td>0.086390</td>\n",
       "      <td>2</td>\n",
       "      <td>49</td>\n",
       "      <td>COMPLETE</td>\n",
       "    </tr>\n",
       "    <tr>\n",
       "      <th>59</th>\n",
       "      <td>59</td>\n",
       "      <td>0.549893</td>\n",
       "      <td>2023-02-22 13:52:17.187458</td>\n",
       "      <td>2023-02-22 14:04:36.711049</td>\n",
       "      <td>0 days 00:12:19.523591</td>\n",
       "      <td>348</td>\n",
       "      <td>0.090364</td>\n",
       "      <td>84</td>\n",
       "      <td>81</td>\n",
       "      <td>0.000790</td>\n",
       "      <td>0.071662</td>\n",
       "      <td>2</td>\n",
       "      <td>56</td>\n",
       "      <td>COMPLETE</td>\n",
       "    </tr>\n",
       "    <tr>\n",
       "      <th>38</th>\n",
       "      <td>38</td>\n",
       "      <td>0.550018</td>\n",
       "      <td>2023-02-22 09:31:37.648245</td>\n",
       "      <td>2023-02-22 09:42:41.266050</td>\n",
       "      <td>0 days 00:11:03.617805</td>\n",
       "      <td>389</td>\n",
       "      <td>0.139760</td>\n",
       "      <td>72</td>\n",
       "      <td>45</td>\n",
       "      <td>0.001536</td>\n",
       "      <td>0.043094</td>\n",
       "      <td>2</td>\n",
       "      <td>38</td>\n",
       "      <td>COMPLETE</td>\n",
       "    </tr>\n",
       "    <tr>\n",
       "      <th>16</th>\n",
       "      <td>16</td>\n",
       "      <td>0.550399</td>\n",
       "      <td>2023-02-22 04:36:57.902343</td>\n",
       "      <td>2023-02-22 04:48:02.381571</td>\n",
       "      <td>0 days 00:11:04.479228</td>\n",
       "      <td>363</td>\n",
       "      <td>0.157109</td>\n",
       "      <td>233</td>\n",
       "      <td>48</td>\n",
       "      <td>0.000635</td>\n",
       "      <td>0.196569</td>\n",
       "      <td>2</td>\n",
       "      <td>8</td>\n",
       "      <td>COMPLETE</td>\n",
       "    </tr>\n",
       "  </tbody>\n",
       "</table>\n",
       "</div>"
      ],
      "text/plain": [
       "    number     value             datetime_start          datetime_complete  \\\n",
       "92      92  0.531542 2023-02-22 22:07:16.683996 2023-02-22 22:28:21.674831   \n",
       "93      93  0.542557 2023-02-22 22:28:21.695833 2023-02-22 22:56:58.721420   \n",
       "97      97  0.544004 2023-02-23 00:06:58.542783 2023-02-23 00:33:46.436055   \n",
       "56      56  0.544162 2023-02-22 13:20:15.139750 2023-02-22 13:28:32.927793   \n",
       "94      94  0.545879 2023-02-22 22:56:58.745923 2023-02-22 23:22:34.898669   \n",
       "79      79  0.548191 2023-02-22 18:36:03.402774 2023-02-22 19:01:34.576282   \n",
       "85      85  0.549782 2023-02-22 19:58:40.927291 2023-02-22 20:14:29.685674   \n",
       "59      59  0.549893 2023-02-22 13:52:17.187458 2023-02-22 14:04:36.711049   \n",
       "38      38  0.550018 2023-02-22 09:31:37.648245 2023-02-22 09:42:41.266050   \n",
       "16      16  0.550399 2023-02-22 04:36:57.902343 2023-02-22 04:48:02.381571   \n",
       "\n",
       "                 duration  params_batch_size  params_dense_dropout  \\\n",
       "92 0 days 00:21:04.990835                149              0.146933   \n",
       "93 0 days 00:28:37.025587                152              0.133188   \n",
       "97 0 days 00:26:47.893272                150              0.151967   \n",
       "56 0 days 00:08:17.788043                279              0.127935   \n",
       "94 0 days 00:25:36.152746                150              0.132972   \n",
       "79 0 days 00:25:31.173508                156              0.155562   \n",
       "85 0 days 00:15:48.758383                196              0.134641   \n",
       "59 0 days 00:12:19.523591                348              0.090364   \n",
       "38 0 days 00:11:03.617805                389              0.139760   \n",
       "16 0 days 00:11:04.479228                363              0.157109   \n",
       "\n",
       "    params_dense_size  params_hidden_size  params_lr  params_lstm_dropout  \\\n",
       "92                175                  84   0.000991             0.090846   \n",
       "93                178                  84   0.001060             0.090301   \n",
       "97                164                  82   0.000906             0.092482   \n",
       "56                123                  60   0.001077             0.088357   \n",
       "94                172                  84   0.000967             0.100007   \n",
       "79                156                  92   0.000722             0.064621   \n",
       "85                176                  99   0.001924             0.086390   \n",
       "59                 84                  81   0.000790             0.071662   \n",
       "38                 72                  45   0.001536             0.043094   \n",
       "16                233                  48   0.000635             0.196569   \n",
       "\n",
       "    params_lstm_layers  params_smaller_dense_size     state  \n",
       "92                   2                         37  COMPLETE  \n",
       "93                   2                         37  COMPLETE  \n",
       "97                   2                         37  COMPLETE  \n",
       "56                   2                         51  COMPLETE  \n",
       "94                   2                         38  COMPLETE  \n",
       "79                   2                         41  COMPLETE  \n",
       "85                   2                         49  COMPLETE  \n",
       "59                   2                         56  COMPLETE  \n",
       "38                   2                         38  COMPLETE  \n",
       "16                   2                          8  COMPLETE  "
      ]
     },
     "execution_count": 6,
     "metadata": {},
     "output_type": "execute_result"
    }
   ],
   "source": [
    "study.trials_dataframe().sort_values(by=\"value\").head(10)"
   ]
  },
  {
   "cell_type": "code",
   "execution_count": 7,
   "metadata": {},
   "outputs": [
    {
     "name": "stdout",
     "output_type": "stream",
     "text": [
      "Best lstm-regressor-model params: {'batch_size': 149, 'dense_dropout': 0.14693286925976803, 'dense_size': 175, 'hidden_size': 84, 'lr': 0.0009914340651946156, 'lstm_dropout': 0.09084570992229993, 'lstm_layers': 2, 'smaller_dense_size': 37}, achieving val RMSE: 0.5315424742776033\n"
     ]
    }
   ],
   "source": [
    "print(f\"Best lstm-regressor-model params: {study.best_params}, achieving val RMSE: {study.best_value}\")"
   ]
  },
  {
   "attachments": {},
   "cell_type": "markdown",
   "metadata": {},
   "source": [
    "## Model Training"
   ]
  },
  {
   "cell_type": "code",
   "execution_count": 5,
   "metadata": {},
   "outputs": [],
   "source": [
    "batch_size = 149\n",
    "\n",
    "model_params = {\n",
    "    \"hidden_size\": 84,\n",
    "    \"num_layers\": 2,\n",
    "    \"dense_size\": 175,\n",
    "    \"smaller_dense_size\": 37,\n",
    "    \"lstm_dropout\": 0.09,\n",
    "    \"dense_dropout\": 0.15,\n",
    "}\n",
    "\n",
    "train_params = {\n",
    "    \"lr\": 0.01,\n",
    "    \"epochs\": 50,\n",
    "    \"early_stopping\": True,\n",
    "}"
   ]
  },
  {
   "cell_type": "code",
   "execution_count": 6,
   "metadata": {},
   "outputs": [
    {
     "name": "stdout",
     "output_type": "stream",
     "text": [
      "Epoch: 1/50, RMSE Train Loss: 0.59735, RMSE Val Loss: 0.60068\n",
      "Epoch: 2/50, RMSE Train Loss: 0.58948, RMSE Val Loss: 0.58849\n",
      "Epoch: 3/50, RMSE Train Loss: 0.5861, RMSE Val Loss: 0.57788\n",
      "Epoch: 4/50, RMSE Train Loss: 0.58613, RMSE Val Loss: 0.58784\n",
      "Epoch: 5/50, RMSE Train Loss: 0.58496, RMSE Val Loss: 0.61193\n",
      "Epoch: 6/50, RMSE Train Loss: 0.58489, RMSE Val Loss: 0.58\n",
      "Epoch: 7/50, RMSE Train Loss: 0.58674, RMSE Val Loss: 0.60546\n",
      "Epoch: 8/50, RMSE Train Loss: 0.59004, RMSE Val Loss: 0.5896\n",
      "Epoch: 9/50, RMSE Train Loss: 0.58801, RMSE Val Loss: 0.57697\n",
      "Epoch: 10/50, RMSE Train Loss: 0.57975, RMSE Val Loss: 0.57994\n",
      "Epoch: 11/50, RMSE Train Loss: 0.58043, RMSE Val Loss: 0.5771\n",
      "Epoch: 12/50, RMSE Train Loss: 0.5806, RMSE Val Loss: 0.57662\n",
      "Epoch: 13/50, RMSE Train Loss: 0.57911, RMSE Val Loss: 0.57915\n",
      "Epoch: 14/50, RMSE Train Loss: 0.5802, RMSE Val Loss: 0.57778\n",
      "Epoch: 15/50, RMSE Train Loss: 0.58017, RMSE Val Loss: 0.58113\n",
      "Epoch: 16/50, RMSE Train Loss: 0.57839, RMSE Val Loss: 0.57884\n",
      "Epoch: 17/50, RMSE Train Loss: 0.58292, RMSE Val Loss: 0.58032\n",
      "Epoch: 18/50, RMSE Train Loss: 0.57995, RMSE Val Loss: 0.58034\n",
      "Epoch: 19/50, RMSE Train Loss: 0.57985, RMSE Val Loss: 0.57875\n",
      "Epoch: 20/50, RMSE Train Loss: 0.57851, RMSE Val Loss: 0.57587\n",
      "Epoch: 21/50, RMSE Train Loss: 0.57484, RMSE Val Loss: 0.57457\n",
      "Epoch: 22/50, RMSE Train Loss: 0.5758, RMSE Val Loss: 0.57301\n",
      "Epoch: 23/50, RMSE Train Loss: 0.57171, RMSE Val Loss: 0.57418\n",
      "Epoch: 24/50, RMSE Train Loss: 0.57508, RMSE Val Loss: 0.57644\n",
      "Epoch: 25/50, RMSE Train Loss: 0.57804, RMSE Val Loss: 0.57383\n",
      "Epoch: 26/50, RMSE Train Loss: 0.57304, RMSE Val Loss: 0.5735\n",
      "Epoch: 27/50, RMSE Train Loss: 0.57375, RMSE Val Loss: 0.57377\n",
      "Epoch: 28/50, RMSE Train Loss: 0.57173, RMSE Val Loss: 0.56976\n",
      "Epoch: 29/50, RMSE Train Loss: 0.57021, RMSE Val Loss: 0.57209\n",
      "Epoch: 30/50, RMSE Train Loss: 0.5693, RMSE Val Loss: 0.57162\n",
      "Epoch: 31/50, RMSE Train Loss: 0.56964, RMSE Val Loss: 0.56926\n",
      "Epoch: 32/50, RMSE Train Loss: 0.5695, RMSE Val Loss: 0.56983\n",
      "Epoch: 33/50, RMSE Train Loss: 0.56851, RMSE Val Loss: 0.56947\n",
      "Epoch: 34/50, RMSE Train Loss: 0.56867, RMSE Val Loss: 0.56922\n",
      "Epoch: 35/50, RMSE Train Loss: 0.56845, RMSE Val Loss: 0.56809\n",
      "Epoch: 36/50, RMSE Train Loss: 0.56761, RMSE Val Loss: 0.56802\n",
      "Epoch: 37/50, RMSE Train Loss: 0.5662, RMSE Val Loss: 0.5659\n",
      "Epoch: 38/50, RMSE Train Loss: 0.56606, RMSE Val Loss: 0.56585\n",
      "Epoch: 39/50, RMSE Train Loss: 0.56652, RMSE Val Loss: 0.5657\n",
      "Epoch: 40/50, RMSE Train Loss: 0.56554, RMSE Val Loss: 0.56524\n",
      "Epoch: 41/50, RMSE Train Loss: 0.56575, RMSE Val Loss: 0.56772\n",
      "Epoch: 42/50, RMSE Train Loss: 0.56532, RMSE Val Loss: 0.56542\n",
      "Epoch: 43/50, RMSE Train Loss: 0.56473, RMSE Val Loss: 0.5644\n",
      "Epoch: 44/50, RMSE Train Loss: 0.56413, RMSE Val Loss: 0.56466\n",
      "Epoch: 45/50, RMSE Train Loss: 0.56541, RMSE Val Loss: 0.56367\n",
      "Epoch: 46/50, RMSE Train Loss: 0.56357, RMSE Val Loss: 0.56214\n",
      "Epoch: 47/50, RMSE Train Loss: 0.56297, RMSE Val Loss: 0.56179\n",
      "Epoch: 48/50, RMSE Train Loss: 0.56248, RMSE Val Loss: 0.56166\n",
      "Epoch: 49/50, RMSE Train Loss: 0.56238, RMSE Val Loss: 0.56158\n",
      "Epoch: 50/50, RMSE Train Loss: 0.56219, RMSE Val Loss: 0.56167\n"
     ]
    }
   ],
   "source": [
    "load = False\n",
    "save = True\n",
    "\n",
    "exp_dir = \"/Users/thodo/Documents/sxoli/diplomatiki/basic-block-energy-prediction/model_checkpoints/lstm_palmtree_models/base_model\"\n",
    "\n",
    "data_loaders = data_utils.get_data_dict(\n",
    "    data_df=train_val_df,\n",
    "    enc_type=\"palmtree\",\n",
    "    mean=False,\n",
    "    batch_size=batch_size,\n",
    "    split=0.9,\n",
    ")\n",
    "\n",
    "train_loader = data_loaders[\"train_loader\"]\n",
    "val_loader = data_loaders[\"val_loader\"]\n",
    "\n",
    "embedding_size = next(iter(train_loader))[0].shape[-1]\n",
    "\n",
    "model = models.LSTM_Regressor(embedding_size=embedding_size, **model_params)\n",
    "\n",
    "if load:\n",
    "    model.load_state_dict(torch.load(f\"{exp_dir}/lstm_model\"))\n",
    "else:\n",
    "    train_results = train.train_model(\n",
    "        model=model,\n",
    "        train_loader=train_loader,\n",
    "        val_loader=val_loader,\n",
    "        verbose=True,\n",
    "        **train_params,\n",
    "    )\n",
    "\n",
    "    if save:\n",
    "        torch.save(train_results[\"model\"].state_dict(), f\"{exp_dir}/lstm_model\")\n",
    "        additional_attributes = {\n",
    "            \"model_params\": model_params,\n",
    "            \"train_params\": train_params,\n",
    "            \"loss\": \"RMSE\",\n",
    "            \"batch_size\": batch_size,\n",
    "            \"number of data\": len(train_loader)*batch_size,\n",
    "            \"train_loss\": train_results[\"train_loss\"],\n",
    "            \"val_loss\": train_results[\"val_loss\"],\n",
    "        }\n",
    "        with open(f\"{exp_dir}/additional_attributes.json\", \"w\") as file:\n",
    "            json.dump(additional_attributes, file, indent=4)"
   ]
  },
  {
   "cell_type": "code",
   "execution_count": 7,
   "metadata": {},
   "outputs": [
    {
     "data": {
      "image/png": "[encoded data removed]",
      "text/plain": [
       "<Figure size 432x288 with 1 Axes>"
      ]
     },
     "metadata": {
      "needs_background": "light"
     },
     "output_type": "display_data"
    }
   ],
   "source": [
    "plt.plot(train_results[\"train_loss\"], label=\"Train RMSE Loss\")\n",
    "plt.plot(train_results[\"val_loss\"], label=\"Val RMSE Loss\")\n",
    "plt.legend()\n",
    "plt.show()"
   ]
  },
  {
   "attachments": {},
   "cell_type": "markdown",
   "metadata": {},
   "source": [
    "## Evaluation"
   ]
  },
  {
   "cell_type": "code",
   "execution_count": 8,
   "metadata": {},
   "outputs": [],
   "source": [
    "pred_dict = evaluate.evaluate(model=model, val_loader=val_loader)\n",
    "preds = pred_dict[\"preds\"]\n",
    "true_energies = pred_dict[\"true_energies\"]"
   ]
  },
  {
   "cell_type": "code",
   "execution_count": 9,
   "metadata": {},
   "outputs": [
    {
     "data": {
      "image/png": "[encoded data removed]",
      "text/plain": [
       "<Figure size 720x360 with 1 Axes>"
      ]
     },
     "metadata": {
      "needs_background": "light"
     },
     "output_type": "display_data"
    }
   ],
   "source": [
    "plt.figure(figsize=(10, 5))\n",
    "plt.hist(preds, bins=100, range=(0,5))\n",
    "plt.title(\"Predictions' energy distribution\")\n",
    "plt.xlabel(\"Energy\")\n",
    "plt.show()"
   ]
  },
  {
   "cell_type": "code",
   "execution_count": 10,
   "metadata": {},
   "outputs": [
    {
     "data": {
      "image/png": "[encoded data removed]",
      "text/plain": [
       "<Figure size 720x360 with 1 Axes>"
      ]
     },
     "metadata": {
      "needs_background": "light"
     },
     "output_type": "display_data"
    }
   ],
   "source": [
    "val_labels = true_energies\n",
    "\n",
    "plt.figure(figsize=(10, 5))\n",
    "plt.hist(val_labels, bins=100, range=(0,5))\n",
    "plt.title(\"Validation labels energy distribution\")\n",
    "plt.xlabel(\"Energy\")\n",
    "plt.show()"
   ]
  },
  {
   "cell_type": "code",
   "execution_count": 11,
   "metadata": {},
   "outputs": [
    {
     "name": "stdout",
     "output_type": "stream",
     "text": [
      "Labels' median: 0.18773553401560195, Labels' std: 0.7033950418271452\n",
      "MSE: 0.34\n",
      "MAE: 0.26\n"
     ]
    }
   ],
   "source": [
    "median = np.median(true_energies)\n",
    "std = np.std(true_energies)\n",
    "mse = round(mean_squared_error(true_energies, preds), 3)\n",
    "mae = round(mean_absolute_error(true_energies, preds), 3)\n",
    "\n",
    "print(f\"Labels' median: {median}, Labels' std: {std}\")\n",
    "print(f\"MSE: {mse}\")\n",
    "print(f\"MAE: {mae}\")"
   ]
  },
  {
   "cell_type": "code",
   "execution_count": 12,
   "metadata": {},
   "outputs": [
    {
     "data": {
      "image/png": "[encoded data removed]",
      "text/plain": [
       "<Figure size 720x360 with 1 Axes>"
      ]
     },
     "metadata": {
      "needs_background": "light"
     },
     "output_type": "display_data"
    }
   ],
   "source": [
    "plt.figure(figsize=(10, 5))\n",
    "plt.title(\"Total energy\")\n",
    "plt.ylabel(\"Energy (*61μJ)\")\n",
    "plt.bar([\"true energy\", \"prediction\"], [sum(true_energies), sum(preds)])\n",
    "plt.show()"
   ]
  },
  {
   "attachments": {},
   "cell_type": "markdown",
   "metadata": {},
   "source": [
    "## Test programs prediction"
   ]
  },
  {
   "cell_type": "code",
   "execution_count": 13,
   "metadata": {},
   "outputs": [],
   "source": [
    "test_embs = [emb.tolist() for emb in test_df.bb_embeddings.tolist()]\n",
    "test_preds = evaluate.predict(model=model, test_bbs=test_embs)\n",
    "true_energies = test_df.energy.values"
   ]
  },
  {
   "cell_type": "code",
   "execution_count": 14,
   "metadata": {},
   "outputs": [
    {
     "name": "stdout",
     "output_type": "stream",
     "text": [
      "Labels' median: 0.19081988415913198, Labels' std: 0.7239823427777025\n",
      "MSE: 0.359\n",
      "MAE: 0.263\n"
     ]
    }
   ],
   "source": [
    "median = np.median(true_energies)\n",
    "std = np.std(true_energies)\n",
    "mse = round(mean_squared_error(true_energies, test_preds), 3)\n",
    "mae = round(mean_absolute_error(true_energies, test_preds), 3)\n",
    "\n",
    "print(f\"Labels' median: {median}, Labels' std: {std}\")\n",
    "print(f\"MSE: {mse}\")\n",
    "print(f\"MAE: {mae}\")"
   ]
  },
  {
   "cell_type": "markdown",
   "metadata": {},
   "source": [
    "# Simple Model"
   ]
  },
  {
   "attachments": {},
   "cell_type": "markdown",
   "metadata": {},
   "source": [
    "## Optuna Trials"
   ]
  },
  {
   "cell_type": "code",
   "execution_count": 37,
   "metadata": {},
   "outputs": [
    {
     "name": "stderr",
     "output_type": "stream",
     "text": [
      "\u001b[32m[I 2023-02-20 17:35:58,122]\u001b[0m A new study created in RDB with name: simple-regression-study-no-duplicates\u001b[0m\n"
     ]
    },
    {
     "name": "stdout",
     "output_type": "stream",
     "text": [
      "A new study created in RDB with name: simple-regression-study-no-duplicates\n",
      "A new study created in RDB with name: simple-regression-study-no-duplicates\n",
      "A new study created in RDB with name: simple-regression-study-no-duplicates\n"
     ]
    }
   ],
   "source": [
    "optuna.logging.get_logger(\"optuna\").addHandler(logging.StreamHandler(sys.stdout))\n",
    "study_name = \"simple-regression-study-no-duplicates\"\n",
    "storage_name = f\"sqlite:////Users/thodo/Documents/sxoli/diplomatiki/optuna-studies/palmtee-regression-study.db\"\n",
    "study = optuna.create_study(study_name=study_name, storage=storage_name, load_if_exists=True, direction=\"minimize\")\n",
    "study.set_user_attr(\"Loss\", \"RMSE\")\n",
    "study.set_user_attr(\"Max instructions\", 25)\n",
    "study.set_user_attr(\"Training-val data\", len(train_val_df))"
   ]
  },
  {
   "cell_type": "code",
   "execution_count": null,
   "metadata": {},
   "outputs": [],
   "source": [
    "def objective(trial):\n",
    "    if no_dupl:\n",
    "        num_layers = trial.suggest_int(\"dense_layers\", 1, 3)\n",
    "        dense_layers = [trial.suggest_int(f\"dense_{i}\", 8, 256) for i in range(num_layers)]\n",
    "        batch_size = trial.suggest_int(\"batch_size\", 8, 64)\n",
    "        lr = trial.suggest_float(\"lr\", 1e-5, 5e-2)\n",
    "        dropout = trial.suggest_float(\"dropout\", 0, 0.2)\n",
    "        regressor_dropout = trial.suggest_float(\"regressor_dropout\", 0, 0.15)\n",
    "    else:\n",
    "        num_layers = trial.suggest_int(\"dense_layers\", 1, 6)\n",
    "        dense_layers = [trial.suggest_int(f\"dense_{i}\", 8, 256) for i in range(num_layers)]\n",
    "        batch_size = trial.suggest_int(\"batch_size\", 128, 768)\n",
    "        lr = trial.suggest_float(\"lr\", 5e-4, 1e-2)\n",
    "        dropout = trial.suggest_float(\"dropout\", 0, 0.2)\n",
    "        regressor_dropout = trial.suggest_float(\"regressor_dropout\", 0, 0.15)\n",
    "\n",
    "    data_loaders = data_utils.get_data_dict(\n",
    "        data_df=data_df,\n",
    "        enc_type=\"palmtree\",\n",
    "        mean=True,\n",
    "        batch_size=batch_size,\n",
    "        split=0.85\n",
    "    )\n",
    "\n",
    "    train_loader = data_loaders[\"train_loader\"]\n",
    "    val_loader = data_loaders[\"val_loader\"]\n",
    "\n",
    "    embedding_size = next(iter(train_loader))[0].shape[-1]\n",
    "\n",
    "    model = models.Simple_Regressor(\n",
    "        embedding_size=embedding_size,\n",
    "        layers=dense_layers,\n",
    "        dropout=dropout,\n",
    "        regressor_dropout=regressor_dropout,\n",
    "    )\n",
    "\n",
    "    train_results = train.train_model(\n",
    "        model=model,\n",
    "        train_loader=train_loader,\n",
    "        val_loader=val_loader,\n",
    "        lr=lr,\n",
    "        epochs=200,\n",
    "        early_stopping=True,\n",
    "    )\n",
    "\n",
    "    val_loss = train_results[\"val_loss\"]\n",
    "\n",
    "    return val_loss[-1]\n",
    "\n",
    "\n",
    "study.optimize(objective, n_trials=100)"
   ]
  },
  {
   "cell_type": "code",
   "execution_count": 41,
   "metadata": {},
   "outputs": [
    {
     "data": {
      "text/html": [
       "<div>\n",
       "<style scoped>\n",
       "    .dataframe tbody tr th:only-of-type {\n",
       "        vertical-align: middle;\n",
       "    }\n",
       "\n",
       "    .dataframe tbody tr th {\n",
       "        vertical-align: top;\n",
       "    }\n",
       "\n",
       "    .dataframe thead th {\n",
       "        text-align: right;\n",
       "    }\n",
       "</style>\n",
       "<table border=\"1\" class=\"dataframe\">\n",
       "  <thead>\n",
       "    <tr style=\"text-align: right;\">\n",
       "      <th></th>\n",
       "      <th>number</th>\n",
       "      <th>value</th>\n",
       "      <th>datetime_start</th>\n",
       "      <th>datetime_complete</th>\n",
       "      <th>duration</th>\n",
       "      <th>params_batch_size</th>\n",
       "      <th>params_dense_0</th>\n",
       "      <th>params_dense_1</th>\n",
       "      <th>params_dense_2</th>\n",
       "      <th>params_dense_layers</th>\n",
       "      <th>params_dropout</th>\n",
       "      <th>params_lr</th>\n",
       "      <th>params_regressor_dropout</th>\n",
       "      <th>state</th>\n",
       "    </tr>\n",
       "  </thead>\n",
       "  <tbody>\n",
       "    <tr>\n",
       "      <th>21</th>\n",
       "      <td>21</td>\n",
       "      <td>1.028067</td>\n",
       "      <td>2023-02-20 17:38:23.520061</td>\n",
       "      <td>2023-02-20 17:38:38.814061</td>\n",
       "      <td>0 days 00:00:15.294000</td>\n",
       "      <td>9</td>\n",
       "      <td>147</td>\n",
       "      <td>100.0</td>\n",
       "      <td>NaN</td>\n",
       "      <td>2</td>\n",
       "      <td>0.128239</td>\n",
       "      <td>0.003665</td>\n",
       "      <td>0.070508</td>\n",
       "      <td>COMPLETE</td>\n",
       "    </tr>\n",
       "    <tr>\n",
       "      <th>25</th>\n",
       "      <td>25</td>\n",
       "      <td>1.048125</td>\n",
       "      <td>2023-02-20 17:39:38.998537</td>\n",
       "      <td>2023-02-20 17:39:41.969131</td>\n",
       "      <td>0 days 00:00:02.970594</td>\n",
       "      <td>42</td>\n",
       "      <td>195</td>\n",
       "      <td>93.0</td>\n",
       "      <td>NaN</td>\n",
       "      <td>2</td>\n",
       "      <td>0.094140</td>\n",
       "      <td>0.008320</td>\n",
       "      <td>0.046991</td>\n",
       "      <td>COMPLETE</td>\n",
       "    </tr>\n",
       "    <tr>\n",
       "      <th>8</th>\n",
       "      <td>8</td>\n",
       "      <td>1.081606</td>\n",
       "      <td>2023-02-20 17:37:25.930309</td>\n",
       "      <td>2023-02-20 17:37:33.820837</td>\n",
       "      <td>0 days 00:00:07.890528</td>\n",
       "      <td>25</td>\n",
       "      <td>25</td>\n",
       "      <td>247.0</td>\n",
       "      <td>129.0</td>\n",
       "      <td>3</td>\n",
       "      <td>0.093078</td>\n",
       "      <td>0.036716</td>\n",
       "      <td>0.036602</td>\n",
       "      <td>COMPLETE</td>\n",
       "    </tr>\n",
       "    <tr>\n",
       "      <th>64</th>\n",
       "      <td>64</td>\n",
       "      <td>1.112874</td>\n",
       "      <td>2023-02-20 17:42:55.045257</td>\n",
       "      <td>2023-02-20 17:43:00.001257</td>\n",
       "      <td>0 days 00:00:04.956000</td>\n",
       "      <td>42</td>\n",
       "      <td>106</td>\n",
       "      <td>NaN</td>\n",
       "      <td>NaN</td>\n",
       "      <td>1</td>\n",
       "      <td>0.050925</td>\n",
       "      <td>0.030405</td>\n",
       "      <td>0.065509</td>\n",
       "      <td>COMPLETE</td>\n",
       "    </tr>\n",
       "    <tr>\n",
       "      <th>33</th>\n",
       "      <td>33</td>\n",
       "      <td>1.121179</td>\n",
       "      <td>2023-02-20 17:40:29.753430</td>\n",
       "      <td>2023-02-20 17:40:35.326126</td>\n",
       "      <td>0 days 00:00:05.572696</td>\n",
       "      <td>45</td>\n",
       "      <td>172</td>\n",
       "      <td>119.0</td>\n",
       "      <td>NaN</td>\n",
       "      <td>2</td>\n",
       "      <td>0.051554</td>\n",
       "      <td>0.015629</td>\n",
       "      <td>0.052171</td>\n",
       "      <td>COMPLETE</td>\n",
       "    </tr>\n",
       "    <tr>\n",
       "      <th>43</th>\n",
       "      <td>43</td>\n",
       "      <td>1.134420</td>\n",
       "      <td>2023-02-20 17:41:15.800524</td>\n",
       "      <td>2023-02-20 17:41:19.366023</td>\n",
       "      <td>0 days 00:00:03.565499</td>\n",
       "      <td>47</td>\n",
       "      <td>195</td>\n",
       "      <td>65.0</td>\n",
       "      <td>NaN</td>\n",
       "      <td>2</td>\n",
       "      <td>0.061834</td>\n",
       "      <td>0.015465</td>\n",
       "      <td>0.072825</td>\n",
       "      <td>COMPLETE</td>\n",
       "    </tr>\n",
       "    <tr>\n",
       "      <th>67</th>\n",
       "      <td>67</td>\n",
       "      <td>1.144105</td>\n",
       "      <td>2023-02-20 17:43:09.100172</td>\n",
       "      <td>2023-02-20 17:43:12.245008</td>\n",
       "      <td>0 days 00:00:03.144836</td>\n",
       "      <td>38</td>\n",
       "      <td>125</td>\n",
       "      <td>NaN</td>\n",
       "      <td>NaN</td>\n",
       "      <td>1</td>\n",
       "      <td>0.074234</td>\n",
       "      <td>0.027692</td>\n",
       "      <td>0.071769</td>\n",
       "      <td>COMPLETE</td>\n",
       "    </tr>\n",
       "    <tr>\n",
       "      <th>34</th>\n",
       "      <td>34</td>\n",
       "      <td>1.147167</td>\n",
       "      <td>2023-02-20 17:40:35.344625</td>\n",
       "      <td>2023-02-20 17:40:37.921625</td>\n",
       "      <td>0 days 00:00:02.577000</td>\n",
       "      <td>39</td>\n",
       "      <td>178</td>\n",
       "      <td>115.0</td>\n",
       "      <td>NaN</td>\n",
       "      <td>2</td>\n",
       "      <td>0.079120</td>\n",
       "      <td>0.015602</td>\n",
       "      <td>0.068800</td>\n",
       "      <td>COMPLETE</td>\n",
       "    </tr>\n",
       "    <tr>\n",
       "      <th>94</th>\n",
       "      <td>94</td>\n",
       "      <td>1.149503</td>\n",
       "      <td>2023-02-20 17:45:29.082828</td>\n",
       "      <td>2023-02-20 17:45:35.593181</td>\n",
       "      <td>0 days 00:00:06.510353</td>\n",
       "      <td>38</td>\n",
       "      <td>200</td>\n",
       "      <td>111.0</td>\n",
       "      <td>NaN</td>\n",
       "      <td>2</td>\n",
       "      <td>0.080498</td>\n",
       "      <td>0.035545</td>\n",
       "      <td>0.069777</td>\n",
       "      <td>COMPLETE</td>\n",
       "    </tr>\n",
       "    <tr>\n",
       "      <th>5</th>\n",
       "      <td>5</td>\n",
       "      <td>1.153466</td>\n",
       "      <td>2023-02-20 17:36:56.031091</td>\n",
       "      <td>2023-02-20 17:37:00.247690</td>\n",
       "      <td>0 days 00:00:04.216599</td>\n",
       "      <td>49</td>\n",
       "      <td>108</td>\n",
       "      <td>NaN</td>\n",
       "      <td>NaN</td>\n",
       "      <td>1</td>\n",
       "      <td>0.020049</td>\n",
       "      <td>0.034665</td>\n",
       "      <td>0.020358</td>\n",
       "      <td>COMPLETE</td>\n",
       "    </tr>\n",
       "  </tbody>\n",
       "</table>\n",
       "</div>"
      ],
      "text/plain": [
       "    number     value             datetime_start          datetime_complete  \\\n",
       "21      21  1.028067 2023-02-20 17:38:23.520061 2023-02-20 17:38:38.814061   \n",
       "25      25  1.048125 2023-02-20 17:39:38.998537 2023-02-20 17:39:41.969131   \n",
       "8        8  1.081606 2023-02-20 17:37:25.930309 2023-02-20 17:37:33.820837   \n",
       "64      64  1.112874 2023-02-20 17:42:55.045257 2023-02-20 17:43:00.001257   \n",
       "33      33  1.121179 2023-02-20 17:40:29.753430 2023-02-20 17:40:35.326126   \n",
       "43      43  1.134420 2023-02-20 17:41:15.800524 2023-02-20 17:41:19.366023   \n",
       "67      67  1.144105 2023-02-20 17:43:09.100172 2023-02-20 17:43:12.245008   \n",
       "34      34  1.147167 2023-02-20 17:40:35.344625 2023-02-20 17:40:37.921625   \n",
       "94      94  1.149503 2023-02-20 17:45:29.082828 2023-02-20 17:45:35.593181   \n",
       "5        5  1.153466 2023-02-20 17:36:56.031091 2023-02-20 17:37:00.247690   \n",
       "\n",
       "                 duration  params_batch_size  params_dense_0  params_dense_1  \\\n",
       "21 0 days 00:00:15.294000                  9             147           100.0   \n",
       "25 0 days 00:00:02.970594                 42             195            93.0   \n",
       "8  0 days 00:00:07.890528                 25              25           247.0   \n",
       "64 0 days 00:00:04.956000                 42             106             NaN   \n",
       "33 0 days 00:00:05.572696                 45             172           119.0   \n",
       "43 0 days 00:00:03.565499                 47             195            65.0   \n",
       "67 0 days 00:00:03.144836                 38             125             NaN   \n",
       "34 0 days 00:00:02.577000                 39             178           115.0   \n",
       "94 0 days 00:00:06.510353                 38             200           111.0   \n",
       "5  0 days 00:00:04.216599                 49             108             NaN   \n",
       "\n",
       "    params_dense_2  params_dense_layers  params_dropout  params_lr  \\\n",
       "21             NaN                    2        0.128239   0.003665   \n",
       "25             NaN                    2        0.094140   0.008320   \n",
       "8            129.0                    3        0.093078   0.036716   \n",
       "64             NaN                    1        0.050925   0.030405   \n",
       "33             NaN                    2        0.051554   0.015629   \n",
       "43             NaN                    2        0.061834   0.015465   \n",
       "67             NaN                    1        0.074234   0.027692   \n",
       "34             NaN                    2        0.079120   0.015602   \n",
       "94             NaN                    2        0.080498   0.035545   \n",
       "5              NaN                    1        0.020049   0.034665   \n",
       "\n",
       "    params_regressor_dropout     state  \n",
       "21                  0.070508  COMPLETE  \n",
       "25                  0.046991  COMPLETE  \n",
       "8                   0.036602  COMPLETE  \n",
       "64                  0.065509  COMPLETE  \n",
       "33                  0.052171  COMPLETE  \n",
       "43                  0.072825  COMPLETE  \n",
       "67                  0.071769  COMPLETE  \n",
       "34                  0.068800  COMPLETE  \n",
       "94                  0.069777  COMPLETE  \n",
       "5                   0.020358  COMPLETE  "
      ]
     },
     "execution_count": 41,
     "metadata": {},
     "output_type": "execute_result"
    }
   ],
   "source": [
    "study.trials_dataframe().sort_values(by=\"value\").head(10)"
   ]
  },
  {
   "cell_type": "code",
   "execution_count": 42,
   "metadata": {},
   "outputs": [
    {
     "name": "stdout",
     "output_type": "stream",
     "text": [
      "Best simple-regressor-model params: {'batch_size': 9, 'dense_0': 147, 'dense_1': 100, 'dense_layers': 2, 'dropout': 0.12823927887709477, 'lr': 0.0036649461023216586, 'regressor_dropout': 0.07050775619817601}, achieving val RMSE: 1.0280674666893193\n"
     ]
    }
   ],
   "source": [
    "print(f\"Best simple-regressor-model params: {study.best_params}, achieving val RMSE: {study.best_value}\")"
   ]
  },
  {
   "attachments": {},
   "cell_type": "markdown",
   "metadata": {},
   "source": [
    "## Model Training"
   ]
  },
  {
   "cell_type": "code",
   "execution_count": 44,
   "metadata": {},
   "outputs": [],
   "source": [
    "batch_size = 9\n",
    "\n",
    "train_params = {\n",
    "    \"lr\":  0.0036,\n",
    "    \"epochs\": 200,\n",
    "    \"early_stopping\": True,\n",
    "}"
   ]
  },
  {
   "cell_type": "code",
   "execution_count": 45,
   "metadata": {},
   "outputs": [
    {
     "name": "stdout",
     "output_type": "stream",
     "text": [
      "Epoch: 1/200, RMSE Train Loss: 1.25124, RMSE Val Loss: 1.03435\n",
      "Epoch: 2/200, RMSE Train Loss: 1.23571, RMSE Val Loss: 1.03294\n",
      "Epoch: 3/200, RMSE Train Loss: 1.22961, RMSE Val Loss: 1.02137\n",
      "Epoch: 4/200, RMSE Train Loss: 1.23097, RMSE Val Loss: 1.02158\n",
      "Epoch: 5/200, RMSE Train Loss: 1.23002, RMSE Val Loss: 1.02264\n",
      "Epoch: 6/200, RMSE Train Loss: 1.23009, RMSE Val Loss: 1.01769\n",
      "Epoch: 7/200, RMSE Train Loss: 1.2309, RMSE Val Loss: 1.01889\n",
      "Epoch: 8/200, RMSE Train Loss: 1.23944, RMSE Val Loss: 1.01896\n",
      "Epoch: 9/200, RMSE Train Loss: 1.22691, RMSE Val Loss: 1.02144\n",
      "Epoch: 10/200, RMSE Train Loss: 1.22068, RMSE Val Loss: 1.00331\n",
      "Epoch: 11/200, RMSE Train Loss: 1.22127, RMSE Val Loss: 1.00904\n",
      "Epoch: 12/200, RMSE Train Loss: 1.22236, RMSE Val Loss: 1.01009\n",
      "Epoch: 13/200, RMSE Train Loss: 1.22204, RMSE Val Loss: 1.01158\n",
      "Epoch: 14/200, RMSE Train Loss: 1.21875, RMSE Val Loss: 1.00845\n",
      "Epoch: 15/200, RMSE Train Loss: 1.22109, RMSE Val Loss: 1.00634\n",
      "Epoch: 16/200, RMSE Train Loss: 1.22136, RMSE Val Loss: 1.01072\n",
      "Epoch: 17/200, RMSE Train Loss: 1.22074, RMSE Val Loss: 1.00729\n",
      "Epoch: 18/200, RMSE Train Loss: 1.21705, RMSE Val Loss: 1.00568\n",
      "Epoch: 19/200, RMSE Train Loss: 1.21655, RMSE Val Loss: 1.00057\n",
      "Epoch: 20/200, RMSE Train Loss: 1.21321, RMSE Val Loss: 0.99887\n",
      "Epoch: 21/200, RMSE Train Loss: 1.21417, RMSE Val Loss: 0.99864\n",
      "Epoch: 22/200, RMSE Train Loss: 1.21344, RMSE Val Loss: 0.99915\n",
      "Epoch: 23/200, RMSE Train Loss: 1.21528, RMSE Val Loss: 1.00029\n",
      "Epoch: 24/200, RMSE Train Loss: 1.21506, RMSE Val Loss: 0.99992\n",
      "Epoch: 25/200, RMSE Train Loss: 1.21626, RMSE Val Loss: 0.99974\n",
      "Epoch: 26/200, RMSE Train Loss: 1.2172, RMSE Val Loss: 1.00058\n",
      "Epoch: 27/200, RMSE Train Loss: 1.21525, RMSE Val Loss: 1.0014\n",
      "Epoch: 28/200, RMSE Train Loss: 1.21349, RMSE Val Loss: 1.00127\n",
      "Epoch: 29/200, RMSE Train Loss: 1.2076, RMSE Val Loss: 1.00139\n",
      "Epoch: 30/200, RMSE Train Loss: 1.21057, RMSE Val Loss: 1.00223\n"
     ]
    }
   ],
   "source": [
    "load = False\n",
    "save = True\n",
    "\n",
    "exp_dir = \"/Users/thodo/Documents/sxoli/diplomatiki/basic-block-energy-prediction/model_checkpoints/simple_palmtree_models/model_no_dupl\"\n",
    "\n",
    "data_loaders = data_utils.get_data_dict(data_df=data_df, enc_type=\"palmtree\", mean=True, batch_size=batch_size)\n",
    "train_loader = data_loaders[\"train_loader\"]\n",
    "val_loader = data_loaders[\"val_loader\"]\n",
    "\n",
    "embedding_size = next(iter(train_loader))[0].shape[-1]\n",
    "\n",
    "model = models.Simple_Regressor(\n",
    "    embedding_size=embedding_size, layers=[147, 100], regressor_dropout=0.07, dropout = 0.13,\n",
    ")\n",
    "\n",
    "if load:\n",
    "    model.load_state_dict(torch.load(f\"{exp_dir}/model\"))\n",
    "else:\n",
    "    train_results = train.train_model(\n",
    "        model=model,\n",
    "        train_loader=train_loader,\n",
    "        val_loader=val_loader,\n",
    "        verbose=True,\n",
    "        **train_params\n",
    "    )\n",
    "    if save:\n",
    "        torch.save(model.state_dict(), f\"{exp_dir}/model\")\n",
    "        additional_attributes = {\n",
    "            \"model_params\": {\"layers\": [147, 100], \"regressor_dropout\": 0.07, \"dropout\": 0.13},\n",
    "            \"train_params\": train_params,\n",
    "            \"loss\": \"RMSE\",\n",
    "            \"batch_size\": batch_size,\n",
    "            \"number of data\": len(train_loader)*batch_size,\n",
    "            #\"test programs\": test_programs.tolist(),\n",
    "            \"train_loss\": train_results[\"train_loss\"],\n",
    "            \"val_loss\": train_results[\"val_loss\"],\n",
    "        }\n",
    "        with open(f\"{exp_dir}/additional_attributes.json\", \"w\") as file:\n",
    "            json.dump(additional_attributes, file, indent=4)"
   ]
  },
  {
   "cell_type": "code",
   "execution_count": 46,
   "metadata": {},
   "outputs": [
    {
     "data": {
      "image/png": "[encoded data removed]",
      "text/plain": [
       "<Figure size 432x288 with 1 Axes>"
      ]
     },
     "metadata": {
      "needs_background": "light"
     },
     "output_type": "display_data"
    }
   ],
   "source": [
    "plt.plot(train_results[\"train_loss\"], label=\"Train RMSE Loss\")\n",
    "plt.plot(train_results[\"val_loss\"], label=\"Val RMSE Loss\")\n",
    "plt.legend()\n",
    "plt.show()"
   ]
  },
  {
   "attachments": {},
   "cell_type": "markdown",
   "metadata": {},
   "source": [
    "## Evaluation"
   ]
  },
  {
   "cell_type": "code",
   "execution_count": 48,
   "metadata": {},
   "outputs": [],
   "source": [
    "pred_dict = evaluate.evaluate(model=model, val_loader=val_loader)\n",
    "preds = pred_dict[\"preds\"]\n",
    "true_energies = pred_dict[\"true_energies\"]"
   ]
  },
  {
   "cell_type": "code",
   "execution_count": 49,
   "metadata": {},
   "outputs": [
    {
     "data": {
      "image/png": "[encoded data removed]",
      "text/plain": [
       "<Figure size 720x360 with 1 Axes>"
      ]
     },
     "metadata": {
      "needs_background": "light"
     },
     "output_type": "display_data"
    }
   ],
   "source": [
    "plt.figure(figsize=(10, 5))\n",
    "plt.hist(preds, bins=100, range=(0,5))\n",
    "plt.title(\"Predictions' energy distribution\")\n",
    "plt.xlabel(\"Energy\")\n",
    "plt.show()"
   ]
  },
  {
   "cell_type": "code",
   "execution_count": 50,
   "metadata": {},
   "outputs": [
    {
     "data": {
      "image/png": "[encoded data removed]",
      "text/plain": [
       "<Figure size 720x360 with 1 Axes>"
      ]
     },
     "metadata": {
      "needs_background": "light"
     },
     "output_type": "display_data"
    }
   ],
   "source": [
    "val_labels = true_energies\n",
    "\n",
    "plt.figure(figsize=(10, 5))\n",
    "plt.hist(val_labels, bins=100, range=(0,5))\n",
    "plt.title(\"Validation labels energy distribution\")\n",
    "plt.xlabel(\"Energy\")\n",
    "plt.show()"
   ]
  },
  {
   "cell_type": "code",
   "execution_count": 51,
   "metadata": {},
   "outputs": [
    {
     "name": "stdout",
     "output_type": "stream",
     "text": [
      "Labels' median: 0.43331117587527235, Labels' std: 1.2233260234571641\n",
      "MSE: 1.373\n",
      "MAE: 0.692\n"
     ]
    }
   ],
   "source": [
    "median = np.median(true_energies)\n",
    "std = np.std(true_energies)\n",
    "mse = round(mean_squared_error(true_energies, preds), 3)\n",
    "mae = round(mean_absolute_error(true_energies, preds), 3)\n",
    "\n",
    "print(f\"Labels' median: {median}, Labels' std: {std}\")\n",
    "print(f\"MSE: {mse}\")\n",
    "print(f\"MAE: {mae}\")"
   ]
  },
  {
   "cell_type": "code",
   "execution_count": 52,
   "metadata": {},
   "outputs": [
    {
     "data": {
      "image/png": "[encoded data removed]",
      "text/plain": [
       "<Figure size 720x360 with 1 Axes>"
      ]
     },
     "metadata": {
      "needs_background": "light"
     },
     "output_type": "display_data"
    }
   ],
   "source": [
    "plt.figure(figsize=(10, 5))\n",
    "plt.title(\"Total energy\")\n",
    "plt.ylabel(\"Energy (*61μJ)\")\n",
    "plt.bar([\"true energy\", \"prediction\"], [sum(true_energies), sum(preds)])\n",
    "plt.show()"
   ]
  },
  {
   "cell_type": "markdown",
   "metadata": {},
   "source": [
    "## Test programs prediction"
   ]
  },
  {
   "cell_type": "code",
   "execution_count": 53,
   "metadata": {},
   "outputs": [],
   "source": [
    "test_embs = [emb.tolist() for emb in test_df.bb_embeddings.tolist()]\n",
    "test_preds = evaluate.predict(model=model, test_bbs=test_embs)\n",
    "true_energies = test_df.energy.values"
   ]
  },
  {
   "cell_type": "code",
   "execution_count": 54,
   "metadata": {},
   "outputs": [
    {
     "name": "stdout",
     "output_type": "stream",
     "text": [
      "Labels' median: 0.41797089442791097, Labels' std: 1.4697779148824242\n",
      "MSE: 2.084\n",
      "MAE: 0.831\n"
     ]
    }
   ],
   "source": [
    "median = np.median(true_energies)\n",
    "std = np.std(true_energies)\n",
    "mse = round(mean_squared_error(true_energies, test_preds), 3)\n",
    "mae = round(mean_absolute_error(true_energies, test_preds), 3)\n",
    "\n",
    "print(f\"Labels' median: {median}, Labels' std: {std}\")\n",
    "print(f\"MSE: {mse}\")\n",
    "print(f\"MAE: {mae}\")"
   ]
  },
  {
   "cell_type": "code",
   "execution_count": null,
   "metadata": {},
   "outputs": [],
   "source": []
  }
 ],
 "metadata": {
  "kernelspec": {
   "display_name": "energy-prediction",
   "language": "python",
   "name": "energy-prediction"
  },
  "language_info": {
   "codemirror_mode": {
    "name": "ipython",
    "version": 3
   },
   "file_extension": ".py",
   "mimetype": "text/x-python",
   "name": "python",
   "nbconvert_exporter": "python",
   "pygments_lexer": "ipython3",
   "version": "3.10.4"
  },
  "orig_nbformat": 4,
  "vscode": {
   "interpreter": {
    "hash": "2d8ea44dacc84c32c3ffb10f5fa42b465f31145cc9ac97a8028dfa96db72aa4c"
   }
  }
 },
 "nbformat": 4,
 "nbformat_minor": 2
}
