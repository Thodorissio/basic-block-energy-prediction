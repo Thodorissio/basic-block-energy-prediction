{
 "cells": [
  {
   "cell_type": "markdown",
   "metadata": {},
   "source": [
    "# Imports"
   ]
  },
  {
   "cell_type": "code",
   "execution_count": 3,
   "metadata": {},
   "outputs": [],
   "source": [
    "import sys\n",
    "from sklearn.metrics.pairwise import cosine_similarity\n",
    "import tensorflow as tf\n",
    "from inst2vec import inst2vec"
   ]
  },
  {
   "cell_type": "markdown",
   "metadata": {},
   "source": [
    "# Block initialization"
   ]
  },
  {
   "cell_type": "markdown",
   "metadata": {},
   "source": [
    "Careful! Inst2vec supports 32bit compilers"
   ]
  },
  {
   "cell_type": "code",
   "execution_count": 14,
   "metadata": {},
   "outputs": [],
   "source": [
    "block_a = \"\"\"push   ebp\n",
    "mov    ebp,esp\n",
    "sub    esp,0x18\n",
    "mov      ebp -0xc ,eax\n",
    "mov      ebp -0x34 ,0x41414141\n",
    "mov      ebp + eax * 4 -0x38 ,0x1\"\"\"\n",
    "\n",
    "block_b = \"\"\"push   ebp\n",
    "mov    ebp,esp\n",
    "mov      ebp -0xc ,eax\n",
    "sub    esp,0x18\n",
    "mov      ebp + eax * 4 -0x38 ,0x1\n",
    "mov      ebp -0x34 ,0x41414141\"\"\""
   ]
  },
  {
   "cell_type": "code",
   "execution_count": 15,
   "metadata": {},
   "outputs": [],
   "source": [
    "emb_a = inst2vec.encode_block(block_a, 5)\n",
    "emb_b = inst2vec.encode_block(block_b, 5)"
   ]
  },
  {
   "cell_type": "code",
   "execution_count": 18,
   "metadata": {},
   "outputs": [],
   "source": [
    "cos_simil = cosine_similarity(emb_a, emb_b)"
   ]
  },
  {
   "cell_type": "code",
   "execution_count": 1,
   "metadata": {},
   "outputs": [],
   "source": [
    "import torch"
   ]
  },
  {
   "cell_type": "code",
   "execution_count": 22,
   "metadata": {},
   "outputs": [
    {
     "data": {
      "text/plain": [
       "array([[ 0.80844039,  0.79272053,  0.52354319,  0.04818513,  0.45429695,\n",
       "         0.47011984],\n",
       "       [ 0.66708152,  0.81390204,  0.43078007,  0.0451232 ,  0.37788683,\n",
       "         0.3910484 ],\n",
       "       [ 0.03786076,  0.02460681,  0.01625129,  0.70504003,  0.15145855,\n",
       "         0.08616801],\n",
       "       [ 0.57608997,  0.56644564,  0.79482519,  0.03896829,  0.67184872,\n",
       "         0.68327143],\n",
       "       [ 0.44904931,  0.44387141,  0.57068153, -0.00997456,  0.5852521 ,\n",
       "         0.79530822],\n",
       "       [ 0.37128639,  0.36700515,  0.51610125,  0.10185834,  0.80398087,\n",
       "         0.55986997]])"
      ]
     },
     "execution_count": 22,
     "metadata": {},
     "output_type": "execute_result"
    }
   ],
   "source": [
    "cos_simil"
   ]
  },
  {
   "cell_type": "code",
   "execution_count": 21,
   "metadata": {},
   "outputs": [
    {
     "data": {
      "text/plain": [
       "6"
      ]
     },
     "execution_count": 21,
     "metadata": {},
     "output_type": "execute_result"
    }
   ],
   "source": [
    "len(emb_a)"
   ]
  },
  {
   "cell_type": "code",
   "execution_count": 19,
   "metadata": {},
   "outputs": [
    {
     "data": {
      "text/plain": [
       "(6, 6)"
      ]
     },
     "execution_count": 19,
     "metadata": {},
     "output_type": "execute_result"
    }
   ],
   "source": [
    "cos_simil.shape"
   ]
  },
  {
   "cell_type": "code",
   "execution_count": null,
   "metadata": {},
   "outputs": [],
   "source": []
  }
 ],
 "metadata": {
  "kernelspec": {
   "display_name": "Python 3.10.4 ('energy-prediction')",
   "language": "python",
   "name": "python3"
  },
  "language_info": {
   "codemirror_mode": {
    "name": "ipython",
    "version": 3
   },
   "file_extension": ".py",
   "mimetype": "text/x-python",
   "name": "python",
   "nbconvert_exporter": "python",
   "pygments_lexer": "ipython3",
   "version": "3.10.4"
  },
  "orig_nbformat": 4,
  "vscode": {
   "interpreter": {
    "hash": "2d8ea44dacc84c32c3ffb10f5fa42b465f31145cc9ac97a8028dfa96db72aa4c"
   }
  }
 },
 "nbformat": 4,
 "nbformat_minor": 2
}
