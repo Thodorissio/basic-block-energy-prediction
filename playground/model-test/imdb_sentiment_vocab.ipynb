{
 "cells": [
  {
   "cell_type": "markdown",
   "metadata": {},
   "source": [
    "# Imports"
   ]
  },
  {
   "cell_type": "code",
   "execution_count": 19,
   "metadata": {},
   "outputs": [],
   "source": [
    "import numpy as np\n",
    "import matplotlib.pyplot as plt\n",
    "import pandas as pd\n",
    "import re\n",
    "import spacy\n",
    "\n",
    "import torch\n",
    "import torch.nn as nn\n",
    "\n",
    "from collections import Counter\n",
    "\n",
    "from torch.nn.utils.rnn import pad_sequence\n",
    "from torch.utils import data\n",
    "\n",
    "from typing import List, Tuple\n",
    "from nltk.corpus import stopwords\n",
    "from sentence_transformers import SentenceTransformer"
   ]
  },
  {
   "cell_type": "code",
   "execution_count": 20,
   "metadata": {},
   "outputs": [
    {
     "data": {
      "text/plain": [
       "<torch._C.Generator at 0x1b6b542e4f0>"
      ]
     },
     "execution_count": 20,
     "metadata": {},
     "output_type": "execute_result"
    }
   ],
   "source": [
    "seed_value = 42\n",
    "np.random.seed(seed_value)\n",
    "torch.manual_seed(42)"
   ]
  },
  {
   "cell_type": "code",
   "execution_count": 21,
   "metadata": {},
   "outputs": [
    {
     "data": {
      "text/plain": [
       "device(type='cuda', index=1)"
      ]
     },
     "execution_count": 21,
     "metadata": {},
     "output_type": "execute_result"
    }
   ],
   "source": [
    "torch.device('cuda:1' if torch.cuda.is_available() else 'cpu')\n",
    "#torch.device('cpu')"
   ]
  },
  {
   "cell_type": "markdown",
   "metadata": {},
   "source": [
    "# Imdb Sentiment Dataset"
   ]
  },
  {
   "cell_type": "code",
   "execution_count": 22,
   "metadata": {},
   "outputs": [
    {
     "data": {
      "text/html": [
       "<div>\n",
       "<style scoped>\n",
       "    .dataframe tbody tr th:only-of-type {\n",
       "        vertical-align: middle;\n",
       "    }\n",
       "\n",
       "    .dataframe tbody tr th {\n",
       "        vertical-align: top;\n",
       "    }\n",
       "\n",
       "    .dataframe thead th {\n",
       "        text-align: right;\n",
       "    }\n",
       "</style>\n",
       "<table border=\"1\" class=\"dataframe\">\n",
       "  <thead>\n",
       "    <tr style=\"text-align: right;\">\n",
       "      <th></th>\n",
       "      <th>review</th>\n",
       "      <th>sentiment</th>\n",
       "    </tr>\n",
       "  </thead>\n",
       "  <tbody>\n",
       "    <tr>\n",
       "      <th>0</th>\n",
       "      <td>One of the other reviewers has mentioned that after watching just 1 Oz episode you'll be hooked. They are right, as this is exactly what happened with me.&lt;br /&gt;&lt;br /&gt;The first thing that struck me about Oz was its brutality and unflinching scenes of violence, which set in right from the word GO. Trust me, this is not a show for the faint hearted or timid. This show pulls no punches with regard...</td>\n",
       "      <td>1</td>\n",
       "    </tr>\n",
       "    <tr>\n",
       "      <th>1</th>\n",
       "      <td>A wonderful little production. &lt;br /&gt;&lt;br /&gt;The filming technique is very unassuming- very old-time-BBC fashion and gives a comforting, and sometimes discomforting, sense of realism to the entire piece. &lt;br /&gt;&lt;br /&gt;The actors are extremely well chosen- Michael Sheen not only \"has got all the polari\" but he has all the voices down pat too! You can truly see the seamless editing guided by the ref...</td>\n",
       "      <td>1</td>\n",
       "    </tr>\n",
       "    <tr>\n",
       "      <th>2</th>\n",
       "      <td>I thought this was a wonderful way to spend time on a too hot summer weekend, sitting in the air conditioned theater and watching a light-hearted comedy. The plot is simplistic, but the dialogue is witty and the characters are likable (even the well bread suspected serial killer). While some may be disappointed when they realize this is not Match Point 2: Risk Addiction, I thought it was proof...</td>\n",
       "      <td>1</td>\n",
       "    </tr>\n",
       "    <tr>\n",
       "      <th>3</th>\n",
       "      <td>Basically there's a family where a little boy (Jake) thinks there's a zombie in his closet &amp; his parents are fighting all the time.&lt;br /&gt;&lt;br /&gt;This movie is slower than a soap opera... and suddenly, Jake decides to become Rambo and kill the zombie.&lt;br /&gt;&lt;br /&gt;OK, first of all when you're going to make a film you must Decide if its a thriller or a drama! As a drama the movie is watchable. Paren...</td>\n",
       "      <td>0</td>\n",
       "    </tr>\n",
       "    <tr>\n",
       "      <th>4</th>\n",
       "      <td>Petter Mattei's \"Love in the Time of Money\" is a visually stunning film to watch. Mr. Mattei offers us a vivid portrait about human relations. This is a movie that seems to be telling us what money, power and success do to people in the different situations we encounter. &lt;br /&gt;&lt;br /&gt;This being a variation on the Arthur Schnitzler's play about the same theme, the director transfers the action t...</td>\n",
       "      <td>1</td>\n",
       "    </tr>\n",
       "  </tbody>\n",
       "</table>\n",
       "</div>"
      ],
      "text/plain": [
       "                                                                                                                                                                                                                                                                                                                                                                                                            review  \\\n",
       "0  One of the other reviewers has mentioned that after watching just 1 Oz episode you'll be hooked. They are right, as this is exactly what happened with me.<br /><br />The first thing that struck me about Oz was its brutality and unflinching scenes of violence, which set in right from the word GO. Trust me, this is not a show for the faint hearted or timid. This show pulls no punches with regard...   \n",
       "1  A wonderful little production. <br /><br />The filming technique is very unassuming- very old-time-BBC fashion and gives a comforting, and sometimes discomforting, sense of realism to the entire piece. <br /><br />The actors are extremely well chosen- Michael Sheen not only \"has got all the polari\" but he has all the voices down pat too! You can truly see the seamless editing guided by the ref...   \n",
       "2  I thought this was a wonderful way to spend time on a too hot summer weekend, sitting in the air conditioned theater and watching a light-hearted comedy. The plot is simplistic, but the dialogue is witty and the characters are likable (even the well bread suspected serial killer). While some may be disappointed when they realize this is not Match Point 2: Risk Addiction, I thought it was proof...   \n",
       "3  Basically there's a family where a little boy (Jake) thinks there's a zombie in his closet & his parents are fighting all the time.<br /><br />This movie is slower than a soap opera... and suddenly, Jake decides to become Rambo and kill the zombie.<br /><br />OK, first of all when you're going to make a film you must Decide if its a thriller or a drama! As a drama the movie is watchable. Paren...   \n",
       "4  Petter Mattei's \"Love in the Time of Money\" is a visually stunning film to watch. Mr. Mattei offers us a vivid portrait about human relations. This is a movie that seems to be telling us what money, power and success do to people in the different situations we encounter. <br /><br />This being a variation on the Arthur Schnitzler's play about the same theme, the director transfers the action t...   \n",
       "\n",
       "   sentiment  \n",
       "0          1  \n",
       "1          1  \n",
       "2          1  \n",
       "3          0  \n",
       "4          1  "
      ]
     },
     "metadata": {},
     "output_type": "display_data"
    }
   ],
   "source": [
    "imdb_df = pd.read_pickle(\"../../dataset/imdb/IMDB_Dataset.pkl\").drop(columns=\"sentence_emb\")\n",
    "\n",
    "with pd.option_context(\"display.max_colwidth\", 400):\n",
    "    display(imdb_df.head(5))"
   ]
  },
  {
   "cell_type": "markdown",
   "metadata": {},
   "source": [
    "We clean the reviews, create the vocab and tokenize the data"
   ]
  },
  {
   "cell_type": "code",
   "execution_count": 23,
   "metadata": {},
   "outputs": [],
   "source": [
    "imdb_df = imdb_df[:10000]"
   ]
  },
  {
   "cell_type": "code",
   "execution_count": 24,
   "metadata": {},
   "outputs": [],
   "source": [
    "cached_stopwords = stopwords.words(\"english\")\n",
    "nlp = spacy.load(\"en_core_web_sm\")\n",
    "\n",
    "def clean_text(text: str) -> str:\n",
    "\n",
    "    text = text.lower()\n",
    "    #removes everything that's not a string\n",
    "    text = re.sub(r\"[^a-zA-z\\s]\", '', text)\n",
    "    text = ' '.join([word for word in text.split() if word not in cached_stopwords])\n",
    "\n",
    "    return text"
   ]
  },
  {
   "cell_type": "code",
   "execution_count": 25,
   "metadata": {},
   "outputs": [],
   "source": [
    "cleaned_text = imdb_df[\"review\"].map(clean_text)"
   ]
  },
  {
   "cell_type": "code",
   "execution_count": 26,
   "metadata": {},
   "outputs": [
    {
     "data": {
      "image/png": "[encoded data removed]",
      "text/plain": [
       "<Figure size 1500x900 with 1 Axes>"
      ]
     },
     "metadata": {},
     "output_type": "display_data"
    }
   ],
   "source": [
    "word_counts = cleaned_text.apply(lambda x: len(x.split())).values\n",
    "\n",
    "plt.figure(figsize=(15,9))\n",
    "plt.title(\"Number of words histogram\")\n",
    "plt.xlabel(\"Number of words\")\n",
    "plt.ylabel(\"Reviews\")\n",
    "plt.hist(word_counts, bins=50)\n",
    "plt.show()"
   ]
  },
  {
   "cell_type": "code",
   "execution_count": 27,
   "metadata": {},
   "outputs": [],
   "source": [
    "corpus = \" \".join(cleaned_text.tolist())\n",
    "corpus = corpus.split()\n",
    "counts = Counter(corpus)\n",
    "\n",
    "vocab = {word: i for i, (word, _) in enumerate(counts.most_common(20000), start=1)}\n",
    "vocab[\"UNK\"] = 0\n",
    "vocab[\"PAD\"] = vocab[max(vocab, key=vocab.get)] + 1"
   ]
  },
  {
   "cell_type": "markdown",
   "metadata": {},
   "source": [
    "We remove outliers in order to have more balanced padded sequences"
   ]
  },
  {
   "cell_type": "code",
   "execution_count": 28,
   "metadata": {},
   "outputs": [],
   "source": [
    "MAX_SEQUENCE = 256\n",
    "\n",
    "def encode_review(text: str, vocab: dict) -> list:\n",
    "\n",
    "    words = text.split()\n",
    "\n",
    "    encoded = []\n",
    "    for word in words[:MAX_SEQUENCE]:\n",
    "        if word in vocab.keys():\n",
    "            encoded.append(vocab[word])\n",
    "        else:\n",
    "            encoded.append(vocab[\"UNK\"])\n",
    "    \n",
    "    if len(words) < MAX_SEQUENCE:\n",
    "        encoded.extend([vocab[\"PAD\"] for i in range(len(words), MAX_SEQUENCE)])\n",
    " \n",
    "    return encoded"
   ]
  },
  {
   "cell_type": "code",
   "execution_count": 29,
   "metadata": {},
   "outputs": [],
   "source": [
    "imdb_df[\"encoded_review\"] = cleaned_text.apply(lambda x: encode_review(x, vocab))"
   ]
  },
  {
   "cell_type": "markdown",
   "metadata": {},
   "source": [
    "# Torch dataset preprocessing"
   ]
  },
  {
   "cell_type": "code",
   "execution_count": 30,
   "metadata": {},
   "outputs": [],
   "source": [
    "class IMDB_Dataset(data.Dataset):\n",
    "\tdef __init__(self, data_df: pd.DataFrame):\n",
    "\t\tsuper().__init__()\n",
    "\t\tx = data_df.encoded_review.values\n",
    "\t\ty = data_df.sentiment.values\n",
    "\t\tself.x_train = list(map(lambda x: torch.tensor(x), x))\n",
    "\t\tself.y_train = list(map(lambda y: torch.tensor(y), y))\n",
    "\n",
    "\tdef __len__(self):\n",
    "\t\treturn len(self.y_train)\n",
    "\n",
    "\tdef __getitem__(self, idx: int):\n",
    "\t\treturn self.x_train[idx], self.y_train[idx]"
   ]
  },
  {
   "cell_type": "code",
   "execution_count": 31,
   "metadata": {},
   "outputs": [],
   "source": [
    "split = 0.8\n",
    "\n",
    "imdb_df_train = imdb_df[:int(0.8 * len(imdb_df))]\n",
    "imdb_df_val = imdb_df[int(0.8 * len(imdb_df)):]"
   ]
  },
  {
   "cell_type": "code",
   "execution_count": 32,
   "metadata": {},
   "outputs": [],
   "source": [
    "BATCH_SIZE = 64\n",
    "\n",
    "train_data = IMDB_Dataset(imdb_df_train)\n",
    "train_loader = data.DataLoader(train_data, batch_size=BATCH_SIZE, shuffle=True, drop_last=True)\n",
    "\n",
    "val_data = IMDB_Dataset(imdb_df_val)\n",
    "val_loader = data.DataLoader(val_data, batch_size=BATCH_SIZE, shuffle=True, drop_last=True)"
   ]
  },
  {
   "cell_type": "markdown",
   "metadata": {},
   "source": [
    "# Model"
   ]
  },
  {
   "cell_type": "code",
   "execution_count": 33,
   "metadata": {},
   "outputs": [],
   "source": [
    "class LSTM_Classifier(nn.Module):\n",
    "\n",
    "    def __init__(self, vector_size: int, hidden_size: int = 16, num_layers: int = 2, bidirectional: bool = False) -> None:\n",
    "        super().__init__()\n",
    "\n",
    "        self.num_layers = num_layers\n",
    "        self.hidden_size = hidden_size\n",
    "\n",
    "        self.embedding = nn.Embedding(vector_size, 128)\n",
    "\n",
    "        self.lstm = nn.LSTM(\n",
    "            input_size=128,\n",
    "            hidden_size=hidden_size,\n",
    "            num_layers=num_layers,\n",
    "            bidirectional=bidirectional,\n",
    "            batch_first=True,\n",
    "            dropout=0.1,\n",
    "        )\n",
    "\n",
    "        self.dense = nn.Linear(hidden_size, 128)\n",
    "        #It will change to regressor\n",
    "        self.dropout = nn.Dropout(0.1)\n",
    "        self.smaller_dense = nn.Linear(128, 16)\n",
    "        self.classifier = nn.Linear(16, 1)\n",
    "        self.sigmoid = nn.Sigmoid()\n",
    "\n",
    "    def forward(self, x, hidden):\n",
    "        \n",
    "        batch_size = x.size(0)\n",
    "        \n",
    "        embeddings = self.embedding(x)\n",
    "        lstm_out, hidden_state = self.lstm(embeddings, hidden)\n",
    "        lstm_out = lstm_out.contiguous().view(-1, self.hidden_size)\n",
    "\n",
    "        out = self.dense(lstm_out)\n",
    "        out = self.dropout(out)\n",
    "        out = self.smaller_dense(out)\n",
    "        out = self.classifier(out)\n",
    "        out = self.sigmoid(out)\n",
    "\n",
    "        out = out.view(batch_size, -1)\n",
    "        out = out[:, -1]\n",
    "\n",
    "        return out, hidden_state\n",
    "\n",
    "    def init_hidden(self, batch_size):\n",
    "        \n",
    "        hidden = (torch.zeros((self.num_layers, batch_size, self.hidden_size)).cuda(),\n",
    "                  torch.zeros((self.num_layers, batch_size, self.hidden_size)).cuda())\n",
    "        \n",
    "        return hidden"
   ]
  },
  {
   "cell_type": "code",
   "execution_count": 34,
   "metadata": {},
   "outputs": [
    {
     "name": "stdout",
     "output_type": "stream",
     "text": [
      "LSTM_Classifier(\n",
      "  (embedding): Embedding(20002, 128)\n",
      "  (lstm): LSTM(128, 256, num_layers=10, batch_first=True, dropout=0.1)\n",
      "  (dense): Linear(in_features=256, out_features=128, bias=True)\n",
      "  (dropout): Dropout(p=0.1, inplace=False)\n",
      "  (smaller_dense): Linear(in_features=128, out_features=16, bias=True)\n",
      "  (classifier): Linear(in_features=16, out_features=1, bias=True)\n",
      "  (sigmoid): Sigmoid()\n",
      ")\n"
     ]
    }
   ],
   "source": [
    "VECTOR_DIM = len(vocab)\n",
    "NUM_LAYERS = 10\n",
    "HIDDEN_DIM = 256\n",
    "\n",
    "model = LSTM_Classifier(vector_size=VECTOR_DIM, hidden_size=HIDDEN_DIM, num_layers=NUM_LAYERS)\n",
    "print(model)"
   ]
  },
  {
   "cell_type": "markdown",
   "metadata": {},
   "source": [
    "# Training"
   ]
  },
  {
   "cell_type": "code",
   "execution_count": 38,
   "metadata": {},
   "outputs": [
    {
     "data": {
      "text/plain": [
       "tensor([1., 1., 1., 1., 1., 1., 1., 1., 1., 1., 1., 1., 1., 1., 1., 1., 1., 1.,\n",
       "        1., 1., 1., 1., 1., 1., 1., 1., 1., 1., 1., 1., 1., 1., 1., 1., 1., 1.,\n",
       "        1., 1., 1., 1., 1., 1., 1., 1., 1., 1., 1., 1., 1., 1., 1., 1., 1., 1.,\n",
       "        1., 1., 1., 1., 1., 1., 1., 1., 1., 1.], device='cuda:0',\n",
       "       grad_fn=<SqueezeBackward0>)"
      ]
     },
     "execution_count": 38,
     "metadata": {},
     "output_type": "execute_result"
    }
   ],
   "source": [
    "output.squeeze()"
   ]
  },
  {
   "cell_type": "code",
   "execution_count": 35,
   "metadata": {},
   "outputs": [
    {
     "name": "stdout",
     "output_type": "stream",
     "text": [
      "Epoch: 1/10... Loss: 43.750000... Val Loss: 48.790323 Accuracy: 0.562500 Val accuracy: 0.484375\n",
      "Epoch: 2/10... Loss: 46.875000... Val Loss: 48.689516 Accuracy: 0.531250 Val accuracy: 0.531250\n",
      "Epoch: 3/10... Loss: 54.687500... Val Loss: 48.790323 Accuracy: 0.453125 Val accuracy: 0.546875\n",
      "Epoch: 4/10... Loss: 37.500000... Val Loss: 48.891129 Accuracy: 0.625000 Val accuracy: 0.578125\n",
      "Epoch: 4/10... Loss: 53.125000... Val Loss: 48.739919 Accuracy: 0.468750 Val accuracy: 0.546875\n",
      "Epoch: 5/10... Loss: 48.437500... Val Loss: 48.689516 Accuracy: 0.515625 Val accuracy: 0.468750\n",
      "Epoch: 6/10... Loss: 54.687500... Val Loss: 48.891129 Accuracy: 0.453125 Val accuracy: 0.562500\n",
      "Epoch: 7/10... Loss: 48.437500... Val Loss: 48.739919 Accuracy: 0.515625 Val accuracy: 0.671875\n",
      "Epoch: 8/10... Loss: 46.875000... Val Loss: 48.790323 Accuracy: 0.531250 Val accuracy: 0.546875\n",
      "Epoch: 8/10... Loss: 42.187500... Val Loss: 48.739919 Accuracy: 0.578125 Val accuracy: 0.515625\n",
      "Epoch: 9/10... Loss: 43.750000... Val Loss: 48.739919 Accuracy: 0.562500 Val accuracy: 0.515625\n",
      "Epoch: 10/10... Loss: 53.125000... Val Loss: 48.588710 Accuracy: 0.468750 Val accuracy: 0.468750\n"
     ]
    }
   ],
   "source": [
    "EPOCHS = 10\n",
    "\n",
    "criterion = nn.BCELoss()\n",
    "optimizer = torch.optim.Adam(params=model.parameters(), lr=5e-2)\n",
    "\n",
    "model.cuda()\n",
    "model.train()\n",
    "\n",
    "cnt = 0\n",
    "\n",
    "train_loss = []\n",
    "val_loss = []\n",
    "\n",
    "train_accuracy = []\n",
    "val_accuracy = []\n",
    "\n",
    "for epoch in range(EPOCHS):\n",
    "    hidden_state = model.init_hidden(batch_size=BATCH_SIZE)\n",
    "\n",
    "    for embeddings, labels in train_loader:\n",
    "        cnt += 1\n",
    "\n",
    "        embeddings = embeddings.cuda()\n",
    "        labels = labels.cuda()\n",
    "\n",
    "        hidden_state = tuple([each.data for each in hidden_state])\n",
    "\n",
    "        model.zero_grad()\n",
    "\n",
    "        output, hidden_state = model(embeddings, hidden_state)\n",
    "\n",
    "        loss = criterion(output.squeeze(), labels.float())\n",
    "        loss.backward()\n",
    "\n",
    "        train_acc = torch.sum(output.squeeze() == labels.float()) / labels.shape[0]\n",
    "\n",
    "        nn.utils.clip_grad_norm_(model.parameters(), max_norm=5)\n",
    "        optimizer.step()\n",
    "\n",
    "        if cnt % 100 == 0:\n",
    "            val_h = model.init_hidden(BATCH_SIZE)\n",
    "            val_losses = []\n",
    "            val_accs = []\n",
    "            model.eval()\n",
    "            for embeddings, labels in val_loader:\n",
    "\n",
    "                # Creating new variables for the hidden state, otherwise\n",
    "                # we'd backprop through the entire training history\n",
    "\n",
    "                embeddings, labels = embeddings.cuda(), labels.cuda()  \n",
    "                output, val_h = model(embeddings, val_h)\n",
    "                v_loss = criterion(output.squeeze(), labels.float())\n",
    "\n",
    "                val_losses.append(v_loss.item())\n",
    "                \n",
    "                val_acc = torch.sum(output.squeeze() == labels.float()) / labels.shape[0]\n",
    "                val_accs.append(val_acc.cpu())\n",
    "\n",
    "            model.train()\n",
    "            print(\n",
    "                \"Epoch: {}/{}...\".format(epoch+1, EPOCHS),\n",
    "                \"Loss: {:.6f}...\".format(loss.item()),\n",
    "                \"Val Loss: {:.6f}\".format(np.mean(val_losses)),\n",
    "                \"Accuracy: {:.6f}\".format(train_acc),\n",
    "                \"Val accuracy: {:.6f}\".format(val_acc),\n",
    "            )\n",
    "\n",
    "    train_loss.append(round(loss.item(), 2))\n",
    "    val_loss.append(np.mean(val_losses))\n",
    "    \n",
    "    train_accuracy.append(round(train_acc.item(), 2))\n",
    "    val_accuracy.append(np.mean(val_accs))"
   ]
  },
  {
   "cell_type": "code",
   "execution_count": 36,
   "metadata": {},
   "outputs": [
    {
     "data": {
      "image/png": "[encoded data removed]",
      "text/plain": [
       "<Figure size 640x480 with 1 Axes>"
      ]
     },
     "metadata": {},
     "output_type": "display_data"
    }
   ],
   "source": [
    "plt.plot(train_loss)\n",
    "plt.show()"
   ]
  },
  {
   "cell_type": "code",
   "execution_count": 37,
   "metadata": {},
   "outputs": [
    {
     "data": {
      "image/png": "[encoded data removed]",
      "text/plain": [
       "<Figure size 640x480 with 1 Axes>"
      ]
     },
     "metadata": {},
     "output_type": "display_data"
    }
   ],
   "source": [
    "plt.plot(val_loss)\n",
    "plt.show()"
   ]
  },
  {
   "cell_type": "code",
   "execution_count": null,
   "metadata": {},
   "outputs": [],
   "source": []
  }
 ],
 "metadata": {
  "kernelspec": {
   "display_name": "Python 3.10.4 ('energy-prediction')",
   "language": "python",
   "name": "python3"
  },
  "language_info": {
   "codemirror_mode": {
    "name": "ipython",
    "version": 3
   },
   "file_extension": ".py",
   "mimetype": "text/x-python",
   "name": "python",
   "nbconvert_exporter": "python",
   "pygments_lexer": "ipython3",
   "version": "3.10.4"
  },
  "orig_nbformat": 4,
  "vscode": {
   "interpreter": {
    "hash": "2d8ea44dacc84c32c3ffb10f5fa42b465f31145cc9ac97a8028dfa96db72aa4c"
   }
  }
 },
 "nbformat": 4,
 "nbformat_minor": 2
}
