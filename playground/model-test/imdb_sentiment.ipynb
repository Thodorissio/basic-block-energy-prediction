{
 "cells": [
  {
   "cell_type": "markdown",
   "metadata": {},
   "source": [
    "# Imports"
   ]
  },
  {
   "cell_type": "code",
   "execution_count": 1,
   "metadata": {},
   "outputs": [],
   "source": [
    "import numpy as np\n",
    "import matplotlib.pyplot as plt\n",
    "import pandas as pd\n",
    "import sys\n",
    "import string\n",
    "import re\n",
    "import spacy\n",
    "\n",
    "import torch\n",
    "import torchtext\n",
    "import torch.nn.functional as F\n",
    "import torch.nn as nn\n",
    "\n",
    "from torch.nn.utils.rnn import pad_sequence\n",
    "from torch.utils import data\n",
    "\n",
    "from typing import List, Tuple\n",
    "from nltk.corpus import stopwords\n",
    "from sklearn.model_selection import train_test_split\n",
    "from sentence_transformers import SentenceTransformer"
   ]
  },
  {
   "cell_type": "code",
   "execution_count": 2,
   "metadata": {},
   "outputs": [
    {
     "data": {
      "text/plain": [
       "<torch._C.Generator at 0x19f0936e4d0>"
      ]
     },
     "execution_count": 2,
     "metadata": {},
     "output_type": "execute_result"
    }
   ],
   "source": [
    "seed_value = 42\n",
    "np.random.seed(seed_value)\n",
    "torch.manual_seed(42)"
   ]
  },
  {
   "cell_type": "code",
   "execution_count": 3,
   "metadata": {},
   "outputs": [
    {
     "data": {
      "text/plain": [
       "device(type='cuda', index=1)"
      ]
     },
     "execution_count": 3,
     "metadata": {},
     "output_type": "execute_result"
    }
   ],
   "source": [
    "torch.device('cuda:1' if torch.cuda.is_available() else 'cpu')"
   ]
  },
  {
   "cell_type": "code",
   "execution_count": 4,
   "metadata": {},
   "outputs": [
    {
     "data": {
      "application/vnd.jupyter.widget-view+json": {
       "model_id": "fd3cab532d3a401cb043706d71261908",
       "version_major": 2,
       "version_minor": 0
      },
      "text/plain": [
       "Downloading:   0%|          | 0.00/268M [00:00<?, ?B/s]"
      ]
     },
     "metadata": {},
     "output_type": "display_data"
    },
    {
     "name": "stderr",
     "output_type": "stream",
     "text": [
      "No sentence-transformers model found with name C:\\Users\\thodo/.cache\\torch\\sentence_transformers\\distilbert-base-uncased. Creating a new one with MEAN pooling.\n",
      "Some weights of the model checkpoint at C:\\Users\\thodo/.cache\\torch\\sentence_transformers\\distilbert-base-uncased were not used when initializing DistilBertModel: ['vocab_transform.bias', 'vocab_projector.bias', 'vocab_layer_norm.weight', 'vocab_transform.weight', 'vocab_layer_norm.bias', 'vocab_projector.weight']\n",
      "- This IS expected if you are initializing DistilBertModel from the checkpoint of a model trained on another task or with another architecture (e.g. initializing a BertForSequenceClassification model from a BertForPreTraining model).\n",
      "- This IS NOT expected if you are initializing DistilBertModel from the checkpoint of a model that you expect to be exactly identical (initializing a BertForSequenceClassification model from a BertForSequenceClassification model).\n"
     ]
    }
   ],
   "source": [
    "embedder = SentenceTransformer('distilbert-base-uncased')"
   ]
  },
  {
   "cell_type": "markdown",
   "metadata": {},
   "source": [
    "# Imdb Sentiment Dataset"
   ]
  },
  {
   "cell_type": "code",
   "execution_count": 5,
   "metadata": {},
   "outputs": [
    {
     "data": {
      "text/html": [
       "<div>\n",
       "<style scoped>\n",
       "    .dataframe tbody tr th:only-of-type {\n",
       "        vertical-align: middle;\n",
       "    }\n",
       "\n",
       "    .dataframe tbody tr th {\n",
       "        vertical-align: top;\n",
       "    }\n",
       "\n",
       "    .dataframe thead th {\n",
       "        text-align: right;\n",
       "    }\n",
       "</style>\n",
       "<table border=\"1\" class=\"dataframe\">\n",
       "  <thead>\n",
       "    <tr style=\"text-align: right;\">\n",
       "      <th></th>\n",
       "      <th>review</th>\n",
       "      <th>sentiment</th>\n",
       "      <th>sentence_emb</th>\n",
       "    </tr>\n",
       "  </thead>\n",
       "  <tbody>\n",
       "    <tr>\n",
       "      <th>0</th>\n",
       "      <td>One of the other reviewers has mentioned that after watching just 1 Oz episode you'll be hooked. They are right, as this is exactly what happened with me.&lt;br /&gt;&lt;br /&gt;The first thing that struck me about Oz was its brutality and unflinching scenes of violence, which set in right from the word GO. Trust me, this is not a show for the faint hearted or timid. This show pulls no punches with regard...</td>\n",
       "      <td>1</td>\n",
       "      <td>[[0.09089168, -0.4312202, 0.1777808, 0.1753257, 0.010759091, -0.2005085, 0.27599016, 0.011884959, 0.1604453, 0.009299543, 0.015030084, -0.49475184, -0.065348625, 0.49401504, -0.23960969, 0.15926929, -0.20532832, 0.030412113, 0.05766108, -0.22485304, 0.27855358, -0.018322121, 0.13812914, 0.43427724, 0.060281295, -0.024984688, 0.0249288, 0.032104444, -0.04274006, 0.014333263, 0.26901242, 0.08142...</td>\n",
       "    </tr>\n",
       "    <tr>\n",
       "      <th>1</th>\n",
       "      <td>A wonderful little production. &lt;br /&gt;&lt;br /&gt;The filming technique is very unassuming- very old-time-BBC fashion and gives a comforting, and sometimes discomforting, sense of realism to the entire piece. &lt;br /&gt;&lt;br /&gt;The actors are extremely well chosen- Michael Sheen not only \"has got all the polari\" but he has all the voices down pat too! You can truly see the seamless editing guided by the ref...</td>\n",
       "      <td>1</td>\n",
       "      <td>[[0.2853191, 0.057061363, 0.042166166, 0.13712347, 0.17624079, -0.15170047, 0.24842091, 0.17267507, -0.31290993, 0.023059662, 0.17683989, -0.09073657, 0.14903301, 0.3341152, -0.48877758, 0.20374289, -0.041120946, 0.011611046, 0.23244858, 0.10206763, 0.028922752, -0.18585025, -0.037554085, 0.13713314, -0.11816621, 0.03302314, -0.18856438, 0.013541361, -0.09795467, -0.2878638, 0.002981597, -0.23...</td>\n",
       "    </tr>\n",
       "    <tr>\n",
       "      <th>2</th>\n",
       "      <td>I thought this was a wonderful way to spend time on a too hot summer weekend, sitting in the air conditioned theater and watching a light-hearted comedy. The plot is simplistic, but the dialogue is witty and the characters are likable (even the well bread suspected serial killer). While some may be disappointed when they realize this is not Match Point 2: Risk Addiction, I thought it was proof...</td>\n",
       "      <td>1</td>\n",
       "      <td>[[0.19506094, 0.097519375, 0.3727303, 0.2985809, 0.3672494, -0.5289307, 0.14659134, 0.5963879, -0.29258925, -0.08868644, 0.11438061, -0.51627177, 0.020654097, 0.63030845, -0.3607591, 0.2991171, 0.2333256, 0.010175151, -0.008443773, 0.07752572, 0.16881564, -0.219349, 0.049629763, 0.25214517, 0.16993673, -0.20031397, -0.13826323, 0.1332187, -0.09899445, -0.03486871, 0.23277263, 0.22499402, -0.30...</td>\n",
       "    </tr>\n",
       "    <tr>\n",
       "      <th>3</th>\n",
       "      <td>Basically there's a family where a little boy (Jake) thinks there's a zombie in his closet &amp; his parents are fighting all the time.&lt;br /&gt;&lt;br /&gt;This movie is slower than a soap opera... and suddenly, Jake decides to become Rambo and kill the zombie.&lt;br /&gt;&lt;br /&gt;OK, first of all when you're going to make a film you must Decide if its a thriller or a drama! As a drama the movie is watchable. Paren...</td>\n",
       "      <td>0</td>\n",
       "      <td>[[0.0427402, 0.12809429, 0.2550377, 0.05013602, 0.29409963, -0.26337156, 0.40411872, 0.48837852, -0.22514482, -0.19391909, 0.028690057, -0.44648886, -0.10186345, 0.4054166, -0.36775997, 0.24085608, 0.17206536, 0.13304281, -0.06260124, 0.21000642, 0.1427837, 0.020737944, 0.02691934, 0.22508955, 0.0688116, 0.072792776, -0.0029568062, -0.0058495323, 0.030911652, -0.11351004, 0.28191015, -0.059242...</td>\n",
       "    </tr>\n",
       "    <tr>\n",
       "      <th>4</th>\n",
       "      <td>Petter Mattei's \"Love in the Time of Money\" is a visually stunning film to watch. Mr. Mattei offers us a vivid portrait about human relations. This is a movie that seems to be telling us what money, power and success do to people in the different situations we encounter. &lt;br /&gt;&lt;br /&gt;This being a variation on the Arthur Schnitzler's play about the same theme, the director transfers the action t...</td>\n",
       "      <td>1</td>\n",
       "      <td>[[0.1531858, 0.016678736, 0.13898519, -0.010198899, 0.5159583, -0.032689616, -0.0020918075, 0.10085743, -0.12875439, 0.008747719, -0.024052795, -0.39607537, -0.07622185, 0.41865686, 0.033066906, 0.22057773, -0.07895011, 0.09162722, -0.15987928, 0.022043578, 0.064352065, -0.1500818, 0.22927344, 0.2703989, -0.0029290563, 0.05384951, -0.010061471, -0.02173951, -0.13135871, 0.13669881, 0.3235692, ...</td>\n",
       "    </tr>\n",
       "  </tbody>\n",
       "</table>\n",
       "</div>"
      ],
      "text/plain": [
       "                                                                                                                                                                                                                                                                                                                                                                                                            review  \\\n",
       "0  One of the other reviewers has mentioned that after watching just 1 Oz episode you'll be hooked. They are right, as this is exactly what happened with me.<br /><br />The first thing that struck me about Oz was its brutality and unflinching scenes of violence, which set in right from the word GO. Trust me, this is not a show for the faint hearted or timid. This show pulls no punches with regard...   \n",
       "1  A wonderful little production. <br /><br />The filming technique is very unassuming- very old-time-BBC fashion and gives a comforting, and sometimes discomforting, sense of realism to the entire piece. <br /><br />The actors are extremely well chosen- Michael Sheen not only \"has got all the polari\" but he has all the voices down pat too! You can truly see the seamless editing guided by the ref...   \n",
       "2  I thought this was a wonderful way to spend time on a too hot summer weekend, sitting in the air conditioned theater and watching a light-hearted comedy. The plot is simplistic, but the dialogue is witty and the characters are likable (even the well bread suspected serial killer). While some may be disappointed when they realize this is not Match Point 2: Risk Addiction, I thought it was proof...   \n",
       "3  Basically there's a family where a little boy (Jake) thinks there's a zombie in his closet & his parents are fighting all the time.<br /><br />This movie is slower than a soap opera... and suddenly, Jake decides to become Rambo and kill the zombie.<br /><br />OK, first of all when you're going to make a film you must Decide if its a thriller or a drama! As a drama the movie is watchable. Paren...   \n",
       "4  Petter Mattei's \"Love in the Time of Money\" is a visually stunning film to watch. Mr. Mattei offers us a vivid portrait about human relations. This is a movie that seems to be telling us what money, power and success do to people in the different situations we encounter. <br /><br />This being a variation on the Arthur Schnitzler's play about the same theme, the director transfers the action t...   \n",
       "\n",
       "   sentiment  \\\n",
       "0          1   \n",
       "1          1   \n",
       "2          1   \n",
       "3          0   \n",
       "4          1   \n",
       "\n",
       "                                                                                                                                                                                                                                                                                                                                                                                                      sentence_emb  \n",
       "0  [[0.09089168, -0.4312202, 0.1777808, 0.1753257, 0.010759091, -0.2005085, 0.27599016, 0.011884959, 0.1604453, 0.009299543, 0.015030084, -0.49475184, -0.065348625, 0.49401504, -0.23960969, 0.15926929, -0.20532832, 0.030412113, 0.05766108, -0.22485304, 0.27855358, -0.018322121, 0.13812914, 0.43427724, 0.060281295, -0.024984688, 0.0249288, 0.032104444, -0.04274006, 0.014333263, 0.26901242, 0.08142...  \n",
       "1  [[0.2853191, 0.057061363, 0.042166166, 0.13712347, 0.17624079, -0.15170047, 0.24842091, 0.17267507, -0.31290993, 0.023059662, 0.17683989, -0.09073657, 0.14903301, 0.3341152, -0.48877758, 0.20374289, -0.041120946, 0.011611046, 0.23244858, 0.10206763, 0.028922752, -0.18585025, -0.037554085, 0.13713314, -0.11816621, 0.03302314, -0.18856438, 0.013541361, -0.09795467, -0.2878638, 0.002981597, -0.23...  \n",
       "2  [[0.19506094, 0.097519375, 0.3727303, 0.2985809, 0.3672494, -0.5289307, 0.14659134, 0.5963879, -0.29258925, -0.08868644, 0.11438061, -0.51627177, 0.020654097, 0.63030845, -0.3607591, 0.2991171, 0.2333256, 0.010175151, -0.008443773, 0.07752572, 0.16881564, -0.219349, 0.049629763, 0.25214517, 0.16993673, -0.20031397, -0.13826323, 0.1332187, -0.09899445, -0.03486871, 0.23277263, 0.22499402, -0.30...  \n",
       "3  [[0.0427402, 0.12809429, 0.2550377, 0.05013602, 0.29409963, -0.26337156, 0.40411872, 0.48837852, -0.22514482, -0.19391909, 0.028690057, -0.44648886, -0.10186345, 0.4054166, -0.36775997, 0.24085608, 0.17206536, 0.13304281, -0.06260124, 0.21000642, 0.1427837, 0.020737944, 0.02691934, 0.22508955, 0.0688116, 0.072792776, -0.0029568062, -0.0058495323, 0.030911652, -0.11351004, 0.28191015, -0.059242...  \n",
       "4  [[0.1531858, 0.016678736, 0.13898519, -0.010198899, 0.5159583, -0.032689616, -0.0020918075, 0.10085743, -0.12875439, 0.008747719, -0.024052795, -0.39607537, -0.07622185, 0.41865686, 0.033066906, 0.22057773, -0.07895011, 0.09162722, -0.15987928, 0.022043578, 0.064352065, -0.1500818, 0.22927344, 0.2703989, -0.0029290563, 0.05384951, -0.010061471, -0.02173951, -0.13135871, 0.13669881, 0.3235692, ...  "
      ]
     },
     "metadata": {},
     "output_type": "display_data"
    }
   ],
   "source": [
    "imdb_df = pd.read_pickle(\"../../dataset/imdb/IMDB_Dataset.pkl\")\n",
    "\n",
    "with pd.option_context(\"display.max_colwidth\", 400):\n",
    "    display(imdb_df.head(5))"
   ]
  },
  {
   "cell_type": "markdown",
   "metadata": {},
   "source": [
    "We clean the sentences and get their embeddings"
   ]
  },
  {
   "cell_type": "code",
   "execution_count": 6,
   "metadata": {},
   "outputs": [],
   "source": [
    "cached_stopwords = stopwords.words(\"english\")\n",
    "nlp = spacy.load(\"en_core_web_sm\")\n",
    "\n",
    "def clean_text(text: str) -> str:\n",
    "\n",
    "    text = text.lower()\n",
    "    text = ' '.join([word for word in text.split() if word not in cached_stopwords])\n",
    "    text = re.sub(\"<br /><br />\", \"\", text)\n",
    "    text = re.sub(\"\\\\t\", \"\", text)\n",
    "    sentences = text.split(\".\")\n",
    "    sentences_clean = [el for el in sentences if el != '']\n",
    "\n",
    "    return sentences_clean\n",
    "\n",
    "def encode_sentences(sentences: List) -> np.ndarray:\n",
    "    return np.array([embedder.encode(sentence) for sentence in sentences]).squeeze()"
   ]
  },
  {
   "cell_type": "code",
   "execution_count": 7,
   "metadata": {},
   "outputs": [],
   "source": [
    "if \"sentence_emb\" not in imdb_df.columns:\n",
    "    clean_features = imdb_df[\"review\"].map(clean_text)\n",
    "    encoded_features = clean_features.map(encode_sentences)\n",
    "\n",
    "    imdb_df.insert(2, \"sentence_emb\", encoded_features)\n",
    "    imdb_df.to_pickle(\"../../dataset/imdb/IMDB_Dataset.pkl\")"
   ]
  },
  {
   "cell_type": "code",
   "execution_count": 8,
   "metadata": {},
   "outputs": [
    {
     "data": {
      "image/png": "[encoded data removed]",
      "text/plain": [
       "<Figure size 1500x900 with 1 Axes>"
      ]
     },
     "metadata": {},
     "output_type": "display_data"
    }
   ],
   "source": [
    "sentence_counts = imdb_df[\"sentence_emb\"].apply(lambda x: len(x)).values\n",
    "\n",
    "plt.figure(figsize=(15,9))\n",
    "plt.title(\"Number of sentences histogram\")\n",
    "plt.xlabel(\"Number of sentences\")\n",
    "plt.ylabel(\"Reviews\")\n",
    "plt.hist(sentence_counts, bins=50)\n",
    "plt.show()"
   ]
  },
  {
   "cell_type": "code",
   "execution_count": 9,
   "metadata": {},
   "outputs": [
    {
     "data": {
      "image/png": "[encoded data removed]",
      "text/plain": [
       "<Figure size 1500x900 with 1 Axes>"
      ]
     },
     "metadata": {},
     "output_type": "display_data"
    }
   ],
   "source": [
    "plt.figure(figsize=(15,9))\n",
    "plt.title(\"Number of sentences histogram\")\n",
    "plt.xlabel(\"Number of sentences\")\n",
    "plt.ylabel(\"Reviews\")\n",
    "plt.hist(sentence_counts, bins=50, range=(0, 100))\n",
    "plt.show()"
   ]
  },
  {
   "cell_type": "markdown",
   "metadata": {},
   "source": [
    "We remove outliers in order to have more balanced padded sequences"
   ]
  },
  {
   "cell_type": "code",
   "execution_count": 10,
   "metadata": {},
   "outputs": [],
   "source": [
    "MAX_SENTENCES = 40\n",
    "\n",
    "imdb_df = imdb_df[imdb_df[\"sentence_emb\"].apply(lambda x: len(x)) <= MAX_SENTENCES]\n",
    "imdb_df = imdb_df.reset_index(drop=True)"
   ]
  },
  {
   "cell_type": "code",
   "execution_count": 11,
   "metadata": {},
   "outputs": [
    {
     "data": {
      "text/html": [
       "<div>\n",
       "<style scoped>\n",
       "    .dataframe tbody tr th:only-of-type {\n",
       "        vertical-align: middle;\n",
       "    }\n",
       "\n",
       "    .dataframe tbody tr th {\n",
       "        vertical-align: top;\n",
       "    }\n",
       "\n",
       "    .dataframe thead th {\n",
       "        text-align: right;\n",
       "    }\n",
       "</style>\n",
       "<table border=\"1\" class=\"dataframe\">\n",
       "  <thead>\n",
       "    <tr style=\"text-align: right;\">\n",
       "      <th></th>\n",
       "      <th>review</th>\n",
       "      <th>sentiment</th>\n",
       "      <th>sentence_emb</th>\n",
       "    </tr>\n",
       "  </thead>\n",
       "  <tbody>\n",
       "    <tr>\n",
       "      <th>0</th>\n",
       "      <td>One of the other reviewers has mentioned that ...</td>\n",
       "      <td>1</td>\n",
       "      <td>[[0.09089168, -0.4312202, 0.1777808, 0.1753257...</td>\n",
       "    </tr>\n",
       "    <tr>\n",
       "      <th>1</th>\n",
       "      <td>A wonderful little production. &lt;br /&gt;&lt;br /&gt;The...</td>\n",
       "      <td>1</td>\n",
       "      <td>[[0.2853191, 0.057061363, 0.042166166, 0.13712...</td>\n",
       "    </tr>\n",
       "    <tr>\n",
       "      <th>2</th>\n",
       "      <td>I thought this was a wonderful way to spend ti...</td>\n",
       "      <td>1</td>\n",
       "      <td>[[0.19506094, 0.097519375, 0.3727303, 0.298580...</td>\n",
       "    </tr>\n",
       "    <tr>\n",
       "      <th>3</th>\n",
       "      <td>Basically there's a family where a little boy ...</td>\n",
       "      <td>0</td>\n",
       "      <td>[[0.0427402, 0.12809429, 0.2550377, 0.05013602...</td>\n",
       "    </tr>\n",
       "    <tr>\n",
       "      <th>4</th>\n",
       "      <td>Petter Mattei's \"Love in the Time of Money\" is...</td>\n",
       "      <td>1</td>\n",
       "      <td>[[0.1531858, 0.016678736, 0.13898519, -0.01019...</td>\n",
       "    </tr>\n",
       "    <tr>\n",
       "      <th>...</th>\n",
       "      <td>...</td>\n",
       "      <td>...</td>\n",
       "      <td>...</td>\n",
       "    </tr>\n",
       "    <tr>\n",
       "      <th>49029</th>\n",
       "      <td>I thought this movie did a down right good job...</td>\n",
       "      <td>1</td>\n",
       "      <td>[[0.29426384, -0.030755641, 0.1506957, 0.05701...</td>\n",
       "    </tr>\n",
       "    <tr>\n",
       "      <th>49030</th>\n",
       "      <td>Bad plot, bad dialogue, bad acting, idiotic di...</td>\n",
       "      <td>0</td>\n",
       "      <td>[[0.1237758, 0.34100595, 0.108573504, 0.204343...</td>\n",
       "    </tr>\n",
       "    <tr>\n",
       "      <th>49031</th>\n",
       "      <td>I am a Catholic taught in parochial elementary...</td>\n",
       "      <td>0</td>\n",
       "      <td>[[0.073877886, 0.26723263, -0.05526765, 0.0664...</td>\n",
       "    </tr>\n",
       "    <tr>\n",
       "      <th>49032</th>\n",
       "      <td>I'm going to have to disagree with the previou...</td>\n",
       "      <td>0</td>\n",
       "      <td>[[0.20457241, 0.006086063, -0.0152296955, -0.0...</td>\n",
       "    </tr>\n",
       "    <tr>\n",
       "      <th>49033</th>\n",
       "      <td>No one expects the Star Trek movies to be high...</td>\n",
       "      <td>0</td>\n",
       "      <td>[[0.15729195, -0.14443451, 0.30782685, 0.12746...</td>\n",
       "    </tr>\n",
       "  </tbody>\n",
       "</table>\n",
       "<p>49034 rows × 3 columns</p>\n",
       "</div>"
      ],
      "text/plain": [
       "                                                  review  sentiment  \\\n",
       "0      One of the other reviewers has mentioned that ...          1   \n",
       "1      A wonderful little production. <br /><br />The...          1   \n",
       "2      I thought this was a wonderful way to spend ti...          1   \n",
       "3      Basically there's a family where a little boy ...          0   \n",
       "4      Petter Mattei's \"Love in the Time of Money\" is...          1   \n",
       "...                                                  ...        ...   \n",
       "49029  I thought this movie did a down right good job...          1   \n",
       "49030  Bad plot, bad dialogue, bad acting, idiotic di...          0   \n",
       "49031  I am a Catholic taught in parochial elementary...          0   \n",
       "49032  I'm going to have to disagree with the previou...          0   \n",
       "49033  No one expects the Star Trek movies to be high...          0   \n",
       "\n",
       "                                            sentence_emb  \n",
       "0      [[0.09089168, -0.4312202, 0.1777808, 0.1753257...  \n",
       "1      [[0.2853191, 0.057061363, 0.042166166, 0.13712...  \n",
       "2      [[0.19506094, 0.097519375, 0.3727303, 0.298580...  \n",
       "3      [[0.0427402, 0.12809429, 0.2550377, 0.05013602...  \n",
       "4      [[0.1531858, 0.016678736, 0.13898519, -0.01019...  \n",
       "...                                                  ...  \n",
       "49029  [[0.29426384, -0.030755641, 0.1506957, 0.05701...  \n",
       "49030  [[0.1237758, 0.34100595, 0.108573504, 0.204343...  \n",
       "49031  [[0.073877886, 0.26723263, -0.05526765, 0.0664...  \n",
       "49032  [[0.20457241, 0.006086063, -0.0152296955, -0.0...  \n",
       "49033  [[0.15729195, -0.14443451, 0.30782685, 0.12746...  \n",
       "\n",
       "[49034 rows x 3 columns]"
      ]
     },
     "execution_count": 11,
     "metadata": {},
     "output_type": "execute_result"
    }
   ],
   "source": [
    "imdb_df"
   ]
  },
  {
   "cell_type": "markdown",
   "metadata": {},
   "source": [
    "# Torch dataset preprocessing"
   ]
  },
  {
   "cell_type": "code",
   "execution_count": 12,
   "metadata": {},
   "outputs": [],
   "source": [
    "class IMDB_Dataset(data.Dataset):\n",
    "\tdef __init__(self, data_df: pd.DataFrame):\n",
    "\t\tsuper().__init__()\n",
    "\t\tx = data_df.sentence_emb.values\n",
    "\t\ty = data_df.sentiment.values\n",
    "\t\tself.x_train = list(map(lambda x: torch.tensor(x), x))\n",
    "\t\tself.y_train = list(map(lambda y: torch.tensor(y), y))\n",
    "\n",
    "\tdef __len__(self):\n",
    "\t\treturn len(self.y_train)\n",
    "\n",
    "\tdef __getitem__(self, idx: int):\n",
    "\t\treturn self.x_train[idx], self.y_train[idx]"
   ]
  },
  {
   "cell_type": "code",
   "execution_count": 13,
   "metadata": {},
   "outputs": [],
   "source": [
    "def collate_fn(data: List[Tuple[torch.Tensor, torch.Tensor]]):\n",
    "\n",
    "    data.sort(key=lambda x: x[0].shape[0], reverse=True)\n",
    "    sequences, label = zip(*data)\n",
    "    lengths = [len(seq) for seq in sequences]\n",
    "    padded_seq = pad_sequence(sequences, batch_first=True, padding_value=0)\n",
    "    \n",
    "    return padded_seq, torch.from_numpy(np.array(lengths)), torch.from_numpy(np.array(label))"
   ]
  },
  {
   "cell_type": "code",
   "execution_count": 14,
   "metadata": {},
   "outputs": [],
   "source": [
    "split = 0.8\n",
    "\n",
    "imdb_df_train = imdb_df[:int(0.8 * len(imdb_df))]\n",
    "imdb_df_val = imdb_df[int(0.8 * len(imdb_df)):]"
   ]
  },
  {
   "cell_type": "code",
   "execution_count": 15,
   "metadata": {},
   "outputs": [],
   "source": [
    "BATCH_SIZE = 64\n",
    "\n",
    "train_data = IMDB_Dataset(imdb_df_train)\n",
    "train_loader = data.DataLoader(train_data, batch_size=BATCH_SIZE, shuffle=False, collate_fn=collate_fn, drop_last=True)\n",
    "\n",
    "val_data = IMDB_Dataset(imdb_df_val)\n",
    "val_loader = data.DataLoader(val_data, batch_size=BATCH_SIZE, shuffle=False, collate_fn=collate_fn, drop_last=True)"
   ]
  },
  {
   "cell_type": "markdown",
   "metadata": {},
   "source": [
    "# Model"
   ]
  },
  {
   "cell_type": "code",
   "execution_count": 32,
   "metadata": {},
   "outputs": [],
   "source": [
    "class LSTM_Classifier(nn.Module):\n",
    "\n",
    "    def __init__(self, emb_size: int, hidden_size: int = 16, num_layers: int = 2, bidirectional: bool = False) -> None:\n",
    "        super().__init__()\n",
    "\n",
    "        self.num_layers = num_layers\n",
    "        self.hidden_size = hidden_size\n",
    "\n",
    "        self.lstm = nn.LSTM(\n",
    "            input_size=emb_size,\n",
    "            hidden_size=hidden_size,\n",
    "            num_layers=num_layers,\n",
    "            bidirectional=bidirectional,\n",
    "            batch_first=True,\n",
    "            dropout=0.1,\n",
    "        )\n",
    "\n",
    "        self.dense = nn.Linear(hidden_size, 16)\n",
    "        #It will change to regressor\n",
    "        self.classifier = nn.Linear(16, 1)\n",
    "        self.tanh = nn.Tanh()\n",
    "\n",
    "    def forward(self, x, hidden):\n",
    "        \n",
    "        batch_size = x.size(0)\n",
    "        \n",
    "        lstm_out, hidden_state = self.lstm(x, hidden)\n",
    "        lstm_out = lstm_out.contiguous().view(-1, self.hidden_size)\n",
    "\n",
    "        out = self.dense(lstm_out)\n",
    "        out = self.classifier(out)\n",
    "        out = self.tanh(out)\n",
    "\n",
    "        out = out.view(batch_size, -1)\n",
    "        out = out[:, -1]\n",
    "\n",
    "        return out, hidden_state\n",
    "\n",
    "    def init_hidden(self, batch_size):\n",
    "\n",
    "        hidden = (torch.zeros((self.num_layers, batch_size, self.hidden_size)).cuda(),\n",
    "                  torch.zeros((self.num_layers, batch_size, self.hidden_size)).cuda())\n",
    "        \n",
    "        return hidden"
   ]
  },
  {
   "cell_type": "code",
   "execution_count": 33,
   "metadata": {},
   "outputs": [
    {
     "name": "stdout",
     "output_type": "stream",
     "text": [
      "LSTM_Classifier(\n",
      "  (lstm): LSTM(768, 256, num_layers=10, batch_first=True, dropout=0.1)\n",
      "  (dense): Linear(in_features=256, out_features=16, bias=True)\n",
      "  (classifier): Linear(in_features=16, out_features=1, bias=True)\n",
      "  (tanh): Tanh()\n",
      ")\n"
     ]
    }
   ],
   "source": [
    "EMBEDDING_DIM = train_data.__getitem__(0)[0][0].shape[0]\n",
    "NUM_LAYERS = 10\n",
    "HIDDEN_DIM = 256\n",
    "\n",
    "model = LSTM_Classifier(emb_size=EMBEDDING_DIM, hidden_size=HIDDEN_DIM, num_layers=NUM_LAYERS)\n",
    "print(model)"
   ]
  },
  {
   "cell_type": "markdown",
   "metadata": {},
   "source": [
    "# Training"
   ]
  },
  {
   "cell_type": "code",
   "execution_count": 34,
   "metadata": {},
   "outputs": [
    {
     "name": "stdout",
     "output_type": "stream",
     "text": [
      "Epoch: 1/10... Loss: 176.166321... Val Loss: 130.710746\n",
      "Epoch: 1/10... Loss: 144.389557... Val Loss: 129.108431\n",
      "Epoch: 1/10... Loss: 117.225014... Val Loss: 127.062397\n",
      "Epoch: 1/10... Loss: 126.551704... Val Loss: 125.298849\n",
      "Epoch: 1/10... Loss: 125.212250... Val Loss: 124.933607\n",
      "Epoch: 1/10... Loss: 139.714005... Val Loss: 125.174496\n",
      "Epoch: 2/10... Loss: 118.670380... Val Loss: 124.283173\n",
      "Epoch: 2/10... Loss: 115.578239... Val Loss: 124.019691\n",
      "Epoch: 2/10... Loss: 135.979340... Val Loss: 125.507373\n",
      "Epoch: 2/10... Loss: 104.430023... Val Loss: 124.009983\n",
      "Epoch: 2/10... Loss: 142.136002... Val Loss: 123.806810\n",
      "Epoch: 2/10... Loss: 113.613922... Val Loss: 123.906683\n",
      "Epoch: 3/10... Loss: 103.187180... Val Loss: 123.780209\n",
      "Epoch: 3/10... Loss: 84.911194... Val Loss: 124.577728\n",
      "Epoch: 3/10... Loss: 108.652496... Val Loss: 123.780160\n",
      "Epoch: 3/10... Loss: 133.278015... Val Loss: 123.427149\n",
      "Epoch: 3/10... Loss: 118.130234... Val Loss: 123.261969\n",
      "Epoch: 3/10... Loss: 128.861633... Val Loss: 123.630277\n",
      "Epoch: 4/10... Loss: 113.493256... Val Loss: 123.574622\n",
      "Epoch: 4/10... Loss: 103.710297... Val Loss: 123.305446\n",
      "Epoch: 4/10... Loss: 100.254181... Val Loss: 123.448090\n",
      "Epoch: 4/10... Loss: 132.800690... Val Loss: 123.716229\n",
      "Epoch: 4/10... Loss: 131.759705... Val Loss: 123.304400\n",
      "Epoch: 4/10... Loss: 120.969620... Val Loss: 123.254239\n",
      "Epoch: 5/10... Loss: 152.300568... Val Loss: 123.319364\n",
      "Epoch: 5/10... Loss: 158.055298... Val Loss: 123.543322\n",
      "Epoch: 5/10... Loss: 113.510696... Val Loss: 122.922144\n",
      "Epoch: 5/10... Loss: 96.277298... Val Loss: 122.897790\n",
      "Epoch: 5/10... Loss: 132.761215... Val Loss: 122.910133\n",
      "Epoch: 5/10... Loss: 113.176605... Val Loss: 123.091362\n",
      "Epoch: 6/10... Loss: 108.322235... Val Loss: 122.932642\n",
      "Epoch: 6/10... Loss: 101.355782... Val Loss: 122.908098\n",
      "Epoch: 6/10... Loss: 154.839874... Val Loss: 123.211075\n",
      "Epoch: 6/10... Loss: 123.832497... Val Loss: 122.893324\n",
      "Epoch: 6/10... Loss: 107.355148... Val Loss: 122.695697\n",
      "Epoch: 6/10... Loss: 121.019691... Val Loss: 123.994994\n",
      "Epoch: 7/10... Loss: 109.630417... Val Loss: 122.693461\n",
      "Epoch: 7/10... Loss: 133.056885... Val Loss: 123.098425\n",
      "Epoch: 7/10... Loss: 96.492340... Val Loss: 122.707166\n",
      "Epoch: 7/10... Loss: 140.800171... Val Loss: 123.001617\n",
      "Epoch: 7/10... Loss: 106.404648... Val Loss: 123.075709\n",
      "Epoch: 7/10... Loss: 174.355469... Val Loss: 123.683859\n",
      "Epoch: 8/10... Loss: 96.402054... Val Loss: 122.770160\n",
      "Epoch: 8/10... Loss: 94.354614... Val Loss: 122.796304\n",
      "Epoch: 8/10... Loss: 103.199821... Val Loss: 122.857805\n",
      "Epoch: 8/10... Loss: 131.999222... Val Loss: 123.611756\n",
      "Epoch: 8/10... Loss: 109.739769... Val Loss: 123.198828\n",
      "Epoch: 8/10... Loss: 120.377907... Val Loss: 123.002823\n",
      "Epoch: 9/10... Loss: 112.077538... Val Loss: 122.760797\n",
      "Epoch: 9/10... Loss: 122.638550... Val Loss: 122.669377\n",
      "Epoch: 9/10... Loss: 126.836777... Val Loss: 122.457955\n",
      "Epoch: 9/10... Loss: 126.886398... Val Loss: 122.893634\n",
      "Epoch: 9/10... Loss: 127.435562... Val Loss: 122.709195\n",
      "Epoch: 9/10... Loss: 132.416565... Val Loss: 123.110314\n",
      "Epoch: 9/10... Loss: 107.495285... Val Loss: 122.461551\n",
      "Epoch: 10/10... Loss: 105.595589... Val Loss: 122.376544\n",
      "Epoch: 10/10... Loss: 140.490723... Val Loss: 122.518159\n",
      "Epoch: 10/10... Loss: 138.486130... Val Loss: 123.495148\n",
      "Epoch: 10/10... Loss: 143.982666... Val Loss: 123.613267\n",
      "Epoch: 10/10... Loss: 136.303436... Val Loss: 123.128546\n",
      "Epoch: 10/10... Loss: 112.407310... Val Loss: 122.409343\n"
     ]
    }
   ],
   "source": [
    "EPOCHS = 10\n",
    "\n",
    "criterion = nn.CrossEntropyLoss()\n",
    "optimizer = torch.optim.Adam(params=model.parameters(), lr=1e-4)\n",
    "\n",
    "model.cuda()\n",
    "model.train()\n",
    "\n",
    "cnt = 0\n",
    "\n",
    "train_loss = []\n",
    "val_loss = []\n",
    "\n",
    "for epoch in range(EPOCHS):\n",
    "    hidden_state = model.init_hidden(batch_size=BATCH_SIZE)\n",
    "\n",
    "    for embeddings, _, labels in train_loader:\n",
    "        cnt += 1\n",
    "\n",
    "        embeddings = embeddings.cuda()\n",
    "        labels = labels.cuda()\n",
    "\n",
    "        hidden_state = tuple([each.data for each in hidden_state])\n",
    "\n",
    "        model.zero_grad()\n",
    "\n",
    "        output, hidden_state = model(embeddings, hidden_state)\n",
    "\n",
    "        loss = criterion(output.squeeze(), labels.float())\n",
    "        loss.backward()\n",
    "\n",
    "        nn.utils.clip_grad_norm_(model.parameters(), max_norm=5)\n",
    "        optimizer.step()\n",
    "\n",
    "        if cnt % 100 == 0:\n",
    "            val_h = model.init_hidden(BATCH_SIZE)\n",
    "            val_losses = []\n",
    "            model.eval()\n",
    "            for embeddings, _, labels in val_loader:\n",
    "\n",
    "                # Creating new variables for the hidden state, otherwise\n",
    "                # we'd backprop through the entire training history\n",
    "                #val_h = tuple([each.data for each in val_h])\n",
    "\n",
    "                embeddings, labels = embeddings.cuda(), labels.cuda()  \n",
    "                output, val_h = model(embeddings, val_h)\n",
    "                v_loss = criterion(output.squeeze(), labels.float())\n",
    "\n",
    "                val_losses.append(v_loss.item())\n",
    "\n",
    "            model.train()\n",
    "            print(\n",
    "                \"Epoch: {}/{}...\".format(epoch+1, EPOCHS),\n",
    "                \"Loss: {:.6f}...\".format(loss.item()),\n",
    "                \"Val Loss: {:.6f}\".format(np.mean(val_losses))\n",
    "            )\n",
    "\n",
    "    train_loss.append(round(loss.item(), 2))\n",
    "    val_loss.append(np.mean(val_losses))"
   ]
  },
  {
   "cell_type": "code",
   "execution_count": 35,
   "metadata": {},
   "outputs": [
    {
     "data": {
      "image/png": "[encoded data removed]",
      "text/plain": [
       "<Figure size 640x480 with 1 Axes>"
      ]
     },
     "metadata": {},
     "output_type": "display_data"
    }
   ],
   "source": [
    "plt.plot(train_loss)\n",
    "plt.show()"
   ]
  },
  {
   "cell_type": "code",
   "execution_count": 36,
   "metadata": {},
   "outputs": [
    {
     "data": {
      "image/png": "[encoded data removed]",
      "text/plain": [
       "<Figure size 640x480 with 1 Axes>"
      ]
     },
     "metadata": {},
     "output_type": "display_data"
    }
   ],
   "source": [
    "plt.plot(val_loss)\n",
    "plt.show()"
   ]
  },
  {
   "cell_type": "code",
   "execution_count": null,
   "metadata": {},
   "outputs": [],
   "source": []
  }
 ],
 "metadata": {
  "kernelspec": {
   "display_name": "Python 3.10.4 ('energy-prediction')",
   "language": "python",
   "name": "python3"
  },
  "language_info": {
   "codemirror_mode": {
    "name": "ipython",
    "version": 3
   },
   "file_extension": ".py",
   "mimetype": "text/x-python",
   "name": "python",
   "nbconvert_exporter": "python",
   "pygments_lexer": "ipython3",
   "version": "3.10.4"
  },
  "orig_nbformat": 4,
  "vscode": {
   "interpreter": {
    "hash": "2d8ea44dacc84c32c3ffb10f5fa42b465f31145cc9ac97a8028dfa96db72aa4c"
   }
  }
 },
 "nbformat": 4,
 "nbformat_minor": 2
}
