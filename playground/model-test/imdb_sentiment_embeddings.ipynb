{
 "cells": [
  {
   "cell_type": "markdown",
   "metadata": {},
   "source": [
    "# Imports"
   ]
  },
  {
   "cell_type": "code",
   "execution_count": 1,
   "metadata": {},
   "outputs": [],
   "source": [
    "import numpy as np\n",
    "import matplotlib.pyplot as plt\n",
    "import pandas as pd\n",
    "import re\n",
    "import spacy\n",
    "\n",
    "import torch\n",
    "import torch.nn as nn\n",
    "\n",
    "from torch.nn.utils.rnn import pad_sequence\n",
    "from torch.utils import data\n",
    "\n",
    "from typing import List, Tuple\n",
    "from nltk.corpus import stopwords\n",
    "from sentence_transformers import SentenceTransformer"
   ]
  },
  {
   "cell_type": "code",
   "execution_count": 2,
   "metadata": {},
   "outputs": [
    {
     "data": {
      "text/plain": [
       "<torch._C.Generator at 0x248ee1e2350>"
      ]
     },
     "execution_count": 2,
     "metadata": {},
     "output_type": "execute_result"
    }
   ],
   "source": [
    "seed_value = 42\n",
    "np.random.seed(seed_value)\n",
    "torch.manual_seed(42)"
   ]
  },
  {
   "cell_type": "code",
   "execution_count": 3,
   "metadata": {},
   "outputs": [
    {
     "data": {
      "text/plain": [
       "device(type='cuda', index=1)"
      ]
     },
     "execution_count": 3,
     "metadata": {},
     "output_type": "execute_result"
    }
   ],
   "source": [
    "torch.device('cuda:1' if torch.cuda.is_available() else 'cpu')"
   ]
  },
  {
   "cell_type": "code",
   "execution_count": 4,
   "metadata": {},
   "outputs": [],
   "source": [
    "embedder = SentenceTransformer('all-MiniLM-L6-v2')"
   ]
  },
  {
   "cell_type": "markdown",
   "metadata": {},
   "source": [
    "# Imdb Sentiment Dataset"
   ]
  },
  {
   "cell_type": "code",
   "execution_count": 5,
   "metadata": {},
   "outputs": [
    {
     "data": {
      "text/plain": [
       "array([[0.6546832]], dtype=float32)"
      ]
     },
     "execution_count": 5,
     "metadata": {},
     "output_type": "execute_result"
    }
   ],
   "source": [
    "from sklearn.metrics.pairwise import cosine_similarity\n",
    "\n",
    "emb_a = embedder.encode([\"A wonderful movie\"])\n",
    "emb_b = embedder.encode([\"The film was amazing\"])\n",
    "\n",
    "cosine_similarity(emb_a, emb_b)"
   ]
  },
  {
   "cell_type": "code",
   "execution_count": 6,
   "metadata": {},
   "outputs": [
    {
     "data": {
      "text/html": [
       "<div>\n",
       "<style scoped>\n",
       "    .dataframe tbody tr th:only-of-type {\n",
       "        vertical-align: middle;\n",
       "    }\n",
       "\n",
       "    .dataframe tbody tr th {\n",
       "        vertical-align: top;\n",
       "    }\n",
       "\n",
       "    .dataframe thead th {\n",
       "        text-align: right;\n",
       "    }\n",
       "</style>\n",
       "<table border=\"1\" class=\"dataframe\">\n",
       "  <thead>\n",
       "    <tr style=\"text-align: right;\">\n",
       "      <th></th>\n",
       "      <th>review</th>\n",
       "      <th>sentiment</th>\n",
       "    </tr>\n",
       "  </thead>\n",
       "  <tbody>\n",
       "    <tr>\n",
       "      <th>0</th>\n",
       "      <td>One of the other reviewers has mentioned that after watching just 1 Oz episode you'll be hooked. They are right, as this is exactly what happened with me.&lt;br /&gt;&lt;br /&gt;The first thing that struck me about Oz was its brutality and unflinching scenes of violence, which set in right from the word GO. Trust me, this is not a show for the faint hearted or timid. This show pulls no punches with regard...</td>\n",
       "      <td>1</td>\n",
       "    </tr>\n",
       "    <tr>\n",
       "      <th>1</th>\n",
       "      <td>A wonderful little production. &lt;br /&gt;&lt;br /&gt;The filming technique is very unassuming- very old-time-BBC fashion and gives a comforting, and sometimes discomforting, sense of realism to the entire piece. &lt;br /&gt;&lt;br /&gt;The actors are extremely well chosen- Michael Sheen not only \"has got all the polari\" but he has all the voices down pat too! You can truly see the seamless editing guided by the ref...</td>\n",
       "      <td>1</td>\n",
       "    </tr>\n",
       "    <tr>\n",
       "      <th>2</th>\n",
       "      <td>I thought this was a wonderful way to spend time on a too hot summer weekend, sitting in the air conditioned theater and watching a light-hearted comedy. The plot is simplistic, but the dialogue is witty and the characters are likable (even the well bread suspected serial killer). While some may be disappointed when they realize this is not Match Point 2: Risk Addiction, I thought it was proof...</td>\n",
       "      <td>1</td>\n",
       "    </tr>\n",
       "    <tr>\n",
       "      <th>3</th>\n",
       "      <td>Basically there's a family where a little boy (Jake) thinks there's a zombie in his closet &amp; his parents are fighting all the time.&lt;br /&gt;&lt;br /&gt;This movie is slower than a soap opera... and suddenly, Jake decides to become Rambo and kill the zombie.&lt;br /&gt;&lt;br /&gt;OK, first of all when you're going to make a film you must Decide if its a thriller or a drama! As a drama the movie is watchable. Paren...</td>\n",
       "      <td>0</td>\n",
       "    </tr>\n",
       "    <tr>\n",
       "      <th>4</th>\n",
       "      <td>Petter Mattei's \"Love in the Time of Money\" is a visually stunning film to watch. Mr. Mattei offers us a vivid portrait about human relations. This is a movie that seems to be telling us what money, power and success do to people in the different situations we encounter. &lt;br /&gt;&lt;br /&gt;This being a variation on the Arthur Schnitzler's play about the same theme, the director transfers the action t...</td>\n",
       "      <td>1</td>\n",
       "    </tr>\n",
       "  </tbody>\n",
       "</table>\n",
       "</div>"
      ],
      "text/plain": [
       "                                                                                                                                                                                                                                                                                                                                                                                                            review  \\\n",
       "0  One of the other reviewers has mentioned that after watching just 1 Oz episode you'll be hooked. They are right, as this is exactly what happened with me.<br /><br />The first thing that struck me about Oz was its brutality and unflinching scenes of violence, which set in right from the word GO. Trust me, this is not a show for the faint hearted or timid. This show pulls no punches with regard...   \n",
       "1  A wonderful little production. <br /><br />The filming technique is very unassuming- very old-time-BBC fashion and gives a comforting, and sometimes discomforting, sense of realism to the entire piece. <br /><br />The actors are extremely well chosen- Michael Sheen not only \"has got all the polari\" but he has all the voices down pat too! You can truly see the seamless editing guided by the ref...   \n",
       "2  I thought this was a wonderful way to spend time on a too hot summer weekend, sitting in the air conditioned theater and watching a light-hearted comedy. The plot is simplistic, but the dialogue is witty and the characters are likable (even the well bread suspected serial killer). While some may be disappointed when they realize this is not Match Point 2: Risk Addiction, I thought it was proof...   \n",
       "3  Basically there's a family where a little boy (Jake) thinks there's a zombie in his closet & his parents are fighting all the time.<br /><br />This movie is slower than a soap opera... and suddenly, Jake decides to become Rambo and kill the zombie.<br /><br />OK, first of all when you're going to make a film you must Decide if its a thriller or a drama! As a drama the movie is watchable. Paren...   \n",
       "4  Petter Mattei's \"Love in the Time of Money\" is a visually stunning film to watch. Mr. Mattei offers us a vivid portrait about human relations. This is a movie that seems to be telling us what money, power and success do to people in the different situations we encounter. <br /><br />This being a variation on the Arthur Schnitzler's play about the same theme, the director transfers the action t...   \n",
       "\n",
       "   sentiment  \n",
       "0          1  \n",
       "1          1  \n",
       "2          1  \n",
       "3          0  \n",
       "4          1  "
      ]
     },
     "metadata": {},
     "output_type": "display_data"
    }
   ],
   "source": [
    "imdb_df = pd.read_pickle(\"../../dataset/imdb/IMDB_Dataset.pkl\").drop(columns=[\"sentence_emb\"])\n",
    "\n",
    "with pd.option_context(\"display.max_colwidth\", 400):\n",
    "    display(imdb_df.head(5))"
   ]
  },
  {
   "cell_type": "markdown",
   "metadata": {},
   "source": [
    "We clean the sentences and get their embeddings"
   ]
  },
  {
   "cell_type": "code",
   "execution_count": 7,
   "metadata": {},
   "outputs": [],
   "source": [
    "cached_stopwords = stopwords.words(\"english\")\n",
    "nlp = spacy.load(\"en_core_web_sm\")\n",
    "\n",
    "def clean_text(text: str) -> str:\n",
    "\n",
    "    text = text.lower()\n",
    "    text = ' '.join([word for word in text.split() if word not in cached_stopwords])\n",
    "    text = re.sub(\"<br /><br />\", \"\", text)\n",
    "    text = re.sub(\"\\\\t\", \"\", text)\n",
    "    sentences = text.split(\".\")\n",
    "    sentences_clean = [el for el in sentences if el != '']\n",
    "\n",
    "    return sentences_clean\n",
    "\n",
    "def encode_sentences(sentences: List) -> np.ndarray:\n",
    "    return np.array([embedder.encode(sentence) for sentence in sentences]).squeeze()"
   ]
  },
  {
   "cell_type": "code",
   "execution_count": 8,
   "metadata": {},
   "outputs": [],
   "source": [
    "trial = True\n",
    "if trial:\n",
    "    imdb_df = imdb_df[:10000]\n",
    "    \n",
    "if \"sentence_emb\" not in imdb_df.columns:\n",
    "    clean_features = imdb_df[\"review\"].map(clean_text)\n",
    "    encoded_features = clean_features.map(encode_sentences)\n",
    "\n",
    "    imdb_df.insert(2, \"sentence_emb\", encoded_features)\n",
    "    #imdb_df.to_pickle(\"../../dataset/imdb/IMDB_Dataset.pkl\")"
   ]
  },
  {
   "cell_type": "code",
   "execution_count": null,
   "metadata": {},
   "outputs": [
    {
     "data": {
      "image/png": "[encoded data removed]",
      "text/plain": [
       "<Figure size 1500x900 with 1 Axes>"
      ]
     },
     "metadata": {},
     "output_type": "display_data"
    }
   ],
   "source": [
    "sentence_counts = imdb_df[\"sentence_emb\"].apply(lambda x: len(x)).values\n",
    "\n",
    "plt.figure(figsize=(15,9))\n",
    "plt.title(\"Number of sentences histogram\")\n",
    "plt.xlabel(\"Number of sentences\")\n",
    "plt.ylabel(\"Reviews\")\n",
    "plt.hist(sentence_counts, bins=50)\n",
    "plt.show()"
   ]
  },
  {
   "cell_type": "code",
   "execution_count": null,
   "metadata": {},
   "outputs": [
    {
     "data": {
      "image/png": "[encoded data removed]",
      "text/plain": [
       "<Figure size 1500x900 with 1 Axes>"
      ]
     },
     "metadata": {},
     "output_type": "display_data"
    }
   ],
   "source": [
    "plt.figure(figsize=(15,9))\n",
    "plt.title(\"Number of sentences histogram\")\n",
    "plt.xlabel(\"Number of sentences\")\n",
    "plt.ylabel(\"Reviews\")\n",
    "plt.hist(sentence_counts, bins=50, range=(0, 100))\n",
    "plt.show()"
   ]
  },
  {
   "cell_type": "markdown",
   "metadata": {},
   "source": [
    "We remove outliers in order to have more balanced padded sequences"
   ]
  },
  {
   "cell_type": "code",
   "execution_count": null,
   "metadata": {},
   "outputs": [],
   "source": [
    "MAX_SENTENCES = 40\n",
    "\n",
    "imdb_df = imdb_df[imdb_df[\"sentence_emb\"].apply(lambda x: len(x)) <= MAX_SENTENCES]\n",
    "imdb_df = imdb_df.reset_index(drop=True)"
   ]
  },
  {
   "cell_type": "code",
   "execution_count": null,
   "metadata": {},
   "outputs": [
    {
     "data": {
      "text/html": [
       "<div>\n",
       "<style scoped>\n",
       "    .dataframe tbody tr th:only-of-type {\n",
       "        vertical-align: middle;\n",
       "    }\n",
       "\n",
       "    .dataframe tbody tr th {\n",
       "        vertical-align: top;\n",
       "    }\n",
       "\n",
       "    .dataframe thead th {\n",
       "        text-align: right;\n",
       "    }\n",
       "</style>\n",
       "<table border=\"1\" class=\"dataframe\">\n",
       "  <thead>\n",
       "    <tr style=\"text-align: right;\">\n",
       "      <th></th>\n",
       "      <th>review</th>\n",
       "      <th>sentiment</th>\n",
       "      <th>sentence_emb</th>\n",
       "    </tr>\n",
       "  </thead>\n",
       "  <tbody>\n",
       "    <tr>\n",
       "      <th>0</th>\n",
       "      <td>One of the other reviewers has mentioned that ...</td>\n",
       "      <td>1</td>\n",
       "      <td>[[0.0028965054, -0.00521643, 0.008160139, 0.08...</td>\n",
       "    </tr>\n",
       "    <tr>\n",
       "      <th>1</th>\n",
       "      <td>A wonderful little production. &lt;br /&gt;&lt;br /&gt;The...</td>\n",
       "      <td>1</td>\n",
       "      <td>[[-0.022689639, 0.03716715, 0.0022187403, -0.0...</td>\n",
       "    </tr>\n",
       "    <tr>\n",
       "      <th>2</th>\n",
       "      <td>I thought this was a wonderful way to spend ti...</td>\n",
       "      <td>1</td>\n",
       "      <td>[[0.0136362305, -0.07501455, 0.026115745, 0.05...</td>\n",
       "    </tr>\n",
       "    <tr>\n",
       "      <th>3</th>\n",
       "      <td>Basically there's a family where a little boy ...</td>\n",
       "      <td>0</td>\n",
       "      <td>[[-0.06623291, 0.03892335, -0.04048848, -0.028...</td>\n",
       "    </tr>\n",
       "    <tr>\n",
       "      <th>4</th>\n",
       "      <td>Petter Mattei's \"Love in the Time of Money\" is...</td>\n",
       "      <td>1</td>\n",
       "      <td>[[-0.07374094, 0.03781967, 0.010404704, -0.078...</td>\n",
       "    </tr>\n",
       "    <tr>\n",
       "      <th>...</th>\n",
       "      <td>...</td>\n",
       "      <td>...</td>\n",
       "      <td>...</td>\n",
       "    </tr>\n",
       "    <tr>\n",
       "      <th>9813</th>\n",
       "      <td>Fun, entertaining movie about WWII German spy ...</td>\n",
       "      <td>1</td>\n",
       "      <td>[[-0.026361026, -0.078349315, -0.07601496, 0.0...</td>\n",
       "    </tr>\n",
       "    <tr>\n",
       "      <th>9814</th>\n",
       "      <td>Give me a break. How can anyone say that this ...</td>\n",
       "      <td>0</td>\n",
       "      <td>[[-0.091661416, 0.011880031, 0.06739228, -0.00...</td>\n",
       "    </tr>\n",
       "    <tr>\n",
       "      <th>9815</th>\n",
       "      <td>This movie is a bad movie. But after watching ...</td>\n",
       "      <td>0</td>\n",
       "      <td>[[-0.050063267, 0.014444304, -0.04015872, 0.04...</td>\n",
       "    </tr>\n",
       "    <tr>\n",
       "      <th>9816</th>\n",
       "      <td>This is a movie that was probably made to ente...</td>\n",
       "      <td>0</td>\n",
       "      <td>[[-0.07030647, 0.05444126, 0.0039178566, -0.02...</td>\n",
       "    </tr>\n",
       "    <tr>\n",
       "      <th>9817</th>\n",
       "      <td>Smashing film about film-making. Shows the int...</td>\n",
       "      <td>1</td>\n",
       "      <td>[[-0.06366347, -0.038697366, 0.050873313, -0.0...</td>\n",
       "    </tr>\n",
       "  </tbody>\n",
       "</table>\n",
       "<p>9818 rows × 3 columns</p>\n",
       "</div>"
      ],
      "text/plain": [
       "                                                 review  sentiment  \\\n",
       "0     One of the other reviewers has mentioned that ...          1   \n",
       "1     A wonderful little production. <br /><br />The...          1   \n",
       "2     I thought this was a wonderful way to spend ti...          1   \n",
       "3     Basically there's a family where a little boy ...          0   \n",
       "4     Petter Mattei's \"Love in the Time of Money\" is...          1   \n",
       "...                                                 ...        ...   \n",
       "9813  Fun, entertaining movie about WWII German spy ...          1   \n",
       "9814  Give me a break. How can anyone say that this ...          0   \n",
       "9815  This movie is a bad movie. But after watching ...          0   \n",
       "9816  This is a movie that was probably made to ente...          0   \n",
       "9817  Smashing film about film-making. Shows the int...          1   \n",
       "\n",
       "                                           sentence_emb  \n",
       "0     [[0.0028965054, -0.00521643, 0.008160139, 0.08...  \n",
       "1     [[-0.022689639, 0.03716715, 0.0022187403, -0.0...  \n",
       "2     [[0.0136362305, -0.07501455, 0.026115745, 0.05...  \n",
       "3     [[-0.06623291, 0.03892335, -0.04048848, -0.028...  \n",
       "4     [[-0.07374094, 0.03781967, 0.010404704, -0.078...  \n",
       "...                                                 ...  \n",
       "9813  [[-0.026361026, -0.078349315, -0.07601496, 0.0...  \n",
       "9814  [[-0.091661416, 0.011880031, 0.06739228, -0.00...  \n",
       "9815  [[-0.050063267, 0.014444304, -0.04015872, 0.04...  \n",
       "9816  [[-0.07030647, 0.05444126, 0.0039178566, -0.02...  \n",
       "9817  [[-0.06366347, -0.038697366, 0.050873313, -0.0...  \n",
       "\n",
       "[9818 rows x 3 columns]"
      ]
     },
     "execution_count": 127,
     "metadata": {},
     "output_type": "execute_result"
    }
   ],
   "source": [
    "imdb_df"
   ]
  },
  {
   "cell_type": "markdown",
   "metadata": {},
   "source": [
    "# Torch dataset preprocessing"
   ]
  },
  {
   "cell_type": "code",
   "execution_count": null,
   "metadata": {},
   "outputs": [],
   "source": [
    "class IMDB_Dataset(data.Dataset):\n",
    "\tdef __init__(self, data_df: pd.DataFrame):\n",
    "\t\tsuper().__init__()\n",
    "\t\t#x = data_df.sentence_emb.apply(lambda x: np.mean(x, axis=0)).values\n",
    "\t\tx = data_df.sentence_emb.values\n",
    "\t\ty = data_df.sentiment.values\n",
    "\t\tself.x_train = list(map(lambda x: torch.tensor(x), x))\n",
    "\t\tself.y_train = list(map(lambda y: torch.tensor(y), y))\n",
    "\n",
    "\tdef __len__(self):\n",
    "\t\treturn len(self.y_train)\n",
    "\n",
    "\tdef __getitem__(self, idx: int):\n",
    "\t\treturn self.x_train[idx], self.y_train[idx]"
   ]
  },
  {
   "cell_type": "code",
   "execution_count": null,
   "metadata": {},
   "outputs": [],
   "source": [
    "def collate_fn(data: List[Tuple[torch.Tensor, torch.Tensor]]):\n",
    "\n",
    "    data.sort(key=lambda x: x[0].shape[0], reverse=True)\n",
    "    sequences, label = zip(*data)\n",
    "    lengths = [len(seq) for seq in sequences]\n",
    "    padded_seq = pad_sequence(sequences, batch_first=True, padding_value=0)\n",
    "    \n",
    "    return padded_seq, torch.from_numpy(np.array(lengths)), torch.from_numpy(np.array(label))"
   ]
  },
  {
   "cell_type": "code",
   "execution_count": null,
   "metadata": {},
   "outputs": [],
   "source": [
    "split = 0.8\n",
    "\n",
    "imdb_df_train = imdb_df[:int(0.8 * len(imdb_df))]\n",
    "imdb_df_val = imdb_df[int(0.8 * len(imdb_df)):]"
   ]
  },
  {
   "cell_type": "code",
   "execution_count": null,
   "metadata": {},
   "outputs": [],
   "source": [
    "BATCH_SIZE = 64\n",
    "\n",
    "train_data = IMDB_Dataset(imdb_df_train)\n",
    "train_loader = data.DataLoader(train_data, batch_size=BATCH_SIZE, shuffle=False, drop_last=True, collate_fn=collate_fn)\n",
    "\n",
    "val_data = IMDB_Dataset(imdb_df_val)\n",
    "val_loader = data.DataLoader(val_data, batch_size=BATCH_SIZE, shuffle=False, drop_last=True, collate_fn=collate_fn)"
   ]
  },
  {
   "cell_type": "code",
   "execution_count": null,
   "metadata": {},
   "outputs": [],
   "source": [
    "BATCH_SIZE = 64\n",
    "\n",
    "train_data = IMDB_Dataset(imdb_df_train)\n",
    "train_loader = data.DataLoader(train_data, batch_size=BATCH_SIZE, shuffle=False, drop_last=True,) #collate_fn=collate_fn, )\n",
    "\n",
    "val_data = IMDB_Dataset(imdb_df_val)\n",
    "val_loader = data.DataLoader(val_data, batch_size=BATCH_SIZE, shuffle=False, drop_last=True,) #collate_fn=collate_fn, )"
   ]
  },
  {
   "cell_type": "markdown",
   "metadata": {},
   "source": [
    "# Model"
   ]
  },
  {
   "cell_type": "code",
   "execution_count": 132,
   "metadata": {},
   "outputs": [],
   "source": [
    "class LSTM_Classifier(nn.Module):\n",
    "\n",
    "    def __init__(self, emb_size: int, hidden_size: int = 16, num_layers: int = 2, bidirectional: bool = False) -> None:\n",
    "        super().__init__()\n",
    "\n",
    "        self.num_layers = num_layers\n",
    "        self.hidden_size = hidden_size\n",
    "\n",
    "        self.lstm = nn.LSTM(\n",
    "            input_size=emb_size,\n",
    "            hidden_size=hidden_size,\n",
    "            num_layers=num_layers,\n",
    "            bidirectional=bidirectional,\n",
    "            batch_first=True,\n",
    "            dropout=0.1,\n",
    "        )\n",
    "\n",
    "        self.dense = nn.Linear(hidden_size, 128)\n",
    "        #It will change to regressor\n",
    "        self.dropout = nn.Dropout(0.1)\n",
    "        self.smaller_dense = nn.Linear(128, 16)\n",
    "        self.classifier = nn.Linear(16, 1)\n",
    "        self.tanh = nn.Tanh()\n",
    "\n",
    "    def forward(self, x, hidden):\n",
    "        \n",
    "        batch_size = x.size(0)\n",
    "        \n",
    "        lstm_out, hidden_state = self.lstm(x, hidden)\n",
    "        lstm_out = lstm_out.contiguous().view(-1, self.hidden_size)\n",
    "\n",
    "        out = self.dense(lstm_out)\n",
    "        out = self.dropout(out)\n",
    "        out = self.smaller_dense(out)\n",
    "        out = self.classifier(out)\n",
    "        out = self.tanh(out)\n",
    "\n",
    "        out = out.view(batch_size, -1)\n",
    "        out = out[:, -1]\n",
    "\n",
    "        return out, hidden_state\n",
    "\n",
    "    def init_hidden(self, batch_size):\n",
    "\n",
    "        hidden = (torch.zeros((self.num_layers, batch_size, self.hidden_size)).cuda(),\n",
    "                  torch.zeros((self.num_layers, batch_size, self.hidden_size)).cuda())\n",
    "        \n",
    "        return hidden"
   ]
  },
  {
   "cell_type": "code",
   "execution_count": 91,
   "metadata": {},
   "outputs": [],
   "source": [
    "class SimpleModel(nn.Module):\n",
    "\n",
    "    def __init__(self) -> None:\n",
    "        super().__init__()\n",
    "\n",
    "        self.dense = nn.Linear(768, 768)\n",
    "        self.dropout = nn.Dropout(0.1)\n",
    "        self.dense2 = nn.Linear(768, 128)\n",
    "        self.dense3 = nn.Linear(128, 32)\n",
    "        self.classifier = nn.Linear(32, 1)\n",
    "        self.sigmoid = nn.Sigmoid()\n",
    "\n",
    "    def forward(self, x):\n",
    "        \n",
    "        out = self.dense(x)\n",
    "        out = self.dropout(out)\n",
    "        out = self.dense2(out)\n",
    "        out = self.dropout(out)\n",
    "        out = self.dense3(out)\n",
    "        out = self.sigmoid(self.classifier(out))\n",
    "\n",
    "        return out"
   ]
  },
  {
   "cell_type": "code",
   "execution_count": 92,
   "metadata": {},
   "outputs": [
    {
     "name": "stdout",
     "output_type": "stream",
     "text": [
      "SimpleModel(\n",
      "  (dense): Linear(in_features=768, out_features=768, bias=True)\n",
      "  (dropout): Dropout(p=0.1, inplace=False)\n",
      "  (dense2): Linear(in_features=768, out_features=128, bias=True)\n",
      "  (dense3): Linear(in_features=128, out_features=32, bias=True)\n",
      "  (classifier): Linear(in_features=32, out_features=1, bias=True)\n",
      "  (sigmoid): Sigmoid()\n",
      ")\n"
     ]
    }
   ],
   "source": [
    "simple_model = SimpleModel()\n",
    "print(simple_model)"
   ]
  },
  {
   "cell_type": "code",
   "execution_count": 133,
   "metadata": {},
   "outputs": [
    {
     "name": "stdout",
     "output_type": "stream",
     "text": [
      "LSTM_Classifier(\n",
      "  (lstm): LSTM(384, 256, num_layers=10, batch_first=True, dropout=0.1)\n",
      "  (dense): Linear(in_features=256, out_features=128, bias=True)\n",
      "  (dropout): Dropout(p=0.1, inplace=False)\n",
      "  (smaller_dense): Linear(in_features=128, out_features=16, bias=True)\n",
      "  (classifier): Linear(in_features=16, out_features=1, bias=True)\n",
      "  (tanh): Tanh()\n",
      ")\n"
     ]
    }
   ],
   "source": [
    "EMBEDDING_DIM = train_data.__getitem__(0)[0][0].shape[0]\n",
    "NUM_LAYERS = 10\n",
    "HIDDEN_DIM = 256\n",
    "\n",
    "model = LSTM_Classifier(emb_size=EMBEDDING_DIM, hidden_size=HIDDEN_DIM, num_layers=NUM_LAYERS)\n",
    "print(model)"
   ]
  },
  {
   "cell_type": "markdown",
   "metadata": {},
   "source": [
    "# Training"
   ]
  },
  {
   "cell_type": "code",
   "execution_count": 107,
   "metadata": {},
   "outputs": [
    {
     "name": "stdout",
     "output_type": "stream",
     "text": [
      "Epoch: 1/10... Loss: 174.673096... Val Loss: 133.437627 Accuracy: 0.656250 Val accuracy: 0.484375\n",
      "Epoch: 1/10... Loss: 149.719788... Val Loss: 133.437627 Accuracy: 0.562500 Val accuracy: 0.484375\n",
      "Epoch: 1/10... Loss: 128.925385... Val Loss: 133.437627 Accuracy: 0.484375 Val accuracy: 0.484375\n",
      "Epoch: 1/10... Loss: 137.243134... Val Loss: 133.437627 Accuracy: 0.515625 Val accuracy: 0.484375\n",
      "Epoch: 1/10... Loss: 133.084259... Val Loss: 133.437627 Accuracy: 0.500000 Val accuracy: 0.484375\n",
      "Epoch: 1/10... Loss: 149.719788... Val Loss: 133.437627 Accuracy: 0.562500 Val accuracy: 0.484375\n",
      "Epoch: 2/10... Loss: 128.925369... Val Loss: 133.437627 Accuracy: 0.484375 Val accuracy: 0.484375\n",
      "Epoch: 2/10... Loss: 124.766495... Val Loss: 133.437627 Accuracy: 0.468750 Val accuracy: 0.484375\n",
      "Epoch: 2/10... Loss: 145.560913... Val Loss: 133.437627 Accuracy: 0.546875 Val accuracy: 0.484375\n",
      "Epoch: 2/10... Loss: 116.448730... Val Loss: 133.437627 Accuracy: 0.437500 Val accuracy: 0.484375\n",
      "Epoch: 2/10... Loss: 149.719788... Val Loss: 133.437627 Accuracy: 0.562500 Val accuracy: 0.484375\n",
      "Epoch: 2/10... Loss: 124.766495... Val Loss: 133.437627 Accuracy: 0.468750 Val accuracy: 0.484375\n",
      "Epoch: 3/10... Loss: 116.448730... Val Loss: 133.437627 Accuracy: 0.437500 Val accuracy: 0.484375\n",
      "Epoch: 3/10... Loss: 95.654312... Val Loss: 133.437627 Accuracy: 0.359375 Val accuracy: 0.484375\n",
      "Epoch: 3/10... Loss: 120.607613... Val Loss: 133.437627 Accuracy: 0.453125 Val accuracy: 0.484375\n",
      "Epoch: 3/10... Loss: 141.402023... Val Loss: 133.437627 Accuracy: 0.531250 Val accuracy: 0.484375\n",
      "Epoch: 3/10... Loss: 128.925385... Val Loss: 133.437627 Accuracy: 0.484375 Val accuracy: 0.484375\n",
      "Epoch: 3/10... Loss: 141.402023... Val Loss: 133.437627 Accuracy: 0.531250 Val accuracy: 0.484375\n",
      "Epoch: 4/10... Loss: 120.607613... Val Loss: 133.437627 Accuracy: 0.453125 Val accuracy: 0.484375\n",
      "Epoch: 4/10... Loss: 116.448723... Val Loss: 133.437627 Accuracy: 0.437500 Val accuracy: 0.484375\n",
      "Epoch: 4/10... Loss: 112.289841... Val Loss: 133.437627 Accuracy: 0.421875 Val accuracy: 0.484375\n",
      "Epoch: 4/10... Loss: 141.402023... Val Loss: 133.437627 Accuracy: 0.531250 Val accuracy: 0.484375\n",
      "Epoch: 4/10... Loss: 141.402023... Val Loss: 133.437627 Accuracy: 0.531250 Val accuracy: 0.484375\n",
      "Epoch: 4/10... Loss: 133.084259... Val Loss: 133.437627 Accuracy: 0.500000 Val accuracy: 0.484375\n",
      "Epoch: 5/10... Loss: 158.037552... Val Loss: 133.437627 Accuracy: 0.593750 Val accuracy: 0.484375\n",
      "Epoch: 5/10... Loss: 166.355316... Val Loss: 133.437627 Accuracy: 0.625000 Val accuracy: 0.484375\n",
      "Epoch: 5/10... Loss: 124.766495... Val Loss: 133.437627 Accuracy: 0.468750 Val accuracy: 0.484375\n",
      "Epoch: 5/10... Loss: 108.130959... Val Loss: 133.437627 Accuracy: 0.406250 Val accuracy: 0.484375\n",
      "Epoch: 5/10... Loss: 141.402023... Val Loss: 133.437627 Accuracy: 0.531250 Val accuracy: 0.484375\n",
      "Epoch: 5/10... Loss: 124.766495... Val Loss: 133.437627 Accuracy: 0.468750 Val accuracy: 0.484375\n",
      "Epoch: 6/10... Loss: 120.607605... Val Loss: 133.437627 Accuracy: 0.453125 Val accuracy: 0.484375\n",
      "Epoch: 6/10... Loss: 112.289841... Val Loss: 133.437627 Accuracy: 0.421875 Val accuracy: 0.484375\n",
      "Epoch: 6/10... Loss: 162.196442... Val Loss: 133.437627 Accuracy: 0.609375 Val accuracy: 0.484375\n",
      "Epoch: 6/10... Loss: 133.084259... Val Loss: 133.437627 Accuracy: 0.500000 Val accuracy: 0.484375\n",
      "Epoch: 6/10... Loss: 120.607605... Val Loss: 133.437627 Accuracy: 0.453125 Val accuracy: 0.484375\n",
      "Epoch: 6/10... Loss: 128.925369... Val Loss: 133.437627 Accuracy: 0.484375 Val accuracy: 0.484375\n",
      "Epoch: 7/10... Loss: 124.766495... Val Loss: 133.437627 Accuracy: 0.468750 Val accuracy: 0.484375\n",
      "Epoch: 7/10... Loss: 145.560913... Val Loss: 133.437627 Accuracy: 0.546875 Val accuracy: 0.484375\n",
      "Epoch: 7/10... Loss: 108.130966... Val Loss: 133.437627 Accuracy: 0.406250 Val accuracy: 0.484375\n",
      "Epoch: 7/10... Loss: 149.719788... Val Loss: 133.437627 Accuracy: 0.562500 Val accuracy: 0.484375\n",
      "Epoch: 7/10... Loss: 116.448730... Val Loss: 133.437627 Accuracy: 0.437500 Val accuracy: 0.484375\n",
      "Epoch: 7/10... Loss: 178.831970... Val Loss: 133.437627 Accuracy: 0.671875 Val accuracy: 0.484375\n",
      "Epoch: 8/10... Loss: 108.130959... Val Loss: 133.437627 Accuracy: 0.406250 Val accuracy: 0.484375\n",
      "Epoch: 8/10... Loss: 108.130966... Val Loss: 133.437627 Accuracy: 0.406250 Val accuracy: 0.484375\n",
      "Epoch: 8/10... Loss: 116.448730... Val Loss: 133.437627 Accuracy: 0.437500 Val accuracy: 0.484375\n",
      "Epoch: 8/10... Loss: 145.560913... Val Loss: 133.437627 Accuracy: 0.546875 Val accuracy: 0.484375\n",
      "Epoch: 8/10... Loss: 124.766495... Val Loss: 133.437627 Accuracy: 0.468750 Val accuracy: 0.484375\n",
      "Epoch: 8/10... Loss: 128.925369... Val Loss: 133.437627 Accuracy: 0.484375 Val accuracy: 0.484375\n",
      "Epoch: 9/10... Loss: 124.766487... Val Loss: 133.437627 Accuracy: 0.468750 Val accuracy: 0.484375\n",
      "Epoch: 9/10... Loss: 133.084259... Val Loss: 133.437627 Accuracy: 0.500000 Val accuracy: 0.484375\n",
      "Epoch: 9/10... Loss: 133.084259... Val Loss: 133.437627 Accuracy: 0.500000 Val accuracy: 0.484375\n",
      "Epoch: 9/10... Loss: 137.243134... Val Loss: 133.437627 Accuracy: 0.515625 Val accuracy: 0.484375\n",
      "Epoch: 9/10... Loss: 137.243134... Val Loss: 133.437627 Accuracy: 0.515625 Val accuracy: 0.484375\n",
      "Epoch: 9/10... Loss: 141.402023... Val Loss: 133.437627 Accuracy: 0.531250 Val accuracy: 0.484375\n",
      "Epoch: 9/10... Loss: 116.448730... Val Loss: 133.437627 Accuracy: 0.437500 Val accuracy: 0.484375\n",
      "Epoch: 10/10... Loss: 116.448730... Val Loss: 133.437627 Accuracy: 0.437500 Val accuracy: 0.484375\n",
      "Epoch: 10/10... Loss: 153.878662... Val Loss: 133.437627 Accuracy: 0.578125 Val accuracy: 0.484375\n",
      "Epoch: 10/10... Loss: 149.719788... Val Loss: 133.437627 Accuracy: 0.562500 Val accuracy: 0.484375\n",
      "Epoch: 10/10... Loss: 153.878677... Val Loss: 133.437627 Accuracy: 0.578125 Val accuracy: 0.484375\n",
      "Epoch: 10/10... Loss: 145.560913... Val Loss: 133.437627 Accuracy: 0.546875 Val accuracy: 0.484375\n",
      "Epoch: 10/10... Loss: 124.766495... Val Loss: 133.437627 Accuracy: 0.468750 Val accuracy: 0.484375\n"
     ]
    }
   ],
   "source": [
    "EPOCHS = 10\n",
    "\n",
    "criterion = nn.CrossEntropyLoss()\n",
    "optimizer = torch.optim.Adam(params=simple_model.parameters(), lr=1e-3)\n",
    "\n",
    "simple_model.cuda()\n",
    "simple_model.train()\n",
    "\n",
    "cnt = 0\n",
    "\n",
    "train_loss = []\n",
    "val_loss = []\n",
    "\n",
    "train_accuracy = []\n",
    "val_accuracy = []\n",
    "\n",
    "for epoch in range(EPOCHS):\n",
    "\n",
    "    for embeddings, labels in train_loader:\n",
    "        cnt += 1\n",
    "\n",
    "        embeddings = embeddings.cuda()\n",
    "        labels = labels.cuda()\n",
    "\n",
    "        simple_model.zero_grad()\n",
    "\n",
    "        output = simple_model(embeddings)\n",
    "\n",
    "        loss = criterion(output.squeeze(), labels.float())\n",
    "        loss.backward()\n",
    "\n",
    "        train_acc = torch.sum(output.squeeze() == labels.float()) / labels.shape[0]\n",
    "\n",
    "        nn.utils.clip_grad_norm_(simple_model.parameters(), max_norm=5)\n",
    "        optimizer.step()\n",
    "\n",
    "        if cnt % 100 == 0:\n",
    "            val_losses = []\n",
    "            val_accs = []\n",
    "            simple_model.eval()\n",
    "            for embeddings, labels in val_loader:\n",
    "\n",
    "                # Creating new variables for the hidden state, otherwise\n",
    "                # we'd backprop through the entire training history\n",
    "\n",
    "                embeddings, labels = embeddings.cuda(), labels.cuda()  \n",
    "                output = simple_model(embeddings)\n",
    "                v_loss = criterion(output.squeeze(), labels.float())\n",
    "\n",
    "                val_losses.append(v_loss.item())\n",
    "                \n",
    "                val_acc = torch.sum(output.squeeze() == labels.float()) / labels.shape[0]\n",
    "                val_accs.append(val_acc.cpu())\n",
    "\n",
    "            simple_model.train()\n",
    "            print(\n",
    "                \"Epoch: {}/{}...\".format(epoch+1, EPOCHS),\n",
    "                \"Loss: {:.6f}...\".format(loss.item()),\n",
    "                \"Val Loss: {:.6f}\".format(np.mean(val_losses)),\n",
    "                \"Accuracy: {:.6f}\".format(train_acc),\n",
    "                \"Val accuracy: {:.6f}\".format(val_acc),\n",
    "            )\n",
    "\n",
    "    train_loss.append(round(loss.item(), 2))\n",
    "    val_loss.append(np.mean(val_losses))\n",
    "    \n",
    "    train_accuracy.append(round(train_acc.item(), 2))\n",
    "    val_accuracy.append(np.mean(val_accs))"
   ]
  },
  {
   "cell_type": "code",
   "execution_count": 136,
   "metadata": {},
   "outputs": [
    {
     "name": "stdout",
     "output_type": "stream",
     "text": [
      "Epoch: 1/10... Loss: 174.673096... Val Loss: 137.243141 Accuracy: 0.593750 Val accuracy: 0.578125\n",
      "Epoch: 2/10... Loss: 133.084259... Val Loss: 137.243141 Accuracy: 0.468750 Val accuracy: 0.578125\n",
      "Epoch: 3/10... Loss: 133.084259... Val Loss: 137.243141 Accuracy: 0.359375 Val accuracy: 0.578125\n",
      "Epoch: 4/10... Loss: 141.402023... Val Loss: 137.243141 Accuracy: 0.343750 Val accuracy: 0.578125\n",
      "Epoch: 5/10... Loss: 128.925385... Val Loss: 137.243141 Accuracy: 0.375000 Val accuracy: 0.578125\n",
      "Epoch: 5/10... Loss: 162.196442... Val Loss: 137.243141 Accuracy: 0.546875 Val accuracy: 0.578125\n",
      "Epoch: 6/10... Loss: 162.196442... Val Loss: 137.243141 Accuracy: 0.593750 Val accuracy: 0.578125\n",
      "Epoch: 7/10... Loss: 112.289841... Val Loss: 137.243141 Accuracy: 0.390625 Val accuracy: 0.578125\n",
      "Epoch: 8/10... Loss: 149.719788... Val Loss: 137.243141 Accuracy: 0.500000 Val accuracy: 0.578125\n",
      "Epoch: 9/10... Loss: 108.130959... Val Loss: 137.243141 Accuracy: 0.359375 Val accuracy: 0.578125\n",
      "Epoch: 10/10... Loss: 112.289841... Val Loss: 137.243141 Accuracy: 0.421875 Val accuracy: 0.578125\n",
      "Epoch: 10/10... Loss: 145.560913... Val Loss: 137.243141 Accuracy: 0.531250 Val accuracy: 0.578125\n"
     ]
    }
   ],
   "source": [
    "EPOCHS = 10\n",
    "\n",
    "criterion = nn.CrossEntropyLoss()\n",
    "optimizer = torch.optim.Adam(params=model.parameters(), lr=1e-3)\n",
    "\n",
    "model.cuda()\n",
    "model.train()\n",
    "\n",
    "cnt = 0\n",
    "\n",
    "train_loss = []\n",
    "val_loss = []\n",
    "\n",
    "train_accuracy = []\n",
    "val_accuracy = []\n",
    "\n",
    "for epoch in range(EPOCHS):\n",
    "    hidden_state = model.init_hidden(batch_size=BATCH_SIZE)\n",
    "\n",
    "    for embeddings, _, labels in train_loader:\n",
    "        cnt += 1\n",
    "\n",
    "        embeddings = embeddings.cuda()\n",
    "        labels = labels.cuda()\n",
    "\n",
    "        hidden_state = tuple([each.data for each in hidden_state])\n",
    "\n",
    "        model.zero_grad()\n",
    "\n",
    "        output, hidden_state = model(embeddings, hidden_state)\n",
    "\n",
    "        loss = criterion(output.squeeze(), labels.float())\n",
    "        loss.backward()\n",
    "\n",
    "        train_acc = torch.sum(output.squeeze() == labels.float()) / labels.shape[0]\n",
    "\n",
    "        nn.utils.clip_grad_norm_(model.parameters(), max_norm=5)\n",
    "        optimizer.step()\n",
    "\n",
    "        if cnt % 100 == 0:\n",
    "            val_h = model.init_hidden(BATCH_SIZE)\n",
    "            val_losses = []\n",
    "            val_accs = []\n",
    "            model.eval()\n",
    "            for embeddings, _, labels in val_loader:\n",
    "\n",
    "                # Creating new variables for the hidden state, otherwise\n",
    "                # we'd backprop through the entire training history\n",
    "\n",
    "                embeddings, labels = embeddings.cuda(), labels.cuda()  \n",
    "                output, val_h = model(embeddings, val_h)\n",
    "                v_loss = criterion(output.squeeze(), labels.float())\n",
    "\n",
    "                val_losses.append(v_loss.item())\n",
    "                \n",
    "                val_acc = torch.sum(output.squeeze() == labels.float()) / labels.shape[0]\n",
    "                val_accs.append(val_acc.cpu())\n",
    "\n",
    "            model.train()\n",
    "            print(\n",
    "                \"Epoch: {}/{}...\".format(epoch+1, EPOCHS),\n",
    "                \"Loss: {:.6f}...\".format(loss.item()),\n",
    "                \"Val Loss: {:.6f}\".format(np.mean(val_losses)),\n",
    "                \"Accuracy: {:.6f}\".format(train_acc),\n",
    "                \"Val accuracy: {:.6f}\".format(val_acc),\n",
    "            )\n",
    "\n",
    "    train_loss.append(round(loss.item(), 2))\n",
    "    val_loss.append(np.mean(val_losses))\n",
    "    \n",
    "    train_accuracy.append(round(train_acc.item(), 2))\n",
    "    val_accuracy.append(np.mean(val_accs))"
   ]
  },
  {
   "cell_type": "code",
   "execution_count": 137,
   "metadata": {},
   "outputs": [
    {
     "data": {
      "image/png": "[encoded data removed]",
      "text/plain": [
       "<Figure size 640x480 with 1 Axes>"
      ]
     },
     "metadata": {},
     "output_type": "display_data"
    }
   ],
   "source": [
    "plt.plot(train_loss)\n",
    "plt.show()"
   ]
  },
  {
   "cell_type": "code",
   "execution_count": 138,
   "metadata": {},
   "outputs": [
    {
     "data": {
      "image/png": "[encoded data removed]",
      "text/plain": [
       "<Figure size 640x480 with 1 Axes>"
      ]
     },
     "metadata": {},
     "output_type": "display_data"
    }
   ],
   "source": [
    "plt.plot(train_accuracy)\n",
    "plt.show()"
   ]
  },
  {
   "cell_type": "code",
   "execution_count": null,
   "metadata": {},
   "outputs": [],
   "source": []
  }
 ],
 "metadata": {
  "kernelspec": {
   "display_name": "Python 3.10.4 ('energy-prediction')",
   "language": "python",
   "name": "python3"
  },
  "language_info": {
   "codemirror_mode": {
    "name": "ipython",
    "version": 3
   },
   "file_extension": ".py",
   "mimetype": "text/x-python",
   "name": "python",
   "nbconvert_exporter": "python",
   "pygments_lexer": "ipython3",
   "version": "3.10.4"
  },
  "orig_nbformat": 4,
  "vscode": {
   "interpreter": {
    "hash": "2d8ea44dacc84c32c3ffb10f5fa42b465f31145cc9ac97a8028dfa96db72aa4c"
   }
  }
 },
 "nbformat": 4,
 "nbformat_minor": 2
}
