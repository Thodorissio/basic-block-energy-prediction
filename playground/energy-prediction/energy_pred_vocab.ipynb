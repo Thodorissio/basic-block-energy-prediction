{
 "cells": [
  {
   "cell_type": "markdown",
   "metadata": {},
   "source": [
    "# Imports"
   ]
  },
  {
   "cell_type": "code",
   "execution_count": 1,
   "metadata": {},
   "outputs": [],
   "source": [
    "import numpy as np\n",
    "import pandas as pd\n",
    "import matplotlib.pyplot as plt\n",
    "import tqdm\n",
    "import random\n",
    "import sys\n",
    "import os\n",
    "\n",
    "import torch\n",
    "from torch import nn\n",
    "from torch.utils import data\n",
    "\n",
    "sys.path.append(\"../../src\")\n",
    "sys.path.append(\"../palm-tree\")\n",
    "\n",
    "from collections import Counter\n",
    "\n",
    "import embedder\n",
    "import models\n",
    "import utils\n",
    "import dataset"
   ]
  },
  {
   "cell_type": "code",
   "execution_count": 2,
   "metadata": {},
   "outputs": [
    {
     "data": {
      "text/plain": [
       "<torch._C.Generator at 0x205845d03b0>"
      ]
     },
     "execution_count": 2,
     "metadata": {},
     "output_type": "execute_result"
    }
   ],
   "source": [
    "seed_value = 42\n",
    "np.random.seed(seed_value)\n",
    "torch.manual_seed(42)"
   ]
  },
  {
   "cell_type": "code",
   "execution_count": 3,
   "metadata": {},
   "outputs": [
    {
     "data": {
      "text/plain": [
       "device(type='cuda', index=1)"
      ]
     },
     "execution_count": 3,
     "metadata": {},
     "output_type": "execute_result"
    }
   ],
   "source": [
    "torch.device('cuda:1' if torch.cuda.is_available() else 'cpu')\n",
    "#torch.device('cpu')"
   ]
  },
  {
   "cell_type": "markdown",
   "metadata": {},
   "source": [
    "# Imdb Sentiment Dataset"
   ]
  },
  {
   "cell_type": "code",
   "execution_count": 4,
   "metadata": {},
   "outputs": [],
   "source": [
    "data_df = pd.read_pickle(\"../../dataset/bb_data/good_dataset.pkl\").drop(columns = [\"bb_embeddings\"])"
   ]
  },
  {
   "attachments": {},
   "cell_type": "markdown",
   "metadata": {},
   "source": [
    "We clean instructions of large constants based on paper explanation. We also remove commas"
   ]
  },
  {
   "cell_type": "code",
   "execution_count": 5,
   "metadata": {},
   "outputs": [],
   "source": [
    "def remove_addresses(bb: list[str]) -> list[str]:\n",
    "\n",
    "    clean_bb = []\n",
    "    for inst in bb:\n",
    "        inst_list = inst.split()\n",
    "        clean_inst = [tok.replace(\",\", \"\") for tok in inst_list if len(tok) < 8]\n",
    "        clean_bb.append(\" \".join(clean_inst))\n",
    "\n",
    "    return clean_bb"
   ]
  },
  {
   "cell_type": "code",
   "execution_count": 6,
   "metadata": {},
   "outputs": [],
   "source": [
    "data_df.bb = data_df.bb.map(remove_addresses)"
   ]
  },
  {
   "attachments": {},
   "cell_type": "markdown",
   "metadata": {},
   "source": [
    "We create the vocab and tokenize the data"
   ]
  },
  {
   "cell_type": "code",
   "execution_count": 73,
   "metadata": {},
   "outputs": [],
   "source": [
    "counts = Counter(inst for bb in data_df.bb.tolist() for inst in set(bb))\n",
    "\n",
    "vocab = {inst: i for i, (inst, _) in enumerate(counts.most_common(20000), start=1)}\n",
    "vocab[\"UNK\"] = 0\n",
    "vocab[\"PAD\"] = vocab[max(vocab, key=vocab.get)] + 1"
   ]
  },
  {
   "cell_type": "code",
   "execution_count": 74,
   "metadata": {},
   "outputs": [
    {
     "name": "stdout",
     "output_type": "stream",
     "text": [
      "size of vocabulary: 1610\n"
     ]
    }
   ],
   "source": [
    "print(f\"size of vocabulary: {len(vocab)}\")"
   ]
  },
  {
   "cell_type": "markdown",
   "metadata": {},
   "source": [
    "We remove outliers in order to have more balanced padded sequences"
   ]
  },
  {
   "cell_type": "code",
   "execution_count": 75,
   "metadata": {},
   "outputs": [
    {
     "data": {
      "image/png": "[encoded data removed]",
      "text/plain": [
       "<Figure size 1000x400 with 1 Axes>"
      ]
     },
     "metadata": {},
     "output_type": "display_data"
    }
   ],
   "source": [
    "plt.figure(figsize=(10,4))\n",
    "plt.hist(data_df.bb.map(len))\n",
    "plt.title(\"Number of instructions per bb\")\n",
    "plt.ylabel(\"Instructions\")\n",
    "plt.show()"
   ]
  },
  {
   "cell_type": "code",
   "execution_count": 76,
   "metadata": {},
   "outputs": [],
   "source": [
    "MAX_INSTS = 10\n",
    "MAX_WORDS = 3\n",
    "\n",
    "def encode_bb(bb: list[str], vocab: dict) -> list:\n",
    "\n",
    "    encoded_bb = []    \n",
    "    for inst in bb[:MAX_INSTS]:\n",
    "    \n",
    "        if inst in vocab.keys():\n",
    "            encoded_bb.append(vocab[inst])\n",
    "        else:\n",
    "            encoded_bb.append(vocab[\"UNK\"])\n",
    "        \n",
    "    if len(encoded_bb) < MAX_INSTS:\n",
    "        encoded_bb.extend([vocab[\"PAD\"] for i in range(len(encoded_bb), MAX_INSTS)])\n",
    " \n",
    "    return encoded_bb"
   ]
  },
  {
   "cell_type": "code",
   "execution_count": 77,
   "metadata": {},
   "outputs": [],
   "source": [
    "data_df[\"encoded_bb\"] = data_df.bb.apply(lambda x: encode_bb(x, vocab))"
   ]
  },
  {
   "cell_type": "code",
   "execution_count": 78,
   "metadata": {},
   "outputs": [
    {
     "data": {
      "text/html": [
       "<div>\n",
       "<style scoped>\n",
       "    .dataframe tbody tr th:only-of-type {\n",
       "        vertical-align: middle;\n",
       "    }\n",
       "\n",
       "    .dataframe tbody tr th {\n",
       "        vertical-align: top;\n",
       "    }\n",
       "\n",
       "    .dataframe thead th {\n",
       "        text-align: right;\n",
       "    }\n",
       "</style>\n",
       "<table border=\"1\" class=\"dataframe\">\n",
       "  <thead>\n",
       "    <tr style=\"text-align: right;\">\n",
       "      <th></th>\n",
       "      <th>bb</th>\n",
       "      <th>energy</th>\n",
       "      <th>encoded_bb</th>\n",
       "    </tr>\n",
       "  </thead>\n",
       "  <tbody>\n",
       "    <tr>\n",
       "      <th>0</th>\n",
       "      <td>[mov %rbx %r15, movl %r9d, mov %r8 %rsi, mov %...</td>\n",
       "      <td>2.913363</td>\n",
       "      <td>[290, 16, 292, 38, 291, 120, 6, 4, 37, 36]</td>\n",
       "    </tr>\n",
       "    <tr>\n",
       "      <th>1</th>\n",
       "      <td>[movzx %bl %eax, popq %rbx, popq %rbp, popq %r...</td>\n",
       "      <td>0.359342</td>\n",
       "      <td>[183, 7, 8, 9, 5, 1609, 1609, 1609, 1609, 1609]</td>\n",
       "    </tr>\n",
       "    <tr>\n",
       "      <th>2</th>\n",
       "      <td>[movq %r10, lea %rsi, movq %r11, mov %rbx %rdi...</td>\n",
       "      <td>0.490156</td>\n",
       "      <td>[436, 166, 236, 164, 64, 23, 704, 742, 741, 1609]</td>\n",
       "    </tr>\n",
       "    <tr>\n",
       "      <th>3</th>\n",
       "      <td>[cmp $0x20 %rdx, jb 0x4b]</td>\n",
       "      <td>0.297282</td>\n",
       "      <td>[112, 113, 1609, 1609, 1609, 1609, 1609, 1609,...</td>\n",
       "    </tr>\n",
       "    <tr>\n",
       "      <th>4</th>\n",
       "      <td>[callq 0x5d2bd, nop %edi %edx, mov %rax, movq ...</td>\n",
       "      <td>0.899731</td>\n",
       "      <td>[959, 4, 66, 45, 960, 1609, 1609, 1609, 1609, ...</td>\n",
       "    </tr>\n",
       "    <tr>\n",
       "      <th>5</th>\n",
       "      <td>[retq]</td>\n",
       "      <td>0.237825</td>\n",
       "      <td>[5, 1609, 1609, 1609, 1609, 1609, 1609, 1609, ...</td>\n",
       "    </tr>\n",
       "    <tr>\n",
       "      <th>6</th>\n",
       "      <td>[test %rbp %rbp, jz 0x7c]</td>\n",
       "      <td>0.163337</td>\n",
       "      <td>[174, 179, 1609, 1609, 1609, 1609, 1609, 1609,...</td>\n",
       "    </tr>\n",
       "    <tr>\n",
       "      <th>7</th>\n",
       "      <td>[cmp $0x1f %rbx, jbe 0x2a4]</td>\n",
       "      <td>0.246546</td>\n",
       "      <td>[504, 503, 1609, 1609, 1609, 1609, 1609, 1609,...</td>\n",
       "    </tr>\n",
       "    <tr>\n",
       "      <th>8</th>\n",
       "      <td>[cmp %rax %r15, jnz 0x285]</td>\n",
       "      <td>0.297282</td>\n",
       "      <td>[62, 364, 1609, 1609, 1609, 1609, 1609, 1609, ...</td>\n",
       "    </tr>\n",
       "    <tr>\n",
       "      <th>9</th>\n",
       "      <td>[movq %rax, mov %rax %rdx, sub %rdx, cmpq %rdx...</td>\n",
       "      <td>0.591711</td>\n",
       "      <td>[2, 42, 148, 73, 293, 1609, 1609, 1609, 1609, ...</td>\n",
       "    </tr>\n",
       "  </tbody>\n",
       "</table>\n",
       "</div>"
      ],
      "text/plain": [
       "                                                  bb    energy  \\\n",
       "0  [mov %rbx %r15, movl %r9d, mov %r8 %rsi, mov %...  2.913363   \n",
       "1  [movzx %bl %eax, popq %rbx, popq %rbp, popq %r...  0.359342   \n",
       "2  [movq %r10, lea %rsi, movq %r11, mov %rbx %rdi...  0.490156   \n",
       "3                          [cmp $0x20 %rdx, jb 0x4b]  0.297282   \n",
       "4  [callq 0x5d2bd, nop %edi %edx, mov %rax, movq ...  0.899731   \n",
       "5                                             [retq]  0.237825   \n",
       "6                          [test %rbp %rbp, jz 0x7c]  0.163337   \n",
       "7                        [cmp $0x1f %rbx, jbe 0x2a4]  0.246546   \n",
       "8                         [cmp %rax %r15, jnz 0x285]  0.297282   \n",
       "9  [movq %rax, mov %rax %rdx, sub %rdx, cmpq %rdx...  0.591711   \n",
       "\n",
       "                                          encoded_bb  \n",
       "0         [290, 16, 292, 38, 291, 120, 6, 4, 37, 36]  \n",
       "1    [183, 7, 8, 9, 5, 1609, 1609, 1609, 1609, 1609]  \n",
       "2  [436, 166, 236, 164, 64, 23, 704, 742, 741, 1609]  \n",
       "3  [112, 113, 1609, 1609, 1609, 1609, 1609, 1609,...  \n",
       "4  [959, 4, 66, 45, 960, 1609, 1609, 1609, 1609, ...  \n",
       "5  [5, 1609, 1609, 1609, 1609, 1609, 1609, 1609, ...  \n",
       "6  [174, 179, 1609, 1609, 1609, 1609, 1609, 1609,...  \n",
       "7  [504, 503, 1609, 1609, 1609, 1609, 1609, 1609,...  \n",
       "8  [62, 364, 1609, 1609, 1609, 1609, 1609, 1609, ...  \n",
       "9  [2, 42, 148, 73, 293, 1609, 1609, 1609, 1609, ...  "
      ]
     },
     "execution_count": 78,
     "metadata": {},
     "output_type": "execute_result"
    }
   ],
   "source": [
    "data_df.head(10)"
   ]
  },
  {
   "cell_type": "markdown",
   "metadata": {},
   "source": [
    "# Torch dataset preprocessing"
   ]
  },
  {
   "cell_type": "code",
   "execution_count": 79,
   "metadata": {},
   "outputs": [],
   "source": [
    "class EnergyPredictionVocabDataset(data.Dataset):\n",
    "    def __init__(self, data_df: pd.DataFrame, mean: bool = False):\n",
    "        super().__init__()\n",
    "    \n",
    "        x = np.array(data_df.encoded_bb.tolist())\n",
    "        y = data_df.energy.values\n",
    "        self.x_train = list(map(lambda x: torch.tensor(x), x))\n",
    "        self.y_train = list(map(lambda y: torch.tensor(y), y))\n",
    "\n",
    "    def __len__(self):\n",
    "        return len(self.y_train)\n",
    "\n",
    "    def __getitem__(self, idx: int):\n",
    "        return self.x_train[idx], self.y_train[idx]"
   ]
  },
  {
   "cell_type": "code",
   "execution_count": 80,
   "metadata": {},
   "outputs": [],
   "source": [
    "split = 0.9\n",
    "\n",
    "data_df = data_df.sample(frac=1, random_state=42).reset_index(drop=True)\n",
    "\n",
    "bb_df_train = data_df[:int(split * len(data_df))]\n",
    "bb_df_val = data_df[int(split * len(data_df)):]"
   ]
  },
  {
   "cell_type": "code",
   "execution_count": 81,
   "metadata": {},
   "outputs": [],
   "source": [
    "BATCH_SIZE = 32\n",
    "\n",
    "train_data = EnergyPredictionVocabDataset(bb_df_train)\n",
    "train_loader = data.DataLoader(train_data, batch_size=BATCH_SIZE, shuffle=False, drop_last=True)\n",
    "\n",
    "val_data = EnergyPredictionVocabDataset(bb_df_val)\n",
    "val_loader = data.DataLoader(val_data, batch_size=BATCH_SIZE, shuffle=False, drop_last=True)"
   ]
  },
  {
   "cell_type": "markdown",
   "metadata": {},
   "source": [
    "# Model"
   ]
  },
  {
   "cell_type": "code",
   "execution_count": 86,
   "metadata": {},
   "outputs": [],
   "source": [
    "class LSTM_Classifier(nn.Module):\n",
    "\n",
    "    def __init__(self, vocab_size: int, hidden_size: int = 16, num_layers: int = 2, bidirectional: bool = False) -> None:\n",
    "        super().__init__()\n",
    "\n",
    "        self.num_layers = num_layers\n",
    "        self.hidden_size = hidden_size\n",
    "\n",
    "        self.embedding = nn.Embedding(vocab_size, 128)\n",
    "\n",
    "        self.lstm = nn.LSTM(\n",
    "            input_size=128,\n",
    "            hidden_size=hidden_size,\n",
    "            num_layers=num_layers,\n",
    "            bidirectional=bidirectional,\n",
    "            batch_first=True,\n",
    "            dropout=0.1,\n",
    "        )\n",
    "\n",
    "        self.dense = nn.Linear(hidden_size, 128)\n",
    "        self.dropout = nn.Dropout(0.1)\n",
    "        self.smaller_dense = nn.Linear(128, 16)\n",
    "        self.regressor = nn.Linear(16, 1)\n",
    "\n",
    "    def forward(self, x, hidden):\n",
    "        \n",
    "        batch_size = x.size(0)\n",
    "        \n",
    "        embeddings = self.embedding(x)\n",
    "        \n",
    "        lstm_out, hidden_state = self.lstm(embeddings, hidden)\n",
    "        lstm_out = lstm_out.contiguous().view(-1, self.hidden_size)\n",
    "\n",
    "        out = self.dense(lstm_out)\n",
    "        out = self.dropout(out)\n",
    "        out = self.smaller_dense(out)\n",
    "        out = self.regressor(out)\n",
    "\n",
    "        out = out.view(batch_size, -1)\n",
    "        out = out[:, -1]\n",
    "\n",
    "        return out, hidden_state\n",
    "\n",
    "    def init_hidden(self, batch_size):\n",
    "        \n",
    "        hidden = (torch.zeros((self.num_layers, batch_size, self.hidden_size)).cuda(),\n",
    "                  torch.zeros((self.num_layers, batch_size, self.hidden_size)).cuda())\n",
    "        \n",
    "        return hidden"
   ]
  },
  {
   "cell_type": "code",
   "execution_count": 89,
   "metadata": {},
   "outputs": [
    {
     "name": "stdout",
     "output_type": "stream",
     "text": [
      "LSTM_Classifier(\n",
      "  (embedding): Embedding(1610, 128)\n",
      "  (lstm): LSTM(128, 256, num_layers=10, batch_first=True, dropout=0.1)\n",
      "  (dense): Linear(in_features=256, out_features=128, bias=True)\n",
      "  (dropout): Dropout(p=0.1, inplace=False)\n",
      "  (smaller_dense): Linear(in_features=128, out_features=16, bias=True)\n",
      "  (regressor): Linear(in_features=16, out_features=1, bias=True)\n",
      ")\n"
     ]
    }
   ],
   "source": [
    "VECTOR_DIM = len(vocab)\n",
    "NUM_LAYERS = 10\n",
    "HIDDEN_DIM = 256\n",
    "\n",
    "model = LSTM_Classifier(vocab_size=VECTOR_DIM, hidden_size=HIDDEN_DIM, num_layers=NUM_LAYERS)\n",
    "print(model)"
   ]
  },
  {
   "cell_type": "markdown",
   "metadata": {},
   "source": [
    "# Training"
   ]
  },
  {
   "cell_type": "code",
   "execution_count": 90,
   "metadata": {},
   "outputs": [
    {
     "name": "stdout",
     "output_type": "stream",
     "text": [
      "Epoch: 1/100, MSE Train Loss: 1.03961, MSE Val Loss: 0.84792\n",
      "Epoch: 2/100, MSE Train Loss: 0.87208, MSE Val Loss: 0.8468\n",
      "Epoch: 3/100, MSE Train Loss: 0.87144, MSE Val Loss: 0.8468\n",
      "Epoch: 4/100, MSE Train Loss: 0.87111, MSE Val Loss: 0.8468\n",
      "Epoch: 5/100, MSE Train Loss: 0.87091, MSE Val Loss: 0.84683\n",
      "Epoch: 6/100, MSE Train Loss: 0.90386, MSE Val Loss: 0.84725\n",
      "Epoch: 7/100, MSE Train Loss: 0.87128, MSE Val Loss: 0.8469\n",
      "Epoch: 8/100, MSE Train Loss: 0.87053, MSE Val Loss: 0.8469\n"
     ]
    },
    {
     "ename": "KeyboardInterrupt",
     "evalue": "",
     "output_type": "error",
     "traceback": [
      "\u001b[1;31m---------------------------------------------------------------------------\u001b[0m",
      "\u001b[1;31mKeyboardInterrupt\u001b[0m                         Traceback (most recent call last)",
      "\u001b[1;32mc:\\Users\\thodo\\Documents\\σχολη\\diplomatiki\\code-energy-prediction\\playground\\energy-prediction\\energy_pred_vocab.ipynb Cell 26\u001b[0m in \u001b[0;36m<cell line: 14>\u001b[1;34m()\u001b[0m\n\u001b[0;32m     <a href='vscode-notebook-cell:/c%3A/Users/thodo/Documents/%CF%83%CF%87%CE%BF%CE%BB%CE%B7/diplomatiki/code-energy-prediction/playground/energy-prediction/energy_pred_vocab.ipynb#X35sZmlsZQ%3D%3D?line=24'>25</a>\u001b[0m output, hidden_state \u001b[39m=\u001b[39m model(embeddings, hidden_state)\n\u001b[0;32m     <a href='vscode-notebook-cell:/c%3A/Users/thodo/Documents/%CF%83%CF%87%CE%BF%CE%BB%CE%B7/diplomatiki/code-energy-prediction/playground/energy-prediction/energy_pred_vocab.ipynb#X35sZmlsZQ%3D%3D?line=25'>26</a>\u001b[0m loss \u001b[39m=\u001b[39m criterion(output\u001b[39m.\u001b[39msqueeze(), labels\u001b[39m.\u001b[39mfloat())\n\u001b[1;32m---> <a href='vscode-notebook-cell:/c%3A/Users/thodo/Documents/%CF%83%CF%87%CE%BF%CE%BB%CE%B7/diplomatiki/code-energy-prediction/playground/energy-prediction/energy_pred_vocab.ipynb#X35sZmlsZQ%3D%3D?line=27'>28</a>\u001b[0m optimizer\u001b[39m.\u001b[39;49mzero_grad()\n\u001b[0;32m     <a href='vscode-notebook-cell:/c%3A/Users/thodo/Documents/%CF%83%CF%87%CE%BF%CE%BB%CE%B7/diplomatiki/code-energy-prediction/playground/energy-prediction/energy_pred_vocab.ipynb#X35sZmlsZQ%3D%3D?line=28'>29</a>\u001b[0m loss\u001b[39m.\u001b[39mbackward()\n\u001b[0;32m     <a href='vscode-notebook-cell:/c%3A/Users/thodo/Documents/%CF%83%CF%87%CE%BF%CE%BB%CE%B7/diplomatiki/code-energy-prediction/playground/energy-prediction/energy_pred_vocab.ipynb#X35sZmlsZQ%3D%3D?line=30'>31</a>\u001b[0m nn\u001b[39m.\u001b[39mutils\u001b[39m.\u001b[39mclip_grad_norm_(model\u001b[39m.\u001b[39mparameters(), max_norm\u001b[39m=\u001b[39m\u001b[39m5\u001b[39m)\n",
      "File \u001b[1;32mc:\\Users\\thodo\\miniconda3\\envs\\energy-prediction\\lib\\site-packages\\torch\\optim\\optimizer.py:237\u001b[0m, in \u001b[0;36mOptimizer.zero_grad\u001b[1;34m(self, set_to_none)\u001b[0m\n\u001b[0;32m    235\u001b[0m \u001b[39mif\u001b[39;00m foreach:\n\u001b[0;32m    236\u001b[0m     per_device_and_dtype_grads \u001b[39m=\u001b[39m defaultdict(\u001b[39mlambda\u001b[39;00m: defaultdict(\u001b[39mlist\u001b[39m))\n\u001b[1;32m--> 237\u001b[0m \u001b[39mwith\u001b[39;00m torch\u001b[39m.\u001b[39mautograd\u001b[39m.\u001b[39mprofiler\u001b[39m.\u001b[39mrecord_function(\u001b[39mself\u001b[39m\u001b[39m.\u001b[39m_zero_grad_profile_name):\n\u001b[0;32m    238\u001b[0m     \u001b[39mfor\u001b[39;00m group \u001b[39min\u001b[39;00m \u001b[39mself\u001b[39m\u001b[39m.\u001b[39mparam_groups:\n\u001b[0;32m    239\u001b[0m         \u001b[39mfor\u001b[39;00m p \u001b[39min\u001b[39;00m group[\u001b[39m'\u001b[39m\u001b[39mparams\u001b[39m\u001b[39m'\u001b[39m]:\n",
      "File \u001b[1;32mc:\\Users\\thodo\\miniconda3\\envs\\energy-prediction\\lib\\site-packages\\torch\\autograd\\profiler.py:446\u001b[0m, in \u001b[0;36mrecord_function.__enter__\u001b[1;34m(self)\u001b[0m\n\u001b[0;32m    445\u001b[0m \u001b[39mdef\u001b[39;00m \u001b[39m__enter__\u001b[39m(\u001b[39mself\u001b[39m):\n\u001b[1;32m--> 446\u001b[0m     \u001b[39mself\u001b[39m\u001b[39m.\u001b[39mhandle \u001b[39m=\u001b[39m torch\u001b[39m.\u001b[39;49mops\u001b[39m.\u001b[39;49mprofiler\u001b[39m.\u001b[39;49m_record_function_enter(\u001b[39mself\u001b[39;49m\u001b[39m.\u001b[39;49mname, \u001b[39mself\u001b[39;49m\u001b[39m.\u001b[39;49margs)\n\u001b[0;32m    447\u001b[0m     \u001b[39mreturn\u001b[39;00m \u001b[39mself\u001b[39m\n",
      "File \u001b[1;32mc:\\Users\\thodo\\miniconda3\\envs\\energy-prediction\\lib\\site-packages\\torch\\_ops.py:143\u001b[0m, in \u001b[0;36mOpOverloadPacket.__call__\u001b[1;34m(self, *args, **kwargs)\u001b[0m\n\u001b[0;32m    138\u001b[0m \u001b[39mdef\u001b[39;00m \u001b[39m__call__\u001b[39m(\u001b[39mself\u001b[39m, \u001b[39m*\u001b[39margs, \u001b[39m*\u001b[39m\u001b[39m*\u001b[39mkwargs):\n\u001b[0;32m    139\u001b[0m     \u001b[39m# overloading __call__ to ensure torch.ops.foo.bar()\u001b[39;00m\n\u001b[0;32m    140\u001b[0m     \u001b[39m# is still callable from JIT\u001b[39;00m\n\u001b[0;32m    141\u001b[0m     \u001b[39m# We save the function ptr as the `op` attribute on\u001b[39;00m\n\u001b[0;32m    142\u001b[0m     \u001b[39m# OpOverloadPacket to access it here.\u001b[39;00m\n\u001b[1;32m--> 143\u001b[0m     \u001b[39mreturn\u001b[39;00m \u001b[39mself\u001b[39m\u001b[39m.\u001b[39m_op(\u001b[39m*\u001b[39margs, \u001b[39m*\u001b[39m\u001b[39m*\u001b[39mkwargs \u001b[39mor\u001b[39;00m {})\n",
      "\u001b[1;31mKeyboardInterrupt\u001b[0m: "
     ]
    }
   ],
   "source": [
    "EPOCHS = 100\n",
    "\n",
    "criterion = nn.MSELoss()\n",
    "optimizer = torch.optim.Adam(params=model.parameters(), lr=1e-2, weight_decay=1e-4)\n",
    "\n",
    "model.cuda()\n",
    "model.train()\n",
    "\n",
    "cnt = 0\n",
    "\n",
    "train_losses = []\n",
    "val_losses = []\n",
    "\n",
    "for epoch in range(EPOCHS):\n",
    "    hidden_state = model.init_hidden(batch_size=BATCH_SIZE)\n",
    "    losses = []\n",
    "    for embeddings, labels in train_loader:\n",
    "\n",
    "        embeddings = embeddings.cuda()\n",
    "        labels = labels.cuda()\n",
    "\n",
    "        hidden_state = tuple([each.data for each in hidden_state])\n",
    "\n",
    "\n",
    "        output, hidden_state = model(embeddings, hidden_state)\n",
    "        loss = criterion(output.squeeze(), labels.float())\n",
    "\n",
    "        optimizer.zero_grad()\n",
    "        loss.backward()\n",
    "\n",
    "        nn.utils.clip_grad_norm_(model.parameters(), max_norm=5)\n",
    "        optimizer.step()\n",
    "        losses.append(loss.item())\n",
    "\n",
    "    val_h = model.init_hidden(BATCH_SIZE)\n",
    "    val_loss = []\n",
    "    model.eval()\n",
    "    for embeddings, labels in val_loader:\n",
    "\n",
    "        # Creating new variables for the hidden state, otherwise\n",
    "        # we'd backprop through the entire training history\n",
    "\n",
    "        embeddings, labels = embeddings.cuda(), labels.cuda()  \n",
    "        output, val_h = model(embeddings, val_h)\n",
    "        v_loss = criterion(output.squeeze(), labels.float())\n",
    "\n",
    "        val_loss.append(v_loss.item())\n",
    "\n",
    "    model.train()\n",
    "    print(\n",
    "        f\"Epoch: {epoch+1}/{EPOCHS}, MSE Train Loss: {round(np.mean(losses), 5)}, MSE Val Loss: {round(np.mean(val_loss), 5)}\"\n",
    "    )\n",
    "\n",
    "    train_losses.append(np.mean(losses))\n",
    "    val_losses.append(np.mean(val_loss))"
   ]
  },
  {
   "cell_type": "code",
   "execution_count": 91,
   "metadata": {},
   "outputs": [
    {
     "data": {
      "image/png": "[encoded data removed]",
      "text/plain": [
       "<Figure size 640x480 with 1 Axes>"
      ]
     },
     "metadata": {},
     "output_type": "display_data"
    }
   ],
   "source": [
    "plt.plot(train_losses)\n",
    "plt.show()"
   ]
  },
  {
   "cell_type": "code",
   "execution_count": 92,
   "metadata": {},
   "outputs": [
    {
     "data": {
      "image/png": "[encoded data removed]",
      "text/plain": [
       "<Figure size 640x480 with 1 Axes>"
      ]
     },
     "metadata": {},
     "output_type": "display_data"
    }
   ],
   "source": [
    "plt.plot(val_losses)\n",
    "plt.show()"
   ]
  },
  {
   "cell_type": "code",
   "execution_count": 94,
   "metadata": {},
   "outputs": [],
   "source": [
    "preds = []\n",
    "\n",
    "val_h = model.init_hidden(BATCH_SIZE)\n",
    "for embeddings, labels in val_loader:\n",
    "\n",
    "    embeddings, labels = embeddings.cuda(), labels.cuda()  \n",
    "    output, val_h = model(embeddings, val_h)\n",
    "    preds.append(output.tolist())\n",
    "\n",
    "preds = np.array(preds).flatten()"
   ]
  },
  {
   "cell_type": "code",
   "execution_count": 95,
   "metadata": {},
   "outputs": [
    {
     "data": {
      "image/png": "[encoded data removed]",
      "text/plain": [
       "<Figure size 1000x500 with 1 Axes>"
      ]
     },
     "metadata": {},
     "output_type": "display_data"
    }
   ],
   "source": [
    "plt.figure(figsize=(10, 5))\n",
    "plt.hist(preds, bins=100, range=(0,5))\n",
    "plt.title(\"Predictions' energy distribution\")\n",
    "plt.xlabel(\"Energy\")\n",
    "plt.show()"
   ]
  },
  {
   "cell_type": "code",
   "execution_count": 96,
   "metadata": {},
   "outputs": [
    {
     "data": {
      "image/png": "[encoded data removed]",
      "text/plain": [
       "<Figure size 1000x500 with 1 Axes>"
      ]
     },
     "metadata": {},
     "output_type": "display_data"
    }
   ],
   "source": [
    "val_labels = bb_df_val.energy\n",
    "\n",
    "plt.figure(figsize=(10, 5))\n",
    "plt.hist(val_labels, bins=100, range=(0,5))\n",
    "plt.title(\"Validation labels energy distribution\")\n",
    "plt.xlabel(\"Energy\")\n",
    "plt.show()"
   ]
  },
  {
   "cell_type": "code",
   "execution_count": null,
   "metadata": {},
   "outputs": [],
   "source": []
  }
 ],
 "metadata": {
  "kernelspec": {
   "display_name": "energy-prediction",
   "language": "python",
   "name": "python3"
  },
  "language_info": {
   "codemirror_mode": {
    "name": "ipython",
    "version": 3
   },
   "file_extension": ".py",
   "mimetype": "text/x-python",
   "name": "python",
   "nbconvert_exporter": "python",
   "pygments_lexer": "ipython3",
   "version": "3.10.4"
  },
  "orig_nbformat": 4,
  "vscode": {
   "interpreter": {
    "hash": "2d8ea44dacc84c32c3ffb10f5fa42b465f31145cc9ac97a8028dfa96db72aa4c"
   }
  }
 },
 "nbformat": 4,
 "nbformat_minor": 2
}
