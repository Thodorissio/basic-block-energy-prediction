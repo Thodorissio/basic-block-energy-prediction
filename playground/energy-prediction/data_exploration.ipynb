{
 "cells": [
  {
   "attachments": {},
   "cell_type": "markdown",
   "metadata": {},
   "source": [
    "# Imports"
   ]
  },
  {
   "cell_type": "code",
   "execution_count": 52,
   "metadata": {},
   "outputs": [],
   "source": [
    "import pandas as pd\n",
    "import numpy as np\n",
    "import matplotlib.pyplot as plt\n",
    "import tqdm"
   ]
  },
  {
   "attachments": {},
   "cell_type": "markdown",
   "metadata": {},
   "source": [
    "# First program"
   ]
  },
  {
   "attachments": {},
   "cell_type": "markdown",
   "metadata": {},
   "source": [
    "## Parsing files"
   ]
  },
  {
   "cell_type": "code",
   "execution_count": 36,
   "metadata": {},
   "outputs": [
    {
     "name": "stderr",
     "output_type": "stream",
     "text": [
      "Read file: 18956it [00:00, 1404324.34it/s]\n"
     ]
    }
   ],
   "source": [
    "bbs = {}\n",
    "\n",
    "#Reading basic block data\n",
    "with open(\"../../dataset/bb_data/reverse_nums_features.txt\") as fIn:\n",
    "    for line in tqdm.tqdm(fIn, desc='Read file'):\n",
    "        #line start with \"@\" symbols the begging of a new basic block\n",
    "        if line[0] == \"@\":\n",
    "            bb_name = line.split()[-1].rstrip(\":\")\n",
    "            bbs[bb_name] = []\n",
    "        else:\n",
    "            bbs[bb_name].append(line.split(\"=\")[0].rstrip())"
   ]
  },
  {
   "cell_type": "code",
   "execution_count": 77,
   "metadata": {},
   "outputs": [
    {
     "name": "stderr",
     "output_type": "stream",
     "text": [
      "Read file: 3168it [00:00, 792293.55it/s]\n"
     ]
    }
   ],
   "source": [
    "bbs_energy = {}\n",
    "\n",
    "#Reading basic block data\n",
    "with open(\"../../dataset/bb_data/reverse_nums_labels.txt\") as fIn:\n",
    "    for line in tqdm.tqdm(fIn, desc='Read file'):\n",
    "        #line start with \"@\" symbols the begging of a new basic block\n",
    "        line = line.split(\":\")\n",
    "        bb_name = line[0].split()[-1]\n",
    "        bbs_energy[bb_name] = float(line[-1].strip())"
   ]
  },
  {
   "cell_type": "code",
   "execution_count": 105,
   "metadata": {},
   "outputs": [
    {
     "name": "stdout",
     "output_type": "stream",
     "text": [
      "Number of basic blocks with energies for reverse_nums program: 3168\n"
     ]
    }
   ],
   "source": [
    "bbs_df = pd.DataFrame({\"bb_name\": bbs.keys(), \"bb\": bbs.values()})\n",
    "bbs_energy_df = pd.DataFrame({\"bb_name\": bbs_energy.keys(), \"energy\": bbs_energy.values()})\n",
    "\n",
    "df = bbs_df.merge(bbs_energy_df, on=\"bb_name\", how=\"inner\")\n",
    "print(f\"Number of basic blocks with energies for reverse_nums program: {len(df)}\")"
   ]
  },
  {
   "cell_type": "code",
   "execution_count": 79,
   "metadata": {},
   "outputs": [
    {
     "data": {
      "text/html": [
       "<div>\n",
       "<style scoped>\n",
       "    .dataframe tbody tr th:only-of-type {\n",
       "        vertical-align: middle;\n",
       "    }\n",
       "\n",
       "    .dataframe tbody tr th {\n",
       "        vertical-align: top;\n",
       "    }\n",
       "\n",
       "    .dataframe thead th {\n",
       "        text-align: right;\n",
       "    }\n",
       "</style>\n",
       "<table border=\"1\" class=\"dataframe\">\n",
       "  <thead>\n",
       "    <tr style=\"text-align: right;\">\n",
       "      <th></th>\n",
       "      <th>bb_name</th>\n",
       "      <th>bb</th>\n",
       "      <th>energy</th>\n",
       "    </tr>\n",
       "  </thead>\n",
       "  <tbody>\n",
       "    <tr>\n",
       "      <th>0</th>\n",
       "      <td>1_0</td>\n",
       "      <td>[movl  $0x0, -0x40(%rbp), movl  %ebx, -0x3c(%r...</td>\n",
       "      <td>0.723267</td>\n",
       "    </tr>\n",
       "    <tr>\n",
       "      <th>1</th>\n",
       "      <td>2_0</td>\n",
       "      <td>[callq  0xffffffffffffffc8, pushq  %rbp, mov %...</td>\n",
       "      <td>0.783539</td>\n",
       "    </tr>\n",
       "    <tr>\n",
       "      <th>2</th>\n",
       "      <td>3_0</td>\n",
       "      <td>[popq  %rbp, retq]</td>\n",
       "      <td>0.361634</td>\n",
       "    </tr>\n",
       "    <tr>\n",
       "      <th>3</th>\n",
       "      <td>4_0</td>\n",
       "      <td>[movq  $0x0, -0x28(%rbp)]</td>\n",
       "      <td>0.173120</td>\n",
       "    </tr>\n",
       "    <tr>\n",
       "      <th>4</th>\n",
       "      <td>5_0</td>\n",
       "      <td>[mov $0x4b3004, %rdi, mov $0x0, %al, callq  0x...</td>\n",
       "      <td>1.644629</td>\n",
       "    </tr>\n",
       "  </tbody>\n",
       "</table>\n",
       "</div>"
      ],
      "text/plain": [
       "  bb_name                                                 bb    energy\n",
       "0     1_0  [movl  $0x0, -0x40(%rbp), movl  %ebx, -0x3c(%r...  0.723267\n",
       "1     2_0  [callq  0xffffffffffffffc8, pushq  %rbp, mov %...  0.783539\n",
       "2     3_0                                 [popq  %rbp, retq]  0.361634\n",
       "3     4_0                          [movq  $0x0, -0x28(%rbp)]  0.173120\n",
       "4     5_0  [mov $0x4b3004, %rdi, mov $0x0, %al, callq  0x...  1.644629"
      ]
     },
     "execution_count": 79,
     "metadata": {},
     "output_type": "execute_result"
    }
   ],
   "source": [
    "df.head(5)"
   ]
  },
  {
   "attachments": {},
   "cell_type": "markdown",
   "metadata": {},
   "source": [
    "## Analysis"
   ]
  },
  {
   "cell_type": "code",
   "execution_count": 102,
   "metadata": {},
   "outputs": [
    {
     "data": {
      "image/png": "[encoded data removed]",
      "text/plain": [
       "<Figure size 1000x500 with 1 Axes>"
      ]
     },
     "metadata": {},
     "output_type": "display_data"
    }
   ],
   "source": [
    "x_ticks = np.arange(df.energy.min(), df.energy.max(), 20)\n",
    "\n",
    "plt.figure(figsize=(10, 5))\n",
    "plt.hist(df.energy, bins=100)\n",
    "plt.title(\"Basic blocks' energy distribution\")\n",
    "plt.xlabel(\"Energy\")\n",
    "plt.xticks(x_ticks)\n",
    "plt.show()"
   ]
  },
  {
   "attachments": {},
   "cell_type": "markdown",
   "metadata": {},
   "source": [
    "We have one outlier which we throw away"
   ]
  },
  {
   "cell_type": "code",
   "execution_count": 103,
   "metadata": {},
   "outputs": [
    {
     "data": {
      "text/plain": [
       "['movq  -0x20(%rbp), %rax',\n",
       " 'cqo',\n",
       " 'mov $0xa, %ecx',\n",
       " 'idiv %rcx',\n",
       " 'movq  %rdx, -0x30(%rbp)',\n",
       " 'imulq  $0xa, -0x28(%rbp), %rax',\n",
       " 'addq  -0x30(%rbp), %rax',\n",
       " 'movq  %rax, -0x28(%rbp)',\n",
       " 'movq  -0x20(%rbp), %rax',\n",
       " 'cqo',\n",
       " 'idiv %rcx',\n",
       " 'movq  %rax, -0x20(%rbp)',\n",
       " 'jmp 0xffffffffffffffc0']"
      ]
     },
     "execution_count": 103,
     "metadata": {},
     "output_type": "execute_result"
    }
   ],
   "source": [
    "outlier_bb = df.loc[df.energy.idxmax()]\n",
    "outlier_bb.bb"
   ]
  },
  {
   "cell_type": "code",
   "execution_count": 104,
   "metadata": {},
   "outputs": [
    {
     "data": {
      "image/png": "[encoded data removed]",
      "text/plain": [
       "<Figure size 1000x500 with 1 Axes>"
      ]
     },
     "metadata": {},
     "output_type": "display_data"
    }
   ],
   "source": [
    "x_ticks = np.arange(df.energy.min(), 10, 1)\n",
    "\n",
    "plt.figure(figsize=(10, 5))\n",
    "plt.hist(df.energy, range=(0,10))\n",
    "plt.title(\"Basic blocks' energy distribution\")\n",
    "plt.xlabel(\"Energy\")\n",
    "plt.xticks(x_ticks)\n",
    "plt.show()"
   ]
  },
  {
   "cell_type": "code",
   "execution_count": 107,
   "metadata": {},
   "outputs": [
    {
     "name": "stdout",
     "output_type": "stream",
     "text": [
      "Number of basic blocks with 0 energy: 1051\n"
     ]
    }
   ],
   "source": [
    "print(f\"Number of basic blocks with 0 energy: {len(df[df.energy == 0.0])}\")"
   ]
  },
  {
   "cell_type": "code",
   "execution_count": 132,
   "metadata": {},
   "outputs": [
    {
     "data": {
      "text/html": [
       "<div>\n",
       "<style scoped>\n",
       "    .dataframe tbody tr th:only-of-type {\n",
       "        vertical-align: middle;\n",
       "    }\n",
       "\n",
       "    .dataframe tbody tr th {\n",
       "        vertical-align: top;\n",
       "    }\n",
       "\n",
       "    .dataframe thead th {\n",
       "        text-align: right;\n",
       "    }\n",
       "</style>\n",
       "<table border=\"1\" class=\"dataframe\">\n",
       "  <thead>\n",
       "    <tr style=\"text-align: right;\">\n",
       "      <th></th>\n",
       "      <th>bb_name</th>\n",
       "      <th>bb</th>\n",
       "      <th>energy</th>\n",
       "    </tr>\n",
       "  </thead>\n",
       "  <tbody>\n",
       "    <tr>\n",
       "      <th>365</th>\n",
       "      <td>5_361</td>\n",
       "      <td>[add $0x18, %rsp, mov %r13, %rax, popq  %rbx, ...</td>\n",
       "      <td>0.779035</td>\n",
       "    </tr>\n",
       "    <tr>\n",
       "      <th>941</th>\n",
       "      <td>43_213</td>\n",
       "      <td>[add $0x18, %rsp, mov %r13, %rax, popq  %rbx, ...</td>\n",
       "      <td>0.121676</td>\n",
       "    </tr>\n",
       "    <tr>\n",
       "      <th>1173</th>\n",
       "      <td>50_213</td>\n",
       "      <td>[add $0x18, %rsp, mov %r13, %rax, popq  %rbx, ...</td>\n",
       "      <td>4.882667</td>\n",
       "    </tr>\n",
       "    <tr>\n",
       "      <th>1405</th>\n",
       "      <td>57_213</td>\n",
       "      <td>[add $0x18, %rsp, mov %r13, %rax, popq  %rbx, ...</td>\n",
       "      <td>1.642742</td>\n",
       "    </tr>\n",
       "    <tr>\n",
       "      <th>1637</th>\n",
       "      <td>64_213</td>\n",
       "      <td>[add $0x18, %rsp, mov %r13, %rax, popq  %rbx, ...</td>\n",
       "      <td>4.521798</td>\n",
       "    </tr>\n",
       "    <tr>\n",
       "      <th>1869</th>\n",
       "      <td>71_213</td>\n",
       "      <td>[add $0x18, %rsp, mov %r13, %rax, popq  %rbx, ...</td>\n",
       "      <td>0.949294</td>\n",
       "    </tr>\n",
       "    <tr>\n",
       "      <th>2101</th>\n",
       "      <td>78_213</td>\n",
       "      <td>[add $0x18, %rsp, mov %r13, %rax, popq  %rbx, ...</td>\n",
       "      <td>0.949294</td>\n",
       "    </tr>\n",
       "    <tr>\n",
       "      <th>2333</th>\n",
       "      <td>85_213</td>\n",
       "      <td>[add $0x18, %rsp, mov %r13, %rax, popq  %rbx, ...</td>\n",
       "      <td>0.000000</td>\n",
       "    </tr>\n",
       "    <tr>\n",
       "      <th>2565</th>\n",
       "      <td>92_213</td>\n",
       "      <td>[add $0x18, %rsp, mov %r13, %rax, popq  %rbx, ...</td>\n",
       "      <td>0.000000</td>\n",
       "    </tr>\n",
       "    <tr>\n",
       "      <th>2797</th>\n",
       "      <td>99_213</td>\n",
       "      <td>[add $0x18, %rsp, mov %r13, %rax, popq  %rbx, ...</td>\n",
       "      <td>0.000000</td>\n",
       "    </tr>\n",
       "    <tr>\n",
       "      <th>3029</th>\n",
       "      <td>106_213</td>\n",
       "      <td>[add $0x18, %rsp, mov %r13, %rax, popq  %rbx, ...</td>\n",
       "      <td>0.000000</td>\n",
       "    </tr>\n",
       "  </tbody>\n",
       "</table>\n",
       "</div>"
      ],
      "text/plain": [
       "      bb_name                                                 bb    energy\n",
       "365     5_361  [add $0x18, %rsp, mov %r13, %rax, popq  %rbx, ...  0.779035\n",
       "941    43_213  [add $0x18, %rsp, mov %r13, %rax, popq  %rbx, ...  0.121676\n",
       "1173   50_213  [add $0x18, %rsp, mov %r13, %rax, popq  %rbx, ...  4.882667\n",
       "1405   57_213  [add $0x18, %rsp, mov %r13, %rax, popq  %rbx, ...  1.642742\n",
       "1637   64_213  [add $0x18, %rsp, mov %r13, %rax, popq  %rbx, ...  4.521798\n",
       "1869   71_213  [add $0x18, %rsp, mov %r13, %rax, popq  %rbx, ...  0.949294\n",
       "2101   78_213  [add $0x18, %rsp, mov %r13, %rax, popq  %rbx, ...  0.949294\n",
       "2333   85_213  [add $0x18, %rsp, mov %r13, %rax, popq  %rbx, ...  0.000000\n",
       "2565   92_213  [add $0x18, %rsp, mov %r13, %rax, popq  %rbx, ...  0.000000\n",
       "2797   99_213  [add $0x18, %rsp, mov %r13, %rax, popq  %rbx, ...  0.000000\n",
       "3029  106_213  [add $0x18, %rsp, mov %r13, %rax, popq  %rbx, ...  0.000000"
      ]
     },
     "execution_count": 132,
     "metadata": {},
     "output_type": "execute_result"
    }
   ],
   "source": [
    "df[df.bb.map(tuple) == ('add $0x18, %rsp',\n",
    " 'mov %r13, %rax',\n",
    " 'popq  %rbx',\n",
    " 'popq  %rbp',\n",
    " 'popq  %r12',\n",
    " 'popq  %r13',\n",
    " 'popq  %r14',\n",
    " 'popq  %r15',\n",
    " 'retq')]"
   ]
  },
  {
   "cell_type": "code",
   "execution_count": 128,
   "metadata": {},
   "outputs": [
    {
     "data": {
      "text/html": [
       "<div>\n",
       "<style scoped>\n",
       "    .dataframe tbody tr th:only-of-type {\n",
       "        vertical-align: middle;\n",
       "    }\n",
       "\n",
       "    .dataframe tbody tr th {\n",
       "        vertical-align: top;\n",
       "    }\n",
       "\n",
       "    .dataframe thead th {\n",
       "        text-align: right;\n",
       "    }\n",
       "</style>\n",
       "<table border=\"1\" class=\"dataframe\">\n",
       "  <thead>\n",
       "    <tr style=\"text-align: right;\">\n",
       "      <th></th>\n",
       "      <th>bb</th>\n",
       "      <th>energy</th>\n",
       "    </tr>\n",
       "  </thead>\n",
       "  <tbody>\n",
       "    <tr>\n",
       "      <th>0</th>\n",
       "      <td>()</td>\n",
       "      <td>[0.0]</td>\n",
       "    </tr>\n",
       "    <tr>\n",
       "      <th>1</th>\n",
       "      <td>(add $0x18, %rsp, mov %r13, %rax, popq  %rbx, ...</td>\n",
       "      <td>[0.7790346587751376, 0.12167584340201128, 4.88...</td>\n",
       "    </tr>\n",
       "    <tr>\n",
       "      <th>2</th>\n",
       "      <td>(add $0x1d0, %rsp, popq  %rbp, popq  %r12, pop...</td>\n",
       "      <td>[0.4760761214271957]</td>\n",
       "    </tr>\n",
       "    <tr>\n",
       "      <th>3</th>\n",
       "      <td>(add $0x38, %rsp, mov %r12d, %eax, popq  %rbx,...</td>\n",
       "      <td>[0.0]</td>\n",
       "    </tr>\n",
       "    <tr>\n",
       "      <th>4</th>\n",
       "      <td>(add $0x38, %rsp, mov %r14d, %eax, popq  %rbx,...</td>\n",
       "      <td>[0.0]</td>\n",
       "    </tr>\n",
       "    <tr>\n",
       "      <th>...</th>\n",
       "      <td>...</td>\n",
       "      <td>...</td>\n",
       "    </tr>\n",
       "    <tr>\n",
       "      <th>446</th>\n",
       "      <td>(xor %ecx, %ecx, movl  -0x510(%rbp), %edx, cmp...</td>\n",
       "      <td>[0.3325794588095518, 13.345957245528046, 4.490...</td>\n",
       "    </tr>\n",
       "    <tr>\n",
       "      <th>447</th>\n",
       "      <td>(xor %edx, %edx, xor %esi, %esi, mov %rbx, %rd...</td>\n",
       "      <td>[0.0]</td>\n",
       "    </tr>\n",
       "    <tr>\n",
       "      <th>448</th>\n",
       "      <td>(xor %esi, %esi, mov %r13, %rdi, callq  0xffff...</td>\n",
       "      <td>[1.471511631594347]</td>\n",
       "    </tr>\n",
       "    <tr>\n",
       "      <th>449</th>\n",
       "      <td>(xor %r12d, %r12d, nop, movl  %fs:0x18, %eax, ...</td>\n",
       "      <td>[0.0]</td>\n",
       "    </tr>\n",
       "    <tr>\n",
       "      <th>450</th>\n",
       "      <td>(xor %r15d, %r15d, jmp 0xffffffffffffff00)</td>\n",
       "      <td>[0.06083681561730655, 0.06083681561730655, 2.4...</td>\n",
       "    </tr>\n",
       "  </tbody>\n",
       "</table>\n",
       "<p>451 rows × 2 columns</p>\n",
       "</div>"
      ],
      "text/plain": [
       "                                                    bb  \\\n",
       "0                                                   ()   \n",
       "1    (add $0x18, %rsp, mov %r13, %rax, popq  %rbx, ...   \n",
       "2    (add $0x1d0, %rsp, popq  %rbp, popq  %r12, pop...   \n",
       "3    (add $0x38, %rsp, mov %r12d, %eax, popq  %rbx,...   \n",
       "4    (add $0x38, %rsp, mov %r14d, %eax, popq  %rbx,...   \n",
       "..                                                 ...   \n",
       "446  (xor %ecx, %ecx, movl  -0x510(%rbp), %edx, cmp...   \n",
       "447  (xor %edx, %edx, xor %esi, %esi, mov %rbx, %rd...   \n",
       "448  (xor %esi, %esi, mov %r13, %rdi, callq  0xffff...   \n",
       "449  (xor %r12d, %r12d, nop, movl  %fs:0x18, %eax, ...   \n",
       "450         (xor %r15d, %r15d, jmp 0xffffffffffffff00)   \n",
       "\n",
       "                                                energy  \n",
       "0                                                [0.0]  \n",
       "1    [0.7790346587751376, 0.12167584340201128, 4.88...  \n",
       "2                                 [0.4760761214271957]  \n",
       "3                                                [0.0]  \n",
       "4                                                [0.0]  \n",
       "..                                                 ...  \n",
       "446  [0.3325794588095518, 13.345957245528046, 4.490...  \n",
       "447                                              [0.0]  \n",
       "448                                [1.471511631594347]  \n",
       "449                                              [0.0]  \n",
       "450  [0.06083681561730655, 0.06083681561730655, 2.4...  \n",
       "\n",
       "[451 rows x 2 columns]"
      ]
     },
     "execution_count": 128,
     "metadata": {},
     "output_type": "execute_result"
    }
   ],
   "source": [
    "grouped_df = df.groupby(df[\"bb\"].map(tuple))[\"energy\"].apply(list).reset_index()\n",
    "grouped_df"
   ]
  },
  {
   "cell_type": "code",
   "execution_count": 140,
   "metadata": {},
   "outputs": [
    {
     "name": "stdout",
     "output_type": "stream",
     "text": [
      "Number of basic blocks that appear multiple times: 172\n"
     ]
    }
   ],
   "source": [
    "multiple_energies = grouped_df[grouped_df.energy.map(len) > 1]\n",
    "print(f\"Number of basic blocks that appear multiple times: {len(multiple_energies)}\")"
   ]
  },
  {
   "cell_type": "code",
   "execution_count": 147,
   "metadata": {},
   "outputs": [
    {
     "name": "stdout",
     "output_type": "stream",
     "text": [
      "Number of basic blocks that appear multiple times with 0 energy: 12\n"
     ]
    }
   ],
   "source": [
    "zero_energy = multiple_energies[multiple_energies.energy.map(max) == 0]\n",
    "print(f\"Number of basic blocks that appear multiple times with 0 energy: {len(zero_energy)}\")"
   ]
  },
  {
   "cell_type": "code",
   "execution_count": 152,
   "metadata": {},
   "outputs": [
    {
     "data": {
      "image/png": "[encoded data removed]",
      "text/plain": [
       "<Figure size 1000x500 with 1 Axes>"
      ]
     },
     "metadata": {},
     "output_type": "display_data"
    }
   ],
   "source": [
    "x_ticks = np.arange(0, 10, 1)\n",
    "\n",
    "plt.figure(figsize=(10, 5))\n",
    "plt.hist(multiple_energies.sample(1).energy, range=(0,10))\n",
    "plt.title(\"Basic blocks' energy distribution\")\n",
    "plt.xlabel(\"Energy\")\n",
    "plt.xticks(x_ticks)\n",
    "plt.show()"
   ]
  },
  {
   "cell_type": "code",
   "execution_count": 157,
   "metadata": {},
   "outputs": [
    {
     "data": {
      "image/png": "[encoded data removed]",
      "text/plain": [
       "<Figure size 1000x500 with 1 Axes>"
      ]
     },
     "metadata": {},
     "output_type": "display_data"
    }
   ],
   "source": [
    "x_ticks = np.arange(0, 10, 1)\n",
    "\n",
    "plt.figure(figsize=(10, 5))\n",
    "plt.hist(multiple_energies.sample(1).energy, range=(0,10))\n",
    "plt.title(\"Basic blocks' energy distribution\")\n",
    "plt.xlabel(\"Energy\")\n",
    "plt.xticks(x_ticks)\n",
    "plt.show()"
   ]
  }
 ],
 "metadata": {
  "kernelspec": {
   "display_name": "energy-prediction",
   "language": "python",
   "name": "python3"
  },
  "language_info": {
   "codemirror_mode": {
    "name": "ipython",
    "version": 3
   },
   "file_extension": ".py",
   "mimetype": "text/x-python",
   "name": "python",
   "nbconvert_exporter": "python",
   "pygments_lexer": "ipython3",
   "version": "3.10.4"
  },
  "orig_nbformat": 4,
  "vscode": {
   "interpreter": {
    "hash": "2d8ea44dacc84c32c3ffb10f5fa42b465f31145cc9ac97a8028dfa96db72aa4c"
   }
  }
 },
 "nbformat": 4,
 "nbformat_minor": 2
}
