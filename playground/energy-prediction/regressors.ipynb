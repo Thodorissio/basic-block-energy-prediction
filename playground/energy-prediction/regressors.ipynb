{
 "cells": [
  {
   "attachments": {},
   "cell_type": "markdown",
   "metadata": {},
   "source": [
    "# Imports"
   ]
  },
  {
   "cell_type": "code",
   "execution_count": 61,
   "metadata": {},
   "outputs": [],
   "source": [
    "import os\n",
    "import sys\n",
    "import pandas as pd\n",
    "import numpy as np\n",
    "\n",
    "from sklearn.model_selection import train_test_split\n",
    "from sklearn.linear_model import LinearRegression, SGDRegressor, ElasticNet, BayesianRidge\n",
    "from sklearn.svm import SVR\n",
    "from sklearn.ensemble import GradientBoostingRegressor\n",
    "\n",
    "from sklearn.metrics import mean_absolute_error, mean_squared_error\n",
    "\n",
    "from collections import Counter\n",
    "\n",
    "sys.path.append(\"../../src\")\n",
    "\n",
    "import embedder\n",
    "import utils\n",
    "import matplotlib.pyplot as plt"
   ]
  },
  {
   "attachments": {},
   "cell_type": "markdown",
   "metadata": {},
   "source": [
    "# Data"
   ]
  },
  {
   "cell_type": "code",
   "execution_count": 43,
   "metadata": {},
   "outputs": [],
   "source": [
    "data_files = os.listdir(\"../../dataset/bb_data/\")\n",
    "\n",
    "if \"energy_dataset.pkl\" not in data_files:\n",
    "    result_files = [f for f in os.listdir(\"../../../energy_dataset/\") if f.endswith(\"results\")] \n",
    "    data_df = pd.DataFrame()\n",
    "\n",
    "    for file in result_files:\n",
    "        file_df = utils.read_bb_data(f\"../../../energy_dataset/{file}/breaker_code.txt\", f\"../../../energy_dataset/{file}/breaker_final_energy.txt\")\n",
    "        file_df = utils.preprocess_bb_df(file_df)\n",
    "        data_df = pd.concat([data_df, file_df], ignore_index=True)\n",
    "\n",
    "    data_df[\"bb_embeddings\"] = data_df.bb.apply(lambda x: embedder.encode(x))\n",
    "    data_df.to_pickle(\"../../dataset/bb_data/energy_dataset.pkl\")\n",
    "    \n",
    "else:\n",
    "    data_df = pd.read_pickle(\"../../dataset/bb_data/energy_dataset.pkl\")\n",
    "    if \"bb_embeddings\" not in data_df.columns:\n",
    "        data_df[\"bb_embeddings\"] = data_df.bb.apply(lambda x: embedder.encode(x))\n",
    "        data_df.to_pickle(\"../../dataset/bb_data/energy_dataset.pkl\")"
   ]
  },
  {
   "cell_type": "code",
   "execution_count": 44,
   "metadata": {},
   "outputs": [],
   "source": [
    "counts = Counter(inst for bb in data_df.bb.tolist() for inst in set(bb))\n",
    "\n",
    "vocab = {inst: i for i, (inst, _) in enumerate(counts.most_common(20000), start=1)}\n",
    "vocab[\"UNK\"] = 0\n",
    "vocab[\"PAD\"] = vocab[max(vocab, key=vocab.get)] + 1\n",
    "\n",
    "data_df[\"encoded_bb\"] = data_df.bb.apply(lambda x: utils.encode_bb_from_vocab(x, vocab, max_insts=20))"
   ]
  },
  {
   "cell_type": "code",
   "execution_count": 45,
   "metadata": {},
   "outputs": [
    {
     "data": {
      "text/html": [
       "<div>\n",
       "<style scoped>\n",
       "    .dataframe tbody tr th:only-of-type {\n",
       "        vertical-align: middle;\n",
       "    }\n",
       "\n",
       "    .dataframe tbody tr th {\n",
       "        vertical-align: top;\n",
       "    }\n",
       "\n",
       "    .dataframe thead th {\n",
       "        text-align: right;\n",
       "    }\n",
       "</style>\n",
       "<table border=\"1\" class=\"dataframe\">\n",
       "  <thead>\n",
       "    <tr style=\"text-align: right;\">\n",
       "      <th></th>\n",
       "      <th>bb</th>\n",
       "      <th>energy</th>\n",
       "      <th>bb_embeddings</th>\n",
       "      <th>encoded_bb</th>\n",
       "    </tr>\n",
       "  </thead>\n",
       "  <tbody>\n",
       "    <tr>\n",
       "      <th>0</th>\n",
       "      <td>[movl $0x0]</td>\n",
       "      <td>0.645165</td>\n",
       "      <td>[[1.0268462, 0.028481035, 2.7335312, 0.5859081...</td>\n",
       "      <td>[62, 1808, 1808, 1808, 1808, 1808, 1808, 1808,...</td>\n",
       "    </tr>\n",
       "    <tr>\n",
       "      <th>1</th>\n",
       "      <td>[callq, pushq %rbp, mov %rsp %rbp]</td>\n",
       "      <td>2.910575</td>\n",
       "      <td>[[0.11681142, -0.7584041, 2.0799158, 0.3227231...</td>\n",
       "      <td>[11, 20, 97, 1808, 1808, 1808, 1808, 1808, 180...</td>\n",
       "    </tr>\n",
       "    <tr>\n",
       "      <th>2</th>\n",
       "      <td>[popq %rbp, retq]</td>\n",
       "      <td>0.997157</td>\n",
       "      <td>[[1.0268458, 0.028480439, 2.7335315, 0.5859076...</td>\n",
       "      <td>[14, 6, 1808, 1808, 1808, 1808, 1808, 1808, 18...</td>\n",
       "    </tr>\n",
       "    <tr>\n",
       "      <th>3</th>\n",
       "      <td>[movl $0x0]</td>\n",
       "      <td>0.664772</td>\n",
       "      <td>[[1.0268462, 0.028481035, 2.7335312, 0.5859081...</td>\n",
       "      <td>[62, 1808, 1808, 1808, 1808, 1808, 1808, 1808,...</td>\n",
       "    </tr>\n",
       "    <tr>\n",
       "      <th>4</th>\n",
       "      <td>[cmpl $0x64, jnl 0x2c]</td>\n",
       "      <td>1.400952</td>\n",
       "      <td>[[1.0268458, 0.028480439, 2.7335315, 0.5859076...</td>\n",
       "      <td>[555, 556, 1808, 1808, 1808, 1808, 1808, 1808,...</td>\n",
       "    </tr>\n",
       "  </tbody>\n",
       "</table>\n",
       "</div>"
      ],
      "text/plain": [
       "                                   bb    energy  \\\n",
       "0                         [movl $0x0]  0.645165   \n",
       "1  [callq, pushq %rbp, mov %rsp %rbp]  2.910575   \n",
       "2                   [popq %rbp, retq]  0.997157   \n",
       "3                         [movl $0x0]  0.664772   \n",
       "4              [cmpl $0x64, jnl 0x2c]  1.400952   \n",
       "\n",
       "                                       bb_embeddings  \\\n",
       "0  [[1.0268462, 0.028481035, 2.7335312, 0.5859081...   \n",
       "1  [[0.11681142, -0.7584041, 2.0799158, 0.3227231...   \n",
       "2  [[1.0268458, 0.028480439, 2.7335315, 0.5859076...   \n",
       "3  [[1.0268462, 0.028481035, 2.7335312, 0.5859081...   \n",
       "4  [[1.0268458, 0.028480439, 2.7335315, 0.5859076...   \n",
       "\n",
       "                                          encoded_bb  \n",
       "0  [62, 1808, 1808, 1808, 1808, 1808, 1808, 1808,...  \n",
       "1  [11, 20, 97, 1808, 1808, 1808, 1808, 1808, 180...  \n",
       "2  [14, 6, 1808, 1808, 1808, 1808, 1808, 1808, 18...  \n",
       "3  [62, 1808, 1808, 1808, 1808, 1808, 1808, 1808,...  \n",
       "4  [555, 556, 1808, 1808, 1808, 1808, 1808, 1808,...  "
      ]
     },
     "execution_count": 45,
     "metadata": {},
     "output_type": "execute_result"
    }
   ],
   "source": [
    "data_df.head(5)"
   ]
  },
  {
   "attachments": {},
   "cell_type": "markdown",
   "metadata": {},
   "source": [
    "# Regression"
   ]
  },
  {
   "cell_type": "code",
   "execution_count": 70,
   "metadata": {},
   "outputs": [],
   "source": [
    "train_df, test_df = train_test_split(data_df, test_size=0.1, random_state=42)\n",
    "\n",
    "x_train, y_train = np.array(list(train_df.encoded_bb)), train_df.energy\n",
    "x_test, y_test = np.array(list(test_df.encoded_bb)), test_df.energy"
   ]
  },
  {
   "cell_type": "code",
   "execution_count": 73,
   "metadata": {},
   "outputs": [
    {
     "name": "stdout",
     "output_type": "stream",
     "text": [
      "\u001b[1mLinear Regressor \u001b[0m\n",
      "Test mse: 0.436\n",
      "Test mae: 0.324\n",
      "\n",
      "\n",
      "\u001b[1mSGD Regressor \u001b[0m\n",
      "Test mse: 2.6819470720846393e+31\n",
      "Test mae: 5107716443180545.0\n",
      "\n",
      "\n",
      "\u001b[1mElasticNet Regressor \u001b[0m\n",
      "Test mse: 0.436\n",
      "Test mae: 0.325\n",
      "\n",
      "\n",
      "\u001b[1mBayesianRidge Regressor \u001b[0m\n",
      "Test mse: 0.436\n",
      "Test mae: 0.324\n",
      "\n",
      "\n"
     ]
    }
   ],
   "source": [
    "regressors = [LinearRegression(), SGDRegressor(), ElasticNet(), BayesianRidge(), SVR(), GradientBoostingRegressor()]\n",
    "regressor_names = [\"Linear Regressor\", \"SGD Regressor\", \"ElasticNet Regressor\", \"BayesianRidge Regressor\", \"SV Regressor\", \"GradientBoosting Regressor\"]\n",
    "\n",
    "for reg, reg_name in zip(regressors, regressor_names):\n",
    "    \n",
    "    reg = reg.fit(x_train, y_train)\n",
    "    preds = reg.predict(x_test)\n",
    "\n",
    "    mse = mean_squared_error(y_test, preds)\n",
    "    mae = mean_absolute_error(y_test, preds)\n",
    "\n",
    "    print(f\"\\033[1m{reg_name} \\033[0m\")\n",
    "    print(f\"Test mse: {round(mse, 3)}\")\n",
    "    print(f\"Test mae: {round(mae, 3)}\\n\\n\")"
   ]
  },
  {
   "cell_type": "code",
   "execution_count": null,
   "metadata": {},
   "outputs": [],
   "source": []
  }
 ],
 "metadata": {
  "kernelspec": {
   "display_name": "energy-prediction",
   "language": "python",
   "name": "python3"
  },
  "language_info": {
   "codemirror_mode": {
    "name": "ipython",
    "version": 3
   },
   "file_extension": ".py",
   "mimetype": "text/x-python",
   "name": "python",
   "nbconvert_exporter": "python",
   "pygments_lexer": "ipython3",
   "version": "3.10.4"
  },
  "orig_nbformat": 4,
  "vscode": {
   "interpreter": {
    "hash": "2d8ea44dacc84c32c3ffb10f5fa42b465f31145cc9ac97a8028dfa96db72aa4c"
   }
  }
 },
 "nbformat": 4,
 "nbformat_minor": 2
}
