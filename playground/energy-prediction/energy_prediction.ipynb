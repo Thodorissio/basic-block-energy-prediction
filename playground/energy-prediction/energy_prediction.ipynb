{
 "cells": [
  {
   "cell_type": "markdown",
   "metadata": {},
   "source": [
    "# Imports"
   ]
  },
  {
   "cell_type": "code",
   "execution_count": 2,
   "metadata": {},
   "outputs": [],
   "source": [
    "import numpy as np\n",
    "import pandas as pd\n",
    "import sys\n",
    "\n",
    "from torch.utils import data\n",
    "\n",
    "sys.path.append(\"../../src\")\n",
    "sys.path.append(\"../palm-tree\")\n",
    "\n",
    "import embedder\n",
    "import models\n",
    "import utils\n",
    "import dataset"
   ]
  },
  {
   "cell_type": "markdown",
   "metadata": {},
   "source": [
    "# Data"
   ]
  },
  {
   "cell_type": "code",
   "execution_count": 3,
   "metadata": {},
   "outputs": [],
   "source": [
    "basic_block_a = [\n",
    "    \"mov rbp rdi\",\n",
    "    \"mov ebx 0x1\",\n",
    "    \"mov rdx rbx\",\n",
    "    \"call memcpy\",\n",
    "    \"mov [ rcx + rbx ] 0x0\",\n",
    "    \"mov rcx rax\",\n",
    "    \"mov [ rax ] 0x2e\"\n",
    "]\n",
    "\n",
    "basic_block_b = [\n",
    "    \"mov rbp rdi\",\n",
    "    \"mov ebx 0x1\",\n",
    "    \"mov rdx rbx\",\n",
    "    \"call memcpy\",\n",
    "    \"add     DWORD PTR [rbp-4], eax\",\n",
    "    \"mov     eax, DWORD PTR [rbp-4]\",\n",
    "    \"add     DWORD PTR [rbp-8], eax\",\n",
    "    \"mov [ rcx + rbx ] 0x0\",\n",
    "    \"mov rcx rax\",\n",
    "    \"mov [ rax ] 0x2e\"\n",
    "]\n",
    "\n",
    "basic_block_c = [\n",
    "    \"push    rbp\",\n",
    "    \"mov     rbp, rsp\",\n",
    "    \"mov     DWORD PTR [rbp-4], 1\",\n",
    "    \"mov     DWORD PTR [rbp-8], 2\",\n",
    "    \"mov     eax, DWORD PTR [rbp-8]\",\n",
    "    \"add     DWORD PTR [rbp-4], eax\",\n",
    "    \"mov     eax, DWORD PTR [rbp-4]\",\n",
    "    \"add     DWORD PTR [rbp-8], eax\",\n",
    "    \"mov     eax, 0\",\n",
    "    \"pop     rbp\"\n",
    "]\n",
    "\n",
    "blocks =  [basic_block_a, basic_block_b, basic_block_c]"
   ]
  },
  {
   "cell_type": "code",
   "execution_count": 4,
   "metadata": {},
   "outputs": [
    {
     "name": "stdout",
     "output_type": "stream",
     "text": [
      "Loading Vocab C:/Users/thodo/Documents/σχολη/diplomatiki/PalmTree/pre-trained_model/palmtree/vocab\n",
      "Vocab Size:  6631\n",
      "Loading Vocab C:/Users/thodo/Documents/σχολη/diplomatiki/PalmTree/pre-trained_model/palmtree/vocab\n",
      "Vocab Size:  6631\n",
      "Loading Vocab C:/Users/thodo/Documents/σχολη/diplomatiki/PalmTree/pre-trained_model/palmtree/vocab\n",
      "Vocab Size:  6631\n"
     ]
    }
   ],
   "source": [
    "embeddings = [embedder.encode(bb) for bb in blocks]"
   ]
  },
  {
   "cell_type": "code",
   "execution_count": 12,
   "metadata": {},
   "outputs": [
    {
     "data": {
      "text/plain": [
       "array([25,  6, 10])"
      ]
     },
     "execution_count": 12,
     "metadata": {},
     "output_type": "execute_result"
    }
   ],
   "source": [
    "random_labels = np.random.randint(100, size=len(embeddings))\n",
    "random_labels"
   ]
  },
  {
   "cell_type": "code",
   "execution_count": 13,
   "metadata": {},
   "outputs": [],
   "source": [
    "data_df = pd.DataFrame({\"blocks\": blocks, \"embeddings\": embeddings, \"energy\": random_labels})"
   ]
  },
  {
   "cell_type": "code",
   "execution_count": 14,
   "metadata": {},
   "outputs": [
    {
     "data": {
      "text/html": [
       "<div>\n",
       "<style scoped>\n",
       "    .dataframe tbody tr th:only-of-type {\n",
       "        vertical-align: middle;\n",
       "    }\n",
       "\n",
       "    .dataframe tbody tr th {\n",
       "        vertical-align: top;\n",
       "    }\n",
       "\n",
       "    .dataframe thead th {\n",
       "        text-align: right;\n",
       "    }\n",
       "</style>\n",
       "<table border=\"1\" class=\"dataframe\">\n",
       "  <thead>\n",
       "    <tr style=\"text-align: right;\">\n",
       "      <th></th>\n",
       "      <th>blocks</th>\n",
       "      <th>embeddings</th>\n",
       "      <th>energy</th>\n",
       "    </tr>\n",
       "  </thead>\n",
       "  <tbody>\n",
       "    <tr>\n",
       "      <th>0</th>\n",
       "      <td>[mov rbp rdi, mov ebx 0x1, mov rdx rbx, call m...</td>\n",
       "      <td>[[2.1426268, -0.83879894, 0.1582396, -2.787814...</td>\n",
       "      <td>25</td>\n",
       "    </tr>\n",
       "    <tr>\n",
       "      <th>1</th>\n",
       "      <td>[mov rbp rdi, mov ebx 0x1, mov rdx rbx, call m...</td>\n",
       "      <td>[[2.1426268, -0.83879894, 0.1582396, -2.787814...</td>\n",
       "      <td>6</td>\n",
       "    </tr>\n",
       "    <tr>\n",
       "      <th>2</th>\n",
       "      <td>[push    rbp, mov     rbp, rsp, mov     DWORD ...</td>\n",
       "      <td>[[-1.0875186, -3.307008, -3.174919, 2.858612, ...</td>\n",
       "      <td>10</td>\n",
       "    </tr>\n",
       "  </tbody>\n",
       "</table>\n",
       "</div>"
      ],
      "text/plain": [
       "                                              blocks  \\\n",
       "0  [mov rbp rdi, mov ebx 0x1, mov rdx rbx, call m...   \n",
       "1  [mov rbp rdi, mov ebx 0x1, mov rdx rbx, call m...   \n",
       "2  [push    rbp, mov     rbp, rsp, mov     DWORD ...   \n",
       "\n",
       "                                          embeddings  energy  \n",
       "0  [[2.1426268, -0.83879894, 0.1582396, -2.787814...      25  \n",
       "1  [[2.1426268, -0.83879894, 0.1582396, -2.787814...       6  \n",
       "2  [[-1.0875186, -3.307008, -3.174919, 2.858612, ...      10  "
      ]
     },
     "execution_count": 14,
     "metadata": {},
     "output_type": "execute_result"
    }
   ],
   "source": [
    "data_df"
   ]
  },
  {
   "cell_type": "code",
   "execution_count": 17,
   "metadata": {},
   "outputs": [],
   "source": [
    "ds = dataset.EnergyPredictionDataset(data_df)\n",
    "data_loader = data.DataLoader(ds, batch_size=2, shuffle=False, collate_fn=utils.collate_fn, drop_last=True)"
   ]
  },
  {
   "cell_type": "code",
   "execution_count": 18,
   "metadata": {},
   "outputs": [
    {
     "data": {
      "text/plain": [
       "(tensor([[[ 2.1426, -0.8388,  0.1582,  ...,  2.6131, -0.0776,  1.7005],\n",
       "          [ 0.0357,  1.6601, -2.2026,  ...,  4.2156,  0.6422, -2.5731],\n",
       "          [-1.4210,  0.3558, -0.6415,  ...,  4.7222, -0.2358,  2.5334],\n",
       "          ...,\n",
       "          [ 2.0509,  0.1768, -1.3684,  ...,  0.7584, -0.9806,  0.4287],\n",
       "          [ 2.4320, -0.4087,  1.9237,  ...,  6.5683, -0.0989, -0.5761],\n",
       "          [ 2.4185, -4.6341,  1.8846,  ...,  1.1307, -0.6543,  0.0513]],\n",
       " \n",
       "         [[ 2.1426, -0.8388,  0.1582,  ...,  2.6131, -0.0776,  1.7005],\n",
       "          [ 0.0357,  1.6601, -2.2026,  ...,  4.2156,  0.6422, -2.5731],\n",
       "          [-1.4210,  0.3558, -0.6415,  ...,  4.7222, -0.2358,  2.5334],\n",
       "          ...,\n",
       "          [ 0.0000,  0.0000,  0.0000,  ...,  0.0000,  0.0000,  0.0000],\n",
       "          [ 0.0000,  0.0000,  0.0000,  ...,  0.0000,  0.0000,  0.0000],\n",
       "          [ 0.0000,  0.0000,  0.0000,  ...,  0.0000,  0.0000,  0.0000]]]),\n",
       " tensor([10,  7], dtype=torch.int32),\n",
       " tensor([ 6, 25], dtype=torch.int32))"
      ]
     },
     "execution_count": 18,
     "metadata": {},
     "output_type": "execute_result"
    }
   ],
   "source": [
    "batch = next(iter(data_loader))\n",
    "batch"
   ]
  },
  {
   "cell_type": "code",
   "execution_count": null,
   "metadata": {},
   "outputs": [],
   "source": []
  }
 ],
 "metadata": {
  "kernelspec": {
   "display_name": "Python 3.10.4 ('energy-prediction')",
   "language": "python",
   "name": "python3"
  },
  "language_info": {
   "codemirror_mode": {
    "name": "ipython",
    "version": 3
   },
   "file_extension": ".py",
   "mimetype": "text/x-python",
   "name": "python",
   "nbconvert_exporter": "python",
   "pygments_lexer": "ipython3",
   "version": "3.10.4"
  },
  "orig_nbformat": 4,
  "vscode": {
   "interpreter": {
    "hash": "2d8ea44dacc84c32c3ffb10f5fa42b465f31145cc9ac97a8028dfa96db72aa4c"
   }
  }
 },
 "nbformat": 4,
 "nbformat_minor": 2
}
