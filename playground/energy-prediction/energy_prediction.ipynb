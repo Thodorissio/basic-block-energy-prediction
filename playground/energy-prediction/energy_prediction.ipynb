{
 "cells": [
  {
   "cell_type": "markdown",
   "metadata": {},
   "source": [
    "# Imports"
   ]
  },
  {
   "cell_type": "code",
   "execution_count": 26,
   "metadata": {},
   "outputs": [],
   "source": [
    "import tensorflow as tf\n",
    "import numpy as np\n",
    "import sys\n",
    "\n",
    "sys.path.append(\"../../src\")\n",
    "sys.path.append(\"../palm-tree\")\n",
    "\n",
    "import embedder\n",
    "import models"
   ]
  },
  {
   "cell_type": "markdown",
   "metadata": {},
   "source": [
    "# Data"
   ]
  },
  {
   "cell_type": "code",
   "execution_count": 24,
   "metadata": {},
   "outputs": [],
   "source": [
    "basic_block_a = [\n",
    "    \"mov rbp rdi\",\n",
    "    \"mov ebx 0x1\",\n",
    "    \"mov rdx rbx\",\n",
    "    \"call memcpy\",\n",
    "    \"mov [ rcx + rbx ] 0x0\",\n",
    "    \"mov rcx rax\",\n",
    "    \"mov [ rax ] 0x2e\"\n",
    "]\n",
    "\n",
    "basic_block_b = [\n",
    "    \"push    rbp\",\n",
    "    \"mov     rbp, rsp\",\n",
    "    \"mov     DWORD PTR [rbp-4], 1\",\n",
    "    \"mov     DWORD PTR [rbp-8], 2\",\n",
    "    \"mov     eax, DWORD PTR [rbp-8]\",\n",
    "    \"add     DWORD PTR [rbp-4], eax\",\n",
    "    \"mov     eax, DWORD PTR [rbp-4]\",\n",
    "    \"add     DWORD PTR [rbp-8], eax\",\n",
    "    \"mov     eax, 0\",\n",
    "    \"pop     rbp\"\n",
    "]"
   ]
  },
  {
   "cell_type": "code",
   "execution_count": 27,
   "metadata": {},
   "outputs": [
    {
     "name": "stdout",
     "output_type": "stream",
     "text": [
      "Loading Vocab C:/Users/thodo/Documents/σχολη/diplomatiki/PalmTree/pre-trained_model/palmtree/vocab\n",
      "Vocab Size:  6631\n",
      "Loading Vocab C:/Users/thodo/Documents/σχολη/diplomatiki/PalmTree/pre-trained_model/palmtree/vocab\n",
      "Vocab Size:  6631\n"
     ]
    }
   ],
   "source": [
    "embedding_a = embedder.encode(basic_block_a)\n",
    "embedding_b = embedder.encode(basic_block_b)"
   ]
  },
  {
   "cell_type": "code",
   "execution_count": 34,
   "metadata": {},
   "outputs": [],
   "source": [
    "dataset = [embedding_a, embedding_b]"
   ]
  },
  {
   "cell_type": "markdown",
   "metadata": {},
   "source": [
    "# LSTM Regression"
   ]
  },
  {
   "cell_type": "code",
   "execution_count": 41,
   "metadata": {},
   "outputs": [],
   "source": [
    "model = models.LSTM_Model(units = 1)\n",
    "output, state, seq = model(tf.expand_dims(embedding_a, 0))"
   ]
  },
  {
   "cell_type": "code",
   "execution_count": 42,
   "metadata": {},
   "outputs": [
    {
     "data": {
      "text/plain": [
       "<tf.Tensor: shape=(1, 7, 1), dtype=float32, numpy=\n",
       "array([[[ 0.682158  ],\n",
       "        [ 0.73212063],\n",
       "        [ 0.8216771 ],\n",
       "        [ 0.194113  ],\n",
       "        [-0.20953073],\n",
       "        [-0.020888  ],\n",
       "        [-0.25502816]]], dtype=float32)>"
      ]
     },
     "execution_count": 42,
     "metadata": {},
     "output_type": "execute_result"
    }
   ],
   "source": [
    "output"
   ]
  },
  {
   "cell_type": "code",
   "execution_count": 43,
   "metadata": {},
   "outputs": [
    {
     "data": {
      "text/plain": [
       "<tf.Tensor: shape=(1, 1), dtype=float32, numpy=array([[-0.25502816]], dtype=float32)>"
      ]
     },
     "execution_count": 43,
     "metadata": {},
     "output_type": "execute_result"
    }
   ],
   "source": [
    "state"
   ]
  },
  {
   "cell_type": "code",
   "execution_count": 44,
   "metadata": {},
   "outputs": [
    {
     "data": {
      "text/plain": [
       "<tf.Tensor: shape=(1, 1), dtype=float32, numpy=array([[-0.30452415]], dtype=float32)>"
      ]
     },
     "execution_count": 44,
     "metadata": {},
     "output_type": "execute_result"
    }
   ],
   "source": [
    "seq"
   ]
  },
  {
   "cell_type": "code",
   "execution_count": null,
   "metadata": {},
   "outputs": [],
   "source": []
  }
 ],
 "metadata": {
  "kernelspec": {
   "display_name": "Python 3.10.4 ('energy-prediction')",
   "language": "python",
   "name": "python3"
  },
  "language_info": {
   "codemirror_mode": {
    "name": "ipython",
    "version": 3
   },
   "file_extension": ".py",
   "mimetype": "text/x-python",
   "name": "python",
   "nbconvert_exporter": "python",
   "pygments_lexer": "ipython3",
   "version": "3.10.4"
  },
  "orig_nbformat": 4,
  "vscode": {
   "interpreter": {
    "hash": "2d8ea44dacc84c32c3ffb10f5fa42b465f31145cc9ac97a8028dfa96db72aa4c"
   }
  }
 },
 "nbformat": 4,
 "nbformat_minor": 2
}
