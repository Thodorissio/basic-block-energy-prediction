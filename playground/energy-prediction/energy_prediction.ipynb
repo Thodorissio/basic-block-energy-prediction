{
 "cells": [
  {
   "cell_type": "markdown",
   "metadata": {},
   "source": [
    "# Imports"
   ]
  },
  {
   "cell_type": "code",
   "execution_count": 1,
   "metadata": {},
   "outputs": [],
   "source": [
    "import numpy as np\n",
    "import sys\n",
    "\n",
    "sys.path.append(\"../../src\")\n",
    "sys.path.append(\"../palm-tree\")\n",
    "\n",
    "import embedder\n",
    "import models"
   ]
  },
  {
   "cell_type": "markdown",
   "metadata": {},
   "source": [
    "# Data"
   ]
  },
  {
   "cell_type": "code",
   "execution_count": 2,
   "metadata": {},
   "outputs": [],
   "source": [
    "basic_block_a = [\n",
    "    \"mov rbp rdi\",\n",
    "    \"mov ebx 0x1\",\n",
    "    \"mov rdx rbx\",\n",
    "    \"call memcpy\",\n",
    "    \"mov [ rcx + rbx ] 0x0\",\n",
    "    \"mov rcx rax\",\n",
    "    \"mov [ rax ] 0x2e\"\n",
    "]\n",
    "\n",
    "basic_block_b = [\n",
    "    \"push    rbp\",\n",
    "    \"mov     rbp, rsp\",\n",
    "    \"mov     DWORD PTR [rbp-4], 1\",\n",
    "    \"mov     DWORD PTR [rbp-8], 2\",\n",
    "    \"mov     eax, DWORD PTR [rbp-8]\",\n",
    "    \"add     DWORD PTR [rbp-4], eax\",\n",
    "    \"mov     eax, DWORD PTR [rbp-4]\",\n",
    "    \"add     DWORD PTR [rbp-8], eax\",\n",
    "    \"mov     eax, 0\",\n",
    "    \"pop     rbp\"\n",
    "]"
   ]
  },
  {
   "cell_type": "code",
   "execution_count": 3,
   "metadata": {},
   "outputs": [
    {
     "name": "stdout",
     "output_type": "stream",
     "text": [
      "Loading Vocab C:/Users/thodo/Documents/σχολη/diplomatiki/PalmTree/pre-trained_model/palmtree/vocab\n",
      "Vocab Size:  6631\n",
      "Loading Vocab C:/Users/thodo/Documents/σχολη/diplomatiki/PalmTree/pre-trained_model/palmtree/vocab\n",
      "Vocab Size:  6631\n"
     ]
    }
   ],
   "source": [
    "embedding_a = embedder.encode(basic_block_a)\n",
    "embedding_b = embedder.encode(basic_block_b)"
   ]
  },
  {
   "cell_type": "code",
   "execution_count": 4,
   "metadata": {},
   "outputs": [],
   "source": [
    "dataset = [basic_block_a, basic_block_b]"
   ]
  },
  {
   "cell_type": "markdown",
   "metadata": {},
   "source": [
    "# LSTM Regression"
   ]
  },
  {
   "cell_type": "code",
   "execution_count": 7,
   "metadata": {},
   "outputs": [
    {
     "name": "stderr",
     "output_type": "stream",
     "text": [
      "C:\\Users\\thodo\\AppData\\Local\\Temp\\ipykernel_8800\\2390569962.py:1: DeprecationWarning: the imp module is deprecated in favour of importlib and slated for removal in Python 3.12; see the module's documentation for alternative uses\n",
      "  from imp import reload\n"
     ]
    }
   ],
   "source": [
    "from imp import reload\n",
    "\n",
    "\n",
    "models=reload(models)"
   ]
  },
  {
   "cell_type": "code",
   "execution_count": 16,
   "metadata": {},
   "outputs": [
    {
     "name": "stdout",
     "output_type": "stream",
     "text": [
      "Loading Vocab C:/Users/thodo/Documents/σχολη/diplomatiki/PalmTree/pre-trained_model/palmtree/vocab\n",
      "Vocab Size:  6631\n"
     ]
    }
   ],
   "source": [
    "model = models.LSTM_Model(units = 128)\n",
    "output = model(basic_block_a)"
   ]
  },
  {
   "cell_type": "code",
   "execution_count": 15,
   "metadata": {},
   "outputs": [
    {
     "data": {
      "text/plain": [
       "<tf.Tensor: shape=(1, 7, 1), dtype=float32, numpy=\n",
       "array([[[-0.14479099],\n",
       "        [ 0.01299351],\n",
       "        [-0.50360584],\n",
       "        [-0.3273183 ],\n",
       "        [-0.4774365 ],\n",
       "        [-0.48631376],\n",
       "        [-0.51076436]]], dtype=float32)>"
      ]
     },
     "execution_count": 15,
     "metadata": {},
     "output_type": "execute_result"
    }
   ],
   "source": [
    "output"
   ]
  },
  {
   "cell_type": "code",
   "execution_count": 17,
   "metadata": {},
   "outputs": [
    {
     "data": {
      "text/plain": [
       "<tf.Tensor: shape=(1, 7, 1), dtype=float32, numpy=\n",
       "array([[[ 0.10528342],\n",
       "        [ 0.56393456],\n",
       "        [-0.1615681 ],\n",
       "        [ 0.34888342],\n",
       "        [ 0.00333524],\n",
       "        [-0.00129151],\n",
       "        [ 0.1782253 ]]], dtype=float32)>"
      ]
     },
     "execution_count": 17,
     "metadata": {},
     "output_type": "execute_result"
    }
   ],
   "source": [
    "output"
   ]
  },
  {
   "cell_type": "code",
   "execution_count": null,
   "metadata": {},
   "outputs": [],
   "source": []
  }
 ],
 "metadata": {
  "kernelspec": {
   "display_name": "Python 3.10.4 ('energy-prediction')",
   "language": "python",
   "name": "python3"
  },
  "language_info": {
   "codemirror_mode": {
    "name": "ipython",
    "version": 3
   },
   "file_extension": ".py",
   "mimetype": "text/x-python",
   "name": "python",
   "nbconvert_exporter": "python",
   "pygments_lexer": "ipython3",
   "version": "3.10.4"
  },
  "orig_nbformat": 4,
  "vscode": {
   "interpreter": {
    "hash": "2d8ea44dacc84c32c3ffb10f5fa42b465f31145cc9ac97a8028dfa96db72aa4c"
   }
  }
 },
 "nbformat": 4,
 "nbformat_minor": 2
}
