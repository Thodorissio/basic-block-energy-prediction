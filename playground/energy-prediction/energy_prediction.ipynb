{
 "cells": [
  {
   "cell_type": "markdown",
   "metadata": {},
   "source": [
    "# Imports"
   ]
  },
  {
   "cell_type": "code",
   "execution_count": 2,
   "metadata": {},
   "outputs": [],
   "source": [
    "import numpy as np\n",
    "import pandas as pd\n",
    "import matplotlib.pyplot as plt\n",
    "import tqdm\n",
    "import random\n",
    "import sys\n",
    "import os\n",
    "import logging\n",
    "\n",
    "import optuna\n",
    "\n",
    "import torch\n",
    "from torch import nn\n",
    "from torch.utils.data import Dataset, DataLoader\n",
    "\n",
    "from sklearn.metrics import mean_absolute_error, mean_squared_error\n",
    "\n",
    "from typing import Optional\n",
    "\n",
    "sys.path.append(\"../../src\")\n",
    "sys.path.append(\"../palm-tree\")\n",
    "\n",
    "import embedder\n",
    "import models\n",
    "import utils\n",
    "import dataset"
   ]
  },
  {
   "cell_type": "markdown",
   "metadata": {},
   "source": [
    "# Data"
   ]
  },
  {
   "attachments": {},
   "cell_type": "markdown",
   "metadata": {},
   "source": [
    "We should firstly parse the sample basic block data, or load it from pickle if the parsed data have been saved.\n",
    "The preprocessing steps are based on data analysis done in the data exploration notebook"
   ]
  },
  {
   "cell_type": "code",
   "execution_count": 3,
   "metadata": {},
   "outputs": [],
   "source": [
    "data_files = os.listdir(\"../../dataset/bb_data/\")\n",
    "\n",
    "if \"good_dataset.pkl\" not in data_files:\n",
    "    result_files = [f for f in os.listdir(\"../../../good_dataset/\") if f.endswith(\"results\")] \n",
    "    #program_data_df = {}\n",
    "    data_df = pd.DataFrame()\n",
    "\n",
    "    for file in result_files:\n",
    "        file_df = utils.read_bb_data(f\"../../../good_dataset/{file}/breaker_code.txt\", f\"../../../good_dataset/{file}/breaker_final_energy.txt\")\n",
    "        file_df = utils.preprocess_bb_df(file_df)\n",
    "        #program_data_df[file] = file_df\n",
    "        data_df = pd.concat([data_df, file_df], ignore_index=True)\n",
    "else:\n",
    "    data_df = pd.read_pickle(\"../../dataset/bb_data/good_dataset.pkl\")\n",
    "\n",
    "if \"bb_embeddings\" not in data_df.columns:\n",
    "    data_df[\"bb_embeddings\"] = data_df.bb.apply(lambda x: embedder.encode(x))\n",
    "    data_df.to_pickle(\"../../dataset/bb_data/good_dataset.pkl\")"
   ]
  },
  {
   "cell_type": "code",
   "execution_count": 4,
   "metadata": {},
   "outputs": [
    {
     "data": {
      "text/html": [
       "<div>\n",
       "<style scoped>\n",
       "    .dataframe tbody tr th:only-of-type {\n",
       "        vertical-align: middle;\n",
       "    }\n",
       "\n",
       "    .dataframe tbody tr th {\n",
       "        vertical-align: top;\n",
       "    }\n",
       "\n",
       "    .dataframe thead th {\n",
       "        text-align: right;\n",
       "    }\n",
       "</style>\n",
       "<table border=\"1\" class=\"dataframe\">\n",
       "  <thead>\n",
       "    <tr style=\"text-align: right;\">\n",
       "      <th></th>\n",
       "      <th>bb</th>\n",
       "      <th>energy</th>\n",
       "      <th>bb_embeddings</th>\n",
       "    </tr>\n",
       "  </thead>\n",
       "  <tbody>\n",
       "    <tr>\n",
       "      <th>0</th>\n",
       "      <td>[movl $0x0]</td>\n",
       "      <td>0.645165</td>\n",
       "      <td>[[1.0268462, 0.028481035, 2.7335312, 0.5859081...</td>\n",
       "    </tr>\n",
       "    <tr>\n",
       "      <th>1</th>\n",
       "      <td>[callq, pushq %rbp, mov %rsp %rbp]</td>\n",
       "      <td>2.910575</td>\n",
       "      <td>[[0.11681142, -0.7584041, 2.0799158, 0.3227231...</td>\n",
       "    </tr>\n",
       "    <tr>\n",
       "      <th>2</th>\n",
       "      <td>[popq %rbp, retq]</td>\n",
       "      <td>0.997157</td>\n",
       "      <td>[[1.0268458, 0.028480439, 2.7335315, 0.5859076...</td>\n",
       "    </tr>\n",
       "    <tr>\n",
       "      <th>3</th>\n",
       "      <td>[movl $0x0]</td>\n",
       "      <td>0.664772</td>\n",
       "      <td>[[1.0268462, 0.028481035, 2.7335312, 0.5859081...</td>\n",
       "    </tr>\n",
       "    <tr>\n",
       "      <th>4</th>\n",
       "      <td>[cmpl $0x64, jnl 0x2c]</td>\n",
       "      <td>1.400952</td>\n",
       "      <td>[[1.0268458, 0.028480439, 2.7335315, 0.5859076...</td>\n",
       "    </tr>\n",
       "  </tbody>\n",
       "</table>\n",
       "</div>"
      ],
      "text/plain": [
       "                                   bb    energy  \\\n",
       "0                         [movl $0x0]  0.645165   \n",
       "1  [callq, pushq %rbp, mov %rsp %rbp]  2.910575   \n",
       "2                   [popq %rbp, retq]  0.997157   \n",
       "3                         [movl $0x0]  0.664772   \n",
       "4              [cmpl $0x64, jnl 0x2c]  1.400952   \n",
       "\n",
       "                                       bb_embeddings  \n",
       "0  [[1.0268462, 0.028481035, 2.7335312, 0.5859081...  \n",
       "1  [[0.11681142, -0.7584041, 2.0799158, 0.3227231...  \n",
       "2  [[1.0268458, 0.028480439, 2.7335315, 0.5859076...  \n",
       "3  [[1.0268462, 0.028481035, 2.7335312, 0.5859081...  \n",
       "4  [[1.0268458, 0.028480439, 2.7335315, 0.5859076...  "
      ]
     },
     "execution_count": 4,
     "metadata": {},
     "output_type": "execute_result"
    }
   ],
   "source": [
    "data_df.head(5)"
   ]
  },
  {
   "cell_type": "markdown",
   "metadata": {},
   "source": [
    "Pytorch custom dataset"
   ]
  },
  {
   "cell_type": "code",
   "execution_count": 5,
   "metadata": {},
   "outputs": [],
   "source": [
    "def get_data_dict(\n",
    "    data_df: pd.DataFrame,\n",
    "    split: float = 0.9,\n",
    "    mean: bool = False,\n",
    "    batch_size: int = 32,\n",
    "    random_state: Optional[int] = None,\n",
    ") -> dict:\n",
    "\n",
    "    split = 0.9\n",
    "    data_df = data_df.sample(frac=1, random_state=random_state).reset_index(drop=True)\n",
    "    bb_df_train = data_df[: int(split * len(data_df))]\n",
    "    bb_df_val = data_df[int(split * len(data_df)) :]\n",
    "\n",
    "    train_data = dataset.EnergyPredictionDataset(bb_df_train, mean=mean)\n",
    "    if mean:\n",
    "        train_loader = DataLoader(\n",
    "            train_data, batch_size=batch_size, shuffle=False, drop_last=True\n",
    "        )\n",
    "    else:\n",
    "        train_loader = DataLoader(\n",
    "            train_data,\n",
    "            batch_size=batch_size,\n",
    "            shuffle=False,\n",
    "            drop_last=True,\n",
    "            collate_fn=utils.collate_fn,\n",
    "        )\n",
    "\n",
    "    val_data = dataset.EnergyPredictionDataset(bb_df_val, mean=mean)\n",
    "    if mean:\n",
    "        val_loader = DataLoader(\n",
    "            val_data, batch_size=batch_size, shuffle=False, drop_last=True\n",
    "        )\n",
    "    else:\n",
    "        val_loader = DataLoader(\n",
    "            val_data,\n",
    "            batch_size=batch_size,\n",
    "            shuffle=False,\n",
    "            drop_last=True,\n",
    "            collate_fn=utils.collate_fn,\n",
    "        )\n",
    "\n",
    "    data_loaders = {\n",
    "        \"train_df\": bb_df_train,\n",
    "        \"val_df\": bb_df_val,\n",
    "        \"train_loader\": train_loader,\n",
    "        \"val_loader\": val_loader,\n",
    "    }\n",
    "\n",
    "    return data_loaders"
   ]
  },
  {
   "cell_type": "code",
   "execution_count": 6,
   "metadata": {},
   "outputs": [],
   "source": [
    "class EarlyStopper:\n",
    "    def __init__(self, patience: int = 5, min_delta: float = 0):\n",
    "        self.patience = patience\n",
    "        self.min_delta = min_delta\n",
    "        self.counter = 0\n",
    "        self.min_validation_loss = np.inf\n",
    "\n",
    "    def early_stop(self, validation_loss: float):\n",
    "        if validation_loss < self.min_validation_loss:\n",
    "            self.min_validation_loss = validation_loss\n",
    "            self.counter = 0\n",
    "        elif validation_loss > (self.min_validation_loss + self.min_delta):\n",
    "            self.counter += 1\n",
    "            if self.counter >= self.patience:\n",
    "                return True\n",
    "        return False"
   ]
  },
  {
   "cell_type": "markdown",
   "metadata": {},
   "source": [
    "# LSTM Model"
   ]
  },
  {
   "cell_type": "code",
   "execution_count": 6,
   "metadata": {},
   "outputs": [],
   "source": [
    "class LSTM_Regressor(nn.Module):\n",
    "    def __init__(\n",
    "        self,\n",
    "        emb_size: int,\n",
    "        hidden_size: int = 16,\n",
    "        num_layers: int = 2,\n",
    "        dense_size: int = 128,\n",
    "    ) -> None:\n",
    "        super().__init__()\n",
    "\n",
    "        self.num_layers = num_layers\n",
    "        self.hidden_size = hidden_size\n",
    "\n",
    "        if self.num_layers > 1:\n",
    "            lstm_dropout = 0.1\n",
    "        else:\n",
    "            lstm_dropout = 0\n",
    "\n",
    "        self.lstm = nn.LSTM(\n",
    "            input_size=emb_size,\n",
    "            hidden_size=hidden_size,\n",
    "            num_layers=num_layers,\n",
    "            batch_first=True,\n",
    "            dropout=lstm_dropout,\n",
    "        )\n",
    "\n",
    "        self.dense = nn.Linear(hidden_size, dense_size)\n",
    "        self.dropout = nn.Dropout(0.1)\n",
    "        self.smaller_dense = nn.Linear(dense_size, 16)\n",
    "        self.regressor = nn.Linear(16, 1)\n",
    "\n",
    "    def forward(self, x, hidden):\n",
    "\n",
    "        batch_size = x.size(0)\n",
    "\n",
    "        lstm_out, hidden_state = self.lstm(x, hidden)\n",
    "        lstm_out = lstm_out.contiguous().view(-1, self.hidden_size)\n",
    "\n",
    "        out = self.dense(lstm_out)\n",
    "        out = self.dropout(out)\n",
    "        out = self.smaller_dense(out)\n",
    "        out = self.regressor(out)\n",
    "\n",
    "        out = out.view(batch_size, -1)\n",
    "        out = out[:, -1]\n",
    "\n",
    "        return out, hidden_state\n",
    "\n",
    "    def init_hidden(self, batch_size):\n",
    "\n",
    "        hidden = (\n",
    "            torch.zeros((self.num_layers, batch_size, self.hidden_size)).cuda(),\n",
    "            torch.zeros((self.num_layers, batch_size, self.hidden_size)).cuda(),\n",
    "        )\n",
    "\n",
    "        return hidden"
   ]
  },
  {
   "attachments": {},
   "cell_type": "markdown",
   "metadata": {},
   "source": [
    "## Training Function"
   ]
  },
  {
   "cell_type": "code",
   "execution_count": 7,
   "metadata": {},
   "outputs": [],
   "source": [
    "def train_lstm_model(\n",
    "    model: LSTM_Regressor,\n",
    "    train_loader: DataLoader,\n",
    "    val_loader: DataLoader,\n",
    "    lr: float = 1e-2,\n",
    "    batch_size: int = 32,\n",
    "    epochs: int = 100,\n",
    "    verbose: bool = False,\n",
    "    early_stopping: bool = True,\n",
    ") -> dict:\n",
    "\n",
    "    if early_stopping:\n",
    "        early_stopper = EarlyStopper()\n",
    "\n",
    "    criterion = nn.MSELoss()\n",
    "    optimizer = torch.optim.Adam(params=model.parameters(), lr=lr, weight_decay=1e-4)\n",
    "\n",
    "    model.cuda()\n",
    "\n",
    "    train_losses = []\n",
    "    val_losses = []\n",
    "\n",
    "    for epoch in range(epochs):\n",
    "        model.train()\n",
    "        hidden_state = model.init_hidden(batch_size=batch_size)\n",
    "        losses = []\n",
    "        for embeddings, _, labels in train_loader:\n",
    "\n",
    "            embeddings = embeddings.cuda()\n",
    "            labels = labels.cuda()\n",
    "\n",
    "            hidden_state = tuple([each.data for each in hidden_state])\n",
    "\n",
    "            output, hidden_state = model(embeddings, hidden_state)\n",
    "            loss = criterion(output.squeeze(), labels.float())\n",
    "\n",
    "            optimizer.zero_grad()\n",
    "            loss.backward()\n",
    "\n",
    "            nn.utils.clip_grad_norm_(model.parameters(), max_norm=5)\n",
    "            optimizer.step()\n",
    "            losses.append(loss.item())\n",
    "\n",
    "        val_h = model.init_hidden(batch_size)\n",
    "        val_loss = []\n",
    "        model.eval()\n",
    "        for embeddings, _, labels in val_loader:\n",
    "\n",
    "            # Creating new variables for the hidden state, otherwise\n",
    "            # we'd backprop through the entire training history\n",
    "\n",
    "            embeddings, labels = embeddings.cuda(), labels.cuda()\n",
    "            output, val_h = model(embeddings, val_h)\n",
    "            v_loss = criterion(output.squeeze(), labels.float())\n",
    "\n",
    "            val_loss.append(v_loss.item())\n",
    "\n",
    "        if verbose:\n",
    "            print(\n",
    "                f\"Epoch: {epoch+1}/{epochs}, MSE Train Loss: {round(np.mean(losses), 5)}, MSE Val Loss: {round(np.mean(val_loss), 5)}\"\n",
    "            )\n",
    "\n",
    "        train_losses.append(np.mean(losses))\n",
    "        val_losses.append(np.mean(val_loss))\n",
    "\n",
    "        if early_stopping:\n",
    "            early_stopper.early_stop(val_losses[-1])\n",
    "\n",
    "    model_training = {\n",
    "        \"model\": model,\n",
    "        \"train_loss\": train_losses,\n",
    "        \"val_loss\": val_losses,\n",
    "        \"epochs_trained\": epoch,\n",
    "    }\n",
    "\n",
    "    return model_training\n"
   ]
  },
  {
   "attachments": {},
   "cell_type": "markdown",
   "metadata": {},
   "source": [
    "## Optuna Trials"
   ]
  },
  {
   "cell_type": "code",
   "execution_count": 14,
   "metadata": {},
   "outputs": [
    {
     "name": "stderr",
     "output_type": "stream",
     "text": [
      "\u001b[32m[I 2023-01-08 17:10:41,652]\u001b[0m Using an existing study with name 'lstm-regression-study-good-dataset-2nd' instead of creating a new one.\u001b[0m\n"
     ]
    },
    {
     "name": "stdout",
     "output_type": "stream",
     "text": [
      "Using an existing study with name 'lstm-regression-study-good-dataset-2nd' instead of creating a new one.\n"
     ]
    }
   ],
   "source": [
    "optuna.logging.get_logger(\"optuna\").addHandler(logging.StreamHandler(sys.stdout))\n",
    "study_name = \"lstm-regression-study-good-dataset-2nd\"\n",
    "storage_name = f\"sqlite:////Users/thodo/Documents/σχολη/diplomatiki/optuna-studies/lstm-regression-study-good-dataset.db\"\n",
    "study = optuna.create_study(study_name=study_name, storage=storage_name, load_if_exists=True, direction=\"minimize\")"
   ]
  },
  {
   "cell_type": "code",
   "execution_count": 9,
   "metadata": {},
   "outputs": [
    {
     "name": "stderr",
     "output_type": "stream",
     "text": [
      "\u001b[32m[I 2023-01-07 18:06:41,254]\u001b[0m Trial 0 finished with value: 0.4079704567351762 and parameters: {'lstm_layers': 1, 'hidden_size': 30, 'dense_size': 74, 'batch_size_exp': 6, 'learning_rate_exp': -2}. Best is trial 0 with value: 0.4079704567351762.\u001b[0m\n"
     ]
    },
    {
     "name": "stdout",
     "output_type": "stream",
     "text": [
      "Trial 0 finished with value: 0.4079704567351762 and parameters: {'lstm_layers': 1, 'hidden_size': 30, 'dense_size': 74, 'batch_size_exp': 6, 'learning_rate_exp': -2}. Best is trial 0 with value: 0.4079704567351762.\n"
     ]
    },
    {
     "name": "stderr",
     "output_type": "stream",
     "text": [
      "\u001b[32m[I 2023-01-07 19:10:05,812]\u001b[0m Trial 1 finished with value: 0.30612007344865966 and parameters: {'lstm_layers': 5, 'hidden_size': 107, 'dense_size': 30, 'batch_size_exp': 3, 'learning_rate_exp': -3}. Best is trial 1 with value: 0.30612007344865966.\u001b[0m\n"
     ]
    },
    {
     "name": "stdout",
     "output_type": "stream",
     "text": [
      "Trial 1 finished with value: 0.30612007344865966 and parameters: {'lstm_layers': 5, 'hidden_size': 107, 'dense_size': 30, 'batch_size_exp': 3, 'learning_rate_exp': -3}. Best is trial 1 with value: 0.30612007344865966.\n"
     ]
    },
    {
     "name": "stderr",
     "output_type": "stream",
     "text": [
      "\u001b[32m[I 2023-01-07 19:20:07,529]\u001b[0m Trial 2 finished with value: 0.4655284241718404 and parameters: {'lstm_layers': 5, 'hidden_size': 51, 'dense_size': 107, 'batch_size_exp': 6, 'learning_rate_exp': -2}. Best is trial 1 with value: 0.30612007344865966.\u001b[0m\n"
     ]
    },
    {
     "name": "stdout",
     "output_type": "stream",
     "text": [
      "Trial 2 finished with value: 0.4655284241718404 and parameters: {'lstm_layers': 5, 'hidden_size': 51, 'dense_size': 107, 'batch_size_exp': 6, 'learning_rate_exp': -2}. Best is trial 1 with value: 0.30612007344865966.\n"
     ]
    },
    {
     "name": "stderr",
     "output_type": "stream",
     "text": [
      "\u001b[32m[I 2023-01-07 19:43:46,642]\u001b[0m Trial 3 finished with value: 0.2718323342327913 and parameters: {'lstm_layers': 2, 'hidden_size': 27, 'dense_size': 89, 'batch_size_exp': 4, 'learning_rate_exp': -4}. Best is trial 3 with value: 0.2718323342327913.\u001b[0m\n"
     ]
    },
    {
     "name": "stdout",
     "output_type": "stream",
     "text": [
      "Trial 3 finished with value: 0.2718323342327913 and parameters: {'lstm_layers': 2, 'hidden_size': 27, 'dense_size': 89, 'batch_size_exp': 4, 'learning_rate_exp': -4}. Best is trial 3 with value: 0.2718323342327913.\n"
     ]
    },
    {
     "name": "stderr",
     "output_type": "stream",
     "text": [
      "\u001b[32m[I 2023-01-07 19:49:08,077]\u001b[0m Trial 4 finished with value: 0.37938129025347095 and parameters: {'lstm_layers': 1, 'hidden_size': 85, 'dense_size': 103, 'batch_size_exp': 6, 'learning_rate_exp': -4}. Best is trial 3 with value: 0.2718323342327913.\u001b[0m\n"
     ]
    },
    {
     "name": "stdout",
     "output_type": "stream",
     "text": [
      "Trial 4 finished with value: 0.37938129025347095 and parameters: {'lstm_layers': 1, 'hidden_size': 85, 'dense_size': 103, 'batch_size_exp': 6, 'learning_rate_exp': -4}. Best is trial 3 with value: 0.2718323342327913.\n"
     ]
    },
    {
     "name": "stderr",
     "output_type": "stream",
     "text": [
      "\u001b[32m[I 2023-01-07 20:04:03,003]\u001b[0m Trial 5 finished with value: 0.42976465313762857 and parameters: {'lstm_layers': 3, 'hidden_size': 74, 'dense_size': 70, 'batch_size_exp': 5, 'learning_rate_exp': -2}. Best is trial 3 with value: 0.2718323342327913.\u001b[0m\n"
     ]
    },
    {
     "name": "stdout",
     "output_type": "stream",
     "text": [
      "Trial 5 finished with value: 0.42976465313762857 and parameters: {'lstm_layers': 3, 'hidden_size': 74, 'dense_size': 70, 'batch_size_exp': 5, 'learning_rate_exp': -2}. Best is trial 3 with value: 0.2718323342327913.\n"
     ]
    },
    {
     "name": "stderr",
     "output_type": "stream",
     "text": [
      "\u001b[32m[I 2023-01-07 20:12:02,205]\u001b[0m Trial 6 finished with value: 0.3601922157275326 and parameters: {'lstm_layers': 3, 'hidden_size': 121, 'dense_size': 95, 'batch_size_exp': 6, 'learning_rate_exp': -3}. Best is trial 3 with value: 0.2718323342327913.\u001b[0m\n"
     ]
    },
    {
     "name": "stdout",
     "output_type": "stream",
     "text": [
      "Trial 6 finished with value: 0.3601922157275326 and parameters: {'lstm_layers': 3, 'hidden_size': 121, 'dense_size': 95, 'batch_size_exp': 6, 'learning_rate_exp': -3}. Best is trial 3 with value: 0.2718323342327913.\n"
     ]
    },
    {
     "name": "stderr",
     "output_type": "stream",
     "text": [
      "\u001b[32m[I 2023-01-07 20:22:22,072]\u001b[0m Trial 7 finished with value: 0.5599175392501596 and parameters: {'lstm_layers': 1, 'hidden_size': 100, 'dense_size': 237, 'batch_size_exp': 5, 'learning_rate_exp': -2}. Best is trial 3 with value: 0.2718323342327913.\u001b[0m\n"
     ]
    },
    {
     "name": "stdout",
     "output_type": "stream",
     "text": [
      "Trial 7 finished with value: 0.5599175392501596 and parameters: {'lstm_layers': 1, 'hidden_size': 100, 'dense_size': 237, 'batch_size_exp': 5, 'learning_rate_exp': -2}. Best is trial 3 with value: 0.2718323342327913.\n"
     ]
    },
    {
     "name": "stderr",
     "output_type": "stream",
     "text": [
      "\u001b[32m[I 2023-01-07 20:32:27,580]\u001b[0m Trial 8 finished with value: 0.3671123586811017 and parameters: {'lstm_layers': 1, 'hidden_size': 53, 'dense_size': 26, 'batch_size_exp': 5, 'learning_rate_exp': -4}. Best is trial 3 with value: 0.2718323342327913.\u001b[0m\n"
     ]
    },
    {
     "name": "stdout",
     "output_type": "stream",
     "text": [
      "Trial 8 finished with value: 0.3671123586811017 and parameters: {'lstm_layers': 1, 'hidden_size': 53, 'dense_size': 26, 'batch_size_exp': 5, 'learning_rate_exp': -4}. Best is trial 3 with value: 0.2718323342327913.\n"
     ]
    },
    {
     "name": "stderr",
     "output_type": "stream",
     "text": [
      "\u001b[32m[I 2023-01-07 20:56:24,710]\u001b[0m Trial 9 finished with value: 0.36285400001345564 and parameters: {'lstm_layers': 2, 'hidden_size': 61, 'dense_size': 33, 'batch_size_exp': 4, 'learning_rate_exp': -3}. Best is trial 3 with value: 0.2718323342327913.\u001b[0m\n"
     ]
    },
    {
     "name": "stdout",
     "output_type": "stream",
     "text": [
      "Trial 9 finished with value: 0.36285400001345564 and parameters: {'lstm_layers': 2, 'hidden_size': 61, 'dense_size': 33, 'batch_size_exp': 4, 'learning_rate_exp': -3}. Best is trial 3 with value: 0.2718323342327913.\n"
     ]
    },
    {
     "name": "stderr",
     "output_type": "stream",
     "text": [
      "\u001b[32m[I 2023-01-07 21:52:14,427]\u001b[0m Trial 10 finished with value: 0.25717084527626555 and parameters: {'lstm_layers': 4, 'hidden_size': 11, 'dense_size': 164, 'batch_size_exp': 3, 'learning_rate_exp': -4}. Best is trial 10 with value: 0.25717084527626555.\u001b[0m\n"
     ]
    },
    {
     "name": "stdout",
     "output_type": "stream",
     "text": [
      "Trial 10 finished with value: 0.25717084527626555 and parameters: {'lstm_layers': 4, 'hidden_size': 11, 'dense_size': 164, 'batch_size_exp': 3, 'learning_rate_exp': -4}. Best is trial 10 with value: 0.25717084527626555.\n"
     ]
    },
    {
     "name": "stderr",
     "output_type": "stream",
     "text": [
      "\u001b[32m[I 2023-01-07 22:48:00,251]\u001b[0m Trial 11 finished with value: 0.3186845796159385 and parameters: {'lstm_layers': 4, 'hidden_size': 8, 'dense_size': 180, 'batch_size_exp': 3, 'learning_rate_exp': -4}. Best is trial 10 with value: 0.25717084527626555.\u001b[0m\n"
     ]
    },
    {
     "name": "stdout",
     "output_type": "stream",
     "text": [
      "Trial 11 finished with value: 0.3186845796159385 and parameters: {'lstm_layers': 4, 'hidden_size': 8, 'dense_size': 180, 'batch_size_exp': 3, 'learning_rate_exp': -4}. Best is trial 10 with value: 0.25717084527626555.\n"
     ]
    },
    {
     "name": "stderr",
     "output_type": "stream",
     "text": [
      "\u001b[32m[I 2023-01-07 23:20:00,642]\u001b[0m Trial 12 finished with value: 0.29525549950332736 and parameters: {'lstm_layers': 4, 'hidden_size': 8, 'dense_size': 149, 'batch_size_exp': 4, 'learning_rate_exp': -4}. Best is trial 10 with value: 0.25717084527626555.\u001b[0m\n"
     ]
    },
    {
     "name": "stdout",
     "output_type": "stream",
     "text": [
      "Trial 12 finished with value: 0.29525549950332736 and parameters: {'lstm_layers': 4, 'hidden_size': 8, 'dense_size': 149, 'batch_size_exp': 4, 'learning_rate_exp': -4}. Best is trial 10 with value: 0.25717084527626555.\n"
     ]
    },
    {
     "name": "stderr",
     "output_type": "stream",
     "text": [
      "\u001b[32m[I 2023-01-07 23:44:42,435]\u001b[0m Trial 13 finished with value: 0.35925994348450957 and parameters: {'lstm_layers': 2, 'hidden_size': 33, 'dense_size': 181, 'batch_size_exp': 4, 'learning_rate_exp': -4}. Best is trial 10 with value: 0.25717084527626555.\u001b[0m\n"
     ]
    },
    {
     "name": "stdout",
     "output_type": "stream",
     "text": [
      "Trial 13 finished with value: 0.35925994348450957 and parameters: {'lstm_layers': 2, 'hidden_size': 33, 'dense_size': 181, 'batch_size_exp': 4, 'learning_rate_exp': -4}. Best is trial 10 with value: 0.25717084527626555.\n"
     ]
    },
    {
     "name": "stderr",
     "output_type": "stream",
     "text": [
      "\u001b[32m[I 2023-01-08 00:42:58,068]\u001b[0m Trial 14 finished with value: 0.3387719403541777 and parameters: {'lstm_layers': 4, 'hidden_size': 28, 'dense_size': 158, 'batch_size_exp': 3, 'learning_rate_exp': -4}. Best is trial 10 with value: 0.25717084527626555.\u001b[0m\n"
     ]
    },
    {
     "name": "stdout",
     "output_type": "stream",
     "text": [
      "Trial 14 finished with value: 0.3387719403541777 and parameters: {'lstm_layers': 4, 'hidden_size': 28, 'dense_size': 158, 'batch_size_exp': 3, 'learning_rate_exp': -4}. Best is trial 10 with value: 0.25717084527626555.\n"
     ]
    },
    {
     "name": "stderr",
     "output_type": "stream",
     "text": [
      "\u001b[32m[I 2023-01-08 01:06:31,979]\u001b[0m Trial 15 finished with value: 0.3432482292460238 and parameters: {'lstm_layers': 2, 'hidden_size': 24, 'dense_size': 216, 'batch_size_exp': 4, 'learning_rate_exp': -3}. Best is trial 10 with value: 0.25717084527626555.\u001b[0m\n"
     ]
    },
    {
     "name": "stdout",
     "output_type": "stream",
     "text": [
      "Trial 15 finished with value: 0.3432482292460238 and parameters: {'lstm_layers': 2, 'hidden_size': 24, 'dense_size': 216, 'batch_size_exp': 4, 'learning_rate_exp': -3}. Best is trial 10 with value: 0.25717084527626555.\n"
     ]
    },
    {
     "name": "stderr",
     "output_type": "stream",
     "text": [
      "\u001b[32m[I 2023-01-08 01:10:56,448]\u001b[0m Trial 16 finished with value: 0.28667182606809277 and parameters: {'lstm_layers': 3, 'hidden_size': 43, 'dense_size': 130, 'batch_size_exp': 7, 'learning_rate_exp': -4}. Best is trial 10 with value: 0.25717084527626555.\u001b[0m\n"
     ]
    },
    {
     "name": "stdout",
     "output_type": "stream",
     "text": [
      "Trial 16 finished with value: 0.28667182606809277 and parameters: {'lstm_layers': 3, 'hidden_size': 43, 'dense_size': 130, 'batch_size_exp': 7, 'learning_rate_exp': -4}. Best is trial 10 with value: 0.25717084527626555.\n"
     ]
    },
    {
     "name": "stderr",
     "output_type": "stream",
     "text": [
      "\u001b[32m[I 2023-01-08 02:06:57,521]\u001b[0m Trial 17 finished with value: 0.3287377549947897 and parameters: {'lstm_layers': 4, 'hidden_size': 16, 'dense_size': 192, 'batch_size_exp': 3, 'learning_rate_exp': -3}. Best is trial 10 with value: 0.25717084527626555.\u001b[0m\n"
     ]
    },
    {
     "name": "stdout",
     "output_type": "stream",
     "text": [
      "Trial 17 finished with value: 0.3287377549947897 and parameters: {'lstm_layers': 4, 'hidden_size': 16, 'dense_size': 192, 'batch_size_exp': 3, 'learning_rate_exp': -3}. Best is trial 10 with value: 0.25717084527626555.\n"
     ]
    },
    {
     "name": "stderr",
     "output_type": "stream",
     "text": [
      "\u001b[32m[I 2023-01-08 02:31:04,877]\u001b[0m Trial 18 finished with value: 0.2807566892864893 and parameters: {'lstm_layers': 2, 'hidden_size': 42, 'dense_size': 123, 'batch_size_exp': 4, 'learning_rate_exp': -4}. Best is trial 10 with value: 0.25717084527626555.\u001b[0m\n"
     ]
    },
    {
     "name": "stdout",
     "output_type": "stream",
     "text": [
      "Trial 18 finished with value: 0.2807566892864893 and parameters: {'lstm_layers': 2, 'hidden_size': 42, 'dense_size': 123, 'batch_size_exp': 4, 'learning_rate_exp': -4}. Best is trial 10 with value: 0.25717084527626555.\n"
     ]
    },
    {
     "name": "stderr",
     "output_type": "stream",
     "text": [
      "\u001b[32m[I 2023-01-08 03:35:01,519]\u001b[0m Trial 19 finished with value: 0.3646354740034909 and parameters: {'lstm_layers': 5, 'hidden_size': 18, 'dense_size': 252, 'batch_size_exp': 3, 'learning_rate_exp': -3}. Best is trial 10 with value: 0.25717084527626555.\u001b[0m\n"
     ]
    },
    {
     "name": "stdout",
     "output_type": "stream",
     "text": [
      "Trial 19 finished with value: 0.3646354740034909 and parameters: {'lstm_layers': 5, 'hidden_size': 18, 'dense_size': 252, 'batch_size_exp': 3, 'learning_rate_exp': -3}. Best is trial 10 with value: 0.25717084527626555.\n"
     ]
    },
    {
     "name": "stderr",
     "output_type": "stream",
     "text": [
      "\u001b[32m[I 2023-01-08 04:03:03,050]\u001b[0m Trial 20 finished with value: 0.29377573585177924 and parameters: {'lstm_layers': 3, 'hidden_size': 40, 'dense_size': 59, 'batch_size_exp': 4, 'learning_rate_exp': -4}. Best is trial 10 with value: 0.25717084527626555.\u001b[0m\n"
     ]
    },
    {
     "name": "stdout",
     "output_type": "stream",
     "text": [
      "Trial 20 finished with value: 0.29377573585177924 and parameters: {'lstm_layers': 3, 'hidden_size': 40, 'dense_size': 59, 'batch_size_exp': 4, 'learning_rate_exp': -4}. Best is trial 10 with value: 0.25717084527626555.\n"
     ]
    },
    {
     "name": "stderr",
     "output_type": "stream",
     "text": [
      "\u001b[32m[I 2023-01-08 04:26:37,368]\u001b[0m Trial 21 finished with value: 0.3413965888455403 and parameters: {'lstm_layers': 2, 'hidden_size': 41, 'dense_size': 129, 'batch_size_exp': 4, 'learning_rate_exp': -4}. Best is trial 10 with value: 0.25717084527626555.\u001b[0m\n"
     ]
    },
    {
     "name": "stdout",
     "output_type": "stream",
     "text": [
      "Trial 21 finished with value: 0.3413965888455403 and parameters: {'lstm_layers': 2, 'hidden_size': 41, 'dense_size': 129, 'batch_size_exp': 4, 'learning_rate_exp': -4}. Best is trial 10 with value: 0.25717084527626555.\n"
     ]
    },
    {
     "name": "stderr",
     "output_type": "stream",
     "text": [
      "\u001b[32m[I 2023-01-08 04:50:13,838]\u001b[0m Trial 22 finished with value: 0.31639052222636965 and parameters: {'lstm_layers': 2, 'hidden_size': 69, 'dense_size': 119, 'batch_size_exp': 4, 'learning_rate_exp': -4}. Best is trial 10 with value: 0.25717084527626555.\u001b[0m\n"
     ]
    },
    {
     "name": "stdout",
     "output_type": "stream",
     "text": [
      "Trial 22 finished with value: 0.31639052222636965 and parameters: {'lstm_layers': 2, 'hidden_size': 69, 'dense_size': 119, 'batch_size_exp': 4, 'learning_rate_exp': -4}. Best is trial 10 with value: 0.25717084527626555.\n"
     ]
    },
    {
     "name": "stderr",
     "output_type": "stream",
     "text": [
      "\u001b[32m[I 2023-01-08 05:39:06,993]\u001b[0m Trial 23 finished with value: 0.3359697763482609 and parameters: {'lstm_layers': 3, 'hidden_size': 17, 'dense_size': 157, 'batch_size_exp': 3, 'learning_rate_exp': -4}. Best is trial 10 with value: 0.25717084527626555.\u001b[0m\n"
     ]
    },
    {
     "name": "stdout",
     "output_type": "stream",
     "text": [
      "Trial 23 finished with value: 0.3359697763482609 and parameters: {'lstm_layers': 3, 'hidden_size': 17, 'dense_size': 157, 'batch_size_exp': 3, 'learning_rate_exp': -4}. Best is trial 10 with value: 0.25717084527626555.\n"
     ]
    },
    {
     "name": "stderr",
     "output_type": "stream",
     "text": [
      "\u001b[32m[I 2023-01-08 05:51:24,749]\u001b[0m Trial 24 finished with value: 0.36123265077670413 and parameters: {'lstm_layers': 2, 'hidden_size': 55, 'dense_size': 89, 'batch_size_exp': 5, 'learning_rate_exp': -4}. Best is trial 10 with value: 0.25717084527626555.\u001b[0m\n"
     ]
    },
    {
     "name": "stdout",
     "output_type": "stream",
     "text": [
      "Trial 24 finished with value: 0.36123265077670413 and parameters: {'lstm_layers': 2, 'hidden_size': 55, 'dense_size': 89, 'batch_size_exp': 5, 'learning_rate_exp': -4}. Best is trial 10 with value: 0.25717084527626555.\n"
     ]
    },
    {
     "name": "stderr",
     "output_type": "stream",
     "text": [
      "\u001b[32m[I 2023-01-08 06:23:56,480]\u001b[0m Trial 25 finished with value: 0.25548942384423967 and parameters: {'lstm_layers': 4, 'hidden_size': 37, 'dense_size': 149, 'batch_size_exp': 4, 'learning_rate_exp': -3}. Best is trial 25 with value: 0.25548942384423967.\u001b[0m\n"
     ]
    },
    {
     "name": "stdout",
     "output_type": "stream",
     "text": [
      "Trial 25 finished with value: 0.25548942384423967 and parameters: {'lstm_layers': 4, 'hidden_size': 37, 'dense_size': 149, 'batch_size_exp': 4, 'learning_rate_exp': -3}. Best is trial 25 with value: 0.25548942384423967.\n"
     ]
    },
    {
     "name": "stderr",
     "output_type": "stream",
     "text": [
      "\u001b[32m[I 2023-01-08 07:18:43,087]\u001b[0m Trial 26 finished with value: 0.3196437732161333 and parameters: {'lstm_layers': 4, 'hidden_size': 21, 'dense_size': 195, 'batch_size_exp': 3, 'learning_rate_exp': -3}. Best is trial 25 with value: 0.25548942384423967.\u001b[0m\n"
     ]
    },
    {
     "name": "stdout",
     "output_type": "stream",
     "text": [
      "Trial 26 finished with value: 0.3196437732161333 and parameters: {'lstm_layers': 4, 'hidden_size': 21, 'dense_size': 195, 'batch_size_exp': 3, 'learning_rate_exp': -3}. Best is trial 25 with value: 0.25548942384423967.\n"
     ]
    },
    {
     "name": "stderr",
     "output_type": "stream",
     "text": [
      "\u001b[32m[I 2023-01-08 07:35:29,750]\u001b[0m Trial 27 finished with value: 0.3792377673089504 and parameters: {'lstm_layers': 4, 'hidden_size': 35, 'dense_size': 143, 'batch_size_exp': 5, 'learning_rate_exp': -3}. Best is trial 25 with value: 0.25548942384423967.\u001b[0m\n"
     ]
    },
    {
     "name": "stdout",
     "output_type": "stream",
     "text": [
      "Trial 27 finished with value: 0.3792377673089504 and parameters: {'lstm_layers': 4, 'hidden_size': 35, 'dense_size': 143, 'batch_size_exp': 5, 'learning_rate_exp': -3}. Best is trial 25 with value: 0.25548942384423967.\n"
     ]
    },
    {
     "name": "stderr",
     "output_type": "stream",
     "text": [
      "\u001b[32m[I 2023-01-08 08:12:57,555]\u001b[0m Trial 28 finished with value: 0.28928625708271705 and parameters: {'lstm_layers': 5, 'hidden_size': 80, 'dense_size': 169, 'batch_size_exp': 4, 'learning_rate_exp': -3}. Best is trial 25 with value: 0.25548942384423967.\u001b[0m\n"
     ]
    },
    {
     "name": "stdout",
     "output_type": "stream",
     "text": [
      "Trial 28 finished with value: 0.28928625708271705 and parameters: {'lstm_layers': 5, 'hidden_size': 80, 'dense_size': 169, 'batch_size_exp': 4, 'learning_rate_exp': -3}. Best is trial 25 with value: 0.25548942384423967.\n"
     ]
    },
    {
     "name": "stderr",
     "output_type": "stream",
     "text": [
      "\u001b[32m[I 2023-01-08 09:00:27,917]\u001b[0m Trial 29 finished with value: 0.6912276092849966 and parameters: {'lstm_layers': 3, 'hidden_size': 10, 'dense_size': 83, 'batch_size_exp': 3, 'learning_rate_exp': -2}. Best is trial 25 with value: 0.25548942384423967.\u001b[0m\n"
     ]
    },
    {
     "name": "stdout",
     "output_type": "stream",
     "text": [
      "Trial 29 finished with value: 0.6912276092849966 and parameters: {'lstm_layers': 3, 'hidden_size': 10, 'dense_size': 83, 'batch_size_exp': 3, 'learning_rate_exp': -2}. Best is trial 25 with value: 0.25548942384423967.\n"
     ]
    },
    {
     "name": "stderr",
     "output_type": "stream",
     "text": [
      "\u001b[32m[I 2023-01-08 09:05:28,416]\u001b[0m Trial 30 finished with value: 0.23924224078655243 and parameters: {'lstm_layers': 4, 'hidden_size': 28, 'dense_size': 214, 'batch_size_exp': 7, 'learning_rate_exp': -3}. Best is trial 30 with value: 0.23924224078655243.\u001b[0m\n"
     ]
    },
    {
     "name": "stdout",
     "output_type": "stream",
     "text": [
      "Trial 30 finished with value: 0.23924224078655243 and parameters: {'lstm_layers': 4, 'hidden_size': 28, 'dense_size': 214, 'batch_size_exp': 7, 'learning_rate_exp': -3}. Best is trial 30 with value: 0.23924224078655243.\n"
     ]
    },
    {
     "name": "stderr",
     "output_type": "stream",
     "text": [
      "\u001b[32m[I 2023-01-08 09:10:26,593]\u001b[0m Trial 31 finished with value: 0.29295359201291027 and parameters: {'lstm_layers': 4, 'hidden_size': 29, 'dense_size': 224, 'batch_size_exp': 7, 'learning_rate_exp': -3}. Best is trial 30 with value: 0.23924224078655243.\u001b[0m\n"
     ]
    },
    {
     "name": "stdout",
     "output_type": "stream",
     "text": [
      "Trial 31 finished with value: 0.29295359201291027 and parameters: {'lstm_layers': 4, 'hidden_size': 29, 'dense_size': 224, 'batch_size_exp': 7, 'learning_rate_exp': -3}. Best is trial 30 with value: 0.23924224078655243.\n"
     ]
    },
    {
     "name": "stderr",
     "output_type": "stream",
     "text": [
      "\u001b[32m[I 2023-01-08 09:15:57,024]\u001b[0m Trial 32 finished with value: 0.2575650197618148 and parameters: {'lstm_layers': 5, 'hidden_size': 26, 'dense_size': 199, 'batch_size_exp': 7, 'learning_rate_exp': -3}. Best is trial 30 with value: 0.23924224078655243.\u001b[0m\n"
     ]
    },
    {
     "name": "stdout",
     "output_type": "stream",
     "text": [
      "Trial 32 finished with value: 0.2575650197618148 and parameters: {'lstm_layers': 5, 'hidden_size': 26, 'dense_size': 199, 'batch_size_exp': 7, 'learning_rate_exp': -3}. Best is trial 30 with value: 0.23924224078655243.\n"
     ]
    },
    {
     "name": "stderr",
     "output_type": "stream",
     "text": [
      "\u001b[32m[I 2023-01-08 09:21:31,326]\u001b[0m Trial 33 finished with value: 0.34339632663656683 and parameters: {'lstm_layers': 5, 'hidden_size': 47, 'dense_size': 208, 'batch_size_exp': 7, 'learning_rate_exp': -3}. Best is trial 30 with value: 0.23924224078655243.\u001b[0m\n"
     ]
    },
    {
     "name": "stdout",
     "output_type": "stream",
     "text": [
      "Trial 33 finished with value: 0.34339632663656683 and parameters: {'lstm_layers': 5, 'hidden_size': 47, 'dense_size': 208, 'batch_size_exp': 7, 'learning_rate_exp': -3}. Best is trial 30 with value: 0.23924224078655243.\n"
     ]
    },
    {
     "name": "stderr",
     "output_type": "stream",
     "text": [
      "\u001b[32m[I 2023-01-08 09:27:03,619]\u001b[0m Trial 34 finished with value: 0.5775837714181227 and parameters: {'lstm_layers': 5, 'hidden_size': 36, 'dense_size': 202, 'batch_size_exp': 7, 'learning_rate_exp': -2}. Best is trial 30 with value: 0.23924224078655243.\u001b[0m\n"
     ]
    },
    {
     "name": "stdout",
     "output_type": "stream",
     "text": [
      "Trial 34 finished with value: 0.5775837714181227 and parameters: {'lstm_layers': 5, 'hidden_size': 36, 'dense_size': 202, 'batch_size_exp': 7, 'learning_rate_exp': -2}. Best is trial 30 with value: 0.23924224078655243.\n"
     ]
    },
    {
     "name": "stderr",
     "output_type": "stream",
     "text": [
      "\u001b[32m[I 2023-01-08 09:37:00,508]\u001b[0m Trial 35 finished with value: 0.39208376024137526 and parameters: {'lstm_layers': 5, 'hidden_size': 23, 'dense_size': 229, 'batch_size_exp': 6, 'learning_rate_exp': -3}. Best is trial 30 with value: 0.23924224078655243.\u001b[0m\n"
     ]
    },
    {
     "name": "stdout",
     "output_type": "stream",
     "text": [
      "Trial 35 finished with value: 0.39208376024137526 and parameters: {'lstm_layers': 5, 'hidden_size': 23, 'dense_size': 229, 'batch_size_exp': 6, 'learning_rate_exp': -3}. Best is trial 30 with value: 0.23924224078655243.\n"
     ]
    },
    {
     "name": "stderr",
     "output_type": "stream",
     "text": [
      "\u001b[32m[I 2023-01-08 09:42:00,891]\u001b[0m Trial 36 finished with value: 0.2848626931800562 and parameters: {'lstm_layers': 4, 'hidden_size': 60, 'dense_size': 174, 'batch_size_exp': 7, 'learning_rate_exp': -3}. Best is trial 30 with value: 0.23924224078655243.\u001b[0m\n"
     ]
    },
    {
     "name": "stdout",
     "output_type": "stream",
     "text": [
      "Trial 36 finished with value: 0.2848626931800562 and parameters: {'lstm_layers': 4, 'hidden_size': 60, 'dense_size': 174, 'batch_size_exp': 7, 'learning_rate_exp': -3}. Best is trial 30 with value: 0.23924224078655243.\n"
     ]
    },
    {
     "name": "stderr",
     "output_type": "stream",
     "text": [
      "\u001b[32m[I 2023-01-08 09:51:51,504]\u001b[0m Trial 37 finished with value: 0.7978505117490011 and parameters: {'lstm_layers': 5, 'hidden_size': 16, 'dense_size': 250, 'batch_size_exp': 6, 'learning_rate_exp': -2}. Best is trial 30 with value: 0.23924224078655243.\u001b[0m\n"
     ]
    },
    {
     "name": "stdout",
     "output_type": "stream",
     "text": [
      "Trial 37 finished with value: 0.7978505117490011 and parameters: {'lstm_layers': 5, 'hidden_size': 16, 'dense_size': 250, 'batch_size_exp': 6, 'learning_rate_exp': -2}. Best is trial 30 with value: 0.23924224078655243.\n"
     ]
    },
    {
     "name": "stderr",
     "output_type": "stream",
     "text": [
      "\u001b[32m[I 2023-01-08 09:56:53,221]\u001b[0m Trial 38 finished with value: 0.21516395141096675 and parameters: {'lstm_layers': 4, 'hidden_size': 30, 'dense_size': 163, 'batch_size_exp': 7, 'learning_rate_exp': -3}. Best is trial 38 with value: 0.21516395141096675.\u001b[0m\n"
     ]
    },
    {
     "name": "stdout",
     "output_type": "stream",
     "text": [
      "Trial 38 finished with value: 0.21516395141096675 and parameters: {'lstm_layers': 4, 'hidden_size': 30, 'dense_size': 163, 'batch_size_exp': 7, 'learning_rate_exp': -3}. Best is trial 38 with value: 0.21516395141096675.\n"
     ]
    },
    {
     "name": "stderr",
     "output_type": "stream",
     "text": [
      "\u001b[32m[I 2023-01-08 10:05:40,353]\u001b[0m Trial 39 finished with value: 0.2645366659716648 and parameters: {'lstm_layers': 4, 'hidden_size': 48, 'dense_size': 111, 'batch_size_exp': 6, 'learning_rate_exp': -3}. Best is trial 38 with value: 0.21516395141096675.\u001b[0m\n"
     ]
    },
    {
     "name": "stdout",
     "output_type": "stream",
     "text": [
      "Trial 39 finished with value: 0.2645366659716648 and parameters: {'lstm_layers': 4, 'hidden_size': 48, 'dense_size': 111, 'batch_size_exp': 6, 'learning_rate_exp': -3}. Best is trial 38 with value: 0.21516395141096675.\n"
     ]
    },
    {
     "name": "stderr",
     "output_type": "stream",
     "text": [
      "\u001b[32m[I 2023-01-08 10:20:38,232]\u001b[0m Trial 40 finished with value: 0.456496921894343 and parameters: {'lstm_layers': 3, 'hidden_size': 127, 'dense_size': 143, 'batch_size_exp': 5, 'learning_rate_exp': -2}. Best is trial 38 with value: 0.21516395141096675.\u001b[0m\n"
     ]
    },
    {
     "name": "stdout",
     "output_type": "stream",
     "text": [
      "Trial 40 finished with value: 0.456496921894343 and parameters: {'lstm_layers': 3, 'hidden_size': 127, 'dense_size': 143, 'batch_size_exp': 5, 'learning_rate_exp': -2}. Best is trial 38 with value: 0.21516395141096675.\n"
     ]
    },
    {
     "name": "stderr",
     "output_type": "stream",
     "text": [
      "\u001b[32m[I 2023-01-08 10:25:38,977]\u001b[0m Trial 41 finished with value: 0.29104993623845715 and parameters: {'lstm_layers': 4, 'hidden_size': 28, 'dense_size': 188, 'batch_size_exp': 7, 'learning_rate_exp': -3}. Best is trial 38 with value: 0.21516395141096675.\u001b[0m\n"
     ]
    },
    {
     "name": "stdout",
     "output_type": "stream",
     "text": [
      "Trial 41 finished with value: 0.29104993623845715 and parameters: {'lstm_layers': 4, 'hidden_size': 28, 'dense_size': 188, 'batch_size_exp': 7, 'learning_rate_exp': -3}. Best is trial 38 with value: 0.21516395141096675.\n"
     ]
    },
    {
     "name": "stderr",
     "output_type": "stream",
     "text": [
      "\u001b[32m[I 2023-01-08 10:30:35,670]\u001b[0m Trial 42 finished with value: 0.21787791786824956 and parameters: {'lstm_layers': 4, 'hidden_size': 95, 'dense_size': 163, 'batch_size_exp': 7, 'learning_rate_exp': -3}. Best is trial 38 with value: 0.21516395141096675.\u001b[0m\n"
     ]
    },
    {
     "name": "stdout",
     "output_type": "stream",
     "text": [
      "Trial 42 finished with value: 0.21787791786824956 and parameters: {'lstm_layers': 4, 'hidden_size': 95, 'dense_size': 163, 'batch_size_exp': 7, 'learning_rate_exp': -3}. Best is trial 38 with value: 0.21516395141096675.\n"
     ]
    },
    {
     "name": "stderr",
     "output_type": "stream",
     "text": [
      "\u001b[32m[I 2023-01-08 10:35:30,079]\u001b[0m Trial 43 finished with value: 0.2463857592905269 and parameters: {'lstm_layers': 4, 'hidden_size': 104, 'dense_size': 165, 'batch_size_exp': 7, 'learning_rate_exp': -3}. Best is trial 38 with value: 0.21516395141096675.\u001b[0m\n"
     ]
    },
    {
     "name": "stdout",
     "output_type": "stream",
     "text": [
      "Trial 43 finished with value: 0.2463857592905269 and parameters: {'lstm_layers': 4, 'hidden_size': 104, 'dense_size': 165, 'batch_size_exp': 7, 'learning_rate_exp': -3}. Best is trial 38 with value: 0.21516395141096675.\n"
     ]
    },
    {
     "name": "stderr",
     "output_type": "stream",
     "text": [
      "\u001b[32m[I 2023-01-08 10:40:24,937]\u001b[0m Trial 44 finished with value: 0.27052630484104156 and parameters: {'lstm_layers': 4, 'hidden_size': 102, 'dense_size': 152, 'batch_size_exp': 7, 'learning_rate_exp': -3}. Best is trial 38 with value: 0.21516395141096675.\u001b[0m\n"
     ]
    },
    {
     "name": "stdout",
     "output_type": "stream",
     "text": [
      "Trial 44 finished with value: 0.27052630484104156 and parameters: {'lstm_layers': 4, 'hidden_size': 102, 'dense_size': 152, 'batch_size_exp': 7, 'learning_rate_exp': -3}. Best is trial 38 with value: 0.21516395141096675.\n"
     ]
    },
    {
     "name": "stderr",
     "output_type": "stream",
     "text": [
      "\u001b[32m[I 2023-01-08 10:49:23,346]\u001b[0m Trial 45 finished with value: 0.32479930548545194 and parameters: {'lstm_layers': 4, 'hidden_size': 89, 'dense_size': 167, 'batch_size_exp': 6, 'learning_rate_exp': -3}. Best is trial 38 with value: 0.21516395141096675.\u001b[0m\n"
     ]
    },
    {
     "name": "stdout",
     "output_type": "stream",
     "text": [
      "Trial 45 finished with value: 0.32479930548545194 and parameters: {'lstm_layers': 4, 'hidden_size': 89, 'dense_size': 167, 'batch_size_exp': 6, 'learning_rate_exp': -3}. Best is trial 38 with value: 0.21516395141096675.\n"
     ]
    },
    {
     "name": "stderr",
     "output_type": "stream",
     "text": [
      "\u001b[32m[I 2023-01-08 10:54:19,002]\u001b[0m Trial 46 finished with value: 0.29073289124404683 and parameters: {'lstm_layers': 4, 'hidden_size': 114, 'dense_size': 182, 'batch_size_exp': 7, 'learning_rate_exp': -3}. Best is trial 38 with value: 0.21516395141096675.\u001b[0m\n"
     ]
    },
    {
     "name": "stdout",
     "output_type": "stream",
     "text": [
      "Trial 46 finished with value: 0.29073289124404683 and parameters: {'lstm_layers': 4, 'hidden_size': 114, 'dense_size': 182, 'batch_size_exp': 7, 'learning_rate_exp': -3}. Best is trial 38 with value: 0.21516395141096675.\n"
     ]
    },
    {
     "name": "stderr",
     "output_type": "stream",
     "text": [
      "\u001b[32m[I 2023-01-08 10:58:35,875]\u001b[0m Trial 47 finished with value: 0.2934989052660325 and parameters: {'lstm_layers': 3, 'hidden_size': 92, 'dense_size': 138, 'batch_size_exp': 7, 'learning_rate_exp': -3}. Best is trial 38 with value: 0.21516395141096675.\u001b[0m\n"
     ]
    },
    {
     "name": "stdout",
     "output_type": "stream",
     "text": [
      "Trial 47 finished with value: 0.2934989052660325 and parameters: {'lstm_layers': 3, 'hidden_size': 92, 'dense_size': 138, 'batch_size_exp': 7, 'learning_rate_exp': -3}. Best is trial 38 with value: 0.21516395141096675.\n"
     ]
    },
    {
     "name": "stderr",
     "output_type": "stream",
     "text": [
      "\u001b[32m[I 2023-01-08 11:07:33,699]\u001b[0m Trial 48 finished with value: 0.24518226273357868 and parameters: {'lstm_layers': 4, 'hidden_size': 107, 'dense_size': 210, 'batch_size_exp': 6, 'learning_rate_exp': -3}. Best is trial 38 with value: 0.21516395141096675.\u001b[0m\n"
     ]
    },
    {
     "name": "stdout",
     "output_type": "stream",
     "text": [
      "Trial 48 finished with value: 0.24518226273357868 and parameters: {'lstm_layers': 4, 'hidden_size': 107, 'dense_size': 210, 'batch_size_exp': 6, 'learning_rate_exp': -3}. Best is trial 38 with value: 0.21516395141096675.\n"
     ]
    },
    {
     "name": "stderr",
     "output_type": "stream",
     "text": [
      "\u001b[32m[I 2023-01-08 11:16:28,726]\u001b[0m Trial 49 finished with value: 0.3549495129024281 and parameters: {'lstm_layers': 4, 'hidden_size': 112, 'dense_size': 213, 'batch_size_exp': 6, 'learning_rate_exp': -3}. Best is trial 38 with value: 0.21516395141096675.\u001b[0m\n"
     ]
    },
    {
     "name": "stdout",
     "output_type": "stream",
     "text": [
      "Trial 49 finished with value: 0.3549495129024281 and parameters: {'lstm_layers': 4, 'hidden_size': 112, 'dense_size': 213, 'batch_size_exp': 6, 'learning_rate_exp': -3}. Best is trial 38 with value: 0.21516395141096675.\n"
     ]
    },
    {
     "name": "stderr",
     "output_type": "stream",
     "text": [
      "\u001b[32m[I 2023-01-08 11:25:24,081]\u001b[0m Trial 50 finished with value: 0.27435270981753573 and parameters: {'lstm_layers': 4, 'hidden_size': 97, 'dense_size': 239, 'batch_size_exp': 6, 'learning_rate_exp': -3}. Best is trial 38 with value: 0.21516395141096675.\u001b[0m\n"
     ]
    },
    {
     "name": "stdout",
     "output_type": "stream",
     "text": [
      "Trial 50 finished with value: 0.27435270981753573 and parameters: {'lstm_layers': 4, 'hidden_size': 97, 'dense_size': 239, 'batch_size_exp': 6, 'learning_rate_exp': -3}. Best is trial 38 with value: 0.21516395141096675.\n"
     ]
    },
    {
     "name": "stderr",
     "output_type": "stream",
     "text": [
      "\u001b[32m[I 2023-01-08 11:30:20,018]\u001b[0m Trial 51 finished with value: 0.21737849142621546 and parameters: {'lstm_layers': 4, 'hidden_size': 107, 'dense_size': 162, 'batch_size_exp': 7, 'learning_rate_exp': -3}. Best is trial 38 with value: 0.21516395141096675.\u001b[0m\n"
     ]
    },
    {
     "name": "stdout",
     "output_type": "stream",
     "text": [
      "Trial 51 finished with value: 0.21737849142621546 and parameters: {'lstm_layers': 4, 'hidden_size': 107, 'dense_size': 162, 'batch_size_exp': 7, 'learning_rate_exp': -3}. Best is trial 38 with value: 0.21516395141096675.\n"
     ]
    },
    {
     "name": "stderr",
     "output_type": "stream",
     "text": [
      "\u001b[32m[I 2023-01-08 11:35:15,899]\u001b[0m Trial 52 finished with value: 0.3177548559272991 and parameters: {'lstm_layers': 4, 'hidden_size': 107, 'dense_size': 162, 'batch_size_exp': 7, 'learning_rate_exp': -3}. Best is trial 38 with value: 0.21516395141096675.\u001b[0m\n"
     ]
    },
    {
     "name": "stdout",
     "output_type": "stream",
     "text": [
      "Trial 52 finished with value: 0.3177548559272991 and parameters: {'lstm_layers': 4, 'hidden_size': 107, 'dense_size': 162, 'batch_size_exp': 7, 'learning_rate_exp': -3}. Best is trial 38 with value: 0.21516395141096675.\n"
     ]
    },
    {
     "name": "stderr",
     "output_type": "stream",
     "text": [
      "\u001b[32m[I 2023-01-08 11:39:35,230]\u001b[0m Trial 53 finished with value: 0.2767170851721483 and parameters: {'lstm_layers': 3, 'hidden_size': 117, 'dense_size': 178, 'batch_size_exp': 7, 'learning_rate_exp': -3}. Best is trial 38 with value: 0.21516395141096675.\u001b[0m\n"
     ]
    },
    {
     "name": "stdout",
     "output_type": "stream",
     "text": [
      "Trial 53 finished with value: 0.2767170851721483 and parameters: {'lstm_layers': 3, 'hidden_size': 117, 'dense_size': 178, 'batch_size_exp': 7, 'learning_rate_exp': -3}. Best is trial 38 with value: 0.21516395141096675.\n"
     ]
    },
    {
     "name": "stderr",
     "output_type": "stream",
     "text": [
      "\u001b[32m[I 2023-01-08 11:44:30,232]\u001b[0m Trial 54 finished with value: 0.39075939488761563 and parameters: {'lstm_layers': 4, 'hidden_size': 97, 'dense_size': 189, 'batch_size_exp': 7, 'learning_rate_exp': -3}. Best is trial 38 with value: 0.21516395141096675.\u001b[0m\n"
     ]
    },
    {
     "name": "stdout",
     "output_type": "stream",
     "text": [
      "Trial 54 finished with value: 0.39075939488761563 and parameters: {'lstm_layers': 4, 'hidden_size': 97, 'dense_size': 189, 'batch_size_exp': 7, 'learning_rate_exp': -3}. Best is trial 38 with value: 0.21516395141096675.\n"
     ]
    },
    {
     "name": "stderr",
     "output_type": "stream",
     "text": [
      "\u001b[32m[I 2023-01-08 11:49:25,988]\u001b[0m Trial 55 finished with value: 0.3017292013939689 and parameters: {'lstm_layers': 4, 'hidden_size': 107, 'dense_size': 221, 'batch_size_exp': 7, 'learning_rate_exp': -3}. Best is trial 38 with value: 0.21516395141096675.\u001b[0m\n"
     ]
    },
    {
     "name": "stdout",
     "output_type": "stream",
     "text": [
      "Trial 55 finished with value: 0.3017292013939689 and parameters: {'lstm_layers': 4, 'hidden_size': 107, 'dense_size': 221, 'batch_size_exp': 7, 'learning_rate_exp': -3}. Best is trial 38 with value: 0.21516395141096675.\n"
     ]
    },
    {
     "name": "stderr",
     "output_type": "stream",
     "text": [
      "\u001b[32m[I 2023-01-08 11:57:16,088]\u001b[0m Trial 56 finished with value: 0.29494710014585185 and parameters: {'lstm_layers': 3, 'hidden_size': 79, 'dense_size': 206, 'batch_size_exp': 6, 'learning_rate_exp': -3}. Best is trial 38 with value: 0.21516395141096675.\u001b[0m\n"
     ]
    },
    {
     "name": "stdout",
     "output_type": "stream",
     "text": [
      "Trial 56 finished with value: 0.29494710014585185 and parameters: {'lstm_layers': 3, 'hidden_size': 79, 'dense_size': 206, 'batch_size_exp': 6, 'learning_rate_exp': -3}. Best is trial 38 with value: 0.21516395141096675.\n"
     ]
    },
    {
     "name": "stderr",
     "output_type": "stream",
     "text": [
      "\u001b[32m[I 2023-01-08 12:02:14,152]\u001b[0m Trial 57 finished with value: 0.30440905032789006 and parameters: {'lstm_layers': 4, 'hidden_size': 125, 'dense_size': 236, 'batch_size_exp': 7, 'learning_rate_exp': -3}. Best is trial 38 with value: 0.21516395141096675.\u001b[0m\n"
     ]
    },
    {
     "name": "stdout",
     "output_type": "stream",
     "text": [
      "Trial 57 finished with value: 0.30440905032789006 and parameters: {'lstm_layers': 4, 'hidden_size': 125, 'dense_size': 236, 'batch_size_exp': 7, 'learning_rate_exp': -3}. Best is trial 38 with value: 0.21516395141096675.\n"
     ]
    },
    {
     "name": "stderr",
     "output_type": "stream",
     "text": [
      "\u001b[32m[I 2023-01-08 12:07:46,950]\u001b[0m Trial 58 finished with value: 0.23810345065944336 and parameters: {'lstm_layers': 5, 'hidden_size': 106, 'dense_size': 172, 'batch_size_exp': 7, 'learning_rate_exp': -3}. Best is trial 38 with value: 0.21516395141096675.\u001b[0m\n"
     ]
    },
    {
     "name": "stdout",
     "output_type": "stream",
     "text": [
      "Trial 58 finished with value: 0.23810345065944336 and parameters: {'lstm_layers': 5, 'hidden_size': 106, 'dense_size': 172, 'batch_size_exp': 7, 'learning_rate_exp': -3}. Best is trial 38 with value: 0.21516395141096675.\n"
     ]
    },
    {
     "name": "stderr",
     "output_type": "stream",
     "text": [
      "\u001b[32m[I 2023-01-08 12:18:01,163]\u001b[0m Trial 59 finished with value: 0.3718515428550103 and parameters: {'lstm_layers': 5, 'hidden_size': 122, 'dense_size': 173, 'batch_size_exp': 6, 'learning_rate_exp': -3}. Best is trial 38 with value: 0.21516395141096675.\u001b[0m\n"
     ]
    },
    {
     "name": "stdout",
     "output_type": "stream",
     "text": [
      "Trial 59 finished with value: 0.3718515428550103 and parameters: {'lstm_layers': 5, 'hidden_size': 122, 'dense_size': 173, 'batch_size_exp': 6, 'learning_rate_exp': -3}. Best is trial 38 with value: 0.21516395141096675.\n"
     ]
    },
    {
     "name": "stderr",
     "output_type": "stream",
     "text": [
      "\u001b[32m[I 2023-01-08 12:23:34,313]\u001b[0m Trial 60 finished with value: 0.2550685368478298 and parameters: {'lstm_layers': 5, 'hidden_size': 111, 'dense_size': 187, 'batch_size_exp': 7, 'learning_rate_exp': -3}. Best is trial 38 with value: 0.21516395141096675.\u001b[0m\n"
     ]
    },
    {
     "name": "stdout",
     "output_type": "stream",
     "text": [
      "Trial 60 finished with value: 0.2550685368478298 and parameters: {'lstm_layers': 5, 'hidden_size': 111, 'dense_size': 187, 'batch_size_exp': 7, 'learning_rate_exp': -3}. Best is trial 38 with value: 0.21516395141096675.\n"
     ]
    },
    {
     "name": "stderr",
     "output_type": "stream",
     "text": [
      "\u001b[32m[I 2023-01-08 12:29:07,591]\u001b[0m Trial 61 finished with value: 0.31366349055486564 and parameters: {'lstm_layers': 5, 'hidden_size': 102, 'dense_size': 168, 'batch_size_exp': 7, 'learning_rate_exp': -3}. Best is trial 38 with value: 0.21516395141096675.\u001b[0m\n"
     ]
    },
    {
     "name": "stdout",
     "output_type": "stream",
     "text": [
      "Trial 61 finished with value: 0.31366349055486564 and parameters: {'lstm_layers': 5, 'hidden_size': 102, 'dense_size': 168, 'batch_size_exp': 7, 'learning_rate_exp': -3}. Best is trial 38 with value: 0.21516395141096675.\n"
     ]
    },
    {
     "name": "stderr",
     "output_type": "stream",
     "text": [
      "\u001b[32m[I 2023-01-08 12:34:02,664]\u001b[0m Trial 62 finished with value: 0.2439358808538493 and parameters: {'lstm_layers': 4, 'hidden_size': 106, 'dense_size': 157, 'batch_size_exp': 7, 'learning_rate_exp': -3}. Best is trial 38 with value: 0.21516395141096675.\u001b[0m\n"
     ]
    },
    {
     "name": "stdout",
     "output_type": "stream",
     "text": [
      "Trial 62 finished with value: 0.2439358808538493 and parameters: {'lstm_layers': 4, 'hidden_size': 106, 'dense_size': 157, 'batch_size_exp': 7, 'learning_rate_exp': -3}. Best is trial 38 with value: 0.21516395141096675.\n"
     ]
    },
    {
     "name": "stderr",
     "output_type": "stream",
     "text": [
      "\u001b[32m[I 2023-01-08 12:38:58,128]\u001b[0m Trial 63 finished with value: 0.3457239278975655 and parameters: {'lstm_layers': 4, 'hidden_size': 117, 'dense_size': 155, 'batch_size_exp': 7, 'learning_rate_exp': -3}. Best is trial 38 with value: 0.21516395141096675.\u001b[0m\n"
     ]
    },
    {
     "name": "stdout",
     "output_type": "stream",
     "text": [
      "Trial 63 finished with value: 0.3457239278975655 and parameters: {'lstm_layers': 4, 'hidden_size': 117, 'dense_size': 155, 'batch_size_exp': 7, 'learning_rate_exp': -3}. Best is trial 38 with value: 0.21516395141096675.\n"
     ]
    },
    {
     "name": "stderr",
     "output_type": "stream",
     "text": [
      "\u001b[32m[I 2023-01-08 12:43:18,823]\u001b[0m Trial 64 finished with value: 0.2524471502093708 and parameters: {'lstm_layers': 3, 'hidden_size': 94, 'dense_size': 136, 'batch_size_exp': 7, 'learning_rate_exp': -3}. Best is trial 38 with value: 0.21516395141096675.\u001b[0m\n"
     ]
    },
    {
     "name": "stdout",
     "output_type": "stream",
     "text": [
      "Trial 64 finished with value: 0.2524471502093708 and parameters: {'lstm_layers': 3, 'hidden_size': 94, 'dense_size': 136, 'batch_size_exp': 7, 'learning_rate_exp': -3}. Best is trial 38 with value: 0.21516395141096675.\n"
     ]
    },
    {
     "name": "stderr",
     "output_type": "stream",
     "text": [
      "\u001b[32m[I 2023-01-08 12:48:16,208]\u001b[0m Trial 65 finished with value: 0.28713491997298074 and parameters: {'lstm_layers': 4, 'hidden_size': 87, 'dense_size': 148, 'batch_size_exp': 7, 'learning_rate_exp': -3}. Best is trial 38 with value: 0.21516395141096675.\u001b[0m\n"
     ]
    },
    {
     "name": "stdout",
     "output_type": "stream",
     "text": [
      "Trial 65 finished with value: 0.28713491997298074 and parameters: {'lstm_layers': 4, 'hidden_size': 87, 'dense_size': 148, 'batch_size_exp': 7, 'learning_rate_exp': -3}. Best is trial 38 with value: 0.21516395141096675.\n"
     ]
    },
    {
     "name": "stderr",
     "output_type": "stream",
     "text": [
      "\u001b[32m[I 2023-01-08 12:58:26,119]\u001b[0m Trial 66 finished with value: 0.25508149494143095 and parameters: {'lstm_layers': 5, 'hidden_size': 83, 'dense_size': 127, 'batch_size_exp': 6, 'learning_rate_exp': -3}. Best is trial 38 with value: 0.21516395141096675.\u001b[0m\n"
     ]
    },
    {
     "name": "stdout",
     "output_type": "stream",
     "text": [
      "Trial 66 finished with value: 0.25508149494143095 and parameters: {'lstm_layers': 5, 'hidden_size': 83, 'dense_size': 127, 'batch_size_exp': 6, 'learning_rate_exp': -3}. Best is trial 38 with value: 0.21516395141096675.\n"
     ]
    },
    {
     "name": "stderr",
     "output_type": "stream",
     "text": [
      "\u001b[32m[I 2023-01-08 13:03:20,066]\u001b[0m Trial 67 finished with value: 0.2666844515239491 and parameters: {'lstm_layers': 4, 'hidden_size': 109, 'dense_size': 115, 'batch_size_exp': 7, 'learning_rate_exp': -3}. Best is trial 38 with value: 0.21516395141096675.\u001b[0m\n"
     ]
    },
    {
     "name": "stdout",
     "output_type": "stream",
     "text": [
      "Trial 67 finished with value: 0.2666844515239491 and parameters: {'lstm_layers': 4, 'hidden_size': 109, 'dense_size': 115, 'batch_size_exp': 7, 'learning_rate_exp': -3}. Best is trial 38 with value: 0.21516395141096675.\n"
     ]
    },
    {
     "name": "stderr",
     "output_type": "stream",
     "text": [
      "\u001b[32m[I 2023-01-08 13:06:34,479]\u001b[0m Trial 68 finished with value: 0.28405506382970247 and parameters: {'lstm_layers': 1, 'hidden_size': 98, 'dense_size': 99, 'batch_size_exp': 7, 'learning_rate_exp': -3}. Best is trial 38 with value: 0.21516395141096675.\u001b[0m\n"
     ]
    },
    {
     "name": "stdout",
     "output_type": "stream",
     "text": [
      "Trial 68 finished with value: 0.28405506382970247 and parameters: {'lstm_layers': 1, 'hidden_size': 98, 'dense_size': 99, 'batch_size_exp': 7, 'learning_rate_exp': -3}. Best is trial 38 with value: 0.21516395141096675.\n"
     ]
    },
    {
     "name": "stderr",
     "output_type": "stream",
     "text": [
      "\u001b[32m[I 2023-01-08 13:10:56,686]\u001b[0m Trial 69 finished with value: 0.23671242594718933 and parameters: {'lstm_layers': 3, 'hidden_size': 71, 'dense_size': 198, 'batch_size_exp': 7, 'learning_rate_exp': -3}. Best is trial 38 with value: 0.21516395141096675.\u001b[0m\n"
     ]
    },
    {
     "name": "stdout",
     "output_type": "stream",
     "text": [
      "Trial 69 finished with value: 0.23671242594718933 and parameters: {'lstm_layers': 3, 'hidden_size': 71, 'dense_size': 198, 'batch_size_exp': 7, 'learning_rate_exp': -3}. Best is trial 38 with value: 0.21516395141096675.\n"
     ]
    },
    {
     "name": "stderr",
     "output_type": "stream",
     "text": [
      "\u001b[32m[I 2023-01-08 13:15:19,257]\u001b[0m Trial 70 finished with value: 0.362961091539439 and parameters: {'lstm_layers': 3, 'hidden_size': 69, 'dense_size': 196, 'batch_size_exp': 7, 'learning_rate_exp': -3}. Best is trial 38 with value: 0.21516395141096675.\u001b[0m\n"
     ]
    },
    {
     "name": "stdout",
     "output_type": "stream",
     "text": [
      "Trial 70 finished with value: 0.362961091539439 and parameters: {'lstm_layers': 3, 'hidden_size': 69, 'dense_size': 196, 'batch_size_exp': 7, 'learning_rate_exp': -3}. Best is trial 38 with value: 0.21516395141096675.\n"
     ]
    },
    {
     "name": "stderr",
     "output_type": "stream",
     "text": [
      "\u001b[32m[I 2023-01-08 13:19:37,638]\u001b[0m Trial 71 finished with value: 0.23247859670835383 and parameters: {'lstm_layers': 3, 'hidden_size': 105, 'dense_size': 181, 'batch_size_exp': 7, 'learning_rate_exp': -3}. Best is trial 38 with value: 0.21516395141096675.\u001b[0m\n"
     ]
    },
    {
     "name": "stdout",
     "output_type": "stream",
     "text": [
      "Trial 71 finished with value: 0.23247859670835383 and parameters: {'lstm_layers': 3, 'hidden_size': 105, 'dense_size': 181, 'batch_size_exp': 7, 'learning_rate_exp': -3}. Best is trial 38 with value: 0.21516395141096675.\n"
     ]
    },
    {
     "name": "stderr",
     "output_type": "stream",
     "text": [
      "\u001b[32m[I 2023-01-08 13:24:01,291]\u001b[0m Trial 72 finished with value: 0.24229126072981777 and parameters: {'lstm_layers': 3, 'hidden_size': 72, 'dense_size': 160, 'batch_size_exp': 7, 'learning_rate_exp': -3}. Best is trial 38 with value: 0.21516395141096675.\u001b[0m\n"
     ]
    },
    {
     "name": "stdout",
     "output_type": "stream",
     "text": [
      "Trial 72 finished with value: 0.24229126072981777 and parameters: {'lstm_layers': 3, 'hidden_size': 72, 'dense_size': 160, 'batch_size_exp': 7, 'learning_rate_exp': -3}. Best is trial 38 with value: 0.21516395141096675.\n"
     ]
    },
    {
     "name": "stderr",
     "output_type": "stream",
     "text": [
      "\u001b[32m[I 2023-01-08 13:28:22,977]\u001b[0m Trial 73 finished with value: 0.3164304692079039 and parameters: {'lstm_layers': 3, 'hidden_size': 73, 'dense_size': 178, 'batch_size_exp': 7, 'learning_rate_exp': -3}. Best is trial 38 with value: 0.21516395141096675.\u001b[0m\n"
     ]
    },
    {
     "name": "stdout",
     "output_type": "stream",
     "text": [
      "Trial 73 finished with value: 0.3164304692079039 and parameters: {'lstm_layers': 3, 'hidden_size': 73, 'dense_size': 178, 'batch_size_exp': 7, 'learning_rate_exp': -3}. Best is trial 38 with value: 0.21516395141096675.\n"
     ]
    },
    {
     "name": "stderr",
     "output_type": "stream",
     "text": [
      "\u001b[32m[I 2023-01-08 13:32:46,012]\u001b[0m Trial 74 finished with value: 0.24701795420225928 and parameters: {'lstm_layers': 3, 'hidden_size': 72, 'dense_size': 184, 'batch_size_exp': 7, 'learning_rate_exp': -3}. Best is trial 38 with value: 0.21516395141096675.\u001b[0m\n"
     ]
    },
    {
     "name": "stdout",
     "output_type": "stream",
     "text": [
      "Trial 74 finished with value: 0.24701795420225928 and parameters: {'lstm_layers': 3, 'hidden_size': 72, 'dense_size': 184, 'batch_size_exp': 7, 'learning_rate_exp': -3}. Best is trial 38 with value: 0.21516395141096675.\n"
     ]
    },
    {
     "name": "stderr",
     "output_type": "stream",
     "text": [
      "\u001b[32m[I 2023-01-08 13:37:15,216]\u001b[0m Trial 75 finished with value: 0.322835769285174 and parameters: {'lstm_layers': 3, 'hidden_size': 66, 'dense_size': 174, 'batch_size_exp': 7, 'learning_rate_exp': -3}. Best is trial 38 with value: 0.21516395141096675.\u001b[0m\n"
     ]
    },
    {
     "name": "stdout",
     "output_type": "stream",
     "text": [
      "Trial 75 finished with value: 0.322835769285174 and parameters: {'lstm_layers': 3, 'hidden_size': 66, 'dense_size': 174, 'batch_size_exp': 7, 'learning_rate_exp': -3}. Best is trial 38 with value: 0.21516395141096675.\n"
     ]
    },
    {
     "name": "stderr",
     "output_type": "stream",
     "text": [
      "\u001b[32m[I 2023-01-08 13:41:41,579]\u001b[0m Trial 76 finished with value: 0.3908639894250561 and parameters: {'lstm_layers': 3, 'hidden_size': 60, 'dense_size': 195, 'batch_size_exp': 7, 'learning_rate_exp': -3}. Best is trial 38 with value: 0.21516395141096675.\u001b[0m\n"
     ]
    },
    {
     "name": "stdout",
     "output_type": "stream",
     "text": [
      "Trial 76 finished with value: 0.3908639894250561 and parameters: {'lstm_layers': 3, 'hidden_size': 60, 'dense_size': 195, 'batch_size_exp': 7, 'learning_rate_exp': -3}. Best is trial 38 with value: 0.21516395141096675.\n"
     ]
    },
    {
     "name": "stderr",
     "output_type": "stream",
     "text": [
      "\u001b[32m[I 2023-01-08 13:46:06,320]\u001b[0m Trial 77 finished with value: 0.27543451593202706 and parameters: {'lstm_layers': 3, 'hidden_size': 79, 'dense_size': 144, 'batch_size_exp': 7, 'learning_rate_exp': -3}. Best is trial 38 with value: 0.21516395141096675.\u001b[0m\n"
     ]
    },
    {
     "name": "stdout",
     "output_type": "stream",
     "text": [
      "Trial 77 finished with value: 0.27543451593202706 and parameters: {'lstm_layers': 3, 'hidden_size': 79, 'dense_size': 144, 'batch_size_exp': 7, 'learning_rate_exp': -3}. Best is trial 38 with value: 0.21516395141096675.\n"
     ]
    },
    {
     "name": "stderr",
     "output_type": "stream",
     "text": [
      "\u001b[32m[I 2023-01-08 13:50:39,091]\u001b[0m Trial 78 finished with value: 0.22088656180045185 and parameters: {'lstm_layers': 3, 'hidden_size': 64, 'dense_size': 164, 'batch_size_exp': 7, 'learning_rate_exp': -3}. Best is trial 38 with value: 0.21516395141096675.\u001b[0m\n"
     ]
    },
    {
     "name": "stdout",
     "output_type": "stream",
     "text": [
      "Trial 78 finished with value: 0.22088656180045185 and parameters: {'lstm_layers': 3, 'hidden_size': 64, 'dense_size': 164, 'batch_size_exp': 7, 'learning_rate_exp': -3}. Best is trial 38 with value: 0.21516395141096675.\n"
     ]
    },
    {
     "name": "stderr",
     "output_type": "stream",
     "text": [
      "\u001b[32m[I 2023-01-08 13:54:31,664]\u001b[0m Trial 79 finished with value: 0.2616850378758767 and parameters: {'lstm_layers': 2, 'hidden_size': 53, 'dense_size': 172, 'batch_size_exp': 7, 'learning_rate_exp': -3}. Best is trial 38 with value: 0.21516395141096675.\u001b[0m\n"
     ]
    },
    {
     "name": "stdout",
     "output_type": "stream",
     "text": [
      "Trial 79 finished with value: 0.2616850378758767 and parameters: {'lstm_layers': 2, 'hidden_size': 53, 'dense_size': 172, 'batch_size_exp': 7, 'learning_rate_exp': -3}. Best is trial 38 with value: 0.21516395141096675.\n"
     ]
    },
    {
     "name": "stderr",
     "output_type": "stream",
     "text": [
      "\u001b[32m[I 2023-01-08 13:59:00,525]\u001b[0m Trial 80 finished with value: 0.27527814095511155 and parameters: {'lstm_layers': 3, 'hidden_size': 32, 'dense_size': 216, 'batch_size_exp': 7, 'learning_rate_exp': -3}. Best is trial 38 with value: 0.21516395141096675.\u001b[0m\n"
     ]
    },
    {
     "name": "stdout",
     "output_type": "stream",
     "text": [
      "Trial 80 finished with value: 0.27527814095511155 and parameters: {'lstm_layers': 3, 'hidden_size': 32, 'dense_size': 216, 'batch_size_exp': 7, 'learning_rate_exp': -3}. Best is trial 38 with value: 0.21516395141096675.\n"
     ]
    },
    {
     "name": "stderr",
     "output_type": "stream",
     "text": [
      "\u001b[32m[I 2023-01-08 14:03:27,441]\u001b[0m Trial 81 finished with value: 0.2879861041026957 and parameters: {'lstm_layers': 3, 'hidden_size': 66, 'dense_size': 161, 'batch_size_exp': 7, 'learning_rate_exp': -3}. Best is trial 38 with value: 0.21516395141096675.\u001b[0m\n"
     ]
    },
    {
     "name": "stdout",
     "output_type": "stream",
     "text": [
      "Trial 81 finished with value: 0.2879861041026957 and parameters: {'lstm_layers': 3, 'hidden_size': 66, 'dense_size': 161, 'batch_size_exp': 7, 'learning_rate_exp': -3}. Best is trial 38 with value: 0.21516395141096675.\n"
     ]
    },
    {
     "name": "stderr",
     "output_type": "stream",
     "text": [
      "\u001b[32m[I 2023-01-08 14:07:53,667]\u001b[0m Trial 82 finished with value: 0.25909359533997145 and parameters: {'lstm_layers': 3, 'hidden_size': 58, 'dense_size': 204, 'batch_size_exp': 7, 'learning_rate_exp': -3}. Best is trial 38 with value: 0.21516395141096675.\u001b[0m\n"
     ]
    },
    {
     "name": "stdout",
     "output_type": "stream",
     "text": [
      "Trial 82 finished with value: 0.25909359533997145 and parameters: {'lstm_layers': 3, 'hidden_size': 58, 'dense_size': 204, 'batch_size_exp': 7, 'learning_rate_exp': -3}. Best is trial 38 with value: 0.21516395141096675.\n"
     ]
    },
    {
     "name": "stderr",
     "output_type": "stream",
     "text": [
      "\u001b[32m[I 2023-01-08 14:12:14,256]\u001b[0m Trial 83 finished with value: 0.35885970031513886 and parameters: {'lstm_layers': 3, 'hidden_size': 92, 'dense_size': 161, 'batch_size_exp': 7, 'learning_rate_exp': -3}. Best is trial 38 with value: 0.21516395141096675.\u001b[0m\n"
     ]
    },
    {
     "name": "stdout",
     "output_type": "stream",
     "text": [
      "Trial 83 finished with value: 0.35885970031513886 and parameters: {'lstm_layers': 3, 'hidden_size': 92, 'dense_size': 161, 'batch_size_exp': 7, 'learning_rate_exp': -3}. Best is trial 38 with value: 0.21516395141096675.\n"
     ]
    },
    {
     "name": "stderr",
     "output_type": "stream",
     "text": [
      "\u001b[32m[I 2023-01-08 14:16:39,106]\u001b[0m Trial 84 finished with value: 0.24027668114970713 and parameters: {'lstm_layers': 3, 'hidden_size': 83, 'dense_size': 152, 'batch_size_exp': 7, 'learning_rate_exp': -3}. Best is trial 38 with value: 0.21516395141096675.\u001b[0m\n"
     ]
    },
    {
     "name": "stdout",
     "output_type": "stream",
     "text": [
      "Trial 84 finished with value: 0.24027668114970713 and parameters: {'lstm_layers': 3, 'hidden_size': 83, 'dense_size': 152, 'batch_size_exp': 7, 'learning_rate_exp': -3}. Best is trial 38 with value: 0.21516395141096675.\n"
     ]
    },
    {
     "name": "stderr",
     "output_type": "stream",
     "text": [
      "\u001b[32m[I 2023-01-08 14:20:35,008]\u001b[0m Trial 85 finished with value: 0.3202933993409662 and parameters: {'lstm_layers': 2, 'hidden_size': 76, 'dense_size': 152, 'batch_size_exp': 7, 'learning_rate_exp': -3}. Best is trial 38 with value: 0.21516395141096675.\u001b[0m\n"
     ]
    },
    {
     "name": "stdout",
     "output_type": "stream",
     "text": [
      "Trial 85 finished with value: 0.3202933993409662 and parameters: {'lstm_layers': 2, 'hidden_size': 76, 'dense_size': 152, 'batch_size_exp': 7, 'learning_rate_exp': -3}. Best is trial 38 with value: 0.21516395141096675.\n"
     ]
    },
    {
     "name": "stderr",
     "output_type": "stream",
     "text": [
      "\u001b[32m[I 2023-01-08 14:24:52,671]\u001b[0m Trial 86 finished with value: 0.2670262394582524 and parameters: {'lstm_layers': 3, 'hidden_size': 88, 'dense_size': 133, 'batch_size_exp': 7, 'learning_rate_exp': -3}. Best is trial 38 with value: 0.21516395141096675.\u001b[0m\n"
     ]
    },
    {
     "name": "stdout",
     "output_type": "stream",
     "text": [
      "Trial 86 finished with value: 0.2670262394582524 and parameters: {'lstm_layers': 3, 'hidden_size': 88, 'dense_size': 133, 'batch_size_exp': 7, 'learning_rate_exp': -3}. Best is trial 38 with value: 0.21516395141096675.\n"
     ]
    },
    {
     "name": "stderr",
     "output_type": "stream",
     "text": [
      "\u001b[32m[I 2023-01-08 14:29:08,801]\u001b[0m Trial 87 finished with value: 0.28310586950358224 and parameters: {'lstm_layers': 3, 'hidden_size': 101, 'dense_size': 179, 'batch_size_exp': 7, 'learning_rate_exp': -3}. Best is trial 38 with value: 0.21516395141096675.\u001b[0m\n"
     ]
    },
    {
     "name": "stdout",
     "output_type": "stream",
     "text": [
      "Trial 87 finished with value: 0.28310586950358224 and parameters: {'lstm_layers': 3, 'hidden_size': 101, 'dense_size': 179, 'batch_size_exp': 7, 'learning_rate_exp': -3}. Best is trial 38 with value: 0.21516395141096675.\n"
     ]
    },
    {
     "name": "stderr",
     "output_type": "stream",
     "text": [
      "\u001b[32m[I 2023-01-08 14:33:31,478]\u001b[0m Trial 88 finished with value: 0.26431675518260284 and parameters: {'lstm_layers': 3, 'hidden_size': 95, 'dense_size': 18, 'batch_size_exp': 7, 'learning_rate_exp': -3}. Best is trial 38 with value: 0.21516395141096675.\u001b[0m\n"
     ]
    },
    {
     "name": "stdout",
     "output_type": "stream",
     "text": [
      "Trial 88 finished with value: 0.26431675518260284 and parameters: {'lstm_layers': 3, 'hidden_size': 95, 'dense_size': 18, 'batch_size_exp': 7, 'learning_rate_exp': -3}. Best is trial 38 with value: 0.21516395141096675.\n"
     ]
    },
    {
     "name": "stderr",
     "output_type": "stream",
     "text": [
      "\u001b[32m[I 2023-01-08 14:37:55,279]\u001b[0m Trial 89 finished with value: 0.2378544759224443 and parameters: {'lstm_layers': 3, 'hidden_size': 39, 'dense_size': 145, 'batch_size_exp': 7, 'learning_rate_exp': -3}. Best is trial 38 with value: 0.21516395141096675.\u001b[0m\n"
     ]
    },
    {
     "name": "stdout",
     "output_type": "stream",
     "text": [
      "Trial 89 finished with value: 0.2378544759224443 and parameters: {'lstm_layers': 3, 'hidden_size': 39, 'dense_size': 145, 'batch_size_exp': 7, 'learning_rate_exp': -3}. Best is trial 38 with value: 0.21516395141096675.\n"
     ]
    },
    {
     "name": "stderr",
     "output_type": "stream",
     "text": [
      "\u001b[32m[I 2023-01-08 14:44:32,356]\u001b[0m Trial 90 finished with value: 0.31957657700952363 and parameters: {'lstm_layers': 2, 'hidden_size': 22, 'dense_size': 140, 'batch_size_exp': 6, 'learning_rate_exp': -2}. Best is trial 38 with value: 0.21516395141096675.\u001b[0m\n"
     ]
    },
    {
     "name": "stdout",
     "output_type": "stream",
     "text": [
      "Trial 90 finished with value: 0.31957657700952363 and parameters: {'lstm_layers': 2, 'hidden_size': 22, 'dense_size': 140, 'batch_size_exp': 6, 'learning_rate_exp': -2}. Best is trial 38 with value: 0.21516395141096675.\n"
     ]
    },
    {
     "name": "stderr",
     "output_type": "stream",
     "text": [
      "\u001b[32m[I 2023-01-08 14:48:54,206]\u001b[0m Trial 91 finished with value: 0.2373950446353239 and parameters: {'lstm_layers': 3, 'hidden_size': 82, 'dense_size': 50, 'batch_size_exp': 7, 'learning_rate_exp': -3}. Best is trial 38 with value: 0.21516395141096675.\u001b[0m\n"
     ]
    },
    {
     "name": "stdout",
     "output_type": "stream",
     "text": [
      "Trial 91 finished with value: 0.2373950446353239 and parameters: {'lstm_layers': 3, 'hidden_size': 82, 'dense_size': 50, 'batch_size_exp': 7, 'learning_rate_exp': -3}. Best is trial 38 with value: 0.21516395141096675.\n"
     ]
    },
    {
     "name": "stderr",
     "output_type": "stream",
     "text": [
      "\u001b[32m[I 2023-01-08 14:53:29,947]\u001b[0m Trial 92 finished with value: 0.3180481344461441 and parameters: {'lstm_layers': 3, 'hidden_size': 32, 'dense_size': 50, 'batch_size_exp': 7, 'learning_rate_exp': -3}. Best is trial 38 with value: 0.21516395141096675.\u001b[0m\n"
     ]
    },
    {
     "name": "stdout",
     "output_type": "stream",
     "text": [
      "Trial 92 finished with value: 0.3180481344461441 and parameters: {'lstm_layers': 3, 'hidden_size': 32, 'dense_size': 50, 'batch_size_exp': 7, 'learning_rate_exp': -3}. Best is trial 38 with value: 0.21516395141096675.\n"
     ]
    },
    {
     "name": "stderr",
     "output_type": "stream",
     "text": [
      "\u001b[32m[I 2023-01-08 14:58:07,761]\u001b[0m Trial 93 finished with value: 0.27834513169877667 and parameters: {'lstm_layers': 3, 'hidden_size': 46, 'dense_size': 169, 'batch_size_exp': 7, 'learning_rate_exp': -3}. Best is trial 38 with value: 0.21516395141096675.\u001b[0m\n"
     ]
    },
    {
     "name": "stdout",
     "output_type": "stream",
     "text": [
      "Trial 93 finished with value: 0.27834513169877667 and parameters: {'lstm_layers': 3, 'hidden_size': 46, 'dense_size': 169, 'batch_size_exp': 7, 'learning_rate_exp': -3}. Best is trial 38 with value: 0.21516395141096675.\n"
     ]
    },
    {
     "name": "stderr",
     "output_type": "stream",
     "text": [
      "\u001b[32m[I 2023-01-08 15:02:48,179]\u001b[0m Trial 94 finished with value: 0.2615390858229469 and parameters: {'lstm_layers': 3, 'hidden_size': 26, 'dense_size': 76, 'batch_size_exp': 7, 'learning_rate_exp': -3}. Best is trial 38 with value: 0.21516395141096675.\u001b[0m\n"
     ]
    },
    {
     "name": "stdout",
     "output_type": "stream",
     "text": [
      "Trial 94 finished with value: 0.2615390858229469 and parameters: {'lstm_layers': 3, 'hidden_size': 26, 'dense_size': 76, 'batch_size_exp': 7, 'learning_rate_exp': -3}. Best is trial 38 with value: 0.21516395141096675.\n"
     ]
    },
    {
     "name": "stderr",
     "output_type": "stream",
     "text": [
      "\u001b[32m[I 2023-01-08 15:07:31,526]\u001b[0m Trial 95 finished with value: 0.30467667868908715 and parameters: {'lstm_layers': 3, 'hidden_size': 38, 'dense_size': 191, 'batch_size_exp': 7, 'learning_rate_exp': -3}. Best is trial 38 with value: 0.21516395141096675.\u001b[0m\n"
     ]
    },
    {
     "name": "stdout",
     "output_type": "stream",
     "text": [
      "Trial 95 finished with value: 0.30467667868908715 and parameters: {'lstm_layers': 3, 'hidden_size': 38, 'dense_size': 191, 'batch_size_exp': 7, 'learning_rate_exp': -3}. Best is trial 38 with value: 0.21516395141096675.\n"
     ]
    },
    {
     "name": "stderr",
     "output_type": "stream",
     "text": [
      "\u001b[32m[I 2023-01-08 15:12:37,206]\u001b[0m Trial 96 finished with value: 0.2563304138534209 and parameters: {'lstm_layers': 4, 'hidden_size': 20, 'dense_size': 145, 'batch_size_exp': 7, 'learning_rate_exp': -3}. Best is trial 38 with value: 0.21516395141096675.\u001b[0m\n"
     ]
    },
    {
     "name": "stdout",
     "output_type": "stream",
     "text": [
      "Trial 96 finished with value: 0.2563304138534209 and parameters: {'lstm_layers': 4, 'hidden_size': 20, 'dense_size': 145, 'batch_size_exp': 7, 'learning_rate_exp': -3}. Best is trial 38 with value: 0.21516395141096675.\n"
     ]
    },
    {
     "name": "stderr",
     "output_type": "stream",
     "text": [
      "\u001b[32m[I 2023-01-08 15:17:02,089]\u001b[0m Trial 97 finished with value: 0.27818523347377777 and parameters: {'lstm_layers': 3, 'hidden_size': 115, 'dense_size': 52, 'batch_size_exp': 7, 'learning_rate_exp': -3}. Best is trial 38 with value: 0.21516395141096675.\u001b[0m\n"
     ]
    },
    {
     "name": "stdout",
     "output_type": "stream",
     "text": [
      "Trial 97 finished with value: 0.27818523347377777 and parameters: {'lstm_layers': 3, 'hidden_size': 115, 'dense_size': 52, 'batch_size_exp': 7, 'learning_rate_exp': -3}. Best is trial 38 with value: 0.21516395141096675.\n"
     ]
    },
    {
     "name": "stderr",
     "output_type": "stream",
     "text": [
      "\u001b[32m[I 2023-01-08 15:22:11,242]\u001b[0m Trial 98 finished with value: 0.25026948925326853 and parameters: {'lstm_layers': 4, 'hidden_size': 104, 'dense_size': 38, 'batch_size_exp': 7, 'learning_rate_exp': -3}. Best is trial 38 with value: 0.21516395141096675.\u001b[0m\n"
     ]
    },
    {
     "name": "stdout",
     "output_type": "stream",
     "text": [
      "Trial 98 finished with value: 0.25026948925326853 and parameters: {'lstm_layers': 4, 'hidden_size': 104, 'dense_size': 38, 'batch_size_exp': 7, 'learning_rate_exp': -3}. Best is trial 38 with value: 0.21516395141096675.\n"
     ]
    },
    {
     "name": "stderr",
     "output_type": "stream",
     "text": [
      "\u001b[32m[I 2023-01-08 15:42:36,282]\u001b[0m Trial 99 finished with value: 0.31637680303791293 and parameters: {'lstm_layers': 5, 'hidden_size': 76, 'dense_size': 185, 'batch_size_exp': 5, 'learning_rate_exp': -3}. Best is trial 38 with value: 0.21516395141096675.\u001b[0m\n"
     ]
    },
    {
     "name": "stdout",
     "output_type": "stream",
     "text": [
      "Trial 99 finished with value: 0.31637680303791293 and parameters: {'lstm_layers': 5, 'hidden_size': 76, 'dense_size': 185, 'batch_size_exp': 5, 'learning_rate_exp': -3}. Best is trial 38 with value: 0.21516395141096675.\n"
     ]
    }
   ],
   "source": [
    "def objective(trial):\n",
    "\n",
    "    lstm_layers = trial.suggest_int(\"lstm_layers\", 1, 5)\n",
    "    hidden_size = trial.suggest_int(\"hidden_size\", 8, 128)\n",
    "    dense_size = trial.suggest_int(\"dense_size\", 16, 256)\n",
    "    batch_size_exp = trial.suggest_int(\"batch_size_exp\", 3, 7)\n",
    "    lr_exp = trial.suggest_int(\"learning_rate_exp\", -4, -2)\n",
    "\n",
    "    batch_size = 2**batch_size_exp\n",
    "    lr = 10**lr_exp\n",
    "\n",
    "    data_loaders = get_data_dict(data_df=data_df, mean=False, batch_size=batch_size)\n",
    "    train_loader = data_loaders[\"train_loader\"]\n",
    "    val_loader = data_loaders[\"val_loader\"]\n",
    "\n",
    "    emb_size = next(iter(train_loader))[0].shape[-1]\n",
    "\n",
    "    model = LSTM_Regressor(\n",
    "        emb_size=emb_size,\n",
    "        hidden_size=hidden_size,\n",
    "        num_layers=lstm_layers,\n",
    "        dense_size=dense_size,\n",
    "    )\n",
    "    train_results = train_lstm_model(\n",
    "        model=model,\n",
    "        train_loader=train_loader,\n",
    "        val_loader=val_loader,\n",
    "        lr=lr,\n",
    "        epochs=200,\n",
    "        batch_size=batch_size,\n",
    "        early_stopping=True,\n",
    "    )\n",
    "\n",
    "    val_loss = train_results[\"val_loss\"]\n",
    "\n",
    "    return val_loss[-1]\n",
    "\n",
    "\n",
    "study.optimize(objective, n_trials=100)"
   ]
  },
  {
   "cell_type": "code",
   "execution_count": 16,
   "metadata": {},
   "outputs": [
    {
     "data": {
      "text/html": [
       "<div>\n",
       "<style scoped>\n",
       "    .dataframe tbody tr th:only-of-type {\n",
       "        vertical-align: middle;\n",
       "    }\n",
       "\n",
       "    .dataframe tbody tr th {\n",
       "        vertical-align: top;\n",
       "    }\n",
       "\n",
       "    .dataframe thead th {\n",
       "        text-align: right;\n",
       "    }\n",
       "</style>\n",
       "<table border=\"1\" class=\"dataframe\">\n",
       "  <thead>\n",
       "    <tr style=\"text-align: right;\">\n",
       "      <th></th>\n",
       "      <th>number</th>\n",
       "      <th>value</th>\n",
       "      <th>datetime_start</th>\n",
       "      <th>datetime_complete</th>\n",
       "      <th>duration</th>\n",
       "      <th>params_batch_size_exp</th>\n",
       "      <th>params_dense_size</th>\n",
       "      <th>params_hidden_size</th>\n",
       "      <th>params_learning_rate_exp</th>\n",
       "      <th>params_lstm_layers</th>\n",
       "      <th>state</th>\n",
       "    </tr>\n",
       "  </thead>\n",
       "  <tbody>\n",
       "    <tr>\n",
       "      <th>38</th>\n",
       "      <td>38</td>\n",
       "      <td>0.215164</td>\n",
       "      <td>2023-01-08 09:51:51.508241</td>\n",
       "      <td>2023-01-08 09:56:53.196240</td>\n",
       "      <td>0 days 00:05:01.687999</td>\n",
       "      <td>7</td>\n",
       "      <td>163</td>\n",
       "      <td>30</td>\n",
       "      <td>-3</td>\n",
       "      <td>4</td>\n",
       "      <td>COMPLETE</td>\n",
       "    </tr>\n",
       "    <tr>\n",
       "      <th>51</th>\n",
       "      <td>51</td>\n",
       "      <td>0.217378</td>\n",
       "      <td>2023-01-08 11:25:24.085741</td>\n",
       "      <td>2023-01-08 11:30:20.000742</td>\n",
       "      <td>0 days 00:04:55.915001</td>\n",
       "      <td>7</td>\n",
       "      <td>162</td>\n",
       "      <td>107</td>\n",
       "      <td>-3</td>\n",
       "      <td>4</td>\n",
       "      <td>COMPLETE</td>\n",
       "    </tr>\n",
       "    <tr>\n",
       "      <th>42</th>\n",
       "      <td>42</td>\n",
       "      <td>0.217878</td>\n",
       "      <td>2023-01-08 10:25:38.981742</td>\n",
       "      <td>2023-01-08 10:30:35.653243</td>\n",
       "      <td>0 days 00:04:56.671501</td>\n",
       "      <td>7</td>\n",
       "      <td>163</td>\n",
       "      <td>95</td>\n",
       "      <td>-3</td>\n",
       "      <td>4</td>\n",
       "      <td>COMPLETE</td>\n",
       "    </tr>\n",
       "    <tr>\n",
       "      <th>78</th>\n",
       "      <td>78</td>\n",
       "      <td>0.220887</td>\n",
       "      <td>2023-01-08 13:46:06.324743</td>\n",
       "      <td>2023-01-08 13:50:39.073741</td>\n",
       "      <td>0 days 00:04:32.748998</td>\n",
       "      <td>7</td>\n",
       "      <td>164</td>\n",
       "      <td>64</td>\n",
       "      <td>-3</td>\n",
       "      <td>3</td>\n",
       "      <td>COMPLETE</td>\n",
       "    </tr>\n",
       "    <tr>\n",
       "      <th>71</th>\n",
       "      <td>71</td>\n",
       "      <td>0.232479</td>\n",
       "      <td>2023-01-08 13:15:19.262244</td>\n",
       "      <td>2023-01-08 13:19:37.620244</td>\n",
       "      <td>0 days 00:04:18.358000</td>\n",
       "      <td>7</td>\n",
       "      <td>181</td>\n",
       "      <td>105</td>\n",
       "      <td>-3</td>\n",
       "      <td>3</td>\n",
       "      <td>COMPLETE</td>\n",
       "    </tr>\n",
       "    <tr>\n",
       "      <th>69</th>\n",
       "      <td>69</td>\n",
       "      <td>0.236712</td>\n",
       "      <td>2023-01-08 13:06:34.483740</td>\n",
       "      <td>2023-01-08 13:10:56.666742</td>\n",
       "      <td>0 days 00:04:22.183002</td>\n",
       "      <td>7</td>\n",
       "      <td>198</td>\n",
       "      <td>71</td>\n",
       "      <td>-3</td>\n",
       "      <td>3</td>\n",
       "      <td>COMPLETE</td>\n",
       "    </tr>\n",
       "    <tr>\n",
       "      <th>91</th>\n",
       "      <td>91</td>\n",
       "      <td>0.237395</td>\n",
       "      <td>2023-01-08 14:44:32.361540</td>\n",
       "      <td>2023-01-08 14:48:54.186041</td>\n",
       "      <td>0 days 00:04:21.824501</td>\n",
       "      <td>7</td>\n",
       "      <td>50</td>\n",
       "      <td>82</td>\n",
       "      <td>-3</td>\n",
       "      <td>3</td>\n",
       "      <td>COMPLETE</td>\n",
       "    </tr>\n",
       "    <tr>\n",
       "      <th>89</th>\n",
       "      <td>89</td>\n",
       "      <td>0.237854</td>\n",
       "      <td>2023-01-08 14:33:31.482539</td>\n",
       "      <td>2023-01-08 14:37:55.261039</td>\n",
       "      <td>0 days 00:04:23.778500</td>\n",
       "      <td>7</td>\n",
       "      <td>145</td>\n",
       "      <td>39</td>\n",
       "      <td>-3</td>\n",
       "      <td>3</td>\n",
       "      <td>COMPLETE</td>\n",
       "    </tr>\n",
       "    <tr>\n",
       "      <th>58</th>\n",
       "      <td>58</td>\n",
       "      <td>0.238103</td>\n",
       "      <td>2023-01-08 12:02:14.157240</td>\n",
       "      <td>2023-01-08 12:07:46.932241</td>\n",
       "      <td>0 days 00:05:32.775001</td>\n",
       "      <td>7</td>\n",
       "      <td>172</td>\n",
       "      <td>106</td>\n",
       "      <td>-3</td>\n",
       "      <td>5</td>\n",
       "      <td>COMPLETE</td>\n",
       "    </tr>\n",
       "    <tr>\n",
       "      <th>30</th>\n",
       "      <td>30</td>\n",
       "      <td>0.239242</td>\n",
       "      <td>2023-01-08 09:00:27.921196</td>\n",
       "      <td>2023-01-08 09:05:28.398740</td>\n",
       "      <td>0 days 00:05:00.477544</td>\n",
       "      <td>7</td>\n",
       "      <td>214</td>\n",
       "      <td>28</td>\n",
       "      <td>-3</td>\n",
       "      <td>4</td>\n",
       "      <td>COMPLETE</td>\n",
       "    </tr>\n",
       "  </tbody>\n",
       "</table>\n",
       "</div>"
      ],
      "text/plain": [
       "    number     value             datetime_start          datetime_complete  \\\n",
       "38      38  0.215164 2023-01-08 09:51:51.508241 2023-01-08 09:56:53.196240   \n",
       "51      51  0.217378 2023-01-08 11:25:24.085741 2023-01-08 11:30:20.000742   \n",
       "42      42  0.217878 2023-01-08 10:25:38.981742 2023-01-08 10:30:35.653243   \n",
       "78      78  0.220887 2023-01-08 13:46:06.324743 2023-01-08 13:50:39.073741   \n",
       "71      71  0.232479 2023-01-08 13:15:19.262244 2023-01-08 13:19:37.620244   \n",
       "69      69  0.236712 2023-01-08 13:06:34.483740 2023-01-08 13:10:56.666742   \n",
       "91      91  0.237395 2023-01-08 14:44:32.361540 2023-01-08 14:48:54.186041   \n",
       "89      89  0.237854 2023-01-08 14:33:31.482539 2023-01-08 14:37:55.261039   \n",
       "58      58  0.238103 2023-01-08 12:02:14.157240 2023-01-08 12:07:46.932241   \n",
       "30      30  0.239242 2023-01-08 09:00:27.921196 2023-01-08 09:05:28.398740   \n",
       "\n",
       "                 duration  params_batch_size_exp  params_dense_size  \\\n",
       "38 0 days 00:05:01.687999                      7                163   \n",
       "51 0 days 00:04:55.915001                      7                162   \n",
       "42 0 days 00:04:56.671501                      7                163   \n",
       "78 0 days 00:04:32.748998                      7                164   \n",
       "71 0 days 00:04:18.358000                      7                181   \n",
       "69 0 days 00:04:22.183002                      7                198   \n",
       "91 0 days 00:04:21.824501                      7                 50   \n",
       "89 0 days 00:04:23.778500                      7                145   \n",
       "58 0 days 00:05:32.775001                      7                172   \n",
       "30 0 days 00:05:00.477544                      7                214   \n",
       "\n",
       "    params_hidden_size  params_learning_rate_exp  params_lstm_layers     state  \n",
       "38                  30                        -3                   4  COMPLETE  \n",
       "51                 107                        -3                   4  COMPLETE  \n",
       "42                  95                        -3                   4  COMPLETE  \n",
       "78                  64                        -3                   3  COMPLETE  \n",
       "71                 105                        -3                   3  COMPLETE  \n",
       "69                  71                        -3                   3  COMPLETE  \n",
       "91                  82                        -3                   3  COMPLETE  \n",
       "89                  39                        -3                   3  COMPLETE  \n",
       "58                 106                        -3                   5  COMPLETE  \n",
       "30                  28                        -3                   4  COMPLETE  "
      ]
     },
     "execution_count": 16,
     "metadata": {},
     "output_type": "execute_result"
    }
   ],
   "source": [
    "study.trials_dataframe().sort_values(by=\"value\").head(10)"
   ]
  },
  {
   "cell_type": "code",
   "execution_count": 15,
   "metadata": {},
   "outputs": [
    {
     "name": "stdout",
     "output_type": "stream",
     "text": [
      "Best lstm-regressor-model params: {'batch_size_exp': 7, 'dense_size': 163, 'hidden_size': 30, 'learning_rate_exp': -3, 'lstm_layers': 4}, achieving val MSE: 0.21516395141096675\n"
     ]
    }
   ],
   "source": [
    "print(f\"Best lstm-regressor-model params: {study.best_params}, achieving val MSE: {study.best_value}\")"
   ]
  },
  {
   "attachments": {},
   "cell_type": "markdown",
   "metadata": {},
   "source": [
    "## Results"
   ]
  },
  {
   "cell_type": "code",
   "execution_count": 32,
   "metadata": {},
   "outputs": [
    {
     "name": "stdout",
     "output_type": "stream",
     "text": [
      "Epoch: 1/200, MSE Train Loss: 0.68564, MSE Val Loss: 0.46163\n",
      "Epoch: 2/200, MSE Train Loss: 0.40216, MSE Val Loss: 0.29883\n",
      "Epoch: 3/200, MSE Train Loss: 0.34658, MSE Val Loss: 0.2792\n",
      "Epoch: 4/200, MSE Train Loss: 0.34685, MSE Val Loss: 0.26444\n",
      "Epoch: 5/200, MSE Train Loss: 0.31258, MSE Val Loss: 0.25682\n",
      "Epoch: 6/200, MSE Train Loss: 0.29751, MSE Val Loss: 0.24661\n",
      "Epoch: 7/200, MSE Train Loss: 0.28986, MSE Val Loss: 0.25707\n",
      "Epoch: 8/200, MSE Train Loss: 0.29067, MSE Val Loss: 0.28182\n",
      "Epoch: 9/200, MSE Train Loss: 0.28736, MSE Val Loss: 0.25602\n",
      "Epoch: 10/200, MSE Train Loss: 0.2812, MSE Val Loss: 0.24525\n",
      "Epoch: 11/200, MSE Train Loss: 0.27302, MSE Val Loss: 0.25807\n",
      "Epoch: 12/200, MSE Train Loss: 0.26839, MSE Val Loss: 0.25206\n",
      "Epoch: 13/200, MSE Train Loss: 0.27241, MSE Val Loss: 0.24766\n",
      "Epoch: 14/200, MSE Train Loss: 0.26864, MSE Val Loss: 0.25603\n",
      "Epoch: 15/200, MSE Train Loss: 0.26645, MSE Val Loss: 0.2436\n",
      "Epoch: 16/200, MSE Train Loss: 0.26427, MSE Val Loss: 0.24677\n",
      "Epoch: 17/200, MSE Train Loss: 0.26288, MSE Val Loss: 0.26543\n",
      "Epoch: 18/200, MSE Train Loss: 0.26526, MSE Val Loss: 0.24746\n",
      "Epoch: 19/200, MSE Train Loss: 0.26573, MSE Val Loss: 0.24434\n",
      "Epoch: 20/200, MSE Train Loss: 0.26381, MSE Val Loss: 0.24046\n",
      "Epoch: 21/200, MSE Train Loss: 0.25945, MSE Val Loss: 0.24153\n",
      "Epoch: 22/200, MSE Train Loss: 0.26088, MSE Val Loss: 0.24502\n",
      "Epoch: 23/200, MSE Train Loss: 0.25782, MSE Val Loss: 0.23854\n",
      "Epoch: 24/200, MSE Train Loss: 0.25859, MSE Val Loss: 0.24303\n",
      "Epoch: 25/200, MSE Train Loss: 0.25723, MSE Val Loss: 0.23819\n",
      "Epoch: 26/200, MSE Train Loss: 0.25866, MSE Val Loss: 0.24047\n",
      "Epoch: 27/200, MSE Train Loss: 0.2552, MSE Val Loss: 0.23821\n",
      "Epoch: 28/200, MSE Train Loss: 0.25391, MSE Val Loss: 0.23802\n",
      "Epoch: 29/200, MSE Train Loss: 0.31802, MSE Val Loss: 0.36444\n",
      "Epoch: 30/200, MSE Train Loss: 0.27295, MSE Val Loss: 0.24914\n",
      "Epoch: 31/200, MSE Train Loss: 0.26156, MSE Val Loss: 0.23776\n",
      "Epoch: 32/200, MSE Train Loss: 0.25496, MSE Val Loss: 0.23763\n",
      "Epoch: 33/200, MSE Train Loss: 0.25575, MSE Val Loss: 0.22429\n",
      "Epoch: 34/200, MSE Train Loss: 0.25166, MSE Val Loss: 0.23071\n",
      "Epoch: 35/200, MSE Train Loss: 0.25109, MSE Val Loss: 0.23363\n",
      "Epoch: 36/200, MSE Train Loss: 0.25217, MSE Val Loss: 0.23188\n",
      "Epoch: 37/200, MSE Train Loss: 0.25112, MSE Val Loss: 0.23125\n",
      "Epoch: 38/200, MSE Train Loss: 0.25062, MSE Val Loss: 0.22737\n",
      "Epoch: 39/200, MSE Train Loss: 0.25009, MSE Val Loss: 0.22732\n",
      "Epoch: 40/200, MSE Train Loss: 0.25013, MSE Val Loss: 0.23388\n",
      "Epoch: 41/200, MSE Train Loss: 0.24989, MSE Val Loss: 0.23003\n",
      "Epoch: 42/200, MSE Train Loss: 0.25481, MSE Val Loss: 0.22936\n",
      "Epoch: 43/200, MSE Train Loss: 0.25234, MSE Val Loss: 0.23545\n",
      "Epoch: 44/200, MSE Train Loss: 0.25078, MSE Val Loss: 0.22741\n",
      "Epoch: 45/200, MSE Train Loss: 0.25023, MSE Val Loss: 0.23558\n",
      "Epoch: 46/200, MSE Train Loss: 0.2501, MSE Val Loss: 0.23132\n",
      "Epoch: 47/200, MSE Train Loss: 0.24973, MSE Val Loss: 0.22975\n",
      "Epoch: 48/200, MSE Train Loss: 0.24743, MSE Val Loss: 0.23206\n",
      "Epoch: 49/200, MSE Train Loss: 0.25114, MSE Val Loss: 0.22549\n",
      "Epoch: 50/200, MSE Train Loss: 0.2517, MSE Val Loss: 0.22273\n",
      "Epoch: 51/200, MSE Train Loss: 0.25611, MSE Val Loss: 0.22119\n",
      "Epoch: 52/200, MSE Train Loss: 0.24861, MSE Val Loss: 0.22458\n",
      "Epoch: 53/200, MSE Train Loss: 0.2472, MSE Val Loss: 0.22245\n",
      "Epoch: 54/200, MSE Train Loss: 0.24616, MSE Val Loss: 0.22652\n",
      "Epoch: 55/200, MSE Train Loss: 0.24566, MSE Val Loss: 0.22181\n",
      "Epoch: 56/200, MSE Train Loss: 0.24649, MSE Val Loss: 0.2307\n",
      "Epoch: 57/200, MSE Train Loss: 0.24949, MSE Val Loss: 0.22758\n",
      "Epoch: 58/200, MSE Train Loss: 0.24828, MSE Val Loss: 0.2243\n",
      "Epoch: 59/200, MSE Train Loss: 0.24569, MSE Val Loss: 0.23211\n",
      "Epoch: 60/200, MSE Train Loss: 0.24939, MSE Val Loss: 0.22558\n",
      "Epoch: 61/200, MSE Train Loss: 0.24431, MSE Val Loss: 0.22877\n",
      "Epoch: 62/200, MSE Train Loss: 0.24943, MSE Val Loss: 0.2251\n",
      "Epoch: 63/200, MSE Train Loss: 0.2451, MSE Val Loss: 0.22491\n",
      "Epoch: 64/200, MSE Train Loss: 0.24636, MSE Val Loss: 0.21923\n",
      "Epoch: 65/200, MSE Train Loss: 0.24506, MSE Val Loss: 0.22524\n",
      "Epoch: 66/200, MSE Train Loss: 0.24399, MSE Val Loss: 0.23146\n",
      "Epoch: 67/200, MSE Train Loss: 0.25848, MSE Val Loss: 0.23244\n",
      "Epoch: 68/200, MSE Train Loss: 0.24886, MSE Val Loss: 0.2234\n",
      "Epoch: 69/200, MSE Train Loss: 0.24364, MSE Val Loss: 0.22466\n",
      "Epoch: 70/200, MSE Train Loss: 0.24242, MSE Val Loss: 0.22662\n",
      "Epoch: 71/200, MSE Train Loss: 0.24221, MSE Val Loss: 0.22721\n",
      "Epoch: 72/200, MSE Train Loss: 0.24353, MSE Val Loss: 0.22267\n",
      "Epoch: 73/200, MSE Train Loss: 0.2447, MSE Val Loss: 0.23965\n",
      "Epoch: 74/200, MSE Train Loss: 0.24253, MSE Val Loss: 0.2253\n",
      "Epoch: 75/200, MSE Train Loss: 0.24428, MSE Val Loss: 0.22491\n",
      "Epoch: 76/200, MSE Train Loss: 0.24384, MSE Val Loss: 0.22585\n",
      "Epoch: 77/200, MSE Train Loss: 0.24269, MSE Val Loss: 0.2269\n",
      "Epoch: 78/200, MSE Train Loss: 0.24405, MSE Val Loss: 0.22805\n",
      "Epoch: 79/200, MSE Train Loss: 0.24251, MSE Val Loss: 0.2264\n",
      "Epoch: 80/200, MSE Train Loss: 0.2435, MSE Val Loss: 0.22891\n",
      "Epoch: 81/200, MSE Train Loss: 0.24047, MSE Val Loss: 0.22648\n",
      "Epoch: 82/200, MSE Train Loss: 0.24131, MSE Val Loss: 0.22706\n",
      "Epoch: 83/200, MSE Train Loss: 0.33515, MSE Val Loss: 0.31013\n",
      "Epoch: 84/200, MSE Train Loss: 0.27257, MSE Val Loss: 0.25047\n",
      "Epoch: 85/200, MSE Train Loss: 0.26082, MSE Val Loss: 0.22784\n",
      "Epoch: 86/200, MSE Train Loss: 0.24871, MSE Val Loss: 0.22517\n",
      "Epoch: 87/200, MSE Train Loss: 0.24733, MSE Val Loss: 0.22397\n",
      "Epoch: 88/200, MSE Train Loss: 0.24549, MSE Val Loss: 0.22474\n",
      "Epoch: 89/200, MSE Train Loss: 0.24342, MSE Val Loss: 0.22418\n",
      "Epoch: 90/200, MSE Train Loss: 0.24001, MSE Val Loss: 0.22363\n",
      "Epoch: 91/200, MSE Train Loss: 0.24342, MSE Val Loss: 0.22829\n",
      "Epoch: 92/200, MSE Train Loss: 0.24171, MSE Val Loss: 0.22679\n",
      "Epoch: 93/200, MSE Train Loss: 0.24339, MSE Val Loss: 0.22531\n",
      "Epoch: 94/200, MSE Train Loss: 0.24084, MSE Val Loss: 0.23357\n",
      "Epoch: 95/200, MSE Train Loss: 0.24305, MSE Val Loss: 0.22734\n",
      "Epoch: 96/200, MSE Train Loss: 0.24521, MSE Val Loss: 0.2255\n",
      "Epoch: 97/200, MSE Train Loss: 0.24116, MSE Val Loss: 0.2253\n",
      "Epoch: 98/200, MSE Train Loss: 0.24077, MSE Val Loss: 0.23364\n",
      "Epoch: 99/200, MSE Train Loss: 0.23952, MSE Val Loss: 0.2248\n",
      "Epoch: 100/200, MSE Train Loss: 0.24007, MSE Val Loss: 0.2271\n",
      "Epoch: 101/200, MSE Train Loss: 0.24081, MSE Val Loss: 0.2227\n",
      "Epoch: 102/200, MSE Train Loss: 0.24159, MSE Val Loss: 0.23211\n",
      "Epoch: 103/200, MSE Train Loss: 0.24767, MSE Val Loss: 0.24073\n",
      "Epoch: 104/200, MSE Train Loss: 0.24151, MSE Val Loss: 0.22042\n",
      "Epoch: 105/200, MSE Train Loss: 0.23864, MSE Val Loss: 0.22419\n",
      "Epoch: 106/200, MSE Train Loss: 0.2384, MSE Val Loss: 0.22163\n",
      "Epoch: 107/200, MSE Train Loss: 0.24006, MSE Val Loss: 0.22999\n",
      "Epoch: 108/200, MSE Train Loss: 0.23948, MSE Val Loss: 0.22528\n",
      "Epoch: 109/200, MSE Train Loss: 0.23915, MSE Val Loss: 0.2235\n",
      "Epoch: 110/200, MSE Train Loss: 0.23897, MSE Val Loss: 0.22972\n",
      "Epoch: 111/200, MSE Train Loss: 0.24236, MSE Val Loss: 0.23041\n",
      "Epoch: 112/200, MSE Train Loss: 0.23832, MSE Val Loss: 0.22791\n",
      "Epoch: 113/200, MSE Train Loss: 0.25012, MSE Val Loss: 0.2234\n",
      "Epoch: 114/200, MSE Train Loss: 0.24306, MSE Val Loss: 0.22742\n",
      "Epoch: 115/200, MSE Train Loss: 0.23705, MSE Val Loss: 0.22814\n",
      "Epoch: 116/200, MSE Train Loss: 0.23667, MSE Val Loss: 0.22849\n",
      "Epoch: 117/200, MSE Train Loss: 0.23531, MSE Val Loss: 0.23064\n",
      "Epoch: 118/200, MSE Train Loss: 0.23819, MSE Val Loss: 0.22885\n",
      "Epoch: 119/200, MSE Train Loss: 0.24912, MSE Val Loss: 0.22852\n",
      "Epoch: 120/200, MSE Train Loss: 0.23926, MSE Val Loss: 0.22513\n",
      "Epoch: 121/200, MSE Train Loss: 0.23572, MSE Val Loss: 0.23113\n",
      "Epoch: 122/200, MSE Train Loss: 0.24059, MSE Val Loss: 0.23485\n",
      "Epoch: 123/200, MSE Train Loss: 0.2409, MSE Val Loss: 0.22807\n",
      "Epoch: 124/200, MSE Train Loss: 0.23523, MSE Val Loss: 0.22916\n",
      "Epoch: 125/200, MSE Train Loss: 0.23734, MSE Val Loss: 0.22808\n",
      "Epoch: 126/200, MSE Train Loss: 0.23527, MSE Val Loss: 0.23805\n",
      "Epoch: 127/200, MSE Train Loss: 0.24278, MSE Val Loss: 0.2333\n",
      "Epoch: 128/200, MSE Train Loss: 0.23527, MSE Val Loss: 0.23594\n",
      "Epoch: 129/200, MSE Train Loss: 0.23885, MSE Val Loss: 0.23141\n",
      "Epoch: 130/200, MSE Train Loss: 0.23547, MSE Val Loss: 0.2263\n",
      "Epoch: 131/200, MSE Train Loss: 0.23801, MSE Val Loss: 0.23716\n",
      "Epoch: 132/200, MSE Train Loss: 0.23632, MSE Val Loss: 0.23072\n",
      "Epoch: 133/200, MSE Train Loss: 0.23379, MSE Val Loss: 0.2297\n",
      "Epoch: 134/200, MSE Train Loss: 0.23492, MSE Val Loss: 0.22718\n",
      "Epoch: 135/200, MSE Train Loss: 0.23405, MSE Val Loss: 0.23448\n",
      "Epoch: 136/200, MSE Train Loss: 0.23456, MSE Val Loss: 0.23772\n",
      "Epoch: 137/200, MSE Train Loss: 0.23356, MSE Val Loss: 0.23408\n",
      "Epoch: 138/200, MSE Train Loss: 0.23318, MSE Val Loss: 0.23495\n",
      "Epoch: 139/200, MSE Train Loss: 0.23584, MSE Val Loss: 0.2325\n",
      "Epoch: 140/200, MSE Train Loss: 0.24174, MSE Val Loss: 0.24109\n",
      "Epoch: 141/200, MSE Train Loss: 0.23779, MSE Val Loss: 0.23498\n",
      "Epoch: 142/200, MSE Train Loss: 0.23593, MSE Val Loss: 0.23407\n",
      "Epoch: 143/200, MSE Train Loss: 0.24009, MSE Val Loss: 0.23292\n",
      "Epoch: 144/200, MSE Train Loss: 0.23216, MSE Val Loss: 0.22787\n",
      "Epoch: 145/200, MSE Train Loss: 0.23466, MSE Val Loss: 0.22273\n",
      "Epoch: 146/200, MSE Train Loss: 0.23308, MSE Val Loss: 0.23037\n",
      "Epoch: 147/200, MSE Train Loss: 0.22977, MSE Val Loss: 0.23715\n",
      "Epoch: 148/200, MSE Train Loss: 0.22917, MSE Val Loss: 0.23452\n",
      "Epoch: 149/200, MSE Train Loss: 0.22972, MSE Val Loss: 0.23447\n",
      "Epoch: 150/200, MSE Train Loss: 0.22881, MSE Val Loss: 0.25064\n",
      "Epoch: 151/200, MSE Train Loss: 0.23893, MSE Val Loss: 0.23392\n",
      "Epoch: 152/200, MSE Train Loss: 0.2346, MSE Val Loss: 0.23387\n",
      "Epoch: 153/200, MSE Train Loss: 0.23532, MSE Val Loss: 0.27162\n",
      "Epoch: 154/200, MSE Train Loss: 0.24097, MSE Val Loss: 0.23725\n",
      "Epoch: 155/200, MSE Train Loss: 0.23342, MSE Val Loss: 0.2338\n",
      "Epoch: 156/200, MSE Train Loss: 0.22866, MSE Val Loss: 0.23525\n",
      "Epoch: 157/200, MSE Train Loss: 0.23049, MSE Val Loss: 0.23502\n",
      "Epoch: 158/200, MSE Train Loss: 0.23361, MSE Val Loss: 0.24375\n",
      "Epoch: 159/200, MSE Train Loss: 0.23215, MSE Val Loss: 0.24016\n",
      "Epoch: 160/200, MSE Train Loss: 0.23852, MSE Val Loss: 0.24776\n",
      "Epoch: 161/200, MSE Train Loss: 0.2352, MSE Val Loss: 0.24096\n",
      "Epoch: 162/200, MSE Train Loss: 0.2343, MSE Val Loss: 0.24334\n",
      "Epoch: 163/200, MSE Train Loss: 0.23469, MSE Val Loss: 0.25807\n",
      "Epoch: 164/200, MSE Train Loss: 0.23679, MSE Val Loss: 0.24966\n",
      "Epoch: 165/200, MSE Train Loss: 0.22898, MSE Val Loss: 0.25363\n",
      "Epoch: 166/200, MSE Train Loss: 0.23275, MSE Val Loss: 0.2496\n",
      "Epoch: 167/200, MSE Train Loss: 0.23098, MSE Val Loss: 0.24658\n",
      "Epoch: 168/200, MSE Train Loss: 0.23924, MSE Val Loss: 0.24274\n",
      "Epoch: 169/200, MSE Train Loss: 0.23155, MSE Val Loss: 0.24208\n",
      "Epoch: 170/200, MSE Train Loss: 0.22882, MSE Val Loss: 0.25459\n",
      "Epoch: 171/200, MSE Train Loss: 0.22868, MSE Val Loss: 0.25859\n",
      "Epoch: 172/200, MSE Train Loss: 0.22773, MSE Val Loss: 0.25277\n",
      "Epoch: 173/200, MSE Train Loss: 0.23099, MSE Val Loss: 0.24772\n",
      "Epoch: 174/200, MSE Train Loss: 0.23153, MSE Val Loss: 0.24324\n",
      "Epoch: 175/200, MSE Train Loss: 0.22951, MSE Val Loss: 0.236\n",
      "Epoch: 176/200, MSE Train Loss: 0.22989, MSE Val Loss: 0.24149\n",
      "Epoch: 177/200, MSE Train Loss: 0.22971, MSE Val Loss: 0.24344\n",
      "Epoch: 178/200, MSE Train Loss: 0.23543, MSE Val Loss: 0.23366\n",
      "Epoch: 179/200, MSE Train Loss: 0.22943, MSE Val Loss: 0.23811\n",
      "Epoch: 180/200, MSE Train Loss: 0.2303, MSE Val Loss: 0.23435\n",
      "Epoch: 181/200, MSE Train Loss: 0.23101, MSE Val Loss: 0.24428\n",
      "Epoch: 182/200, MSE Train Loss: 0.23251, MSE Val Loss: 0.2638\n",
      "Epoch: 183/200, MSE Train Loss: 0.23834, MSE Val Loss: 0.24491\n",
      "Epoch: 184/200, MSE Train Loss: 0.23229, MSE Val Loss: 0.24447\n",
      "Epoch: 185/200, MSE Train Loss: 0.22675, MSE Val Loss: 0.24149\n",
      "Epoch: 186/200, MSE Train Loss: 0.22551, MSE Val Loss: 0.23367\n",
      "Epoch: 187/200, MSE Train Loss: 0.22588, MSE Val Loss: 0.23915\n",
      "Epoch: 188/200, MSE Train Loss: 0.2293, MSE Val Loss: 0.24102\n",
      "Epoch: 189/200, MSE Train Loss: 0.2288, MSE Val Loss: 0.24403\n",
      "Epoch: 190/200, MSE Train Loss: 0.22994, MSE Val Loss: 0.2404\n",
      "Epoch: 191/200, MSE Train Loss: 0.23059, MSE Val Loss: 0.24532\n",
      "Epoch: 192/200, MSE Train Loss: 0.22815, MSE Val Loss: 0.24009\n",
      "Epoch: 193/200, MSE Train Loss: 0.22658, MSE Val Loss: 0.24302\n",
      "Epoch: 194/200, MSE Train Loss: 0.22759, MSE Val Loss: 0.23907\n",
      "Epoch: 195/200, MSE Train Loss: 0.22697, MSE Val Loss: 0.25048\n",
      "Epoch: 196/200, MSE Train Loss: 0.2261, MSE Val Loss: 0.2414\n",
      "Epoch: 197/200, MSE Train Loss: 0.22849, MSE Val Loss: 0.24365\n",
      "Epoch: 198/200, MSE Train Loss: 0.2291, MSE Val Loss: 0.2343\n",
      "Epoch: 199/200, MSE Train Loss: 0.2501, MSE Val Loss: 0.26262\n",
      "Epoch: 200/200, MSE Train Loss: 0.22783, MSE Val Loss: 0.23648\n"
     ]
    }
   ],
   "source": [
    "data_loaders = get_data_dict(data_df=data_df, mean=False, batch_size=128)\n",
    "train_loader = data_loaders[\"train_loader\"]\n",
    "val_loader = data_loaders[\"val_loader\"]\n",
    "\n",
    "emb_size = next(iter(train_loader))[0].shape[-1]\n",
    "\n",
    "model = LSTM_Regressor(\n",
    "    emb_size=emb_size, hidden_size=30, num_layers=4, dense_size=163\n",
    ")\n",
    "train_results = train_lstm_model(\n",
    "    model=model,\n",
    "    train_loader=train_loader,\n",
    "    val_loader=val_loader,\n",
    "    lr=1e-3,\n",
    "    epochs=200,\n",
    "    batch_size=128,\n",
    "    verbose=True,\n",
    "    early_stopping=True,\n",
    ")"
   ]
  },
  {
   "cell_type": "code",
   "execution_count": 33,
   "metadata": {},
   "outputs": [
    {
     "data": {
      "image/png": "[encoded data removed]",
      "text/plain": [
       "<Figure size 640x480 with 1 Axes>"
      ]
     },
     "metadata": {},
     "output_type": "display_data"
    }
   ],
   "source": [
    "plt.plot(train_results[\"train_loss\"], label=\"Train MSE Loss\")\n",
    "plt.plot(train_results[\"val_loss\"], label=\"Val MSE Loss\")\n",
    "plt.legend()\n",
    "plt.show()"
   ]
  },
  {
   "cell_type": "code",
   "execution_count": 34,
   "metadata": {},
   "outputs": [],
   "source": [
    "preds = []\n",
    "true_energies = []\n",
    "\n",
    "hidden_state = model.init_hidden(128)\n",
    "for embeddings, _, labels in val_loader:\n",
    "\n",
    "    embeddings, labels = embeddings.cuda(), labels.cuda()  \n",
    "    output, hidden_state = model(embeddings, hidden_state)\n",
    "    preds.append(output.tolist())\n",
    "    true_energies.append(labels.tolist())\n",
    "\n",
    "preds = np.array(preds).flatten()\n",
    "true_energies = np.array(true_energies).flatten()"
   ]
  },
  {
   "cell_type": "code",
   "execution_count": 35,
   "metadata": {},
   "outputs": [
    {
     "name": "stdout",
     "output_type": "stream",
     "text": [
      "Val MSE: 0.236\n",
      "Val MAE: 0.25\n"
     ]
    }
   ],
   "source": [
    "mse = round(mean_squared_error(true_energies, preds), 3)\n",
    "mae = round(mean_absolute_error(true_energies, preds), 3)\n",
    "\n",
    "print(f\"Val MSE: {mse}\")\n",
    "print(f\"Val MAE: {mae}\")"
   ]
  },
  {
   "cell_type": "code",
   "execution_count": 36,
   "metadata": {},
   "outputs": [
    {
     "data": {
      "image/png": "[encoded data removed]",
      "text/plain": [
       "<Figure size 1000x500 with 1 Axes>"
      ]
     },
     "metadata": {},
     "output_type": "display_data"
    }
   ],
   "source": [
    "plt.figure(figsize=(10, 5))\n",
    "plt.hist(preds, bins=100, range=(0,5))\n",
    "plt.title(\"Predictions' energy distribution\")\n",
    "plt.xlabel(\"Energy\")\n",
    "plt.show()"
   ]
  },
  {
   "cell_type": "code",
   "execution_count": 37,
   "metadata": {},
   "outputs": [
    {
     "data": {
      "image/png": "[encoded data removed]",
      "text/plain": [
       "<Figure size 1000x500 with 1 Axes>"
      ]
     },
     "metadata": {},
     "output_type": "display_data"
    }
   ],
   "source": [
    "val_labels = true_energies\n",
    "\n",
    "plt.figure(figsize=(10, 5))\n",
    "plt.hist(val_labels, bins=100, range=(0,5))\n",
    "plt.title(\"Validation labels energy distribution\")\n",
    "plt.xlabel(\"Energy\")\n",
    "plt.show()"
   ]
  },
  {
   "cell_type": "code",
   "execution_count": 38,
   "metadata": {},
   "outputs": [
    {
     "name": "stdout",
     "output_type": "stream",
     "text": [
      "Labels' median: 0.45734401305543804, Labels' std: 0.9416572005532581\n"
     ]
    }
   ],
   "source": [
    "median = np.median(true_energies)\n",
    "std = np.std(true_energies)\n",
    "\n",
    "print(f\"Labels' median: {median}, Labels' std: {std}\")"
   ]
  },
  {
   "cell_type": "code",
   "execution_count": 46,
   "metadata": {},
   "outputs": [],
   "source": [
    "filtered_ids = true_energies > 0.8\n",
    "filtered_true = true_energies[filtered_ids]\n",
    "filtered_preds = preds[filtered_ids]"
   ]
  },
  {
   "cell_type": "code",
   "execution_count": 47,
   "metadata": {},
   "outputs": [
    {
     "name": "stdout",
     "output_type": "stream",
     "text": [
      "Filtered MSE: 0.717\n",
      "Filtered MAE: 0.535\n"
     ]
    }
   ],
   "source": [
    "mse = round(mean_squared_error(filtered_true, filtered_preds), 3)\n",
    "mae = round(mean_absolute_error(filtered_true, filtered_preds), 3)\n",
    "\n",
    "print(f\"Filtered MSE: {mse}\")\n",
    "print(f\"Filtered MAE: {mae}\")"
   ]
  },
  {
   "cell_type": "markdown",
   "metadata": {},
   "source": [
    "# Simple Model"
   ]
  },
  {
   "cell_type": "code",
   "execution_count": 7,
   "metadata": {},
   "outputs": [],
   "source": [
    "class Simple_Regressor(nn.Module):\n",
    "\n",
    "    def __init__(self, emb_size: int, layers: list[int], dropout: float = 0.15, regressor_dropout: float = 0.05) -> None:\n",
    "        super().__init__()\n",
    "        \n",
    "        self.layers_list = []\n",
    "\n",
    "        for i, dense in enumerate(layers):\n",
    "            if i == 0:\n",
    "                self.layers_list.append(nn.Linear(emb_size, dense).cuda())\n",
    "            else:\n",
    "                self.layers_list.append(nn.Linear(layers[i-1], dense).cuda())\n",
    "\n",
    "        self.dropout = nn.Dropout(dropout)\n",
    "        self.dropout2 = nn.Dropout(regressor_dropout)\n",
    "        self.regressor = nn.Linear(layers[-1], 1)\n",
    "\n",
    "    def forward(self, x):\n",
    "        \n",
    "        for dense in self.layers_list:\n",
    "            x = dense(x)\n",
    "            if dense == self.layers_list[-1]:\n",
    "                x = self.dropout2(x)\n",
    "            else:\n",
    "                x = self.dropout(x)\n",
    "\n",
    "        out = self.regressor(x)\n",
    "\n",
    "        return out"
   ]
  },
  {
   "attachments": {},
   "cell_type": "markdown",
   "metadata": {},
   "source": [
    "## Training Function"
   ]
  },
  {
   "cell_type": "code",
   "execution_count": 8,
   "metadata": {},
   "outputs": [],
   "source": [
    "def train_simple_model(\n",
    "    model: Simple_Regressor,\n",
    "    train_loader: DataLoader,\n",
    "    val_loader: DataLoader,\n",
    "    lr: float = 1e-2,\n",
    "    batch_size: int = 32,\n",
    "    epochs: int = 100,\n",
    "    verbose: bool = False,\n",
    "    early_stopping: bool = True,\n",
    ") -> dict:\n",
    "\n",
    "    if early_stopping:\n",
    "        early_stopper = EarlyStopper(patience=10, min_delta=0.05)\n",
    "\n",
    "    criterion = nn.MSELoss()\n",
    "    optimizer = torch.optim.Adam(params=model.parameters(), lr=lr, weight_decay=1e-4)\n",
    "\n",
    "    model.cuda()\n",
    "\n",
    "    train_losses = []\n",
    "    val_losses = []\n",
    "\n",
    "    for epoch in range(epochs):\n",
    "        model.train()\n",
    "        losses = []\n",
    "        for embeddings, labels in train_loader:\n",
    "\n",
    "            embeddings = embeddings.cuda()\n",
    "            labels = labels.cuda()\n",
    "\n",
    "            output = model(embeddings)\n",
    "            loss = criterion(output.squeeze(), labels.float())\n",
    "\n",
    "            optimizer.zero_grad()\n",
    "            loss.backward()\n",
    "\n",
    "            nn.utils.clip_grad_norm_(model.parameters(), max_norm=5)\n",
    "            optimizer.step()\n",
    "            losses.append(loss.item())\n",
    "\n",
    "        val_loss = []\n",
    "        model.eval()\n",
    "        for embeddings, labels in val_loader:\n",
    "\n",
    "            embeddings, labels = embeddings.cuda(), labels.cuda()\n",
    "            output = model(embeddings)\n",
    "            v_loss = criterion(output.squeeze(), labels.float())\n",
    "\n",
    "            val_loss.append(v_loss.item())\n",
    "\n",
    "        if verbose:\n",
    "            print(\n",
    "                f\"Epoch: {epoch+1}/{epochs}, MSE Train Loss: {round(np.mean(losses), 5)}, MSE Val Loss: {round(np.mean(val_loss), 5)}\"\n",
    "            )\n",
    "\n",
    "        train_losses.append(np.mean(losses))\n",
    "        val_losses.append(np.mean(val_loss))\n",
    "\n",
    "        if early_stopping:\n",
    "            early_stopper.early_stop(val_losses[-1])\n",
    "\n",
    "    model_training = {\n",
    "        \"model\": model,\n",
    "        \"train_loss\": train_losses,\n",
    "        \"val_loss\": val_losses,\n",
    "        \"epochs_trained\": epoch,\n",
    "    }\n",
    "\n",
    "    return model_training\n"
   ]
  },
  {
   "attachments": {},
   "cell_type": "markdown",
   "metadata": {},
   "source": [
    "## Optuna Trials"
   ]
  },
  {
   "cell_type": "code",
   "execution_count": 11,
   "metadata": {},
   "outputs": [
    {
     "name": "stderr",
     "output_type": "stream",
     "text": [
      "\u001b[32m[I 2023-01-09 13:54:26,284]\u001b[0m Using an existing study with name 'simple_nn-mean_emb-regression-study-good-dataset' instead of creating a new one.\u001b[0m\n"
     ]
    },
    {
     "name": "stdout",
     "output_type": "stream",
     "text": [
      "Using an existing study with name 'simple_nn-mean_emb-regression-study-good-dataset' instead of creating a new one.\n",
      "Using an existing study with name 'simple_nn-mean_emb-regression-study-good-dataset' instead of creating a new one.\n"
     ]
    }
   ],
   "source": [
    "optuna.logging.get_logger(\"optuna\").addHandler(logging.StreamHandler(sys.stdout))\n",
    "study_name = \"simple_nn-mean_emb-regression-study-good-dataset\"\n",
    "storage_name = f\"sqlite:////Users/thodo/Documents/σχολη/diplomatiki/optuna-studies/{study_name}.db\"\n",
    "study = optuna.create_study(study_name=study_name, storage=storage_name, load_if_exists=True, direction=\"minimize\")"
   ]
  },
  {
   "cell_type": "code",
   "execution_count": 12,
   "metadata": {},
   "outputs": [
    {
     "name": "stderr",
     "output_type": "stream",
     "text": [
      "\u001b[32m[I 2023-01-09 14:08:28,492]\u001b[0m Trial 103 finished with value: 0.7647348031682032 and parameters: {'dense_layers': 1, 'dense_0': 61, 'batch_size_exp': 3, 'learning_rate_exp': -3, 'dropout': 0.10761429862178057, 'regressor_dropout': 0.1264597387648022}. Best is trial 55 with value: 0.43997468536312434.\u001b[0m\n"
     ]
    },
    {
     "name": "stdout",
     "output_type": "stream",
     "text": [
      "Trial 103 finished with value: 0.7647348031682032 and parameters: {'dense_layers': 1, 'dense_0': 61, 'batch_size_exp': 3, 'learning_rate_exp': -3, 'dropout': 0.10761429862178057, 'regressor_dropout': 0.1264597387648022}. Best is trial 55 with value: 0.43997468536312434.\n",
      "Trial 103 finished with value: 0.7647348031682032 and parameters: {'dense_layers': 1, 'dense_0': 61, 'batch_size_exp': 3, 'learning_rate_exp': -3, 'dropout': 0.10761429862178057, 'regressor_dropout': 0.1264597387648022}. Best is trial 55 with value: 0.43997468536312434.\n"
     ]
    }
   ],
   "source": [
    "def objective(trial):\n",
    "\n",
    "    num_layers = trial.suggest_int(\"dense_layers\", 1, 6)\n",
    "    dense_layers = [trial.suggest_int(f\"dense_{i}\", 8, 256) for i in range(num_layers)]\n",
    "    batch_size_exp = trial.suggest_int(\"batch_size_exp\", 3, 7)\n",
    "    lr_exp = trial.suggest_int(\"learning_rate_exp\", -4, -2)\n",
    "    dropout = trial.suggest_float(\"dropout\", 0, 0.2)\n",
    "    regressor_dropout = trial.suggest_float(\"regressor_dropout\", 0, 0.15)\n",
    "\n",
    "    batch_size = 2**batch_size_exp\n",
    "    lr = 10**lr_exp\n",
    "\n",
    "    data_loaders = get_data_dict(data_df=data_df, mean=True, batch_size=batch_size)\n",
    "    train_loader = data_loaders[\"train_loader\"]\n",
    "    val_loader = data_loaders[\"val_loader\"]\n",
    "\n",
    "    emb_size = next(iter(train_loader))[0].shape[-1]\n",
    "\n",
    "    model = Simple_Regressor(\n",
    "        emb_size=emb_size,\n",
    "        layers=dense_layers,\n",
    "        dropout=dropout,\n",
    "        regressor_dropout=regressor_dropout,\n",
    "    )\n",
    "\n",
    "    train_results = train_simple_model(\n",
    "        model=model,\n",
    "        train_loader=train_loader,\n",
    "        val_loader=val_loader,\n",
    "        lr=lr,\n",
    "        epochs=200,\n",
    "        batch_size=batch_size,\n",
    "        early_stopping=True,\n",
    "    )\n",
    "\n",
    "    val_loss = train_results[\"val_loss\"]\n",
    "\n",
    "    return val_loss[-1]\n",
    "\n",
    "\n",
    "study.optimize(objective, n_trials=103)"
   ]
  },
  {
   "cell_type": "code",
   "execution_count": 13,
   "metadata": {},
   "outputs": [
    {
     "data": {
      "text/html": [
       "<div>\n",
       "<style scoped>\n",
       "    .dataframe tbody tr th:only-of-type {\n",
       "        vertical-align: middle;\n",
       "    }\n",
       "\n",
       "    .dataframe tbody tr th {\n",
       "        vertical-align: top;\n",
       "    }\n",
       "\n",
       "    .dataframe thead th {\n",
       "        text-align: right;\n",
       "    }\n",
       "</style>\n",
       "<table border=\"1\" class=\"dataframe\">\n",
       "  <thead>\n",
       "    <tr style=\"text-align: right;\">\n",
       "      <th></th>\n",
       "      <th>number</th>\n",
       "      <th>value</th>\n",
       "      <th>datetime_start</th>\n",
       "      <th>datetime_complete</th>\n",
       "      <th>duration</th>\n",
       "      <th>params_batch_size_exp</th>\n",
       "      <th>params_dense_0</th>\n",
       "      <th>params_dense_1</th>\n",
       "      <th>params_dense_2</th>\n",
       "      <th>params_dense_3</th>\n",
       "      <th>params_dense_4</th>\n",
       "      <th>params_dense_5</th>\n",
       "      <th>params_dense_layers</th>\n",
       "      <th>params_dropout</th>\n",
       "      <th>params_learning_rate_exp</th>\n",
       "      <th>params_regressor_dropout</th>\n",
       "      <th>state</th>\n",
       "    </tr>\n",
       "  </thead>\n",
       "  <tbody>\n",
       "    <tr>\n",
       "      <th>55</th>\n",
       "      <td>55</td>\n",
       "      <td>0.439975</td>\n",
       "      <td>2023-01-09 06:17:46.434492</td>\n",
       "      <td>2023-01-09 06:30:07.847971</td>\n",
       "      <td>0 days 00:12:21.413479</td>\n",
       "      <td>3</td>\n",
       "      <td>162</td>\n",
       "      <td>NaN</td>\n",
       "      <td>NaN</td>\n",
       "      <td>NaN</td>\n",
       "      <td>NaN</td>\n",
       "      <td>NaN</td>\n",
       "      <td>1</td>\n",
       "      <td>0.184660</td>\n",
       "      <td>-3</td>\n",
       "      <td>0.000839</td>\n",
       "      <td>COMPLETE</td>\n",
       "    </tr>\n",
       "    <tr>\n",
       "      <th>77</th>\n",
       "      <td>77</td>\n",
       "      <td>0.481107</td>\n",
       "      <td>2023-01-09 09:51:28.306257</td>\n",
       "      <td>2023-01-09 09:57:56.392646</td>\n",
       "      <td>0 days 00:06:28.086389</td>\n",
       "      <td>4</td>\n",
       "      <td>203</td>\n",
       "      <td>NaN</td>\n",
       "      <td>NaN</td>\n",
       "      <td>NaN</td>\n",
       "      <td>NaN</td>\n",
       "      <td>NaN</td>\n",
       "      <td>1</td>\n",
       "      <td>0.153568</td>\n",
       "      <td>-3</td>\n",
       "      <td>0.017584</td>\n",
       "      <td>COMPLETE</td>\n",
       "    </tr>\n",
       "    <tr>\n",
       "      <th>60</th>\n",
       "      <td>60</td>\n",
       "      <td>0.483190</td>\n",
       "      <td>2023-01-09 07:21:23.597985</td>\n",
       "      <td>2023-01-09 07:27:57.998985</td>\n",
       "      <td>0 days 00:06:34.401000</td>\n",
       "      <td>4</td>\n",
       "      <td>176</td>\n",
       "      <td>NaN</td>\n",
       "      <td>NaN</td>\n",
       "      <td>NaN</td>\n",
       "      <td>NaN</td>\n",
       "      <td>NaN</td>\n",
       "      <td>1</td>\n",
       "      <td>0.172506</td>\n",
       "      <td>-3</td>\n",
       "      <td>0.006142</td>\n",
       "      <td>COMPLETE</td>\n",
       "    </tr>\n",
       "    <tr>\n",
       "      <th>63</th>\n",
       "      <td>63</td>\n",
       "      <td>0.493283</td>\n",
       "      <td>2023-01-09 07:48:39.618658</td>\n",
       "      <td>2023-01-09 08:01:33.299750</td>\n",
       "      <td>0 days 00:12:53.681092</td>\n",
       "      <td>3</td>\n",
       "      <td>137</td>\n",
       "      <td>NaN</td>\n",
       "      <td>NaN</td>\n",
       "      <td>NaN</td>\n",
       "      <td>NaN</td>\n",
       "      <td>NaN</td>\n",
       "      <td>1</td>\n",
       "      <td>0.058225</td>\n",
       "      <td>-3</td>\n",
       "      <td>0.003660</td>\n",
       "      <td>COMPLETE</td>\n",
       "    </tr>\n",
       "    <tr>\n",
       "      <th>37</th>\n",
       "      <td>37</td>\n",
       "      <td>0.511997</td>\n",
       "      <td>2023-01-09 04:05:56.400867</td>\n",
       "      <td>2023-01-09 04:09:12.563638</td>\n",
       "      <td>0 days 00:03:16.162771</td>\n",
       "      <td>5</td>\n",
       "      <td>235</td>\n",
       "      <td>NaN</td>\n",
       "      <td>NaN</td>\n",
       "      <td>NaN</td>\n",
       "      <td>NaN</td>\n",
       "      <td>NaN</td>\n",
       "      <td>1</td>\n",
       "      <td>0.167221</td>\n",
       "      <td>-3</td>\n",
       "      <td>0.140379</td>\n",
       "      <td>COMPLETE</td>\n",
       "    </tr>\n",
       "    <tr>\n",
       "      <th>48</th>\n",
       "      <td>48</td>\n",
       "      <td>0.532418</td>\n",
       "      <td>2023-01-09 04:48:09.741557</td>\n",
       "      <td>2023-01-09 05:00:30.477013</td>\n",
       "      <td>0 days 00:12:20.735456</td>\n",
       "      <td>3</td>\n",
       "      <td>158</td>\n",
       "      <td>NaN</td>\n",
       "      <td>NaN</td>\n",
       "      <td>NaN</td>\n",
       "      <td>NaN</td>\n",
       "      <td>NaN</td>\n",
       "      <td>1</td>\n",
       "      <td>0.189842</td>\n",
       "      <td>-3</td>\n",
       "      <td>0.019822</td>\n",
       "      <td>COMPLETE</td>\n",
       "    </tr>\n",
       "    <tr>\n",
       "      <th>22</th>\n",
       "      <td>22</td>\n",
       "      <td>0.532783</td>\n",
       "      <td>2023-01-09 03:07:39.123335</td>\n",
       "      <td>2023-01-09 03:10:55.686098</td>\n",
       "      <td>0 days 00:03:16.562763</td>\n",
       "      <td>5</td>\n",
       "      <td>221</td>\n",
       "      <td>NaN</td>\n",
       "      <td>NaN</td>\n",
       "      <td>NaN</td>\n",
       "      <td>NaN</td>\n",
       "      <td>NaN</td>\n",
       "      <td>1</td>\n",
       "      <td>0.173118</td>\n",
       "      <td>-3</td>\n",
       "      <td>0.121949</td>\n",
       "      <td>COMPLETE</td>\n",
       "    </tr>\n",
       "    <tr>\n",
       "      <th>47</th>\n",
       "      <td>47</td>\n",
       "      <td>0.540323</td>\n",
       "      <td>2023-01-09 04:41:54.784896</td>\n",
       "      <td>2023-01-09 04:48:09.722564</td>\n",
       "      <td>0 days 00:06:14.937668</td>\n",
       "      <td>4</td>\n",
       "      <td>160</td>\n",
       "      <td>NaN</td>\n",
       "      <td>NaN</td>\n",
       "      <td>NaN</td>\n",
       "      <td>NaN</td>\n",
       "      <td>NaN</td>\n",
       "      <td>1</td>\n",
       "      <td>0.153256</td>\n",
       "      <td>-3</td>\n",
       "      <td>0.134953</td>\n",
       "      <td>COMPLETE</td>\n",
       "    </tr>\n",
       "    <tr>\n",
       "      <th>92</th>\n",
       "      <td>92</td>\n",
       "      <td>0.541284</td>\n",
       "      <td>2023-01-09 11:48:51.572990</td>\n",
       "      <td>2023-01-09 12:02:42.010988</td>\n",
       "      <td>0 days 00:13:50.437998</td>\n",
       "      <td>3</td>\n",
       "      <td>60</td>\n",
       "      <td>NaN</td>\n",
       "      <td>NaN</td>\n",
       "      <td>NaN</td>\n",
       "      <td>NaN</td>\n",
       "      <td>NaN</td>\n",
       "      <td>1</td>\n",
       "      <td>0.151706</td>\n",
       "      <td>-3</td>\n",
       "      <td>0.132688</td>\n",
       "      <td>COMPLETE</td>\n",
       "    </tr>\n",
       "    <tr>\n",
       "      <th>64</th>\n",
       "      <td>64</td>\n",
       "      <td>0.541902</td>\n",
       "      <td>2023-01-09 08:01:33.318743</td>\n",
       "      <td>2023-01-09 08:07:45.494753</td>\n",
       "      <td>0 days 00:06:12.176010</td>\n",
       "      <td>4</td>\n",
       "      <td>112</td>\n",
       "      <td>NaN</td>\n",
       "      <td>NaN</td>\n",
       "      <td>NaN</td>\n",
       "      <td>NaN</td>\n",
       "      <td>NaN</td>\n",
       "      <td>1</td>\n",
       "      <td>0.044553</td>\n",
       "      <td>-3</td>\n",
       "      <td>0.000672</td>\n",
       "      <td>COMPLETE</td>\n",
       "    </tr>\n",
       "  </tbody>\n",
       "</table>\n",
       "</div>"
      ],
      "text/plain": [
       "    number     value             datetime_start          datetime_complete  \\\n",
       "55      55  0.439975 2023-01-09 06:17:46.434492 2023-01-09 06:30:07.847971   \n",
       "77      77  0.481107 2023-01-09 09:51:28.306257 2023-01-09 09:57:56.392646   \n",
       "60      60  0.483190 2023-01-09 07:21:23.597985 2023-01-09 07:27:57.998985   \n",
       "63      63  0.493283 2023-01-09 07:48:39.618658 2023-01-09 08:01:33.299750   \n",
       "37      37  0.511997 2023-01-09 04:05:56.400867 2023-01-09 04:09:12.563638   \n",
       "48      48  0.532418 2023-01-09 04:48:09.741557 2023-01-09 05:00:30.477013   \n",
       "22      22  0.532783 2023-01-09 03:07:39.123335 2023-01-09 03:10:55.686098   \n",
       "47      47  0.540323 2023-01-09 04:41:54.784896 2023-01-09 04:48:09.722564   \n",
       "92      92  0.541284 2023-01-09 11:48:51.572990 2023-01-09 12:02:42.010988   \n",
       "64      64  0.541902 2023-01-09 08:01:33.318743 2023-01-09 08:07:45.494753   \n",
       "\n",
       "                 duration  params_batch_size_exp  params_dense_0  \\\n",
       "55 0 days 00:12:21.413479                      3             162   \n",
       "77 0 days 00:06:28.086389                      4             203   \n",
       "60 0 days 00:06:34.401000                      4             176   \n",
       "63 0 days 00:12:53.681092                      3             137   \n",
       "37 0 days 00:03:16.162771                      5             235   \n",
       "48 0 days 00:12:20.735456                      3             158   \n",
       "22 0 days 00:03:16.562763                      5             221   \n",
       "47 0 days 00:06:14.937668                      4             160   \n",
       "92 0 days 00:13:50.437998                      3              60   \n",
       "64 0 days 00:06:12.176010                      4             112   \n",
       "\n",
       "    params_dense_1  params_dense_2  params_dense_3  params_dense_4  \\\n",
       "55             NaN             NaN             NaN             NaN   \n",
       "77             NaN             NaN             NaN             NaN   \n",
       "60             NaN             NaN             NaN             NaN   \n",
       "63             NaN             NaN             NaN             NaN   \n",
       "37             NaN             NaN             NaN             NaN   \n",
       "48             NaN             NaN             NaN             NaN   \n",
       "22             NaN             NaN             NaN             NaN   \n",
       "47             NaN             NaN             NaN             NaN   \n",
       "92             NaN             NaN             NaN             NaN   \n",
       "64             NaN             NaN             NaN             NaN   \n",
       "\n",
       "    params_dense_5  params_dense_layers  params_dropout  \\\n",
       "55             NaN                    1        0.184660   \n",
       "77             NaN                    1        0.153568   \n",
       "60             NaN                    1        0.172506   \n",
       "63             NaN                    1        0.058225   \n",
       "37             NaN                    1        0.167221   \n",
       "48             NaN                    1        0.189842   \n",
       "22             NaN                    1        0.173118   \n",
       "47             NaN                    1        0.153256   \n",
       "92             NaN                    1        0.151706   \n",
       "64             NaN                    1        0.044553   \n",
       "\n",
       "    params_learning_rate_exp  params_regressor_dropout     state  \n",
       "55                        -3                  0.000839  COMPLETE  \n",
       "77                        -3                  0.017584  COMPLETE  \n",
       "60                        -3                  0.006142  COMPLETE  \n",
       "63                        -3                  0.003660  COMPLETE  \n",
       "37                        -3                  0.140379  COMPLETE  \n",
       "48                        -3                  0.019822  COMPLETE  \n",
       "22                        -3                  0.121949  COMPLETE  \n",
       "47                        -3                  0.134953  COMPLETE  \n",
       "92                        -3                  0.132688  COMPLETE  \n",
       "64                        -3                  0.000672  COMPLETE  "
      ]
     },
     "execution_count": 13,
     "metadata": {},
     "output_type": "execute_result"
    }
   ],
   "source": [
    "study.trials_dataframe().sort_values(by=\"value\").head(10)"
   ]
  },
  {
   "cell_type": "code",
   "execution_count": 14,
   "metadata": {},
   "outputs": [
    {
     "name": "stdout",
     "output_type": "stream",
     "text": [
      "Best simple-regressor-model params: {'batch_size_exp': 3, 'dense_0': 162, 'dense_layers': 1, 'dropout': 0.18466029305173945, 'learning_rate_exp': -3, 'regressor_dropout': 0.0008387692491181251}, achieving val MSE: 0.43997468536312434\n"
     ]
    }
   ],
   "source": [
    "print(f\"Best simple-regressor-model params: {study.best_params}, achieving val MSE: {study.best_value}\")"
   ]
  },
  {
   "attachments": {},
   "cell_type": "markdown",
   "metadata": {},
   "source": [
    "## Results"
   ]
  },
  {
   "cell_type": "code",
   "execution_count": 16,
   "metadata": {},
   "outputs": [
    {
     "name": "stdout",
     "output_type": "stream",
     "text": [
      "Epoch: 1/200, MSE Train Loss: 0.72924, MSE Val Loss: 0.47736\n",
      "Epoch: 2/200, MSE Train Loss: 0.65406, MSE Val Loss: 0.46395\n",
      "Epoch: 3/200, MSE Train Loss: 0.62942, MSE Val Loss: 0.45701\n",
      "Epoch: 4/200, MSE Train Loss: 0.61366, MSE Val Loss: 0.4535\n",
      "Epoch: 5/200, MSE Train Loss: 0.60125, MSE Val Loss: 0.45013\n",
      "Epoch: 6/200, MSE Train Loss: 0.59156, MSE Val Loss: 0.44791\n",
      "Epoch: 7/200, MSE Train Loss: 0.58372, MSE Val Loss: 0.44725\n",
      "Epoch: 8/200, MSE Train Loss: 0.57721, MSE Val Loss: 0.44579\n",
      "Epoch: 9/200, MSE Train Loss: 0.57115, MSE Val Loss: 0.44477\n",
      "Epoch: 10/200, MSE Train Loss: 0.56547, MSE Val Loss: 0.44479\n",
      "Epoch: 11/200, MSE Train Loss: 0.56202, MSE Val Loss: 0.44407\n",
      "Epoch: 12/200, MSE Train Loss: 0.55817, MSE Val Loss: 0.44426\n",
      "Epoch: 13/200, MSE Train Loss: 0.55369, MSE Val Loss: 0.44437\n",
      "Epoch: 14/200, MSE Train Loss: 0.55049, MSE Val Loss: 0.44324\n",
      "Epoch: 15/200, MSE Train Loss: 0.54899, MSE Val Loss: 0.44334\n",
      "Epoch: 16/200, MSE Train Loss: 0.54695, MSE Val Loss: 0.44417\n",
      "Epoch: 17/200, MSE Train Loss: 0.54314, MSE Val Loss: 0.44343\n",
      "Epoch: 18/200, MSE Train Loss: 0.54098, MSE Val Loss: 0.4435\n",
      "Epoch: 19/200, MSE Train Loss: 0.53932, MSE Val Loss: 0.44338\n",
      "Epoch: 20/200, MSE Train Loss: 0.53831, MSE Val Loss: 0.44389\n",
      "Epoch: 21/200, MSE Train Loss: 0.53725, MSE Val Loss: 0.44386\n",
      "Epoch: 22/200, MSE Train Loss: 0.53621, MSE Val Loss: 0.44294\n",
      "Epoch: 23/200, MSE Train Loss: 0.53454, MSE Val Loss: 0.44342\n",
      "Epoch: 24/200, MSE Train Loss: 0.53319, MSE Val Loss: 0.44403\n",
      "Epoch: 25/200, MSE Train Loss: 0.53428, MSE Val Loss: 0.44337\n",
      "Epoch: 26/200, MSE Train Loss: 0.53167, MSE Val Loss: 0.443\n",
      "Epoch: 27/200, MSE Train Loss: 0.53065, MSE Val Loss: 0.44343\n",
      "Epoch: 28/200, MSE Train Loss: 0.52963, MSE Val Loss: 0.44277\n",
      "Epoch: 29/200, MSE Train Loss: 0.52822, MSE Val Loss: 0.44321\n",
      "Epoch: 30/200, MSE Train Loss: 0.52817, MSE Val Loss: 0.44363\n",
      "Epoch: 31/200, MSE Train Loss: 0.52836, MSE Val Loss: 0.44253\n",
      "Epoch: 32/200, MSE Train Loss: 0.52735, MSE Val Loss: 0.44363\n",
      "Epoch: 33/200, MSE Train Loss: 0.52488, MSE Val Loss: 0.44359\n",
      "Epoch: 34/200, MSE Train Loss: 0.52456, MSE Val Loss: 0.4427\n",
      "Epoch: 35/200, MSE Train Loss: 0.52516, MSE Val Loss: 0.44352\n",
      "Epoch: 36/200, MSE Train Loss: 0.52504, MSE Val Loss: 0.44281\n",
      "Epoch: 37/200, MSE Train Loss: 0.52436, MSE Val Loss: 0.44294\n",
      "Epoch: 38/200, MSE Train Loss: 0.52369, MSE Val Loss: 0.44278\n",
      "Epoch: 39/200, MSE Train Loss: 0.52222, MSE Val Loss: 0.4431\n",
      "Epoch: 40/200, MSE Train Loss: 0.52437, MSE Val Loss: 0.44322\n",
      "Epoch: 41/200, MSE Train Loss: 0.52224, MSE Val Loss: 0.4436\n",
      "Epoch: 42/200, MSE Train Loss: 0.52319, MSE Val Loss: 0.44221\n",
      "Epoch: 43/200, MSE Train Loss: 0.52141, MSE Val Loss: 0.44313\n",
      "Epoch: 44/200, MSE Train Loss: 0.52177, MSE Val Loss: 0.44388\n",
      "Epoch: 45/200, MSE Train Loss: 0.52273, MSE Val Loss: 0.44266\n",
      "Epoch: 46/200, MSE Train Loss: 0.52276, MSE Val Loss: 0.44221\n",
      "Epoch: 47/200, MSE Train Loss: 0.52271, MSE Val Loss: 0.4427\n",
      "Epoch: 48/200, MSE Train Loss: 0.52037, MSE Val Loss: 0.44169\n",
      "Epoch: 49/200, MSE Train Loss: 0.52109, MSE Val Loss: 0.44254\n",
      "Epoch: 50/200, MSE Train Loss: 0.52243, MSE Val Loss: 0.4431\n",
      "Epoch: 51/200, MSE Train Loss: 0.51998, MSE Val Loss: 0.44203\n",
      "Epoch: 52/200, MSE Train Loss: 0.52101, MSE Val Loss: 0.44529\n",
      "Epoch: 53/200, MSE Train Loss: 0.52059, MSE Val Loss: 0.44158\n",
      "Epoch: 54/200, MSE Train Loss: 0.52031, MSE Val Loss: 0.44176\n",
      "Epoch: 55/200, MSE Train Loss: 0.5184, MSE Val Loss: 0.44425\n",
      "Epoch: 56/200, MSE Train Loss: 0.51907, MSE Val Loss: 0.44368\n",
      "Epoch: 57/200, MSE Train Loss: 0.51926, MSE Val Loss: 0.44222\n",
      "Epoch: 58/200, MSE Train Loss: 0.51909, MSE Val Loss: 0.44333\n",
      "Epoch: 59/200, MSE Train Loss: 0.52128, MSE Val Loss: 0.44127\n",
      "Epoch: 60/200, MSE Train Loss: 0.51926, MSE Val Loss: 0.44094\n",
      "Epoch: 61/200, MSE Train Loss: 0.52025, MSE Val Loss: 0.44384\n",
      "Epoch: 62/200, MSE Train Loss: 0.51755, MSE Val Loss: 0.44155\n",
      "Epoch: 63/200, MSE Train Loss: 0.52021, MSE Val Loss: 0.44233\n",
      "Epoch: 64/200, MSE Train Loss: 0.5191, MSE Val Loss: 0.4416\n",
      "Epoch: 65/200, MSE Train Loss: 0.52124, MSE Val Loss: 0.44353\n",
      "Epoch: 66/200, MSE Train Loss: 0.51692, MSE Val Loss: 0.44311\n",
      "Epoch: 67/200, MSE Train Loss: 0.51712, MSE Val Loss: 0.44091\n",
      "Epoch: 68/200, MSE Train Loss: 0.51951, MSE Val Loss: 0.44185\n",
      "Epoch: 69/200, MSE Train Loss: 0.51788, MSE Val Loss: 0.44201\n",
      "Epoch: 70/200, MSE Train Loss: 0.51958, MSE Val Loss: 0.4419\n",
      "Epoch: 71/200, MSE Train Loss: 0.51768, MSE Val Loss: 0.44066\n",
      "Epoch: 72/200, MSE Train Loss: 0.51773, MSE Val Loss: 0.44123\n",
      "Epoch: 73/200, MSE Train Loss: 0.51507, MSE Val Loss: 0.44178\n",
      "Epoch: 74/200, MSE Train Loss: 0.51969, MSE Val Loss: 0.44133\n",
      "Epoch: 75/200, MSE Train Loss: 0.51894, MSE Val Loss: 0.44133\n",
      "Epoch: 76/200, MSE Train Loss: 0.51737, MSE Val Loss: 0.44091\n",
      "Epoch: 77/200, MSE Train Loss: 0.51954, MSE Val Loss: 0.44248\n",
      "Epoch: 78/200, MSE Train Loss: 0.5188, MSE Val Loss: 0.44049\n",
      "Epoch: 79/200, MSE Train Loss: 0.51894, MSE Val Loss: 0.44214\n",
      "Epoch: 80/200, MSE Train Loss: 0.51787, MSE Val Loss: 0.44175\n",
      "Epoch: 81/200, MSE Train Loss: 0.5163, MSE Val Loss: 0.44199\n",
      "Epoch: 82/200, MSE Train Loss: 0.51874, MSE Val Loss: 0.44142\n",
      "Epoch: 83/200, MSE Train Loss: 0.51769, MSE Val Loss: 0.4414\n",
      "Epoch: 84/200, MSE Train Loss: 0.51889, MSE Val Loss: 0.44194\n",
      "Epoch: 85/200, MSE Train Loss: 0.51783, MSE Val Loss: 0.4407\n",
      "Epoch: 86/200, MSE Train Loss: 0.51713, MSE Val Loss: 0.44084\n",
      "Epoch: 87/200, MSE Train Loss: 0.52157, MSE Val Loss: 0.44153\n",
      "Epoch: 88/200, MSE Train Loss: 0.51933, MSE Val Loss: 0.44041\n",
      "Epoch: 89/200, MSE Train Loss: 0.51852, MSE Val Loss: 0.44128\n",
      "Epoch: 90/200, MSE Train Loss: 0.5164, MSE Val Loss: 0.44125\n",
      "Epoch: 91/200, MSE Train Loss: 0.51765, MSE Val Loss: 0.44136\n",
      "Epoch: 92/200, MSE Train Loss: 0.51507, MSE Val Loss: 0.44318\n",
      "Epoch: 93/200, MSE Train Loss: 0.51581, MSE Val Loss: 0.44141\n",
      "Epoch: 94/200, MSE Train Loss: 0.51668, MSE Val Loss: 0.44136\n",
      "Epoch: 95/200, MSE Train Loss: 0.51827, MSE Val Loss: 0.4412\n",
      "Epoch: 96/200, MSE Train Loss: 0.5175, MSE Val Loss: 0.44348\n",
      "Epoch: 97/200, MSE Train Loss: 0.51766, MSE Val Loss: 0.4425\n",
      "Epoch: 98/200, MSE Train Loss: 0.52006, MSE Val Loss: 0.44061\n",
      "Epoch: 99/200, MSE Train Loss: 0.5153, MSE Val Loss: 0.44095\n",
      "Epoch: 100/200, MSE Train Loss: 0.51627, MSE Val Loss: 0.44112\n",
      "Epoch: 101/200, MSE Train Loss: 0.51659, MSE Val Loss: 0.44078\n",
      "Epoch: 102/200, MSE Train Loss: 0.51469, MSE Val Loss: 0.44264\n",
      "Epoch: 103/200, MSE Train Loss: 0.51663, MSE Val Loss: 0.44029\n",
      "Epoch: 104/200, MSE Train Loss: 0.51673, MSE Val Loss: 0.44041\n",
      "Epoch: 105/200, MSE Train Loss: 0.51804, MSE Val Loss: 0.44107\n",
      "Epoch: 106/200, MSE Train Loss: 0.51532, MSE Val Loss: 0.44094\n",
      "Epoch: 107/200, MSE Train Loss: 0.51769, MSE Val Loss: 0.44027\n",
      "Epoch: 108/200, MSE Train Loss: 0.51737, MSE Val Loss: 0.44114\n",
      "Epoch: 109/200, MSE Train Loss: 0.51686, MSE Val Loss: 0.44055\n",
      "Epoch: 110/200, MSE Train Loss: 0.51783, MSE Val Loss: 0.44035\n",
      "Epoch: 111/200, MSE Train Loss: 0.51841, MSE Val Loss: 0.44051\n",
      "Epoch: 112/200, MSE Train Loss: 0.51604, MSE Val Loss: 0.44047\n",
      "Epoch: 113/200, MSE Train Loss: 0.52045, MSE Val Loss: 0.4407\n",
      "Epoch: 114/200, MSE Train Loss: 0.51424, MSE Val Loss: 0.44115\n",
      "Epoch: 115/200, MSE Train Loss: 0.51976, MSE Val Loss: 0.44237\n",
      "Epoch: 116/200, MSE Train Loss: 0.51744, MSE Val Loss: 0.43941\n",
      "Epoch: 117/200, MSE Train Loss: 0.51765, MSE Val Loss: 0.44114\n",
      "Epoch: 118/200, MSE Train Loss: 0.51553, MSE Val Loss: 0.44383\n",
      "Epoch: 119/200, MSE Train Loss: 0.51609, MSE Val Loss: 0.44087\n",
      "Epoch: 120/200, MSE Train Loss: 0.51652, MSE Val Loss: 0.44004\n",
      "Epoch: 121/200, MSE Train Loss: 0.516, MSE Val Loss: 0.43989\n",
      "Epoch: 122/200, MSE Train Loss: 0.51773, MSE Val Loss: 0.4413\n",
      "Epoch: 123/200, MSE Train Loss: 0.51728, MSE Val Loss: 0.44095\n",
      "Epoch: 124/200, MSE Train Loss: 0.51571, MSE Val Loss: 0.44002\n",
      "Epoch: 125/200, MSE Train Loss: 0.5167, MSE Val Loss: 0.44027\n",
      "Epoch: 126/200, MSE Train Loss: 0.51536, MSE Val Loss: 0.44066\n",
      "Epoch: 127/200, MSE Train Loss: 0.51634, MSE Val Loss: 0.44053\n",
      "Epoch: 128/200, MSE Train Loss: 0.5146, MSE Val Loss: 0.4395\n",
      "Epoch: 129/200, MSE Train Loss: 0.51784, MSE Val Loss: 0.43892\n",
      "Epoch: 130/200, MSE Train Loss: 0.51776, MSE Val Loss: 0.44337\n",
      "Epoch: 131/200, MSE Train Loss: 0.51542, MSE Val Loss: 0.44051\n",
      "Epoch: 132/200, MSE Train Loss: 0.51637, MSE Val Loss: 0.44178\n",
      "Epoch: 133/200, MSE Train Loss: 0.51632, MSE Val Loss: 0.44006\n",
      "Epoch: 134/200, MSE Train Loss: 0.51658, MSE Val Loss: 0.43918\n",
      "Epoch: 135/200, MSE Train Loss: 0.51418, MSE Val Loss: 0.43981\n",
      "Epoch: 136/200, MSE Train Loss: 0.51704, MSE Val Loss: 0.44076\n",
      "Epoch: 137/200, MSE Train Loss: 0.5182, MSE Val Loss: 0.44037\n",
      "Epoch: 138/200, MSE Train Loss: 0.51564, MSE Val Loss: 0.44264\n",
      "Epoch: 139/200, MSE Train Loss: 0.51857, MSE Val Loss: 0.4405\n",
      "Epoch: 140/200, MSE Train Loss: 0.51679, MSE Val Loss: 0.43937\n",
      "Epoch: 141/200, MSE Train Loss: 0.51675, MSE Val Loss: 0.44152\n",
      "Epoch: 142/200, MSE Train Loss: 0.51443, MSE Val Loss: 0.43961\n",
      "Epoch: 143/200, MSE Train Loss: 0.51585, MSE Val Loss: 0.44069\n",
      "Epoch: 144/200, MSE Train Loss: 0.51913, MSE Val Loss: 0.44049\n",
      "Epoch: 145/200, MSE Train Loss: 0.51801, MSE Val Loss: 0.43968\n",
      "Epoch: 146/200, MSE Train Loss: 0.51779, MSE Val Loss: 0.44154\n",
      "Epoch: 147/200, MSE Train Loss: 0.51453, MSE Val Loss: 0.44121\n",
      "Epoch: 148/200, MSE Train Loss: 0.51711, MSE Val Loss: 0.44026\n",
      "Epoch: 149/200, MSE Train Loss: 0.51374, MSE Val Loss: 0.43944\n",
      "Epoch: 150/200, MSE Train Loss: 0.51732, MSE Val Loss: 0.43949\n",
      "Epoch: 151/200, MSE Train Loss: 0.51722, MSE Val Loss: 0.44006\n",
      "Epoch: 152/200, MSE Train Loss: 0.51744, MSE Val Loss: 0.44165\n",
      "Epoch: 153/200, MSE Train Loss: 0.51581, MSE Val Loss: 0.43992\n",
      "Epoch: 154/200, MSE Train Loss: 0.51598, MSE Val Loss: 0.43894\n",
      "Epoch: 155/200, MSE Train Loss: 0.51592, MSE Val Loss: 0.43981\n",
      "Epoch: 156/200, MSE Train Loss: 0.51774, MSE Val Loss: 0.44009\n",
      "Epoch: 157/200, MSE Train Loss: 0.51636, MSE Val Loss: 0.44\n",
      "Epoch: 158/200, MSE Train Loss: 0.51595, MSE Val Loss: 0.44001\n",
      "Epoch: 159/200, MSE Train Loss: 0.51729, MSE Val Loss: 0.43964\n",
      "Epoch: 160/200, MSE Train Loss: 0.51591, MSE Val Loss: 0.43938\n",
      "Epoch: 161/200, MSE Train Loss: 0.51644, MSE Val Loss: 0.44096\n",
      "Epoch: 162/200, MSE Train Loss: 0.51691, MSE Val Loss: 0.43963\n",
      "Epoch: 163/200, MSE Train Loss: 0.51708, MSE Val Loss: 0.44468\n",
      "Epoch: 164/200, MSE Train Loss: 0.51716, MSE Val Loss: 0.43895\n",
      "Epoch: 165/200, MSE Train Loss: 0.51628, MSE Val Loss: 0.44144\n",
      "Epoch: 166/200, MSE Train Loss: 0.51334, MSE Val Loss: 0.44173\n",
      "Epoch: 167/200, MSE Train Loss: 0.51643, MSE Val Loss: 0.44154\n",
      "Epoch: 168/200, MSE Train Loss: 0.5143, MSE Val Loss: 0.43933\n",
      "Epoch: 169/200, MSE Train Loss: 0.51408, MSE Val Loss: 0.44633\n",
      "Epoch: 170/200, MSE Train Loss: 0.5169, MSE Val Loss: 0.43964\n",
      "Epoch: 171/200, MSE Train Loss: 0.51705, MSE Val Loss: 0.44007\n",
      "Epoch: 172/200, MSE Train Loss: 0.5175, MSE Val Loss: 0.43997\n",
      "Epoch: 173/200, MSE Train Loss: 0.51588, MSE Val Loss: 0.43971\n",
      "Epoch: 174/200, MSE Train Loss: 0.5137, MSE Val Loss: 0.44054\n",
      "Epoch: 175/200, MSE Train Loss: 0.519, MSE Val Loss: 0.43923\n",
      "Epoch: 176/200, MSE Train Loss: 0.51586, MSE Val Loss: 0.43955\n",
      "Epoch: 177/200, MSE Train Loss: 0.51685, MSE Val Loss: 0.44031\n",
      "Epoch: 178/200, MSE Train Loss: 0.51814, MSE Val Loss: 0.44014\n",
      "Epoch: 179/200, MSE Train Loss: 0.5182, MSE Val Loss: 0.43929\n",
      "Epoch: 180/200, MSE Train Loss: 0.51447, MSE Val Loss: 0.43978\n",
      "Epoch: 181/200, MSE Train Loss: 0.5146, MSE Val Loss: 0.43923\n",
      "Epoch: 182/200, MSE Train Loss: 0.5169, MSE Val Loss: 0.43989\n",
      "Epoch: 183/200, MSE Train Loss: 0.51594, MSE Val Loss: 0.4391\n",
      "Epoch: 184/200, MSE Train Loss: 0.51629, MSE Val Loss: 0.4448\n",
      "Epoch: 185/200, MSE Train Loss: 0.51503, MSE Val Loss: 0.43838\n",
      "Epoch: 186/200, MSE Train Loss: 0.51739, MSE Val Loss: 0.44015\n",
      "Epoch: 187/200, MSE Train Loss: 0.51249, MSE Val Loss: 0.44275\n",
      "Epoch: 188/200, MSE Train Loss: 0.5164, MSE Val Loss: 0.44401\n",
      "Epoch: 189/200, MSE Train Loss: 0.51585, MSE Val Loss: 0.44091\n",
      "Epoch: 190/200, MSE Train Loss: 0.51496, MSE Val Loss: 0.44029\n",
      "Epoch: 191/200, MSE Train Loss: 0.51558, MSE Val Loss: 0.43904\n",
      "Epoch: 192/200, MSE Train Loss: 0.5165, MSE Val Loss: 0.43935\n",
      "Epoch: 193/200, MSE Train Loss: 0.51767, MSE Val Loss: 0.44115\n",
      "Epoch: 194/200, MSE Train Loss: 0.51445, MSE Val Loss: 0.43945\n",
      "Epoch: 195/200, MSE Train Loss: 0.51628, MSE Val Loss: 0.43923\n",
      "Epoch: 196/200, MSE Train Loss: 0.5166, MSE Val Loss: 0.44015\n",
      "Epoch: 197/200, MSE Train Loss: 0.51525, MSE Val Loss: 0.43929\n",
      "Epoch: 198/200, MSE Train Loss: 0.51653, MSE Val Loss: 0.43941\n",
      "Epoch: 199/200, MSE Train Loss: 0.51783, MSE Val Loss: 0.44049\n",
      "Epoch: 200/200, MSE Train Loss: 0.51509, MSE Val Loss: 0.44032\n"
     ]
    }
   ],
   "source": [
    "batch_size = 8\n",
    "\n",
    "data_loaders = get_data_dict(data_df=data_df, mean=True, batch_size=batch_size)\n",
    "train_loader = data_loaders[\"train_loader\"]\n",
    "val_loader = data_loaders[\"val_loader\"]\n",
    "\n",
    "emb_size = next(iter(train_loader))[0].shape[-1]\n",
    "\n",
    "model = Simple_Regressor(\n",
    "    emb_size=emb_size, layers=[162], regressor_dropout=8e-4\n",
    ")\n",
    "train_results = train_simple_model(\n",
    "    model=model,\n",
    "    train_loader=train_loader,\n",
    "    val_loader=val_loader,\n",
    "    lr=1e-3,\n",
    "    epochs=200,\n",
    "    batch_size=batch_size,\n",
    "    verbose=True,\n",
    "    early_stopping=True,\n",
    ")"
   ]
  },
  {
   "cell_type": "code",
   "execution_count": 17,
   "metadata": {},
   "outputs": [
    {
     "data": {
      "image/png": "[encoded data removed]",
      "text/plain": [
       "<Figure size 640x480 with 1 Axes>"
      ]
     },
     "metadata": {},
     "output_type": "display_data"
    }
   ],
   "source": [
    "plt.plot(train_results[\"train_loss\"], label=\"Train MSE Loss\")\n",
    "plt.plot(train_results[\"val_loss\"], label=\"Val MSE Loss\")\n",
    "plt.legend()\n",
    "plt.show()"
   ]
  },
  {
   "cell_type": "code",
   "execution_count": 18,
   "metadata": {},
   "outputs": [],
   "source": [
    "preds = []\n",
    "true_energies = []\n",
    "\n",
    "for embeddings, labels in val_loader:\n",
    "\n",
    "    embeddings, labels = embeddings.cuda(), labels.cuda()  \n",
    "    output = model(embeddings)\n",
    "    preds.append(output.tolist())\n",
    "    true_energies.append(labels.tolist())\n",
    "\n",
    "preds = np.array(preds).flatten()\n",
    "true_energies = np.array(true_energies).flatten()"
   ]
  },
  {
   "cell_type": "code",
   "execution_count": 19,
   "metadata": {},
   "outputs": [
    {
     "data": {
      "image/png": "[encoded data removed]",
      "text/plain": [
       "<Figure size 1000x500 with 1 Axes>"
      ]
     },
     "metadata": {},
     "output_type": "display_data"
    }
   ],
   "source": [
    "plt.figure(figsize=(10, 5))\n",
    "plt.hist(preds, bins=100, range=(0,5))\n",
    "plt.title(\"Predictions' energy distribution\")\n",
    "plt.xlabel(\"Energy\")\n",
    "plt.show()"
   ]
  },
  {
   "cell_type": "code",
   "execution_count": 20,
   "metadata": {},
   "outputs": [
    {
     "data": {
      "image/png": "[encoded data removed]",
      "text/plain": [
       "<Figure size 1000x500 with 1 Axes>"
      ]
     },
     "metadata": {},
     "output_type": "display_data"
    }
   ],
   "source": [
    "val_labels = true_energies\n",
    "\n",
    "plt.figure(figsize=(10, 5))\n",
    "plt.hist(val_labels, bins=100, range=(0,5))\n",
    "plt.title(\"Validation labels energy distribution\")\n",
    "plt.xlabel(\"Energy\")\n",
    "plt.show()"
   ]
  },
  {
   "cell_type": "code",
   "execution_count": null,
   "metadata": {},
   "outputs": [],
   "source": []
  }
 ],
 "metadata": {
  "kernelspec": {
   "display_name": "Python 3.10.4 ('energy-prediction')",
   "language": "python",
   "name": "python3"
  },
  "language_info": {
   "codemirror_mode": {
    "name": "ipython",
    "version": 3
   },
   "file_extension": ".py",
   "mimetype": "text/x-python",
   "name": "python",
   "nbconvert_exporter": "python",
   "pygments_lexer": "ipython3",
   "version": "3.10.4"
  },
  "orig_nbformat": 4,
  "vscode": {
   "interpreter": {
    "hash": "2d8ea44dacc84c32c3ffb10f5fa42b465f31145cc9ac97a8028dfa96db72aa4c"
   }
  }
 },
 "nbformat": 4,
 "nbformat_minor": 2
}
