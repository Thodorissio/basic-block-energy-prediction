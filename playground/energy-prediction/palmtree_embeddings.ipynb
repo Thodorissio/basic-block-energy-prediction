{
 "cells": [
  {
   "cell_type": "markdown",
   "metadata": {},
   "source": [
    "# Imports"
   ]
  },
  {
   "cell_type": "code",
   "execution_count": 1,
   "metadata": {},
   "outputs": [],
   "source": [
    "import numpy as np\n",
    "import pandas as pd\n",
    "import matplotlib.pyplot as plt\n",
    "import tqdm\n",
    "import random\n",
    "import sys\n",
    "import os\n",
    "import logging\n",
    "\n",
    "import optuna\n",
    "\n",
    "import torch\n",
    "from torch import nn\n",
    "from torch.utils.data import Dataset, DataLoader\n",
    "\n",
    "from sklearn.metrics import mean_absolute_error, mean_squared_error\n",
    "\n",
    "from typing import Optional\n",
    "\n",
    "sys.path.append(\"../../src\")\n",
    "\n",
    "import embedder\n",
    "import models\n",
    "import utils\n",
    "import dataset"
   ]
  },
  {
   "cell_type": "markdown",
   "metadata": {},
   "source": [
    "# Data"
   ]
  },
  {
   "attachments": {},
   "cell_type": "markdown",
   "metadata": {},
   "source": [
    "We should firstly parse the sample basic block data, or load it from pickle if the parsed data have been saved.\n",
    "The preprocessing steps are based on data analysis done in the data exploration notebook"
   ]
  },
  {
   "cell_type": "code",
   "execution_count": 8,
   "metadata": {},
   "outputs": [],
   "source": [
    "data_files = os.listdir(\"../../dataset/bb_data/\")\n",
    "\n",
    "if \"energy_dataset.pkl\" not in data_files:\n",
    "    result_files = [f for f in os.listdir(\"../../../energy_dataset/\") if f.endswith(\"results\")] \n",
    "    data_df = pd.DataFrame()\n",
    "\n",
    "    for file in result_files:\n",
    "        file_df = utils.read_bb_data(f\"../../../energy_dataset/{file}/breaker_code.txt\", f\"../../../energy_dataset/{file}/breaker_final_energy.txt\")\n",
    "        file_df = utils.preprocess_bb_df(file_df)\n",
    "        data_df = pd.concat([data_df, file_df], ignore_index=True)\n",
    "\n",
    "    data_df[\"bb_embeddings\"] = data_df.bb.apply(lambda x: embedder.encode(x))\n",
    "    data_df.to_pickle(\"../../dataset/bb_data/energy_dataset.pkl\")\n",
    "    \n",
    "else:\n",
    "    data_df = pd.read_pickle(\"../../dataset/bb_data/energy_dataset.pkl\")\n",
    "    if \"bb_embeddings\" not in data_df.columns:\n",
    "        data_df[\"bb_embeddings\"] = data_df.bb.apply(lambda x: embedder.encode(x))\n",
    "        data_df.to_pickle(\"../../dataset/bb_data/energy_dataset.pkl\")"
   ]
  },
  {
   "cell_type": "code",
   "execution_count": 9,
   "metadata": {},
   "outputs": [
    {
     "data": {
      "text/html": [
       "<div>\n",
       "<style scoped>\n",
       "    .dataframe tbody tr th:only-of-type {\n",
       "        vertical-align: middle;\n",
       "    }\n",
       "\n",
       "    .dataframe tbody tr th {\n",
       "        vertical-align: top;\n",
       "    }\n",
       "\n",
       "    .dataframe thead th {\n",
       "        text-align: right;\n",
       "    }\n",
       "</style>\n",
       "<table border=\"1\" class=\"dataframe\">\n",
       "  <thead>\n",
       "    <tr style=\"text-align: right;\">\n",
       "      <th></th>\n",
       "      <th>bb</th>\n",
       "      <th>energy</th>\n",
       "      <th>bb_embeddings</th>\n",
       "    </tr>\n",
       "  </thead>\n",
       "  <tbody>\n",
       "    <tr>\n",
       "      <th>0</th>\n",
       "      <td>[movl $0x0]</td>\n",
       "      <td>0.645165</td>\n",
       "      <td>[[1.0268462, 0.028481035, 2.7335312, 0.5859081...</td>\n",
       "    </tr>\n",
       "    <tr>\n",
       "      <th>1</th>\n",
       "      <td>[callq, pushq %rbp, mov %rsp %rbp]</td>\n",
       "      <td>2.910575</td>\n",
       "      <td>[[0.11681142, -0.7584041, 2.0799158, 0.3227231...</td>\n",
       "    </tr>\n",
       "    <tr>\n",
       "      <th>2</th>\n",
       "      <td>[popq %rbp, retq]</td>\n",
       "      <td>0.997157</td>\n",
       "      <td>[[1.0268458, 0.028480439, 2.7335315, 0.5859076...</td>\n",
       "    </tr>\n",
       "    <tr>\n",
       "      <th>3</th>\n",
       "      <td>[movl $0x0]</td>\n",
       "      <td>0.664772</td>\n",
       "      <td>[[1.0268462, 0.028481035, 2.7335312, 0.5859081...</td>\n",
       "    </tr>\n",
       "    <tr>\n",
       "      <th>4</th>\n",
       "      <td>[cmpl $0x64, jnl 0x2c]</td>\n",
       "      <td>1.400952</td>\n",
       "      <td>[[1.0268458, 0.028480439, 2.7335315, 0.5859076...</td>\n",
       "    </tr>\n",
       "  </tbody>\n",
       "</table>\n",
       "</div>"
      ],
      "text/plain": [
       "                                   bb    energy  \\\n",
       "0                         [movl $0x0]  0.645165   \n",
       "1  [callq, pushq %rbp, mov %rsp %rbp]  2.910575   \n",
       "2                   [popq %rbp, retq]  0.997157   \n",
       "3                         [movl $0x0]  0.664772   \n",
       "4              [cmpl $0x64, jnl 0x2c]  1.400952   \n",
       "\n",
       "                                       bb_embeddings  \n",
       "0  [[1.0268462, 0.028481035, 2.7335312, 0.5859081...  \n",
       "1  [[0.11681142, -0.7584041, 2.0799158, 0.3227231...  \n",
       "2  [[1.0268458, 0.028480439, 2.7335315, 0.5859076...  \n",
       "3  [[1.0268462, 0.028481035, 2.7335312, 0.5859081...  \n",
       "4  [[1.0268458, 0.028480439, 2.7335315, 0.5859076...  "
      ]
     },
     "execution_count": 9,
     "metadata": {},
     "output_type": "execute_result"
    }
   ],
   "source": [
    "data_df.head(5)"
   ]
  },
  {
   "cell_type": "markdown",
   "metadata": {},
   "source": [
    "Pytorch custom dataset"
   ]
  },
  {
   "cell_type": "code",
   "execution_count": 4,
   "metadata": {},
   "outputs": [],
   "source": [
    "def get_data_dict(\n",
    "    data_df: pd.DataFrame,\n",
    "    split: float = 0.9,\n",
    "    mean: bool = False,\n",
    "    batch_size: int = 32,\n",
    "    random_state: Optional[int] = None,\n",
    ") -> dict:\n",
    "\n",
    "    split = 0.9\n",
    "    data_df = data_df.sample(frac=1, random_state=random_state).reset_index(drop=True)\n",
    "    bb_df_train = data_df[: int(split * len(data_df))]\n",
    "    bb_df_val = data_df[int(split * len(data_df)) :]\n",
    "\n",
    "    train_data = dataset.EnergyPredictionDataset(bb_df_train, mean=mean)\n",
    "    if mean:\n",
    "        train_loader = DataLoader(\n",
    "            train_data, batch_size=batch_size, shuffle=False, drop_last=True\n",
    "        )\n",
    "    else:\n",
    "        train_loader = DataLoader(\n",
    "            train_data,\n",
    "            batch_size=batch_size,\n",
    "            shuffle=False,\n",
    "            drop_last=True,\n",
    "            collate_fn=utils.collate_fn,\n",
    "        )\n",
    "\n",
    "    val_data = dataset.EnergyPredictionDataset(bb_df_val, mean=mean)\n",
    "    if mean:\n",
    "        val_loader = DataLoader(\n",
    "            val_data, batch_size=batch_size, shuffle=False, drop_last=True\n",
    "        )\n",
    "    else:\n",
    "        val_loader = DataLoader(\n",
    "            val_data,\n",
    "            batch_size=batch_size,\n",
    "            shuffle=False,\n",
    "            drop_last=True,\n",
    "            collate_fn=utils.collate_fn,\n",
    "        )\n",
    "\n",
    "    data_loaders = {\n",
    "        \"train_loader\": train_loader,\n",
    "        \"val_loader\": val_loader,\n",
    "    }\n",
    "\n",
    "    return data_loaders"
   ]
  },
  {
   "cell_type": "code",
   "execution_count": 7,
   "metadata": {},
   "outputs": [],
   "source": [
    "class EarlyStopper:\n",
    "    def __init__(self, patience: int = 10, min_delta: float = 1e-4):\n",
    "        self.patience = patience\n",
    "        self.min_delta = min_delta\n",
    "        self.counter = 0\n",
    "        self.min_validation_loss = np.inf\n",
    "\n",
    "    def early_stop(self, validation_loss: float):\n",
    "        if validation_loss < self.min_validation_loss - self.min_delta:\n",
    "            self.min_validation_loss = validation_loss\n",
    "            self.counter = 0\n",
    "        else:\n",
    "            self.counter += 1\n",
    "            if self.counter >= self.patience:\n",
    "                return True\n",
    "        return False"
   ]
  },
  {
   "cell_type": "markdown",
   "metadata": {},
   "source": [
    "# LSTM Model"
   ]
  },
  {
   "cell_type": "code",
   "execution_count": 8,
   "metadata": {},
   "outputs": [],
   "source": [
    "class LSTM_Regressor(nn.Module):\n",
    "    def __init__(\n",
    "        self,\n",
    "        embedding_size: int,\n",
    "        hidden_size: int = 16,\n",
    "        num_layers: int = 2,\n",
    "        dense_size: int = 128,\n",
    "        smaller_dense_size: int = 16,\n",
    "        lstm_dropout: float = 0.1,\n",
    "        dense_dropout: float = 0.1,\n",
    "    ) -> None:\n",
    "        super().__init__()\n",
    "\n",
    "        self.num_layers = num_layers\n",
    "        self.hidden_size = hidden_size\n",
    "\n",
    "        if self.num_layers > 1:\n",
    "            lstm_dropout = lstm_dropout\n",
    "        else:\n",
    "            lstm_dropout = 0\n",
    "\n",
    "        self.lstm = nn.LSTM(\n",
    "            input_size=embedding_size,\n",
    "            hidden_size=hidden_size,\n",
    "            num_layers=num_layers,\n",
    "            batch_first=True,\n",
    "            dropout=lstm_dropout,\n",
    "        )\n",
    "\n",
    "        self.dense = nn.Linear(hidden_size, dense_size)\n",
    "        self.dropout = nn.Dropout(dense_dropout)\n",
    "        self.smaller_dense_size = nn.Linear(dense_size, smaller_dense_size)\n",
    "        self.regressor = nn.Linear(smaller_dense_size, 1)\n",
    "\n",
    "    def forward(self, x, hidden):\n",
    "\n",
    "        batch_size = x.size(0)\n",
    "\n",
    "        lstm_out, hidden_state = self.lstm(x, hidden)\n",
    "        lstm_out = lstm_out.contiguous().view(-1, self.hidden_size)\n",
    "\n",
    "        out = self.dense(lstm_out)\n",
    "        out = self.dropout(out)\n",
    "        out = self.smaller_dense_size(out)\n",
    "        out = self.regressor(out)\n",
    "\n",
    "        out = out.view(batch_size, -1)\n",
    "        out = out[:, -1]\n",
    "\n",
    "        return out, hidden_state\n",
    "\n",
    "    def init_hidden(self, batch_size):\n",
    "\n",
    "        hidden = (\n",
    "            torch.zeros((self.num_layers, batch_size, self.hidden_size)).cuda(),\n",
    "            torch.zeros((self.num_layers, batch_size, self.hidden_size)).cuda(),\n",
    "        )\n",
    "\n",
    "        return hidden"
   ]
  },
  {
   "attachments": {},
   "cell_type": "markdown",
   "metadata": {},
   "source": [
    "## Training Function"
   ]
  },
  {
   "cell_type": "code",
   "execution_count": 9,
   "metadata": {},
   "outputs": [],
   "source": [
    "def train_lstm_model(\n",
    "    model: LSTM_Regressor,\n",
    "    train_loader: DataLoader,\n",
    "    val_loader: DataLoader,\n",
    "    lr: float = 1e-2,\n",
    "    batch_size: int = 32,\n",
    "    epochs: int = 100,\n",
    "    verbose: bool = False,\n",
    "    early_stopping: bool = True,\n",
    "    lr_decay: float=0.1,\n",
    "    lr_decay_step: int=10,\n",
    ") -> dict:\n",
    "\n",
    "    if early_stopping:\n",
    "        early_stopper = EarlyStopper(patience=15, min_delta=1e-4)\n",
    "\n",
    "    criterion = nn.RMSELoss()\n",
    "    optimizer = torch.optim.Adam(params=model.parameters(), lr=lr, weight_decay=1e-4)\n",
    "    scheduler = torch.optim.lr_scheduler.StepLR(optimizer=optimizer, step_size=lr_decay_step, gamma=lr_decay)\n",
    "\n",
    "    model.cuda()\n",
    "\n",
    "    train_losses = []\n",
    "    val_losses = []\n",
    "\n",
    "    for epoch in range(epochs):\n",
    "        model.train()\n",
    "        hidden_state = model.init_hidden(batch_size=batch_size)\n",
    "        losses = []\n",
    "        for embeddings, _, labels in train_loader:\n",
    "\n",
    "            embeddings = embeddings.cuda()\n",
    "            labels = labels.cuda()\n",
    "\n",
    "            hidden_state = tuple([each.data for each in hidden_state])\n",
    "\n",
    "            output, hidden_state = model(embeddings, hidden_state)\n",
    "            #We use RRMSE Loss\n",
    "            loss = torch.sqrt(criterion(output.squeeze(), labels.float()) + 1e-8)\n",
    "\n",
    "            optimizer.zero_grad()\n",
    "            loss.backward()\n",
    "\n",
    "            nn.utils.clip_grad_norm_(model.parameters(), max_norm=5)\n",
    "            optimizer.step()\n",
    "            losses.append(loss.item())\n",
    "\n",
    "        val_h = model.init_hidden(batch_size)\n",
    "        val_loss = []\n",
    "        model.eval()\n",
    "        for embeddings, _, labels in val_loader:\n",
    "\n",
    "            # Creating new variables for the hidden state, otherwise\n",
    "            # we'd backprop through the entire training history\n",
    "\n",
    "            embeddings, labels = embeddings.cuda(), labels.cuda()\n",
    "            output, val_h = model(embeddings, val_h)\n",
    "            #We use RRMSE Loss\n",
    "            v_loss = torch.sqrt(criterion(output.squeeze(), labels.float()) + 1e-8)\n",
    "\n",
    "            val_loss.append(v_loss.item())\n",
    "\n",
    "        if verbose:\n",
    "            print(\n",
    "                f\"Epoch: {epoch+1}/{epochs}, RMSE Train Loss: {round(np.mean(losses), 5)}, RMSE Val Loss: {round(np.mean(val_loss), 5)}\"\n",
    "            )\n",
    "\n",
    "        train_losses.append(np.mean(losses))\n",
    "        val_losses.append(np.mean(val_loss))\n",
    "\n",
    "        if early_stopping:\n",
    "            if early_stopper.early_stop(val_losses[-1]):\n",
    "                break\n",
    "        \n",
    "        scheduler.step()\n",
    "        \n",
    "    model_training = {\n",
    "        \"model\": model,\n",
    "        \"train_loss\": train_losses,\n",
    "        \"val_loss\": val_losses,\n",
    "        \"epochs_trained\": epoch,\n",
    "    }\n",
    "\n",
    "    return model_training\n"
   ]
  },
  {
   "attachments": {},
   "cell_type": "markdown",
   "metadata": {},
   "source": [
    "## Optuna Trials"
   ]
  },
  {
   "cell_type": "code",
   "execution_count": 10,
   "metadata": {},
   "outputs": [
    {
     "name": "stderr",
     "output_type": "stream",
     "text": [
      "\u001b[32m[I 2023-01-11 17:07:09,988]\u001b[0m Using an existing study with name 'lstm-regression-study-good-dataset' instead of creating a new one.\u001b[0m\n"
     ]
    },
    {
     "name": "stdout",
     "output_type": "stream",
     "text": [
      "Using an existing study with name 'lstm-regression-study-good-dataset' instead of creating a new one.\n"
     ]
    }
   ],
   "source": [
    "optuna.logging.get_logger(\"optuna\").addHandler(logging.StreamHandler(sys.stdout))\n",
    "study_name = \"lstm-regression-study-good-dataset\"\n",
    "storage_name = f\"sqlite:////Users/thodo/Documents/σχολη/diplomatiki/optuna-studies/lstm-regression-study-good-dataset.db\"\n",
    "study = optuna.create_study(study_name=study_name, storage=storage_name, load_if_exists=True, direction=\"minimize\")\n",
    "study.set_user_attr(\"Loss\", \"RRMSE\")"
   ]
  },
  {
   "cell_type": "code",
   "execution_count": 11,
   "metadata": {},
   "outputs": [
    {
     "name": "stderr",
     "output_type": "stream",
     "text": [
      "\u001b[32m[I 2023-01-11 17:12:55,295]\u001b[0m Trial 32 finished with value: 0.21337113836232355 and parameters: {'lstm_layers': 1, 'hidden_size': 93, 'dense_size': 16, 'smaller_dense_size': 52, 'lstm_dropout': 0.11909909663898159, 'dense_dropout': 0.18111995843881262, 'batch_size_exp': 6, 'learning_rate_exp': -5}. Best is trial 32 with value: 0.21337113836232355.\u001b[0m\n"
     ]
    },
    {
     "name": "stdout",
     "output_type": "stream",
     "text": [
      "Trial 32 finished with value: 0.21337113836232355 and parameters: {'lstm_layers': 1, 'hidden_size': 93, 'dense_size': 16, 'smaller_dense_size': 52, 'lstm_dropout': 0.11909909663898159, 'dense_dropout': 0.18111995843881262, 'batch_size_exp': 6, 'learning_rate_exp': -5}. Best is trial 32 with value: 0.21337113836232355.\n"
     ]
    },
    {
     "name": "stderr",
     "output_type": "stream",
     "text": [
      "\u001b[32m[I 2023-01-11 17:18:40,229]\u001b[0m Trial 33 finished with value: 0.29636003066073446 and parameters: {'lstm_layers': 1, 'hidden_size': 92, 'dense_size': 33, 'smaller_dense_size': 51, 'lstm_dropout': 0.11209963768681745, 'dense_dropout': 0.1800234188414408, 'batch_size_exp': 6, 'learning_rate_exp': -5}. Best is trial 32 with value: 0.21337113836232355.\u001b[0m\n"
     ]
    },
    {
     "name": "stdout",
     "output_type": "stream",
     "text": [
      "Trial 33 finished with value: 0.29636003066073446 and parameters: {'lstm_layers': 1, 'hidden_size': 92, 'dense_size': 33, 'smaller_dense_size': 51, 'lstm_dropout': 0.11209963768681745, 'dense_dropout': 0.1800234188414408, 'batch_size_exp': 6, 'learning_rate_exp': -5}. Best is trial 32 with value: 0.21337113836232355.\n"
     ]
    },
    {
     "name": "stderr",
     "output_type": "stream",
     "text": [
      "\u001b[32m[I 2023-01-11 17:22:05,211]\u001b[0m Trial 34 finished with value: 0.31354569249293385 and parameters: {'lstm_layers': 1, 'hidden_size': 79, 'dense_size': 16, 'smaller_dense_size': 55, 'lstm_dropout': 0.11471579455371783, 'dense_dropout': 0.15500888162632126, 'batch_size_exp': 7, 'learning_rate_exp': -5}. Best is trial 32 with value: 0.21337113836232355.\u001b[0m\n"
     ]
    },
    {
     "name": "stdout",
     "output_type": "stream",
     "text": [
      "Trial 34 finished with value: 0.31354569249293385 and parameters: {'lstm_layers': 1, 'hidden_size': 79, 'dense_size': 16, 'smaller_dense_size': 55, 'lstm_dropout': 0.11471579455371783, 'dense_dropout': 0.15500888162632126, 'batch_size_exp': 7, 'learning_rate_exp': -5}. Best is trial 32 with value: 0.21337113836232355.\n"
     ]
    },
    {
     "name": "stderr",
     "output_type": "stream",
     "text": [
      "\u001b[32m[I 2023-01-11 17:30:15,733]\u001b[0m Trial 35 finished with value: 0.27077956158010397 and parameters: {'lstm_layers': 3, 'hidden_size': 102, 'dense_size': 53, 'smaller_dense_size': 60, 'lstm_dropout': 0.09421058901520478, 'dense_dropout': 0.1542022777151586, 'batch_size_exp': 6, 'learning_rate_exp': -5}. Best is trial 32 with value: 0.21337113836232355.\u001b[0m\n"
     ]
    },
    {
     "name": "stdout",
     "output_type": "stream",
     "text": [
      "Trial 35 finished with value: 0.27077956158010397 and parameters: {'lstm_layers': 3, 'hidden_size': 102, 'dense_size': 53, 'smaller_dense_size': 60, 'lstm_dropout': 0.09421058901520478, 'dense_dropout': 0.1542022777151586, 'batch_size_exp': 6, 'learning_rate_exp': -5}. Best is trial 32 with value: 0.21337113836232355.\n"
     ]
    },
    {
     "name": "stderr",
     "output_type": "stream",
     "text": [
      "\u001b[32m[I 2023-01-11 17:34:21,008]\u001b[0m Trial 36 finished with value: 0.2560680867994533 and parameters: {'lstm_layers': 2, 'hidden_size': 86, 'dense_size': 32, 'smaller_dense_size': 50, 'lstm_dropout': 0.13684462829799693, 'dense_dropout': 0.1855763436064355, 'batch_size_exp': 7, 'learning_rate_exp': -5}. Best is trial 32 with value: 0.21337113836232355.\u001b[0m\n"
     ]
    },
    {
     "name": "stdout",
     "output_type": "stream",
     "text": [
      "Trial 36 finished with value: 0.2560680867994533 and parameters: {'lstm_layers': 2, 'hidden_size': 86, 'dense_size': 32, 'smaller_dense_size': 50, 'lstm_dropout': 0.13684462829799693, 'dense_dropout': 0.1855763436064355, 'batch_size_exp': 7, 'learning_rate_exp': -5}. Best is trial 32 with value: 0.21337113836232355.\n"
     ]
    },
    {
     "name": "stderr",
     "output_type": "stream",
     "text": [
      "\u001b[32m[I 2023-01-11 17:45:18,889]\u001b[0m Trial 37 finished with value: 0.34123300296672876 and parameters: {'lstm_layers': 1, 'hidden_size': 73, 'dense_size': 53, 'smaller_dense_size': 9, 'lstm_dropout': 0.11242033793405955, 'dense_dropout': 0.16169862775090643, 'batch_size_exp': 5, 'learning_rate_exp': -5}. Best is trial 32 with value: 0.21337113836232355.\u001b[0m\n"
     ]
    },
    {
     "name": "stdout",
     "output_type": "stream",
     "text": [
      "Trial 37 finished with value: 0.34123300296672876 and parameters: {'lstm_layers': 1, 'hidden_size': 73, 'dense_size': 53, 'smaller_dense_size': 9, 'lstm_dropout': 0.11242033793405955, 'dense_dropout': 0.16169862775090643, 'batch_size_exp': 5, 'learning_rate_exp': -5}. Best is trial 32 with value: 0.21337113836232355.\n"
     ]
    },
    {
     "name": "stderr",
     "output_type": "stream",
     "text": [
      "\u001b[32m[I 2023-01-11 17:49:19,510]\u001b[0m Trial 38 finished with value: 0.24543867961448781 and parameters: {'lstm_layers': 2, 'hidden_size': 116, 'dense_size': 36, 'smaller_dense_size': 13, 'lstm_dropout': 0.13831489258910976, 'dense_dropout': 0.17823610099398657, 'batch_size_exp': 7, 'learning_rate_exp': -5}. Best is trial 32 with value: 0.21337113836232355.\u001b[0m\n"
     ]
    },
    {
     "name": "stdout",
     "output_type": "stream",
     "text": [
      "Trial 38 finished with value: 0.24543867961448781 and parameters: {'lstm_layers': 2, 'hidden_size': 116, 'dense_size': 36, 'smaller_dense_size': 13, 'lstm_dropout': 0.13831489258910976, 'dense_dropout': 0.17823610099398657, 'batch_size_exp': 7, 'learning_rate_exp': -5}. Best is trial 32 with value: 0.21337113836232355.\n"
     ]
    },
    {
     "name": "stderr",
     "output_type": "stream",
     "text": [
      "\u001b[32m[I 2023-01-11 17:57:16,423]\u001b[0m Trial 39 finished with value: 0.2282278621021439 and parameters: {'lstm_layers': 3, 'hidden_size': 108, 'dense_size': 22, 'smaller_dense_size': 54, 'lstm_dropout': 0.0840118114572441, 'dense_dropout': 0.19046671465124887, 'batch_size_exp': 6, 'learning_rate_exp': -5}. Best is trial 32 with value: 0.21337113836232355.\u001b[0m\n"
     ]
    },
    {
     "name": "stdout",
     "output_type": "stream",
     "text": [
      "Trial 39 finished with value: 0.2282278621021439 and parameters: {'lstm_layers': 3, 'hidden_size': 108, 'dense_size': 22, 'smaller_dense_size': 54, 'lstm_dropout': 0.0840118114572441, 'dense_dropout': 0.19046671465124887, 'batch_size_exp': 6, 'learning_rate_exp': -5}. Best is trial 32 with value: 0.21337113836232355.\n"
     ]
    },
    {
     "name": "stderr",
     "output_type": "stream",
     "text": [
      "\u001b[32m[I 2023-01-11 18:11:02,100]\u001b[0m Trial 40 finished with value: 0.3680569957131925 and parameters: {'lstm_layers': 2, 'hidden_size': 109, 'dense_size': 21, 'smaller_dense_size': 61, 'lstm_dropout': 0.0753834656234898, 'dense_dropout': 0.1993115604735171, 'batch_size_exp': 5, 'learning_rate_exp': -5}. Best is trial 32 with value: 0.21337113836232355.\u001b[0m\n"
     ]
    },
    {
     "name": "stdout",
     "output_type": "stream",
     "text": [
      "Trial 40 finished with value: 0.3680569957131925 and parameters: {'lstm_layers': 2, 'hidden_size': 109, 'dense_size': 21, 'smaller_dense_size': 61, 'lstm_dropout': 0.0753834656234898, 'dense_dropout': 0.1993115604735171, 'batch_size_exp': 5, 'learning_rate_exp': -5}. Best is trial 32 with value: 0.21337113836232355.\n"
     ]
    },
    {
     "name": "stderr",
     "output_type": "stream",
     "text": [
      "\u001b[32m[I 2023-01-11 18:19:24,581]\u001b[0m Trial 41 finished with value: 0.29574974045595703 and parameters: {'lstm_layers': 3, 'hidden_size': 84, 'dense_size': 42, 'smaller_dense_size': 53, 'lstm_dropout': 0.056028834161253815, 'dense_dropout': 0.17083088967270055, 'batch_size_exp': 6, 'learning_rate_exp': -5}. Best is trial 32 with value: 0.21337113836232355.\u001b[0m\n"
     ]
    },
    {
     "name": "stdout",
     "output_type": "stream",
     "text": [
      "Trial 41 finished with value: 0.29574974045595703 and parameters: {'lstm_layers': 3, 'hidden_size': 84, 'dense_size': 42, 'smaller_dense_size': 53, 'lstm_dropout': 0.056028834161253815, 'dense_dropout': 0.17083088967270055, 'batch_size_exp': 6, 'learning_rate_exp': -5}. Best is trial 32 with value: 0.21337113836232355.\n"
     ]
    },
    {
     "name": "stderr",
     "output_type": "stream",
     "text": [
      "\u001b[32m[I 2023-01-11 18:48:37,782]\u001b[0m Trial 42 finished with value: 0.24791035184087298 and parameters: {'lstm_layers': 3, 'hidden_size': 93, 'dense_size': 29, 'smaller_dense_size': 55, 'lstm_dropout': 0.09863524220840231, 'dense_dropout': 0.09211978429202898, 'batch_size_exp': 4, 'learning_rate_exp': -5}. Best is trial 32 with value: 0.21337113836232355.\u001b[0m\n"
     ]
    },
    {
     "name": "stdout",
     "output_type": "stream",
     "text": [
      "Trial 42 finished with value: 0.24791035184087298 and parameters: {'lstm_layers': 3, 'hidden_size': 93, 'dense_size': 29, 'smaller_dense_size': 55, 'lstm_dropout': 0.09863524220840231, 'dense_dropout': 0.09211978429202898, 'batch_size_exp': 4, 'learning_rate_exp': -5}. Best is trial 32 with value: 0.21337113836232355.\n"
     ]
    },
    {
     "name": "stderr",
     "output_type": "stream",
     "text": [
      "\u001b[32m[I 2023-01-11 18:57:33,583]\u001b[0m Trial 43 finished with value: 0.3302144131020588 and parameters: {'lstm_layers': 4, 'hidden_size': 101, 'dense_size': 63, 'smaller_dense_size': 50, 'lstm_dropout': 0.1201564347007582, 'dense_dropout': 0.18844484365261338, 'batch_size_exp': 6, 'learning_rate_exp': -5}. Best is trial 32 with value: 0.21337113836232355.\u001b[0m\n"
     ]
    },
    {
     "name": "stdout",
     "output_type": "stream",
     "text": [
      "Trial 43 finished with value: 0.3302144131020588 and parameters: {'lstm_layers': 4, 'hidden_size': 101, 'dense_size': 63, 'smaller_dense_size': 50, 'lstm_dropout': 0.1201564347007582, 'dense_dropout': 0.18844484365261338, 'batch_size_exp': 6, 'learning_rate_exp': -5}. Best is trial 32 with value: 0.21337113836232355.\n"
     ]
    },
    {
     "name": "stderr",
     "output_type": "stream",
     "text": [
      "\u001b[32m[I 2023-01-11 19:05:12,808]\u001b[0m Trial 44 finished with value: 0.29441995283260064 and parameters: {'lstm_layers': 3, 'hidden_size': 110, 'dense_size': 25, 'smaller_dense_size': 41, 'lstm_dropout': 0.08150587369421342, 'dense_dropout': 0.19228621022777087, 'batch_size_exp': 6, 'learning_rate_exp': -5}. Best is trial 32 with value: 0.21337113836232355.\u001b[0m\n"
     ]
    },
    {
     "name": "stdout",
     "output_type": "stream",
     "text": [
      "Trial 44 finished with value: 0.29441995283260064 and parameters: {'lstm_layers': 3, 'hidden_size': 110, 'dense_size': 25, 'smaller_dense_size': 41, 'lstm_dropout': 0.08150587369421342, 'dense_dropout': 0.19228621022777087, 'batch_size_exp': 6, 'learning_rate_exp': -5}. Best is trial 32 with value: 0.21337113836232355.\n"
     ]
    },
    {
     "name": "stderr",
     "output_type": "stream",
     "text": [
      "\u001b[32m[I 2023-01-11 19:08:52,962]\u001b[0m Trial 45 finished with value: 0.2916075205978225 and parameters: {'lstm_layers': 2, 'hidden_size': 96, 'dense_size': 40, 'smaller_dense_size': 58, 'lstm_dropout': 0.13296449213363773, 'dense_dropout': 0.18104148379891438, 'batch_size_exp': 7, 'learning_rate_exp': -5}. Best is trial 32 with value: 0.21337113836232355.\u001b[0m\n"
     ]
    },
    {
     "name": "stdout",
     "output_type": "stream",
     "text": [
      "Trial 45 finished with value: 0.2916075205978225 and parameters: {'lstm_layers': 2, 'hidden_size': 96, 'dense_size': 40, 'smaller_dense_size': 58, 'lstm_dropout': 0.13296449213363773, 'dense_dropout': 0.18104148379891438, 'batch_size_exp': 7, 'learning_rate_exp': -5}. Best is trial 32 with value: 0.21337113836232355.\n"
     ]
    },
    {
     "name": "stderr",
     "output_type": "stream",
     "text": [
      "\u001b[32m[I 2023-01-11 19:13:45,270]\u001b[0m Trial 46 finished with value: 0.24299858685802012 and parameters: {'lstm_layers': 4, 'hidden_size': 125, 'dense_size': 58, 'smaller_dense_size': 47, 'lstm_dropout': 0.10540107266919822, 'dense_dropout': 0.1595038283959547, 'batch_size_exp': 7, 'learning_rate_exp': -5}. Best is trial 32 with value: 0.21337113836232355.\u001b[0m\n"
     ]
    },
    {
     "name": "stdout",
     "output_type": "stream",
     "text": [
      "Trial 46 finished with value: 0.24299858685802012 and parameters: {'lstm_layers': 4, 'hidden_size': 125, 'dense_size': 58, 'smaller_dense_size': 47, 'lstm_dropout': 0.10540107266919822, 'dense_dropout': 0.1595038283959547, 'batch_size_exp': 7, 'learning_rate_exp': -5}. Best is trial 32 with value: 0.21337113836232355.\n"
     ]
    },
    {
     "name": "stderr",
     "output_type": "stream",
     "text": [
      "\u001b[32m[I 2023-01-11 19:21:10,425]\u001b[0m Trial 47 finished with value: 0.3196763028116787 and parameters: {'lstm_layers': 3, 'hidden_size': 88, 'dense_size': 18, 'smaller_dense_size': 63, 'lstm_dropout': 0.0654587621053574, 'dense_dropout': 0.17478955898002224, 'batch_size_exp': 6, 'learning_rate_exp': -5}. Best is trial 32 with value: 0.21337113836232355.\u001b[0m\n"
     ]
    },
    {
     "name": "stdout",
     "output_type": "stream",
     "text": [
      "Trial 47 finished with value: 0.3196763028116787 and parameters: {'lstm_layers': 3, 'hidden_size': 88, 'dense_size': 18, 'smaller_dense_size': 63, 'lstm_dropout': 0.0654587621053574, 'dense_dropout': 0.17478955898002224, 'batch_size_exp': 6, 'learning_rate_exp': -5}. Best is trial 32 with value: 0.21337113836232355.\n"
     ]
    },
    {
     "name": "stderr",
     "output_type": "stream",
     "text": [
      "\u001b[32m[I 2023-01-11 19:30:03,602]\u001b[0m Trial 48 finished with value: 0.3240773217643009 and parameters: {'lstm_layers': 4, 'hidden_size': 83, 'dense_size': 40, 'smaller_dense_size': 53, 'lstm_dropout': 0.1449530065767326, 'dense_dropout': 0.1902064278871447, 'batch_size_exp': 6, 'learning_rate_exp': -5}. Best is trial 32 with value: 0.21337113836232355.\u001b[0m\n"
     ]
    },
    {
     "name": "stdout",
     "output_type": "stream",
     "text": [
      "Trial 48 finished with value: 0.3240773217643009 and parameters: {'lstm_layers': 4, 'hidden_size': 83, 'dense_size': 40, 'smaller_dense_size': 53, 'lstm_dropout': 0.1449530065767326, 'dense_dropout': 0.1902064278871447, 'batch_size_exp': 6, 'learning_rate_exp': -5}. Best is trial 32 with value: 0.21337113836232355.\n"
     ]
    },
    {
     "name": "stderr",
     "output_type": "stream",
     "text": [
      "\u001b[32m[I 2023-01-11 20:32:14,627]\u001b[0m Trial 49 finished with value: 0.3215731453053707 and parameters: {'lstm_layers': 5, 'hidden_size': 104, 'dense_size': 28, 'smaller_dense_size': 58, 'lstm_dropout': 0.15626934390753902, 'dense_dropout': 0.1471292696084557, 'batch_size_exp': 3, 'learning_rate_exp': -3}. Best is trial 32 with value: 0.21337113836232355.\u001b[0m\n"
     ]
    },
    {
     "name": "stdout",
     "output_type": "stream",
     "text": [
      "Trial 49 finished with value: 0.3215731453053707 and parameters: {'lstm_layers': 5, 'hidden_size': 104, 'dense_size': 28, 'smaller_dense_size': 58, 'lstm_dropout': 0.15626934390753902, 'dense_dropout': 0.1471292696084557, 'batch_size_exp': 3, 'learning_rate_exp': -3}. Best is trial 32 with value: 0.21337113836232355.\n"
     ]
    },
    {
     "name": "stderr",
     "output_type": "stream",
     "text": [
      "\u001b[32m[I 2023-01-11 20:35:26,443]\u001b[0m Trial 50 finished with value: 0.2869332634350833 and parameters: {'lstm_layers': 1, 'hidden_size': 113, 'dense_size': 80, 'smaller_dense_size': 21, 'lstm_dropout': 0.040174797750224416, 'dense_dropout': 0.1282901578719814, 'batch_size_exp': 7, 'learning_rate_exp': -5}. Best is trial 32 with value: 0.21337113836232355.\u001b[0m\n"
     ]
    },
    {
     "name": "stdout",
     "output_type": "stream",
     "text": [
      "Trial 50 finished with value: 0.2869332634350833 and parameters: {'lstm_layers': 1, 'hidden_size': 113, 'dense_size': 80, 'smaller_dense_size': 21, 'lstm_dropout': 0.040174797750224416, 'dense_dropout': 0.1282901578719814, 'batch_size_exp': 7, 'learning_rate_exp': -5}. Best is trial 32 with value: 0.21337113836232355.\n"
     ]
    },
    {
     "name": "stderr",
     "output_type": "stream",
     "text": [
      "\u001b[32m[I 2023-01-11 20:39:43,739]\u001b[0m Trial 51 finished with value: 0.25283634180531783 and parameters: {'lstm_layers': 3, 'hidden_size': 93, 'dense_size': 48, 'smaller_dense_size': 48, 'lstm_dropout': 0.10707643013410972, 'dense_dropout': 0.17299835524181342, 'batch_size_exp': 7, 'learning_rate_exp': -5}. Best is trial 32 with value: 0.21337113836232355.\u001b[0m\n"
     ]
    },
    {
     "name": "stdout",
     "output_type": "stream",
     "text": [
      "Trial 51 finished with value: 0.25283634180531783 and parameters: {'lstm_layers': 3, 'hidden_size': 93, 'dense_size': 48, 'smaller_dense_size': 48, 'lstm_dropout': 0.10707643013410972, 'dense_dropout': 0.17299835524181342, 'batch_size_exp': 7, 'learning_rate_exp': -5}. Best is trial 32 with value: 0.21337113836232355.\n"
     ]
    },
    {
     "name": "stderr",
     "output_type": "stream",
     "text": [
      "\u001b[32m[I 2023-01-11 20:59:04,172]\u001b[0m Trial 52 finished with value: 0.2786480137619419 and parameters: {'lstm_layers': 5, 'hidden_size': 74, 'dense_size': 80, 'smaller_dense_size': 42, 'lstm_dropout': 0.09014759768364934, 'dense_dropout': 0.06582019334436057, 'batch_size_exp': 5, 'learning_rate_exp': -5}. Best is trial 32 with value: 0.21337113836232355.\u001b[0m\n"
     ]
    },
    {
     "name": "stdout",
     "output_type": "stream",
     "text": [
      "Trial 52 finished with value: 0.2786480137619419 and parameters: {'lstm_layers': 5, 'hidden_size': 74, 'dense_size': 80, 'smaller_dense_size': 42, 'lstm_dropout': 0.09014759768364934, 'dense_dropout': 0.06582019334436057, 'batch_size_exp': 5, 'learning_rate_exp': -5}. Best is trial 32 with value: 0.21337113836232355.\n"
     ]
    },
    {
     "name": "stderr",
     "output_type": "stream",
     "text": [
      "\u001b[32m[I 2023-01-11 21:03:52,600]\u001b[0m Trial 53 finished with value: 0.32860806759665995 and parameters: {'lstm_layers': 4, 'hidden_size': 128, 'dense_size': 57, 'smaller_dense_size': 48, 'lstm_dropout': 0.12994766109456726, 'dense_dropout': 0.1588561060939724, 'batch_size_exp': 7, 'learning_rate_exp': -5}. Best is trial 32 with value: 0.21337113836232355.\u001b[0m\n"
     ]
    },
    {
     "name": "stdout",
     "output_type": "stream",
     "text": [
      "Trial 53 finished with value: 0.32860806759665995 and parameters: {'lstm_layers': 4, 'hidden_size': 128, 'dense_size': 57, 'smaller_dense_size': 48, 'lstm_dropout': 0.12994766109456726, 'dense_dropout': 0.1588561060939724, 'batch_size_exp': 7, 'learning_rate_exp': -5}. Best is trial 32 with value: 0.21337113836232355.\n"
     ]
    },
    {
     "name": "stderr",
     "output_type": "stream",
     "text": [
      "\u001b[32m[I 2023-01-11 21:08:40,075]\u001b[0m Trial 54 finished with value: 0.3230460290523136 and parameters: {'lstm_layers': 4, 'hidden_size': 119, 'dense_size': 16, 'smaller_dense_size': 47, 'lstm_dropout': 0.10623486701715751, 'dense_dropout': 0.16812982346550992, 'batch_size_exp': 7, 'learning_rate_exp': -5}. Best is trial 32 with value: 0.21337113836232355.\u001b[0m\n"
     ]
    },
    {
     "name": "stdout",
     "output_type": "stream",
     "text": [
      "Trial 54 finished with value: 0.3230460290523136 and parameters: {'lstm_layers': 4, 'hidden_size': 119, 'dense_size': 16, 'smaller_dense_size': 47, 'lstm_dropout': 0.10623486701715751, 'dense_dropout': 0.16812982346550992, 'batch_size_exp': 7, 'learning_rate_exp': -5}. Best is trial 32 with value: 0.21337113836232355.\n"
     ]
    },
    {
     "name": "stderr",
     "output_type": "stream",
     "text": [
      "\u001b[32m[I 2023-01-11 21:13:29,039]\u001b[0m Trial 55 finished with value: 0.26950424296014447 and parameters: {'lstm_layers': 4, 'hidden_size': 124, 'dense_size': 30, 'smaller_dense_size': 56, 'lstm_dropout': 0.11974947858119854, 'dense_dropout': 0.19344606647899787, 'batch_size_exp': 7, 'learning_rate_exp': -5}. Best is trial 32 with value: 0.21337113836232355.\u001b[0m\n"
     ]
    },
    {
     "name": "stdout",
     "output_type": "stream",
     "text": [
      "Trial 55 finished with value: 0.26950424296014447 and parameters: {'lstm_layers': 4, 'hidden_size': 124, 'dense_size': 30, 'smaller_dense_size': 56, 'lstm_dropout': 0.11974947858119854, 'dense_dropout': 0.19344606647899787, 'batch_size_exp': 7, 'learning_rate_exp': -5}. Best is trial 32 with value: 0.21337113836232355.\n"
     ]
    },
    {
     "name": "stderr",
     "output_type": "stream",
     "text": [
      "\u001b[32m[I 2023-01-11 21:22:11,782]\u001b[0m Trial 56 finished with value: 0.2293597410487778 and parameters: {'lstm_layers': 4, 'hidden_size': 123, 'dense_size': 44, 'smaller_dense_size': 36, 'lstm_dropout': 0.09763930703481544, 'dense_dropout': 0.16419072835372814, 'batch_size_exp': 6, 'learning_rate_exp': -5}. Best is trial 32 with value: 0.21337113836232355.\u001b[0m\n"
     ]
    },
    {
     "name": "stdout",
     "output_type": "stream",
     "text": [
      "Trial 56 finished with value: 0.2293597410487778 and parameters: {'lstm_layers': 4, 'hidden_size': 123, 'dense_size': 44, 'smaller_dense_size': 36, 'lstm_dropout': 0.09763930703481544, 'dense_dropout': 0.16419072835372814, 'batch_size_exp': 6, 'learning_rate_exp': -5}. Best is trial 32 with value: 0.21337113836232355.\n"
     ]
    },
    {
     "name": "stderr",
     "output_type": "stream",
     "text": [
      "\u001b[32m[I 2023-01-11 21:30:58,754]\u001b[0m Trial 57 finished with value: 0.2940933152156718 and parameters: {'lstm_layers': 4, 'hidden_size': 97, 'dense_size': 39, 'smaller_dense_size': 36, 'lstm_dropout': 0.07465968446936563, 'dense_dropout': 0.04044323674764183, 'batch_size_exp': 6, 'learning_rate_exp': -5}. Best is trial 32 with value: 0.21337113836232355.\u001b[0m\n"
     ]
    },
    {
     "name": "stdout",
     "output_type": "stream",
     "text": [
      "Trial 57 finished with value: 0.2940933152156718 and parameters: {'lstm_layers': 4, 'hidden_size': 97, 'dense_size': 39, 'smaller_dense_size': 36, 'lstm_dropout': 0.07465968446936563, 'dense_dropout': 0.04044323674764183, 'batch_size_exp': 6, 'learning_rate_exp': -5}. Best is trial 32 with value: 0.21337113836232355.\n"
     ]
    },
    {
     "name": "stderr",
     "output_type": "stream",
     "text": [
      "\u001b[32m[I 2023-01-11 21:38:36,359]\u001b[0m Trial 58 finished with value: 0.24374412701410406 and parameters: {'lstm_layers': 3, 'hidden_size': 122, 'dense_size': 26, 'smaller_dense_size': 27, 'lstm_dropout': 0.09967208105577882, 'dense_dropout': 0.14867594378259902, 'batch_size_exp': 6, 'learning_rate_exp': -5}. Best is trial 32 with value: 0.21337113836232355.\u001b[0m\n"
     ]
    },
    {
     "name": "stdout",
     "output_type": "stream",
     "text": [
      "Trial 58 finished with value: 0.24374412701410406 and parameters: {'lstm_layers': 3, 'hidden_size': 122, 'dense_size': 26, 'smaller_dense_size': 27, 'lstm_dropout': 0.09967208105577882, 'dense_dropout': 0.14867594378259902, 'batch_size_exp': 6, 'learning_rate_exp': -5}. Best is trial 32 with value: 0.21337113836232355.\n"
     ]
    },
    {
     "name": "stderr",
     "output_type": "stream",
     "text": [
      "\u001b[32m[I 2023-01-11 21:57:50,224]\u001b[0m Trial 59 finished with value: 0.234743251087333 and parameters: {'lstm_layers': 5, 'hidden_size': 113, 'dense_size': 47, 'smaller_dense_size': 17, 'lstm_dropout': 0.16481370236826953, 'dense_dropout': 0.16656913289841396, 'batch_size_exp': 5, 'learning_rate_exp': -5}. Best is trial 32 with value: 0.21337113836232355.\u001b[0m\n"
     ]
    },
    {
     "name": "stdout",
     "output_type": "stream",
     "text": [
      "Trial 59 finished with value: 0.234743251087333 and parameters: {'lstm_layers': 5, 'hidden_size': 113, 'dense_size': 47, 'smaller_dense_size': 17, 'lstm_dropout': 0.16481370236826953, 'dense_dropout': 0.16656913289841396, 'batch_size_exp': 5, 'learning_rate_exp': -5}. Best is trial 32 with value: 0.21337113836232355.\n"
     ]
    },
    {
     "name": "stderr",
     "output_type": "stream",
     "text": [
      "\u001b[32m[I 2023-01-11 22:17:00,927]\u001b[0m Trial 60 finished with value: 0.2704986936102311 and parameters: {'lstm_layers': 5, 'hidden_size': 113, 'dense_size': 43, 'smaller_dense_size': 17, 'lstm_dropout': 0.1861890619091057, 'dense_dropout': 0.16368621087728508, 'batch_size_exp': 5, 'learning_rate_exp': -5}. Best is trial 32 with value: 0.21337113836232355.\u001b[0m\n"
     ]
    },
    {
     "name": "stdout",
     "output_type": "stream",
     "text": [
      "Trial 60 finished with value: 0.2704986936102311 and parameters: {'lstm_layers': 5, 'hidden_size': 113, 'dense_size': 43, 'smaller_dense_size': 17, 'lstm_dropout': 0.1861890619091057, 'dense_dropout': 0.16368621087728508, 'batch_size_exp': 5, 'learning_rate_exp': -5}. Best is trial 32 with value: 0.21337113836232355.\n"
     ]
    },
    {
     "name": "stderr",
     "output_type": "stream",
     "text": [
      "\u001b[32m[I 2023-01-11 22:36:15,807]\u001b[0m Trial 61 finished with value: 0.3216272039149982 and parameters: {'lstm_layers': 5, 'hidden_size': 105, 'dense_size': 104, 'smaller_dense_size': 15, 'lstm_dropout': 0.1628235937360239, 'dense_dropout': 0.1364162142179647, 'batch_size_exp': 5, 'learning_rate_exp': -3}. Best is trial 32 with value: 0.21337113836232355.\u001b[0m\n"
     ]
    },
    {
     "name": "stdout",
     "output_type": "stream",
     "text": [
      "Trial 61 finished with value: 0.3216272039149982 and parameters: {'lstm_layers': 5, 'hidden_size': 105, 'dense_size': 104, 'smaller_dense_size': 15, 'lstm_dropout': 0.1628235937360239, 'dense_dropout': 0.1364162142179647, 'batch_size_exp': 5, 'learning_rate_exp': -3}. Best is trial 32 with value: 0.21337113836232355.\n"
     ]
    },
    {
     "name": "stderr",
     "output_type": "stream",
     "text": [
      "\u001b[32m[I 2023-01-11 23:00:07,954]\u001b[0m Trial 62 finished with value: 0.41668052864830485 and parameters: {'lstm_layers': 2, 'hidden_size': 112, 'dense_size': 182, 'smaller_dense_size': 12, 'lstm_dropout': 0.1747713531956665, 'dense_dropout': 0.17796277843934283, 'batch_size_exp': 4, 'learning_rate_exp': -5}. Best is trial 32 with value: 0.21337113836232355.\u001b[0m\n"
     ]
    },
    {
     "name": "stdout",
     "output_type": "stream",
     "text": [
      "Trial 62 finished with value: 0.41668052864830485 and parameters: {'lstm_layers': 2, 'hidden_size': 112, 'dense_size': 182, 'smaller_dense_size': 12, 'lstm_dropout': 0.1747713531956665, 'dense_dropout': 0.17796277843934283, 'batch_size_exp': 4, 'learning_rate_exp': -5}. Best is trial 32 with value: 0.21337113836232355.\n"
     ]
    },
    {
     "name": "stderr",
     "output_type": "stream",
     "text": [
      "\u001b[32m[I 2023-01-11 23:08:54,487]\u001b[0m Trial 63 finished with value: 0.2838246508994523 and parameters: {'lstm_layers': 4, 'hidden_size': 98, 'dense_size': 64, 'smaller_dense_size': 23, 'lstm_dropout': 0.18512322036632692, 'dense_dropout': 0.18296023495310973, 'batch_size_exp': 6, 'learning_rate_exp': -5}. Best is trial 32 with value: 0.21337113836232355.\u001b[0m\n"
     ]
    },
    {
     "name": "stdout",
     "output_type": "stream",
     "text": [
      "Trial 63 finished with value: 0.2838246508994523 and parameters: {'lstm_layers': 4, 'hidden_size': 98, 'dense_size': 64, 'smaller_dense_size': 23, 'lstm_dropout': 0.18512322036632692, 'dense_dropout': 0.18296023495310973, 'batch_size_exp': 6, 'learning_rate_exp': -5}. Best is trial 32 with value: 0.21337113836232355.\n"
     ]
    },
    {
     "name": "stderr",
     "output_type": "stream",
     "text": [
      "\u001b[32m[I 2023-01-11 23:27:59,420]\u001b[0m Trial 64 finished with value: 0.35778231260137283 and parameters: {'lstm_layers': 5, 'hidden_size': 106, 'dense_size': 24, 'smaller_dense_size': 20, 'lstm_dropout': 0.19300468068443383, 'dense_dropout': 0.167611972493904, 'batch_size_exp': 5, 'learning_rate_exp': -5}. Best is trial 32 with value: 0.21337113836232355.\u001b[0m\n"
     ]
    },
    {
     "name": "stdout",
     "output_type": "stream",
     "text": [
      "Trial 64 finished with value: 0.35778231260137283 and parameters: {'lstm_layers': 5, 'hidden_size': 106, 'dense_size': 24, 'smaller_dense_size': 20, 'lstm_dropout': 0.19300468068443383, 'dense_dropout': 0.167611972493904, 'batch_size_exp': 5, 'learning_rate_exp': -5}. Best is trial 32 with value: 0.21337113836232355.\n"
     ]
    },
    {
     "name": "stderr",
     "output_type": "stream",
     "text": [
      "\u001b[32m[I 2023-01-11 23:35:33,525]\u001b[0m Trial 65 finished with value: 0.27835051452412324 and parameters: {'lstm_layers': 3, 'hidden_size': 92, 'dense_size': 48, 'smaller_dense_size': 52, 'lstm_dropout': 0.1437844630474172, 'dense_dropout': 0.19388204014014804, 'batch_size_exp': 6, 'learning_rate_exp': -5}. Best is trial 32 with value: 0.21337113836232355.\u001b[0m\n"
     ]
    },
    {
     "name": "stdout",
     "output_type": "stream",
     "text": [
      "Trial 65 finished with value: 0.27835051452412324 and parameters: {'lstm_layers': 3, 'hidden_size': 92, 'dense_size': 48, 'smaller_dense_size': 52, 'lstm_dropout': 0.1437844630474172, 'dense_dropout': 0.19388204014014804, 'batch_size_exp': 6, 'learning_rate_exp': -5}. Best is trial 32 with value: 0.21337113836232355.\n"
     ]
    },
    {
     "name": "stderr",
     "output_type": "stream",
     "text": [
      "\u001b[32m[I 2023-01-11 23:52:24,534]\u001b[0m Trial 66 finished with value: 0.3330082348615363 and parameters: {'lstm_layers': 4, 'hidden_size': 116, 'dense_size': 34, 'smaller_dense_size': 32, 'lstm_dropout': 0.17066534924787943, 'dense_dropout': 0.18523607443488174, 'batch_size_exp': 5, 'learning_rate_exp': -5}. Best is trial 32 with value: 0.21337113836232355.\u001b[0m\n"
     ]
    },
    {
     "name": "stdout",
     "output_type": "stream",
     "text": [
      "Trial 66 finished with value: 0.3330082348615363 and parameters: {'lstm_layers': 4, 'hidden_size': 116, 'dense_size': 34, 'smaller_dense_size': 32, 'lstm_dropout': 0.17066534924787943, 'dense_dropout': 0.18523607443488174, 'batch_size_exp': 5, 'learning_rate_exp': -5}. Best is trial 32 with value: 0.21337113836232355.\n"
     ]
    },
    {
     "name": "stderr",
     "output_type": "stream",
     "text": [
      "\u001b[32m[I 2023-01-12 00:02:16,114]\u001b[0m Trial 67 finished with value: 0.32746152097688 and parameters: {'lstm_layers': 5, 'hidden_size': 70, 'dense_size': 73, 'smaller_dense_size': 25, 'lstm_dropout': 0.15139788954560762, 'dense_dropout': 0.17604214730935444, 'batch_size_exp': 6, 'learning_rate_exp': -5}. Best is trial 32 with value: 0.21337113836232355.\u001b[0m\n"
     ]
    },
    {
     "name": "stdout",
     "output_type": "stream",
     "text": [
      "Trial 67 finished with value: 0.32746152097688 and parameters: {'lstm_layers': 5, 'hidden_size': 70, 'dense_size': 73, 'smaller_dense_size': 25, 'lstm_dropout': 0.15139788954560762, 'dense_dropout': 0.17604214730935444, 'batch_size_exp': 6, 'learning_rate_exp': -5}. Best is trial 32 with value: 0.21337113836232355.\n"
     ]
    },
    {
     "name": "stderr",
     "output_type": "stream",
     "text": [
      "\u001b[32m[I 2023-01-12 00:10:58,918]\u001b[0m Trial 68 finished with value: 0.3316787629223922 and parameters: {'lstm_layers': 4, 'hidden_size': 65, 'dense_size': 24, 'smaller_dense_size': 18, 'lstm_dropout': 0.0839936298263795, 'dense_dropout': 0.15110977230130038, 'batch_size_exp': 6, 'learning_rate_exp': -5}. Best is trial 32 with value: 0.21337113836232355.\u001b[0m\n"
     ]
    },
    {
     "name": "stdout",
     "output_type": "stream",
     "text": [
      "Trial 68 finished with value: 0.3316787629223922 and parameters: {'lstm_layers': 4, 'hidden_size': 65, 'dense_size': 24, 'smaller_dense_size': 18, 'lstm_dropout': 0.0839936298263795, 'dense_dropout': 0.15110977230130038, 'batch_size_exp': 6, 'learning_rate_exp': -5}. Best is trial 32 with value: 0.21337113836232355.\n"
     ]
    },
    {
     "name": "stderr",
     "output_type": "stream",
     "text": [
      "\u001b[32m[I 2023-01-12 00:39:28,485]\u001b[0m Trial 69 finished with value: 0.30900453147645907 and parameters: {'lstm_layers': 3, 'hidden_size': 59, 'dense_size': 91, 'smaller_dense_size': 11, 'lstm_dropout': 0.12230607147817822, 'dense_dropout': 0.1942456743649601, 'batch_size_exp': 4, 'learning_rate_exp': -4}. Best is trial 32 with value: 0.21337113836232355.\u001b[0m\n"
     ]
    },
    {
     "name": "stdout",
     "output_type": "stream",
     "text": [
      "Trial 69 finished with value: 0.30900453147645907 and parameters: {'lstm_layers': 3, 'hidden_size': 59, 'dense_size': 91, 'smaller_dense_size': 11, 'lstm_dropout': 0.12230607147817822, 'dense_dropout': 0.1942456743649601, 'batch_size_exp': 4, 'learning_rate_exp': -4}. Best is trial 32 with value: 0.21337113836232355.\n"
     ]
    },
    {
     "name": "stderr",
     "output_type": "stream",
     "text": [
      "\u001b[32m[I 2023-01-12 00:51:46,753]\u001b[0m Trial 70 finished with value: 0.24948284888397093 and parameters: {'lstm_layers': 2, 'hidden_size': 80, 'dense_size': 143, 'smaller_dense_size': 8, 'lstm_dropout': 0.09330305314633403, 'dense_dropout': 0.16467753162581414, 'batch_size_exp': 5, 'learning_rate_exp': -5}. Best is trial 32 with value: 0.21337113836232355.\u001b[0m\n"
     ]
    },
    {
     "name": "stdout",
     "output_type": "stream",
     "text": [
      "Trial 70 finished with value: 0.24948284888397093 and parameters: {'lstm_layers': 2, 'hidden_size': 80, 'dense_size': 143, 'smaller_dense_size': 8, 'lstm_dropout': 0.09330305314633403, 'dense_dropout': 0.16467753162581414, 'batch_size_exp': 5, 'learning_rate_exp': -5}. Best is trial 32 with value: 0.21337113836232355.\n"
     ]
    },
    {
     "name": "stderr",
     "output_type": "stream",
     "text": [
      "\u001b[32m[I 2023-01-12 01:01:37,632]\u001b[0m Trial 71 finished with value: 0.28082327205030355 and parameters: {'lstm_layers': 5, 'hidden_size': 120, 'dense_size': 16, 'smaller_dense_size': 14, 'lstm_dropout': 0.11682708938601391, 'dense_dropout': 0.19939300093709986, 'batch_size_exp': 6, 'learning_rate_exp': -5}. Best is trial 32 with value: 0.21337113836232355.\u001b[0m\n"
     ]
    },
    {
     "name": "stdout",
     "output_type": "stream",
     "text": [
      "Trial 71 finished with value: 0.28082327205030355 and parameters: {'lstm_layers': 5, 'hidden_size': 120, 'dense_size': 16, 'smaller_dense_size': 14, 'lstm_dropout': 0.11682708938601391, 'dense_dropout': 0.19939300093709986, 'batch_size_exp': 6, 'learning_rate_exp': -5}. Best is trial 32 with value: 0.21337113836232355.\n"
     ]
    },
    {
     "name": "stderr",
     "output_type": "stream",
     "text": [
      "\u001b[32m[I 2023-01-12 01:16:09,481]\u001b[0m Trial 72 finished with value: 0.2471281737629054 and parameters: {'lstm_layers': 3, 'hidden_size': 107, 'dense_size': 53, 'smaller_dense_size': 56, 'lstm_dropout': 0.1288271878736032, 'dense_dropout': 0.1855588791230345, 'batch_size_exp': 5, 'learning_rate_exp': -4}. Best is trial 32 with value: 0.21337113836232355.\u001b[0m\n"
     ]
    },
    {
     "name": "stdout",
     "output_type": "stream",
     "text": [
      "Trial 72 finished with value: 0.2471281737629054 and parameters: {'lstm_layers': 3, 'hidden_size': 107, 'dense_size': 53, 'smaller_dense_size': 56, 'lstm_dropout': 0.1288271878736032, 'dense_dropout': 0.1855588791230345, 'batch_size_exp': 5, 'learning_rate_exp': -4}. Best is trial 32 with value: 0.21337113836232355.\n"
     ]
    },
    {
     "name": "stderr",
     "output_type": "stream",
     "text": [
      "\u001b[32m[I 2023-01-12 01:21:03,175]\u001b[0m Trial 73 finished with value: 0.2503717287498362 and parameters: {'lstm_layers': 4, 'hidden_size': 122, 'dense_size': 60, 'smaller_dense_size': 43, 'lstm_dropout': 0.10681650284364239, 'dense_dropout': 0.15833338948393774, 'batch_size_exp': 7, 'learning_rate_exp': -5}. Best is trial 32 with value: 0.21337113836232355.\u001b[0m\n"
     ]
    },
    {
     "name": "stdout",
     "output_type": "stream",
     "text": [
      "Trial 73 finished with value: 0.2503717287498362 and parameters: {'lstm_layers': 4, 'hidden_size': 122, 'dense_size': 60, 'smaller_dense_size': 43, 'lstm_dropout': 0.10681650284364239, 'dense_dropout': 0.15833338948393774, 'batch_size_exp': 7, 'learning_rate_exp': -5}. Best is trial 32 with value: 0.21337113836232355.\n"
     ]
    },
    {
     "name": "stderr",
     "output_type": "stream",
     "text": [
      "\u001b[32m[I 2023-01-12 01:25:53,292]\u001b[0m Trial 74 finished with value: 0.30824047677657185 and parameters: {'lstm_layers': 4, 'hidden_size': 125, 'dense_size': 33, 'smaller_dense_size': 50, 'lstm_dropout': 0.09865285325878356, 'dense_dropout': 0.14349794314588452, 'batch_size_exp': 7, 'learning_rate_exp': -5}. Best is trial 32 with value: 0.21337113836232355.\u001b[0m\n"
     ]
    },
    {
     "name": "stdout",
     "output_type": "stream",
     "text": [
      "Trial 74 finished with value: 0.30824047677657185 and parameters: {'lstm_layers': 4, 'hidden_size': 125, 'dense_size': 33, 'smaller_dense_size': 50, 'lstm_dropout': 0.09865285325878356, 'dense_dropout': 0.14349794314588452, 'batch_size_exp': 7, 'learning_rate_exp': -5}. Best is trial 32 with value: 0.21337113836232355.\n"
     ]
    },
    {
     "name": "stderr",
     "output_type": "stream",
     "text": [
      "\u001b[32m[I 2023-01-12 01:30:46,542]\u001b[0m Trial 75 finished with value: 0.19948927619877985 and parameters: {'lstm_layers': 4, 'hidden_size': 88, 'dense_size': 45, 'smaller_dense_size': 62, 'lstm_dropout': 0.11000544989835763, 'dense_dropout': 0.16872507347217458, 'batch_size_exp': 7, 'learning_rate_exp': -5}. Best is trial 75 with value: 0.19948927619877985.\u001b[0m\n"
     ]
    },
    {
     "name": "stdout",
     "output_type": "stream",
     "text": [
      "Trial 75 finished with value: 0.19948927619877985 and parameters: {'lstm_layers': 4, 'hidden_size': 88, 'dense_size': 45, 'smaller_dense_size': 62, 'lstm_dropout': 0.11000544989835763, 'dense_dropout': 0.16872507347217458, 'batch_size_exp': 7, 'learning_rate_exp': -5}. Best is trial 75 with value: 0.19948927619877985.\n"
     ]
    },
    {
     "name": "stderr",
     "output_type": "stream",
     "text": [
      "\u001b[32m[I 2023-01-12 01:35:42,390]\u001b[0m Trial 76 finished with value: 0.27820097523577075 and parameters: {'lstm_layers': 4, 'hidden_size': 88, 'dense_size': 47, 'smaller_dense_size': 62, 'lstm_dropout': 0.11065649750842964, 'dense_dropout': 0.1702465484893889, 'batch_size_exp': 7, 'learning_rate_exp': -5}. Best is trial 75 with value: 0.19948927619877985.\u001b[0m\n"
     ]
    },
    {
     "name": "stdout",
     "output_type": "stream",
     "text": [
      "Trial 76 finished with value: 0.27820097523577075 and parameters: {'lstm_layers': 4, 'hidden_size': 88, 'dense_size': 47, 'smaller_dense_size': 62, 'lstm_dropout': 0.11065649750842964, 'dense_dropout': 0.1702465484893889, 'batch_size_exp': 7, 'learning_rate_exp': -5}. Best is trial 75 with value: 0.19948927619877985.\n"
     ]
    },
    {
     "name": "stderr",
     "output_type": "stream",
     "text": [
      "\u001b[32m[I 2023-01-12 01:44:31,593]\u001b[0m Trial 77 finished with value: 0.22555633371367173 and parameters: {'lstm_layers': 4, 'hidden_size': 78, 'dense_size': 24, 'smaller_dense_size': 59, 'lstm_dropout': 0.18059001441111788, 'dense_dropout': 0.17894442886800824, 'batch_size_exp': 6, 'learning_rate_exp': -5}. Best is trial 75 with value: 0.19948927619877985.\u001b[0m\n"
     ]
    },
    {
     "name": "stdout",
     "output_type": "stream",
     "text": [
      "Trial 77 finished with value: 0.22555633371367173 and parameters: {'lstm_layers': 4, 'hidden_size': 78, 'dense_size': 24, 'smaller_dense_size': 59, 'lstm_dropout': 0.18059001441111788, 'dense_dropout': 0.17894442886800824, 'batch_size_exp': 6, 'learning_rate_exp': -5}. Best is trial 75 with value: 0.19948927619877985.\n"
     ]
    },
    {
     "name": "stderr",
     "output_type": "stream",
     "text": [
      "\u001b[32m[I 2023-01-12 01:53:17,758]\u001b[0m Trial 78 finished with value: 0.34138360729112344 and parameters: {'lstm_layers': 4, 'hidden_size': 78, 'dense_size': 254, 'smaller_dense_size': 59, 'lstm_dropout': 0.1798774691737901, 'dense_dropout': 0.17893957115782191, 'batch_size_exp': 6, 'learning_rate_exp': -5}. Best is trial 75 with value: 0.19948927619877985.\u001b[0m\n"
     ]
    },
    {
     "name": "stdout",
     "output_type": "stream",
     "text": [
      "Trial 78 finished with value: 0.34138360729112344 and parameters: {'lstm_layers': 4, 'hidden_size': 78, 'dense_size': 254, 'smaller_dense_size': 59, 'lstm_dropout': 0.1798774691737901, 'dense_dropout': 0.17893957115782191, 'batch_size_exp': 6, 'learning_rate_exp': -5}. Best is trial 75 with value: 0.19948927619877985.\n"
     ]
    },
    {
     "name": "stderr",
     "output_type": "stream",
     "text": [
      "\u001b[32m[I 2023-01-12 02:00:59,385]\u001b[0m Trial 79 finished with value: 0.2089516859063331 and parameters: {'lstm_layers': 3, 'hidden_size': 83, 'dense_size': 23, 'smaller_dense_size': 62, 'lstm_dropout': 0.19960135761095857, 'dense_dropout': 0.17390455934631835, 'batch_size_exp': 6, 'learning_rate_exp': -5}. Best is trial 75 with value: 0.19948927619877985.\u001b[0m\n"
     ]
    },
    {
     "name": "stdout",
     "output_type": "stream",
     "text": [
      "Trial 79 finished with value: 0.2089516859063331 and parameters: {'lstm_layers': 3, 'hidden_size': 83, 'dense_size': 23, 'smaller_dense_size': 62, 'lstm_dropout': 0.19960135761095857, 'dense_dropout': 0.17390455934631835, 'batch_size_exp': 6, 'learning_rate_exp': -5}. Best is trial 75 with value: 0.19948927619877985.\n"
     ]
    },
    {
     "name": "stderr",
     "output_type": "stream",
     "text": [
      "\u001b[32m[I 2023-01-12 02:10:55,766]\u001b[0m Trial 80 finished with value: 0.3343178623301141 and parameters: {'lstm_layers': 5, 'hidden_size': 82, 'dense_size': 36, 'smaller_dense_size': 62, 'lstm_dropout': 0.19890600172687584, 'dense_dropout': 0.17325824169625686, 'batch_size_exp': 6, 'learning_rate_exp': -5}. Best is trial 75 with value: 0.19948927619877985.\u001b[0m\n"
     ]
    },
    {
     "name": "stdout",
     "output_type": "stream",
     "text": [
      "Trial 80 finished with value: 0.3343178623301141 and parameters: {'lstm_layers': 5, 'hidden_size': 82, 'dense_size': 36, 'smaller_dense_size': 62, 'lstm_dropout': 0.19890600172687584, 'dense_dropout': 0.17325824169625686, 'batch_size_exp': 6, 'learning_rate_exp': -5}. Best is trial 75 with value: 0.19948927619877985.\n"
     ]
    },
    {
     "name": "stderr",
     "output_type": "stream",
     "text": [
      "\u001b[32m[I 2023-01-12 02:18:29,709]\u001b[0m Trial 81 finished with value: 0.31401252297355847 and parameters: {'lstm_layers': 3, 'hidden_size': 100, 'dense_size': 23, 'smaller_dense_size': 57, 'lstm_dropout': 0.18286496659981571, 'dense_dropout': 0.1550124857991338, 'batch_size_exp': 6, 'learning_rate_exp': -5}. Best is trial 75 with value: 0.19948927619877985.\u001b[0m\n"
     ]
    },
    {
     "name": "stdout",
     "output_type": "stream",
     "text": [
      "Trial 81 finished with value: 0.31401252297355847 and parameters: {'lstm_layers': 3, 'hidden_size': 100, 'dense_size': 23, 'smaller_dense_size': 57, 'lstm_dropout': 0.18286496659981571, 'dense_dropout': 0.1550124857991338, 'batch_size_exp': 6, 'learning_rate_exp': -5}. Best is trial 75 with value: 0.19948927619877985.\n"
     ]
    },
    {
     "name": "stderr",
     "output_type": "stream",
     "text": [
      "\u001b[32m[I 2023-01-12 02:27:15,413]\u001b[0m Trial 82 finished with value: 0.37250229650560546 and parameters: {'lstm_layers': 4, 'hidden_size': 87, 'dense_size': 239, 'smaller_dense_size': 63, 'lstm_dropout': 0.18976197434744238, 'dense_dropout': 0.12421571745546764, 'batch_size_exp': 6, 'learning_rate_exp': -5}. Best is trial 75 with value: 0.19948927619877985.\u001b[0m\n"
     ]
    },
    {
     "name": "stdout",
     "output_type": "stream",
     "text": [
      "Trial 82 finished with value: 0.37250229650560546 and parameters: {'lstm_layers': 4, 'hidden_size': 87, 'dense_size': 239, 'smaller_dense_size': 63, 'lstm_dropout': 0.18976197434744238, 'dense_dropout': 0.12421571745546764, 'batch_size_exp': 6, 'learning_rate_exp': -5}. Best is trial 75 with value: 0.19948927619877985.\n"
     ]
    },
    {
     "name": "stderr",
     "output_type": "stream",
     "text": [
      "\u001b[32m[I 2023-01-12 02:34:51,562]\u001b[0m Trial 83 finished with value: 0.3094208192299394 and parameters: {'lstm_layers': 3, 'hidden_size': 90, 'dense_size': 22, 'smaller_dense_size': 60, 'lstm_dropout': 0.1753700378785787, 'dense_dropout': 0.16369712122235297, 'batch_size_exp': 6, 'learning_rate_exp': -5}. Best is trial 75 with value: 0.19948927619877985.\u001b[0m\n"
     ]
    },
    {
     "name": "stdout",
     "output_type": "stream",
     "text": [
      "Trial 83 finished with value: 0.3094208192299394 and parameters: {'lstm_layers': 3, 'hidden_size': 90, 'dense_size': 22, 'smaller_dense_size': 60, 'lstm_dropout': 0.1753700378785787, 'dense_dropout': 0.16369712122235297, 'batch_size_exp': 6, 'learning_rate_exp': -5}. Best is trial 75 with value: 0.19948927619877985.\n"
     ]
    },
    {
     "name": "stderr",
     "output_type": "stream",
     "text": [
      "\u001b[32m[I 2023-01-12 02:42:29,450]\u001b[0m Trial 84 finished with value: 0.33093227270771475 and parameters: {'lstm_layers': 3, 'hidden_size': 95, 'dense_size': 31, 'smaller_dense_size': 64, 'lstm_dropout': 0.1683398317853094, 'dense_dropout': 0.18754695222497578, 'batch_size_exp': 6, 'learning_rate_exp': -5}. Best is trial 75 with value: 0.19948927619877985.\u001b[0m\n"
     ]
    },
    {
     "name": "stdout",
     "output_type": "stream",
     "text": [
      "Trial 84 finished with value: 0.33093227270771475 and parameters: {'lstm_layers': 3, 'hidden_size': 95, 'dense_size': 31, 'smaller_dense_size': 64, 'lstm_dropout': 0.1683398317853094, 'dense_dropout': 0.18754695222497578, 'batch_size_exp': 6, 'learning_rate_exp': -5}. Best is trial 75 with value: 0.19948927619877985.\n"
     ]
    },
    {
     "name": "stderr",
     "output_type": "stream",
     "text": [
      "\u001b[32m[I 2023-01-12 02:50:09,430]\u001b[0m Trial 85 finished with value: 0.2695267975111218 and parameters: {'lstm_layers': 3, 'hidden_size': 83, 'dense_size': 39, 'smaller_dense_size': 61, 'lstm_dropout': 0.16017735380456588, 'dense_dropout': 0.1781009752105466, 'batch_size_exp': 6, 'learning_rate_exp': -5}. Best is trial 75 with value: 0.19948927619877985.\u001b[0m\n"
     ]
    },
    {
     "name": "stdout",
     "output_type": "stream",
     "text": [
      "Trial 85 finished with value: 0.2695267975111218 and parameters: {'lstm_layers': 3, 'hidden_size': 83, 'dense_size': 39, 'smaller_dense_size': 61, 'lstm_dropout': 0.16017735380456588, 'dense_dropout': 0.1781009752105466, 'batch_size_exp': 6, 'learning_rate_exp': -5}. Best is trial 75 with value: 0.19948927619877985.\n"
     ]
    },
    {
     "name": "stderr",
     "output_type": "stream",
     "text": [
      "\u001b[32m[I 2023-01-12 03:04:47,461]\u001b[0m Trial 86 finished with value: 0.3119832251922808 and parameters: {'lstm_layers': 3, 'hidden_size': 76, 'dense_size': 44, 'smaller_dense_size': 54, 'lstm_dropout': 0.19593002438076823, 'dense_dropout': 0.10578109075404282, 'batch_size_exp': 5, 'learning_rate_exp': -5}. Best is trial 75 with value: 0.19948927619877985.\u001b[0m\n"
     ]
    },
    {
     "name": "stdout",
     "output_type": "stream",
     "text": [
      "Trial 86 finished with value: 0.3119832251922808 and parameters: {'lstm_layers': 3, 'hidden_size': 76, 'dense_size': 44, 'smaller_dense_size': 54, 'lstm_dropout': 0.19593002438076823, 'dense_dropout': 0.10578109075404282, 'batch_size_exp': 5, 'learning_rate_exp': -5}. Best is trial 75 with value: 0.19948927619877985.\n"
     ]
    },
    {
     "name": "stderr",
     "output_type": "stream",
     "text": [
      "\u001b[32m[I 2023-01-12 03:10:05,035]\u001b[0m Trial 87 finished with value: 0.2565225305802682 and parameters: {'lstm_layers': 1, 'hidden_size': 90, 'dense_size': 21, 'smaller_dense_size': 59, 'lstm_dropout': 0.19321533699790175, 'dense_dropout': 0.1692691269054292, 'batch_size_exp': 6, 'learning_rate_exp': -5}. Best is trial 75 with value: 0.19948927619877985.\u001b[0m\n"
     ]
    },
    {
     "name": "stdout",
     "output_type": "stream",
     "text": [
      "Trial 87 finished with value: 0.2565225305802682 and parameters: {'lstm_layers': 1, 'hidden_size': 90, 'dense_size': 21, 'smaller_dense_size': 59, 'lstm_dropout': 0.19321533699790175, 'dense_dropout': 0.1692691269054292, 'batch_size_exp': 6, 'learning_rate_exp': -5}. Best is trial 75 with value: 0.19948927619877985.\n"
     ]
    },
    {
     "name": "stderr",
     "output_type": "stream",
     "text": [
      "\u001b[32m[I 2023-01-12 03:18:51,229]\u001b[0m Trial 88 finished with value: 0.27779097329167757 and parameters: {'lstm_layers': 4, 'hidden_size': 102, 'dense_size': 215, 'smaller_dense_size': 38, 'lstm_dropout': 0.07635854988666378, 'dense_dropout': 0.18121122375468773, 'batch_size_exp': 6, 'learning_rate_exp': -5}. Best is trial 75 with value: 0.19948927619877985.\u001b[0m\n"
     ]
    },
    {
     "name": "stdout",
     "output_type": "stream",
     "text": [
      "Trial 88 finished with value: 0.27779097329167757 and parameters: {'lstm_layers': 4, 'hidden_size': 102, 'dense_size': 215, 'smaller_dense_size': 38, 'lstm_dropout': 0.07635854988666378, 'dense_dropout': 0.18121122375468773, 'batch_size_exp': 6, 'learning_rate_exp': -5}. Best is trial 75 with value: 0.19948927619877985.\n"
     ]
    },
    {
     "name": "stderr",
     "output_type": "stream",
     "text": [
      "\u001b[32m[I 2023-01-12 03:26:26,056]\u001b[0m Trial 89 finished with value: 0.27333723830387874 and parameters: {'lstm_layers': 3, 'hidden_size': 95, 'dense_size': 28, 'smaller_dense_size': 57, 'lstm_dropout': 0.18878430899574078, 'dense_dropout': 0.19124197362156561, 'batch_size_exp': 6, 'learning_rate_exp': -5}. Best is trial 75 with value: 0.19948927619877985.\u001b[0m\n"
     ]
    },
    {
     "name": "stdout",
     "output_type": "stream",
     "text": [
      "Trial 89 finished with value: 0.27333723830387874 and parameters: {'lstm_layers': 3, 'hidden_size': 95, 'dense_size': 28, 'smaller_dense_size': 57, 'lstm_dropout': 0.18878430899574078, 'dense_dropout': 0.19124197362156561, 'batch_size_exp': 6, 'learning_rate_exp': -5}. Best is trial 75 with value: 0.19948927619877985.\n"
     ]
    },
    {
     "name": "stderr",
     "output_type": "stream",
     "text": [
      "\u001b[32m[I 2023-01-12 03:38:40,079]\u001b[0m Trial 90 finished with value: 0.2943146225820849 and parameters: {'lstm_layers': 2, 'hidden_size': 85, 'dense_size': 35, 'smaller_dense_size': 62, 'lstm_dropout': 0.17837918420691104, 'dense_dropout': 0.17302219335767835, 'batch_size_exp': 5, 'learning_rate_exp': -5}. Best is trial 75 with value: 0.19948927619877985.\u001b[0m\n"
     ]
    },
    {
     "name": "stdout",
     "output_type": "stream",
     "text": [
      "Trial 90 finished with value: 0.2943146225820849 and parameters: {'lstm_layers': 2, 'hidden_size': 85, 'dense_size': 35, 'smaller_dense_size': 62, 'lstm_dropout': 0.17837918420691104, 'dense_dropout': 0.17302219335767835, 'batch_size_exp': 5, 'learning_rate_exp': -5}. Best is trial 75 with value: 0.19948927619877985.\n"
     ]
    },
    {
     "name": "stderr",
     "output_type": "stream",
     "text": [
      "\u001b[32m[I 2023-01-12 03:42:58,250]\u001b[0m Trial 91 finished with value: 0.3576161440681009 and parameters: {'lstm_layers': 3, 'hidden_size': 72, 'dense_size': 16, 'smaller_dense_size': 54, 'lstm_dropout': 0.08713137835794403, 'dense_dropout': 0.08575458083113563, 'batch_size_exp': 7, 'learning_rate_exp': -5}. Best is trial 75 with value: 0.19948927619877985.\u001b[0m\n"
     ]
    },
    {
     "name": "stdout",
     "output_type": "stream",
     "text": [
      "Trial 91 finished with value: 0.3576161440681009 and parameters: {'lstm_layers': 3, 'hidden_size': 72, 'dense_size': 16, 'smaller_dense_size': 54, 'lstm_dropout': 0.08713137835794403, 'dense_dropout': 0.08575458083113563, 'batch_size_exp': 7, 'learning_rate_exp': -5}. Best is trial 75 with value: 0.19948927619877985.\n"
     ]
    },
    {
     "name": "stderr",
     "output_type": "stream",
     "text": [
      "\u001b[32m[I 2023-01-12 03:51:43,923]\u001b[0m Trial 92 finished with value: 0.2946085442295846 and parameters: {'lstm_layers': 4, 'hidden_size': 100, 'dense_size': 70, 'smaller_dense_size': 28, 'lstm_dropout': 0.05651581162788271, 'dense_dropout': 0.195266213771761, 'batch_size_exp': 6, 'learning_rate_exp': -5}. Best is trial 75 with value: 0.19948927619877985.\u001b[0m\n"
     ]
    },
    {
     "name": "stdout",
     "output_type": "stream",
     "text": [
      "Trial 92 finished with value: 0.2946085442295846 and parameters: {'lstm_layers': 4, 'hidden_size': 100, 'dense_size': 70, 'smaller_dense_size': 28, 'lstm_dropout': 0.05651581162788271, 'dense_dropout': 0.195266213771761, 'batch_size_exp': 6, 'learning_rate_exp': -5}. Best is trial 75 with value: 0.19948927619877985.\n"
     ]
    },
    {
     "name": "stderr",
     "output_type": "stream",
     "text": [
      "\u001b[32m[I 2023-01-12 03:56:37,490]\u001b[0m Trial 93 finished with value: 0.28264963363899903 and parameters: {'lstm_layers': 4, 'hidden_size': 80, 'dense_size': 51, 'smaller_dense_size': 51, 'lstm_dropout': 0.1233588365823461, 'dense_dropout': 0.18263612851718405, 'batch_size_exp': 7, 'learning_rate_exp': -5}. Best is trial 75 with value: 0.19948927619877985.\u001b[0m\n"
     ]
    },
    {
     "name": "stdout",
     "output_type": "stream",
     "text": [
      "Trial 93 finished with value: 0.28264963363899903 and parameters: {'lstm_layers': 4, 'hidden_size': 80, 'dense_size': 51, 'smaller_dense_size': 51, 'lstm_dropout': 0.1233588365823461, 'dense_dropout': 0.18263612851718405, 'batch_size_exp': 7, 'learning_rate_exp': -5}. Best is trial 75 with value: 0.19948927619877985.\n"
     ]
    },
    {
     "name": "stderr",
     "output_type": "stream",
     "text": [
      "\u001b[32m[I 2023-01-12 04:01:29,644]\u001b[0m Trial 94 finished with value: 0.2953181314994307 and parameters: {'lstm_layers': 4, 'hidden_size': 67, 'dense_size': 28, 'smaller_dense_size': 59, 'lstm_dropout': 0.13478999233924785, 'dense_dropout': 0.18763176355672995, 'batch_size_exp': 7, 'learning_rate_exp': -5}. Best is trial 75 with value: 0.19948927619877985.\u001b[0m\n"
     ]
    },
    {
     "name": "stdout",
     "output_type": "stream",
     "text": [
      "Trial 94 finished with value: 0.2953181314994307 and parameters: {'lstm_layers': 4, 'hidden_size': 67, 'dense_size': 28, 'smaller_dense_size': 59, 'lstm_dropout': 0.13478999233924785, 'dense_dropout': 0.18763176355672995, 'batch_size_exp': 7, 'learning_rate_exp': -5}. Best is trial 75 with value: 0.19948927619877985.\n"
     ]
    },
    {
     "name": "stderr",
     "output_type": "stream",
     "text": [
      "\u001b[32m[I 2023-01-12 04:06:22,688]\u001b[0m Trial 95 finished with value: 0.34884998202323914 and parameters: {'lstm_layers': 4, 'hidden_size': 90, 'dense_size': 42, 'smaller_dense_size': 61, 'lstm_dropout': 0.10267166036629147, 'dense_dropout': 0.1668141166262163, 'batch_size_exp': 7, 'learning_rate_exp': -5}. Best is trial 75 with value: 0.19948927619877985.\u001b[0m\n"
     ]
    },
    {
     "name": "stdout",
     "output_type": "stream",
     "text": [
      "Trial 95 finished with value: 0.34884998202323914 and parameters: {'lstm_layers': 4, 'hidden_size': 90, 'dense_size': 42, 'smaller_dense_size': 61, 'lstm_dropout': 0.10267166036629147, 'dense_dropout': 0.1668141166262163, 'batch_size_exp': 7, 'learning_rate_exp': -5}. Best is trial 75 with value: 0.19948927619877985.\n"
     ]
    },
    {
     "name": "stderr",
     "output_type": "stream",
     "text": [
      "\u001b[32m[I 2023-01-12 04:11:14,619]\u001b[0m Trial 96 finished with value: 0.2804507591268596 and parameters: {'lstm_layers': 4, 'hidden_size': 111, 'dense_size': 21, 'smaller_dense_size': 57, 'lstm_dropout': 0.09527439296392565, 'dense_dropout': 0.17627547032838792, 'batch_size_exp': 7, 'learning_rate_exp': -5}. Best is trial 75 with value: 0.19948927619877985.\u001b[0m\n"
     ]
    },
    {
     "name": "stdout",
     "output_type": "stream",
     "text": [
      "Trial 96 finished with value: 0.2804507591268596 and parameters: {'lstm_layers': 4, 'hidden_size': 111, 'dense_size': 21, 'smaller_dense_size': 57, 'lstm_dropout': 0.09527439296392565, 'dense_dropout': 0.17627547032838792, 'batch_size_exp': 7, 'learning_rate_exp': -5}. Best is trial 75 with value: 0.19948927619877985.\n"
     ]
    },
    {
     "name": "stderr",
     "output_type": "stream",
     "text": [
      "\u001b[32m[I 2023-01-12 04:15:32,358]\u001b[0m Trial 97 finished with value: 0.31965283172972064 and parameters: {'lstm_layers': 3, 'hidden_size': 75, 'dense_size': 57, 'smaller_dense_size': 55, 'lstm_dropout': 0.11022231680134685, 'dense_dropout': 0.1581832226778454, 'batch_size_exp': 7, 'learning_rate_exp': -5}. Best is trial 75 with value: 0.19948927619877985.\u001b[0m\n"
     ]
    },
    {
     "name": "stdout",
     "output_type": "stream",
     "text": [
      "Trial 97 finished with value: 0.31965283172972064 and parameters: {'lstm_layers': 3, 'hidden_size': 75, 'dense_size': 57, 'smaller_dense_size': 55, 'lstm_dropout': 0.11022231680134685, 'dense_dropout': 0.1581832226778454, 'batch_size_exp': 7, 'learning_rate_exp': -5}. Best is trial 75 with value: 0.19948927619877985.\n"
     ]
    },
    {
     "name": "stderr",
     "output_type": "stream",
     "text": [
      "\u001b[32m[I 2023-01-12 04:25:23,704]\u001b[0m Trial 98 finished with value: 0.21277994443388545 and parameters: {'lstm_layers': 5, 'hidden_size': 78, 'dense_size': 36, 'smaller_dense_size': 21, 'lstm_dropout': 0.1175801977686278, 'dense_dropout': 0.18936433782261092, 'batch_size_exp': 6, 'learning_rate_exp': -5}. Best is trial 75 with value: 0.19948927619877985.\u001b[0m\n"
     ]
    },
    {
     "name": "stdout",
     "output_type": "stream",
     "text": [
      "Trial 98 finished with value: 0.21277994443388545 and parameters: {'lstm_layers': 5, 'hidden_size': 78, 'dense_size': 36, 'smaller_dense_size': 21, 'lstm_dropout': 0.1175801977686278, 'dense_dropout': 0.18936433782261092, 'batch_size_exp': 6, 'learning_rate_exp': -5}. Best is trial 75 with value: 0.19948927619877985.\n"
     ]
    },
    {
     "name": "stderr",
     "output_type": "stream",
     "text": [
      "\u001b[32m[I 2023-01-12 04:35:15,544]\u001b[0m Trial 99 finished with value: 0.33118281458668847 and parameters: {'lstm_layers': 5, 'hidden_size': 78, 'dense_size': 37, 'smaller_dense_size': 17, 'lstm_dropout': 0.1271138514448986, 'dense_dropout': 0.18983895072417714, 'batch_size_exp': 6, 'learning_rate_exp': -5}. Best is trial 75 with value: 0.19948927619877985.\u001b[0m\n"
     ]
    },
    {
     "name": "stdout",
     "output_type": "stream",
     "text": [
      "Trial 99 finished with value: 0.33118281458668847 and parameters: {'lstm_layers': 5, 'hidden_size': 78, 'dense_size': 37, 'smaller_dense_size': 17, 'lstm_dropout': 0.1271138514448986, 'dense_dropout': 0.18983895072417714, 'batch_size_exp': 6, 'learning_rate_exp': -5}. Best is trial 75 with value: 0.19948927619877985.\n"
     ]
    },
    {
     "name": "stderr",
     "output_type": "stream",
     "text": [
      "\u001b[32m[I 2023-01-12 04:45:13,697]\u001b[0m Trial 100 finished with value: 0.2513599739793469 and parameters: {'lstm_layers': 5, 'hidden_size': 98, 'dense_size': 29, 'smaller_dense_size': 22, 'lstm_dropout': 0.11459451034910677, 'dense_dropout': 0.01693401111632971, 'batch_size_exp': 6, 'learning_rate_exp': -5}. Best is trial 75 with value: 0.19948927619877985.\u001b[0m\n"
     ]
    },
    {
     "name": "stdout",
     "output_type": "stream",
     "text": [
      "Trial 100 finished with value: 0.2513599739793469 and parameters: {'lstm_layers': 5, 'hidden_size': 98, 'dense_size': 29, 'smaller_dense_size': 22, 'lstm_dropout': 0.11459451034910677, 'dense_dropout': 0.01693401111632971, 'batch_size_exp': 6, 'learning_rate_exp': -5}. Best is trial 75 with value: 0.19948927619877985.\n"
     ]
    },
    {
     "name": "stderr",
     "output_type": "stream",
     "text": [
      "\u001b[32m[I 2023-01-12 04:55:10,266]\u001b[0m Trial 101 finished with value: 0.24850517051184878 and parameters: {'lstm_layers': 5, 'hidden_size': 115, 'dense_size': 20, 'smaller_dense_size': 19, 'lstm_dropout': 0.1533620717746138, 'dense_dropout': 0.1620739601443622, 'batch_size_exp': 6, 'learning_rate_exp': -5}. Best is trial 75 with value: 0.19948927619877985.\u001b[0m\n"
     ]
    },
    {
     "name": "stdout",
     "output_type": "stream",
     "text": [
      "Trial 101 finished with value: 0.24850517051184878 and parameters: {'lstm_layers': 5, 'hidden_size': 115, 'dense_size': 20, 'smaller_dense_size': 19, 'lstm_dropout': 0.1533620717746138, 'dense_dropout': 0.1620739601443622, 'batch_size_exp': 6, 'learning_rate_exp': -5}. Best is trial 75 with value: 0.19948927619877985.\n"
     ]
    },
    {
     "name": "stderr",
     "output_type": "stream",
     "text": [
      "\u001b[32m[I 2023-01-12 05:05:07,379]\u001b[0m Trial 102 finished with value: 0.2856703593450434 and parameters: {'lstm_layers': 5, 'hidden_size': 108, 'dense_size': 45, 'smaller_dense_size': 36, 'lstm_dropout': 0.1627127300079718, 'dense_dropout': 0.1816335763554041, 'batch_size_exp': 6, 'learning_rate_exp': -5}. Best is trial 75 with value: 0.19948927619877985.\u001b[0m\n"
     ]
    },
    {
     "name": "stdout",
     "output_type": "stream",
     "text": [
      "Trial 102 finished with value: 0.2856703593450434 and parameters: {'lstm_layers': 5, 'hidden_size': 108, 'dense_size': 45, 'smaller_dense_size': 36, 'lstm_dropout': 0.1627127300079718, 'dense_dropout': 0.1816335763554041, 'batch_size_exp': 6, 'learning_rate_exp': -5}. Best is trial 75 with value: 0.19948927619877985.\n"
     ]
    },
    {
     "name": "stderr",
     "output_type": "stream",
     "text": [
      "\u001b[32m[I 2023-01-12 05:13:56,357]\u001b[0m Trial 103 finished with value: 0.24447151131051428 and parameters: {'lstm_layers': 4, 'hidden_size': 82, 'dense_size': 33, 'smaller_dense_size': 52, 'lstm_dropout': 0.14121928516445398, 'dense_dropout': 0.19655673856384076, 'batch_size_exp': 6, 'learning_rate_exp': -5}. Best is trial 75 with value: 0.19948927619877985.\u001b[0m\n"
     ]
    },
    {
     "name": "stdout",
     "output_type": "stream",
     "text": [
      "Trial 103 finished with value: 0.24447151131051428 and parameters: {'lstm_layers': 4, 'hidden_size': 82, 'dense_size': 33, 'smaller_dense_size': 52, 'lstm_dropout': 0.14121928516445398, 'dense_dropout': 0.19655673856384076, 'batch_size_exp': 6, 'learning_rate_exp': -5}. Best is trial 75 with value: 0.19948927619877985.\n"
     ]
    },
    {
     "name": "stderr",
     "output_type": "stream",
     "text": [
      "\u001b[32m[I 2023-01-12 05:33:07,626]\u001b[0m Trial 104 finished with value: 0.28902155039427074 and parameters: {'lstm_layers': 5, 'hidden_size': 71, 'dense_size': 25, 'smaller_dense_size': 34, 'lstm_dropout': 0.11674709696109196, 'dense_dropout': 0.17338348796394037, 'batch_size_exp': 5, 'learning_rate_exp': -5}. Best is trial 75 with value: 0.19948927619877985.\u001b[0m\n"
     ]
    },
    {
     "name": "stdout",
     "output_type": "stream",
     "text": [
      "Trial 104 finished with value: 0.28902155039427074 and parameters: {'lstm_layers': 5, 'hidden_size': 71, 'dense_size': 25, 'smaller_dense_size': 34, 'lstm_dropout': 0.11674709696109196, 'dense_dropout': 0.17338348796394037, 'batch_size_exp': 5, 'learning_rate_exp': -5}. Best is trial 75 with value: 0.19948927619877985.\n"
     ]
    },
    {
     "name": "stderr",
     "output_type": "stream",
     "text": [
      "\u001b[32m[I 2023-01-12 05:36:20,409]\u001b[0m Trial 105 finished with value: 0.241718610858216 and parameters: {'lstm_layers': 1, 'hidden_size': 62, 'dense_size': 38, 'smaller_dense_size': 16, 'lstm_dropout': 0.06933561637262407, 'dense_dropout': 0.18790605211718933, 'batch_size_exp': 7, 'learning_rate_exp': -5}. Best is trial 75 with value: 0.19948927619877985.\u001b[0m\n"
     ]
    },
    {
     "name": "stdout",
     "output_type": "stream",
     "text": [
      "Trial 105 finished with value: 0.241718610858216 and parameters: {'lstm_layers': 1, 'hidden_size': 62, 'dense_size': 38, 'smaller_dense_size': 16, 'lstm_dropout': 0.06933561637262407, 'dense_dropout': 0.18790605211718933, 'batch_size_exp': 7, 'learning_rate_exp': -5}. Best is trial 75 with value: 0.19948927619877985.\n"
     ]
    },
    {
     "name": "stderr",
     "output_type": "stream",
     "text": [
      "\u001b[32m[I 2023-01-12 05:44:59,935]\u001b[0m Trial 106 finished with value: 0.2247010585578049 and parameters: {'lstm_layers': 4, 'hidden_size': 16, 'dense_size': 51, 'smaller_dense_size': 25, 'lstm_dropout': 0.13285233152066853, 'dense_dropout': 0.16866627403236056, 'batch_size_exp': 6, 'learning_rate_exp': -5}. Best is trial 75 with value: 0.19948927619877985.\u001b[0m\n"
     ]
    },
    {
     "name": "stdout",
     "output_type": "stream",
     "text": [
      "Trial 106 finished with value: 0.2247010585578049 and parameters: {'lstm_layers': 4, 'hidden_size': 16, 'dense_size': 51, 'smaller_dense_size': 25, 'lstm_dropout': 0.13285233152066853, 'dense_dropout': 0.16866627403236056, 'batch_size_exp': 6, 'learning_rate_exp': -5}. Best is trial 75 with value: 0.19948927619877985.\n"
     ]
    },
    {
     "name": "stderr",
     "output_type": "stream",
     "text": [
      "\u001b[32m[I 2023-01-12 05:53:44,266]\u001b[0m Trial 107 finished with value: 0.25667598164256883 and parameters: {'lstm_layers': 4, 'hidden_size': 86, 'dense_size': 16, 'smaller_dense_size': 26, 'lstm_dropout': 0.13164251919179684, 'dense_dropout': 0.16589016632592904, 'batch_size_exp': 6, 'learning_rate_exp': -5}. Best is trial 75 with value: 0.19948927619877985.\u001b[0m\n"
     ]
    },
    {
     "name": "stdout",
     "output_type": "stream",
     "text": [
      "Trial 107 finished with value: 0.25667598164256883 and parameters: {'lstm_layers': 4, 'hidden_size': 86, 'dense_size': 16, 'smaller_dense_size': 26, 'lstm_dropout': 0.13164251919179684, 'dense_dropout': 0.16589016632592904, 'batch_size_exp': 6, 'learning_rate_exp': -5}. Best is trial 75 with value: 0.19948927619877985.\n"
     ]
    },
    {
     "name": "stderr",
     "output_type": "stream",
     "text": [
      "\u001b[32m[I 2023-01-12 06:02:30,863]\u001b[0m Trial 108 finished with value: 0.22828742445391767 and parameters: {'lstm_layers': 4, 'hidden_size': 26, 'dense_size': 50, 'smaller_dense_size': 24, 'lstm_dropout': 0.17095620911541173, 'dense_dropout': 0.15169034135050927, 'batch_size_exp': 6, 'learning_rate_exp': -5}. Best is trial 75 with value: 0.19948927619877985.\u001b[0m\n"
     ]
    },
    {
     "name": "stdout",
     "output_type": "stream",
     "text": [
      "Trial 108 finished with value: 0.22828742445391767 and parameters: {'lstm_layers': 4, 'hidden_size': 26, 'dense_size': 50, 'smaller_dense_size': 24, 'lstm_dropout': 0.17095620911541173, 'dense_dropout': 0.15169034135050927, 'batch_size_exp': 6, 'learning_rate_exp': -5}. Best is trial 75 with value: 0.19948927619877985.\n"
     ]
    },
    {
     "name": "stderr",
     "output_type": "stream",
     "text": [
      "\u001b[32m[I 2023-01-12 06:11:10,411]\u001b[0m Trial 109 finished with value: 0.30306523852050304 and parameters: {'lstm_layers': 4, 'hidden_size': 10, 'dense_size': 58, 'smaller_dense_size': 31, 'lstm_dropout': 0.17129023266578458, 'dense_dropout': 0.15197447490314037, 'batch_size_exp': 6, 'learning_rate_exp': -5}. Best is trial 75 with value: 0.19948927619877985.\u001b[0m\n"
     ]
    },
    {
     "name": "stdout",
     "output_type": "stream",
     "text": [
      "Trial 109 finished with value: 0.30306523852050304 and parameters: {'lstm_layers': 4, 'hidden_size': 10, 'dense_size': 58, 'smaller_dense_size': 31, 'lstm_dropout': 0.17129023266578458, 'dense_dropout': 0.15197447490314037, 'batch_size_exp': 6, 'learning_rate_exp': -5}. Best is trial 75 with value: 0.19948927619877985.\n"
     ]
    },
    {
     "name": "stderr",
     "output_type": "stream",
     "text": [
      "\u001b[32m[I 2023-01-12 06:19:56,910]\u001b[0m Trial 110 finished with value: 0.28984803969369216 and parameters: {'lstm_layers': 4, 'hidden_size': 24, 'dense_size': 64, 'smaller_dense_size': 24, 'lstm_dropout': 0.16619492007060455, 'dense_dropout': 0.14762217692156043, 'batch_size_exp': 6, 'learning_rate_exp': -5}. Best is trial 75 with value: 0.19948927619877985.\u001b[0m\n"
     ]
    },
    {
     "name": "stdout",
     "output_type": "stream",
     "text": [
      "Trial 110 finished with value: 0.28984803969369216 and parameters: {'lstm_layers': 4, 'hidden_size': 24, 'dense_size': 64, 'smaller_dense_size': 24, 'lstm_dropout': 0.16619492007060455, 'dense_dropout': 0.14762217692156043, 'batch_size_exp': 6, 'learning_rate_exp': -5}. Best is trial 75 with value: 0.19948927619877985.\n"
     ]
    },
    {
     "name": "stderr",
     "output_type": "stream",
     "text": [
      "\u001b[32m[I 2023-01-12 06:29:45,419]\u001b[0m Trial 111 finished with value: 0.3251997030833188 and parameters: {'lstm_layers': 5, 'hidden_size': 11, 'dense_size': 51, 'smaller_dense_size': 22, 'lstm_dropout': 0.17621017800402564, 'dense_dropout': 0.168425989600414, 'batch_size_exp': 6, 'learning_rate_exp': -5}. Best is trial 75 with value: 0.19948927619877985.\u001b[0m\n"
     ]
    },
    {
     "name": "stdout",
     "output_type": "stream",
     "text": [
      "Trial 111 finished with value: 0.3251997030833188 and parameters: {'lstm_layers': 5, 'hidden_size': 11, 'dense_size': 51, 'smaller_dense_size': 22, 'lstm_dropout': 0.17621017800402564, 'dense_dropout': 0.168425989600414, 'batch_size_exp': 6, 'learning_rate_exp': -5}. Best is trial 75 with value: 0.19948927619877985.\n"
     ]
    },
    {
     "name": "stderr",
     "output_type": "stream",
     "text": [
      "\u001b[32m[I 2023-01-12 06:38:32,419]\u001b[0m Trial 112 finished with value: 0.3130493082982652 and parameters: {'lstm_layers': 4, 'hidden_size': 22, 'dense_size': 77, 'smaller_dense_size': 20, 'lstm_dropout': 0.14961277775866424, 'dense_dropout': 0.14248350965380713, 'batch_size_exp': 6, 'learning_rate_exp': -5}. Best is trial 75 with value: 0.19948927619877985.\u001b[0m\n"
     ]
    },
    {
     "name": "stdout",
     "output_type": "stream",
     "text": [
      "Trial 112 finished with value: 0.3130493082982652 and parameters: {'lstm_layers': 4, 'hidden_size': 22, 'dense_size': 77, 'smaller_dense_size': 20, 'lstm_dropout': 0.14961277775866424, 'dense_dropout': 0.14248350965380713, 'batch_size_exp': 6, 'learning_rate_exp': -5}. Best is trial 75 with value: 0.19948927619877985.\n"
     ]
    },
    {
     "name": "stderr",
     "output_type": "stream",
     "text": [
      "\u001b[32m[I 2023-01-12 06:47:13,136]\u001b[0m Trial 113 finished with value: 0.26143379158833446 and parameters: {'lstm_layers': 4, 'hidden_size': 18, 'dense_size': 44, 'smaller_dense_size': 20, 'lstm_dropout': 0.18183897207316724, 'dense_dropout': 0.17617120358358224, 'batch_size_exp': 6, 'learning_rate_exp': -5}. Best is trial 75 with value: 0.19948927619877985.\u001b[0m\n"
     ]
    },
    {
     "name": "stdout",
     "output_type": "stream",
     "text": [
      "Trial 113 finished with value: 0.26143379158833446 and parameters: {'lstm_layers': 4, 'hidden_size': 18, 'dense_size': 44, 'smaller_dense_size': 20, 'lstm_dropout': 0.18183897207316724, 'dense_dropout': 0.17617120358358224, 'batch_size_exp': 6, 'learning_rate_exp': -5}. Best is trial 75 with value: 0.19948927619877985.\n"
     ]
    },
    {
     "name": "stderr",
     "output_type": "stream",
     "text": [
      "\u001b[32m[I 2023-01-12 06:54:49,666]\u001b[0m Trial 114 finished with value: 0.23705005842973204 and parameters: {'lstm_layers': 3, 'hidden_size': 93, 'dense_size': 27, 'smaller_dense_size': 18, 'lstm_dropout': 0.12009858328629197, 'dense_dropout': 0.15640227382780011, 'batch_size_exp': 6, 'learning_rate_exp': -5}. Best is trial 75 with value: 0.19948927619877985.\u001b[0m\n"
     ]
    },
    {
     "name": "stdout",
     "output_type": "stream",
     "text": [
      "Trial 114 finished with value: 0.23705005842973204 and parameters: {'lstm_layers': 3, 'hidden_size': 93, 'dense_size': 27, 'smaller_dense_size': 18, 'lstm_dropout': 0.12009858328629197, 'dense_dropout': 0.15640227382780011, 'batch_size_exp': 6, 'learning_rate_exp': -5}. Best is trial 75 with value: 0.19948927619877985.\n"
     ]
    },
    {
     "name": "stderr",
     "output_type": "stream",
     "text": [
      "\u001b[32m[I 2023-01-12 07:03:30,457]\u001b[0m Trial 115 finished with value: 0.31447531710214477 and parameters: {'lstm_layers': 4, 'hidden_size': 15, 'dense_size': 35, 'smaller_dense_size': 64, 'lstm_dropout': 0.10913194119793236, 'dense_dropout': 0.16116240145317776, 'batch_size_exp': 6, 'learning_rate_exp': -5}. Best is trial 75 with value: 0.19948927619877985.\u001b[0m\n"
     ]
    },
    {
     "name": "stdout",
     "output_type": "stream",
     "text": [
      "Trial 115 finished with value: 0.31447531710214477 and parameters: {'lstm_layers': 4, 'hidden_size': 15, 'dense_size': 35, 'smaller_dense_size': 64, 'lstm_dropout': 0.10913194119793236, 'dense_dropout': 0.16116240145317776, 'batch_size_exp': 6, 'learning_rate_exp': -5}. Best is trial 75 with value: 0.19948927619877985.\n"
     ]
    },
    {
     "name": "stderr",
     "output_type": "stream",
     "text": [
      "\u001b[32m[I 2023-01-12 07:15:38,531]\u001b[0m Trial 116 finished with value: 0.31287977876870526 and parameters: {'lstm_layers': 2, 'hidden_size': 119, 'dense_size': 30, 'smaller_dense_size': 14, 'lstm_dropout': 0.10331701756013609, 'dense_dropout': 0.1803219474080722, 'batch_size_exp': 5, 'learning_rate_exp': -5}. Best is trial 75 with value: 0.19948927619877985.\u001b[0m\n"
     ]
    },
    {
     "name": "stdout",
     "output_type": "stream",
     "text": [
      "Trial 116 finished with value: 0.31287977876870526 and parameters: {'lstm_layers': 2, 'hidden_size': 119, 'dense_size': 30, 'smaller_dense_size': 14, 'lstm_dropout': 0.10331701756013609, 'dense_dropout': 0.1803219474080722, 'batch_size_exp': 5, 'learning_rate_exp': -5}. Best is trial 75 with value: 0.19948927619877985.\n"
     ]
    },
    {
     "name": "stderr",
     "output_type": "stream",
     "text": [
      "\u001b[32m[I 2023-01-12 07:24:24,086]\u001b[0m Trial 117 finished with value: 0.28327110782265663 and parameters: {'lstm_layers': 4, 'hidden_size': 26, 'dense_size': 21, 'smaller_dense_size': 29, 'lstm_dropout': 0.12491573107125441, 'dense_dropout': 0.17019575178108567, 'batch_size_exp': 6, 'learning_rate_exp': -3}. Best is trial 75 with value: 0.19948927619877985.\u001b[0m\n"
     ]
    },
    {
     "name": "stdout",
     "output_type": "stream",
     "text": [
      "Trial 117 finished with value: 0.28327110782265663 and parameters: {'lstm_layers': 4, 'hidden_size': 26, 'dense_size': 21, 'smaller_dense_size': 29, 'lstm_dropout': 0.12491573107125441, 'dense_dropout': 0.17019575178108567, 'batch_size_exp': 6, 'learning_rate_exp': -3}. Best is trial 75 with value: 0.19948927619877985.\n"
     ]
    },
    {
     "name": "stderr",
     "output_type": "stream",
     "text": [
      "\u001b[32m[I 2023-01-12 07:31:57,902]\u001b[0m Trial 118 finished with value: 0.31912367900504784 and parameters: {'lstm_layers': 3, 'hidden_size': 49, 'dense_size': 49, 'smaller_dense_size': 23, 'lstm_dropout': 0.1563597975419387, 'dense_dropout': 0.17189844220875833, 'batch_size_exp': 6, 'learning_rate_exp': -5}. Best is trial 75 with value: 0.19948927619877985.\u001b[0m\n"
     ]
    },
    {
     "name": "stdout",
     "output_type": "stream",
     "text": [
      "Trial 118 finished with value: 0.31912367900504784 and parameters: {'lstm_layers': 3, 'hidden_size': 49, 'dense_size': 49, 'smaller_dense_size': 23, 'lstm_dropout': 0.1563597975419387, 'dense_dropout': 0.17189844220875833, 'batch_size_exp': 6, 'learning_rate_exp': -5}. Best is trial 75 with value: 0.19948927619877985.\n"
     ]
    },
    {
     "name": "stderr",
     "output_type": "stream",
     "text": [
      "\u001b[32m[I 2023-01-12 08:08:31,911]\u001b[0m Trial 119 finished with value: 0.24963294925074353 and parameters: {'lstm_layers': 5, 'hidden_size': 17, 'dense_size': 41, 'smaller_dense_size': 25, 'lstm_dropout': 0.18979193846693443, 'dense_dropout': 0.18437494341225277, 'batch_size_exp': 4, 'learning_rate_exp': -5}. Best is trial 75 with value: 0.19948927619877985.\u001b[0m\n"
     ]
    },
    {
     "name": "stdout",
     "output_type": "stream",
     "text": [
      "Trial 119 finished with value: 0.24963294925074353 and parameters: {'lstm_layers': 5, 'hidden_size': 17, 'dense_size': 41, 'smaller_dense_size': 25, 'lstm_dropout': 0.18979193846693443, 'dense_dropout': 0.18437494341225277, 'batch_size_exp': 4, 'learning_rate_exp': -5}. Best is trial 75 with value: 0.19948927619877985.\n"
     ]
    },
    {
     "name": "stderr",
     "output_type": "stream",
     "text": [
      "\u001b[32m[I 2023-01-12 08:17:13,207]\u001b[0m Trial 120 finished with value: 0.2705684829065028 and parameters: {'lstm_layers': 4, 'hidden_size': 30, 'dense_size': 25, 'smaller_dense_size': 63, 'lstm_dropout': 0.09059569302978634, 'dense_dropout': 0.1779701175065876, 'batch_size_exp': 6, 'learning_rate_exp': -5}. Best is trial 75 with value: 0.19948927619877985.\u001b[0m\n"
     ]
    },
    {
     "name": "stdout",
     "output_type": "stream",
     "text": [
      "Trial 120 finished with value: 0.2705684829065028 and parameters: {'lstm_layers': 4, 'hidden_size': 30, 'dense_size': 25, 'smaller_dense_size': 63, 'lstm_dropout': 0.09059569302978634, 'dense_dropout': 0.1779701175065876, 'batch_size_exp': 6, 'learning_rate_exp': -5}. Best is trial 75 with value: 0.19948927619877985.\n"
     ]
    },
    {
     "name": "stderr",
     "output_type": "stream",
     "text": [
      "\u001b[32m[I 2023-01-12 08:24:48,898]\u001b[0m Trial 121 finished with value: 0.3598991233636351 and parameters: {'lstm_layers': 3, 'hidden_size': 90, 'dense_size': 172, 'smaller_dense_size': 21, 'lstm_dropout': 0.13703718925918357, 'dense_dropout': 0.16250666154868074, 'batch_size_exp': 6, 'learning_rate_exp': -5}. Best is trial 75 with value: 0.19948927619877985.\u001b[0m\n"
     ]
    },
    {
     "name": "stdout",
     "output_type": "stream",
     "text": [
      "Trial 121 finished with value: 0.3598991233636351 and parameters: {'lstm_layers': 3, 'hidden_size': 90, 'dense_size': 172, 'smaller_dense_size': 21, 'lstm_dropout': 0.13703718925918357, 'dense_dropout': 0.16250666154868074, 'batch_size_exp': 6, 'learning_rate_exp': -5}. Best is trial 75 with value: 0.19948927619877985.\n"
     ]
    },
    {
     "name": "stderr",
     "output_type": "stream",
     "text": [
      "\u001b[32m[I 2023-01-12 08:33:34,162]\u001b[0m Trial 122 finished with value: 0.2827088048352915 and parameters: {'lstm_layers': 4, 'hidden_size': 38, 'dense_size': 126, 'smaller_dense_size': 61, 'lstm_dropout': 0.09854080867741194, 'dense_dropout': 0.19057470161812612, 'batch_size_exp': 6, 'learning_rate_exp': -5}. Best is trial 75 with value: 0.19948927619877985.\u001b[0m\n"
     ]
    },
    {
     "name": "stdout",
     "output_type": "stream",
     "text": [
      "Trial 122 finished with value: 0.2827088048352915 and parameters: {'lstm_layers': 4, 'hidden_size': 38, 'dense_size': 126, 'smaller_dense_size': 61, 'lstm_dropout': 0.09854080867741194, 'dense_dropout': 0.19057470161812612, 'batch_size_exp': 6, 'learning_rate_exp': -5}. Best is trial 75 with value: 0.19948927619877985.\n"
     ]
    },
    {
     "name": "stderr",
     "output_type": "stream",
     "text": [
      "\u001b[32m[I 2023-01-12 08:41:08,064]\u001b[0m Trial 123 finished with value: 0.29289624489405575 and parameters: {'lstm_layers': 3, 'hidden_size': 93, 'dense_size': 27, 'smaller_dense_size': 18, 'lstm_dropout': 0.11320377138080283, 'dense_dropout': 0.1325946728826425, 'batch_size_exp': 6, 'learning_rate_exp': -5}. Best is trial 75 with value: 0.19948927619877985.\u001b[0m\n"
     ]
    },
    {
     "name": "stdout",
     "output_type": "stream",
     "text": [
      "Trial 123 finished with value: 0.29289624489405575 and parameters: {'lstm_layers': 3, 'hidden_size': 93, 'dense_size': 27, 'smaller_dense_size': 18, 'lstm_dropout': 0.11320377138080283, 'dense_dropout': 0.1325946728826425, 'batch_size_exp': 6, 'learning_rate_exp': -5}. Best is trial 75 with value: 0.19948927619877985.\n"
     ]
    },
    {
     "name": "stderr",
     "output_type": "stream",
     "text": [
      "\u001b[32m[I 2023-01-12 08:48:43,133]\u001b[0m Trial 124 finished with value: 0.29029850442619887 and parameters: {'lstm_layers': 3, 'hidden_size': 94, 'dense_size': 32, 'smaller_dense_size': 15, 'lstm_dropout': 0.11767210703952831, 'dense_dropout': 0.15476079790388442, 'batch_size_exp': 6, 'learning_rate_exp': -5}. Best is trial 75 with value: 0.19948927619877985.\u001b[0m\n"
     ]
    },
    {
     "name": "stdout",
     "output_type": "stream",
     "text": [
      "Trial 124 finished with value: 0.29029850442619887 and parameters: {'lstm_layers': 3, 'hidden_size': 94, 'dense_size': 32, 'smaller_dense_size': 15, 'lstm_dropout': 0.11767210703952831, 'dense_dropout': 0.15476079790388442, 'batch_size_exp': 6, 'learning_rate_exp': -5}. Best is trial 75 with value: 0.19948927619877985.\n"
     ]
    },
    {
     "name": "stderr",
     "output_type": "stream",
     "text": [
      "\u001b[32m[I 2023-01-12 09:38:02,422]\u001b[0m Trial 125 finished with value: 0.25848997986665173 and parameters: {'lstm_layers': 3, 'hidden_size': 104, 'dense_size': 20, 'smaller_dense_size': 18, 'lstm_dropout': 0.12039889157076594, 'dense_dropout': 0.15645229599598176, 'batch_size_exp': 3, 'learning_rate_exp': -5}. Best is trial 75 with value: 0.19948927619877985.\u001b[0m\n"
     ]
    },
    {
     "name": "stdout",
     "output_type": "stream",
     "text": [
      "Trial 125 finished with value: 0.25848997986665173 and parameters: {'lstm_layers': 3, 'hidden_size': 104, 'dense_size': 20, 'smaller_dense_size': 18, 'lstm_dropout': 0.12039889157076594, 'dense_dropout': 0.15645229599598176, 'batch_size_exp': 3, 'learning_rate_exp': -5}. Best is trial 75 with value: 0.19948927619877985.\n"
     ]
    },
    {
     "name": "stderr",
     "output_type": "stream",
     "text": [
      "\u001b[32m[I 2023-01-12 09:45:38,565]\u001b[0m Trial 126 finished with value: 0.24537136833019116 and parameters: {'lstm_layers': 3, 'hidden_size': 85, 'dense_size': 38, 'smaller_dense_size': 17, 'lstm_dropout': 0.00260827467276091, 'dense_dropout': 0.17532194299911627, 'batch_size_exp': 6, 'learning_rate_exp': -5}. Best is trial 75 with value: 0.19948927619877985.\u001b[0m\n"
     ]
    },
    {
     "name": "stdout",
     "output_type": "stream",
     "text": [
      "Trial 126 finished with value: 0.24537136833019116 and parameters: {'lstm_layers': 3, 'hidden_size': 85, 'dense_size': 38, 'smaller_dense_size': 17, 'lstm_dropout': 0.00260827467276091, 'dense_dropout': 0.17532194299911627, 'batch_size_exp': 6, 'learning_rate_exp': -5}. Best is trial 75 with value: 0.19948927619877985.\n"
     ]
    },
    {
     "name": "stderr",
     "output_type": "stream",
     "text": [
      "\u001b[32m[I 2023-01-12 09:53:12,660]\u001b[0m Trial 127 finished with value: 0.25666455420501094 and parameters: {'lstm_layers': 3, 'hidden_size': 98, 'dense_size': 16, 'smaller_dense_size': 45, 'lstm_dropout': 0.13322304978465657, 'dense_dropout': 0.1678750554886489, 'batch_size_exp': 6, 'learning_rate_exp': -5}. Best is trial 75 with value: 0.19948927619877985.\u001b[0m\n"
     ]
    },
    {
     "name": "stdout",
     "output_type": "stream",
     "text": [
      "Trial 127 finished with value: 0.25666455420501094 and parameters: {'lstm_layers': 3, 'hidden_size': 98, 'dense_size': 16, 'smaller_dense_size': 45, 'lstm_dropout': 0.13322304978465657, 'dense_dropout': 0.1678750554886489, 'batch_size_exp': 6, 'learning_rate_exp': -5}. Best is trial 75 with value: 0.19948927619877985.\n"
     ]
    },
    {
     "name": "stderr",
     "output_type": "stream",
     "text": [
      "\u001b[32m[I 2023-01-12 10:07:44,502]\u001b[0m Trial 128 finished with value: 0.3538950383933126 and parameters: {'lstm_layers': 3, 'hidden_size': 88, 'dense_size': 54, 'smaller_dense_size': 19, 'lstm_dropout': 0.16598796381978193, 'dense_dropout': 0.15047468103851763, 'batch_size_exp': 5, 'learning_rate_exp': -5}. Best is trial 75 with value: 0.19948927619877985.\u001b[0m\n"
     ]
    },
    {
     "name": "stdout",
     "output_type": "stream",
     "text": [
      "Trial 128 finished with value: 0.3538950383933126 and parameters: {'lstm_layers': 3, 'hidden_size': 88, 'dense_size': 54, 'smaller_dense_size': 19, 'lstm_dropout': 0.16598796381978193, 'dense_dropout': 0.15047468103851763, 'batch_size_exp': 5, 'learning_rate_exp': -5}. Best is trial 75 with value: 0.19948927619877985.\n"
     ]
    },
    {
     "name": "stderr",
     "output_type": "stream",
     "text": [
      "\u001b[32m[I 2023-01-12 10:16:26,464]\u001b[0m Trial 129 finished with value: 0.25560674410970774 and parameters: {'lstm_layers': 4, 'hidden_size': 81, 'dense_size': 24, 'smaller_dense_size': 12, 'lstm_dropout': 0.1715298879731567, 'dense_dropout': 0.18296880076897282, 'batch_size_exp': 6, 'learning_rate_exp': -5}. Best is trial 75 with value: 0.19948927619877985.\u001b[0m\n"
     ]
    },
    {
     "name": "stdout",
     "output_type": "stream",
     "text": [
      "Trial 129 finished with value: 0.25560674410970774 and parameters: {'lstm_layers': 4, 'hidden_size': 81, 'dense_size': 24, 'smaller_dense_size': 12, 'lstm_dropout': 0.1715298879731567, 'dense_dropout': 0.18296880076897282, 'batch_size_exp': 6, 'learning_rate_exp': -5}. Best is trial 75 with value: 0.19948927619877985.\n"
     ]
    },
    {
     "name": "stderr",
     "output_type": "stream",
     "text": [
      "\u001b[32m[I 2023-01-12 10:26:19,622]\u001b[0m Trial 130 finished with value: 0.29237755629069667 and parameters: {'lstm_layers': 5, 'hidden_size': 91, 'dense_size': 87, 'smaller_dense_size': 59, 'lstm_dropout': 0.127894783328647, 'dense_dropout': 0.16472463451279193, 'batch_size_exp': 6, 'learning_rate_exp': -5}. Best is trial 75 with value: 0.19948927619877985.\u001b[0m\n"
     ]
    },
    {
     "name": "stdout",
     "output_type": "stream",
     "text": [
      "Trial 130 finished with value: 0.29237755629069667 and parameters: {'lstm_layers': 5, 'hidden_size': 91, 'dense_size': 87, 'smaller_dense_size': 59, 'lstm_dropout': 0.127894783328647, 'dense_dropout': 0.16472463451279193, 'batch_size_exp': 6, 'learning_rate_exp': -5}. Best is trial 75 with value: 0.19948927619877985.\n"
     ]
    },
    {
     "name": "stderr",
     "output_type": "stream",
     "text": [
      "\u001b[32m[I 2023-01-12 10:32:45,869]\u001b[0m Trial 131 finished with value: 0.18071271073730552 and parameters: {'lstm_layers': 2, 'hidden_size': 77, 'dense_size': 47, 'smaller_dense_size': 27, 'lstm_dropout': 0.08414596174676435, 'dense_dropout': 0.15974907676386768, 'batch_size_exp': 6, 'learning_rate_exp': -5}. Best is trial 131 with value: 0.18071271073730552.\u001b[0m\n"
     ]
    },
    {
     "name": "stdout",
     "output_type": "stream",
     "text": [
      "Trial 131 finished with value: 0.18071271073730552 and parameters: {'lstm_layers': 2, 'hidden_size': 77, 'dense_size': 47, 'smaller_dense_size': 27, 'lstm_dropout': 0.08414596174676435, 'dense_dropout': 0.15974907676386768, 'batch_size_exp': 6, 'learning_rate_exp': -5}. Best is trial 131 with value: 0.18071271073730552.\n"
     ]
    }
   ],
   "source": [
    "def objective(trial):\n",
    "    \n",
    "    lstm_layers = trial.suggest_int(\"lstm_layers\", 1, 5)\n",
    "    hidden_size = trial.suggest_int(\"hidden_size\", 8, 128)\n",
    "    dense_size = trial.suggest_int(\"dense_size\", 16, 256)\n",
    "    smaller_dense_size = trial.suggest_int(\"smaller_dense_size\", 8, 64)\n",
    "    batch_size_exp = trial.suggest_int(\"batch_size_exp\", 3, 7)\n",
    "    lr = trial.suggest_float(\"lr\", 1e-4, 1e-2)\n",
    "    lstm_dropout = trial.suggest_float(\"lstm_dropout\", 0, 0.2)\n",
    "    dense_dropout = trial.suggest_float(\"dense_dropout\", 0, 0.2)\n",
    "    lr_decay = trial.suggest_float(\"lr_decay\", 0.05, 0.8)\n",
    "    lr_decay_step = trial.suggest_int(\"lr_decay_step\", 5, 20)\n",
    "\n",
    "    batch_size = 2**batch_size_exp\n",
    "\n",
    "    data_loaders = get_data_dict(data_df=data_df, mean=False, batch_size=batch_size)\n",
    "    train_loader = data_loaders[\"train_loader\"]\n",
    "    val_loader = data_loaders[\"val_loader\"]\n",
    "\n",
    "    embedding_size = next(iter(train_loader))[0].shape[-1]\n",
    "\n",
    "    model = LSTM_Regressor(\n",
    "        embedding_size=embedding_size,\n",
    "        hidden_size=hidden_size,\n",
    "        num_layers=lstm_layers,\n",
    "        dense_size=dense_size,\n",
    "        smaller_dense_size=smaller_dense_size,\n",
    "        lstm_dropout=lstm_dropout,\n",
    "        dense_dropout=dense_dropout,\n",
    "    )\n",
    "    train_results = train_lstm_model(\n",
    "        model=model,\n",
    "        train_loader=train_loader,\n",
    "        val_loader=val_loader,\n",
    "        lr=lr,\n",
    "        epochs=200,\n",
    "        batch_size=batch_size,\n",
    "        early_stopping=True,\n",
    "        lr_decay=lr_decay,\n",
    "        lr_decay_step=lr_decay_step,\n",
    "    )\n",
    "\n",
    "    val_loss = train_results[\"val_loss\"]\n",
    "\n",
    "    return val_loss[-1]\n",
    "\n",
    "study.optimize(objective, n_trials=120)"
   ]
  },
  {
   "cell_type": "code",
   "execution_count": 16,
   "metadata": {},
   "outputs": [
    {
     "data": {
      "text/html": [
       "<div>\n",
       "<style scoped>\n",
       "    .dataframe tbody tr th:only-of-type {\n",
       "        vertical-align: middle;\n",
       "    }\n",
       "\n",
       "    .dataframe tbody tr th {\n",
       "        vertical-align: top;\n",
       "    }\n",
       "\n",
       "    .dataframe thead th {\n",
       "        text-align: right;\n",
       "    }\n",
       "</style>\n",
       "<table border=\"1\" class=\"dataframe\">\n",
       "  <thead>\n",
       "    <tr style=\"text-align: right;\">\n",
       "      <th></th>\n",
       "      <th>number</th>\n",
       "      <th>value</th>\n",
       "      <th>datetime_start</th>\n",
       "      <th>datetime_complete</th>\n",
       "      <th>duration</th>\n",
       "      <th>params_batch_size_exp</th>\n",
       "      <th>params_dense_dropout</th>\n",
       "      <th>params_dense_size</th>\n",
       "      <th>params_hidden_size</th>\n",
       "      <th>params_learning_rate_exp</th>\n",
       "      <th>params_lstm_dropout</th>\n",
       "      <th>params_lstm_layers</th>\n",
       "      <th>params_smaller_dense_size</th>\n",
       "      <th>state</th>\n",
       "    </tr>\n",
       "  </thead>\n",
       "  <tbody>\n",
       "    <tr>\n",
       "      <th>131</th>\n",
       "      <td>131</td>\n",
       "      <td>0.180713</td>\n",
       "      <td>2023-01-12 10:26:19.629676</td>\n",
       "      <td>2023-01-12 10:32:45.849176</td>\n",
       "      <td>0 days 00:06:26.219500</td>\n",
       "      <td>6</td>\n",
       "      <td>0.159749</td>\n",
       "      <td>47</td>\n",
       "      <td>77</td>\n",
       "      <td>-5</td>\n",
       "      <td>0.084146</td>\n",
       "      <td>2</td>\n",
       "      <td>27</td>\n",
       "      <td>COMPLETE</td>\n",
       "    </tr>\n",
       "    <tr>\n",
       "      <th>75</th>\n",
       "      <td>75</td>\n",
       "      <td>0.199489</td>\n",
       "      <td>2023-01-12 01:25:53.300805</td>\n",
       "      <td>2023-01-12 01:30:46.523304</td>\n",
       "      <td>0 days 00:04:53.222499</td>\n",
       "      <td>7</td>\n",
       "      <td>0.168725</td>\n",
       "      <td>45</td>\n",
       "      <td>88</td>\n",
       "      <td>-5</td>\n",
       "      <td>0.110005</td>\n",
       "      <td>4</td>\n",
       "      <td>62</td>\n",
       "      <td>COMPLETE</td>\n",
       "    </tr>\n",
       "    <tr>\n",
       "      <th>79</th>\n",
       "      <td>79</td>\n",
       "      <td>0.208952</td>\n",
       "      <td>2023-01-12 01:53:17.765305</td>\n",
       "      <td>2023-01-12 02:00:59.362306</td>\n",
       "      <td>0 days 00:07:41.597001</td>\n",
       "      <td>6</td>\n",
       "      <td>0.173905</td>\n",
       "      <td>23</td>\n",
       "      <td>83</td>\n",
       "      <td>-5</td>\n",
       "      <td>0.199601</td>\n",
       "      <td>3</td>\n",
       "      <td>62</td>\n",
       "      <td>COMPLETE</td>\n",
       "    </tr>\n",
       "    <tr>\n",
       "      <th>98</th>\n",
       "      <td>98</td>\n",
       "      <td>0.212780</td>\n",
       "      <td>2023-01-12 04:15:32.365305</td>\n",
       "      <td>2023-01-12 04:25:23.686803</td>\n",
       "      <td>0 days 00:09:51.321498</td>\n",
       "      <td>6</td>\n",
       "      <td>0.189364</td>\n",
       "      <td>36</td>\n",
       "      <td>78</td>\n",
       "      <td>-5</td>\n",
       "      <td>0.117580</td>\n",
       "      <td>5</td>\n",
       "      <td>21</td>\n",
       "      <td>COMPLETE</td>\n",
       "    </tr>\n",
       "    <tr>\n",
       "      <th>32</th>\n",
       "      <td>32</td>\n",
       "      <td>0.213371</td>\n",
       "      <td>2023-01-11 17:07:11.332945</td>\n",
       "      <td>2023-01-11 17:12:55.268543</td>\n",
       "      <td>0 days 00:05:43.935598</td>\n",
       "      <td>6</td>\n",
       "      <td>0.181120</td>\n",
       "      <td>16</td>\n",
       "      <td>93</td>\n",
       "      <td>-5</td>\n",
       "      <td>0.119099</td>\n",
       "      <td>1</td>\n",
       "      <td>52</td>\n",
       "      <td>COMPLETE</td>\n",
       "    </tr>\n",
       "    <tr>\n",
       "      <th>106</th>\n",
       "      <td>106</td>\n",
       "      <td>0.224701</td>\n",
       "      <td>2023-01-12 05:36:20.418805</td>\n",
       "      <td>2023-01-12 05:44:59.911805</td>\n",
       "      <td>0 days 00:08:39.493000</td>\n",
       "      <td>6</td>\n",
       "      <td>0.168666</td>\n",
       "      <td>51</td>\n",
       "      <td>16</td>\n",
       "      <td>-5</td>\n",
       "      <td>0.132852</td>\n",
       "      <td>4</td>\n",
       "      <td>25</td>\n",
       "      <td>COMPLETE</td>\n",
       "    </tr>\n",
       "    <tr>\n",
       "      <th>77</th>\n",
       "      <td>77</td>\n",
       "      <td>0.225556</td>\n",
       "      <td>2023-01-12 01:35:42.398305</td>\n",
       "      <td>2023-01-12 01:44:31.572804</td>\n",
       "      <td>0 days 00:08:49.174499</td>\n",
       "      <td>6</td>\n",
       "      <td>0.178944</td>\n",
       "      <td>24</td>\n",
       "      <td>78</td>\n",
       "      <td>-5</td>\n",
       "      <td>0.180590</td>\n",
       "      <td>4</td>\n",
       "      <td>59</td>\n",
       "      <td>COMPLETE</td>\n",
       "    </tr>\n",
       "    <tr>\n",
       "      <th>39</th>\n",
       "      <td>39</td>\n",
       "      <td>0.228228</td>\n",
       "      <td>2023-01-11 17:49:19.519588</td>\n",
       "      <td>2023-01-11 17:57:16.402589</td>\n",
       "      <td>0 days 00:07:56.883001</td>\n",
       "      <td>6</td>\n",
       "      <td>0.190467</td>\n",
       "      <td>22</td>\n",
       "      <td>108</td>\n",
       "      <td>-5</td>\n",
       "      <td>0.084012</td>\n",
       "      <td>3</td>\n",
       "      <td>54</td>\n",
       "      <td>COMPLETE</td>\n",
       "    </tr>\n",
       "    <tr>\n",
       "      <th>108</th>\n",
       "      <td>108</td>\n",
       "      <td>0.228287</td>\n",
       "      <td>2023-01-12 05:53:44.274308</td>\n",
       "      <td>2023-01-12 06:02:30.839807</td>\n",
       "      <td>0 days 00:08:46.565499</td>\n",
       "      <td>6</td>\n",
       "      <td>0.151690</td>\n",
       "      <td>50</td>\n",
       "      <td>26</td>\n",
       "      <td>-5</td>\n",
       "      <td>0.170956</td>\n",
       "      <td>4</td>\n",
       "      <td>24</td>\n",
       "      <td>COMPLETE</td>\n",
       "    </tr>\n",
       "    <tr>\n",
       "      <th>2</th>\n",
       "      <td>2</td>\n",
       "      <td>0.228315</td>\n",
       "      <td>2023-01-11 03:18:17.886610</td>\n",
       "      <td>2023-01-11 03:23:04.214525</td>\n",
       "      <td>0 days 00:04:46.327915</td>\n",
       "      <td>7</td>\n",
       "      <td>0.170673</td>\n",
       "      <td>16</td>\n",
       "      <td>94</td>\n",
       "      <td>-5</td>\n",
       "      <td>0.178267</td>\n",
       "      <td>4</td>\n",
       "      <td>17</td>\n",
       "      <td>COMPLETE</td>\n",
       "    </tr>\n",
       "  </tbody>\n",
       "</table>\n",
       "</div>"
      ],
      "text/plain": [
       "     number     value             datetime_start          datetime_complete  \\\n",
       "131     131  0.180713 2023-01-12 10:26:19.629676 2023-01-12 10:32:45.849176   \n",
       "75       75  0.199489 2023-01-12 01:25:53.300805 2023-01-12 01:30:46.523304   \n",
       "79       79  0.208952 2023-01-12 01:53:17.765305 2023-01-12 02:00:59.362306   \n",
       "98       98  0.212780 2023-01-12 04:15:32.365305 2023-01-12 04:25:23.686803   \n",
       "32       32  0.213371 2023-01-11 17:07:11.332945 2023-01-11 17:12:55.268543   \n",
       "106     106  0.224701 2023-01-12 05:36:20.418805 2023-01-12 05:44:59.911805   \n",
       "77       77  0.225556 2023-01-12 01:35:42.398305 2023-01-12 01:44:31.572804   \n",
       "39       39  0.228228 2023-01-11 17:49:19.519588 2023-01-11 17:57:16.402589   \n",
       "108     108  0.228287 2023-01-12 05:53:44.274308 2023-01-12 06:02:30.839807   \n",
       "2         2  0.228315 2023-01-11 03:18:17.886610 2023-01-11 03:23:04.214525   \n",
       "\n",
       "                  duration  params_batch_size_exp  params_dense_dropout  \\\n",
       "131 0 days 00:06:26.219500                      6              0.159749   \n",
       "75  0 days 00:04:53.222499                      7              0.168725   \n",
       "79  0 days 00:07:41.597001                      6              0.173905   \n",
       "98  0 days 00:09:51.321498                      6              0.189364   \n",
       "32  0 days 00:05:43.935598                      6              0.181120   \n",
       "106 0 days 00:08:39.493000                      6              0.168666   \n",
       "77  0 days 00:08:49.174499                      6              0.178944   \n",
       "39  0 days 00:07:56.883001                      6              0.190467   \n",
       "108 0 days 00:08:46.565499                      6              0.151690   \n",
       "2   0 days 00:04:46.327915                      7              0.170673   \n",
       "\n",
       "     params_dense_size  params_hidden_size  params_learning_rate_exp  \\\n",
       "131                 47                  77                        -5   \n",
       "75                  45                  88                        -5   \n",
       "79                  23                  83                        -5   \n",
       "98                  36                  78                        -5   \n",
       "32                  16                  93                        -5   \n",
       "106                 51                  16                        -5   \n",
       "77                  24                  78                        -5   \n",
       "39                  22                 108                        -5   \n",
       "108                 50                  26                        -5   \n",
       "2                   16                  94                        -5   \n",
       "\n",
       "     params_lstm_dropout  params_lstm_layers  params_smaller_dense_size  \\\n",
       "131             0.084146                   2                         27   \n",
       "75              0.110005                   4                         62   \n",
       "79              0.199601                   3                         62   \n",
       "98              0.117580                   5                         21   \n",
       "32              0.119099                   1                         52   \n",
       "106             0.132852                   4                         25   \n",
       "77              0.180590                   4                         59   \n",
       "39              0.084012                   3                         54   \n",
       "108             0.170956                   4                         24   \n",
       "2               0.178267                   4                         17   \n",
       "\n",
       "        state  \n",
       "131  COMPLETE  \n",
       "75   COMPLETE  \n",
       "79   COMPLETE  \n",
       "98   COMPLETE  \n",
       "32   COMPLETE  \n",
       "106  COMPLETE  \n",
       "77   COMPLETE  \n",
       "39   COMPLETE  \n",
       "108  COMPLETE  \n",
       "2    COMPLETE  "
      ]
     },
     "execution_count": 16,
     "metadata": {},
     "output_type": "execute_result"
    }
   ],
   "source": [
    "study.trials_dataframe().sort_values(by=\"value\").head(10)"
   ]
  },
  {
   "cell_type": "code",
   "execution_count": 13,
   "metadata": {},
   "outputs": [
    {
     "name": "stdout",
     "output_type": "stream",
     "text": [
      "Best lstm-regressor-model params: {'batch_size_exp': 6, 'dense_dropout': 0.15974907676386768, 'dense_size': 47, 'hidden_size': 77, 'learning_rate_exp': -5, 'lstm_dropout': 0.08414596174676435, 'lstm_layers': 2, 'smaller_dense_size': 27}, achieving val MSE: 0.18071271073730552\n"
     ]
    }
   ],
   "source": [
    "print(f\"Best lstm-regressor-model params: {study.best_params}, achieving val RMSE: {study.best_value}\")"
   ]
  },
  {
   "attachments": {},
   "cell_type": "markdown",
   "metadata": {},
   "source": [
    "## Results"
   ]
  },
  {
   "cell_type": "code",
   "execution_count": 1,
   "metadata": {},
   "outputs": [
    {
     "ename": "NameError",
     "evalue": "name 'get_data_dict' is not defined",
     "output_type": "error",
     "traceback": [
      "\u001b[1;31m---------------------------------------------------------------------------\u001b[0m",
      "\u001b[1;31mNameError\u001b[0m                                 Traceback (most recent call last)",
      "\u001b[1;32mc:\\Users\\thodo\\Documents\\sxoli\\diplomatiki\\code-energy-prediction\\playground\\energy-prediction\\palmtree_embeddings.ipynb Cell 20\u001b[0m in \u001b[0;36m<cell line: 4>\u001b[1;34m()\u001b[0m\n\u001b[0;32m      <a href='vscode-notebook-cell:/c%3A/Users/thodo/Documents/sxoli/diplomatiki/code-energy-prediction/playground/energy-prediction/palmtree_embeddings.ipynb#X25sZmlsZQ%3D%3D?line=6'>7</a>\u001b[0m \u001b[39melse\u001b[39;00m:\n\u001b[0;32m      <a href='vscode-notebook-cell:/c%3A/Users/thodo/Documents/sxoli/diplomatiki/code-energy-prediction/playground/energy-prediction/palmtree_embeddings.ipynb#X25sZmlsZQ%3D%3D?line=7'>8</a>\u001b[0m     batch_size \u001b[39m=\u001b[39m \u001b[39m2\u001b[39m\u001b[39m*\u001b[39m\u001b[39m*\u001b[39m\u001b[39m6\u001b[39m\n\u001b[1;32m---> <a href='vscode-notebook-cell:/c%3A/Users/thodo/Documents/sxoli/diplomatiki/code-energy-prediction/playground/energy-prediction/palmtree_embeddings.ipynb#X25sZmlsZQ%3D%3D?line=9'>10</a>\u001b[0m     data_loaders \u001b[39m=\u001b[39m get_data_dict(data_df\u001b[39m=\u001b[39mdata_df, mean\u001b[39m=\u001b[39m\u001b[39mFalse\u001b[39;00m, batch_size\u001b[39m=\u001b[39mbatch_size)\n\u001b[0;32m     <a href='vscode-notebook-cell:/c%3A/Users/thodo/Documents/sxoli/diplomatiki/code-energy-prediction/playground/energy-prediction/palmtree_embeddings.ipynb#X25sZmlsZQ%3D%3D?line=10'>11</a>\u001b[0m     train_loader \u001b[39m=\u001b[39m data_loaders[\u001b[39m\"\u001b[39m\u001b[39mtrain_loader\u001b[39m\u001b[39m\"\u001b[39m]\n\u001b[0;32m     <a href='vscode-notebook-cell:/c%3A/Users/thodo/Documents/sxoli/diplomatiki/code-energy-prediction/playground/energy-prediction/palmtree_embeddings.ipynb#X25sZmlsZQ%3D%3D?line=11'>12</a>\u001b[0m     val_loader \u001b[39m=\u001b[39m data_loaders[\u001b[39m\"\u001b[39m\u001b[39mval_loader\u001b[39m\u001b[39m\"\u001b[39m]\n",
      "\u001b[1;31mNameError\u001b[0m: name 'get_data_dict' is not defined"
     ]
    }
   ],
   "source": [
    "load = False\n",
    "save = True\n",
    "\n",
    "batch_size = 2**6\n",
    "\n",
    "data_loaders = get_data_dict(data_df=data_df, mean=False, batch_size=batch_size)\n",
    "train_loader = data_loaders[\"train_loader\"]\n",
    "val_loader = data_loaders[\"val_loader\"]\n",
    "\n",
    "embedding_size = next(iter(train_loader))[0].shape[-1]\n",
    "\n",
    "model = LSTM_Regressor(\n",
    "    embedding_size=embedding_size,\n",
    "    hidden_size=77,\n",
    "    num_layers=2,\n",
    "    dense_size=47,\n",
    "    smaller_dense_size=27,\n",
    "    lstm_dropout=0.085,\n",
    "    dense_dropout=0.15,\n",
    ")\n",
    "\n",
    "if load:\n",
    "    model.load_state_dict(torch.load(\"../../model_checkpoints/lstm_model\"))\n",
    "else:\n",
    "    train_results = train_lstm_model(\n",
    "        model=model,\n",
    "        train_loader=train_loader,\n",
    "        val_loader=val_loader,\n",
    "        lr=10e-5,\n",
    "        epochs=200,\n",
    "        batch_size=batch_size,\n",
    "        verbose=True,\n",
    "        early_stopping=True,\n",
    "        lr_decay=0.1,\n",
    "        lr_decay_step=10,\n",
    "    )\n",
    "\n",
    "    if save:\n",
    "        torch.save(model.state_dict(), \"../../model_checkpoints/lstm_model\")"
   ]
  },
  {
   "cell_type": "code",
   "execution_count": 22,
   "metadata": {},
   "outputs": [
    {
     "data": {
      "image/png": "[encoded data removed]",
      "text/plain": [
       "<Figure size 640x480 with 1 Axes>"
      ]
     },
     "metadata": {},
     "output_type": "display_data"
    }
   ],
   "source": [
    "plt.plot(train_results[\"train_loss\"], label=\"Train RMSE Loss\")\n",
    "plt.plot(train_results[\"val_loss\"], label=\"Val RMSE Loss\")\n",
    "plt.legend()\n",
    "plt.show()"
   ]
  },
  {
   "cell_type": "code",
   "execution_count": 23,
   "metadata": {},
   "outputs": [
    {
     "ename": "RuntimeError",
     "evalue": "Expected hidden[0] size (2, 64, 77), got [2, 128, 77]",
     "output_type": "error",
     "traceback": [
      "\u001b[1;31m---------------------------------------------------------------------------\u001b[0m",
      "\u001b[1;31mRuntimeError\u001b[0m                              Traceback (most recent call last)",
      "\u001b[1;32mc:\\Users\\thodo\\Documents\\σχολη\\diplomatiki\\code-energy-prediction\\playground\\energy-prediction\\energy_prediction.ipynb Cell 22\u001b[0m in \u001b[0;36m<cell line: 5>\u001b[1;34m()\u001b[0m\n\u001b[0;32m      <a href='vscode-notebook-cell:/c%3A/Users/thodo/Documents/%CF%83%CF%87%CE%BF%CE%BB%CE%B7/diplomatiki/code-energy-prediction/playground/energy-prediction/energy_prediction.ipynb#X30sZmlsZQ%3D%3D?line=4'>5</a>\u001b[0m \u001b[39mfor\u001b[39;00m embeddings, _, labels \u001b[39min\u001b[39;00m val_loader:\n\u001b[0;32m      <a href='vscode-notebook-cell:/c%3A/Users/thodo/Documents/%CF%83%CF%87%CE%BF%CE%BB%CE%B7/diplomatiki/code-energy-prediction/playground/energy-prediction/energy_prediction.ipynb#X30sZmlsZQ%3D%3D?line=6'>7</a>\u001b[0m     embeddings, labels \u001b[39m=\u001b[39m embeddings\u001b[39m.\u001b[39mcuda(), labels\u001b[39m.\u001b[39mcuda()  \n\u001b[1;32m----> <a href='vscode-notebook-cell:/c%3A/Users/thodo/Documents/%CF%83%CF%87%CE%BF%CE%BB%CE%B7/diplomatiki/code-energy-prediction/playground/energy-prediction/energy_prediction.ipynb#X30sZmlsZQ%3D%3D?line=7'>8</a>\u001b[0m     output, hidden_state \u001b[39m=\u001b[39m model(embeddings, hidden_state)\n\u001b[0;32m      <a href='vscode-notebook-cell:/c%3A/Users/thodo/Documents/%CF%83%CF%87%CE%BF%CE%BB%CE%B7/diplomatiki/code-energy-prediction/playground/energy-prediction/energy_prediction.ipynb#X30sZmlsZQ%3D%3D?line=8'>9</a>\u001b[0m     preds\u001b[39m.\u001b[39mappend(output\u001b[39m.\u001b[39mtolist())\n\u001b[0;32m     <a href='vscode-notebook-cell:/c%3A/Users/thodo/Documents/%CF%83%CF%87%CE%BF%CE%BB%CE%B7/diplomatiki/code-energy-prediction/playground/energy-prediction/energy_prediction.ipynb#X30sZmlsZQ%3D%3D?line=9'>10</a>\u001b[0m     true_energies\u001b[39m.\u001b[39mappend(labels\u001b[39m.\u001b[39mtolist())\n",
      "File \u001b[1;32mc:\\Users\\thodo\\miniconda3\\envs\\energy-prediction\\lib\\site-packages\\torch\\nn\\modules\\module.py:1130\u001b[0m, in \u001b[0;36mModule._call_impl\u001b[1;34m(self, *input, **kwargs)\u001b[0m\n\u001b[0;32m   1126\u001b[0m \u001b[39m# If we don't have any hooks, we want to skip the rest of the logic in\u001b[39;00m\n\u001b[0;32m   1127\u001b[0m \u001b[39m# this function, and just call forward.\u001b[39;00m\n\u001b[0;32m   1128\u001b[0m \u001b[39mif\u001b[39;00m \u001b[39mnot\u001b[39;00m (\u001b[39mself\u001b[39m\u001b[39m.\u001b[39m_backward_hooks \u001b[39mor\u001b[39;00m \u001b[39mself\u001b[39m\u001b[39m.\u001b[39m_forward_hooks \u001b[39mor\u001b[39;00m \u001b[39mself\u001b[39m\u001b[39m.\u001b[39m_forward_pre_hooks \u001b[39mor\u001b[39;00m _global_backward_hooks\n\u001b[0;32m   1129\u001b[0m         \u001b[39mor\u001b[39;00m _global_forward_hooks \u001b[39mor\u001b[39;00m _global_forward_pre_hooks):\n\u001b[1;32m-> 1130\u001b[0m     \u001b[39mreturn\u001b[39;00m forward_call(\u001b[39m*\u001b[39m\u001b[39minput\u001b[39m, \u001b[39m*\u001b[39m\u001b[39m*\u001b[39mkwargs)\n\u001b[0;32m   1131\u001b[0m \u001b[39m# Do not call functions when jit is used\u001b[39;00m\n\u001b[0;32m   1132\u001b[0m full_backward_hooks, non_full_backward_hooks \u001b[39m=\u001b[39m [], []\n",
      "\u001b[1;32mc:\\Users\\thodo\\Documents\\σχολη\\diplomatiki\\code-energy-prediction\\playground\\energy-prediction\\energy_prediction.ipynb Cell 22\u001b[0m in \u001b[0;36mLSTM_Regressor.forward\u001b[1;34m(self, x, hidden)\u001b[0m\n\u001b[0;32m     <a href='vscode-notebook-cell:/c%3A/Users/thodo/Documents/%CF%83%CF%87%CE%BF%CE%BB%CE%B7/diplomatiki/code-energy-prediction/playground/energy-prediction/energy_prediction.ipynb#X30sZmlsZQ%3D%3D?line=34'>35</a>\u001b[0m \u001b[39mdef\u001b[39;00m \u001b[39mforward\u001b[39m(\u001b[39mself\u001b[39m, x, hidden):\n\u001b[0;32m     <a href='vscode-notebook-cell:/c%3A/Users/thodo/Documents/%CF%83%CF%87%CE%BF%CE%BB%CE%B7/diplomatiki/code-energy-prediction/playground/energy-prediction/energy_prediction.ipynb#X30sZmlsZQ%3D%3D?line=36'>37</a>\u001b[0m     batch_size \u001b[39m=\u001b[39m x\u001b[39m.\u001b[39msize(\u001b[39m0\u001b[39m)\n\u001b[1;32m---> <a href='vscode-notebook-cell:/c%3A/Users/thodo/Documents/%CF%83%CF%87%CE%BF%CE%BB%CE%B7/diplomatiki/code-energy-prediction/playground/energy-prediction/energy_prediction.ipynb#X30sZmlsZQ%3D%3D?line=38'>39</a>\u001b[0m     lstm_out, hidden_state \u001b[39m=\u001b[39m \u001b[39mself\u001b[39;49m\u001b[39m.\u001b[39;49mlstm(x, hidden)\n\u001b[0;32m     <a href='vscode-notebook-cell:/c%3A/Users/thodo/Documents/%CF%83%CF%87%CE%BF%CE%BB%CE%B7/diplomatiki/code-energy-prediction/playground/energy-prediction/energy_prediction.ipynb#X30sZmlsZQ%3D%3D?line=39'>40</a>\u001b[0m     lstm_out \u001b[39m=\u001b[39m lstm_out\u001b[39m.\u001b[39mcontiguous()\u001b[39m.\u001b[39mview(\u001b[39m-\u001b[39m\u001b[39m1\u001b[39m, \u001b[39mself\u001b[39m\u001b[39m.\u001b[39mhidden_size)\n\u001b[0;32m     <a href='vscode-notebook-cell:/c%3A/Users/thodo/Documents/%CF%83%CF%87%CE%BF%CE%BB%CE%B7/diplomatiki/code-energy-prediction/playground/energy-prediction/energy_prediction.ipynb#X30sZmlsZQ%3D%3D?line=41'>42</a>\u001b[0m     out \u001b[39m=\u001b[39m \u001b[39mself\u001b[39m\u001b[39m.\u001b[39mdense(lstm_out)\n",
      "File \u001b[1;32mc:\\Users\\thodo\\miniconda3\\envs\\energy-prediction\\lib\\site-packages\\torch\\nn\\modules\\module.py:1130\u001b[0m, in \u001b[0;36mModule._call_impl\u001b[1;34m(self, *input, **kwargs)\u001b[0m\n\u001b[0;32m   1126\u001b[0m \u001b[39m# If we don't have any hooks, we want to skip the rest of the logic in\u001b[39;00m\n\u001b[0;32m   1127\u001b[0m \u001b[39m# this function, and just call forward.\u001b[39;00m\n\u001b[0;32m   1128\u001b[0m \u001b[39mif\u001b[39;00m \u001b[39mnot\u001b[39;00m (\u001b[39mself\u001b[39m\u001b[39m.\u001b[39m_backward_hooks \u001b[39mor\u001b[39;00m \u001b[39mself\u001b[39m\u001b[39m.\u001b[39m_forward_hooks \u001b[39mor\u001b[39;00m \u001b[39mself\u001b[39m\u001b[39m.\u001b[39m_forward_pre_hooks \u001b[39mor\u001b[39;00m _global_backward_hooks\n\u001b[0;32m   1129\u001b[0m         \u001b[39mor\u001b[39;00m _global_forward_hooks \u001b[39mor\u001b[39;00m _global_forward_pre_hooks):\n\u001b[1;32m-> 1130\u001b[0m     \u001b[39mreturn\u001b[39;00m forward_call(\u001b[39m*\u001b[39m\u001b[39minput\u001b[39m, \u001b[39m*\u001b[39m\u001b[39m*\u001b[39mkwargs)\n\u001b[0;32m   1131\u001b[0m \u001b[39m# Do not call functions when jit is used\u001b[39;00m\n\u001b[0;32m   1132\u001b[0m full_backward_hooks, non_full_backward_hooks \u001b[39m=\u001b[39m [], []\n",
      "File \u001b[1;32mc:\\Users\\thodo\\miniconda3\\envs\\energy-prediction\\lib\\site-packages\\torch\\nn\\modules\\rnn.py:767\u001b[0m, in \u001b[0;36mLSTM.forward\u001b[1;34m(self, input, hx)\u001b[0m\n\u001b[0;32m    763\u001b[0m     \u001b[39m# Each batch of the hidden state should match the input sequence that\u001b[39;00m\n\u001b[0;32m    764\u001b[0m     \u001b[39m# the user believes he/she is passing in.\u001b[39;00m\n\u001b[0;32m    765\u001b[0m     hx \u001b[39m=\u001b[39m \u001b[39mself\u001b[39m\u001b[39m.\u001b[39mpermute_hidden(hx, sorted_indices)\n\u001b[1;32m--> 767\u001b[0m \u001b[39mself\u001b[39;49m\u001b[39m.\u001b[39;49mcheck_forward_args(\u001b[39minput\u001b[39;49m, hx, batch_sizes)\n\u001b[0;32m    768\u001b[0m \u001b[39mif\u001b[39;00m batch_sizes \u001b[39mis\u001b[39;00m \u001b[39mNone\u001b[39;00m:\n\u001b[0;32m    769\u001b[0m     result \u001b[39m=\u001b[39m _VF\u001b[39m.\u001b[39mlstm(\u001b[39minput\u001b[39m, hx, \u001b[39mself\u001b[39m\u001b[39m.\u001b[39m_flat_weights, \u001b[39mself\u001b[39m\u001b[39m.\u001b[39mbias, \u001b[39mself\u001b[39m\u001b[39m.\u001b[39mnum_layers,\n\u001b[0;32m    770\u001b[0m                       \u001b[39mself\u001b[39m\u001b[39m.\u001b[39mdropout, \u001b[39mself\u001b[39m\u001b[39m.\u001b[39mtraining, \u001b[39mself\u001b[39m\u001b[39m.\u001b[39mbidirectional, \u001b[39mself\u001b[39m\u001b[39m.\u001b[39mbatch_first)\n",
      "File \u001b[1;32mc:\\Users\\thodo\\miniconda3\\envs\\energy-prediction\\lib\\site-packages\\torch\\nn\\modules\\rnn.py:693\u001b[0m, in \u001b[0;36mLSTM.check_forward_args\u001b[1;34m(self, input, hidden, batch_sizes)\u001b[0m\n\u001b[0;32m    687\u001b[0m \u001b[39mdef\u001b[39;00m \u001b[39mcheck_forward_args\u001b[39m(\u001b[39mself\u001b[39m,  \u001b[39m# type: ignore[override]\u001b[39;00m\n\u001b[0;32m    688\u001b[0m                        \u001b[39minput\u001b[39m: Tensor,\n\u001b[0;32m    689\u001b[0m                        hidden: Tuple[Tensor, Tensor],\n\u001b[0;32m    690\u001b[0m                        batch_sizes: Optional[Tensor],\n\u001b[0;32m    691\u001b[0m                        ):\n\u001b[0;32m    692\u001b[0m     \u001b[39mself\u001b[39m\u001b[39m.\u001b[39mcheck_input(\u001b[39minput\u001b[39m, batch_sizes)\n\u001b[1;32m--> 693\u001b[0m     \u001b[39mself\u001b[39;49m\u001b[39m.\u001b[39;49mcheck_hidden_size(hidden[\u001b[39m0\u001b[39;49m], \u001b[39mself\u001b[39;49m\u001b[39m.\u001b[39;49mget_expected_hidden_size(\u001b[39minput\u001b[39;49m, batch_sizes),\n\u001b[0;32m    694\u001b[0m                            \u001b[39m'\u001b[39;49m\u001b[39mExpected hidden[0] size \u001b[39;49m\u001b[39m{}\u001b[39;49;00m\u001b[39m, got \u001b[39;49m\u001b[39m{}\u001b[39;49;00m\u001b[39m'\u001b[39;49m)\n\u001b[0;32m    695\u001b[0m     \u001b[39mself\u001b[39m\u001b[39m.\u001b[39mcheck_hidden_size(hidden[\u001b[39m1\u001b[39m], \u001b[39mself\u001b[39m\u001b[39m.\u001b[39mget_expected_cell_size(\u001b[39minput\u001b[39m, batch_sizes),\n\u001b[0;32m    696\u001b[0m                            \u001b[39m'\u001b[39m\u001b[39mExpected hidden[1] size \u001b[39m\u001b[39m{}\u001b[39;00m\u001b[39m, got \u001b[39m\u001b[39m{}\u001b[39;00m\u001b[39m'\u001b[39m)\n",
      "File \u001b[1;32mc:\\Users\\thodo\\miniconda3\\envs\\energy-prediction\\lib\\site-packages\\torch\\nn\\modules\\rnn.py:226\u001b[0m, in \u001b[0;36mRNNBase.check_hidden_size\u001b[1;34m(self, hx, expected_hidden_size, msg)\u001b[0m\n\u001b[0;32m    223\u001b[0m \u001b[39mdef\u001b[39;00m \u001b[39mcheck_hidden_size\u001b[39m(\u001b[39mself\u001b[39m, hx: Tensor, expected_hidden_size: Tuple[\u001b[39mint\u001b[39m, \u001b[39mint\u001b[39m, \u001b[39mint\u001b[39m],\n\u001b[0;32m    224\u001b[0m                       msg: \u001b[39mstr\u001b[39m \u001b[39m=\u001b[39m \u001b[39m'\u001b[39m\u001b[39mExpected hidden size \u001b[39m\u001b[39m{}\u001b[39;00m\u001b[39m, got \u001b[39m\u001b[39m{}\u001b[39;00m\u001b[39m'\u001b[39m) \u001b[39m-\u001b[39m\u001b[39m>\u001b[39m \u001b[39mNone\u001b[39;00m:\n\u001b[0;32m    225\u001b[0m     \u001b[39mif\u001b[39;00m hx\u001b[39m.\u001b[39msize() \u001b[39m!=\u001b[39m expected_hidden_size:\n\u001b[1;32m--> 226\u001b[0m         \u001b[39mraise\u001b[39;00m \u001b[39mRuntimeError\u001b[39;00m(msg\u001b[39m.\u001b[39mformat(expected_hidden_size, \u001b[39mlist\u001b[39m(hx\u001b[39m.\u001b[39msize())))\n",
      "\u001b[1;31mRuntimeError\u001b[0m: Expected hidden[0] size (2, 64, 77), got [2, 128, 77]"
     ]
    }
   ],
   "source": [
    "preds = []\n",
    "true_energies = []\n",
    "\n",
    "hidden_state = model.init_hidden(128)\n",
    "for embeddings, _, labels in val_loader:\n",
    "\n",
    "    embeddings, labels = embeddings.cuda(), labels.cuda()  \n",
    "    output, hidden_state = model(embeddings, hidden_state)\n",
    "    preds.append(output.tolist())\n",
    "    true_energies.append(labels.tolist())\n",
    "\n",
    "preds = np.array(preds).flatten()\n",
    "true_energies = np.array(true_energies).flatten()"
   ]
  },
  {
   "cell_type": "code",
   "execution_count": null,
   "metadata": {},
   "outputs": [
    {
     "data": {
      "image/png": "[encoded data removed]",
      "text/plain": [
       "<Figure size 1000x500 with 1 Axes>"
      ]
     },
     "metadata": {},
     "output_type": "display_data"
    }
   ],
   "source": [
    "plt.figure(figsize=(10, 5))\n",
    "plt.hist(preds, bins=100, range=(0,5))\n",
    "plt.title(\"Predictions' energy distribution\")\n",
    "plt.xlabel(\"Energy\")\n",
    "plt.show()"
   ]
  },
  {
   "cell_type": "code",
   "execution_count": null,
   "metadata": {},
   "outputs": [
    {
     "data": {
      "image/png": "[encoded data removed]",
      "text/plain": [
       "<Figure size 1000x500 with 1 Axes>"
      ]
     },
     "metadata": {},
     "output_type": "display_data"
    }
   ],
   "source": [
    "val_labels = true_energies\n",
    "\n",
    "plt.figure(figsize=(10, 5))\n",
    "plt.hist(val_labels, bins=100, range=(0,5))\n",
    "plt.title(\"Validation labels energy distribution\")\n",
    "plt.xlabel(\"Energy\")\n",
    "plt.show()"
   ]
  },
  {
   "cell_type": "code",
   "execution_count": null,
   "metadata": {},
   "outputs": [
    {
     "name": "stdout",
     "output_type": "stream",
     "text": [
      "Labels' median: 0.4756506511600576, Labels' std: 0.9399938859769091\n"
     ]
    }
   ],
   "source": [
    "median = np.median(true_energies)\n",
    "std = np.std(true_energies)\n",
    "\n",
    "print(f\"Labels' median: {median}, Labels' std: {std}\")"
   ]
  },
  {
   "cell_type": "code",
   "execution_count": null,
   "metadata": {},
   "outputs": [],
   "source": [
    "mse = round(mean_squared_error(true_energies, preds), 3)\n",
    "mae = round(mean_absolute_error(true_energies, preds), 3)\n",
    "\n",
    "print(f\"MSE: {mse}\")\n",
    "print(f\"MAE: {mae}\")"
   ]
  },
  {
   "cell_type": "code",
   "execution_count": null,
   "metadata": {},
   "outputs": [],
   "source": [
    "plt.figure(figsize=(10, 5))\n",
    "plt.title(\"Total energy\")\n",
    "plt.ylabel(\"Energy (*61μJ)\")\n",
    "plt.bar([\"true energy\", \"prediction\"], [sum(true_energies), sum(preds)])\n",
    "plt.show()"
   ]
  },
  {
   "cell_type": "markdown",
   "metadata": {},
   "source": [
    "# Simple Model"
   ]
  },
  {
   "cell_type": "code",
   "execution_count": 26,
   "metadata": {},
   "outputs": [],
   "source": [
    "class Simple_Regressor(nn.Module):\n",
    "    def __init__(\n",
    "        self,\n",
    "        embedding_size: int,\n",
    "        layers: list[int],\n",
    "        dropout: float = 0.15,\n",
    "        regressor_dropout: float = 0.05,\n",
    "    ) -> None:\n",
    "        super().__init__()\n",
    "\n",
    "        self.layers_list = []\n",
    "\n",
    "        for i, dense in enumerate(layers):\n",
    "            if i == 0:\n",
    "                self.layers_list.append(nn.Linear(embedding_size, dense).cuda())\n",
    "            else:\n",
    "                self.layers_list.append(nn.Linear(layers[i - 1], dense).cuda())\n",
    "\n",
    "        self.dropout = nn.Dropout(dropout)\n",
    "        self.dropout2 = nn.Dropout(regressor_dropout)\n",
    "        self.regressor = nn.Linear(layers[-1], 1)\n",
    "\n",
    "    def forward(self, x):\n",
    "\n",
    "        for dense in self.layers_list:\n",
    "            x = dense(x)\n",
    "            if dense == self.layers_list[-1]:\n",
    "                x = self.dropout2(x)\n",
    "            else:\n",
    "                x = self.dropout(x)\n",
    "\n",
    "        out = self.regressor(x)\n",
    "\n",
    "        return out"
   ]
  },
  {
   "attachments": {},
   "cell_type": "markdown",
   "metadata": {},
   "source": [
    "## Training Function"
   ]
  },
  {
   "cell_type": "code",
   "execution_count": 27,
   "metadata": {},
   "outputs": [],
   "source": [
    "def train_simple_model(\n",
    "    model: Simple_Regressor,\n",
    "    train_loader: DataLoader,\n",
    "    val_loader: DataLoader,\n",
    "    lr: float = 1e-2,\n",
    "    batch_size: int = 32,\n",
    "    epochs: int = 100,\n",
    "    verbose: bool = False,\n",
    "    early_stopping: bool = True,\n",
    "    lr_decay: float=0.1,\n",
    "    lr_decay_step: int=10,\n",
    ") -> dict:\n",
    "\n",
    "    if early_stopping:\n",
    "        early_stopper = EarlyStopper(patience=15, min_delta=1e-4)\n",
    "\n",
    "    criterion = nn.RMSELoss()\n",
    "    optimizer = torch.optim.Adam(params=model.parameters(), lr=lr, weight_decay=1e-4)\n",
    "    scheduler = torch.optim.lr_scheduler.StepLR(optimizer=optimizer, step_size=lr_decay_step, gamma=lr_decay)\n",
    "    \n",
    "    model.cuda()\n",
    "\n",
    "    train_losses = []\n",
    "    val_losses = []\n",
    "\n",
    "    for epoch in range(epochs):\n",
    "        model.train()\n",
    "        losses = []\n",
    "        for embeddings, labels in train_loader:\n",
    "\n",
    "            embeddings = embeddings.cuda()\n",
    "            labels = labels.cuda()\n",
    "\n",
    "            output = model(embeddings)\n",
    "            #We use RRMSE Loss\n",
    "            loss = torch.sqrt(criterion(output.squeeze(), labels.float()) + 1e-8)\n",
    "\n",
    "\n",
    "            optimizer.zero_grad()\n",
    "            loss.backward()\n",
    "\n",
    "            nn.utils.clip_grad_norm_(model.parameters(), max_norm=5)\n",
    "            optimizer.step()\n",
    "            losses.append(loss.item())\n",
    "\n",
    "        val_loss = []\n",
    "        model.eval()\n",
    "        for embeddings, labels in val_loader:\n",
    "\n",
    "            embeddings, labels = embeddings.cuda(), labels.cuda()\n",
    "            output = model(embeddings)\n",
    "            #We use RRMSE Loss\n",
    "            v_loss = torch.sqrt(criterion(output.squeeze(), labels.float()) + 1e-8)\n",
    "\n",
    "\n",
    "            val_loss.append(v_loss.item())\n",
    "\n",
    "        if verbose:\n",
    "            print(\n",
    "                f\"Epoch: {epoch+1}/{epochs}, RMSE Train Loss: {round(np.mean(losses), 5)}, RMSE Val Loss: {round(np.mean(val_loss), 5)}\"\n",
    "            )\n",
    "\n",
    "        train_losses.append(np.mean(losses))\n",
    "        val_losses.append(np.mean(val_loss))\n",
    "\n",
    "        if early_stopping:\n",
    "            if early_stopper.early_stop(val_losses[-1]):\n",
    "                break\n",
    "\n",
    "        scheduler.step()\n",
    "\n",
    "    model_training = {\n",
    "        \"model\": model,\n",
    "        \"train_loss\": train_losses,\n",
    "        \"val_loss\": val_losses,\n",
    "        \"epochs_trained\": epoch,\n",
    "    }\n",
    "\n",
    "    return model_training\n"
   ]
  },
  {
   "attachments": {},
   "cell_type": "markdown",
   "metadata": {},
   "source": [
    "## Optuna Trials"
   ]
  },
  {
   "cell_type": "code",
   "execution_count": 28,
   "metadata": {},
   "outputs": [
    {
     "name": "stderr",
     "output_type": "stream",
     "text": [
      "\u001b[32m[I 2023-01-11 02:08:48,410]\u001b[0m Using an existing study with name 'simple_nn-mean_emb-regression-study-good-dataset' instead of creating a new one.\u001b[0m\n"
     ]
    },
    {
     "name": "stdout",
     "output_type": "stream",
     "text": [
      "Using an existing study with name 'simple_nn-mean_emb-regression-study-good-dataset' instead of creating a new one.\n",
      "Using an existing study with name 'simple_nn-mean_emb-regression-study-good-dataset' instead of creating a new one.\n",
      "Using an existing study with name 'simple_nn-mean_emb-regression-study-good-dataset' instead of creating a new one.\n",
      "Using an existing study with name 'simple_nn-mean_emb-regression-study-good-dataset' instead of creating a new one.\n"
     ]
    }
   ],
   "source": [
    "optuna.logging.get_logger(\"optuna\").addHandler(logging.StreamHandler(sys.stdout))\n",
    "study_name = \"simple_nn-mean_emb-regression-study-good-dataset\"\n",
    "storage_name = f\"sqlite:////Users/thodo/Documents/σχολη/diplomatiki/optuna-studies/simple_nn-mean_emb-regression-study.db\"\n",
    "study = optuna.create_study(study_name=study_name, storage=storage_name, load_if_exists=True, direction=\"minimize\")\n",
    "study.set_user_attr(\"Loss\", \"RRMSE\")"
   ]
  },
  {
   "cell_type": "code",
   "execution_count": 12,
   "metadata": {},
   "outputs": [
    {
     "name": "stderr",
     "output_type": "stream",
     "text": [
      "\u001b[32m[I 2023-01-09 14:08:28,492]\u001b[0m Trial 103 finished with value: 0.7647348031682032 and parameters: {'dense_layers': 1, 'dense_0': 61, 'batch_size_exp': 3, 'learning_rate_exp': -3, 'dropout': 0.10761429862178057, 'regressor_dropout': 0.1264597387648022}. Best is trial 55 with value: 0.43997468536312434.\u001b[0m\n"
     ]
    },
    {
     "name": "stdout",
     "output_type": "stream",
     "text": [
      "Trial 103 finished with value: 0.7647348031682032 and parameters: {'dense_layers': 1, 'dense_0': 61, 'batch_size_exp': 3, 'learning_rate_exp': -3, 'dropout': 0.10761429862178057, 'regressor_dropout': 0.1264597387648022}. Best is trial 55 with value: 0.43997468536312434.\n",
      "Trial 103 finished with value: 0.7647348031682032 and parameters: {'dense_layers': 1, 'dense_0': 61, 'batch_size_exp': 3, 'learning_rate_exp': -3, 'dropout': 0.10761429862178057, 'regressor_dropout': 0.1264597387648022}. Best is trial 55 with value: 0.43997468536312434.\n"
     ]
    }
   ],
   "source": [
    "def objective(trial):\n",
    "\n",
    "    num_layers = trial.suggest_int(\"dense_layers\", 1, 6)\n",
    "    dense_layers = [trial.suggest_int(f\"dense_{i}\", 8, 256) for i in range(num_layers)]\n",
    "    batch_size_exp = trial.suggest_int(\"batch_size_exp\", 3, 7)\n",
    "    lr = trial.suggest_float(\"lr\", 1e-4, 1e-2)\n",
    "    lr_decay = trial.suggest_float(\"lr_decay\", 0.05, 0.8)\n",
    "    lr_decay_step = trial.suggest_int(\"lr_decay_step\", 5, 20)\n",
    "    dropout = trial.suggest_float(\"dropout\", 0, 0.2)\n",
    "    regressor_dropout = trial.suggest_float(\"regressor_dropout\", 0, 0.15)\n",
    "\n",
    "    batch_size = 2**batch_size_exp\n",
    "\n",
    "    data_loaders = get_data_dict(data_df=data_df, mean=True, batch_size=batch_size)\n",
    "    train_loader = data_loaders[\"train_loader\"]\n",
    "    val_loader = data_loaders[\"val_loader\"]\n",
    "\n",
    "    embedding_size = next(iter(train_loader))[0].shape[-1]\n",
    "\n",
    "    model = Simple_Regressor(\n",
    "        embedding_size=embedding_size,\n",
    "        layers=dense_layers,\n",
    "        dropout=dropout,\n",
    "        regressor_dropout=regressor_dropout,\n",
    "    )\n",
    "\n",
    "    train_results = train_simple_model(\n",
    "        model=model,\n",
    "        train_loader=train_loader,\n",
    "        val_loader=val_loader,\n",
    "        lr=lr,\n",
    "        epochs=200,\n",
    "        batch_size=batch_size,\n",
    "        early_stopping=True,\n",
    "        lr_decay=lr_decay,\n",
    "        lr_decay_step=lr_decay_step,\n",
    "    )\n",
    "\n",
    "    val_loss = train_results[\"val_loss\"]\n",
    "\n",
    "    return val_loss[-1]\n",
    "\n",
    "\n",
    "study.optimize(objective, n_trials=120)"
   ]
  },
  {
   "cell_type": "code",
   "execution_count": 29,
   "metadata": {},
   "outputs": [
    {
     "data": {
      "text/html": [
       "<div>\n",
       "<style scoped>\n",
       "    .dataframe tbody tr th:only-of-type {\n",
       "        vertical-align: middle;\n",
       "    }\n",
       "\n",
       "    .dataframe tbody tr th {\n",
       "        vertical-align: top;\n",
       "    }\n",
       "\n",
       "    .dataframe thead th {\n",
       "        text-align: right;\n",
       "    }\n",
       "</style>\n",
       "<table border=\"1\" class=\"dataframe\">\n",
       "  <thead>\n",
       "    <tr style=\"text-align: right;\">\n",
       "      <th></th>\n",
       "      <th>number</th>\n",
       "      <th>value</th>\n",
       "      <th>datetime_start</th>\n",
       "      <th>datetime_complete</th>\n",
       "      <th>duration</th>\n",
       "      <th>params_batch_size_exp</th>\n",
       "      <th>params_dense_0</th>\n",
       "      <th>params_dense_1</th>\n",
       "      <th>params_dense_2</th>\n",
       "      <th>params_dense_3</th>\n",
       "      <th>params_dense_4</th>\n",
       "      <th>params_dense_5</th>\n",
       "      <th>params_dense_layers</th>\n",
       "      <th>params_dropout</th>\n",
       "      <th>params_learning_rate_exp</th>\n",
       "      <th>params_regressor_dropout</th>\n",
       "      <th>state</th>\n",
       "    </tr>\n",
       "  </thead>\n",
       "  <tbody>\n",
       "    <tr>\n",
       "      <th>55</th>\n",
       "      <td>55</td>\n",
       "      <td>0.439975</td>\n",
       "      <td>2023-01-09 06:17:46.434492</td>\n",
       "      <td>2023-01-09 06:30:07.847971</td>\n",
       "      <td>0 days 00:12:21.413479</td>\n",
       "      <td>3</td>\n",
       "      <td>162</td>\n",
       "      <td>NaN</td>\n",
       "      <td>NaN</td>\n",
       "      <td>NaN</td>\n",
       "      <td>NaN</td>\n",
       "      <td>NaN</td>\n",
       "      <td>1</td>\n",
       "      <td>0.184660</td>\n",
       "      <td>-3</td>\n",
       "      <td>0.000839</td>\n",
       "      <td>COMPLETE</td>\n",
       "    </tr>\n",
       "    <tr>\n",
       "      <th>77</th>\n",
       "      <td>77</td>\n",
       "      <td>0.481107</td>\n",
       "      <td>2023-01-09 09:51:28.306257</td>\n",
       "      <td>2023-01-09 09:57:56.392646</td>\n",
       "      <td>0 days 00:06:28.086389</td>\n",
       "      <td>4</td>\n",
       "      <td>203</td>\n",
       "      <td>NaN</td>\n",
       "      <td>NaN</td>\n",
       "      <td>NaN</td>\n",
       "      <td>NaN</td>\n",
       "      <td>NaN</td>\n",
       "      <td>1</td>\n",
       "      <td>0.153568</td>\n",
       "      <td>-3</td>\n",
       "      <td>0.017584</td>\n",
       "      <td>COMPLETE</td>\n",
       "    </tr>\n",
       "    <tr>\n",
       "      <th>60</th>\n",
       "      <td>60</td>\n",
       "      <td>0.483190</td>\n",
       "      <td>2023-01-09 07:21:23.597985</td>\n",
       "      <td>2023-01-09 07:27:57.998985</td>\n",
       "      <td>0 days 00:06:34.401000</td>\n",
       "      <td>4</td>\n",
       "      <td>176</td>\n",
       "      <td>NaN</td>\n",
       "      <td>NaN</td>\n",
       "      <td>NaN</td>\n",
       "      <td>NaN</td>\n",
       "      <td>NaN</td>\n",
       "      <td>1</td>\n",
       "      <td>0.172506</td>\n",
       "      <td>-3</td>\n",
       "      <td>0.006142</td>\n",
       "      <td>COMPLETE</td>\n",
       "    </tr>\n",
       "    <tr>\n",
       "      <th>63</th>\n",
       "      <td>63</td>\n",
       "      <td>0.493283</td>\n",
       "      <td>2023-01-09 07:48:39.618658</td>\n",
       "      <td>2023-01-09 08:01:33.299750</td>\n",
       "      <td>0 days 00:12:53.681092</td>\n",
       "      <td>3</td>\n",
       "      <td>137</td>\n",
       "      <td>NaN</td>\n",
       "      <td>NaN</td>\n",
       "      <td>NaN</td>\n",
       "      <td>NaN</td>\n",
       "      <td>NaN</td>\n",
       "      <td>1</td>\n",
       "      <td>0.058225</td>\n",
       "      <td>-3</td>\n",
       "      <td>0.003660</td>\n",
       "      <td>COMPLETE</td>\n",
       "    </tr>\n",
       "    <tr>\n",
       "      <th>37</th>\n",
       "      <td>37</td>\n",
       "      <td>0.511997</td>\n",
       "      <td>2023-01-09 04:05:56.400867</td>\n",
       "      <td>2023-01-09 04:09:12.563638</td>\n",
       "      <td>0 days 00:03:16.162771</td>\n",
       "      <td>5</td>\n",
       "      <td>235</td>\n",
       "      <td>NaN</td>\n",
       "      <td>NaN</td>\n",
       "      <td>NaN</td>\n",
       "      <td>NaN</td>\n",
       "      <td>NaN</td>\n",
       "      <td>1</td>\n",
       "      <td>0.167221</td>\n",
       "      <td>-3</td>\n",
       "      <td>0.140379</td>\n",
       "      <td>COMPLETE</td>\n",
       "    </tr>\n",
       "    <tr>\n",
       "      <th>48</th>\n",
       "      <td>48</td>\n",
       "      <td>0.532418</td>\n",
       "      <td>2023-01-09 04:48:09.741557</td>\n",
       "      <td>2023-01-09 05:00:30.477013</td>\n",
       "      <td>0 days 00:12:20.735456</td>\n",
       "      <td>3</td>\n",
       "      <td>158</td>\n",
       "      <td>NaN</td>\n",
       "      <td>NaN</td>\n",
       "      <td>NaN</td>\n",
       "      <td>NaN</td>\n",
       "      <td>NaN</td>\n",
       "      <td>1</td>\n",
       "      <td>0.189842</td>\n",
       "      <td>-3</td>\n",
       "      <td>0.019822</td>\n",
       "      <td>COMPLETE</td>\n",
       "    </tr>\n",
       "    <tr>\n",
       "      <th>22</th>\n",
       "      <td>22</td>\n",
       "      <td>0.532783</td>\n",
       "      <td>2023-01-09 03:07:39.123335</td>\n",
       "      <td>2023-01-09 03:10:55.686098</td>\n",
       "      <td>0 days 00:03:16.562763</td>\n",
       "      <td>5</td>\n",
       "      <td>221</td>\n",
       "      <td>NaN</td>\n",
       "      <td>NaN</td>\n",
       "      <td>NaN</td>\n",
       "      <td>NaN</td>\n",
       "      <td>NaN</td>\n",
       "      <td>1</td>\n",
       "      <td>0.173118</td>\n",
       "      <td>-3</td>\n",
       "      <td>0.121949</td>\n",
       "      <td>COMPLETE</td>\n",
       "    </tr>\n",
       "    <tr>\n",
       "      <th>47</th>\n",
       "      <td>47</td>\n",
       "      <td>0.540323</td>\n",
       "      <td>2023-01-09 04:41:54.784896</td>\n",
       "      <td>2023-01-09 04:48:09.722564</td>\n",
       "      <td>0 days 00:06:14.937668</td>\n",
       "      <td>4</td>\n",
       "      <td>160</td>\n",
       "      <td>NaN</td>\n",
       "      <td>NaN</td>\n",
       "      <td>NaN</td>\n",
       "      <td>NaN</td>\n",
       "      <td>NaN</td>\n",
       "      <td>1</td>\n",
       "      <td>0.153256</td>\n",
       "      <td>-3</td>\n",
       "      <td>0.134953</td>\n",
       "      <td>COMPLETE</td>\n",
       "    </tr>\n",
       "    <tr>\n",
       "      <th>92</th>\n",
       "      <td>92</td>\n",
       "      <td>0.541284</td>\n",
       "      <td>2023-01-09 11:48:51.572990</td>\n",
       "      <td>2023-01-09 12:02:42.010988</td>\n",
       "      <td>0 days 00:13:50.437998</td>\n",
       "      <td>3</td>\n",
       "      <td>60</td>\n",
       "      <td>NaN</td>\n",
       "      <td>NaN</td>\n",
       "      <td>NaN</td>\n",
       "      <td>NaN</td>\n",
       "      <td>NaN</td>\n",
       "      <td>1</td>\n",
       "      <td>0.151706</td>\n",
       "      <td>-3</td>\n",
       "      <td>0.132688</td>\n",
       "      <td>COMPLETE</td>\n",
       "    </tr>\n",
       "    <tr>\n",
       "      <th>64</th>\n",
       "      <td>64</td>\n",
       "      <td>0.541902</td>\n",
       "      <td>2023-01-09 08:01:33.318743</td>\n",
       "      <td>2023-01-09 08:07:45.494753</td>\n",
       "      <td>0 days 00:06:12.176010</td>\n",
       "      <td>4</td>\n",
       "      <td>112</td>\n",
       "      <td>NaN</td>\n",
       "      <td>NaN</td>\n",
       "      <td>NaN</td>\n",
       "      <td>NaN</td>\n",
       "      <td>NaN</td>\n",
       "      <td>1</td>\n",
       "      <td>0.044553</td>\n",
       "      <td>-3</td>\n",
       "      <td>0.000672</td>\n",
       "      <td>COMPLETE</td>\n",
       "    </tr>\n",
       "  </tbody>\n",
       "</table>\n",
       "</div>"
      ],
      "text/plain": [
       "    number     value             datetime_start          datetime_complete  \\\n",
       "55      55  0.439975 2023-01-09 06:17:46.434492 2023-01-09 06:30:07.847971   \n",
       "77      77  0.481107 2023-01-09 09:51:28.306257 2023-01-09 09:57:56.392646   \n",
       "60      60  0.483190 2023-01-09 07:21:23.597985 2023-01-09 07:27:57.998985   \n",
       "63      63  0.493283 2023-01-09 07:48:39.618658 2023-01-09 08:01:33.299750   \n",
       "37      37  0.511997 2023-01-09 04:05:56.400867 2023-01-09 04:09:12.563638   \n",
       "48      48  0.532418 2023-01-09 04:48:09.741557 2023-01-09 05:00:30.477013   \n",
       "22      22  0.532783 2023-01-09 03:07:39.123335 2023-01-09 03:10:55.686098   \n",
       "47      47  0.540323 2023-01-09 04:41:54.784896 2023-01-09 04:48:09.722564   \n",
       "92      92  0.541284 2023-01-09 11:48:51.572990 2023-01-09 12:02:42.010988   \n",
       "64      64  0.541902 2023-01-09 08:01:33.318743 2023-01-09 08:07:45.494753   \n",
       "\n",
       "                 duration  params_batch_size_exp  params_dense_0  \\\n",
       "55 0 days 00:12:21.413479                      3             162   \n",
       "77 0 days 00:06:28.086389                      4             203   \n",
       "60 0 days 00:06:34.401000                      4             176   \n",
       "63 0 days 00:12:53.681092                      3             137   \n",
       "37 0 days 00:03:16.162771                      5             235   \n",
       "48 0 days 00:12:20.735456                      3             158   \n",
       "22 0 days 00:03:16.562763                      5             221   \n",
       "47 0 days 00:06:14.937668                      4             160   \n",
       "92 0 days 00:13:50.437998                      3              60   \n",
       "64 0 days 00:06:12.176010                      4             112   \n",
       "\n",
       "    params_dense_1  params_dense_2  params_dense_3  params_dense_4  \\\n",
       "55             NaN             NaN             NaN             NaN   \n",
       "77             NaN             NaN             NaN             NaN   \n",
       "60             NaN             NaN             NaN             NaN   \n",
       "63             NaN             NaN             NaN             NaN   \n",
       "37             NaN             NaN             NaN             NaN   \n",
       "48             NaN             NaN             NaN             NaN   \n",
       "22             NaN             NaN             NaN             NaN   \n",
       "47             NaN             NaN             NaN             NaN   \n",
       "92             NaN             NaN             NaN             NaN   \n",
       "64             NaN             NaN             NaN             NaN   \n",
       "\n",
       "    params_dense_5  params_dense_layers  params_dropout  \\\n",
       "55             NaN                    1        0.184660   \n",
       "77             NaN                    1        0.153568   \n",
       "60             NaN                    1        0.172506   \n",
       "63             NaN                    1        0.058225   \n",
       "37             NaN                    1        0.167221   \n",
       "48             NaN                    1        0.189842   \n",
       "22             NaN                    1        0.173118   \n",
       "47             NaN                    1        0.153256   \n",
       "92             NaN                    1        0.151706   \n",
       "64             NaN                    1        0.044553   \n",
       "\n",
       "    params_learning_rate_exp  params_regressor_dropout     state  \n",
       "55                        -3                  0.000839  COMPLETE  \n",
       "77                        -3                  0.017584  COMPLETE  \n",
       "60                        -3                  0.006142  COMPLETE  \n",
       "63                        -3                  0.003660  COMPLETE  \n",
       "37                        -3                  0.140379  COMPLETE  \n",
       "48                        -3                  0.019822  COMPLETE  \n",
       "22                        -3                  0.121949  COMPLETE  \n",
       "47                        -3                  0.134953  COMPLETE  \n",
       "92                        -3                  0.132688  COMPLETE  \n",
       "64                        -3                  0.000672  COMPLETE  "
      ]
     },
     "execution_count": 29,
     "metadata": {},
     "output_type": "execute_result"
    }
   ],
   "source": [
    "study.trials_dataframe().sort_values(by=\"value\").head(10)"
   ]
  },
  {
   "cell_type": "code",
   "execution_count": 30,
   "metadata": {},
   "outputs": [
    {
     "name": "stdout",
     "output_type": "stream",
     "text": [
      "Best simple-regressor-model params: {'batch_size_exp': 3, 'dense_0': 162, 'dense_layers': 1, 'dropout': 0.18466029305173945, 'learning_rate_exp': -3, 'regressor_dropout': 0.0008387692491181251}, achieving val MSE: 0.43997468536312434\n"
     ]
    }
   ],
   "source": [
    "print(f\"Best simple-regressor-model params: {study.best_params}, achieving val RMSE: {study.best_value}\")"
   ]
  },
  {
   "attachments": {},
   "cell_type": "markdown",
   "metadata": {},
   "source": [
    "## Results"
   ]
  },
  {
   "cell_type": "code",
   "execution_count": 2,
   "metadata": {},
   "outputs": [
    {
     "ename": "NameError",
     "evalue": "name 'get_data_dict' is not defined",
     "output_type": "error",
     "traceback": [
      "\u001b[1;31m---------------------------------------------------------------------------\u001b[0m",
      "\u001b[1;31mNameError\u001b[0m                                 Traceback (most recent call last)",
      "\u001b[1;32mc:\\Users\\thodo\\Documents\\sxoli\\diplomatiki\\code-energy-prediction\\playground\\energy-prediction\\palmtree_embeddings.ipynb Cell 38\u001b[0m in \u001b[0;36m<cell line: 6>\u001b[1;34m()\u001b[0m\n\u001b[0;32m      <a href='vscode-notebook-cell:/c%3A/Users/thodo/Documents/sxoli/diplomatiki/code-energy-prediction/playground/energy-prediction/palmtree_embeddings.ipynb#X53sZmlsZQ%3D%3D?line=1'>2</a>\u001b[0m save \u001b[39m=\u001b[39m \u001b[39mTrue\u001b[39;00m\n\u001b[0;32m      <a href='vscode-notebook-cell:/c%3A/Users/thodo/Documents/sxoli/diplomatiki/code-energy-prediction/playground/energy-prediction/palmtree_embeddings.ipynb#X53sZmlsZQ%3D%3D?line=3'>4</a>\u001b[0m batch_size \u001b[39m=\u001b[39m \u001b[39m2\u001b[39m\u001b[39m*\u001b[39m\u001b[39m*\u001b[39m\u001b[39m3\u001b[39m\n\u001b[1;32m----> <a href='vscode-notebook-cell:/c%3A/Users/thodo/Documents/sxoli/diplomatiki/code-energy-prediction/playground/energy-prediction/palmtree_embeddings.ipynb#X53sZmlsZQ%3D%3D?line=5'>6</a>\u001b[0m data_loaders \u001b[39m=\u001b[39m get_data_dict(data_df\u001b[39m=\u001b[39mdata_df, mean\u001b[39m=\u001b[39m\u001b[39mTrue\u001b[39;00m, batch_size\u001b[39m=\u001b[39mbatch_size)\n\u001b[0;32m      <a href='vscode-notebook-cell:/c%3A/Users/thodo/Documents/sxoli/diplomatiki/code-energy-prediction/playground/energy-prediction/palmtree_embeddings.ipynb#X53sZmlsZQ%3D%3D?line=6'>7</a>\u001b[0m train_loader \u001b[39m=\u001b[39m data_loaders[\u001b[39m\"\u001b[39m\u001b[39mtrain_loader\u001b[39m\u001b[39m\"\u001b[39m]\n\u001b[0;32m      <a href='vscode-notebook-cell:/c%3A/Users/thodo/Documents/sxoli/diplomatiki/code-energy-prediction/playground/energy-prediction/palmtree_embeddings.ipynb#X53sZmlsZQ%3D%3D?line=7'>8</a>\u001b[0m val_loader \u001b[39m=\u001b[39m data_loaders[\u001b[39m\"\u001b[39m\u001b[39mval_loader\u001b[39m\u001b[39m\"\u001b[39m]\n",
      "\u001b[1;31mNameError\u001b[0m: name 'get_data_dict' is not defined"
     ]
    }
   ],
   "source": [
    "load = False\n",
    "save = True\n",
    "\n",
    "batch_size = 2**3\n",
    "\n",
    "data_loaders = get_data_dict(data_df=data_df, mean=True, batch_size=batch_size)\n",
    "train_loader = data_loaders[\"train_loader\"]\n",
    "val_loader = data_loaders[\"val_loader\"]\n",
    "\n",
    "embedding_size = next(iter(train_loader))[0].shape[-1]\n",
    "\n",
    "model = Simple_Regressor(\n",
    "    embedding_size=embedding_size, layers=[162], regressor_dropout=8e-4\n",
    ")\n",
    "\n",
    "if load:\n",
    "    model.load_state_dict(torch.load(\"../../model_checkpoints/simple_model\"))\n",
    "else:\n",
    "    train_results = train_simple_model(\n",
    "        model=model,\n",
    "        train_loader=train_loader,\n",
    "        val_loader=val_loader,\n",
    "        lr=10e-3,\n",
    "        epochs=200,\n",
    "        batch_size=batch_size,\n",
    "        verbose=True,\n",
    "        early_stopping=True,\n",
    "        lr_decay=0.1,\n",
    "        lr_decay_step=10,\n",
    "    )\n",
    "    if save:\n",
    "        torch.save(model.state_dict(), \"../../model_checkpoints/simple_model\")"
   ]
  },
  {
   "cell_type": "code",
   "execution_count": null,
   "metadata": {},
   "outputs": [
    {
     "data": {
      "image/png": "[encoded data removed]",
      "text/plain": [
       "<Figure size 640x480 with 1 Axes>"
      ]
     },
     "metadata": {},
     "output_type": "display_data"
    }
   ],
   "source": [
    "plt.plot(train_results[\"train_loss\"], label=\"Train RMSE Loss\")\n",
    "plt.plot(train_results[\"val_loss\"], label=\"Val RMSE Loss\")\n",
    "plt.legend()\n",
    "plt.show()"
   ]
  },
  {
   "cell_type": "code",
   "execution_count": null,
   "metadata": {},
   "outputs": [],
   "source": [
    "preds = []\n",
    "true_energies = []\n",
    "\n",
    "for embeddings, labels in val_loader:\n",
    "\n",
    "    embeddings, labels = embeddings.cuda(), labels.cuda()  \n",
    "    output = model(embeddings)\n",
    "    preds.append(output.tolist())\n",
    "    true_energies.append(labels.tolist())\n",
    "\n",
    "preds = np.array(preds).flatten()\n",
    "true_energies = np.array(true_energies).flatten()"
   ]
  },
  {
   "cell_type": "code",
   "execution_count": null,
   "metadata": {},
   "outputs": [
    {
     "data": {
      "image/png": "[encoded data removed]",
      "text/plain": [
       "<Figure size 1000x500 with 1 Axes>"
      ]
     },
     "metadata": {},
     "output_type": "display_data"
    }
   ],
   "source": [
    "plt.figure(figsize=(10, 5))\n",
    "plt.hist(preds, bins=100, range=(0,5))\n",
    "plt.title(\"Predictions' energy distribution\")\n",
    "plt.xlabel(\"Energy\")\n",
    "plt.show()"
   ]
  },
  {
   "cell_type": "code",
   "execution_count": null,
   "metadata": {},
   "outputs": [
    {
     "data": {
      "image/png": "[encoded data removed]",
      "text/plain": [
       "<Figure size 1000x500 with 1 Axes>"
      ]
     },
     "metadata": {},
     "output_type": "display_data"
    }
   ],
   "source": [
    "val_labels = true_energies\n",
    "\n",
    "plt.figure(figsize=(10, 5))\n",
    "plt.hist(val_labels, bins=100, range=(0,5))\n",
    "plt.title(\"Validation labels energy distribution\")\n",
    "plt.xlabel(\"Energy\")\n",
    "plt.show()"
   ]
  },
  {
   "cell_type": "code",
   "execution_count": null,
   "metadata": {},
   "outputs": [],
   "source": [
    "median = np.median(true_energies)\n",
    "std = np.std(true_energies)\n",
    "\n",
    "print(f\"Labels' median: {median}, Labels' std: {std}\")"
   ]
  },
  {
   "cell_type": "code",
   "execution_count": null,
   "metadata": {},
   "outputs": [],
   "source": [
    "mse = round(mean_squared_error(true_energies, preds), 3)\n",
    "mae = round(mean_absolute_error(true_energies, preds), 3)\n",
    "\n",
    "print(f\"MSE: {mse}\")\n",
    "print(f\"MAE: {mae}\")"
   ]
  },
  {
   "cell_type": "code",
   "execution_count": null,
   "metadata": {},
   "outputs": [],
   "source": [
    "plt.figure(figsize=(10, 5))\n",
    "plt.title(\"Total energy\")\n",
    "plt.ylabel(\"Energy (*61μJ)\")\n",
    "plt.bar([\"true energy\", \"prediction\"], [sum(true_energies), sum(preds)])\n",
    "plt.show()"
   ]
  }
 ],
 "metadata": {
  "kernelspec": {
   "display_name": "Python 3.10.4 ('energy-prediction')",
   "language": "python",
   "name": "python3"
  },
  "language_info": {
   "codemirror_mode": {
    "name": "ipython",
    "version": 3
   },
   "file_extension": ".py",
   "mimetype": "text/x-python",
   "name": "python",
   "nbconvert_exporter": "python",
   "pygments_lexer": "ipython3",
   "version": "3.10.4"
  },
  "orig_nbformat": 4,
  "vscode": {
   "interpreter": {
    "hash": "2d8ea44dacc84c32c3ffb10f5fa42b465f31145cc9ac97a8028dfa96db72aa4c"
   }
  }
 },
 "nbformat": 4,
 "nbformat_minor": 2
}
