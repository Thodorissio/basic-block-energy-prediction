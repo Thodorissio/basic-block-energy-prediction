{
 "cells": [
  {
   "cell_type": "markdown",
   "metadata": {},
   "source": [
    "# Imports"
   ]
  },
  {
   "cell_type": "code",
   "execution_count": 1,
   "metadata": {},
   "outputs": [],
   "source": [
    "import numpy as np\n",
    "import pandas as pd\n",
    "import matplotlib.pyplot as plt\n",
    "import tqdm\n",
    "import random\n",
    "import sys\n",
    "import os\n",
    "import logging\n",
    "\n",
    "import torch\n",
    "from torch import nn\n",
    "from torch.utils.data import Dataset, DataLoader\n",
    "\n",
    "import optuna\n",
    "\n",
    "from collections import Counter\n",
    "from typing import Optional\n",
    "\n",
    "from sklearn.metrics import mean_absolute_error, mean_squared_error\n",
    "\n",
    "sys.path.append(\"../../src\")\n",
    "sys.path.append(\"../palm-tree\")\n",
    "\n",
    "import embedder\n",
    "import models\n",
    "import utils\n",
    "import train\n",
    "import dataset"
   ]
  },
  {
   "cell_type": "code",
   "execution_count": 2,
   "metadata": {},
   "outputs": [
    {
     "data": {
      "text/plain": [
       "device(type='cuda', index=1)"
      ]
     },
     "execution_count": 2,
     "metadata": {},
     "output_type": "execute_result"
    }
   ],
   "source": [
    "torch.device('cuda:1' if torch.cuda.is_available() else 'cpu')"
   ]
  },
  {
   "attachments": {},
   "cell_type": "markdown",
   "metadata": {},
   "source": [
    "# Data"
   ]
  },
  {
   "cell_type": "code",
   "execution_count": 3,
   "metadata": {},
   "outputs": [],
   "source": [
    "data_files = os.listdir(\"../../dataset/bb_data/\")\n",
    "\n",
    "if \"good_dataset.pkl\" not in data_files:\n",
    "    result_files = [f for f in os.listdir(\"../../../good_dataset/\") if f.endswith(\"results\")] \n",
    "    data_df = pd.DataFrame()\n",
    "\n",
    "    for file in result_files:\n",
    "        file_df = utils.read_bb_data(f\"../../../good_dataset/{file}/breaker_code.txt\", f\"../../../good_dataset/{file}/breaker_final_energy.txt\")\n",
    "        file_df = utils.preprocess_bb_df(file_df)\n",
    "        data_df = pd.concat([data_df, file_df], ignore_index=True)\n",
    "\n",
    "    data_df.to_pickle(\"../../dataset/bb_data/good_dataset.pkl\")\n",
    "    \n",
    "else:\n",
    "    data_df = pd.read_pickle(\"../../dataset/bb_data/good_dataset.pkl\")\n",
    "    if \"bb_embeddings\" in data_df.columns:\n",
    "        data_df = data_df.drop(columns=\"bb_embeddings\")"
   ]
  },
  {
   "attachments": {},
   "cell_type": "markdown",
   "metadata": {},
   "source": [
    "We create the vocab and tokenize the data"
   ]
  },
  {
   "cell_type": "code",
   "execution_count": 4,
   "metadata": {},
   "outputs": [
    {
     "name": "stdout",
     "output_type": "stream",
     "text": [
      "size of vocabulary: 1610\n"
     ]
    }
   ],
   "source": [
    "counts = Counter(inst for bb in data_df.bb.tolist() for inst in set(bb))\n",
    "\n",
    "vocab = {inst: i for i, (inst, _) in enumerate(counts.most_common(20000), start=2)}\n",
    "vocab[\"PAD\"] = 0\n",
    "vocab[\"UNK\"] = 1\n",
    "\n",
    "print(f\"size of vocabulary: {len(vocab)}\")"
   ]
  },
  {
   "cell_type": "markdown",
   "metadata": {},
   "source": [
    "We remove outliers in order to have more balanced padded sequences"
   ]
  },
  {
   "cell_type": "code",
   "execution_count": 5,
   "metadata": {},
   "outputs": [
    {
     "data": {
      "image/png": "[encoded data removed]",
      "text/plain": [
       "<Figure size 1000x400 with 1 Axes>"
      ]
     },
     "metadata": {},
     "output_type": "display_data"
    }
   ],
   "source": [
    "plt.figure(figsize=(10,4))\n",
    "plt.hist(data_df.bb.map(len))\n",
    "plt.title(\"Number of instructions per bb\")\n",
    "plt.ylabel(\"Instructions\")\n",
    "plt.show()"
   ]
  },
  {
   "cell_type": "code",
   "execution_count": 6,
   "metadata": {},
   "outputs": [
    {
     "data": {
      "text/html": [
       "<div>\n",
       "<style scoped>\n",
       "    .dataframe tbody tr th:only-of-type {\n",
       "        vertical-align: middle;\n",
       "    }\n",
       "\n",
       "    .dataframe tbody tr th {\n",
       "        vertical-align: top;\n",
       "    }\n",
       "\n",
       "    .dataframe thead th {\n",
       "        text-align: right;\n",
       "    }\n",
       "</style>\n",
       "<table border=\"1\" class=\"dataframe\">\n",
       "  <thead>\n",
       "    <tr style=\"text-align: right;\">\n",
       "      <th></th>\n",
       "      <th>bb</th>\n",
       "      <th>energy</th>\n",
       "      <th>encoded_bb</th>\n",
       "    </tr>\n",
       "  </thead>\n",
       "  <tbody>\n",
       "    <tr>\n",
       "      <th>0</th>\n",
       "      <td>[movl $0x0]</td>\n",
       "      <td>0.645165</td>\n",
       "      <td>[31]</td>\n",
       "    </tr>\n",
       "    <tr>\n",
       "      <th>1</th>\n",
       "      <td>[callq, pushq %rbp, mov %rsp %rbp]</td>\n",
       "      <td>2.910575</td>\n",
       "      <td>[7, 14, 499]</td>\n",
       "    </tr>\n",
       "    <tr>\n",
       "      <th>2</th>\n",
       "      <td>[popq %rbp, retq]</td>\n",
       "      <td>0.997157</td>\n",
       "      <td>[9, 6]</td>\n",
       "    </tr>\n",
       "    <tr>\n",
       "      <th>3</th>\n",
       "      <td>[movl $0x0]</td>\n",
       "      <td>0.664772</td>\n",
       "      <td>[31]</td>\n",
       "    </tr>\n",
       "    <tr>\n",
       "      <th>4</th>\n",
       "      <td>[cmpl $0x64, jnl 0x2c]</td>\n",
       "      <td>1.400952</td>\n",
       "      <td>[408, 407]</td>\n",
       "    </tr>\n",
       "    <tr>\n",
       "      <th>5</th>\n",
       "      <td>[movl %eax, imull %eax, add $0x9 %eax, movsxdl...</td>\n",
       "      <td>2.334921</td>\n",
       "      <td>[2, 397, 410, 29, 2]</td>\n",
       "    </tr>\n",
       "    <tr>\n",
       "      <th>6</th>\n",
       "      <td>[movl %eax, add $0x1 %eax, movl %eax, jmp]</td>\n",
       "      <td>2.419369</td>\n",
       "      <td>[2, 30, 2, 4]</td>\n",
       "    </tr>\n",
       "    <tr>\n",
       "      <th>7</th>\n",
       "      <td>[cmpl $0x64, jnl 0x2c]</td>\n",
       "      <td>0.967748</td>\n",
       "      <td>[408, 407]</td>\n",
       "    </tr>\n",
       "    <tr>\n",
       "      <th>8</th>\n",
       "      <td>[movl %eax, imull %eax, add $0x9 %eax, movsxdl...</td>\n",
       "      <td>1.612913</td>\n",
       "      <td>[2, 397, 410, 29, 2]</td>\n",
       "    </tr>\n",
       "    <tr>\n",
       "      <th>9</th>\n",
       "      <td>[movl %eax, add $0x1 %eax, movl %eax, jmp]</td>\n",
       "      <td>2.419369</td>\n",
       "      <td>[2, 30, 2, 4]</td>\n",
       "    </tr>\n",
       "  </tbody>\n",
       "</table>\n",
       "</div>"
      ],
      "text/plain": [
       "                                                  bb    energy  \\\n",
       "0                                        [movl $0x0]  0.645165   \n",
       "1                 [callq, pushq %rbp, mov %rsp %rbp]  2.910575   \n",
       "2                                  [popq %rbp, retq]  0.997157   \n",
       "3                                        [movl $0x0]  0.664772   \n",
       "4                             [cmpl $0x64, jnl 0x2c]  1.400952   \n",
       "5  [movl %eax, imull %eax, add $0x9 %eax, movsxdl...  2.334921   \n",
       "6         [movl %eax, add $0x1 %eax, movl %eax, jmp]  2.419369   \n",
       "7                             [cmpl $0x64, jnl 0x2c]  0.967748   \n",
       "8  [movl %eax, imull %eax, add $0x9 %eax, movsxdl...  1.612913   \n",
       "9         [movl %eax, add $0x1 %eax, movl %eax, jmp]  2.419369   \n",
       "\n",
       "             encoded_bb  \n",
       "0                  [31]  \n",
       "1          [7, 14, 499]  \n",
       "2                [9, 6]  \n",
       "3                  [31]  \n",
       "4            [408, 407]  \n",
       "5  [2, 397, 410, 29, 2]  \n",
       "6         [2, 30, 2, 4]  \n",
       "7            [408, 407]  \n",
       "8  [2, 397, 410, 29, 2]  \n",
       "9         [2, 30, 2, 4]  "
      ]
     },
     "execution_count": 6,
     "metadata": {},
     "output_type": "execute_result"
    }
   ],
   "source": [
    "data_df[\"encoded_bb\"] = data_df.bb.apply(lambda x: utils.encode_bb_from_vocab(x, vocab, max_insts=20))\n",
    "data_df.head(10)"
   ]
  },
  {
   "attachments": {},
   "cell_type": "markdown",
   "metadata": {},
   "source": [
    "# Optuna Trials"
   ]
  },
  {
   "cell_type": "code",
   "execution_count": 14,
   "metadata": {},
   "outputs": [
    {
     "name": "stderr",
     "output_type": "stream",
     "text": [
      "\u001b[32m[I 2023-01-15 17:07:00,015]\u001b[0m A new study created in RDB with name: lstm-vocab-regression-study-good-dataset\u001b[0m\n"
     ]
    },
    {
     "name": "stdout",
     "output_type": "stream",
     "text": [
      "A new study created in RDB with name: lstm-vocab-regression-study-good-dataset\n"
     ]
    }
   ],
   "source": [
    "optuna.logging.get_logger(\"optuna\").addHandler(logging.StreamHandler(sys.stdout))\n",
    "study_name = \"lstm-vocab-regression-study-good-dataset\"\n",
    "storage_name = f\"sqlite:////Users/thodo/Documents/sxoli/diplomatiki/optuna-studies/lstm-vocab-regression-study.db\"\n",
    "study = optuna.create_study(study_name=study_name, storage=storage_name, load_if_exists=True, direction=\"minimize\")\n",
    "study.set_user_attr(\"Loss\", \"RMSE\")\n",
    "study.set_user_attr(\"Special vocab tokens\", \"['unk': 0, 'pad': 1]\")\n",
    "study.set_user_attr(\"Max instructions\", \"20\")"
   ]
  },
  {
   "cell_type": "code",
   "execution_count": 15,
   "metadata": {},
   "outputs": [
    {
     "name": "stderr",
     "output_type": "stream",
     "text": [
      "\u001b[32m[I 2023-01-15 17:10:46,780]\u001b[0m Trial 0 finished with value: 0.4593201525833296 and parameters: {'embedding_size': 500, 'lstm_layers': 5, 'hidden_size': 105, 'dense_size': 227, 'smaller_dense_size': 14, 'batch_size_exp': 5, 'lr': 0.008246124138325102, 'lstm_dropout': 0.15713575441199168, 'regressor_dropout': 0.023881148360199084, 'lr_decay': 0.24842666413263959, 'lr_decay_step': 5}. Best is trial 0 with value: 0.4593201525833296.\u001b[0m\n"
     ]
    },
    {
     "name": "stdout",
     "output_type": "stream",
     "text": [
      "Trial 0 finished with value: 0.4593201525833296 and parameters: {'embedding_size': 500, 'lstm_layers': 5, 'hidden_size': 105, 'dense_size': 227, 'smaller_dense_size': 14, 'batch_size_exp': 5, 'lr': 0.008246124138325102, 'lstm_dropout': 0.15713575441199168, 'regressor_dropout': 0.023881148360199084, 'lr_decay': 0.24842666413263959, 'lr_decay_step': 5}. Best is trial 0 with value: 0.4593201525833296.\n"
     ]
    },
    {
     "name": "stderr",
     "output_type": "stream",
     "text": [
      "\u001b[32m[I 2023-01-15 17:26:35,267]\u001b[0m Trial 1 finished with value: 0.3909755822898667 and parameters: {'embedding_size': 416, 'lstm_layers': 2, 'hidden_size': 55, 'dense_size': 26, 'smaller_dense_size': 19, 'batch_size_exp': 3, 'lr': 0.009624102607186227, 'lstm_dropout': 0.05459941834509596, 'regressor_dropout': 0.07971817762229645, 'lr_decay': 0.7176430884613356, 'lr_decay_step': 14}. Best is trial 1 with value: 0.3909755822898667.\u001b[0m\n"
     ]
    },
    {
     "name": "stdout",
     "output_type": "stream",
     "text": [
      "Trial 1 finished with value: 0.3909755822898667 and parameters: {'embedding_size': 416, 'lstm_layers': 2, 'hidden_size': 55, 'dense_size': 26, 'smaller_dense_size': 19, 'batch_size_exp': 3, 'lr': 0.009624102607186227, 'lstm_dropout': 0.05459941834509596, 'regressor_dropout': 0.07971817762229645, 'lr_decay': 0.7176430884613356, 'lr_decay_step': 14}. Best is trial 1 with value: 0.3909755822898667.\n"
     ]
    },
    {
     "name": "stderr",
     "output_type": "stream",
     "text": [
      "\u001b[32m[I 2023-01-15 17:30:07,798]\u001b[0m Trial 2 finished with value: 0.4362978991391002 and parameters: {'embedding_size': 406, 'lstm_layers': 5, 'hidden_size': 25, 'dense_size': 121, 'smaller_dense_size': 22, 'batch_size_exp': 5, 'lr': 0.008561960847832993, 'lstm_dropout': 0.014823177677943257, 'regressor_dropout': 0.06566412020124218, 'lr_decay': 0.7199142822341618, 'lr_decay_step': 13}. Best is trial 1 with value: 0.3909755822898667.\u001b[0m\n"
     ]
    },
    {
     "name": "stdout",
     "output_type": "stream",
     "text": [
      "Trial 2 finished with value: 0.4362978991391002 and parameters: {'embedding_size': 406, 'lstm_layers': 5, 'hidden_size': 25, 'dense_size': 121, 'smaller_dense_size': 22, 'batch_size_exp': 5, 'lr': 0.008561960847832993, 'lstm_dropout': 0.014823177677943257, 'regressor_dropout': 0.06566412020124218, 'lr_decay': 0.7199142822341618, 'lr_decay_step': 13}. Best is trial 1 with value: 0.3909755822898667.\n"
     ]
    },
    {
     "name": "stderr",
     "output_type": "stream",
     "text": [
      "\u001b[32m[I 2023-01-15 17:31:12,759]\u001b[0m Trial 3 finished with value: 0.49683916568756104 and parameters: {'embedding_size': 74, 'lstm_layers': 4, 'hidden_size': 53, 'dense_size': 21, 'smaller_dense_size': 36, 'batch_size_exp': 7, 'lr': 0.002111729129665572, 'lstm_dropout': 0.16581135107250955, 'regressor_dropout': 0.12262767656849108, 'lr_decay': 0.23544034458596652, 'lr_decay_step': 11}. Best is trial 1 with value: 0.3909755822898667.\u001b[0m\n"
     ]
    },
    {
     "name": "stdout",
     "output_type": "stream",
     "text": [
      "Trial 3 finished with value: 0.49683916568756104 and parameters: {'embedding_size': 74, 'lstm_layers': 4, 'hidden_size': 53, 'dense_size': 21, 'smaller_dense_size': 36, 'batch_size_exp': 7, 'lr': 0.002111729129665572, 'lstm_dropout': 0.16581135107250955, 'regressor_dropout': 0.12262767656849108, 'lr_decay': 0.23544034458596652, 'lr_decay_step': 11}. Best is trial 1 with value: 0.3909755822898667.\n"
     ]
    },
    {
     "name": "stderr",
     "output_type": "stream",
     "text": [
      "\u001b[32m[I 2023-01-15 17:40:27,002]\u001b[0m Trial 4 finished with value: 0.7105451354416468 and parameters: {'embedding_size': 72, 'lstm_layers': 5, 'hidden_size': 107, 'dense_size': 46, 'smaller_dense_size': 45, 'batch_size_exp': 3, 'lr': 0.008787679801909337, 'lstm_dropout': 0.06482871522869726, 'regressor_dropout': 0.008582875246776905, 'lr_decay': 0.5565283607543403, 'lr_decay_step': 19}. Best is trial 1 with value: 0.3909755822898667.\u001b[0m\n"
     ]
    },
    {
     "name": "stdout",
     "output_type": "stream",
     "text": [
      "Trial 4 finished with value: 0.7105451354416468 and parameters: {'embedding_size': 72, 'lstm_layers': 5, 'hidden_size': 107, 'dense_size': 46, 'smaller_dense_size': 45, 'batch_size_exp': 3, 'lr': 0.008787679801909337, 'lstm_dropout': 0.06482871522869726, 'regressor_dropout': 0.008582875246776905, 'lr_decay': 0.5565283607543403, 'lr_decay_step': 19}. Best is trial 1 with value: 0.3909755822898667.\n"
     ]
    },
    {
     "name": "stderr",
     "output_type": "stream",
     "text": [
      "\u001b[32m[I 2023-01-15 17:42:36,325]\u001b[0m Trial 5 finished with value: 0.43544740370218304 and parameters: {'embedding_size': 82, 'lstm_layers': 2, 'hidden_size': 21, 'dense_size': 77, 'smaller_dense_size': 49, 'batch_size_exp': 5, 'lr': 0.002054866672667911, 'lstm_dropout': 0.1170744136438302, 'regressor_dropout': 0.10556835647982492, 'lr_decay': 0.47534473643721437, 'lr_decay_step': 18}. Best is trial 1 with value: 0.3909755822898667.\u001b[0m\n"
     ]
    },
    {
     "name": "stdout",
     "output_type": "stream",
     "text": [
      "Trial 5 finished with value: 0.43544740370218304 and parameters: {'embedding_size': 82, 'lstm_layers': 2, 'hidden_size': 21, 'dense_size': 77, 'smaller_dense_size': 49, 'batch_size_exp': 5, 'lr': 0.002054866672667911, 'lstm_dropout': 0.1170744136438302, 'regressor_dropout': 0.10556835647982492, 'lr_decay': 0.47534473643721437, 'lr_decay_step': 18}. Best is trial 1 with value: 0.3909755822898667.\n"
     ]
    },
    {
     "name": "stderr",
     "output_type": "stream",
     "text": [
      "\u001b[32m[I 2023-01-15 17:43:16,137]\u001b[0m Trial 6 finished with value: 0.5461477093836841 and parameters: {'embedding_size': 289, 'lstm_layers': 1, 'hidden_size': 46, 'dense_size': 27, 'smaller_dense_size': 31, 'batch_size_exp': 7, 'lr': 0.00024566539717572997, 'lstm_dropout': 0.08676863288435802, 'regressor_dropout': 0.12317283576328635, 'lr_decay': 0.19207938214320042, 'lr_decay_step': 11}. Best is trial 1 with value: 0.3909755822898667.\u001b[0m\n"
     ]
    },
    {
     "name": "stdout",
     "output_type": "stream",
     "text": [
      "Trial 6 finished with value: 0.5461477093836841 and parameters: {'embedding_size': 289, 'lstm_layers': 1, 'hidden_size': 46, 'dense_size': 27, 'smaller_dense_size': 31, 'batch_size_exp': 7, 'lr': 0.00024566539717572997, 'lstm_dropout': 0.08676863288435802, 'regressor_dropout': 0.12317283576328635, 'lr_decay': 0.19207938214320042, 'lr_decay_step': 11}. Best is trial 1 with value: 0.3909755822898667.\n"
     ]
    },
    {
     "name": "stderr",
     "output_type": "stream",
     "text": [
      "\u001b[32m[I 2023-01-15 17:43:51,646]\u001b[0m Trial 7 finished with value: 0.5511742514722487 and parameters: {'embedding_size': 180, 'lstm_layers': 5, 'hidden_size': 20, 'dense_size': 191, 'smaller_dense_size': 39, 'batch_size_exp': 7, 'lr': 0.0059357605987710995, 'lstm_dropout': 0.02903898334010198, 'regressor_dropout': 0.08701071236135414, 'lr_decay': 0.4197525232462334, 'lr_decay_step': 8}. Best is trial 1 with value: 0.3909755822898667.\u001b[0m\n"
     ]
    },
    {
     "name": "stdout",
     "output_type": "stream",
     "text": [
      "Trial 7 finished with value: 0.5511742514722487 and parameters: {'embedding_size': 180, 'lstm_layers': 5, 'hidden_size': 20, 'dense_size': 191, 'smaller_dense_size': 39, 'batch_size_exp': 7, 'lr': 0.0059357605987710995, 'lstm_dropout': 0.02903898334010198, 'regressor_dropout': 0.08701071236135414, 'lr_decay': 0.4197525232462334, 'lr_decay_step': 8}. Best is trial 1 with value: 0.3909755822898667.\n"
     ]
    },
    {
     "name": "stderr",
     "output_type": "stream",
     "text": [
      "\u001b[32m[I 2023-01-15 17:51:46,635]\u001b[0m Trial 8 finished with value: 0.4790549374741616 and parameters: {'embedding_size': 92, 'lstm_layers': 5, 'hidden_size': 27, 'dense_size': 213, 'smaller_dense_size': 31, 'batch_size_exp': 4, 'lr': 0.0017127002383072192, 'lstm_dropout': 0.13213444516899084, 'regressor_dropout': 0.002873978024102858, 'lr_decay': 0.3537724272034197, 'lr_decay_step': 20}. Best is trial 1 with value: 0.3909755822898667.\u001b[0m\n"
     ]
    },
    {
     "name": "stdout",
     "output_type": "stream",
     "text": [
      "Trial 8 finished with value: 0.4790549374741616 and parameters: {'embedding_size': 92, 'lstm_layers': 5, 'hidden_size': 27, 'dense_size': 213, 'smaller_dense_size': 31, 'batch_size_exp': 4, 'lr': 0.0017127002383072192, 'lstm_dropout': 0.13213444516899084, 'regressor_dropout': 0.002873978024102858, 'lr_decay': 0.3537724272034197, 'lr_decay_step': 20}. Best is trial 1 with value: 0.3909755822898667.\n"
     ]
    },
    {
     "name": "stderr",
     "output_type": "stream",
     "text": [
      "\u001b[32m[I 2023-01-15 17:52:14,032]\u001b[0m Trial 9 finished with value: 0.518042720416013 and parameters: {'embedding_size': 451, 'lstm_layers': 1, 'hidden_size': 91, 'dense_size': 100, 'smaller_dense_size': 20, 'batch_size_exp': 7, 'lr': 0.0095584707049445, 'lstm_dropout': 0.1986913212758246, 'regressor_dropout': 0.10557229673826714, 'lr_decay': 0.20383873981593864, 'lr_decay_step': 9}. Best is trial 1 with value: 0.3909755822898667.\u001b[0m\n"
     ]
    },
    {
     "name": "stdout",
     "output_type": "stream",
     "text": [
      "Trial 9 finished with value: 0.518042720416013 and parameters: {'embedding_size': 451, 'lstm_layers': 1, 'hidden_size': 91, 'dense_size': 100, 'smaller_dense_size': 20, 'batch_size_exp': 7, 'lr': 0.0095584707049445, 'lstm_dropout': 0.1986913212758246, 'regressor_dropout': 0.10557229673826714, 'lr_decay': 0.20383873981593864, 'lr_decay_step': 9}. Best is trial 1 with value: 0.3909755822898667.\n"
     ]
    },
    {
     "name": "stderr",
     "output_type": "stream",
     "text": [
      "\u001b[32m[I 2023-01-15 18:02:20,338]\u001b[0m Trial 10 finished with value: 0.38408319467818863 and parameters: {'embedding_size': 338, 'lstm_layers': 3, 'hidden_size': 74, 'dense_size': 161, 'smaller_dense_size': 62, 'batch_size_exp': 3, 'lr': 0.006126809435667172, 'lstm_dropout': 0.05359889769357721, 'regressor_dropout': 0.06735872396037307, 'lr_decay': 0.7893678976085307, 'lr_decay_step': 15}. Best is trial 10 with value: 0.38408319467818863.\u001b[0m\n"
     ]
    },
    {
     "name": "stdout",
     "output_type": "stream",
     "text": [
      "Trial 10 finished with value: 0.38408319467818863 and parameters: {'embedding_size': 338, 'lstm_layers': 3, 'hidden_size': 74, 'dense_size': 161, 'smaller_dense_size': 62, 'batch_size_exp': 3, 'lr': 0.006126809435667172, 'lstm_dropout': 0.05359889769357721, 'regressor_dropout': 0.06735872396037307, 'lr_decay': 0.7893678976085307, 'lr_decay_step': 15}. Best is trial 10 with value: 0.38408319467818863.\n"
     ]
    },
    {
     "name": "stderr",
     "output_type": "stream",
     "text": [
      "\u001b[32m[I 2023-01-15 18:13:06,059]\u001b[0m Trial 11 finished with value: 0.4159332609278113 and parameters: {'embedding_size': 334, 'lstm_layers': 3, 'hidden_size': 77, 'dense_size': 169, 'smaller_dense_size': 64, 'batch_size_exp': 3, 'lr': 0.005669128683764197, 'lstm_dropout': 0.049400247842415354, 'regressor_dropout': 0.058466708283383906, 'lr_decay': 0.7733293640825403, 'lr_decay_step': 15}. Best is trial 10 with value: 0.38408319467818863.\u001b[0m\n"
     ]
    },
    {
     "name": "stdout",
     "output_type": "stream",
     "text": [
      "Trial 11 finished with value: 0.4159332609278113 and parameters: {'embedding_size': 334, 'lstm_layers': 3, 'hidden_size': 77, 'dense_size': 169, 'smaller_dense_size': 64, 'batch_size_exp': 3, 'lr': 0.005669128683764197, 'lstm_dropout': 0.049400247842415354, 'regressor_dropout': 0.058466708283383906, 'lr_decay': 0.7733293640825403, 'lr_decay_step': 15}. Best is trial 10 with value: 0.38408319467818863.\n"
     ]
    },
    {
     "name": "stderr",
     "output_type": "stream",
     "text": [
      "\u001b[32m[I 2023-01-15 18:20:14,587]\u001b[0m Trial 12 finished with value: 0.42561033432432216 and parameters: {'embedding_size': 355, 'lstm_layers': 3, 'hidden_size': 68, 'dense_size': 152, 'smaller_dense_size': 63, 'batch_size_exp': 4, 'lr': 0.0069390616675837295, 'lstm_dropout': 0.0767017613810233, 'regressor_dropout': 0.0498460593177808, 'lr_decay': 0.6574947969150828, 'lr_decay_step': 16}. Best is trial 10 with value: 0.38408319467818863.\u001b[0m\n"
     ]
    },
    {
     "name": "stdout",
     "output_type": "stream",
     "text": [
      "Trial 12 finished with value: 0.42561033432432216 and parameters: {'embedding_size': 355, 'lstm_layers': 3, 'hidden_size': 68, 'dense_size': 152, 'smaller_dense_size': 63, 'batch_size_exp': 4, 'lr': 0.0069390616675837295, 'lstm_dropout': 0.0767017613810233, 'regressor_dropout': 0.0498460593177808, 'lr_decay': 0.6574947969150828, 'lr_decay_step': 16}. Best is trial 10 with value: 0.38408319467818863.\n"
     ]
    },
    {
     "name": "stderr",
     "output_type": "stream",
     "text": [
      "\u001b[32m[I 2023-01-15 18:28:33,656]\u001b[0m Trial 13 finished with value: 0.39874339810702747 and parameters: {'embedding_size': 237, 'lstm_layers': 2, 'hidden_size': 55, 'dense_size': 72, 'smaller_dense_size': 8, 'batch_size_exp': 3, 'lr': 0.007102092262947421, 'lstm_dropout': 0.04194900472869733, 'regressor_dropout': 0.0393619470087075, 'lr_decay': 0.6210066545065993, 'lr_decay_step': 15}. Best is trial 10 with value: 0.38408319467818863.\u001b[0m\n"
     ]
    },
    {
     "name": "stdout",
     "output_type": "stream",
     "text": [
      "Trial 13 finished with value: 0.39874339810702747 and parameters: {'embedding_size': 237, 'lstm_layers': 2, 'hidden_size': 55, 'dense_size': 72, 'smaller_dense_size': 8, 'batch_size_exp': 3, 'lr': 0.007102092262947421, 'lstm_dropout': 0.04194900472869733, 'regressor_dropout': 0.0393619470087075, 'lr_decay': 0.6210066545065993, 'lr_decay_step': 15}. Best is trial 10 with value: 0.38408319467818863.\n"
     ]
    },
    {
     "name": "stderr",
     "output_type": "stream",
     "text": [
      "\u001b[32m[I 2023-01-15 18:33:08,804]\u001b[0m Trial 14 finished with value: 0.4652764417981501 and parameters: {'embedding_size': 384, 'lstm_layers': 2, 'hidden_size': 124, 'dense_size': 133, 'smaller_dense_size': 53, 'batch_size_exp': 4, 'lr': 0.00434251962414892, 'lstm_dropout': 0.010014267500196974, 'regressor_dropout': 0.08237709123946697, 'lr_decay': 0.06229535367164618, 'lr_decay_step': 13}. Best is trial 10 with value: 0.38408319467818863.\u001b[0m\n"
     ]
    },
    {
     "name": "stdout",
     "output_type": "stream",
     "text": [
      "Trial 14 finished with value: 0.4652764417981501 and parameters: {'embedding_size': 384, 'lstm_layers': 2, 'hidden_size': 124, 'dense_size': 133, 'smaller_dense_size': 53, 'batch_size_exp': 4, 'lr': 0.00434251962414892, 'lstm_dropout': 0.010014267500196974, 'regressor_dropout': 0.08237709123946697, 'lr_decay': 0.06229535367164618, 'lr_decay_step': 13}. Best is trial 10 with value: 0.38408319467818863.\n"
     ]
    },
    {
     "name": "stderr",
     "output_type": "stream",
     "text": [
      "\u001b[32m[I 2023-01-15 18:49:38,745]\u001b[0m Trial 15 finished with value: 0.4007242549491185 and parameters: {'embedding_size': 447, 'lstm_layers': 4, 'hidden_size': 83, 'dense_size': 188, 'smaller_dense_size': 56, 'batch_size_exp': 3, 'lr': 0.004100514090172798, 'lstm_dropout': 0.10217838780711225, 'regressor_dropout': 0.09355888442271842, 'lr_decay': 0.7903028085054988, 'lr_decay_step': 16}. Best is trial 10 with value: 0.38408319467818863.\u001b[0m\n"
     ]
    },
    {
     "name": "stdout",
     "output_type": "stream",
     "text": [
      "Trial 15 finished with value: 0.4007242549491185 and parameters: {'embedding_size': 447, 'lstm_layers': 4, 'hidden_size': 83, 'dense_size': 188, 'smaller_dense_size': 56, 'batch_size_exp': 3, 'lr': 0.004100514090172798, 'lstm_dropout': 0.10217838780711225, 'regressor_dropout': 0.09355888442271842, 'lr_decay': 0.7903028085054988, 'lr_decay_step': 16}. Best is trial 10 with value: 0.38408319467818863.\n"
     ]
    },
    {
     "name": "stderr",
     "output_type": "stream",
     "text": [
      "\u001b[32m[I 2023-01-15 18:52:44,864]\u001b[0m Trial 16 finished with value: 0.44556167335818997 and parameters: {'embedding_size': 288, 'lstm_layers': 2, 'hidden_size': 40, 'dense_size': 251, 'smaller_dense_size': 21, 'batch_size_exp': 4, 'lr': 0.007279215210793598, 'lstm_dropout': 0.05647927169316584, 'regressor_dropout': 0.14823543228481628, 'lr_decay': 0.5534880136737759, 'lr_decay_step': 17}. Best is trial 10 with value: 0.38408319467818863.\u001b[0m\n"
     ]
    },
    {
     "name": "stdout",
     "output_type": "stream",
     "text": [
      "Trial 16 finished with value: 0.44556167335818997 and parameters: {'embedding_size': 288, 'lstm_layers': 2, 'hidden_size': 40, 'dense_size': 251, 'smaller_dense_size': 21, 'batch_size_exp': 4, 'lr': 0.007279215210793598, 'lstm_dropout': 0.05647927169316584, 'regressor_dropout': 0.14823543228481628, 'lr_decay': 0.5534880136737759, 'lr_decay_step': 17}. Best is trial 10 with value: 0.38408319467818863.\n"
     ]
    },
    {
     "name": "stderr",
     "output_type": "stream",
     "text": [
      "\u001b[32m[I 2023-01-15 18:53:56,716]\u001b[0m Trial 17 finished with value: 0.5111131036982817 and parameters: {'embedding_size': 314, 'lstm_layers': 3, 'hidden_size': 63, 'dense_size': 106, 'smaller_dense_size': 28, 'batch_size_exp': 6, 'lr': 0.003413920731499079, 'lstm_dropout': 0.0009685749604488314, 'regressor_dropout': 0.03764241608965119, 'lr_decay': 0.7008687482909304, 'lr_decay_step': 14}. Best is trial 10 with value: 0.38408319467818863.\u001b[0m\n"
     ]
    },
    {
     "name": "stdout",
     "output_type": "stream",
     "text": [
      "Trial 17 finished with value: 0.5111131036982817 and parameters: {'embedding_size': 314, 'lstm_layers': 3, 'hidden_size': 63, 'dense_size': 106, 'smaller_dense_size': 28, 'batch_size_exp': 6, 'lr': 0.003413920731499079, 'lstm_dropout': 0.0009685749604488314, 'regressor_dropout': 0.03764241608965119, 'lr_decay': 0.7008687482909304, 'lr_decay_step': 14}. Best is trial 10 with value: 0.38408319467818863.\n"
     ]
    },
    {
     "name": "stderr",
     "output_type": "stream",
     "text": [
      "\u001b[32m[I 2023-01-15 19:07:15,236]\u001b[0m Trial 18 finished with value: 0.3776194057210372 and parameters: {'embedding_size': 224, 'lstm_layers': 4, 'hidden_size': 38, 'dense_size': 159, 'smaller_dense_size': 42, 'batch_size_exp': 3, 'lr': 0.009694473655230323, 'lstm_dropout': 0.03146350735999125, 'regressor_dropout': 0.06821092486370066, 'lr_decay': 0.5995695618328347, 'lr_decay_step': 11}. Best is trial 18 with value: 0.3776194057210372.\u001b[0m\n"
     ]
    },
    {
     "name": "stdout",
     "output_type": "stream",
     "text": [
      "Trial 18 finished with value: 0.3776194057210372 and parameters: {'embedding_size': 224, 'lstm_layers': 4, 'hidden_size': 38, 'dense_size': 159, 'smaller_dense_size': 42, 'batch_size_exp': 3, 'lr': 0.009694473655230323, 'lstm_dropout': 0.03146350735999125, 'regressor_dropout': 0.06821092486370066, 'lr_decay': 0.5995695618328347, 'lr_decay_step': 11}. Best is trial 18 with value: 0.3776194057210372.\n"
     ]
    },
    {
     "name": "stderr",
     "output_type": "stream",
     "text": [
      "\u001b[32m[I 2023-01-15 19:08:26,808]\u001b[0m Trial 19 finished with value: 0.48321279225980535 and parameters: {'embedding_size': 186, 'lstm_layers': 4, 'hidden_size': 35, 'dense_size': 157, 'smaller_dense_size': 42, 'batch_size_exp': 6, 'lr': 0.005264310825947889, 'lstm_dropout': 0.03153208728120597, 'regressor_dropout': 0.06781549391858424, 'lr_decay': 0.5799701973981235, 'lr_decay_step': 11}. Best is trial 18 with value: 0.3776194057210372.\u001b[0m\n"
     ]
    },
    {
     "name": "stdout",
     "output_type": "stream",
     "text": [
      "Trial 19 finished with value: 0.48321279225980535 and parameters: {'embedding_size': 186, 'lstm_layers': 4, 'hidden_size': 35, 'dense_size': 157, 'smaller_dense_size': 42, 'batch_size_exp': 6, 'lr': 0.005264310825947889, 'lstm_dropout': 0.03153208728120597, 'regressor_dropout': 0.06781549391858424, 'lr_decay': 0.5799701973981235, 'lr_decay_step': 11}. Best is trial 18 with value: 0.3776194057210372.\n"
     ]
    },
    {
     "name": "stderr",
     "output_type": "stream",
     "text": [
      "\u001b[32m[I 2023-01-15 19:15:25,745]\u001b[0m Trial 20 finished with value: 0.4038155628301257 and parameters: {'embedding_size': 228, 'lstm_layers': 4, 'hidden_size': 97, 'dense_size': 193, 'smaller_dense_size': 57, 'batch_size_exp': 4, 'lr': 0.007750969336780496, 'lstm_dropout': 0.08603628493314844, 'regressor_dropout': 0.052632834161482796, 'lr_decay': 0.4665407755907581, 'lr_decay_step': 8}. Best is trial 18 with value: 0.3776194057210372.\u001b[0m\n"
     ]
    },
    {
     "name": "stdout",
     "output_type": "stream",
     "text": [
      "Trial 20 finished with value: 0.4038155628301257 and parameters: {'embedding_size': 228, 'lstm_layers': 4, 'hidden_size': 97, 'dense_size': 193, 'smaller_dense_size': 57, 'batch_size_exp': 4, 'lr': 0.007750969336780496, 'lstm_dropout': 0.08603628493314844, 'regressor_dropout': 0.052632834161482796, 'lr_decay': 0.4665407755907581, 'lr_decay_step': 8}. Best is trial 18 with value: 0.3776194057210372.\n"
     ]
    },
    {
     "name": "stderr",
     "output_type": "stream",
     "text": [
      "\u001b[32m[I 2023-01-15 19:26:03,462]\u001b[0m Trial 21 finished with value: 0.3636768703819603 and parameters: {'embedding_size': 242, 'lstm_layers': 3, 'hidden_size': 8, 'dense_size': 145, 'smaller_dense_size': 50, 'batch_size_exp': 3, 'lr': 0.009710906674057183, 'lstm_dropout': 0.0665692828884658, 'regressor_dropout': 0.07477400198939368, 'lr_decay': 0.7053868976485915, 'lr_decay_step': 12}. Best is trial 21 with value: 0.3636768703819603.\u001b[0m\n"
     ]
    },
    {
     "name": "stdout",
     "output_type": "stream",
     "text": [
      "Trial 21 finished with value: 0.3636768703819603 and parameters: {'embedding_size': 242, 'lstm_layers': 3, 'hidden_size': 8, 'dense_size': 145, 'smaller_dense_size': 50, 'batch_size_exp': 3, 'lr': 0.009710906674057183, 'lstm_dropout': 0.0665692828884658, 'regressor_dropout': 0.07477400198939368, 'lr_decay': 0.7053868976485915, 'lr_decay_step': 12}. Best is trial 21 with value: 0.3636768703819603.\n"
     ]
    },
    {
     "name": "stderr",
     "output_type": "stream",
     "text": [
      "\u001b[32m[I 2023-01-15 19:39:01,262]\u001b[0m Trial 22 finished with value: 0.36891884834749294 and parameters: {'embedding_size': 232, 'lstm_layers': 3, 'hidden_size': 10, 'dense_size': 144, 'smaller_dense_size': 48, 'batch_size_exp': 3, 'lr': 0.00992782110786866, 'lstm_dropout': 0.07111290632317113, 'regressor_dropout': 0.07166799131760718, 'lr_decay': 0.7940194430345509, 'lr_decay_step': 10}. Best is trial 21 with value: 0.3636768703819603.\u001b[0m\n"
     ]
    },
    {
     "name": "stdout",
     "output_type": "stream",
     "text": [
      "Trial 22 finished with value: 0.36891884834749294 and parameters: {'embedding_size': 232, 'lstm_layers': 3, 'hidden_size': 10, 'dense_size': 144, 'smaller_dense_size': 48, 'batch_size_exp': 3, 'lr': 0.00992782110786866, 'lstm_dropout': 0.07111290632317113, 'regressor_dropout': 0.07166799131760718, 'lr_decay': 0.7940194430345509, 'lr_decay_step': 10}. Best is trial 21 with value: 0.3636768703819603.\n"
     ]
    },
    {
     "name": "stderr",
     "output_type": "stream",
     "text": [
      "\u001b[32m[I 2023-01-15 19:57:33,106]\u001b[0m Trial 23 finished with value: 0.4048944262246932 and parameters: {'embedding_size': 239, 'lstm_layers': 4, 'hidden_size': 8, 'dense_size': 126, 'smaller_dense_size': 47, 'batch_size_exp': 3, 'lr': 0.009502458687653705, 'lstm_dropout': 0.07400346927324178, 'regressor_dropout': 0.10209102105763396, 'lr_decay': 0.6396497269894509, 'lr_decay_step': 10}. Best is trial 21 with value: 0.3636768703819603.\u001b[0m\n"
     ]
    },
    {
     "name": "stdout",
     "output_type": "stream",
     "text": [
      "Trial 23 finished with value: 0.4048944262246932 and parameters: {'embedding_size': 239, 'lstm_layers': 4, 'hidden_size': 8, 'dense_size': 126, 'smaller_dense_size': 47, 'batch_size_exp': 3, 'lr': 0.009502458687653705, 'lstm_dropout': 0.07400346927324178, 'regressor_dropout': 0.10209102105763396, 'lr_decay': 0.6396497269894509, 'lr_decay_step': 10}. Best is trial 21 with value: 0.3636768703819603.\n"
     ]
    },
    {
     "name": "stderr",
     "output_type": "stream",
     "text": [
      "\u001b[32m[I 2023-01-15 20:04:39,302]\u001b[0m Trial 24 finished with value: 0.38895427923408343 and parameters: {'embedding_size': 152, 'lstm_layers': 3, 'hidden_size': 9, 'dense_size': 142, 'smaller_dense_size': 53, 'batch_size_exp': 4, 'lr': 0.009866721618664517, 'lstm_dropout': 0.10316702440568434, 'regressor_dropout': 0.035698619427780576, 'lr_decay': 0.6890254998820042, 'lr_decay_step': 6}. Best is trial 21 with value: 0.3636768703819603.\u001b[0m\n"
     ]
    },
    {
     "name": "stdout",
     "output_type": "stream",
     "text": [
      "Trial 24 finished with value: 0.38895427923408343 and parameters: {'embedding_size': 152, 'lstm_layers': 3, 'hidden_size': 9, 'dense_size': 142, 'smaller_dense_size': 53, 'batch_size_exp': 4, 'lr': 0.009866721618664517, 'lstm_dropout': 0.10316702440568434, 'regressor_dropout': 0.035698619427780576, 'lr_decay': 0.6890254998820042, 'lr_decay_step': 6}. Best is trial 21 with value: 0.3636768703819603.\n"
     ]
    },
    {
     "name": "stderr",
     "output_type": "stream",
     "text": [
      "\u001b[32m[I 2023-01-15 20:18:37,031]\u001b[0m Trial 25 finished with value: 0.3850038675557969 and parameters: {'embedding_size': 133, 'lstm_layers': 3, 'hidden_size': 15, 'dense_size': 172, 'smaller_dense_size': 42, 'batch_size_exp': 3, 'lr': 0.009024201945970018, 'lstm_dropout': 0.03296434928889553, 'regressor_dropout': 0.07430874984557646, 'lr_decay': 0.7437183265250413, 'lr_decay_step': 12}. Best is trial 21 with value: 0.3636768703819603.\u001b[0m\n"
     ]
    },
    {
     "name": "stdout",
     "output_type": "stream",
     "text": [
      "Trial 25 finished with value: 0.3850038675557969 and parameters: {'embedding_size': 133, 'lstm_layers': 3, 'hidden_size': 15, 'dense_size': 172, 'smaller_dense_size': 42, 'batch_size_exp': 3, 'lr': 0.009024201945970018, 'lstm_dropout': 0.03296434928889553, 'regressor_dropout': 0.07430874984557646, 'lr_decay': 0.7437183265250413, 'lr_decay_step': 12}. Best is trial 21 with value: 0.3636768703819603.\n"
     ]
    },
    {
     "name": "stderr",
     "output_type": "stream",
     "text": [
      "\u001b[32m[I 2023-01-15 20:26:20,637]\u001b[0m Trial 26 finished with value: 0.4009605298528997 and parameters: {'embedding_size': 210, 'lstm_layers': 4, 'hidden_size': 34, 'dense_size': 96, 'smaller_dense_size': 49, 'batch_size_exp': 4, 'lr': 0.008020245265657472, 'lstm_dropout': 0.022976446726144302, 'regressor_dropout': 0.09152438192344203, 'lr_decay': 0.5896123219573223, 'lr_decay_step': 7}. Best is trial 21 with value: 0.3636768703819603.\u001b[0m\n"
     ]
    },
    {
     "name": "stdout",
     "output_type": "stream",
     "text": [
      "Trial 26 finished with value: 0.4009605298528997 and parameters: {'embedding_size': 210, 'lstm_layers': 4, 'hidden_size': 34, 'dense_size': 96, 'smaller_dense_size': 49, 'batch_size_exp': 4, 'lr': 0.008020245265657472, 'lstm_dropout': 0.022976446726144302, 'regressor_dropout': 0.09152438192344203, 'lr_decay': 0.5896123219573223, 'lr_decay_step': 7}. Best is trial 21 with value: 0.3636768703819603.\n"
     ]
    },
    {
     "name": "stderr",
     "output_type": "stream",
     "text": [
      "\u001b[32m[I 2023-01-15 20:39:39,827]\u001b[0m Trial 27 finished with value: 0.35153762125627114 and parameters: {'embedding_size': 268, 'lstm_layers': 3, 'hidden_size': 31, 'dense_size': 214, 'smaller_dense_size': 37, 'batch_size_exp': 3, 'lr': 0.009013044781248208, 'lstm_dropout': 0.12040569205232185, 'regressor_dropout': 0.04827514054539975, 'lr_decay': 0.5068315493004608, 'lr_decay_step': 9}. Best is trial 27 with value: 0.35153762125627114.\u001b[0m\n"
     ]
    },
    {
     "name": "stdout",
     "output_type": "stream",
     "text": [
      "Trial 27 finished with value: 0.35153762125627114 and parameters: {'embedding_size': 268, 'lstm_layers': 3, 'hidden_size': 31, 'dense_size': 214, 'smaller_dense_size': 37, 'batch_size_exp': 3, 'lr': 0.009013044781248208, 'lstm_dropout': 0.12040569205232185, 'regressor_dropout': 0.04827514054539975, 'lr_decay': 0.5068315493004608, 'lr_decay_step': 9}. Best is trial 27 with value: 0.35153762125627114.\n"
     ]
    },
    {
     "name": "stderr",
     "output_type": "stream",
     "text": [
      "\u001b[32m[I 2023-01-15 20:41:11,259]\u001b[0m Trial 28 finished with value: 0.4576317369937897 and parameters: {'embedding_size': 271, 'lstm_layers': 3, 'hidden_size': 14, 'dense_size': 219, 'smaller_dense_size': 35, 'batch_size_exp': 6, 'lr': 0.008752630752733252, 'lstm_dropout': 0.12712642731840001, 'regressor_dropout': 0.021884022836924005, 'lr_decay': 0.3478827298645078, 'lr_decay_step': 9}. Best is trial 27 with value: 0.35153762125627114.\u001b[0m\n"
     ]
    },
    {
     "name": "stdout",
     "output_type": "stream",
     "text": [
      "Trial 28 finished with value: 0.4576317369937897 and parameters: {'embedding_size': 271, 'lstm_layers': 3, 'hidden_size': 14, 'dense_size': 219, 'smaller_dense_size': 35, 'batch_size_exp': 6, 'lr': 0.008752630752733252, 'lstm_dropout': 0.12712642731840001, 'regressor_dropout': 0.021884022836924005, 'lr_decay': 0.3478827298645078, 'lr_decay_step': 9}. Best is trial 27 with value: 0.35153762125627114.\n"
     ]
    },
    {
     "name": "stderr",
     "output_type": "stream",
     "text": [
      "\u001b[32m[I 2023-01-15 20:46:27,885]\u001b[0m Trial 29 finished with value: 0.40900484295628914 and parameters: {'embedding_size': 264, 'lstm_layers': 3, 'hidden_size': 28, 'dense_size': 251, 'smaller_dense_size': 58, 'batch_size_exp': 4, 'lr': 0.007925333832170565, 'lstm_dropout': 0.15272445965423997, 'regressor_dropout': 0.023893761809799755, 'lr_decay': 0.5232014835510903, 'lr_decay_step': 5}. Best is trial 27 with value: 0.35153762125627114.\u001b[0m\n"
     ]
    },
    {
     "name": "stdout",
     "output_type": "stream",
     "text": [
      "Trial 29 finished with value: 0.40900484295628914 and parameters: {'embedding_size': 264, 'lstm_layers': 3, 'hidden_size': 28, 'dense_size': 251, 'smaller_dense_size': 58, 'batch_size_exp': 4, 'lr': 0.007925333832170565, 'lstm_dropout': 0.15272445965423997, 'regressor_dropout': 0.023893761809799755, 'lr_decay': 0.5232014835510903, 'lr_decay_step': 5}. Best is trial 27 with value: 0.35153762125627114.\n"
     ]
    },
    {
     "name": "stderr",
     "output_type": "stream",
     "text": [
      "\u001b[32m[I 2023-01-15 20:56:32,627]\u001b[0m Trial 30 finished with value: 0.3301598468535049 and parameters: {'embedding_size': 132, 'lstm_layers': 2, 'hidden_size': 16, 'dense_size': 233, 'smaller_dense_size': 37, 'batch_size_exp': 3, 'lr': 0.006598201505269957, 'lstm_dropout': 0.14697752897247743, 'regressor_dropout': 0.045875966164498225, 'lr_decay': 0.6664477826529577, 'lr_decay_step': 9}. Best is trial 30 with value: 0.3301598468535049.\u001b[0m\n"
     ]
    },
    {
     "name": "stdout",
     "output_type": "stream",
     "text": [
      "Trial 30 finished with value: 0.3301598468535049 and parameters: {'embedding_size': 132, 'lstm_layers': 2, 'hidden_size': 16, 'dense_size': 233, 'smaller_dense_size': 37, 'batch_size_exp': 3, 'lr': 0.006598201505269957, 'lstm_dropout': 0.14697752897247743, 'regressor_dropout': 0.045875966164498225, 'lr_decay': 0.6664477826529577, 'lr_decay_step': 9}. Best is trial 30 with value: 0.3301598468535049.\n"
     ]
    },
    {
     "name": "stderr",
     "output_type": "stream",
     "text": [
      "\u001b[32m[I 2023-01-15 21:02:44,643]\u001b[0m Trial 31 finished with value: 0.38320559427462597 and parameters: {'embedding_size': 123, 'lstm_layers': 2, 'hidden_size': 15, 'dense_size': 238, 'smaller_dense_size': 36, 'batch_size_exp': 3, 'lr': 0.006508675677668276, 'lstm_dropout': 0.14908825174357018, 'regressor_dropout': 0.04688992047780084, 'lr_decay': 0.6751419253135058, 'lr_decay_step': 9}. Best is trial 30 with value: 0.3301598468535049.\u001b[0m\n"
     ]
    },
    {
     "name": "stdout",
     "output_type": "stream",
     "text": [
      "Trial 31 finished with value: 0.38320559427462597 and parameters: {'embedding_size': 123, 'lstm_layers': 2, 'hidden_size': 15, 'dense_size': 238, 'smaller_dense_size': 36, 'batch_size_exp': 3, 'lr': 0.006508675677668276, 'lstm_dropout': 0.14908825174357018, 'regressor_dropout': 0.04688992047780084, 'lr_decay': 0.6751419253135058, 'lr_decay_step': 9}. Best is trial 30 with value: 0.3301598468535049.\n"
     ]
    },
    {
     "name": "stderr",
     "output_type": "stream",
     "text": [
      "\u001b[32m[I 2023-01-15 21:13:38,970]\u001b[0m Trial 32 finished with value: 0.3519191735267212 and parameters: {'embedding_size': 188, 'lstm_layers': 2, 'hidden_size': 19, 'dense_size': 209, 'smaller_dense_size': 28, 'batch_size_exp': 3, 'lr': 0.00904880805356638, 'lstm_dropout': 0.16788456538327284, 'regressor_dropout': 0.05871262367762588, 'lr_decay': 0.7491153096828884, 'lr_decay_step': 10}. Best is trial 30 with value: 0.3301598468535049.\u001b[0m\n"
     ]
    },
    {
     "name": "stdout",
     "output_type": "stream",
     "text": [
      "Trial 32 finished with value: 0.3519191735267212 and parameters: {'embedding_size': 188, 'lstm_layers': 2, 'hidden_size': 19, 'dense_size': 209, 'smaller_dense_size': 28, 'batch_size_exp': 3, 'lr': 0.00904880805356638, 'lstm_dropout': 0.16788456538327284, 'regressor_dropout': 0.05871262367762588, 'lr_decay': 0.7491153096828884, 'lr_decay_step': 10}. Best is trial 30 with value: 0.3301598468535049.\n"
     ]
    },
    {
     "name": "stderr",
     "output_type": "stream",
     "text": [
      "\u001b[32m[I 2023-01-15 21:19:08,655]\u001b[0m Trial 33 finished with value: 0.37666299772251893 and parameters: {'embedding_size': 177, 'lstm_layers': 1, 'hidden_size': 28, 'dense_size': 229, 'smaller_dense_size': 16, 'batch_size_exp': 3, 'lr': 0.00837091527133694, 'lstm_dropout': 0.17156745573198026, 'regressor_dropout': 0.057871697324797446, 'lr_decay': 0.7327465430104774, 'lr_decay_step': 12}. Best is trial 30 with value: 0.3301598468535049.\u001b[0m\n"
     ]
    },
    {
     "name": "stdout",
     "output_type": "stream",
     "text": [
      "Trial 33 finished with value: 0.37666299772251893 and parameters: {'embedding_size': 177, 'lstm_layers': 1, 'hidden_size': 28, 'dense_size': 229, 'smaller_dense_size': 16, 'batch_size_exp': 3, 'lr': 0.00837091527133694, 'lstm_dropout': 0.17156745573198026, 'regressor_dropout': 0.057871697324797446, 'lr_decay': 0.7327465430104774, 'lr_decay_step': 12}. Best is trial 30 with value: 0.3301598468535049.\n"
     ]
    },
    {
     "name": "stderr",
     "output_type": "stream",
     "text": [
      "\u001b[32m[I 2023-01-15 21:25:04,357]\u001b[0m Trial 34 finished with value: 0.44822285742425233 and parameters: {'embedding_size': 154, 'lstm_layers': 2, 'hidden_size': 20, 'dense_size': 207, 'smaller_dense_size': 30, 'batch_size_exp': 4, 'lr': 0.009140338165310059, 'lstm_dropout': 0.18222026445548162, 'regressor_dropout': 0.027305951152853128, 'lr_decay': 0.6455303752539938, 'lr_decay_step': 7}. Best is trial 30 with value: 0.3301598468535049.\u001b[0m\n"
     ]
    },
    {
     "name": "stdout",
     "output_type": "stream",
     "text": [
      "Trial 34 finished with value: 0.44822285742425233 and parameters: {'embedding_size': 154, 'lstm_layers': 2, 'hidden_size': 20, 'dense_size': 207, 'smaller_dense_size': 30, 'batch_size_exp': 4, 'lr': 0.009140338165310059, 'lstm_dropout': 0.18222026445548162, 'regressor_dropout': 0.027305951152853128, 'lr_decay': 0.6455303752539938, 'lr_decay_step': 7}. Best is trial 30 with value: 0.3301598468535049.\n"
     ]
    },
    {
     "name": "stderr",
     "output_type": "stream",
     "text": [
      "\u001b[32m[I 2023-01-15 21:34:45,467]\u001b[0m Trial 35 finished with value: 0.3675226625789451 and parameters: {'embedding_size': 199, 'lstm_layers': 1, 'hidden_size': 42, 'dense_size': 234, 'smaller_dense_size': 25, 'batch_size_exp': 3, 'lr': 0.0075784385968841305, 'lstm_dropout': 0.14197667059634045, 'regressor_dropout': 0.01367571961477726, 'lr_decay': 0.7167225301722515, 'lr_decay_step': 10}. Best is trial 30 with value: 0.3301598468535049.\u001b[0m\n"
     ]
    },
    {
     "name": "stdout",
     "output_type": "stream",
     "text": [
      "Trial 35 finished with value: 0.3675226625789451 and parameters: {'embedding_size': 199, 'lstm_layers': 1, 'hidden_size': 42, 'dense_size': 234, 'smaller_dense_size': 25, 'batch_size_exp': 3, 'lr': 0.0075784385968841305, 'lstm_dropout': 0.14197667059634045, 'regressor_dropout': 0.01367571961477726, 'lr_decay': 0.7167225301722515, 'lr_decay_step': 10}. Best is trial 30 with value: 0.3301598468535049.\n"
     ]
    },
    {
     "name": "stderr",
     "output_type": "stream",
     "text": [
      "\u001b[32m[I 2023-01-15 21:37:11,551]\u001b[0m Trial 36 finished with value: 0.44953041016191675 and parameters: {'embedding_size': 107, 'lstm_layers': 2, 'hidden_size': 50, 'dense_size': 204, 'smaller_dense_size': 26, 'batch_size_exp': 5, 'lr': 0.008413962169932203, 'lstm_dropout': 0.11627097829845547, 'regressor_dropout': 0.04474647545484064, 'lr_decay': 0.5190296554391621, 'lr_decay_step': 8}. Best is trial 30 with value: 0.3301598468535049.\u001b[0m\n"
     ]
    },
    {
     "name": "stdout",
     "output_type": "stream",
     "text": [
      "Trial 36 finished with value: 0.44953041016191675 and parameters: {'embedding_size': 107, 'lstm_layers': 2, 'hidden_size': 50, 'dense_size': 204, 'smaller_dense_size': 26, 'batch_size_exp': 5, 'lr': 0.008413962169932203, 'lstm_dropout': 0.11627097829845547, 'regressor_dropout': 0.04474647545484064, 'lr_decay': 0.5190296554391621, 'lr_decay_step': 8}. Best is trial 30 with value: 0.3301598468535049.\n"
     ]
    },
    {
     "name": "stderr",
     "output_type": "stream",
     "text": [
      "\u001b[32m[I 2023-01-15 21:47:32,037]\u001b[0m Trial 37 finished with value: 0.3927109091672846 and parameters: {'embedding_size': 157, 'lstm_layers': 2, 'hidden_size': 22, 'dense_size': 242, 'smaller_dense_size': 33, 'batch_size_exp': 3, 'lr': 0.009140398833288021, 'lstm_dropout': 0.16156920031745783, 'regressor_dropout': 0.06016162876394918, 'lr_decay': 0.7473772161117979, 'lr_decay_step': 12}. Best is trial 30 with value: 0.3301598468535049.\u001b[0m\n"
     ]
    },
    {
     "name": "stdout",
     "output_type": "stream",
     "text": [
      "Trial 37 finished with value: 0.3927109091672846 and parameters: {'embedding_size': 157, 'lstm_layers': 2, 'hidden_size': 22, 'dense_size': 242, 'smaller_dense_size': 33, 'batch_size_exp': 3, 'lr': 0.009140398833288021, 'lstm_dropout': 0.16156920031745783, 'regressor_dropout': 0.06016162876394918, 'lr_decay': 0.7473772161117979, 'lr_decay_step': 12}. Best is trial 30 with value: 0.3301598468535049.\n"
     ]
    },
    {
     "name": "stderr",
     "output_type": "stream",
     "text": [
      "\u001b[32m[I 2023-01-15 21:48:58,507]\u001b[0m Trial 38 finished with value: 0.4586929048317066 and parameters: {'embedding_size': 251, 'lstm_layers': 1, 'hidden_size': 31, 'dense_size': 183, 'smaller_dense_size': 38, 'batch_size_exp': 5, 'lr': 0.008393642286315499, 'lstm_dropout': 0.1783638268836209, 'regressor_dropout': 0.07898320838261592, 'lr_decay': 0.37454433695950856, 'lr_decay_step': 7}. Best is trial 30 with value: 0.3301598468535049.\u001b[0m\n"
     ]
    },
    {
     "name": "stdout",
     "output_type": "stream",
     "text": [
      "Trial 38 finished with value: 0.4586929048317066 and parameters: {'embedding_size': 251, 'lstm_layers': 1, 'hidden_size': 31, 'dense_size': 183, 'smaller_dense_size': 38, 'batch_size_exp': 5, 'lr': 0.008393642286315499, 'lstm_dropout': 0.1783638268836209, 'regressor_dropout': 0.07898320838261592, 'lr_decay': 0.37454433695950856, 'lr_decay_step': 7}. Best is trial 30 with value: 0.3301598468535049.\n"
     ]
    },
    {
     "name": "stderr",
     "output_type": "stream",
     "text": [
      "\u001b[33m[W 2023-01-15 21:57:37,141]\u001b[0m Trial 39 failed because of the following error: KeyboardInterrupt()\u001b[0m\n",
      "Traceback (most recent call last):\n",
      "  File \"c:\\Users\\thodo\\miniconda3\\envs\\energy-prediction\\lib\\site-packages\\optuna\\study\\_optimize.py\", line 196, in _run_trial\n",
      "    value_or_values = func(trial)\n",
      "  File \"C:\\Users\\thodo\\AppData\\Local\\Temp\\ipykernel_7900\\335281735.py\", line 31, in objective\n",
      "    train_results = train_lstm_vocab_model(\n",
      "  File \"C:\\Users\\thodo\\AppData\\Local\\Temp\\ipykernel_7900\\2947610056.py\", line 46, in train_lstm_vocab_model\n",
      "    optimizer.step()\n",
      "  File \"c:\\Users\\thodo\\miniconda3\\envs\\energy-prediction\\lib\\site-packages\\torch\\optim\\lr_scheduler.py\", line 65, in wrapper\n",
      "    return wrapped(*args, **kwargs)\n",
      "  File \"c:\\Users\\thodo\\miniconda3\\envs\\energy-prediction\\lib\\site-packages\\torch\\optim\\optimizer.py\", line 113, in wrapper\n",
      "    return func(*args, **kwargs)\n",
      "  File \"c:\\Users\\thodo\\miniconda3\\envs\\energy-prediction\\lib\\site-packages\\torch\\autograd\\grad_mode.py\", line 27, in decorate_context\n",
      "    return func(*args, **kwargs)\n",
      "  File \"c:\\Users\\thodo\\miniconda3\\envs\\energy-prediction\\lib\\site-packages\\torch\\optim\\adam.py\", line 157, in step\n",
      "    adam(params_with_grad,\n",
      "  File \"c:\\Users\\thodo\\miniconda3\\envs\\energy-prediction\\lib\\site-packages\\torch\\optim\\adam.py\", line 213, in adam\n",
      "    func(params,\n",
      "  File \"c:\\Users\\thodo\\miniconda3\\envs\\energy-prediction\\lib\\site-packages\\torch\\optim\\adam.py\", line 263, in _single_tensor_adam\n",
      "    exp_avg_sq.mul_(beta2).addcmul_(grad, grad.conj(), value=1 - beta2)\n",
      "KeyboardInterrupt\n"
     ]
    },
    {
     "name": "stdout",
     "output_type": "stream",
     "text": [
      "Trial 39 failed because of the following error: KeyboardInterrupt()\n",
      "Traceback (most recent call last):\n",
      "  File \"c:\\Users\\thodo\\miniconda3\\envs\\energy-prediction\\lib\\site-packages\\optuna\\study\\_optimize.py\", line 196, in _run_trial\n",
      "    value_or_values = func(trial)\n",
      "  File \"C:\\Users\\thodo\\AppData\\Local\\Temp\\ipykernel_7900\\335281735.py\", line 31, in objective\n",
      "    train_results = train_lstm_vocab_model(\n",
      "  File \"C:\\Users\\thodo\\AppData\\Local\\Temp\\ipykernel_7900\\2947610056.py\", line 46, in train_lstm_vocab_model\n",
      "    optimizer.step()\n",
      "  File \"c:\\Users\\thodo\\miniconda3\\envs\\energy-prediction\\lib\\site-packages\\torch\\optim\\lr_scheduler.py\", line 65, in wrapper\n",
      "    return wrapped(*args, **kwargs)\n",
      "  File \"c:\\Users\\thodo\\miniconda3\\envs\\energy-prediction\\lib\\site-packages\\torch\\optim\\optimizer.py\", line 113, in wrapper\n",
      "    return func(*args, **kwargs)\n",
      "  File \"c:\\Users\\thodo\\miniconda3\\envs\\energy-prediction\\lib\\site-packages\\torch\\autograd\\grad_mode.py\", line 27, in decorate_context\n",
      "    return func(*args, **kwargs)\n",
      "  File \"c:\\Users\\thodo\\miniconda3\\envs\\energy-prediction\\lib\\site-packages\\torch\\optim\\adam.py\", line 157, in step\n",
      "    adam(params_with_grad,\n",
      "  File \"c:\\Users\\thodo\\miniconda3\\envs\\energy-prediction\\lib\\site-packages\\torch\\optim\\adam.py\", line 213, in adam\n",
      "    func(params,\n",
      "  File \"c:\\Users\\thodo\\miniconda3\\envs\\energy-prediction\\lib\\site-packages\\torch\\optim\\adam.py\", line 263, in _single_tensor_adam\n",
      "    exp_avg_sq.mul_(beta2).addcmul_(grad, grad.conj(), value=1 - beta2)\n",
      "KeyboardInterrupt\n"
     ]
    },
    {
     "ename": "KeyboardInterrupt",
     "evalue": "",
     "output_type": "error",
     "traceback": [
      "\u001b[1;31m---------------------------------------------------------------------------\u001b[0m",
      "\u001b[1;31mKeyboardInterrupt\u001b[0m                         Traceback (most recent call last)",
      "\u001b[1;32mc:\\Users\\thodo\\Documents\\sxoli\\diplomatiki\\code-energy-prediction\\playground\\energy-prediction\\custom_embeddings.ipynb Cell 23\u001b[0m in \u001b[0;36m<cell line: 46>\u001b[1;34m()\u001b[0m\n\u001b[0;32m     <a href='vscode-notebook-cell:/c%3A/Users/thodo/Documents/sxoli/diplomatiki/code-energy-prediction/playground/energy-prediction/custom_embeddings.ipynb#X32sZmlsZQ%3D%3D?line=40'>41</a>\u001b[0m     val_loss \u001b[39m=\u001b[39m train_results[\u001b[39m\"\u001b[39m\u001b[39mval_loss\u001b[39m\u001b[39m\"\u001b[39m]\n\u001b[0;32m     <a href='vscode-notebook-cell:/c%3A/Users/thodo/Documents/sxoli/diplomatiki/code-energy-prediction/playground/energy-prediction/custom_embeddings.ipynb#X32sZmlsZQ%3D%3D?line=42'>43</a>\u001b[0m     \u001b[39mreturn\u001b[39;00m val_loss[\u001b[39m-\u001b[39m\u001b[39m1\u001b[39m]\n\u001b[1;32m---> <a href='vscode-notebook-cell:/c%3A/Users/thodo/Documents/sxoli/diplomatiki/code-energy-prediction/playground/energy-prediction/custom_embeddings.ipynb#X32sZmlsZQ%3D%3D?line=45'>46</a>\u001b[0m study\u001b[39m.\u001b[39;49moptimize(objective, n_trials\u001b[39m=\u001b[39;49m\u001b[39m120\u001b[39;49m)\n",
      "File \u001b[1;32mc:\\Users\\thodo\\miniconda3\\envs\\energy-prediction\\lib\\site-packages\\optuna\\study\\study.py:419\u001b[0m, in \u001b[0;36mStudy.optimize\u001b[1;34m(self, func, n_trials, timeout, n_jobs, catch, callbacks, gc_after_trial, show_progress_bar)\u001b[0m\n\u001b[0;32m    315\u001b[0m \u001b[39mdef\u001b[39;00m \u001b[39moptimize\u001b[39m(\n\u001b[0;32m    316\u001b[0m     \u001b[39mself\u001b[39m,\n\u001b[0;32m    317\u001b[0m     func: ObjectiveFuncType,\n\u001b[1;32m   (...)\u001b[0m\n\u001b[0;32m    324\u001b[0m     show_progress_bar: \u001b[39mbool\u001b[39m \u001b[39m=\u001b[39m \u001b[39mFalse\u001b[39;00m,\n\u001b[0;32m    325\u001b[0m ) \u001b[39m-\u001b[39m\u001b[39m>\u001b[39m \u001b[39mNone\u001b[39;00m:\n\u001b[0;32m    326\u001b[0m     \u001b[39m\"\"\"Optimize an objective function.\u001b[39;00m\n\u001b[0;32m    327\u001b[0m \n\u001b[0;32m    328\u001b[0m \u001b[39m    Optimization is done by choosing a suitable set of hyperparameter values from a given\u001b[39;00m\n\u001b[1;32m   (...)\u001b[0m\n\u001b[0;32m    416\u001b[0m \u001b[39m            If nested invocation of this method occurs.\u001b[39;00m\n\u001b[0;32m    417\u001b[0m \u001b[39m    \"\"\"\u001b[39;00m\n\u001b[1;32m--> 419\u001b[0m     _optimize(\n\u001b[0;32m    420\u001b[0m         study\u001b[39m=\u001b[39;49m\u001b[39mself\u001b[39;49m,\n\u001b[0;32m    421\u001b[0m         func\u001b[39m=\u001b[39;49mfunc,\n\u001b[0;32m    422\u001b[0m         n_trials\u001b[39m=\u001b[39;49mn_trials,\n\u001b[0;32m    423\u001b[0m         timeout\u001b[39m=\u001b[39;49mtimeout,\n\u001b[0;32m    424\u001b[0m         n_jobs\u001b[39m=\u001b[39;49mn_jobs,\n\u001b[0;32m    425\u001b[0m         catch\u001b[39m=\u001b[39;49mcatch,\n\u001b[0;32m    426\u001b[0m         callbacks\u001b[39m=\u001b[39;49mcallbacks,\n\u001b[0;32m    427\u001b[0m         gc_after_trial\u001b[39m=\u001b[39;49mgc_after_trial,\n\u001b[0;32m    428\u001b[0m         show_progress_bar\u001b[39m=\u001b[39;49mshow_progress_bar,\n\u001b[0;32m    429\u001b[0m     )\n",
      "File \u001b[1;32mc:\\Users\\thodo\\miniconda3\\envs\\energy-prediction\\lib\\site-packages\\optuna\\study\\_optimize.py:66\u001b[0m, in \u001b[0;36m_optimize\u001b[1;34m(study, func, n_trials, timeout, n_jobs, catch, callbacks, gc_after_trial, show_progress_bar)\u001b[0m\n\u001b[0;32m     64\u001b[0m \u001b[39mtry\u001b[39;00m:\n\u001b[0;32m     65\u001b[0m     \u001b[39mif\u001b[39;00m n_jobs \u001b[39m==\u001b[39m \u001b[39m1\u001b[39m:\n\u001b[1;32m---> 66\u001b[0m         _optimize_sequential(\n\u001b[0;32m     67\u001b[0m             study,\n\u001b[0;32m     68\u001b[0m             func,\n\u001b[0;32m     69\u001b[0m             n_trials,\n\u001b[0;32m     70\u001b[0m             timeout,\n\u001b[0;32m     71\u001b[0m             catch,\n\u001b[0;32m     72\u001b[0m             callbacks,\n\u001b[0;32m     73\u001b[0m             gc_after_trial,\n\u001b[0;32m     74\u001b[0m             reseed_sampler_rng\u001b[39m=\u001b[39;49m\u001b[39mFalse\u001b[39;49;00m,\n\u001b[0;32m     75\u001b[0m             time_start\u001b[39m=\u001b[39;49m\u001b[39mNone\u001b[39;49;00m,\n\u001b[0;32m     76\u001b[0m             progress_bar\u001b[39m=\u001b[39;49mprogress_bar,\n\u001b[0;32m     77\u001b[0m         )\n\u001b[0;32m     78\u001b[0m     \u001b[39melse\u001b[39;00m:\n\u001b[0;32m     79\u001b[0m         \u001b[39mif\u001b[39;00m n_jobs \u001b[39m==\u001b[39m \u001b[39m-\u001b[39m\u001b[39m1\u001b[39m:\n",
      "File \u001b[1;32mc:\\Users\\thodo\\miniconda3\\envs\\energy-prediction\\lib\\site-packages\\optuna\\study\\_optimize.py:160\u001b[0m, in \u001b[0;36m_optimize_sequential\u001b[1;34m(study, func, n_trials, timeout, catch, callbacks, gc_after_trial, reseed_sampler_rng, time_start, progress_bar)\u001b[0m\n\u001b[0;32m    157\u001b[0m         \u001b[39mbreak\u001b[39;00m\n\u001b[0;32m    159\u001b[0m \u001b[39mtry\u001b[39;00m:\n\u001b[1;32m--> 160\u001b[0m     frozen_trial \u001b[39m=\u001b[39m _run_trial(study, func, catch)\n\u001b[0;32m    161\u001b[0m \u001b[39mfinally\u001b[39;00m:\n\u001b[0;32m    162\u001b[0m     \u001b[39m# The following line mitigates memory problems that can be occurred in some\u001b[39;00m\n\u001b[0;32m    163\u001b[0m     \u001b[39m# environments (e.g., services that use computing containers such as CircleCI).\u001b[39;00m\n\u001b[0;32m    164\u001b[0m     \u001b[39m# Please refer to the following PR for further details:\u001b[39;00m\n\u001b[0;32m    165\u001b[0m     \u001b[39m# https://github.com/optuna/optuna/pull/325.\u001b[39;00m\n\u001b[0;32m    166\u001b[0m     \u001b[39mif\u001b[39;00m gc_after_trial:\n",
      "File \u001b[1;32mc:\\Users\\thodo\\miniconda3\\envs\\energy-prediction\\lib\\site-packages\\optuna\\study\\_optimize.py:234\u001b[0m, in \u001b[0;36m_run_trial\u001b[1;34m(study, func, catch)\u001b[0m\n\u001b[0;32m    227\u001b[0m         \u001b[39massert\u001b[39;00m \u001b[39mFalse\u001b[39;00m, \u001b[39m\"\u001b[39m\u001b[39mShould not reach.\u001b[39m\u001b[39m\"\u001b[39m\n\u001b[0;32m    229\u001b[0m \u001b[39mif\u001b[39;00m (\n\u001b[0;32m    230\u001b[0m     frozen_trial\u001b[39m.\u001b[39mstate \u001b[39m==\u001b[39m TrialState\u001b[39m.\u001b[39mFAIL\n\u001b[0;32m    231\u001b[0m     \u001b[39mand\u001b[39;00m func_err \u001b[39mis\u001b[39;00m \u001b[39mnot\u001b[39;00m \u001b[39mNone\u001b[39;00m\n\u001b[0;32m    232\u001b[0m     \u001b[39mand\u001b[39;00m \u001b[39mnot\u001b[39;00m \u001b[39misinstance\u001b[39m(func_err, catch)\n\u001b[0;32m    233\u001b[0m ):\n\u001b[1;32m--> 234\u001b[0m     \u001b[39mraise\u001b[39;00m func_err\n\u001b[0;32m    235\u001b[0m \u001b[39mreturn\u001b[39;00m frozen_trial\n",
      "File \u001b[1;32mc:\\Users\\thodo\\miniconda3\\envs\\energy-prediction\\lib\\site-packages\\optuna\\study\\_optimize.py:196\u001b[0m, in \u001b[0;36m_run_trial\u001b[1;34m(study, func, catch)\u001b[0m\n\u001b[0;32m    194\u001b[0m \u001b[39mwith\u001b[39;00m get_heartbeat_thread(trial\u001b[39m.\u001b[39m_trial_id, study\u001b[39m.\u001b[39m_storage):\n\u001b[0;32m    195\u001b[0m     \u001b[39mtry\u001b[39;00m:\n\u001b[1;32m--> 196\u001b[0m         value_or_values \u001b[39m=\u001b[39m func(trial)\n\u001b[0;32m    197\u001b[0m     \u001b[39mexcept\u001b[39;00m exceptions\u001b[39m.\u001b[39mTrialPruned \u001b[39mas\u001b[39;00m e:\n\u001b[0;32m    198\u001b[0m         \u001b[39m# TODO(mamu): Handle multi-objective cases.\u001b[39;00m\n\u001b[0;32m    199\u001b[0m         state \u001b[39m=\u001b[39m TrialState\u001b[39m.\u001b[39mPRUNED\n",
      "\u001b[1;32mc:\\Users\\thodo\\Documents\\sxoli\\diplomatiki\\code-energy-prediction\\playground\\energy-prediction\\custom_embeddings.ipynb Cell 23\u001b[0m in \u001b[0;36mobjective\u001b[1;34m(trial)\u001b[0m\n\u001b[0;32m     <a href='vscode-notebook-cell:/c%3A/Users/thodo/Documents/sxoli/diplomatiki/code-energy-prediction/playground/energy-prediction/custom_embeddings.ipynb#X32sZmlsZQ%3D%3D?line=18'>19</a>\u001b[0m val_loader \u001b[39m=\u001b[39m data_loaders[\u001b[39m\"\u001b[39m\u001b[39mval_loader\u001b[39m\u001b[39m\"\u001b[39m]\n\u001b[0;32m     <a href='vscode-notebook-cell:/c%3A/Users/thodo/Documents/sxoli/diplomatiki/code-energy-prediction/playground/energy-prediction/custom_embeddings.ipynb#X32sZmlsZQ%3D%3D?line=20'>21</a>\u001b[0m model \u001b[39m=\u001b[39m LSTM_Vocab_Regressor(\n\u001b[0;32m     <a href='vscode-notebook-cell:/c%3A/Users/thodo/Documents/sxoli/diplomatiki/code-energy-prediction/playground/energy-prediction/custom_embeddings.ipynb#X32sZmlsZQ%3D%3D?line=21'>22</a>\u001b[0m     vocab_size\u001b[39m=\u001b[39m\u001b[39mlen\u001b[39m(vocab),\n\u001b[0;32m     <a href='vscode-notebook-cell:/c%3A/Users/thodo/Documents/sxoli/diplomatiki/code-energy-prediction/playground/energy-prediction/custom_embeddings.ipynb#X32sZmlsZQ%3D%3D?line=22'>23</a>\u001b[0m     embedding_size\u001b[39m=\u001b[39membedding_size,\n\u001b[1;32m   (...)\u001b[0m\n\u001b[0;32m     <a href='vscode-notebook-cell:/c%3A/Users/thodo/Documents/sxoli/diplomatiki/code-energy-prediction/playground/energy-prediction/custom_embeddings.ipynb#X32sZmlsZQ%3D%3D?line=28'>29</a>\u001b[0m     regressor_dropout\u001b[39m=\u001b[39mregressor_dropout,\n\u001b[0;32m     <a href='vscode-notebook-cell:/c%3A/Users/thodo/Documents/sxoli/diplomatiki/code-energy-prediction/playground/energy-prediction/custom_embeddings.ipynb#X32sZmlsZQ%3D%3D?line=29'>30</a>\u001b[0m )\n\u001b[1;32m---> <a href='vscode-notebook-cell:/c%3A/Users/thodo/Documents/sxoli/diplomatiki/code-energy-prediction/playground/energy-prediction/custom_embeddings.ipynb#X32sZmlsZQ%3D%3D?line=30'>31</a>\u001b[0m train_results \u001b[39m=\u001b[39m train_lstm_vocab_model(\n\u001b[0;32m     <a href='vscode-notebook-cell:/c%3A/Users/thodo/Documents/sxoli/diplomatiki/code-energy-prediction/playground/energy-prediction/custom_embeddings.ipynb#X32sZmlsZQ%3D%3D?line=31'>32</a>\u001b[0m     model\u001b[39m=\u001b[39;49mmodel,\n\u001b[0;32m     <a href='vscode-notebook-cell:/c%3A/Users/thodo/Documents/sxoli/diplomatiki/code-energy-prediction/playground/energy-prediction/custom_embeddings.ipynb#X32sZmlsZQ%3D%3D?line=32'>33</a>\u001b[0m     train_loader\u001b[39m=\u001b[39;49mtrain_loader,\n\u001b[0;32m     <a href='vscode-notebook-cell:/c%3A/Users/thodo/Documents/sxoli/diplomatiki/code-energy-prediction/playground/energy-prediction/custom_embeddings.ipynb#X32sZmlsZQ%3D%3D?line=33'>34</a>\u001b[0m     val_loader\u001b[39m=\u001b[39;49mval_loader,\n\u001b[0;32m     <a href='vscode-notebook-cell:/c%3A/Users/thodo/Documents/sxoli/diplomatiki/code-energy-prediction/playground/energy-prediction/custom_embeddings.ipynb#X32sZmlsZQ%3D%3D?line=34'>35</a>\u001b[0m     lr\u001b[39m=\u001b[39;49mlr,\n\u001b[0;32m     <a href='vscode-notebook-cell:/c%3A/Users/thodo/Documents/sxoli/diplomatiki/code-energy-prediction/playground/energy-prediction/custom_embeddings.ipynb#X32sZmlsZQ%3D%3D?line=35'>36</a>\u001b[0m     epochs\u001b[39m=\u001b[39;49m\u001b[39m200\u001b[39;49m,\n\u001b[0;32m     <a href='vscode-notebook-cell:/c%3A/Users/thodo/Documents/sxoli/diplomatiki/code-energy-prediction/playground/energy-prediction/custom_embeddings.ipynb#X32sZmlsZQ%3D%3D?line=36'>37</a>\u001b[0m     batch_size\u001b[39m=\u001b[39;49mbatch_size,\n\u001b[0;32m     <a href='vscode-notebook-cell:/c%3A/Users/thodo/Documents/sxoli/diplomatiki/code-energy-prediction/playground/energy-prediction/custom_embeddings.ipynb#X32sZmlsZQ%3D%3D?line=37'>38</a>\u001b[0m     early_stopping\u001b[39m=\u001b[39;49m\u001b[39mTrue\u001b[39;49;00m,\n\u001b[0;32m     <a href='vscode-notebook-cell:/c%3A/Users/thodo/Documents/sxoli/diplomatiki/code-energy-prediction/playground/energy-prediction/custom_embeddings.ipynb#X32sZmlsZQ%3D%3D?line=38'>39</a>\u001b[0m )\n\u001b[0;32m     <a href='vscode-notebook-cell:/c%3A/Users/thodo/Documents/sxoli/diplomatiki/code-energy-prediction/playground/energy-prediction/custom_embeddings.ipynb#X32sZmlsZQ%3D%3D?line=40'>41</a>\u001b[0m val_loss \u001b[39m=\u001b[39m train_results[\u001b[39m\"\u001b[39m\u001b[39mval_loss\u001b[39m\u001b[39m\"\u001b[39m]\n\u001b[0;32m     <a href='vscode-notebook-cell:/c%3A/Users/thodo/Documents/sxoli/diplomatiki/code-energy-prediction/playground/energy-prediction/custom_embeddings.ipynb#X32sZmlsZQ%3D%3D?line=42'>43</a>\u001b[0m \u001b[39mreturn\u001b[39;00m val_loss[\u001b[39m-\u001b[39m\u001b[39m1\u001b[39m]\n",
      "\u001b[1;32mc:\\Users\\thodo\\Documents\\sxoli\\diplomatiki\\code-energy-prediction\\playground\\energy-prediction\\custom_embeddings.ipynb Cell 23\u001b[0m in \u001b[0;36mtrain_lstm_vocab_model\u001b[1;34m(model, train_loader, val_loader, lr, batch_size, epochs, verbose, early_stopping, lr_decay, lr_decay_step)\u001b[0m\n\u001b[0;32m     <a href='vscode-notebook-cell:/c%3A/Users/thodo/Documents/sxoli/diplomatiki/code-energy-prediction/playground/energy-prediction/custom_embeddings.ipynb#X32sZmlsZQ%3D%3D?line=41'>42</a>\u001b[0m     loss\u001b[39m.\u001b[39mbackward()\n\u001b[0;32m     <a href='vscode-notebook-cell:/c%3A/Users/thodo/Documents/sxoli/diplomatiki/code-energy-prediction/playground/energy-prediction/custom_embeddings.ipynb#X32sZmlsZQ%3D%3D?line=43'>44</a>\u001b[0m     nn\u001b[39m.\u001b[39mutils\u001b[39m.\u001b[39mclip_grad_norm_(model\u001b[39m.\u001b[39mparameters(), max_norm\u001b[39m=\u001b[39m\u001b[39m5\u001b[39m)\n\u001b[1;32m---> <a href='vscode-notebook-cell:/c%3A/Users/thodo/Documents/sxoli/diplomatiki/code-energy-prediction/playground/energy-prediction/custom_embeddings.ipynb#X32sZmlsZQ%3D%3D?line=45'>46</a>\u001b[0m     optimizer\u001b[39m.\u001b[39;49mstep()\n\u001b[0;32m     <a href='vscode-notebook-cell:/c%3A/Users/thodo/Documents/sxoli/diplomatiki/code-energy-prediction/playground/energy-prediction/custom_embeddings.ipynb#X32sZmlsZQ%3D%3D?line=47'>48</a>\u001b[0m     losses\u001b[39m.\u001b[39mappend(loss\u001b[39m.\u001b[39mitem())\n\u001b[0;32m     <a href='vscode-notebook-cell:/c%3A/Users/thodo/Documents/sxoli/diplomatiki/code-energy-prediction/playground/energy-prediction/custom_embeddings.ipynb#X32sZmlsZQ%3D%3D?line=49'>50</a>\u001b[0m val_h \u001b[39m=\u001b[39m model\u001b[39m.\u001b[39minit_hidden(batch_size)\n",
      "File \u001b[1;32mc:\\Users\\thodo\\miniconda3\\envs\\energy-prediction\\lib\\site-packages\\torch\\optim\\lr_scheduler.py:65\u001b[0m, in \u001b[0;36m_LRScheduler.__init__.<locals>.with_counter.<locals>.wrapper\u001b[1;34m(*args, **kwargs)\u001b[0m\n\u001b[0;32m     63\u001b[0m instance\u001b[39m.\u001b[39m_step_count \u001b[39m+\u001b[39m\u001b[39m=\u001b[39m \u001b[39m1\u001b[39m\n\u001b[0;32m     64\u001b[0m wrapped \u001b[39m=\u001b[39m func\u001b[39m.\u001b[39m\u001b[39m__get__\u001b[39m(instance, \u001b[39mcls\u001b[39m)\n\u001b[1;32m---> 65\u001b[0m \u001b[39mreturn\u001b[39;00m wrapped(\u001b[39m*\u001b[39margs, \u001b[39m*\u001b[39m\u001b[39m*\u001b[39mkwargs)\n",
      "File \u001b[1;32mc:\\Users\\thodo\\miniconda3\\envs\\energy-prediction\\lib\\site-packages\\torch\\optim\\optimizer.py:113\u001b[0m, in \u001b[0;36mOptimizer._hook_for_profile.<locals>.profile_hook_step.<locals>.wrapper\u001b[1;34m(*args, **kwargs)\u001b[0m\n\u001b[0;32m    111\u001b[0m profile_name \u001b[39m=\u001b[39m \u001b[39m\"\u001b[39m\u001b[39mOptimizer.step#\u001b[39m\u001b[39m{}\u001b[39;00m\u001b[39m.step\u001b[39m\u001b[39m\"\u001b[39m\u001b[39m.\u001b[39mformat(obj\u001b[39m.\u001b[39m\u001b[39m__class__\u001b[39m\u001b[39m.\u001b[39m\u001b[39m__name__\u001b[39m)\n\u001b[0;32m    112\u001b[0m \u001b[39mwith\u001b[39;00m torch\u001b[39m.\u001b[39mautograd\u001b[39m.\u001b[39mprofiler\u001b[39m.\u001b[39mrecord_function(profile_name):\n\u001b[1;32m--> 113\u001b[0m     \u001b[39mreturn\u001b[39;00m func(\u001b[39m*\u001b[39margs, \u001b[39m*\u001b[39m\u001b[39m*\u001b[39mkwargs)\n",
      "File \u001b[1;32mc:\\Users\\thodo\\miniconda3\\envs\\energy-prediction\\lib\\site-packages\\torch\\autograd\\grad_mode.py:27\u001b[0m, in \u001b[0;36m_DecoratorContextManager.__call__.<locals>.decorate_context\u001b[1;34m(*args, **kwargs)\u001b[0m\n\u001b[0;32m     24\u001b[0m \u001b[39m@functools\u001b[39m\u001b[39m.\u001b[39mwraps(func)\n\u001b[0;32m     25\u001b[0m \u001b[39mdef\u001b[39;00m \u001b[39mdecorate_context\u001b[39m(\u001b[39m*\u001b[39margs, \u001b[39m*\u001b[39m\u001b[39m*\u001b[39mkwargs):\n\u001b[0;32m     26\u001b[0m     \u001b[39mwith\u001b[39;00m \u001b[39mself\u001b[39m\u001b[39m.\u001b[39mclone():\n\u001b[1;32m---> 27\u001b[0m         \u001b[39mreturn\u001b[39;00m func(\u001b[39m*\u001b[39margs, \u001b[39m*\u001b[39m\u001b[39m*\u001b[39mkwargs)\n",
      "File \u001b[1;32mc:\\Users\\thodo\\miniconda3\\envs\\energy-prediction\\lib\\site-packages\\torch\\optim\\adam.py:157\u001b[0m, in \u001b[0;36mAdam.step\u001b[1;34m(self, closure)\u001b[0m\n\u001b[0;32m    153\u001b[0m                 max_exp_avg_sqs\u001b[39m.\u001b[39mappend(state[\u001b[39m'\u001b[39m\u001b[39mmax_exp_avg_sq\u001b[39m\u001b[39m'\u001b[39m])\n\u001b[0;32m    155\u001b[0m             state_steps\u001b[39m.\u001b[39mappend(state[\u001b[39m'\u001b[39m\u001b[39mstep\u001b[39m\u001b[39m'\u001b[39m])\n\u001b[1;32m--> 157\u001b[0m     adam(params_with_grad,\n\u001b[0;32m    158\u001b[0m          grads,\n\u001b[0;32m    159\u001b[0m          exp_avgs,\n\u001b[0;32m    160\u001b[0m          exp_avg_sqs,\n\u001b[0;32m    161\u001b[0m          max_exp_avg_sqs,\n\u001b[0;32m    162\u001b[0m          state_steps,\n\u001b[0;32m    163\u001b[0m          amsgrad\u001b[39m=\u001b[39;49mgroup[\u001b[39m'\u001b[39;49m\u001b[39mamsgrad\u001b[39;49m\u001b[39m'\u001b[39;49m],\n\u001b[0;32m    164\u001b[0m          beta1\u001b[39m=\u001b[39;49mbeta1,\n\u001b[0;32m    165\u001b[0m          beta2\u001b[39m=\u001b[39;49mbeta2,\n\u001b[0;32m    166\u001b[0m          lr\u001b[39m=\u001b[39;49mgroup[\u001b[39m'\u001b[39;49m\u001b[39mlr\u001b[39;49m\u001b[39m'\u001b[39;49m],\n\u001b[0;32m    167\u001b[0m          weight_decay\u001b[39m=\u001b[39;49mgroup[\u001b[39m'\u001b[39;49m\u001b[39mweight_decay\u001b[39;49m\u001b[39m'\u001b[39;49m],\n\u001b[0;32m    168\u001b[0m          eps\u001b[39m=\u001b[39;49mgroup[\u001b[39m'\u001b[39;49m\u001b[39meps\u001b[39;49m\u001b[39m'\u001b[39;49m],\n\u001b[0;32m    169\u001b[0m          maximize\u001b[39m=\u001b[39;49mgroup[\u001b[39m'\u001b[39;49m\u001b[39mmaximize\u001b[39;49m\u001b[39m'\u001b[39;49m],\n\u001b[0;32m    170\u001b[0m          foreach\u001b[39m=\u001b[39;49mgroup[\u001b[39m'\u001b[39;49m\u001b[39mforeach\u001b[39;49m\u001b[39m'\u001b[39;49m],\n\u001b[0;32m    171\u001b[0m          capturable\u001b[39m=\u001b[39;49mgroup[\u001b[39m'\u001b[39;49m\u001b[39mcapturable\u001b[39;49m\u001b[39m'\u001b[39;49m])\n\u001b[0;32m    173\u001b[0m \u001b[39mreturn\u001b[39;00m loss\n",
      "File \u001b[1;32mc:\\Users\\thodo\\miniconda3\\envs\\energy-prediction\\lib\\site-packages\\torch\\optim\\adam.py:213\u001b[0m, in \u001b[0;36madam\u001b[1;34m(params, grads, exp_avgs, exp_avg_sqs, max_exp_avg_sqs, state_steps, foreach, capturable, amsgrad, beta1, beta2, lr, weight_decay, eps, maximize)\u001b[0m\n\u001b[0;32m    210\u001b[0m \u001b[39melse\u001b[39;00m:\n\u001b[0;32m    211\u001b[0m     func \u001b[39m=\u001b[39m _single_tensor_adam\n\u001b[1;32m--> 213\u001b[0m func(params,\n\u001b[0;32m    214\u001b[0m      grads,\n\u001b[0;32m    215\u001b[0m      exp_avgs,\n\u001b[0;32m    216\u001b[0m      exp_avg_sqs,\n\u001b[0;32m    217\u001b[0m      max_exp_avg_sqs,\n\u001b[0;32m    218\u001b[0m      state_steps,\n\u001b[0;32m    219\u001b[0m      amsgrad\u001b[39m=\u001b[39;49mamsgrad,\n\u001b[0;32m    220\u001b[0m      beta1\u001b[39m=\u001b[39;49mbeta1,\n\u001b[0;32m    221\u001b[0m      beta2\u001b[39m=\u001b[39;49mbeta2,\n\u001b[0;32m    222\u001b[0m      lr\u001b[39m=\u001b[39;49mlr,\n\u001b[0;32m    223\u001b[0m      weight_decay\u001b[39m=\u001b[39;49mweight_decay,\n\u001b[0;32m    224\u001b[0m      eps\u001b[39m=\u001b[39;49meps,\n\u001b[0;32m    225\u001b[0m      maximize\u001b[39m=\u001b[39;49mmaximize,\n\u001b[0;32m    226\u001b[0m      capturable\u001b[39m=\u001b[39;49mcapturable)\n",
      "File \u001b[1;32mc:\\Users\\thodo\\miniconda3\\envs\\energy-prediction\\lib\\site-packages\\torch\\optim\\adam.py:263\u001b[0m, in \u001b[0;36m_single_tensor_adam\u001b[1;34m(params, grads, exp_avgs, exp_avg_sqs, max_exp_avg_sqs, state_steps, amsgrad, beta1, beta2, lr, weight_decay, eps, maximize, capturable)\u001b[0m\n\u001b[0;32m    261\u001b[0m \u001b[39m# Decay the first and second moment running average coefficient\u001b[39;00m\n\u001b[0;32m    262\u001b[0m exp_avg\u001b[39m.\u001b[39mmul_(beta1)\u001b[39m.\u001b[39madd_(grad, alpha\u001b[39m=\u001b[39m\u001b[39m1\u001b[39m \u001b[39m-\u001b[39m beta1)\n\u001b[1;32m--> 263\u001b[0m exp_avg_sq\u001b[39m.\u001b[39;49mmul_(beta2)\u001b[39m.\u001b[39;49maddcmul_(grad, grad\u001b[39m.\u001b[39;49mconj(), value\u001b[39m=\u001b[39;49m\u001b[39m1\u001b[39;49m \u001b[39m-\u001b[39;49m beta2)\n\u001b[0;32m    265\u001b[0m \u001b[39mif\u001b[39;00m capturable:\n\u001b[0;32m    266\u001b[0m     step \u001b[39m=\u001b[39m step_t\n",
      "\u001b[1;31mKeyboardInterrupt\u001b[0m: "
     ]
    }
   ],
   "source": [
    "def objective(trial):\n",
    "\n",
    "    embedding_size = trial.suggest_int(\"embedding_size\", 64, 512)\n",
    "    lstm_layers = trial.suggest_int(\"lstm_layers\", 1, 5)\n",
    "    hidden_size = trial.suggest_int(\"hidden_size\", 8, 128)\n",
    "    dense_size = trial.suggest_int(\"dense_size\", 16, 256)\n",
    "    smaller_dense_size = trial.suggest_int(\"smaller_dense_size\", 8, 64)\n",
    "    batch_size_exp = trial.suggest_int(\"batch_size_exp\", 3, 7)\n",
    "    lstm_dropout = trial.suggest_float(\"lstm_dropout\", 0, 0.2)\n",
    "    regressor_dropout = trial.suggest_float(\"regressor_dropout\", 0, 0.15)\n",
    "    lr = trial.suggest_float(\"lr\", 1e-4, 1e-2)\n",
    "    lr_decay = trial.suggest_float(\"lr_decay\", 0.05, 0.8)\n",
    "    lr_decay_step = trial.suggest_int(\"lr_decay_step\", 5, 20)\n",
    "\n",
    "    batch_size = 2**batch_size_exp\n",
    "\n",
    "    data_loaders = utils.get_vocab_data_dict(data_df=data_df, batch_size=batch_size)\n",
    "    train_loader = data_loaders[\"train_loader\"]\n",
    "    val_loader = data_loaders[\"val_loader\"]\n",
    "\n",
    "    model = models.LSTM_Regressor(\n",
    "        vocab_size=len(vocab),\n",
    "        embedding_size=embedding_size,\n",
    "        custom_embs=True,\n",
    "        hidden_size=hidden_size,\n",
    "        num_layers=lstm_layers,\n",
    "        dense_size=dense_size,\n",
    "        smaller_dense_size=smaller_dense_size,\n",
    "        lstm_dropout=lstm_dropout,\n",
    "        regressor_dropout=regressor_dropout,\n",
    "    )\n",
    "    train_results = train.train_model(\n",
    "        model=model,\n",
    "        train_loader=train_loader,\n",
    "        val_loader=val_loader,\n",
    "        lr=lr,\n",
    "        epochs=200,\n",
    "        batch_size=batch_size,\n",
    "        early_stopping=True,\n",
    "        lr_decay=lr_decay,\n",
    "        lr_decay_step=lr_decay_step,\n",
    "    )\n",
    "\n",
    "    val_loss = train_results[\"val_loss\"]\n",
    "\n",
    "    return val_loss[-1]\n",
    "\n",
    "\n",
    "study.optimize(objective, n_trials=120)"
   ]
  },
  {
   "cell_type": "code",
   "execution_count": null,
   "metadata": {},
   "outputs": [
    {
     "data": {
      "text/html": [
       "<div>\n",
       "<style scoped>\n",
       "    .dataframe tbody tr th:only-of-type {\n",
       "        vertical-align: middle;\n",
       "    }\n",
       "\n",
       "    .dataframe tbody tr th {\n",
       "        vertical-align: top;\n",
       "    }\n",
       "\n",
       "    .dataframe thead th {\n",
       "        text-align: right;\n",
       "    }\n",
       "</style>\n",
       "<table border=\"1\" class=\"dataframe\">\n",
       "  <thead>\n",
       "    <tr style=\"text-align: right;\">\n",
       "      <th></th>\n",
       "      <th>number</th>\n",
       "      <th>value</th>\n",
       "      <th>datetime_start</th>\n",
       "      <th>datetime_complete</th>\n",
       "      <th>duration</th>\n",
       "      <th>params_batch_size_exp</th>\n",
       "      <th>params_dense_size</th>\n",
       "      <th>params_embedding_dim</th>\n",
       "      <th>params_hidden_size</th>\n",
       "      <th>params_learning_rate</th>\n",
       "      <th>params_lstm_dropout</th>\n",
       "      <th>params_lstm_layers</th>\n",
       "      <th>params_regressor_dropout</th>\n",
       "      <th>params_smaller_dense_size</th>\n",
       "      <th>state</th>\n",
       "    </tr>\n",
       "  </thead>\n",
       "  <tbody>\n",
       "    <tr>\n",
       "      <th>54</th>\n",
       "      <td>54</td>\n",
       "      <td>0.195012</td>\n",
       "      <td>2023-01-15 03:58:14.232030</td>\n",
       "      <td>2023-01-15 03:58:48.004085</td>\n",
       "      <td>0 days 00:00:33.772055</td>\n",
       "      <td>7</td>\n",
       "      <td>69</td>\n",
       "      <td>251</td>\n",
       "      <td>75</td>\n",
       "      <td>0.001524</td>\n",
       "      <td>0.107836</td>\n",
       "      <td>2</td>\n",
       "      <td>0.026341</td>\n",
       "      <td>49</td>\n",
       "      <td>COMPLETE</td>\n",
       "    </tr>\n",
       "    <tr>\n",
       "      <th>30</th>\n",
       "      <td>30</td>\n",
       "      <td>0.205932</td>\n",
       "      <td>2023-01-15 03:32:27.685690</td>\n",
       "      <td>2023-01-15 03:33:29.000811</td>\n",
       "      <td>0 days 00:01:01.315121</td>\n",
       "      <td>6</td>\n",
       "      <td>155</td>\n",
       "      <td>286</td>\n",
       "      <td>8</td>\n",
       "      <td>0.004387</td>\n",
       "      <td>0.101916</td>\n",
       "      <td>2</td>\n",
       "      <td>0.001318</td>\n",
       "      <td>43</td>\n",
       "      <td>COMPLETE</td>\n",
       "    </tr>\n",
       "    <tr>\n",
       "      <th>105</th>\n",
       "      <td>105</td>\n",
       "      <td>0.206014</td>\n",
       "      <td>2023-01-15 05:11:11.308840</td>\n",
       "      <td>2023-01-15 05:11:42.995392</td>\n",
       "      <td>0 days 00:00:31.686552</td>\n",
       "      <td>7</td>\n",
       "      <td>50</td>\n",
       "      <td>217</td>\n",
       "      <td>53</td>\n",
       "      <td>0.000657</td>\n",
       "      <td>0.081523</td>\n",
       "      <td>3</td>\n",
       "      <td>0.006893</td>\n",
       "      <td>43</td>\n",
       "      <td>COMPLETE</td>\n",
       "    </tr>\n",
       "    <tr>\n",
       "      <th>27</th>\n",
       "      <td>27</td>\n",
       "      <td>0.206470</td>\n",
       "      <td>2023-01-15 03:28:41.360737</td>\n",
       "      <td>2023-01-15 03:29:04.435308</td>\n",
       "      <td>0 days 00:00:23.074571</td>\n",
       "      <td>6</td>\n",
       "      <td>59</td>\n",
       "      <td>323</td>\n",
       "      <td>63</td>\n",
       "      <td>0.002806</td>\n",
       "      <td>0.125005</td>\n",
       "      <td>2</td>\n",
       "      <td>0.006823</td>\n",
       "      <td>41</td>\n",
       "      <td>COMPLETE</td>\n",
       "    </tr>\n",
       "    <tr>\n",
       "      <th>66</th>\n",
       "      <td>66</td>\n",
       "      <td>0.209223</td>\n",
       "      <td>2023-01-15 04:09:42.410893</td>\n",
       "      <td>2023-01-15 04:10:14.750698</td>\n",
       "      <td>0 days 00:00:32.339805</td>\n",
       "      <td>7</td>\n",
       "      <td>69</td>\n",
       "      <td>347</td>\n",
       "      <td>49</td>\n",
       "      <td>0.001968</td>\n",
       "      <td>0.142261</td>\n",
       "      <td>3</td>\n",
       "      <td>0.016027</td>\n",
       "      <td>46</td>\n",
       "      <td>COMPLETE</td>\n",
       "    </tr>\n",
       "    <tr>\n",
       "      <th>71</th>\n",
       "      <td>71</td>\n",
       "      <td>0.212417</td>\n",
       "      <td>2023-01-15 04:13:39.036336</td>\n",
       "      <td>2023-01-15 04:14:18.798468</td>\n",
       "      <td>0 days 00:00:39.762132</td>\n",
       "      <td>7</td>\n",
       "      <td>65</td>\n",
       "      <td>288</td>\n",
       "      <td>60</td>\n",
       "      <td>0.000646</td>\n",
       "      <td>0.125235</td>\n",
       "      <td>2</td>\n",
       "      <td>0.019458</td>\n",
       "      <td>51</td>\n",
       "      <td>COMPLETE</td>\n",
       "    </tr>\n",
       "    <tr>\n",
       "      <th>53</th>\n",
       "      <td>53</td>\n",
       "      <td>0.214206</td>\n",
       "      <td>2023-01-15 03:57:46.545888</td>\n",
       "      <td>2023-01-15 03:58:14.210527</td>\n",
       "      <td>0 days 00:00:27.664639</td>\n",
       "      <td>7</td>\n",
       "      <td>73</td>\n",
       "      <td>227</td>\n",
       "      <td>78</td>\n",
       "      <td>0.001684</td>\n",
       "      <td>0.136080</td>\n",
       "      <td>1</td>\n",
       "      <td>0.012653</td>\n",
       "      <td>48</td>\n",
       "      <td>COMPLETE</td>\n",
       "    </tr>\n",
       "    <tr>\n",
       "      <th>43</th>\n",
       "      <td>43</td>\n",
       "      <td>0.223856</td>\n",
       "      <td>2023-01-15 03:46:53.411664</td>\n",
       "      <td>2023-01-15 03:48:02.957464</td>\n",
       "      <td>0 days 00:01:09.545800</td>\n",
       "      <td>6</td>\n",
       "      <td>159</td>\n",
       "      <td>321</td>\n",
       "      <td>67</td>\n",
       "      <td>0.001347</td>\n",
       "      <td>0.123790</td>\n",
       "      <td>2</td>\n",
       "      <td>0.024138</td>\n",
       "      <td>49</td>\n",
       "      <td>COMPLETE</td>\n",
       "    </tr>\n",
       "    <tr>\n",
       "      <th>89</th>\n",
       "      <td>89</td>\n",
       "      <td>0.232942</td>\n",
       "      <td>2023-01-15 04:22:50.323006</td>\n",
       "      <td>2023-01-15 04:26:28.249506</td>\n",
       "      <td>0 days 00:03:37.926500</td>\n",
       "      <td>4</td>\n",
       "      <td>157</td>\n",
       "      <td>233</td>\n",
       "      <td>68</td>\n",
       "      <td>0.002459</td>\n",
       "      <td>0.120256</td>\n",
       "      <td>3</td>\n",
       "      <td>0.023465</td>\n",
       "      <td>42</td>\n",
       "      <td>COMPLETE</td>\n",
       "    </tr>\n",
       "    <tr>\n",
       "      <th>91</th>\n",
       "      <td>91</td>\n",
       "      <td>0.233902</td>\n",
       "      <td>2023-01-15 04:31:16.668000</td>\n",
       "      <td>2023-01-15 04:33:50.668648</td>\n",
       "      <td>0 days 00:02:34.000648</td>\n",
       "      <td>4</td>\n",
       "      <td>158</td>\n",
       "      <td>234</td>\n",
       "      <td>68</td>\n",
       "      <td>0.002248</td>\n",
       "      <td>0.125407</td>\n",
       "      <td>3</td>\n",
       "      <td>0.012391</td>\n",
       "      <td>42</td>\n",
       "      <td>COMPLETE</td>\n",
       "    </tr>\n",
       "  </tbody>\n",
       "</table>\n",
       "</div>"
      ],
      "text/plain": [
       "     number     value             datetime_start          datetime_complete  \\\n",
       "54       54  0.195012 2023-01-15 03:58:14.232030 2023-01-15 03:58:48.004085   \n",
       "30       30  0.205932 2023-01-15 03:32:27.685690 2023-01-15 03:33:29.000811   \n",
       "105     105  0.206014 2023-01-15 05:11:11.308840 2023-01-15 05:11:42.995392   \n",
       "27       27  0.206470 2023-01-15 03:28:41.360737 2023-01-15 03:29:04.435308   \n",
       "66       66  0.209223 2023-01-15 04:09:42.410893 2023-01-15 04:10:14.750698   \n",
       "71       71  0.212417 2023-01-15 04:13:39.036336 2023-01-15 04:14:18.798468   \n",
       "53       53  0.214206 2023-01-15 03:57:46.545888 2023-01-15 03:58:14.210527   \n",
       "43       43  0.223856 2023-01-15 03:46:53.411664 2023-01-15 03:48:02.957464   \n",
       "89       89  0.232942 2023-01-15 04:22:50.323006 2023-01-15 04:26:28.249506   \n",
       "91       91  0.233902 2023-01-15 04:31:16.668000 2023-01-15 04:33:50.668648   \n",
       "\n",
       "                  duration  params_batch_size_exp  params_dense_size  \\\n",
       "54  0 days 00:00:33.772055                      7                 69   \n",
       "30  0 days 00:01:01.315121                      6                155   \n",
       "105 0 days 00:00:31.686552                      7                 50   \n",
       "27  0 days 00:00:23.074571                      6                 59   \n",
       "66  0 days 00:00:32.339805                      7                 69   \n",
       "71  0 days 00:00:39.762132                      7                 65   \n",
       "53  0 days 00:00:27.664639                      7                 73   \n",
       "43  0 days 00:01:09.545800                      6                159   \n",
       "89  0 days 00:03:37.926500                      4                157   \n",
       "91  0 days 00:02:34.000648                      4                158   \n",
       "\n",
       "     params_embedding_dim  params_hidden_size  params_learning_rate  \\\n",
       "54                    251                  75              0.001524   \n",
       "30                    286                   8              0.004387   \n",
       "105                   217                  53              0.000657   \n",
       "27                    323                  63              0.002806   \n",
       "66                    347                  49              0.001968   \n",
       "71                    288                  60              0.000646   \n",
       "53                    227                  78              0.001684   \n",
       "43                    321                  67              0.001347   \n",
       "89                    233                  68              0.002459   \n",
       "91                    234                  68              0.002248   \n",
       "\n",
       "     params_lstm_dropout  params_lstm_layers  params_regressor_dropout  \\\n",
       "54              0.107836                   2                  0.026341   \n",
       "30              0.101916                   2                  0.001318   \n",
       "105             0.081523                   3                  0.006893   \n",
       "27              0.125005                   2                  0.006823   \n",
       "66              0.142261                   3                  0.016027   \n",
       "71              0.125235                   2                  0.019458   \n",
       "53              0.136080                   1                  0.012653   \n",
       "43              0.123790                   2                  0.024138   \n",
       "89              0.120256                   3                  0.023465   \n",
       "91              0.125407                   3                  0.012391   \n",
       "\n",
       "     params_smaller_dense_size     state  \n",
       "54                          49  COMPLETE  \n",
       "30                          43  COMPLETE  \n",
       "105                         43  COMPLETE  \n",
       "27                          41  COMPLETE  \n",
       "66                          46  COMPLETE  \n",
       "71                          51  COMPLETE  \n",
       "53                          48  COMPLETE  \n",
       "43                          49  COMPLETE  \n",
       "89                          42  COMPLETE  \n",
       "91                          42  COMPLETE  "
      ]
     },
     "execution_count": 30,
     "metadata": {},
     "output_type": "execute_result"
    }
   ],
   "source": [
    "study.trials_dataframe().sort_values(by=\"value\").head(10)"
   ]
  },
  {
   "cell_type": "code",
   "execution_count": null,
   "metadata": {},
   "outputs": [
    {
     "name": "stdout",
     "output_type": "stream",
     "text": [
      "Best lstm-regressor-model params: {'batch_size_exp': 7, 'dense_size': 69, 'embedding_dim': 251, 'hidden_size': 75, 'learning_rate': 0.0015238312462523872, 'lstm_dropout': 0.10783592943595291, 'lstm_layers': 2, 'regressor_dropout': 0.026341229266574742, 'smaller_dense_size': 49}, achieving val MSE: 0.19501204306588454\n"
     ]
    }
   ],
   "source": [
    "print(f\"Best lstm-regressor-model params: {study.best_params}, achieving val MSE: {study.best_value}\")"
   ]
  },
  {
   "attachments": {},
   "cell_type": "markdown",
   "metadata": {},
   "source": [
    "# Results"
   ]
  },
  {
   "cell_type": "code",
   "execution_count": 8,
   "metadata": {},
   "outputs": [
    {
     "name": "stdout",
     "output_type": "stream",
     "text": [
      "Epoch: 1/200, RMSE Train Loss: 0.71743, RMSE Val Loss: 0.51587\n",
      "Epoch: 2/200, RMSE Train Loss: 0.56257, RMSE Val Loss: 0.48687\n",
      "Epoch: 3/200, RMSE Train Loss: 0.52844, RMSE Val Loss: 0.49965\n",
      "Epoch: 4/200, RMSE Train Loss: 0.52444, RMSE Val Loss: 0.50408\n",
      "Epoch: 5/200, RMSE Train Loss: 0.53487, RMSE Val Loss: 0.49325\n",
      "Epoch: 6/200, RMSE Train Loss: 0.51445, RMSE Val Loss: 0.48491\n",
      "Epoch: 7/200, RMSE Train Loss: 0.50373, RMSE Val Loss: 0.49117\n",
      "Epoch: 8/200, RMSE Train Loss: 0.5009, RMSE Val Loss: 0.48648\n",
      "Epoch: 9/200, RMSE Train Loss: 0.49433, RMSE Val Loss: 0.48402\n",
      "Epoch: 10/200, RMSE Train Loss: 0.49405, RMSE Val Loss: 0.48976\n",
      "Epoch: 11/200, RMSE Train Loss: 0.4726, RMSE Val Loss: 0.48018\n",
      "Epoch: 12/200, RMSE Train Loss: 0.46575, RMSE Val Loss: 0.48124\n",
      "Epoch: 13/200, RMSE Train Loss: 0.4652, RMSE Val Loss: 0.48069\n",
      "Epoch: 14/200, RMSE Train Loss: 0.46284, RMSE Val Loss: 0.48305\n",
      "Epoch: 15/200, RMSE Train Loss: 0.46351, RMSE Val Loss: 0.48359\n",
      "Epoch: 16/200, RMSE Train Loss: 0.46164, RMSE Val Loss: 0.48337\n",
      "Epoch: 17/200, RMSE Train Loss: 0.4613, RMSE Val Loss: 0.48368\n",
      "Epoch: 18/200, RMSE Train Loss: 0.46057, RMSE Val Loss: 0.48354\n",
      "Epoch: 19/200, RMSE Train Loss: 0.46159, RMSE Val Loss: 0.48395\n",
      "Epoch: 20/200, RMSE Train Loss: 0.46092, RMSE Val Loss: 0.48346\n",
      "Epoch: 21/200, RMSE Train Loss: 0.45299, RMSE Val Loss: 0.4791\n",
      "Epoch: 22/200, RMSE Train Loss: 0.45316, RMSE Val Loss: 0.47905\n",
      "Epoch: 23/200, RMSE Train Loss: 0.45522, RMSE Val Loss: 0.47919\n",
      "Epoch: 24/200, RMSE Train Loss: 0.45328, RMSE Val Loss: 0.47941\n",
      "Epoch: 25/200, RMSE Train Loss: 0.4531, RMSE Val Loss: 0.47957\n",
      "Epoch: 26/200, RMSE Train Loss: 0.45346, RMSE Val Loss: 0.47951\n",
      "Epoch: 27/200, RMSE Train Loss: 0.45262, RMSE Val Loss: 0.47953\n",
      "Epoch: 28/200, RMSE Train Loss: 0.45477, RMSE Val Loss: 0.4796\n",
      "Epoch: 29/200, RMSE Train Loss: 0.45353, RMSE Val Loss: 0.47967\n",
      "Epoch: 30/200, RMSE Train Loss: 0.45234, RMSE Val Loss: 0.47975\n",
      "Epoch: 31/200, RMSE Train Loss: 0.45058, RMSE Val Loss: 0.47972\n",
      "Epoch: 32/200, RMSE Train Loss: 0.45223, RMSE Val Loss: 0.47971\n",
      "Epoch: 33/200, RMSE Train Loss: 0.45206, RMSE Val Loss: 0.47973\n",
      "Epoch: 34/200, RMSE Train Loss: 0.45349, RMSE Val Loss: 0.47975\n",
      "Epoch: 35/200, RMSE Train Loss: 0.45212, RMSE Val Loss: 0.47976\n",
      "Epoch: 36/200, RMSE Train Loss: 0.452, RMSE Val Loss: 0.47977\n"
     ]
    }
   ],
   "source": [
    "load = False\n",
    "save = False\n",
    "\n",
    "batch_size = 2**7\n",
    "\n",
    "data_loaders = utils.get_vocab_data_dict(data_df=data_df, batch_size=batch_size)\n",
    "train_loader = data_loaders[\"train_loader\"]\n",
    "val_loader = data_loaders[\"val_loader\"]\n",
    "\n",
    "model = models.LSTM_Regressor(\n",
    "    vocab_size=len(vocab),\n",
    "    embedding_size=251,\n",
    "    custom_embs=True,\n",
    "    hidden_size=75,\n",
    "    num_layers=2,\n",
    "    dense_size=69,\n",
    "    smaller_dense_size=49,\n",
    "    lstm_dropout=0.1,\n",
    "    dense_dropout=0.03,\n",
    ")\n",
    "\n",
    "if load:\n",
    "    model.load_state_dict(torch.load(\"../../model_checkpoints/lstm_vocab_model\"))\n",
    "else:\n",
    "    train_results = train.train_model(\n",
    "        model=model,\n",
    "        train_loader=train_loader,\n",
    "        val_loader=val_loader,\n",
    "        lr=0.01,\n",
    "        epochs=200,\n",
    "        batch_size=batch_size,\n",
    "        verbose=True,\n",
    "        early_stopping=True,\n",
    "        lr_decay=0.1,\n",
    "        lr_decay_step=10,\n",
    "    )\n",
    "    if save:\n",
    "        torch.save(model.state_dict(), \"../../model_checkpoints/lstm_vocab_model\")"
   ]
  },
  {
   "cell_type": "code",
   "execution_count": 9,
   "metadata": {},
   "outputs": [
    {
     "data": {
      "image/png": "[encoded data removed]",
      "text/plain": [
       "<Figure size 640x480 with 1 Axes>"
      ]
     },
     "metadata": {},
     "output_type": "display_data"
    }
   ],
   "source": [
    "plt.plot(train_results[\"train_loss\"], label=\"Train MSE Loss\")\n",
    "plt.plot(train_results[\"val_loss\"], label=\"Val MSE Loss\")\n",
    "plt.legend()\n",
    "plt.show()"
   ]
  },
  {
   "cell_type": "code",
   "execution_count": 11,
   "metadata": {},
   "outputs": [],
   "source": [
    "pred_dict = train.evaluate(model=model, val_loader=val_loader)\n",
    "preds = pred_dict[\"preds\"]\n",
    "true_energies = pred_dict[\"true_energies\"]"
   ]
  },
  {
   "cell_type": "code",
   "execution_count": 12,
   "metadata": {},
   "outputs": [
    {
     "data": {
      "image/png": "[encoded data removed]",
      "text/plain": [
       "<Figure size 1000x500 with 1 Axes>"
      ]
     },
     "metadata": {},
     "output_type": "display_data"
    }
   ],
   "source": [
    "plt.figure(figsize=(10, 5))\n",
    "plt.hist(preds, bins=100, range=(0,5))\n",
    "plt.title(\"Predictions' energy distribution\")\n",
    "plt.xlabel(\"Energy\")\n",
    "plt.show()"
   ]
  },
  {
   "cell_type": "code",
   "execution_count": 61,
   "metadata": {},
   "outputs": [
    {
     "data": {
      "image/png": "[encoded data removed]",
      "text/plain": [
       "<Figure size 1000x500 with 1 Axes>"
      ]
     },
     "metadata": {},
     "output_type": "display_data"
    }
   ],
   "source": [
    "val_labels = true_energies\n",
    "\n",
    "plt.figure(figsize=(10, 5))\n",
    "plt.hist(val_labels, bins=100, range=(0,5))\n",
    "plt.title(\"Validation labels energy distribution\")\n",
    "plt.xlabel(\"Energy\")\n",
    "plt.show()"
   ]
  },
  {
   "cell_type": "code",
   "execution_count": 13,
   "metadata": {},
   "outputs": [
    {
     "name": "stdout",
     "output_type": "stream",
     "text": [
      "Labels' median: 0.45734401305543804, Labels' std: 0.86776429262233\n"
     ]
    }
   ],
   "source": [
    "median = np.median(true_energies)\n",
    "std = np.std(true_energies)\n",
    "\n",
    "print(f\"Labels' median: {median}, Labels' std: {std}\")"
   ]
  },
  {
   "cell_type": "code",
   "execution_count": 14,
   "metadata": {},
   "outputs": [
    {
     "name": "stdout",
     "output_type": "stream",
     "text": [
      "MSE: 0.244\n",
      "MAE: 0.234\n"
     ]
    }
   ],
   "source": [
    "mse = round(mean_squared_error(true_energies, preds), 3)\n",
    "mae = round(mean_absolute_error(true_energies, preds), 3)\n",
    "\n",
    "print(f\"MSE: {mse}\")\n",
    "print(f\"MAE: {mae}\")"
   ]
  },
  {
   "cell_type": "code",
   "execution_count": 15,
   "metadata": {},
   "outputs": [
    {
     "data": {
      "image/png": "[encoded data removed]",
      "text/plain": [
       "<Figure size 1000x500 with 1 Axes>"
      ]
     },
     "metadata": {},
     "output_type": "display_data"
    }
   ],
   "source": [
    "plt.figure(figsize=(10, 5))\n",
    "plt.title(\"Total energy\")\n",
    "plt.ylabel(\"Energy (*61μJ)\")\n",
    "plt.bar([\"true energy\", \"prediction\"], [sum(true_energies), sum(preds)])\n",
    "plt.show()"
   ]
  },
  {
   "cell_type": "code",
   "execution_count": 62,
   "metadata": {},
   "outputs": [],
   "source": [
    "test_bbs = [[31], [7, 14, 499], [9, 6], [31], [408, 407], [2, 397, 410, 29, 2], [2, 30, 2, 4], [408, 407], [2, 397, 410, 29, 2], [2, 30, 2, 4]]\n",
    "test_bbs = [torch.tensor(bb).cuda() for bb in test_bbs]\n",
    "#test_bbs.sort(key=lambda x: x.shape[0], reverse=True)"
   ]
  },
  {
   "cell_type": "code",
   "execution_count": 63,
   "metadata": {},
   "outputs": [],
   "source": [
    "from torch.nn.utils.rnn import pad_sequence\n",
    "padded_seq = pad_sequence(test_bbs, batch_first=True, padding_value=0)"
   ]
  },
  {
   "cell_type": "code",
   "execution_count": 64,
   "metadata": {},
   "outputs": [
    {
     "data": {
      "text/plain": [
       "tensor([[  2, 397, 410,  29,   2],\n",
       "        [  2, 397, 410,  29,   2],\n",
       "        [  2,  30,   2,   4,   0],\n",
       "        [  2,  30,   2,   4,   0],\n",
       "        [  7,  14, 499,   0,   0],\n",
       "        [  9,   6,   0,   0,   0],\n",
       "        [408, 407,   0,   0,   0],\n",
       "        [408, 407,   0,   0,   0],\n",
       "        [ 31,   0,   0,   0,   0],\n",
       "        [ 31,   0,   0,   0,   0]], device='cuda:0')"
      ]
     },
     "execution_count": 64,
     "metadata": {},
     "output_type": "execute_result"
    }
   ],
   "source": [
    "padded_seq"
   ]
  },
  {
   "cell_type": "code",
   "execution_count": 66,
   "metadata": {},
   "outputs": [],
   "source": [
    "hidden_state = model.init_hidden(len(test_bbs))\n",
    "\n",
    "preds, h_state = model(padded_seq, hidden_state)"
   ]
  },
  {
   "cell_type": "code",
   "execution_count": 67,
   "metadata": {},
   "outputs": [
    {
     "data": {
      "text/plain": [
       "tensor([2.7997, 2.7997, 2.0631, 2.0631, 2.3499, 1.5310, 1.8411, 1.8411, 0.7461,\n",
       "        0.7461], device='cuda:0', grad_fn=<SelectBackward0>)"
      ]
     },
     "execution_count": 67,
     "metadata": {},
     "output_type": "execute_result"
    }
   ],
   "source": [
    "preds"
   ]
  },
  {
   "cell_type": "code",
   "execution_count": 71,
   "metadata": {},
   "outputs": [
    {
     "data": {
      "text/plain": [
       "tensor([2.7997, 2.7997, 2.0631, 2.0631, 2.3499, 1.5310, 1.8411, 1.8411, 0.7461,\n",
       "        0.7461], device='cuda:0', grad_fn=<SelectBackward0>)"
      ]
     },
     "execution_count": 71,
     "metadata": {},
     "output_type": "execute_result"
    }
   ],
   "source": [
    "preds"
   ]
  },
  {
   "cell_type": "code",
   "execution_count": null,
   "metadata": {},
   "outputs": [],
   "source": []
  }
 ],
 "metadata": {
  "kernelspec": {
   "display_name": "energy-prediction",
   "language": "python",
   "name": "python3"
  },
  "language_info": {
   "codemirror_mode": {
    "name": "ipython",
    "version": 3
   },
   "file_extension": ".py",
   "mimetype": "text/x-python",
   "name": "python",
   "nbconvert_exporter": "python",
   "pygments_lexer": "ipython3",
   "version": "3.10.4"
  },
  "orig_nbformat": 4,
  "vscode": {
   "interpreter": {
    "hash": "2d8ea44dacc84c32c3ffb10f5fa42b465f31145cc9ac97a8028dfa96db72aa4c"
   }
  }
 },
 "nbformat": 4,
 "nbformat_minor": 2
}
