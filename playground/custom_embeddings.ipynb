{
 "cells": [
  {
   "cell_type": "markdown",
   "metadata": {},
   "source": [
    "# Imports"
   ]
  },
  {
   "cell_type": "code",
   "execution_count": 1,
   "metadata": {},
   "outputs": [
    {
     "name": "stderr",
     "output_type": "stream",
     "text": [
      "c:\\Users\\thodo\\miniconda3\\envs\\energy-prediction\\lib\\site-packages\\tqdm\\auto.py:22: TqdmWarning: IProgress not found. Please update jupyter and ipywidgets. See https://ipywidgets.readthedocs.io/en/stable/user_install.html\n",
      "  from .autonotebook import tqdm as notebook_tqdm\n"
     ]
    },
    {
     "data": {
      "text/plain": [
       "True"
      ]
     },
     "execution_count": 1,
     "metadata": {},
     "output_type": "execute_result"
    }
   ],
   "source": [
    "import numpy as np\n",
    "import pandas as pd\n",
    "import matplotlib.pyplot as plt\n",
    "import tqdm\n",
    "import random\n",
    "import json\n",
    "import sys\n",
    "import os\n",
    "import logging\n",
    "from dotenv import load_dotenv\n",
    "\n",
    "import torch\n",
    "from torch import nn\n",
    "from torch.utils.data import Dataset, DataLoader\n",
    "\n",
    "import optuna\n",
    "\n",
    "from collections import Counter\n",
    "from typing import Optional\n",
    "\n",
    "from sklearn.metrics import mean_absolute_error, mean_squared_error\n",
    "\n",
    "from bb_energy_prediction import embedder, models, data_utils, train, dataset, evaluate\n",
    "\n",
    "load_dotenv()"
   ]
  },
  {
   "cell_type": "code",
   "execution_count": 2,
   "metadata": {},
   "outputs": [
    {
     "data": {
      "text/plain": [
       "device(type='cuda', index=1)"
      ]
     },
     "execution_count": 2,
     "metadata": {},
     "output_type": "execute_result"
    }
   ],
   "source": [
    "torch.device('cuda:1' if torch.cuda.is_available() else 'cpu')"
   ]
  },
  {
   "attachments": {},
   "cell_type": "markdown",
   "metadata": {},
   "source": [
    "# Data"
   ]
  },
  {
   "cell_type": "code",
   "execution_count": 3,
   "metadata": {},
   "outputs": [],
   "source": [
    "data_df = data_utils.get_data_df(data_path=\"../energy_data/data.pkl\")\n",
    "if \"bb_embeddings\" in data_df.columns:\n",
    "    data_df = data_df.drop(columns=\"bb_embeddings\")"
   ]
  },
  {
   "attachments": {},
   "cell_type": "markdown",
   "metadata": {},
   "source": [
    "We create the vocab and tokenize the data"
   ]
  },
  {
   "cell_type": "code",
   "execution_count": 5,
   "metadata": {},
   "outputs": [
    {
     "name": "stdout",
     "output_type": "stream",
     "text": [
      "size of vocabulary: 3359\n"
     ]
    }
   ],
   "source": [
    "vocab = data_utils.get_inst_vocab(data_df)\n",
    "print(f\"size of vocabulary: {len(vocab)}\")"
   ]
  },
  {
   "cell_type": "markdown",
   "metadata": {},
   "source": [
    "We remove outliers in order to have more balanced padded sequences"
   ]
  },
  {
   "cell_type": "code",
   "execution_count": 6,
   "metadata": {},
   "outputs": [
    {
     "data": {
      "image/png": "[encoded data removed]",
      "text/plain": [
       "<Figure size 720x288 with 1 Axes>"
      ]
     },
     "metadata": {
      "needs_background": "light"
     },
     "output_type": "display_data"
    }
   ],
   "source": [
    "plt.figure(figsize=(10,4))\n",
    "plt.hist(data_df.bb.map(len))\n",
    "plt.title(\"Number of instructions per bb\")\n",
    "plt.ylabel(\"Instructions\")\n",
    "plt.show()"
   ]
  },
  {
   "cell_type": "code",
   "execution_count": 7,
   "metadata": {},
   "outputs": [
    {
     "data": {
      "text/html": [
       "<div>\n",
       "<style scoped>\n",
       "    .dataframe tbody tr th:only-of-type {\n",
       "        vertical-align: middle;\n",
       "    }\n",
       "\n",
       "    .dataframe tbody tr th {\n",
       "        vertical-align: top;\n",
       "    }\n",
       "\n",
       "    .dataframe thead th {\n",
       "        text-align: right;\n",
       "    }\n",
       "</style>\n",
       "<table border=\"1\" class=\"dataframe\">\n",
       "  <thead>\n",
       "    <tr style=\"text-align: right;\">\n",
       "      <th></th>\n",
       "      <th>bb</th>\n",
       "      <th>energy</th>\n",
       "      <th>program_name</th>\n",
       "      <th>encoded_bb</th>\n",
       "    </tr>\n",
       "  </thead>\n",
       "  <tbody>\n",
       "    <tr>\n",
       "      <th>389857</th>\n",
       "      <td>[movq %rcx, mov %rcx %rax, sub %rax, cmpq %rax...</td>\n",
       "      <td>0.259610</td>\n",
       "      <td>variable_name_results</td>\n",
       "      <td>[25, 578, 271, 85, 674]</td>\n",
       "    </tr>\n",
       "    <tr>\n",
       "      <th>446831</th>\n",
       "      <td>[sub $0x1 %r14d, cmp %rbx %r15, jz 0xc1]</td>\n",
       "      <td>0.129805</td>\n",
       "      <td>variable_name_results</td>\n",
       "      <td>[337, 150, 432]</td>\n",
       "    </tr>\n",
       "    <tr>\n",
       "      <th>502647</th>\n",
       "      <td>[cmp %rax %r12, jb]</td>\n",
       "      <td>0.108170</td>\n",
       "      <td>variable_name_results</td>\n",
       "      <td>[8, 6]</td>\n",
       "    </tr>\n",
       "    <tr>\n",
       "      <th>505899</th>\n",
       "      <td>[subl $0x1 (%rdi), jmp]</td>\n",
       "      <td>0.259610</td>\n",
       "      <td>variable_name_results</td>\n",
       "      <td>[390, 5]</td>\n",
       "    </tr>\n",
       "    <tr>\n",
       "      <th>477761</th>\n",
       "      <td>[movq %rax (%rdi), jmp 0xe5]</td>\n",
       "      <td>0.259610</td>\n",
       "      <td>variable_name_results</td>\n",
       "      <td>[277, 279]</td>\n",
       "    </tr>\n",
       "    <tr>\n",
       "      <th>13545</th>\n",
       "      <td>[cmp $0x20 %rdx, jb 0x4b]</td>\n",
       "      <td>0.123955</td>\n",
       "      <td>bubblesort_results</td>\n",
       "      <td>[73, 76]</td>\n",
       "    </tr>\n",
       "    <tr>\n",
       "      <th>551935</th>\n",
       "      <td>[nop %edi %edx, movq %rax, movzxb %r15d, lea %...</td>\n",
       "      <td>0.432681</td>\n",
       "      <td>variable_name_results</td>\n",
       "      <td>[3, 2, 188, 258, 74, 164, 67]</td>\n",
       "    </tr>\n",
       "    <tr>\n",
       "      <th>88316</th>\n",
       "      <td>[addl $0x1, cmpq $0x0, jnz 0x1519]</td>\n",
       "      <td>1.414350</td>\n",
       "      <td>find_dyn_sum_results</td>\n",
       "      <td>[138, 26, 244]</td>\n",
       "    </tr>\n",
       "    <tr>\n",
       "      <th>415387</th>\n",
       "      <td>[add $0x30 %r12d, jmp]</td>\n",
       "      <td>0.194707</td>\n",
       "      <td>variable_name_results</td>\n",
       "      <td>[198, 5]</td>\n",
       "    </tr>\n",
       "    <tr>\n",
       "      <th>455838</th>\n",
       "      <td>[sub %r14 %rbx, mov %rbx %r13, add $0x18 %rsp,...</td>\n",
       "      <td>0.432681</td>\n",
       "      <td>variable_name_results</td>\n",
       "      <td>[124, 92, 56, 64, 15, 20, 19, 28, 27, 32, 4]</td>\n",
       "    </tr>\n",
       "  </tbody>\n",
       "</table>\n",
       "</div>"
      ],
      "text/plain": [
       "                                                       bb    energy  \\\n",
       "389857  [movq %rcx, mov %rcx %rax, sub %rax, cmpq %rax...  0.259610   \n",
       "446831           [sub $0x1 %r14d, cmp %rbx %r15, jz 0xc1]  0.129805   \n",
       "502647                                [cmp %rax %r12, jb]  0.108170   \n",
       "505899                            [subl $0x1 (%rdi), jmp]  0.259610   \n",
       "477761                       [movq %rax (%rdi), jmp 0xe5]  0.259610   \n",
       "13545                           [cmp $0x20 %rdx, jb 0x4b]  0.123955   \n",
       "551935  [nop %edi %edx, movq %rax, movzxb %r15d, lea %...  0.432681   \n",
       "88316                  [addl $0x1, cmpq $0x0, jnz 0x1519]  1.414350   \n",
       "415387                             [add $0x30 %r12d, jmp]  0.194707   \n",
       "455838  [sub %r14 %rbx, mov %rbx %r13, add $0x18 %rsp,...  0.432681   \n",
       "\n",
       "                 program_name                                    encoded_bb  \n",
       "389857  variable_name_results                       [25, 578, 271, 85, 674]  \n",
       "446831  variable_name_results                               [337, 150, 432]  \n",
       "502647  variable_name_results                                        [8, 6]  \n",
       "505899  variable_name_results                                      [390, 5]  \n",
       "477761  variable_name_results                                    [277, 279]  \n",
       "13545      bubblesort_results                                      [73, 76]  \n",
       "551935  variable_name_results                 [3, 2, 188, 258, 74, 164, 67]  \n",
       "88316    find_dyn_sum_results                                [138, 26, 244]  \n",
       "415387  variable_name_results                                      [198, 5]  \n",
       "455838  variable_name_results  [124, 92, 56, 64, 15, 20, 19, 28, 27, 32, 4]  "
      ]
     },
     "execution_count": 7,
     "metadata": {},
     "output_type": "execute_result"
    }
   ],
   "source": [
    "data_df[\"encoded_bb\"] = data_df.bb.apply(lambda x: data_utils.encode_bb_from_vocab(x, vocab, max_insts=20))\n",
    "data_df.sample(10)"
   ]
  },
  {
   "attachments": {},
   "cell_type": "markdown",
   "metadata": {},
   "source": [
    "Exclude some programs for test purposes, keeping though in the training data the programs with the most data so as not to have a large fraction of the data for testing."
   ]
  },
  {
   "cell_type": "code",
   "execution_count": 9,
   "metadata": {},
   "outputs": [
    {
     "name": "stdout",
     "output_type": "stream",
     "text": [
      "Test programs: ['game_of_life_results' 'declare_results' 'bin_to_dec_results']\n",
      "Test data size: 17069\n"
     ]
    }
   ],
   "source": [
    "program_names = data_df.program_name.value_counts().index[4:]\n",
    "test_programs = np.random.choice(program_names, 3, replace=False)\n",
    "train_val_df = data_df[~data_df.program_name.isin(test_programs)]\n",
    "test_df = data_df[data_df.program_name.isin(test_programs)]\n",
    "\n",
    "print(f\"Test programs: {test_programs}\")\n",
    "print(f\"Test data size: {len(test_df)}\")"
   ]
  },
  {
   "attachments": {},
   "cell_type": "markdown",
   "metadata": {},
   "source": [
    "# Optuna Trials"
   ]
  },
  {
   "cell_type": "code",
   "execution_count": 8,
   "metadata": {},
   "outputs": [
    {
     "name": "stderr",
     "output_type": "stream",
     "text": [
      "\u001b[32m[I 2023-02-08 18:33:04,955]\u001b[0m A new study created in RDB with name: lstm-vocab-regression-study-fewer-params\u001b[0m\n"
     ]
    },
    {
     "name": "stdout",
     "output_type": "stream",
     "text": [
      "A new study created in RDB with name: lstm-vocab-regression-study-fewer-params\n"
     ]
    }
   ],
   "source": [
    "optuna.logging.get_logger(\"optuna\").addHandler(logging.StreamHandler(sys.stdout))\n",
    "study_name = \"lstm-vocab-regression-study-fewer-params\"\n",
    "storage_name = f\"sqlite:////Users/thodo/Documents/sxoli/diplomatiki/optuna-studies/lstm-vocab-regression-study.db\"\n",
    "study = optuna.create_study(study_name=study_name, storage=storage_name, load_if_exists=True, direction=\"minimize\")\n",
    "study.set_user_attr(\"Loss\", \"RMSE\")\n",
    "study.set_user_attr(\"Special vocab tokens\", \"['unk': 0, 'pad': 1]\")\n",
    "study.set_user_attr(\"Max instructions\", 20)\n",
    "study.set_user_attr(\"Training-val data\", len(train_val_df))\n",
    "study.set_user_attr(\"Testing programs\", test_programs.tolist())\n",
    "study.set_user_attr(\"lr_decay\", 0.6)\n",
    "study.set_user_attr(\"lr_decay_step\", 9)"
   ]
  },
  {
   "cell_type": "code",
   "execution_count": 9,
   "metadata": {},
   "outputs": [
    {
     "name": "stderr",
     "output_type": "stream",
     "text": [
      "\u001b[32m[I 2023-02-08 18:45:55,223]\u001b[0m Trial 0 finished with value: 0.5324957979762036 and parameters: {'embedding_size': 511, 'lstm_layers': 3, 'hidden_size': 83, 'dense_size': 76, 'smaller_dense_size': 34, 'batch_size': 482, 'lstm_dropout': 0.04664250330604896, 'dense_dropout': 0.06780855055430586, 'lr': 0.0005377747898590337}. Best is trial 0 with value: 0.5324957979762036.\u001b[0m\n"
     ]
    },
    {
     "name": "stdout",
     "output_type": "stream",
     "text": [
      "Trial 0 finished with value: 0.5324957979762036 and parameters: {'embedding_size': 511, 'lstm_layers': 3, 'hidden_size': 83, 'dense_size': 76, 'smaller_dense_size': 34, 'batch_size': 482, 'lstm_dropout': 0.04664250330604896, 'dense_dropout': 0.06780855055430586, 'lr': 0.0005377747898590337}. Best is trial 0 with value: 0.5324957979762036.\n"
     ]
    },
    {
     "name": "stderr",
     "output_type": "stream",
     "text": [
      "\u001b[32m[I 2023-02-08 18:51:07,685]\u001b[0m Trial 1 finished with value: 0.558505798315073 and parameters: {'embedding_size': 441, 'lstm_layers': 2, 'hidden_size': 51, 'dense_size': 212, 'smaller_dense_size': 64, 'batch_size': 721, 'lstm_dropout': 0.17291088668723287, 'dense_dropout': 0.07303906947154877, 'lr': 0.006542114139423091}. Best is trial 0 with value: 0.5324957979762036.\u001b[0m\n"
     ]
    },
    {
     "name": "stdout",
     "output_type": "stream",
     "text": [
      "Trial 1 finished with value: 0.558505798315073 and parameters: {'embedding_size': 441, 'lstm_layers': 2, 'hidden_size': 51, 'dense_size': 212, 'smaller_dense_size': 64, 'batch_size': 721, 'lstm_dropout': 0.17291088668723287, 'dense_dropout': 0.07303906947154877, 'lr': 0.006542114139423091}. Best is trial 0 with value: 0.5324957979762036.\n"
     ]
    },
    {
     "name": "stderr",
     "output_type": "stream",
     "text": [
      "\u001b[32m[I 2023-02-08 18:56:12,156]\u001b[0m Trial 2 finished with value: 0.5399918099865317 and parameters: {'embedding_size': 246, 'lstm_layers': 1, 'hidden_size': 19, 'dense_size': 175, 'smaller_dense_size': 18, 'batch_size': 575, 'lstm_dropout': 0.0036658971622934634, 'dense_dropout': 0.12935909203749704, 'lr': 0.005121226096137824}. Best is trial 0 with value: 0.5324957979762036.\u001b[0m\n"
     ]
    },
    {
     "name": "stdout",
     "output_type": "stream",
     "text": [
      "Trial 2 finished with value: 0.5399918099865317 and parameters: {'embedding_size': 246, 'lstm_layers': 1, 'hidden_size': 19, 'dense_size': 175, 'smaller_dense_size': 18, 'batch_size': 575, 'lstm_dropout': 0.0036658971622934634, 'dense_dropout': 0.12935909203749704, 'lr': 0.005121226096137824}. Best is trial 0 with value: 0.5324957979762036.\n"
     ]
    },
    {
     "name": "stderr",
     "output_type": "stream",
     "text": [
      "\u001b[32m[I 2023-02-08 19:02:17,806]\u001b[0m Trial 3 finished with value: 0.5400546010836814 and parameters: {'embedding_size': 230, 'lstm_layers': 2, 'hidden_size': 105, 'dense_size': 73, 'smaller_dense_size': 31, 'batch_size': 270, 'lstm_dropout': 0.07143052408245497, 'dense_dropout': 0.14052316981148502, 'lr': 0.00909007295204837}. Best is trial 0 with value: 0.5324957979762036.\u001b[0m\n"
     ]
    },
    {
     "name": "stdout",
     "output_type": "stream",
     "text": [
      "Trial 3 finished with value: 0.5400546010836814 and parameters: {'embedding_size': 230, 'lstm_layers': 2, 'hidden_size': 105, 'dense_size': 73, 'smaller_dense_size': 31, 'batch_size': 270, 'lstm_dropout': 0.07143052408245497, 'dense_dropout': 0.14052316981148502, 'lr': 0.00909007295204837}. Best is trial 0 with value: 0.5324957979762036.\n"
     ]
    },
    {
     "name": "stderr",
     "output_type": "stream",
     "text": [
      "\u001b[32m[I 2023-02-08 19:09:22,393]\u001b[0m Trial 4 finished with value: 0.5522498579128928 and parameters: {'embedding_size': 325, 'lstm_layers': 2, 'hidden_size': 24, 'dense_size': 27, 'smaller_dense_size': 34, 'batch_size': 599, 'lstm_dropout': 0.1968911288350743, 'dense_dropout': 0.026063122787329817, 'lr': 0.009328988924203288}. Best is trial 0 with value: 0.5324957979762036.\u001b[0m\n"
     ]
    },
    {
     "name": "stdout",
     "output_type": "stream",
     "text": [
      "Trial 4 finished with value: 0.5522498579128928 and parameters: {'embedding_size': 325, 'lstm_layers': 2, 'hidden_size': 24, 'dense_size': 27, 'smaller_dense_size': 34, 'batch_size': 599, 'lstm_dropout': 0.1968911288350743, 'dense_dropout': 0.026063122787329817, 'lr': 0.009328988924203288}. Best is trial 0 with value: 0.5324957979762036.\n"
     ]
    },
    {
     "name": "stderr",
     "output_type": "stream",
     "text": [
      "\u001b[32m[I 2023-02-08 19:30:05,572]\u001b[0m Trial 5 finished with value: 0.5464498656513417 and parameters: {'embedding_size': 316, 'lstm_layers': 3, 'hidden_size': 68, 'dense_size': 77, 'smaller_dense_size': 48, 'batch_size': 489, 'lstm_dropout': 0.11412547628635478, 'dense_dropout': 0.12384191235905229, 'lr': 0.0006264182292124428}. Best is trial 0 with value: 0.5324957979762036.\u001b[0m\n"
     ]
    },
    {
     "name": "stdout",
     "output_type": "stream",
     "text": [
      "Trial 5 finished with value: 0.5464498656513417 and parameters: {'embedding_size': 316, 'lstm_layers': 3, 'hidden_size': 68, 'dense_size': 77, 'smaller_dense_size': 48, 'batch_size': 489, 'lstm_dropout': 0.11412547628635478, 'dense_dropout': 0.12384191235905229, 'lr': 0.0006264182292124428}. Best is trial 0 with value: 0.5324957979762036.\n"
     ]
    },
    {
     "name": "stderr",
     "output_type": "stream",
     "text": [
      "\u001b[32m[I 2023-02-08 19:43:35,227]\u001b[0m Trial 6 finished with value: 0.5590117288672406 and parameters: {'embedding_size': 212, 'lstm_layers': 3, 'hidden_size': 66, 'dense_size': 147, 'smaller_dense_size': 44, 'batch_size': 806, 'lstm_dropout': 0.047290770413329124, 'dense_dropout': 0.09593246868792553, 'lr': 0.003260826885115104}. Best is trial 0 with value: 0.5324957979762036.\u001b[0m\n"
     ]
    },
    {
     "name": "stdout",
     "output_type": "stream",
     "text": [
      "Trial 6 finished with value: 0.5590117288672406 and parameters: {'embedding_size': 212, 'lstm_layers': 3, 'hidden_size': 66, 'dense_size': 147, 'smaller_dense_size': 44, 'batch_size': 806, 'lstm_dropout': 0.047290770413329124, 'dense_dropout': 0.09593246868792553, 'lr': 0.003260826885115104}. Best is trial 0 with value: 0.5324957979762036.\n"
     ]
    },
    {
     "name": "stderr",
     "output_type": "stream",
     "text": [
      "\u001b[32m[I 2023-02-08 19:50:04,619]\u001b[0m Trial 7 finished with value: 0.5666667395074603 and parameters: {'embedding_size': 378, 'lstm_layers': 3, 'hidden_size': 77, 'dense_size': 26, 'smaller_dense_size': 28, 'batch_size': 784, 'lstm_dropout': 0.07722717332598512, 'dense_dropout': 0.07514470181409229, 'lr': 0.006101941308344192}. Best is trial 0 with value: 0.5324957979762036.\u001b[0m\n"
     ]
    },
    {
     "name": "stdout",
     "output_type": "stream",
     "text": [
      "Trial 7 finished with value: 0.5666667395074603 and parameters: {'embedding_size': 378, 'lstm_layers': 3, 'hidden_size': 77, 'dense_size': 26, 'smaller_dense_size': 28, 'batch_size': 784, 'lstm_dropout': 0.07722717332598512, 'dense_dropout': 0.07514470181409229, 'lr': 0.006101941308344192}. Best is trial 0 with value: 0.5324957979762036.\n"
     ]
    },
    {
     "name": "stderr",
     "output_type": "stream",
     "text": [
      "\u001b[32m[I 2023-02-08 19:57:29,662]\u001b[0m Trial 8 finished with value: 0.5543203468506153 and parameters: {'embedding_size': 287, 'lstm_layers': 1, 'hidden_size': 20, 'dense_size': 52, 'smaller_dense_size': 20, 'batch_size': 705, 'lstm_dropout': 0.13605575746867857, 'dense_dropout': 0.04283264572986523, 'lr': 0.0038558943095544015}. Best is trial 0 with value: 0.5324957979762036.\u001b[0m\n"
     ]
    },
    {
     "name": "stdout",
     "output_type": "stream",
     "text": [
      "Trial 8 finished with value: 0.5543203468506153 and parameters: {'embedding_size': 287, 'lstm_layers': 1, 'hidden_size': 20, 'dense_size': 52, 'smaller_dense_size': 20, 'batch_size': 705, 'lstm_dropout': 0.13605575746867857, 'dense_dropout': 0.04283264572986523, 'lr': 0.0038558943095544015}. Best is trial 0 with value: 0.5324957979762036.\n"
     ]
    },
    {
     "name": "stderr",
     "output_type": "stream",
     "text": [
      "\u001b[32m[I 2023-02-08 20:14:15,533]\u001b[0m Trial 9 finished with value: 0.5443182425065474 and parameters: {'embedding_size': 78, 'lstm_layers': 3, 'hidden_size': 101, 'dense_size': 56, 'smaller_dense_size': 56, 'batch_size': 315, 'lstm_dropout': 0.09527052260946178, 'dense_dropout': 0.09852950821484695, 'lr': 0.0011217622282847263}. Best is trial 0 with value: 0.5324957979762036.\u001b[0m\n"
     ]
    },
    {
     "name": "stdout",
     "output_type": "stream",
     "text": [
      "Trial 9 finished with value: 0.5443182425065474 and parameters: {'embedding_size': 78, 'lstm_layers': 3, 'hidden_size': 101, 'dense_size': 56, 'smaller_dense_size': 56, 'batch_size': 315, 'lstm_dropout': 0.09527052260946178, 'dense_dropout': 0.09852950821484695, 'lr': 0.0011217622282847263}. Best is trial 0 with value: 0.5324957979762036.\n"
     ]
    },
    {
     "name": "stderr",
     "output_type": "stream",
     "text": [
      "\u001b[32m[I 2023-02-08 20:27:41,103]\u001b[0m Trial 10 finished with value: 0.5392407819076821 and parameters: {'embedding_size': 510, 'lstm_layers': 3, 'hidden_size': 122, 'dense_size': 254, 'smaller_dense_size': 45, 'batch_size': 1019, 'lstm_dropout': 0.022482616533551797, 'dense_dropout': 0.015823962481573618, 'lr': 0.00024164126928227433}. Best is trial 0 with value: 0.5324957979762036.\u001b[0m\n"
     ]
    },
    {
     "name": "stdout",
     "output_type": "stream",
     "text": [
      "Trial 10 finished with value: 0.5392407819076821 and parameters: {'embedding_size': 510, 'lstm_layers': 3, 'hidden_size': 122, 'dense_size': 254, 'smaller_dense_size': 45, 'batch_size': 1019, 'lstm_dropout': 0.022482616533551797, 'dense_dropout': 0.015823962481573618, 'lr': 0.00024164126928227433}. Best is trial 0 with value: 0.5324957979762036.\n"
     ]
    },
    {
     "name": "stderr",
     "output_type": "stream",
     "text": [
      "\u001b[32m[I 2023-02-08 20:49:29,640]\u001b[0m Trial 11 finished with value: 0.5317887925265128 and parameters: {'embedding_size': 512, 'lstm_layers': 3, 'hidden_size': 122, 'dense_size': 235, 'smaller_dense_size': 45, 'batch_size': 961, 'lstm_dropout': 0.02830406823998422, 'dense_dropout': 0.0032673384621072082, 'lr': 0.000513173004792743}. Best is trial 11 with value: 0.5317887925265128.\u001b[0m\n"
     ]
    },
    {
     "name": "stdout",
     "output_type": "stream",
     "text": [
      "Trial 11 finished with value: 0.5317887925265128 and parameters: {'embedding_size': 512, 'lstm_layers': 3, 'hidden_size': 122, 'dense_size': 235, 'smaller_dense_size': 45, 'batch_size': 961, 'lstm_dropout': 0.02830406823998422, 'dense_dropout': 0.0032673384621072082, 'lr': 0.000513173004792743}. Best is trial 11 with value: 0.5317887925265128.\n"
     ]
    },
    {
     "name": "stderr",
     "output_type": "stream",
     "text": [
      "\u001b[32m[I 2023-02-08 20:57:50,571]\u001b[0m Trial 12 finished with value: 0.5451489069245078 and parameters: {'embedding_size': 492, 'lstm_layers': 3, 'hidden_size': 127, 'dense_size': 122, 'smaller_dense_size': 39, 'batch_size': 1010, 'lstm_dropout': 0.040787370922166964, 'dense_dropout': 0.0018163111507448824, 'lr': 0.0019985285576532242}. Best is trial 11 with value: 0.5317887925265128.\u001b[0m\n"
     ]
    },
    {
     "name": "stdout",
     "output_type": "stream",
     "text": [
      "Trial 12 finished with value: 0.5451489069245078 and parameters: {'embedding_size': 492, 'lstm_layers': 3, 'hidden_size': 127, 'dense_size': 122, 'smaller_dense_size': 39, 'batch_size': 1010, 'lstm_dropout': 0.040787370922166964, 'dense_dropout': 0.0018163111507448824, 'lr': 0.0019985285576532242}. Best is trial 11 with value: 0.5317887925265128.\n"
     ]
    },
    {
     "name": "stderr",
     "output_type": "stream",
     "text": [
      "\u001b[32m[I 2023-02-08 21:16:26,689]\u001b[0m Trial 13 finished with value: 0.5198200795074437 and parameters: {'embedding_size': 451, 'lstm_layers': 2, 'hidden_size': 91, 'dense_size': 115, 'smaller_dense_size': 25, 'batch_size': 373, 'lstm_dropout': 0.0002300559967356071, 'dense_dropout': 0.04358939005888012, 'lr': 0.0020263074318056093}. Best is trial 13 with value: 0.5198200795074437.\u001b[0m\n"
     ]
    },
    {
     "name": "stdout",
     "output_type": "stream",
     "text": [
      "Trial 13 finished with value: 0.5198200795074437 and parameters: {'embedding_size': 451, 'lstm_layers': 2, 'hidden_size': 91, 'dense_size': 115, 'smaller_dense_size': 25, 'batch_size': 373, 'lstm_dropout': 0.0002300559967356071, 'dense_dropout': 0.04358939005888012, 'lr': 0.0020263074318056093}. Best is trial 13 with value: 0.5198200795074437.\n"
     ]
    },
    {
     "name": "stderr",
     "output_type": "stream",
     "text": [
      "\u001b[32m[I 2023-02-08 21:25:19,715]\u001b[0m Trial 14 finished with value: 0.5368933111429215 and parameters: {'embedding_size': 412, 'lstm_layers': 2, 'hidden_size': 102, 'dense_size': 119, 'smaller_dense_size': 23, 'batch_size': 923, 'lstm_dropout': 0.007369022742348836, 'dense_dropout': 0.035278008869100645, 'lr': 0.002351976855007478}. Best is trial 13 with value: 0.5198200795074437.\u001b[0m\n"
     ]
    },
    {
     "name": "stdout",
     "output_type": "stream",
     "text": [
      "Trial 14 finished with value: 0.5368933111429215 and parameters: {'embedding_size': 412, 'lstm_layers': 2, 'hidden_size': 102, 'dense_size': 119, 'smaller_dense_size': 23, 'batch_size': 923, 'lstm_dropout': 0.007369022742348836, 'dense_dropout': 0.035278008869100645, 'lr': 0.002351976855007478}. Best is trial 13 with value: 0.5198200795074437.\n"
     ]
    },
    {
     "name": "stderr",
     "output_type": "stream",
     "text": [
      "\u001b[32m[I 2023-02-08 21:38:08,876]\u001b[0m Trial 15 finished with value: 0.5438948952234708 and parameters: {'embedding_size': 446, 'lstm_layers': 1, 'hidden_size': 111, 'dense_size': 183, 'smaller_dense_size': 9, 'batch_size': 428, 'lstm_dropout': 0.001925400368173779, 'dense_dropout': 0.011927706641689725, 'lr': 0.0018399946410039573}. Best is trial 13 with value: 0.5198200795074437.\u001b[0m\n"
     ]
    },
    {
     "name": "stdout",
     "output_type": "stream",
     "text": [
      "Trial 15 finished with value: 0.5438948952234708 and parameters: {'embedding_size': 446, 'lstm_layers': 1, 'hidden_size': 111, 'dense_size': 183, 'smaller_dense_size': 9, 'batch_size': 428, 'lstm_dropout': 0.001925400368173779, 'dense_dropout': 0.011927706641689725, 'lr': 0.0018399946410039573}. Best is trial 13 with value: 0.5198200795074437.\n"
     ]
    },
    {
     "name": "stderr",
     "output_type": "stream",
     "text": [
      "\u001b[32m[I 2023-02-08 21:45:05,909]\u001b[0m Trial 16 finished with value: 0.5704649459748041 and parameters: {'embedding_size': 379, 'lstm_layers': 2, 'hidden_size': 87, 'dense_size': 255, 'smaller_dense_size': 10, 'batch_size': 882, 'lstm_dropout': 0.02914714373853993, 'dense_dropout': 0.0012589104636454049, 'lr': 0.0034789656927865986}. Best is trial 13 with value: 0.5198200795074437.\u001b[0m\n"
     ]
    },
    {
     "name": "stdout",
     "output_type": "stream",
     "text": [
      "Trial 16 finished with value: 0.5704649459748041 and parameters: {'embedding_size': 379, 'lstm_layers': 2, 'hidden_size': 87, 'dense_size': 255, 'smaller_dense_size': 10, 'batch_size': 882, 'lstm_dropout': 0.02914714373853993, 'dense_dropout': 0.0012589104636454049, 'lr': 0.0034789656927865986}. Best is trial 13 with value: 0.5198200795074437.\n"
     ]
    },
    {
     "name": "stderr",
     "output_type": "stream",
     "text": [
      "\u001b[32m[I 2023-02-08 22:10:20,748]\u001b[0m Trial 17 finished with value: 0.5570687705235515 and parameters: {'embedding_size': 122, 'lstm_layers': 2, 'hidden_size': 42, 'dense_size': 221, 'smaller_dense_size': 53, 'batch_size': 398, 'lstm_dropout': 0.06056194278601178, 'dense_dropout': 0.04308627703956686, 'lr': 0.00018643531551188478}. Best is trial 13 with value: 0.5198200795074437.\u001b[0m\n"
     ]
    },
    {
     "name": "stdout",
     "output_type": "stream",
     "text": [
      "Trial 17 finished with value: 0.5570687705235515 and parameters: {'embedding_size': 122, 'lstm_layers': 2, 'hidden_size': 42, 'dense_size': 221, 'smaller_dense_size': 53, 'batch_size': 398, 'lstm_dropout': 0.06056194278601178, 'dense_dropout': 0.04308627703956686, 'lr': 0.00018643531551188478}. Best is trial 13 with value: 0.5198200795074437.\n"
     ]
    },
    {
     "name": "stderr",
     "output_type": "stream",
     "text": [
      "\u001b[32m[I 2023-02-08 22:25:31,111]\u001b[0m Trial 18 finished with value: 0.5423383216063181 and parameters: {'embedding_size': 457, 'lstm_layers': 2, 'hidden_size': 115, 'dense_size': 103, 'smaller_dense_size': 40, 'batch_size': 542, 'lstm_dropout': 0.023218383507417253, 'dense_dropout': 0.025322668880861106, 'lr': 0.0014655679940190174}. Best is trial 13 with value: 0.5198200795074437.\u001b[0m\n"
     ]
    },
    {
     "name": "stdout",
     "output_type": "stream",
     "text": [
      "Trial 18 finished with value: 0.5423383216063181 and parameters: {'embedding_size': 457, 'lstm_layers': 2, 'hidden_size': 115, 'dense_size': 103, 'smaller_dense_size': 40, 'batch_size': 542, 'lstm_dropout': 0.023218383507417253, 'dense_dropout': 0.025322668880861106, 'lr': 0.0014655679940190174}. Best is trial 13 with value: 0.5198200795074437.\n"
     ]
    },
    {
     "name": "stderr",
     "output_type": "stream",
     "text": [
      "\u001b[32m[I 2023-02-08 22:32:59,475]\u001b[0m Trial 19 finished with value: 0.5439919987356806 and parameters: {'embedding_size': 380, 'lstm_layers': 1, 'hidden_size': 95, 'dense_size': 156, 'smaller_dense_size': 26, 'batch_size': 664, 'lstm_dropout': 0.027166813902509388, 'dense_dropout': 0.05280950772070368, 'lr': 0.002503988921440434}. Best is trial 13 with value: 0.5198200795074437.\u001b[0m\n"
     ]
    },
    {
     "name": "stdout",
     "output_type": "stream",
     "text": [
      "Trial 19 finished with value: 0.5439919987356806 and parameters: {'embedding_size': 380, 'lstm_layers': 1, 'hidden_size': 95, 'dense_size': 156, 'smaller_dense_size': 26, 'batch_size': 664, 'lstm_dropout': 0.027166813902509388, 'dense_dropout': 0.05280950772070368, 'lr': 0.002503988921440434}. Best is trial 13 with value: 0.5198200795074437.\n"
     ]
    },
    {
     "name": "stderr",
     "output_type": "stream",
     "text": [
      "\u001b[32m[I 2023-02-08 22:40:28,372]\u001b[0m Trial 20 finished with value: 0.5436173536275563 and parameters: {'embedding_size': 469, 'lstm_layers': 2, 'hidden_size': 92, 'dense_size': 206, 'smaller_dense_size': 14, 'batch_size': 325, 'lstm_dropout': 0.06060538450106985, 'dense_dropout': 0.01985666539843242, 'lr': 0.001497149104153098}. Best is trial 13 with value: 0.5198200795074437.\u001b[0m\n"
     ]
    },
    {
     "name": "stdout",
     "output_type": "stream",
     "text": [
      "Trial 20 finished with value: 0.5436173536275563 and parameters: {'embedding_size': 469, 'lstm_layers': 2, 'hidden_size': 92, 'dense_size': 206, 'smaller_dense_size': 14, 'batch_size': 325, 'lstm_dropout': 0.06060538450106985, 'dense_dropout': 0.01985666539843242, 'lr': 0.001497149104153098}. Best is trial 13 with value: 0.5198200795074437.\n"
     ]
    },
    {
     "name": "stderr",
     "output_type": "stream",
     "text": [
      "\u001b[32m[I 2023-02-08 23:04:19,739]\u001b[0m Trial 21 finished with value: 0.5546619738223123 and parameters: {'embedding_size': 506, 'lstm_layers': 3, 'hidden_size': 81, 'dense_size': 87, 'smaller_dense_size': 34, 'batch_size': 454, 'lstm_dropout': 0.04419617964845857, 'dense_dropout': 0.05402622639278126, 'lr': 0.0008879749957687983}. Best is trial 13 with value: 0.5198200795074437.\u001b[0m\n"
     ]
    },
    {
     "name": "stdout",
     "output_type": "stream",
     "text": [
      "Trial 21 finished with value: 0.5546619738223123 and parameters: {'embedding_size': 506, 'lstm_layers': 3, 'hidden_size': 81, 'dense_size': 87, 'smaller_dense_size': 34, 'batch_size': 454, 'lstm_dropout': 0.04419617964845857, 'dense_dropout': 0.05402622639278126, 'lr': 0.0008879749957687983}. Best is trial 13 with value: 0.5198200795074437.\n"
     ]
    },
    {
     "name": "stderr",
     "output_type": "stream",
     "text": [
      "\u001b[32m[I 2023-02-08 23:18:34,731]\u001b[0m Trial 22 finished with value: 0.5530293963543357 and parameters: {'embedding_size': 414, 'lstm_layers': 3, 'hidden_size': 62, 'dense_size': 103, 'smaller_dense_size': 39, 'batch_size': 379, 'lstm_dropout': 0.015023200128657516, 'dense_dropout': 0.03264200401777407, 'lr': 0.00031282943106101363}. Best is trial 13 with value: 0.5198200795074437.\u001b[0m\n"
     ]
    },
    {
     "name": "stdout",
     "output_type": "stream",
     "text": [
      "Trial 22 finished with value: 0.5530293963543357 and parameters: {'embedding_size': 414, 'lstm_layers': 3, 'hidden_size': 62, 'dense_size': 103, 'smaller_dense_size': 39, 'batch_size': 379, 'lstm_dropout': 0.015023200128657516, 'dense_dropout': 0.03264200401777407, 'lr': 0.00031282943106101363}. Best is trial 13 with value: 0.5198200795074437.\n"
     ]
    },
    {
     "name": "stderr",
     "output_type": "stream",
     "text": [
      "\u001b[32m[I 2023-02-08 23:29:51,395]\u001b[0m Trial 23 finished with value: 0.5504378495471818 and parameters: {'embedding_size': 511, 'lstm_layers': 3, 'hidden_size': 76, 'dense_size': 135, 'smaller_dense_size': 30, 'batch_size': 493, 'lstm_dropout': 0.0006611620293010686, 'dense_dropout': 0.06032142081405169, 'lr': 0.0013034331738025786}. Best is trial 13 with value: 0.5198200795074437.\u001b[0m\n"
     ]
    },
    {
     "name": "stdout",
     "output_type": "stream",
     "text": [
      "Trial 23 finished with value: 0.5504378495471818 and parameters: {'embedding_size': 511, 'lstm_layers': 3, 'hidden_size': 76, 'dense_size': 135, 'smaller_dense_size': 30, 'batch_size': 493, 'lstm_dropout': 0.0006611620293010686, 'dense_dropout': 0.06032142081405169, 'lr': 0.0013034331738025786}. Best is trial 13 with value: 0.5198200795074437.\n"
     ]
    },
    {
     "name": "stderr",
     "output_type": "stream",
     "text": [
      "\u001b[32m[I 2023-02-08 23:46:48,813]\u001b[0m Trial 24 finished with value: 0.548269491050845 and parameters: {'embedding_size': 473, 'lstm_layers': 2, 'hidden_size': 117, 'dense_size': 165, 'smaller_dense_size': 50, 'batch_size': 517, 'lstm_dropout': 0.035930212934208436, 'dense_dropout': 0.011078996198842807, 'lr': 0.002770958874725344}. Best is trial 13 with value: 0.5198200795074437.\u001b[0m\n"
     ]
    },
    {
     "name": "stdout",
     "output_type": "stream",
     "text": [
      "Trial 24 finished with value: 0.548269491050845 and parameters: {'embedding_size': 473, 'lstm_layers': 2, 'hidden_size': 117, 'dense_size': 165, 'smaller_dense_size': 50, 'batch_size': 517, 'lstm_dropout': 0.035930212934208436, 'dense_dropout': 0.011078996198842807, 'lr': 0.002770958874725344}. Best is trial 13 with value: 0.5198200795074437.\n"
     ]
    },
    {
     "name": "stderr",
     "output_type": "stream",
     "text": [
      "\u001b[32m[I 2023-02-09 00:13:36,180]\u001b[0m Trial 25 finished with value: 0.5479088402711428 and parameters: {'embedding_size': 418, 'lstm_layers': 3, 'hidden_size': 87, 'dense_size': 57, 'smaller_dense_size': 58, 'batch_size': 388, 'lstm_dropout': 0.01733735697124668, 'dense_dropout': 0.03883372843247736, 'lr': 0.001031491663448686}. Best is trial 13 with value: 0.5198200795074437.\u001b[0m\n"
     ]
    },
    {
     "name": "stdout",
     "output_type": "stream",
     "text": [
      "Trial 25 finished with value: 0.5479088402711428 and parameters: {'embedding_size': 418, 'lstm_layers': 3, 'hidden_size': 87, 'dense_size': 57, 'smaller_dense_size': 58, 'batch_size': 388, 'lstm_dropout': 0.01733735697124668, 'dense_dropout': 0.03883372843247736, 'lr': 0.001031491663448686}. Best is trial 13 with value: 0.5198200795074437.\n"
     ]
    },
    {
     "name": "stderr",
     "output_type": "stream",
     "text": [
      "\u001b[32m[I 2023-02-09 00:19:00,390]\u001b[0m Trial 26 finished with value: 0.5502568372849668 and parameters: {'embedding_size': 467, 'lstm_layers': 3, 'hidden_size': 48, 'dense_size': 99, 'smaller_dense_size': 24, 'batch_size': 620, 'lstm_dropout': 0.0532742141641762, 'dense_dropout': 0.026265090637052332, 'lr': 0.00218166989131352}. Best is trial 13 with value: 0.5198200795074437.\u001b[0m\n"
     ]
    },
    {
     "name": "stdout",
     "output_type": "stream",
     "text": [
      "Trial 26 finished with value: 0.5502568372849668 and parameters: {'embedding_size': 467, 'lstm_layers': 3, 'hidden_size': 48, 'dense_size': 99, 'smaller_dense_size': 24, 'batch_size': 620, 'lstm_dropout': 0.0532742141641762, 'dense_dropout': 0.026265090637052332, 'lr': 0.00218166989131352}. Best is trial 13 with value: 0.5198200795074437.\n"
     ]
    },
    {
     "name": "stderr",
     "output_type": "stream",
     "text": [
      "\u001b[32m[I 2023-02-09 00:38:41,920]\u001b[0m Trial 27 finished with value: 0.542854502621819 and parameters: {'embedding_size': 353, 'lstm_layers': 2, 'hidden_size': 108, 'dense_size': 131, 'smaller_dense_size': 36, 'batch_size': 327, 'lstm_dropout': 0.03352463415355544, 'dense_dropout': 0.06582326207686492, 'lr': 0.00011248577504379938}. Best is trial 13 with value: 0.5198200795074437.\u001b[0m\n"
     ]
    },
    {
     "name": "stdout",
     "output_type": "stream",
     "text": [
      "Trial 27 finished with value: 0.542854502621819 and parameters: {'embedding_size': 353, 'lstm_layers': 2, 'hidden_size': 108, 'dense_size': 131, 'smaller_dense_size': 36, 'batch_size': 327, 'lstm_dropout': 0.03352463415355544, 'dense_dropout': 0.06582326207686492, 'lr': 0.00011248577504379938}. Best is trial 13 with value: 0.5198200795074437.\n"
     ]
    },
    {
     "name": "stderr",
     "output_type": "stream",
     "text": [
      "\u001b[32m[I 2023-02-09 00:53:43,907]\u001b[0m Trial 28 finished with value: 0.5525175213813782 and parameters: {'embedding_size': 434, 'lstm_layers': 3, 'hidden_size': 128, 'dense_size': 189, 'smaller_dense_size': 44, 'batch_size': 918, 'lstm_dropout': 0.016243710610774773, 'dense_dropout': 0.0479922716347298, 'lr': 0.0009970079861075835}. Best is trial 13 with value: 0.5198200795074437.\u001b[0m\n"
     ]
    },
    {
     "name": "stdout",
     "output_type": "stream",
     "text": [
      "Trial 28 finished with value: 0.5525175213813782 and parameters: {'embedding_size': 434, 'lstm_layers': 3, 'hidden_size': 128, 'dense_size': 189, 'smaller_dense_size': 44, 'batch_size': 918, 'lstm_dropout': 0.016243710610774773, 'dense_dropout': 0.0479922716347298, 'lr': 0.0009970079861075835}. Best is trial 13 with value: 0.5198200795074437.\n"
     ]
    },
    {
     "name": "stderr",
     "output_type": "stream",
     "text": [
      "\u001b[32m[I 2023-02-09 01:04:40,825]\u001b[0m Trial 29 finished with value: 0.5613057450072406 and parameters: {'embedding_size': 484, 'lstm_layers': 1, 'hidden_size': 56, 'dense_size': 232, 'smaller_dense_size': 59, 'batch_size': 759, 'lstm_dropout': 0.041850713136732026, 'dense_dropout': 0.07362990402308985, 'lr': 0.004196975297377854}. Best is trial 13 with value: 0.5198200795074437.\u001b[0m\n"
     ]
    },
    {
     "name": "stdout",
     "output_type": "stream",
     "text": [
      "Trial 29 finished with value: 0.5613057450072406 and parameters: {'embedding_size': 484, 'lstm_layers': 1, 'hidden_size': 56, 'dense_size': 232, 'smaller_dense_size': 59, 'batch_size': 759, 'lstm_dropout': 0.041850713136732026, 'dense_dropout': 0.07362990402308985, 'lr': 0.004196975297377854}. Best is trial 13 with value: 0.5198200795074437.\n"
     ]
    },
    {
     "name": "stderr",
     "output_type": "stream",
     "text": [
      "\u001b[32m[I 2023-02-09 01:18:58,476]\u001b[0m Trial 30 finished with value: 0.5369997418204019 and parameters: {'embedding_size': 432, 'lstm_layers': 2, 'hidden_size': 35, 'dense_size': 44, 'smaller_dense_size': 16, 'batch_size': 259, 'lstm_dropout': 0.032385615095213816, 'dense_dropout': 0.06260131276766694, 'lr': 0.0027425169151964004}. Best is trial 13 with value: 0.5198200795074437.\u001b[0m\n"
     ]
    },
    {
     "name": "stdout",
     "output_type": "stream",
     "text": [
      "Trial 30 finished with value: 0.5369997418204019 and parameters: {'embedding_size': 432, 'lstm_layers': 2, 'hidden_size': 35, 'dense_size': 44, 'smaller_dense_size': 16, 'batch_size': 259, 'lstm_dropout': 0.032385615095213816, 'dense_dropout': 0.06260131276766694, 'lr': 0.0027425169151964004}. Best is trial 13 with value: 0.5198200795074437.\n"
     ]
    },
    {
     "name": "stderr",
     "output_type": "stream",
     "text": [
      "\u001b[32m[I 2023-02-09 01:31:50,775]\u001b[0m Trial 31 finished with value: 0.5492893058364674 and parameters: {'embedding_size': 405, 'lstm_layers': 2, 'hidden_size': 103, 'dense_size': 125, 'smaller_dense_size': 23, 'batch_size': 935, 'lstm_dropout': 0.010750115014615086, 'dense_dropout': 0.03599712070390082, 'lr': 0.001957335193147328}. Best is trial 13 with value: 0.5198200795074437.\u001b[0m\n"
     ]
    },
    {
     "name": "stdout",
     "output_type": "stream",
     "text": [
      "Trial 31 finished with value: 0.5492893058364674 and parameters: {'embedding_size': 405, 'lstm_layers': 2, 'hidden_size': 103, 'dense_size': 125, 'smaller_dense_size': 23, 'batch_size': 935, 'lstm_dropout': 0.010750115014615086, 'dense_dropout': 0.03599712070390082, 'lr': 0.001957335193147328}. Best is trial 13 with value: 0.5198200795074437.\n"
     ]
    },
    {
     "name": "stderr",
     "output_type": "stream",
     "text": [
      "\u001b[32m[I 2023-02-09 01:46:12,413]\u001b[0m Trial 32 finished with value: 0.551009139046073 and parameters: {'embedding_size': 452, 'lstm_layers': 2, 'hidden_size': 98, 'dense_size': 114, 'smaller_dense_size': 21, 'batch_size': 869, 'lstm_dropout': 0.0002067860508568678, 'dense_dropout': 0.0336783855562091, 'lr': 0.0015701172324493157}. Best is trial 13 with value: 0.5198200795074437.\u001b[0m\n"
     ]
    },
    {
     "name": "stdout",
     "output_type": "stream",
     "text": [
      "Trial 32 finished with value: 0.551009139046073 and parameters: {'embedding_size': 452, 'lstm_layers': 2, 'hidden_size': 98, 'dense_size': 114, 'smaller_dense_size': 21, 'batch_size': 869, 'lstm_dropout': 0.0002067860508568678, 'dense_dropout': 0.0336783855562091, 'lr': 0.0015701172324493157}. Best is trial 13 with value: 0.5198200795074437.\n"
     ]
    },
    {
     "name": "stderr",
     "output_type": "stream",
     "text": [
      "\u001b[32m[I 2023-02-09 01:55:48,997]\u001b[0m Trial 33 finished with value: 0.5443837569470991 and parameters: {'embedding_size': 484, 'lstm_layers': 2, 'hidden_size': 117, 'dense_size': 79, 'smaller_dense_size': 29, 'batch_size': 975, 'lstm_dropout': 0.014160815215218716, 'dense_dropout': 0.0435424023647177, 'lr': 0.0007969843783408137}. Best is trial 13 with value: 0.5198200795074437.\u001b[0m\n"
     ]
    },
    {
     "name": "stdout",
     "output_type": "stream",
     "text": [
      "Trial 33 finished with value: 0.5443837569470991 and parameters: {'embedding_size': 484, 'lstm_layers': 2, 'hidden_size': 117, 'dense_size': 79, 'smaller_dense_size': 29, 'batch_size': 975, 'lstm_dropout': 0.014160815215218716, 'dense_dropout': 0.0435424023647177, 'lr': 0.0007969843783408137}. Best is trial 13 with value: 0.5198200795074437.\n"
     ]
    },
    {
     "name": "stderr",
     "output_type": "stream",
     "text": [
      "\u001b[32m[I 2023-02-09 01:59:42,889]\u001b[0m Trial 34 finished with value: 0.5715113086625934 and parameters: {'embedding_size': 174, 'lstm_layers': 2, 'hidden_size': 86, 'dense_size': 94, 'smaller_dense_size': 33, 'batch_size': 861, 'lstm_dropout': 0.00804133290737577, 'dense_dropout': 0.02851834773523255, 'lr': 0.0023980239566465263}. Best is trial 13 with value: 0.5198200795074437.\u001b[0m\n"
     ]
    },
    {
     "name": "stdout",
     "output_type": "stream",
     "text": [
      "Trial 34 finished with value: 0.5715113086625934 and parameters: {'embedding_size': 174, 'lstm_layers': 2, 'hidden_size': 86, 'dense_size': 94, 'smaller_dense_size': 33, 'batch_size': 861, 'lstm_dropout': 0.00804133290737577, 'dense_dropout': 0.02851834773523255, 'lr': 0.0023980239566465263}. Best is trial 13 with value: 0.5198200795074437.\n"
     ]
    },
    {
     "name": "stderr",
     "output_type": "stream",
     "text": [
      "\u001b[32m[I 2023-02-09 02:12:52,177]\u001b[0m Trial 35 finished with value: 0.5417239752012429 and parameters: {'embedding_size': 403, 'lstm_layers': 2, 'hidden_size': 104, 'dense_size': 67, 'smaller_dense_size': 25, 'batch_size': 572, 'lstm_dropout': 0.0259789190538027, 'dense_dropout': 0.02156662681954757, 'lr': 0.0030564881531653983}. Best is trial 13 with value: 0.5198200795074437.\u001b[0m\n"
     ]
    },
    {
     "name": "stdout",
     "output_type": "stream",
     "text": [
      "Trial 35 finished with value: 0.5417239752012429 and parameters: {'embedding_size': 403, 'lstm_layers': 2, 'hidden_size': 104, 'dense_size': 67, 'smaller_dense_size': 25, 'batch_size': 572, 'lstm_dropout': 0.0259789190538027, 'dense_dropout': 0.02156662681954757, 'lr': 0.0030564881531653983}. Best is trial 13 with value: 0.5198200795074437.\n"
     ]
    },
    {
     "name": "stderr",
     "output_type": "stream",
     "text": [
      "\u001b[32m[I 2023-02-09 02:24:25,503]\u001b[0m Trial 36 finished with value: 0.55313880959662 and parameters: {'embedding_size': 333, 'lstm_layers': 3, 'hidden_size': 73, 'dense_size': 111, 'smaller_dense_size': 64, 'batch_size': 671, 'lstm_dropout': 0.010017526756953435, 'dense_dropout': 0.006214377383281122, 'lr': 0.004626621897529648}. Best is trial 13 with value: 0.5198200795074437.\u001b[0m\n"
     ]
    },
    {
     "name": "stdout",
     "output_type": "stream",
     "text": [
      "Trial 36 finished with value: 0.55313880959662 and parameters: {'embedding_size': 333, 'lstm_layers': 3, 'hidden_size': 73, 'dense_size': 111, 'smaller_dense_size': 64, 'batch_size': 671, 'lstm_dropout': 0.010017526756953435, 'dense_dropout': 0.006214377383281122, 'lr': 0.004626621897529648}. Best is trial 13 with value: 0.5198200795074437.\n"
     ]
    },
    {
     "name": "stderr",
     "output_type": "stream",
     "text": [
      "\u001b[32m[I 2023-02-09 02:28:41,680]\u001b[0m Trial 37 finished with value: 0.5502774973413838 and parameters: {'embedding_size': 282, 'lstm_layers': 1, 'hidden_size': 92, 'dense_size': 147, 'smaller_dense_size': 14, 'batch_size': 820, 'lstm_dropout': 0.050029899359095846, 'dense_dropout': 0.01082909559706406, 'lr': 0.002215848849824805}. Best is trial 13 with value: 0.5198200795074437.\u001b[0m\n"
     ]
    },
    {
     "name": "stdout",
     "output_type": "stream",
     "text": [
      "Trial 37 finished with value: 0.5502774973413838 and parameters: {'embedding_size': 282, 'lstm_layers': 1, 'hidden_size': 92, 'dense_size': 147, 'smaller_dense_size': 14, 'batch_size': 820, 'lstm_dropout': 0.050029899359095846, 'dense_dropout': 0.01082909559706406, 'lr': 0.002215848849824805}. Best is trial 13 with value: 0.5198200795074437.\n"
     ]
    },
    {
     "name": "stderr",
     "output_type": "stream",
     "text": [
      "\u001b[32m[I 2023-02-09 02:40:14,246]\u001b[0m Trial 38 finished with value: 0.5312507394949595 and parameters: {'embedding_size': 356, 'lstm_layers': 2, 'hidden_size': 110, 'dense_size': 37, 'smaller_dense_size': 18, 'batch_size': 740, 'lstm_dropout': 0.07224861787825865, 'dense_dropout': 0.017242790392898395, 'lr': 0.0007343517906465502}. Best is trial 13 with value: 0.5198200795074437.\u001b[0m\n"
     ]
    },
    {
     "name": "stdout",
     "output_type": "stream",
     "text": [
      "Trial 38 finished with value: 0.5312507394949595 and parameters: {'embedding_size': 356, 'lstm_layers': 2, 'hidden_size': 110, 'dense_size': 37, 'smaller_dense_size': 18, 'batch_size': 740, 'lstm_dropout': 0.07224861787825865, 'dense_dropout': 0.017242790392898395, 'lr': 0.0007343517906465502}. Best is trial 13 with value: 0.5198200795074437.\n"
     ]
    },
    {
     "name": "stderr",
     "output_type": "stream",
     "text": [
      "\u001b[32m[I 2023-02-09 02:53:49,989]\u001b[0m Trial 39 finished with value: 0.5397731816613829 and parameters: {'embedding_size': 254, 'lstm_layers': 3, 'hidden_size': 113, 'dense_size': 20, 'smaller_dense_size': 17, 'batch_size': 715, 'lstm_dropout': 0.0673296019560298, 'dense_dropout': 0.01818450548965186, 'lr': 0.0005189138330193969}. Best is trial 13 with value: 0.5198200795074437.\u001b[0m\n"
     ]
    },
    {
     "name": "stdout",
     "output_type": "stream",
     "text": [
      "Trial 39 finished with value: 0.5397731816613829 and parameters: {'embedding_size': 254, 'lstm_layers': 3, 'hidden_size': 113, 'dense_size': 20, 'smaller_dense_size': 17, 'batch_size': 715, 'lstm_dropout': 0.0673296019560298, 'dense_dropout': 0.01818450548965186, 'lr': 0.0005189138330193969}. Best is trial 13 with value: 0.5198200795074437.\n"
     ]
    },
    {
     "name": "stderr",
     "output_type": "stream",
     "text": [
      "\u001b[32m[I 2023-02-09 03:21:28,582]\u001b[0m Trial 40 finished with value: 0.5623757579225175 and parameters: {'embedding_size': 304, 'lstm_layers': 3, 'hidden_size': 122, 'dense_size': 40, 'smaller_dense_size': 41, 'batch_size': 587, 'lstm_dropout': 0.08070454897135525, 'dense_dropout': 0.0022333104781436797, 'lr': 0.0007045977657183192}. Best is trial 13 with value: 0.5198200795074437.\u001b[0m\n"
     ]
    },
    {
     "name": "stdout",
     "output_type": "stream",
     "text": [
      "Trial 40 finished with value: 0.5623757579225175 and parameters: {'embedding_size': 304, 'lstm_layers': 3, 'hidden_size': 122, 'dense_size': 40, 'smaller_dense_size': 41, 'batch_size': 587, 'lstm_dropout': 0.08070454897135525, 'dense_dropout': 0.0022333104781436797, 'lr': 0.0007045977657183192}. Best is trial 13 with value: 0.5198200795074437.\n"
     ]
    },
    {
     "name": "stderr",
     "output_type": "stream",
     "text": [
      "\u001b[32m[I 2023-02-09 03:44:36,473]\u001b[0m Trial 41 finished with value: 0.5517182456234754 and parameters: {'embedding_size': 340, 'lstm_layers': 2, 'hidden_size': 106, 'dense_size': 68, 'smaller_dense_size': 26, 'batch_size': 933, 'lstm_dropout': 0.05454018867957181, 'dense_dropout': 0.030041125399107423, 'lr': 0.0016340133669102098}. Best is trial 13 with value: 0.5198200795074437.\u001b[0m\n"
     ]
    },
    {
     "name": "stdout",
     "output_type": "stream",
     "text": [
      "Trial 41 finished with value: 0.5517182456234754 and parameters: {'embedding_size': 340, 'lstm_layers': 2, 'hidden_size': 106, 'dense_size': 68, 'smaller_dense_size': 26, 'batch_size': 933, 'lstm_dropout': 0.05454018867957181, 'dense_dropout': 0.030041125399107423, 'lr': 0.0016340133669102098}. Best is trial 13 with value: 0.5198200795074437.\n"
     ]
    },
    {
     "name": "stderr",
     "output_type": "stream",
     "text": [
      "\u001b[32m[I 2023-02-09 03:57:05,070]\u001b[0m Trial 42 finished with value: 0.5654575361737183 and parameters: {'embedding_size': 363, 'lstm_layers': 2, 'hidden_size': 99, 'dense_size': 35, 'smaller_dense_size': 20, 'batch_size': 977, 'lstm_dropout': 0.040251976234034675, 'dense_dropout': 0.01718064761509794, 'lr': 0.0012330706589279454}. Best is trial 13 with value: 0.5198200795074437.\u001b[0m\n"
     ]
    },
    {
     "name": "stdout",
     "output_type": "stream",
     "text": [
      "Trial 42 finished with value: 0.5654575361737183 and parameters: {'embedding_size': 363, 'lstm_layers': 2, 'hidden_size': 99, 'dense_size': 35, 'smaller_dense_size': 20, 'batch_size': 977, 'lstm_dropout': 0.040251976234034675, 'dense_dropout': 0.01718064761509794, 'lr': 0.0012330706589279454}. Best is trial 13 with value: 0.5198200795074437.\n"
     ]
    },
    {
     "name": "stderr",
     "output_type": "stream",
     "text": [
      "\u001b[32m[I 2023-02-09 04:08:34,989]\u001b[0m Trial 43 finished with value: 0.5467223425706228 and parameters: {'embedding_size': 398, 'lstm_layers': 2, 'hidden_size': 82, 'dense_size': 87, 'smaller_dense_size': 32, 'batch_size': 801, 'lstm_dropout': 0.02345865341395767, 'dense_dropout': 0.03894207766647067, 'lr': 0.0005309611318463784}. Best is trial 13 with value: 0.5198200795074437.\u001b[0m\n"
     ]
    },
    {
     "name": "stdout",
     "output_type": "stream",
     "text": [
      "Trial 43 finished with value: 0.5467223425706228 and parameters: {'embedding_size': 398, 'lstm_layers': 2, 'hidden_size': 82, 'dense_size': 87, 'smaller_dense_size': 32, 'batch_size': 801, 'lstm_dropout': 0.02345865341395767, 'dense_dropout': 0.03894207766647067, 'lr': 0.0005309611318463784}. Best is trial 13 with value: 0.5198200795074437.\n"
     ]
    },
    {
     "name": "stderr",
     "output_type": "stream",
     "text": [
      "\u001b[32m[I 2023-02-09 04:28:47,657]\u001b[0m Trial 44 finished with value: 0.5451349485410403 and parameters: {'embedding_size': 438, 'lstm_layers': 2, 'hidden_size': 123, 'dense_size': 150, 'smaller_dense_size': 21, 'batch_size': 756, 'lstm_dropout': 0.08372073176212984, 'dense_dropout': 0.08252035769154498, 'lr': 0.0018097070971821749}. Best is trial 13 with value: 0.5198200795074437.\u001b[0m\n"
     ]
    },
    {
     "name": "stdout",
     "output_type": "stream",
     "text": [
      "Trial 44 finished with value: 0.5451349485410403 and parameters: {'embedding_size': 438, 'lstm_layers': 2, 'hidden_size': 123, 'dense_size': 150, 'smaller_dense_size': 21, 'batch_size': 756, 'lstm_dropout': 0.08372073176212984, 'dense_dropout': 0.08252035769154498, 'lr': 0.0018097070971821749}. Best is trial 13 with value: 0.5198200795074437.\n"
     ]
    },
    {
     "name": "stderr",
     "output_type": "stream",
     "text": [
      "\u001b[32m[I 2023-02-09 04:45:40,718]\u001b[0m Trial 45 finished with value: 0.5475005130629894 and parameters: {'embedding_size': 492, 'lstm_layers': 2, 'hidden_size': 108, 'dense_size': 120, 'smaller_dense_size': 36, 'batch_size': 458, 'lstm_dropout': 0.006895386004358448, 'dense_dropout': 0.008059483704879529, 'lr': 0.003258171628948555}. Best is trial 13 with value: 0.5198200795074437.\u001b[0m\n"
     ]
    },
    {
     "name": "stdout",
     "output_type": "stream",
     "text": [
      "Trial 45 finished with value: 0.5475005130629894 and parameters: {'embedding_size': 492, 'lstm_layers': 2, 'hidden_size': 108, 'dense_size': 120, 'smaller_dense_size': 36, 'batch_size': 458, 'lstm_dropout': 0.006895386004358448, 'dense_dropout': 0.008059483704879529, 'lr': 0.003258171628948555}. Best is trial 13 with value: 0.5198200795074437.\n"
     ]
    },
    {
     "name": "stderr",
     "output_type": "stream",
     "text": [
      "\u001b[32m[I 2023-02-09 05:02:18,797]\u001b[0m Trial 46 finished with value: 0.5547141396082365 and parameters: {'embedding_size': 449, 'lstm_layers': 2, 'hidden_size': 68, 'dense_size': 169, 'smaller_dense_size': 46, 'batch_size': 847, 'lstm_dropout': 0.0708112515620624, 'dense_dropout': 0.023130943714002886, 'lr': 0.0007224220241812453}. Best is trial 13 with value: 0.5198200795074437.\u001b[0m\n"
     ]
    },
    {
     "name": "stdout",
     "output_type": "stream",
     "text": [
      "Trial 46 finished with value: 0.5547141396082365 and parameters: {'embedding_size': 449, 'lstm_layers': 2, 'hidden_size': 68, 'dense_size': 169, 'smaller_dense_size': 46, 'batch_size': 847, 'lstm_dropout': 0.0708112515620624, 'dense_dropout': 0.023130943714002886, 'lr': 0.0007224220241812453}. Best is trial 13 with value: 0.5198200795074437.\n"
     ]
    },
    {
     "name": "stderr",
     "output_type": "stream",
     "text": [
      "\u001b[32m[I 2023-02-09 05:26:12,853]\u001b[0m Trial 47 finished with value: 0.5495763782595025 and parameters: {'embedding_size': 384, 'lstm_layers': 3, 'hidden_size': 94, 'dense_size': 77, 'smaller_dense_size': 28, 'batch_size': 899, 'lstm_dropout': 0.03140185639001031, 'dense_dropout': 0.01495749129758013, 'lr': 0.00010123972283012685}. Best is trial 13 with value: 0.5198200795074437.\u001b[0m\n"
     ]
    },
    {
     "name": "stdout",
     "output_type": "stream",
     "text": [
      "Trial 47 finished with value: 0.5495763782595025 and parameters: {'embedding_size': 384, 'lstm_layers': 3, 'hidden_size': 94, 'dense_size': 77, 'smaller_dense_size': 28, 'batch_size': 899, 'lstm_dropout': 0.03140185639001031, 'dense_dropout': 0.01495749129758013, 'lr': 0.00010123972283012685}. Best is trial 13 with value: 0.5198200795074437.\n"
     ]
    },
    {
     "name": "stderr",
     "output_type": "stream",
     "text": [
      "\u001b[32m[I 2023-02-09 05:46:09,661]\u001b[0m Trial 48 finished with value: 0.5601263117867631 and parameters: {'embedding_size': 495, 'lstm_layers': 2, 'hidden_size': 112, 'dense_size': 56, 'smaller_dense_size': 11, 'batch_size': 361, 'lstm_dropout': 0.045563833083156695, 'dense_dropout': 0.04840712698166334, 'lr': 0.001345978483062183}. Best is trial 13 with value: 0.5198200795074437.\u001b[0m\n"
     ]
    },
    {
     "name": "stdout",
     "output_type": "stream",
     "text": [
      "Trial 48 finished with value: 0.5601263117867631 and parameters: {'embedding_size': 495, 'lstm_layers': 2, 'hidden_size': 112, 'dense_size': 56, 'smaller_dense_size': 11, 'batch_size': 361, 'lstm_dropout': 0.045563833083156695, 'dense_dropout': 0.04840712698166334, 'lr': 0.001345978483062183}. Best is trial 13 with value: 0.5198200795074437.\n"
     ]
    },
    {
     "name": "stderr",
     "output_type": "stream",
     "text": [
      "\u001b[32m[I 2023-02-09 05:51:47,317]\u001b[0m Trial 49 finished with value: 0.5451114989560226 and parameters: {'embedding_size': 360, 'lstm_layers': 1, 'hidden_size': 121, 'dense_size': 142, 'smaller_dense_size': 18, 'batch_size': 956, 'lstm_dropout': 0.0221756842215072, 'dense_dropout': 0.03142018549698433, 'lr': 0.0019255550528765404}. Best is trial 13 with value: 0.5198200795074437.\u001b[0m\n"
     ]
    },
    {
     "name": "stdout",
     "output_type": "stream",
     "text": [
      "Trial 49 finished with value: 0.5451114989560226 and parameters: {'embedding_size': 360, 'lstm_layers': 1, 'hidden_size': 121, 'dense_size': 142, 'smaller_dense_size': 18, 'batch_size': 956, 'lstm_dropout': 0.0221756842215072, 'dense_dropout': 0.03142018549698433, 'lr': 0.0019255550528765404}. Best is trial 13 with value: 0.5198200795074437.\n"
     ]
    }
   ],
   "source": [
    "def objective(trial):\n",
    "\n",
    "    embedding_size = trial.suggest_int(\"embedding_size\", 64, 512)\n",
    "    lstm_layers = trial.suggest_int(\"lstm_layers\", 1, 3)\n",
    "    hidden_size = trial.suggest_int(\"hidden_size\", 8, 128)\n",
    "    dense_size = trial.suggest_int(\"dense_size\", 16, 256)\n",
    "    smaller_dense_size = trial.suggest_int(\"smaller_dense_size\", 8, 64)\n",
    "    batch_size = trial.suggest_int(\"batch_size\", 256, 1024)\n",
    "    lstm_dropout = trial.suggest_float(\"lstm_dropout\", 0, 0.2)\n",
    "    dense_dropout = trial.suggest_float(\"dense_dropout\", 0, 0.15)\n",
    "    lr = trial.suggest_float(\"lr\", 1e-4, 1e-2)\n",
    "    #lr_decay = trial.suggest_float(\"lr_decay\", 0.05, 0.8)\n",
    "    #lr_decay_step = trial.suggest_int(\"lr_decay_step\", 5, 20)\n",
    "\n",
    "    data_loaders = data_utils.get_data_dict(data_df=train_val_df, enc_type=\"vocab\", batch_size=batch_size)\n",
    "    train_loader = data_loaders[\"train_loader\"]\n",
    "    val_loader = data_loaders[\"val_loader\"]\n",
    "\n",
    "    model = models.LSTM_Regressor(\n",
    "        vocab_size=len(vocab),\n",
    "        embedding_size=embedding_size,\n",
    "        custom_embs=True,\n",
    "        hidden_size=hidden_size,\n",
    "        num_layers=lstm_layers,\n",
    "        dense_size=dense_size,\n",
    "        smaller_dense_size=smaller_dense_size,\n",
    "        lstm_dropout=lstm_dropout,\n",
    "        dense_dropout=dense_dropout,\n",
    "    )\n",
    "    train_results = train.train_model(\n",
    "        model=model,\n",
    "        train_loader=train_loader,\n",
    "        val_loader=val_loader,\n",
    "        lr=lr,\n",
    "        epochs=200,\n",
    "        batch_size=batch_size,\n",
    "        early_stopping=True,\n",
    "        lr_decay=9,\n",
    "        lr_decay_step=0.6,\n",
    "    )\n",
    "\n",
    "    val_loss = train_results[\"val_loss\"]\n",
    "\n",
    "    return val_loss[-1]\n",
    "\n",
    "\n",
    "study.optimize(objective, n_trials=50)"
   ]
  },
  {
   "cell_type": "code",
   "execution_count": 10,
   "metadata": {},
   "outputs": [
    {
     "data": {
      "text/html": [
       "<div>\n",
       "<style scoped>\n",
       "    .dataframe tbody tr th:only-of-type {\n",
       "        vertical-align: middle;\n",
       "    }\n",
       "\n",
       "    .dataframe tbody tr th {\n",
       "        vertical-align: top;\n",
       "    }\n",
       "\n",
       "    .dataframe thead th {\n",
       "        text-align: right;\n",
       "    }\n",
       "</style>\n",
       "<table border=\"1\" class=\"dataframe\">\n",
       "  <thead>\n",
       "    <tr style=\"text-align: right;\">\n",
       "      <th></th>\n",
       "      <th>number</th>\n",
       "      <th>value</th>\n",
       "      <th>datetime_start</th>\n",
       "      <th>datetime_complete</th>\n",
       "      <th>duration</th>\n",
       "      <th>params_batch_size</th>\n",
       "      <th>params_dense_dropout</th>\n",
       "      <th>params_dense_size</th>\n",
       "      <th>params_embedding_size</th>\n",
       "      <th>params_hidden_size</th>\n",
       "      <th>params_lr</th>\n",
       "      <th>params_lstm_dropout</th>\n",
       "      <th>params_lstm_layers</th>\n",
       "      <th>params_smaller_dense_size</th>\n",
       "      <th>state</th>\n",
       "    </tr>\n",
       "  </thead>\n",
       "  <tbody>\n",
       "    <tr>\n",
       "      <th>13</th>\n",
       "      <td>13</td>\n",
       "      <td>0.519820</td>\n",
       "      <td>2023-02-08 20:57:50.575055</td>\n",
       "      <td>2023-02-08 21:16:26.675382</td>\n",
       "      <td>0 days 00:18:36.100327</td>\n",
       "      <td>373</td>\n",
       "      <td>0.043589</td>\n",
       "      <td>115</td>\n",
       "      <td>451</td>\n",
       "      <td>91</td>\n",
       "      <td>0.002026</td>\n",
       "      <td>0.000230</td>\n",
       "      <td>2</td>\n",
       "      <td>25</td>\n",
       "      <td>COMPLETE</td>\n",
       "    </tr>\n",
       "    <tr>\n",
       "      <th>38</th>\n",
       "      <td>38</td>\n",
       "      <td>0.531251</td>\n",
       "      <td>2023-02-09 02:28:41.684014</td>\n",
       "      <td>2023-02-09 02:40:14.233214</td>\n",
       "      <td>0 days 00:11:32.549200</td>\n",
       "      <td>740</td>\n",
       "      <td>0.017243</td>\n",
       "      <td>37</td>\n",
       "      <td>356</td>\n",
       "      <td>110</td>\n",
       "      <td>0.000734</td>\n",
       "      <td>0.072249</td>\n",
       "      <td>2</td>\n",
       "      <td>18</td>\n",
       "      <td>COMPLETE</td>\n",
       "    </tr>\n",
       "    <tr>\n",
       "      <th>11</th>\n",
       "      <td>11</td>\n",
       "      <td>0.531789</td>\n",
       "      <td>2023-02-08 20:27:41.107518</td>\n",
       "      <td>2023-02-08 20:49:29.626810</td>\n",
       "      <td>0 days 00:21:48.519292</td>\n",
       "      <td>961</td>\n",
       "      <td>0.003267</td>\n",
       "      <td>235</td>\n",
       "      <td>512</td>\n",
       "      <td>122</td>\n",
       "      <td>0.000513</td>\n",
       "      <td>0.028304</td>\n",
       "      <td>3</td>\n",
       "      <td>45</td>\n",
       "      <td>COMPLETE</td>\n",
       "    </tr>\n",
       "    <tr>\n",
       "      <th>0</th>\n",
       "      <td>0</td>\n",
       "      <td>0.532496</td>\n",
       "      <td>2023-02-08 18:33:05.053001</td>\n",
       "      <td>2023-02-08 18:45:55.203626</td>\n",
       "      <td>0 days 00:12:50.150625</td>\n",
       "      <td>482</td>\n",
       "      <td>0.067809</td>\n",
       "      <td>76</td>\n",
       "      <td>511</td>\n",
       "      <td>83</td>\n",
       "      <td>0.000538</td>\n",
       "      <td>0.046643</td>\n",
       "      <td>3</td>\n",
       "      <td>34</td>\n",
       "      <td>COMPLETE</td>\n",
       "    </tr>\n",
       "    <tr>\n",
       "      <th>14</th>\n",
       "      <td>14</td>\n",
       "      <td>0.536893</td>\n",
       "      <td>2023-02-08 21:16:26.692992</td>\n",
       "      <td>2023-02-08 21:25:19.696003</td>\n",
       "      <td>0 days 00:08:53.003011</td>\n",
       "      <td>923</td>\n",
       "      <td>0.035278</td>\n",
       "      <td>119</td>\n",
       "      <td>412</td>\n",
       "      <td>102</td>\n",
       "      <td>0.002352</td>\n",
       "      <td>0.007369</td>\n",
       "      <td>2</td>\n",
       "      <td>23</td>\n",
       "      <td>COMPLETE</td>\n",
       "    </tr>\n",
       "    <tr>\n",
       "      <th>30</th>\n",
       "      <td>30</td>\n",
       "      <td>0.537000</td>\n",
       "      <td>2023-02-09 01:04:40.829322</td>\n",
       "      <td>2023-02-09 01:18:58.462220</td>\n",
       "      <td>0 days 00:14:17.632898</td>\n",
       "      <td>259</td>\n",
       "      <td>0.062601</td>\n",
       "      <td>44</td>\n",
       "      <td>432</td>\n",
       "      <td>35</td>\n",
       "      <td>0.002743</td>\n",
       "      <td>0.032386</td>\n",
       "      <td>2</td>\n",
       "      <td>16</td>\n",
       "      <td>COMPLETE</td>\n",
       "    </tr>\n",
       "    <tr>\n",
       "      <th>10</th>\n",
       "      <td>10</td>\n",
       "      <td>0.539241</td>\n",
       "      <td>2023-02-08 20:14:15.537230</td>\n",
       "      <td>2023-02-08 20:27:41.090027</td>\n",
       "      <td>0 days 00:13:25.552797</td>\n",
       "      <td>1019</td>\n",
       "      <td>0.015824</td>\n",
       "      <td>254</td>\n",
       "      <td>510</td>\n",
       "      <td>122</td>\n",
       "      <td>0.000242</td>\n",
       "      <td>0.022483</td>\n",
       "      <td>3</td>\n",
       "      <td>45</td>\n",
       "      <td>COMPLETE</td>\n",
       "    </tr>\n",
       "    <tr>\n",
       "      <th>39</th>\n",
       "      <td>39</td>\n",
       "      <td>0.539773</td>\n",
       "      <td>2023-02-09 02:40:14.250214</td>\n",
       "      <td>2023-02-09 02:53:49.975782</td>\n",
       "      <td>0 days 00:13:35.725568</td>\n",
       "      <td>715</td>\n",
       "      <td>0.018185</td>\n",
       "      <td>20</td>\n",
       "      <td>254</td>\n",
       "      <td>113</td>\n",
       "      <td>0.000519</td>\n",
       "      <td>0.067330</td>\n",
       "      <td>3</td>\n",
       "      <td>17</td>\n",
       "      <td>COMPLETE</td>\n",
       "    </tr>\n",
       "    <tr>\n",
       "      <th>2</th>\n",
       "      <td>2</td>\n",
       "      <td>0.539992</td>\n",
       "      <td>2023-02-08 18:51:07.688029</td>\n",
       "      <td>2023-02-08 18:56:12.142751</td>\n",
       "      <td>0 days 00:05:04.454722</td>\n",
       "      <td>575</td>\n",
       "      <td>0.129359</td>\n",
       "      <td>175</td>\n",
       "      <td>246</td>\n",
       "      <td>19</td>\n",
       "      <td>0.005121</td>\n",
       "      <td>0.003666</td>\n",
       "      <td>1</td>\n",
       "      <td>18</td>\n",
       "      <td>COMPLETE</td>\n",
       "    </tr>\n",
       "    <tr>\n",
       "      <th>3</th>\n",
       "      <td>3</td>\n",
       "      <td>0.540055</td>\n",
       "      <td>2023-02-08 18:56:12.160226</td>\n",
       "      <td>2023-02-08 19:02:17.793454</td>\n",
       "      <td>0 days 00:06:05.633228</td>\n",
       "      <td>270</td>\n",
       "      <td>0.140523</td>\n",
       "      <td>73</td>\n",
       "      <td>230</td>\n",
       "      <td>105</td>\n",
       "      <td>0.009090</td>\n",
       "      <td>0.071431</td>\n",
       "      <td>2</td>\n",
       "      <td>31</td>\n",
       "      <td>COMPLETE</td>\n",
       "    </tr>\n",
       "  </tbody>\n",
       "</table>\n",
       "</div>"
      ],
      "text/plain": [
       "    number     value             datetime_start          datetime_complete  \\\n",
       "13      13  0.519820 2023-02-08 20:57:50.575055 2023-02-08 21:16:26.675382   \n",
       "38      38  0.531251 2023-02-09 02:28:41.684014 2023-02-09 02:40:14.233214   \n",
       "11      11  0.531789 2023-02-08 20:27:41.107518 2023-02-08 20:49:29.626810   \n",
       "0        0  0.532496 2023-02-08 18:33:05.053001 2023-02-08 18:45:55.203626   \n",
       "14      14  0.536893 2023-02-08 21:16:26.692992 2023-02-08 21:25:19.696003   \n",
       "30      30  0.537000 2023-02-09 01:04:40.829322 2023-02-09 01:18:58.462220   \n",
       "10      10  0.539241 2023-02-08 20:14:15.537230 2023-02-08 20:27:41.090027   \n",
       "39      39  0.539773 2023-02-09 02:40:14.250214 2023-02-09 02:53:49.975782   \n",
       "2        2  0.539992 2023-02-08 18:51:07.688029 2023-02-08 18:56:12.142751   \n",
       "3        3  0.540055 2023-02-08 18:56:12.160226 2023-02-08 19:02:17.793454   \n",
       "\n",
       "                 duration  params_batch_size  params_dense_dropout  \\\n",
       "13 0 days 00:18:36.100327                373              0.043589   \n",
       "38 0 days 00:11:32.549200                740              0.017243   \n",
       "11 0 days 00:21:48.519292                961              0.003267   \n",
       "0  0 days 00:12:50.150625                482              0.067809   \n",
       "14 0 days 00:08:53.003011                923              0.035278   \n",
       "30 0 days 00:14:17.632898                259              0.062601   \n",
       "10 0 days 00:13:25.552797               1019              0.015824   \n",
       "39 0 days 00:13:35.725568                715              0.018185   \n",
       "2  0 days 00:05:04.454722                575              0.129359   \n",
       "3  0 days 00:06:05.633228                270              0.140523   \n",
       "\n",
       "    params_dense_size  params_embedding_size  params_hidden_size  params_lr  \\\n",
       "13                115                    451                  91   0.002026   \n",
       "38                 37                    356                 110   0.000734   \n",
       "11                235                    512                 122   0.000513   \n",
       "0                  76                    511                  83   0.000538   \n",
       "14                119                    412                 102   0.002352   \n",
       "30                 44                    432                  35   0.002743   \n",
       "10                254                    510                 122   0.000242   \n",
       "39                 20                    254                 113   0.000519   \n",
       "2                 175                    246                  19   0.005121   \n",
       "3                  73                    230                 105   0.009090   \n",
       "\n",
       "    params_lstm_dropout  params_lstm_layers  params_smaller_dense_size  \\\n",
       "13             0.000230                   2                         25   \n",
       "38             0.072249                   2                         18   \n",
       "11             0.028304                   3                         45   \n",
       "0              0.046643                   3                         34   \n",
       "14             0.007369                   2                         23   \n",
       "30             0.032386                   2                         16   \n",
       "10             0.022483                   3                         45   \n",
       "39             0.067330                   3                         17   \n",
       "2              0.003666                   1                         18   \n",
       "3              0.071431                   2                         31   \n",
       "\n",
       "       state  \n",
       "13  COMPLETE  \n",
       "38  COMPLETE  \n",
       "11  COMPLETE  \n",
       "0   COMPLETE  \n",
       "14  COMPLETE  \n",
       "30  COMPLETE  \n",
       "10  COMPLETE  \n",
       "39  COMPLETE  \n",
       "2   COMPLETE  \n",
       "3   COMPLETE  "
      ]
     },
     "execution_count": 10,
     "metadata": {},
     "output_type": "execute_result"
    }
   ],
   "source": [
    "study.trials_dataframe().sort_values(by=\"value\").head(10)"
   ]
  },
  {
   "cell_type": "code",
   "execution_count": 11,
   "metadata": {},
   "outputs": [
    {
     "name": "stdout",
     "output_type": "stream",
     "text": [
      "Best lstm-regressor-model params: {'batch_size': 373, 'dense_dropout': 0.04358939005888012, 'dense_size': 115, 'embedding_size': 451, 'hidden_size': 91, 'lr': 0.0020263074318056093, 'lstm_dropout': 0.0002300559967356071, 'lstm_layers': 2, 'smaller_dense_size': 25}, achieving val RMSE: 0.5198200795074437\n"
     ]
    }
   ],
   "source": [
    "print(f\"Best lstm-regressor-model params: {study.best_params}, achieving val RMSE: {study.best_value}\")"
   ]
  },
  {
   "attachments": {},
   "cell_type": "markdown",
   "metadata": {},
   "source": [
    "# Model Training"
   ]
  },
  {
   "cell_type": "code",
   "execution_count": 10,
   "metadata": {},
   "outputs": [],
   "source": [
    "batch_size = 32\n",
    "\n",
    "model_params = {\n",
    "    \"embedding_size\": 451,\n",
    "    \"hidden_size\": 91,\n",
    "    \"num_layers\": 2,\n",
    "    \"dense_size\": 115,\n",
    "    \"smaller_dense_size\": 25,\n",
    "    \"lstm_dropout\": 0.0002,\n",
    "    \"dense_dropout\": 0.04,\n",
    "}\n",
    "\n",
    "train_params = {\n",
    "    \"lr\": 0.002,\n",
    "    \"epochs\": 200,\n",
    "    \"batch_size\": batch_size,\n",
    "    \"verbose\": True,\n",
    "    \"early_stopping\": True,\n",
    "}"
   ]
  },
  {
   "cell_type": "code",
   "execution_count": 11,
   "metadata": {},
   "outputs": [],
   "source": [
    "load = True\n",
    "save = False\n",
    "\n",
    "exp_dir = \"/Users/thodo/Documents/sxoli/diplomatiki/basic-block-energy-prediction/model_checkpoints/lstm_vocab_models\"\n",
    "\n",
    "data_loaders = data_utils.get_data_dict(\n",
    "    data_df=train_val_df, batch_size=batch_size, enc_type=\"vocab\"\n",
    ")\n",
    "train_loader = data_loaders[\"train_loader\"]\n",
    "val_loader = data_loaders[\"val_loader\"]\n",
    "\n",
    "model = models.LSTM_Regressor(vocab_size=len(vocab), custom_embs=True, **model_params)\n",
    "\n",
    "if load:\n",
    "    model.load_state_dict(torch.load(f\"{exp_dir}/model_final_data/model\"))\n",
    "    model.cuda()\n",
    "else:\n",
    "    train_results = train.train_model(\n",
    "        model=model,\n",
    "        train_loader=train_loader,\n",
    "        val_loader=val_loader,\n",
    "        **train_params,\n",
    "    )\n",
    "    if save:\n",
    "        torch.save(model.state_dict(), f\"{exp_dir}/model_small_batch_final_data/model\")\n",
    "        additional_attributes = {\n",
    "            \"model_params\": model_params,\n",
    "            \"train_params\": model_params,\n",
    "            \"loss\": \"RMSE\",\n",
    "            \"number of data\": len(train_loader)*batch_size,\n",
    "            \"test programs\": test_programs.tolist(),\n",
    "            \"train_loss\": train_results[\"train_loss\"],\n",
    "            \"val_loss\": train_results[\"val_loss\"],\n",
    "        }\n",
    "        with open(f\"{exp_dir}/model_small_batch_final_data/additional_attributes.json\", \"w\") as file:\n",
    "            json.dump(additional_attributes, file, indent=4)"
   ]
  },
  {
   "cell_type": "code",
   "execution_count": 19,
   "metadata": {},
   "outputs": [
    {
     "ename": "NameError",
     "evalue": "name 'train_results' is not defined",
     "output_type": "error",
     "traceback": [
      "\u001b[1;31m---------------------------------------------------------------------------\u001b[0m",
      "\u001b[1;31mNameError\u001b[0m                                 Traceback (most recent call last)",
      "\u001b[1;32mc:\\Users\\thodo\\Documents\\sxoli\\diplomatiki\\basic-block-energy-prediction\\playground\\custom_embeddings.ipynb Cell 21\u001b[0m in \u001b[0;36m<cell line: 2>\u001b[1;34m()\u001b[0m\n\u001b[0;32m      <a href='vscode-notebook-cell:/c%3A/Users/thodo/Documents/sxoli/diplomatiki/basic-block-energy-prediction/playground/custom_embeddings.ipynb#X36sZmlsZQ%3D%3D?line=0'>1</a>\u001b[0m plt\u001b[39m.\u001b[39mfigure(figsize\u001b[39m=\u001b[39m(\u001b[39m10\u001b[39m, \u001b[39m5\u001b[39m))\n\u001b[1;32m----> <a href='vscode-notebook-cell:/c%3A/Users/thodo/Documents/sxoli/diplomatiki/basic-block-energy-prediction/playground/custom_embeddings.ipynb#X36sZmlsZQ%3D%3D?line=1'>2</a>\u001b[0m plt\u001b[39m.\u001b[39mplot(train_results[\u001b[39m\"\u001b[39m\u001b[39mtrain_loss\u001b[39m\u001b[39m\"\u001b[39m], label\u001b[39m=\u001b[39m\u001b[39m\"\u001b[39m\u001b[39mtrain_loss\u001b[39m\u001b[39m\"\u001b[39m)\n\u001b[0;32m      <a href='vscode-notebook-cell:/c%3A/Users/thodo/Documents/sxoli/diplomatiki/basic-block-energy-prediction/playground/custom_embeddings.ipynb#X36sZmlsZQ%3D%3D?line=2'>3</a>\u001b[0m plt\u001b[39m.\u001b[39mplot(train_results[\u001b[39m\"\u001b[39m\u001b[39mval_loss\u001b[39m\u001b[39m\"\u001b[39m], label\u001b[39m=\u001b[39m\u001b[39m\"\u001b[39m\u001b[39mval_loss\u001b[39m\u001b[39m\"\u001b[39m)\n\u001b[0;32m      <a href='vscode-notebook-cell:/c%3A/Users/thodo/Documents/sxoli/diplomatiki/basic-block-energy-prediction/playground/custom_embeddings.ipynb#X36sZmlsZQ%3D%3D?line=3'>4</a>\u001b[0m plt\u001b[39m.\u001b[39mtitle(\u001b[39m\"\u001b[39m\u001b[39mTrain and Val losses\u001b[39m\u001b[39m\"\u001b[39m)\n",
      "\u001b[1;31mNameError\u001b[0m: name 'train_results' is not defined"
     ]
    },
    {
     "data": {
      "text/plain": [
       "<Figure size 720x360 with 0 Axes>"
      ]
     },
     "metadata": {},
     "output_type": "display_data"
    }
   ],
   "source": [
    "plt.figure(figsize=(10, 5))\n",
    "plt.plot(train_results[\"train_loss\"], label=\"train_loss\")\n",
    "plt.plot(train_results[\"val_loss\"], label=\"val_loss\")\n",
    "plt.title(\"Train and Val losses\")\n",
    "plt.xlabel(\"Labels\")\n",
    "plt.legend\n",
    "plt.show()"
   ]
  },
  {
   "attachments": {},
   "cell_type": "markdown",
   "metadata": {},
   "source": [
    "# Evaluation"
   ]
  },
  {
   "cell_type": "code",
   "execution_count": 20,
   "metadata": {},
   "outputs": [],
   "source": [
    "pred_dict = evaluate.evaluate(model=model, val_loader=val_loader, batch_size=batch_size)\n",
    "preds = pred_dict[\"preds\"]\n",
    "true_energies = pred_dict[\"true_energies\"]"
   ]
  },
  {
   "cell_type": "code",
   "execution_count": 21,
   "metadata": {},
   "outputs": [
    {
     "data": {
      "image/png": "[encoded data removed]",
      "text/plain": [
       "<Figure size 720x360 with 1 Axes>"
      ]
     },
     "metadata": {
      "needs_background": "light"
     },
     "output_type": "display_data"
    }
   ],
   "source": [
    "plt.figure(figsize=(10, 5))\n",
    "plt.hist(preds, bins=100, range=(0,5))\n",
    "plt.title(\"Predictions' energy distribution\")\n",
    "plt.xlabel(\"Energy\")\n",
    "plt.show()"
   ]
  },
  {
   "cell_type": "code",
   "execution_count": 22,
   "metadata": {},
   "outputs": [
    {
     "data": {
      "image/png": "[encoded data removed]",
      "text/plain": [
       "<Figure size 720x360 with 1 Axes>"
      ]
     },
     "metadata": {
      "needs_background": "light"
     },
     "output_type": "display_data"
    }
   ],
   "source": [
    "val_labels = true_energies\n",
    "\n",
    "plt.figure(figsize=(10, 5))\n",
    "plt.hist(val_labels, bins=100, range=(0,5))\n",
    "plt.title(\"Validation labels energy distribution\")\n",
    "plt.xlabel(\"Energy\")\n",
    "plt.show()"
   ]
  },
  {
   "cell_type": "code",
   "execution_count": 23,
   "metadata": {},
   "outputs": [
    {
     "name": "stdout",
     "output_type": "stream",
     "text": [
      "Labels' median: 0.18306881686860646, Labels' std: 0.6956073498227192\n"
     ]
    }
   ],
   "source": [
    "median = np.median(true_energies)\n",
    "std = np.std(true_energies)\n",
    "\n",
    "print(f\"Labels' median: {median}, Labels' std: {std}\")"
   ]
  },
  {
   "cell_type": "code",
   "execution_count": 24,
   "metadata": {},
   "outputs": [
    {
     "name": "stdout",
     "output_type": "stream",
     "text": [
      "MSE: 0.323\n",
      "MAE: 0.278\n"
     ]
    }
   ],
   "source": [
    "mse = round(mean_squared_error(true_energies, preds), 3)\n",
    "mae = round(mean_absolute_error(true_energies, preds), 3)\n",
    "\n",
    "print(f\"MSE: {mse}\")\n",
    "print(f\"MAE: {mae}\")"
   ]
  },
  {
   "cell_type": "code",
   "execution_count": 25,
   "metadata": {},
   "outputs": [
    {
     "data": {
      "image/png": "[encoded data removed]",
      "text/plain": [
       "<Figure size 720x360 with 1 Axes>"
      ]
     },
     "metadata": {
      "needs_background": "light"
     },
     "output_type": "display_data"
    }
   ],
   "source": [
    "plt.figure(figsize=(10, 5))\n",
    "plt.title(\"Total energy\")\n",
    "plt.ylabel(\"Energy (*61μJ)\")\n",
    "plt.bar([\"true energy\", \"prediction\"], [sum(true_energies), sum(preds)])\n",
    "plt.show()"
   ]
  },
  {
   "attachments": {},
   "cell_type": "markdown",
   "metadata": {},
   "source": [
    "# Test programs prediction"
   ]
  },
  {
   "cell_type": "code",
   "execution_count": null,
   "metadata": {},
   "outputs": [],
   "source": [
    "maes = {}\n",
    "prog_energy = {}\n",
    "\n",
    "for test_program in test_programs:\n",
    "    prog_df = test_df[test_df.program_name == test_program]\n",
    "    test_preds = evaluate.predict(model=model, test_bbs=prog_df.bb.values, vocab=vocab)\n",
    "    true_energies = prog_df.energy.values\n",
    "    \n",
    "    maes[test_program] = mean_absolute_error(true_energies, test_preds)\n",
    "    prog_energy[test_program] = {\n",
    "        \"true_energy\": sum(true_energies),\n",
    "        \"pred_energy\": sum(test_preds),\n",
    "    }"
   ]
  }
 ],
 "metadata": {
  "kernelspec": {
   "display_name": "energy-prediction",
   "language": "python",
   "name": "python3"
  },
  "language_info": {
   "codemirror_mode": {
    "name": "ipython",
    "version": 3
   },
   "file_extension": ".py",
   "mimetype": "text/x-python",
   "name": "python",
   "nbconvert_exporter": "python",
   "pygments_lexer": "ipython3",
   "version": "3.10.4"
  },
  "orig_nbformat": 4,
  "vscode": {
   "interpreter": {
    "hash": "2d8ea44dacc84c32c3ffb10f5fa42b465f31145cc9ac97a8028dfa96db72aa4c"
   }
  }
 },
 "nbformat": 4,
 "nbformat_minor": 2
}
