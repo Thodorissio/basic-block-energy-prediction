{
 "cells": [
  {
   "attachments": {},
   "cell_type": "markdown",
   "metadata": {},
   "source": [
    "# Imports"
   ]
  },
  {
   "cell_type": "code",
   "execution_count": 1,
   "metadata": {},
   "outputs": [],
   "source": [
    "import os\n",
    "import sys\n",
    "import logging\n",
    "import pandas as pd\n",
    "import numpy as np\n",
    "import matplotlib.pyplot as plt\n",
    "\n",
    "import optuna\n",
    "\n",
    "from sklearn.model_selection import train_test_split, cross_val_score, ShuffleSplit\n",
    "from sklearn.linear_model import LinearRegression, SGDRegressor, ElasticNet, BayesianRidge, Ridge, Lasso\n",
    "from sklearn.svm import SVR\n",
    "from sklearn.ensemble import HistGradientBoostingRegressor\n",
    "from sklearn.decomposition import PCA\n",
    "\n",
    "from sklearn.preprocessing import normalize, StandardScaler\n",
    "from sklearn.metrics import mean_absolute_error, mean_squared_error\n",
    "from sklearn.pipeline import Pipeline\n",
    "\n",
    "from collections import Counter\n",
    "from typing import Union\n",
    "\n",
    "sys.path.append(\"../../src\")\n",
    "\n",
    "import embedder\n",
    "import utils"
   ]
  },
  {
   "attachments": {},
   "cell_type": "markdown",
   "metadata": {},
   "source": [
    "# Data"
   ]
  },
  {
   "cell_type": "code",
   "execution_count": 2,
   "metadata": {},
   "outputs": [],
   "source": [
    "data_files = os.listdir(\"../../dataset/bb_data/\")\n",
    "\n",
    "if \"energy_dataset.pkl\" not in data_files:\n",
    "    result_files = [f for f in os.listdir(\"../../../energy_dataset/\") if f.endswith(\"results\")] \n",
    "    data_df = pd.DataFrame()\n",
    "\n",
    "    for file in result_files:\n",
    "        file_df = utils.read_bb_data(f\"../../../energy_dataset/{file}/breaker_code.txt\", f\"../../../energy_dataset/{file}/breaker_final_energy.txt\")\n",
    "        file_df = utils.preprocess_bb_df(file_df)\n",
    "        data_df = pd.concat([data_df, file_df], ignore_index=True)\n",
    "\n",
    "    data_df[\"bb_embeddings\"] = data_df.bb.apply(lambda x: embedder.encode(x))\n",
    "    data_df.to_pickle(\"../../dataset/bb_data/energy_dataset.pkl\")\n",
    "    \n",
    "else:\n",
    "    data_df = pd.read_pickle(\"../../dataset/bb_data/energy_dataset.pkl\")\n",
    "    if \"bb_embeddings\" not in data_df.columns:\n",
    "        data_df[\"bb_embeddings\"] = data_df.bb.apply(lambda x: embedder.encode(x))\n",
    "        data_df.to_pickle(\"../../dataset/bb_data/energy_dataset.pkl\")"
   ]
  },
  {
   "cell_type": "code",
   "execution_count": 3,
   "metadata": {},
   "outputs": [],
   "source": [
    "def pad_sequence(sequence: list, max_len: int) -> list:\n",
    "    sequence.extend([0 for i in range(max_len - len(sequence))])\n",
    "    return sequence\n",
    "\n",
    "def concat_embeddings(df: pd.DataFrame) -> pd.DataFrame:\n",
    "    if \"bb_embeddings\" not in df: \n",
    "        raise KeyError(\"'bb_embeddings' not in dataframe columns. Please provide a dataframe with the 'bb_embeddings' column.\")\n",
    "\n",
    "    df_util = df.copy()\n",
    "    df_util.bb_embeddings = df_util.bb_embeddings.map(np.concatenate)\n",
    "\n",
    "    #pad sequences\n",
    "    max_len = max(df_util.bb_embeddings.map(len))\n",
    "    df_util.bb_embeddings = df_util.bb_embeddings.apply(lambda x: pad_sequence(x.tolist(), max_len))\n",
    "\n",
    "    return df_util\n",
    "\n",
    "concat_df = concat_embeddings(data_df)"
   ]
  },
  {
   "cell_type": "code",
   "execution_count": 7,
   "metadata": {},
   "outputs": [],
   "source": [
    "X, y = np.array(concat_df.bb_embeddings.tolist()), concat_df.energy.values"
   ]
  },
  {
   "cell_type": "markdown",
   "metadata": {
    "id": "m-bKya-8hJ6F"
   },
   "source": [
    "# Testing Regressors"
   ]
  },
  {
   "cell_type": "code",
   "execution_count": null,
   "metadata": {
    "id": "oO2rzTBihJ6G"
   },
   "outputs": [],
   "source": [
    "def evaluate_regressor(\n",
    "    regressor: Union[\n",
    "        LinearRegression,\n",
    "        Lasso,\n",
    "        Ridge,\n",
    "        ElasticNet,\n",
    "        SGDRegressor,\n",
    "        SVR,\n",
    "        HistGradientBoostingRegressor,\n",
    "    ],\n",
    "    pca_components: int,\n",
    "    normalization: bool = False,\n",
    "    scaling: bool = False,\n",
    "):\n",
    "\n",
    "    pca = PCA(n_components=pca_components)\n",
    "\n",
    "    if scaling:\n",
    "        pipe = Pipeline([(\"scaler\", StandardScaler()), (\"pca\", pca), (\"reg\", regressor)])\n",
    "    else:\n",
    "        pipe = Pipeline([(\"pca\", pca), (\"regressor\", regressor)])\n",
    "\n",
    "    if normalization:\n",
    "        X_util = normalize(X, norm=\"l2\", axis=1)\n",
    "    else:\n",
    "        X_util = X\n",
    "\n",
    "    cv = ShuffleSplit(n_splits=5, test_size=0.2)\n",
    "    scores = -cross_val_score(\n",
    "        pipe, X_util, y, cv=cv, scoring=\"neg_root_mean_squared_error\"\n",
    "    )\n",
    "\n",
    "    score = round(np.median(scores), 3)\n",
    "\n",
    "    return score"
   ]
  },
  {
   "cell_type": "code",
   "execution_count": null,
   "metadata": {
    "id": "yM7w9f7CiVNS"
   },
   "outputs": [],
   "source": [
    "optuna.logging.get_logger(\"optuna\").addHandler(logging.StreamHandler(sys.stdout))\n",
    "storage_name = f\"sqlite:////Users/thodo/Documents/sxoli/optuna-studies/sklearn-regressors-palmtree-embs.db\""
   ]
  },
  {
   "cell_type": "markdown",
   "metadata": {
    "id": "Us9h9aYghJ6G"
   },
   "source": [
    "## Linear Regression"
   ]
  },
  {
   "cell_type": "markdown",
   "metadata": {
    "id": "neDJrZnbhJ6G"
   },
   "source": [
    "Simple least squares regression.\n",
    "No need for extra tuning."
   ]
  },
  {
   "cell_type": "code",
   "execution_count": null,
   "metadata": {
    "colab": {
     "base_uri": "https://localhost:8080/"
    },
    "id": "gUm5RDoGit4y",
    "outputId": "43238da4-f5ad-4616-9de3-c61b737c8657"
   },
   "outputs": [
    {
     "name": "stderr",
     "output_type": "stream",
     "text": [
      "\u001b[32m[I 2023-01-26 15:09:09,833]\u001b[0m A new study created in RDB with name: linear-regression\u001b[0m\n"
     ]
    },
    {
     "name": "stdout",
     "output_type": "stream",
     "text": [
      "A new study created in RDB with name: linear-regression\n"
     ]
    }
   ],
   "source": [
    "study = optuna.create_study(study_name=\"linear-regression\", storage=storage_name, load_if_exists=True, direction=\"minimize\")\n",
    "study.set_user_attr(\"Loss\", \"RMSE\")"
   ]
  },
  {
   "cell_type": "code",
   "execution_count": null,
   "metadata": {
    "id": "keMwGIsEkxZz"
   },
   "outputs": [],
   "source": [
    "def objective(trial):\n",
    "\n",
    "    pca_components = trial.suggest_int(\"pca_components\", 32, X[0].shape[0]//2)\n",
    "    normalization = trial.suggest_categorical(\"normalization\", [True, False])\n",
    "    scaling = trial.suggest_categorical(\"scaling\", [True, False])\n",
    "\n",
    "    regressor = LinearRegression()\n",
    "    score = evaluate_regressor(regressor=regressor, pca_components=pca_components, normalization=normalization, scaling=scaling)\n",
    "\n",
    "    return score\n",
    "\n",
    "study.optimize(objective, n_trials=60)"
   ]
  },
  {
   "cell_type": "code",
   "execution_count": null,
   "metadata": {
    "id": "aEHy0IE-lj-J"
   },
   "outputs": [],
   "source": [
    "study.trials_dataframe().sort_values(by=\"value\").head(10)"
   ]
  },
  {
   "cell_type": "code",
   "execution_count": null,
   "metadata": {
    "id": "2KisfHMXlk4H"
   },
   "outputs": [],
   "source": [
    "print(f\"Best linear regression params: {study.best_params}, achieving val RMSE: {study.best_value}\")"
   ]
  },
  {
   "cell_type": "markdown",
   "metadata": {
    "id": "U6DporjLhJ6H"
   },
   "source": [
    "## Lasso"
   ]
  },
  {
   "cell_type": "markdown",
   "metadata": {
    "id": "lnhF2Xw-hJ6H"
   },
   "source": [
    "Linear regression with L1 regularization. Tune:\n",
    "* alpha (L1 regularization term)."
   ]
  },
  {
   "cell_type": "code",
   "execution_count": null,
   "metadata": {
    "id": "sZwXzrrjlulv"
   },
   "outputs": [],
   "source": [
    "study = optuna.create_study(study_name=\"lasso-regression\", storage=storage_name, load_if_exists=True, direction=\"minimize\")\n",
    "study.set_user_attr(\"Loss\", \"RMSE\")"
   ]
  },
  {
   "cell_type": "code",
   "execution_count": null,
   "metadata": {
    "colab": {
     "base_uri": "https://localhost:8080/",
     "height": 200
    },
    "id": "PcHlLQD0lwWa",
    "outputId": "4543ab7c-f2dc-4ab0-e637-43a6e62fd319"
   },
   "outputs": [
    {
     "ename": "NameError",
     "evalue": "ignored",
     "output_type": "error",
     "traceback": [
      "\u001b[0;31m---------------------------------------------------------------------------\u001b[0m\n",
      "\u001b[0;31mNameError\u001b[0m                                 Traceback (most recent call last)\n",
      "\u001b[0;32m<ipython-input-1-d0dde88b42c6>\u001b[0m in \u001b[0;36m<module>\u001b[0;34m\u001b[0m\n",
      "\u001b[1;32m     11\u001b[0m     \u001b[0;32mreturn\u001b[0m \u001b[0mscore\u001b[0m\u001b[0;34m\u001b[0m\u001b[0;34m\u001b[0m\u001b[0m\n",
      "\u001b[1;32m     12\u001b[0m \u001b[0;34m\u001b[0m\u001b[0m\n",
      "\u001b[0;32m---> 13\u001b[0;31m \u001b[0mstudy\u001b[0m\u001b[0;34m.\u001b[0m\u001b[0moptimize\u001b[0m\u001b[0;34m(\u001b[0m\u001b[0mobjective\u001b[0m\u001b[0;34m,\u001b[0m \u001b[0mn_trials\u001b[0m\u001b[0;34m=\u001b[0m\u001b[0;36m60\u001b[0m\u001b[0;34m)\u001b[0m\u001b[0;34m\u001b[0m\u001b[0;34m\u001b[0m\u001b[0m\n",
      "\u001b[0m\n",
      "\u001b[0;31mNameError\u001b[0m: name 'study' is not defined"
     ]
    }
   ],
   "source": [
    "def objective(trial):\n",
    "\n",
    "    alpha = trial.suggest_float(\"alpha\", 0.1, 10.0)\n",
    "    pca_components = trial.suggest_int(\"pca_components\", 32, X[0].shape[0])\n",
    "    normalization = trial.suggest_categorical(\"normalization\", [True, False])\n",
    "    scaling = trial.suggest_categorical(\"scaling\", [True, False])\n",
    "\n",
    "    regressor = Lasso(alpha=alpha)\n",
    "    score = evaluate_regressor(regressor=regressor, pca_components=pca_components, normalization=normalization, scaling=scaling)\n",
    "\n",
    "    return score\n",
    "\n",
    "study.optimize(objective, n_trials=60)"
   ]
  },
  {
   "cell_type": "code",
   "execution_count": null,
   "metadata": {
    "id": "CDRq8F53mG8h"
   },
   "outputs": [],
   "source": [
    "study.trials_dataframe().sort_values(by=\"value\").head(10)"
   ]
  },
  {
   "cell_type": "code",
   "execution_count": null,
   "metadata": {
    "id": "2mXQMTplmHrG"
   },
   "outputs": [],
   "source": [
    "print(f\"Best lasso regression params: {study.best_params}, achieving val RMSE: {study.best_value}\")"
   ]
  },
  {
   "cell_type": "markdown",
   "metadata": {
    "id": "4QTGtDJ7hJ6H"
   },
   "source": [
    "## Ridge"
   ]
  },
  {
   "cell_type": "markdown",
   "metadata": {
    "id": "iFYA7y_LhJ6H"
   },
   "source": [
    "Linear regression with L2 regularization. Tune:\n",
    "* alpha (L2 regularization term)."
   ]
  },
  {
   "cell_type": "code",
   "execution_count": null,
   "metadata": {
    "id": "R3KnNlEqm4M9"
   },
   "outputs": [],
   "source": [
    "study = optuna.create_study(study_name=\"ridge-regression\", storage=storage_name, load_if_exists=True, direction=\"minimize\")\n",
    "study.set_user_attr(\"Loss\", \"RMSE\")"
   ]
  },
  {
   "cell_type": "code",
   "execution_count": null,
   "metadata": {
    "colab": {
     "base_uri": "https://localhost:8080/",
     "height": 200
    },
    "id": "UY_bJ4mvm4M9",
    "outputId": "4543ab7c-f2dc-4ab0-e637-43a6e62fd319"
   },
   "outputs": [
    {
     "ename": "NameError",
     "evalue": "ignored",
     "output_type": "error",
     "traceback": [
      "\u001b[0;31m---------------------------------------------------------------------------\u001b[0m\n",
      "\u001b[0;31mNameError\u001b[0m                                 Traceback (most recent call last)\n",
      "\u001b[0;32m<ipython-input-1-d0dde88b42c6>\u001b[0m in \u001b[0;36m<module>\u001b[0;34m\u001b[0m\n",
      "\u001b[1;32m     11\u001b[0m     \u001b[0;32mreturn\u001b[0m \u001b[0mscore\u001b[0m\u001b[0;34m\u001b[0m\u001b[0;34m\u001b[0m\u001b[0m\n",
      "\u001b[1;32m     12\u001b[0m \u001b[0;34m\u001b[0m\u001b[0m\n",
      "\u001b[0;32m---> 13\u001b[0;31m \u001b[0mstudy\u001b[0m\u001b[0;34m.\u001b[0m\u001b[0moptimize\u001b[0m\u001b[0;34m(\u001b[0m\u001b[0mobjective\u001b[0m\u001b[0;34m,\u001b[0m \u001b[0mn_trials\u001b[0m\u001b[0;34m=\u001b[0m\u001b[0;36m60\u001b[0m\u001b[0;34m)\u001b[0m\u001b[0;34m\u001b[0m\u001b[0;34m\u001b[0m\u001b[0m\n",
      "\u001b[0m\n",
      "\u001b[0;31mNameError\u001b[0m: name 'study' is not defined"
     ]
    }
   ],
   "source": [
    "def objective(trial):\n",
    "\n",
    "    alpha = trial.suggest_float(\"alpha\", 0.1, 10.0)\n",
    "    pca_components = trial.suggest_int(\"pca_components\", 32, X[0].shape[0])\n",
    "    normalization = trial.suggest_categorical(\"normalization\", [True, False])\n",
    "    scaling = trial.suggest_categorical(\"scaling\", [True, False])\n",
    "\n",
    "    regressor = Ridge(alpha=alpha)\n",
    "    score = evaluate_regressor(regressor=regressor, pca_components=pca_components, normalization=normalization, scaling=scaling)\n",
    "\n",
    "    return score\n",
    "\n",
    "study.optimize(objective, n_trials=60)"
   ]
  },
  {
   "cell_type": "code",
   "execution_count": null,
   "metadata": {
    "id": "0vjKVK2Em4M9"
   },
   "outputs": [],
   "source": [
    "study.trials_dataframe().sort_values(by=\"value\").head(10)"
   ]
  },
  {
   "cell_type": "code",
   "execution_count": null,
   "metadata": {
    "id": "0_CHFe7Sm4M-"
   },
   "outputs": [],
   "source": [
    "print(f\"Best ridge regression params: {study.best_params}, achieving val RMSE: {study.best_value}\")"
   ]
  },
  {
   "cell_type": "markdown",
   "metadata": {
    "id": "I1ogsA4EhJ6H"
   },
   "source": [
    "## ElasticNet"
   ]
  },
  {
   "cell_type": "markdown",
   "metadata": {
    "id": "Ejz37kVmhJ6H"
   },
   "source": [
    "Linear regression with both L1 and L2 regularization. Tune\n",
    "* alpha\n",
    "* l1_ratio. "
   ]
  },
  {
   "cell_type": "code",
   "execution_count": null,
   "metadata": {
    "id": "7BpIlB7Nm-Rt"
   },
   "outputs": [],
   "source": [
    "study = optuna.create_study(study_name=\"elasticnet-regression\", storage=storage_name, load_if_exists=True, direction=\"minimize\")\n",
    "study.set_user_attr(\"Loss\", \"RMSE\")"
   ]
  },
  {
   "cell_type": "code",
   "execution_count": null,
   "metadata": {
    "colab": {
     "base_uri": "https://localhost:8080/",
     "height": 200
    },
    "id": "z8EOjW_Nm-Rt",
    "outputId": "4543ab7c-f2dc-4ab0-e637-43a6e62fd319"
   },
   "outputs": [
    {
     "ename": "NameError",
     "evalue": "ignored",
     "output_type": "error",
     "traceback": [
      "\u001b[0;31m---------------------------------------------------------------------------\u001b[0m\n",
      "\u001b[0;31mNameError\u001b[0m                                 Traceback (most recent call last)\n",
      "\u001b[0;32m<ipython-input-1-d0dde88b42c6>\u001b[0m in \u001b[0;36m<module>\u001b[0;34m\u001b[0m\n",
      "\u001b[1;32m     11\u001b[0m     \u001b[0;32mreturn\u001b[0m \u001b[0mscore\u001b[0m\u001b[0;34m\u001b[0m\u001b[0;34m\u001b[0m\u001b[0m\n",
      "\u001b[1;32m     12\u001b[0m \u001b[0;34m\u001b[0m\u001b[0m\n",
      "\u001b[0;32m---> 13\u001b[0;31m \u001b[0mstudy\u001b[0m\u001b[0;34m.\u001b[0m\u001b[0moptimize\u001b[0m\u001b[0;34m(\u001b[0m\u001b[0mobjective\u001b[0m\u001b[0;34m,\u001b[0m \u001b[0mn_trials\u001b[0m\u001b[0;34m=\u001b[0m\u001b[0;36m60\u001b[0m\u001b[0;34m)\u001b[0m\u001b[0;34m\u001b[0m\u001b[0;34m\u001b[0m\u001b[0m\n",
      "\u001b[0m\n",
      "\u001b[0;31mNameError\u001b[0m: name 'study' is not defined"
     ]
    }
   ],
   "source": [
    "def objective(trial):\n",
    "\n",
    "    alpha = trial.suggest_float(\"alpha\", 0.1, 10.0)\n",
    "    l1_ratio = trial.suggest_float(\"l1_ratio\", 0.1, 0.9)\n",
    "    pca_components = trial.suggest_int(\"pca_components\", 32, X[0].shape[0])\n",
    "    normalization = trial.suggest_categorical(\"normalization\", [True, False])\n",
    "    scaling = trial.suggest_categorical(\"scaling\", [True, False])\n",
    "\n",
    "    regressor = ElasticNet(alpha=alpha, l1_ratio=l1_ratio)\n",
    "    score = evaluate_regressor(regressor=regressor, pca_components=pca_components, normalization=normalization, scaling=scaling)\n",
    "\n",
    "    return score\n",
    "\n",
    "study.optimize(objective, n_trials=60)"
   ]
  },
  {
   "cell_type": "code",
   "execution_count": null,
   "metadata": {
    "id": "-G5CteZrm-Rt"
   },
   "outputs": [],
   "source": [
    "study.trials_dataframe().sort_values(by=\"value\").head(10)"
   ]
  },
  {
   "cell_type": "code",
   "execution_count": null,
   "metadata": {
    "id": "dIJhZwaNm-Rt"
   },
   "outputs": [],
   "source": [
    "print(f\"Best ElasticNET regression params: {study.best_params}, achieving val RMSE: {study.best_value}\")"
   ]
  },
  {
   "cell_type": "markdown",
   "metadata": {
    "id": "0yrfpGpQhJ6I"
   },
   "source": [
    "## SGD Regression"
   ]
  },
  {
   "cell_type": "markdown",
   "metadata": {
    "id": "wutmcIO6hJ6I"
   },
   "source": [
    "Stochastic Gradient Descent Regression using either of the above reguliration techniques. Tune:\n",
    "* penalty method\n",
    "* alpha\n",
    "* l1_ratio (if elasticnet penalty)."
   ]
  },
  {
   "cell_type": "code",
   "execution_count": null,
   "metadata": {
    "id": "sOSQ1Cr4nHDZ"
   },
   "outputs": [],
   "source": [
    "study = optuna.create_study(study_name=\"SGD-regression\", storage=storage_name, load_if_exists=True, direction=\"minimize\")\n",
    "study.set_user_attr(\"Loss\", \"RMSE\")"
   ]
  },
  {
   "cell_type": "code",
   "execution_count": null,
   "metadata": {
    "colab": {
     "base_uri": "https://localhost:8080/",
     "height": 200
    },
    "id": "1uZDFHK5nHDZ",
    "outputId": "4543ab7c-f2dc-4ab0-e637-43a6e62fd319"
   },
   "outputs": [
    {
     "ename": "NameError",
     "evalue": "ignored",
     "output_type": "error",
     "traceback": [
      "\u001b[0;31m---------------------------------------------------------------------------\u001b[0m\n",
      "\u001b[0;31mNameError\u001b[0m                                 Traceback (most recent call last)\n",
      "\u001b[0;32m<ipython-input-1-d0dde88b42c6>\u001b[0m in \u001b[0;36m<module>\u001b[0;34m\u001b[0m\n",
      "\u001b[1;32m     11\u001b[0m     \u001b[0;32mreturn\u001b[0m \u001b[0mscore\u001b[0m\u001b[0;34m\u001b[0m\u001b[0;34m\u001b[0m\u001b[0m\n",
      "\u001b[1;32m     12\u001b[0m \u001b[0;34m\u001b[0m\u001b[0m\n",
      "\u001b[0;32m---> 13\u001b[0;31m \u001b[0mstudy\u001b[0m\u001b[0;34m.\u001b[0m\u001b[0moptimize\u001b[0m\u001b[0;34m(\u001b[0m\u001b[0mobjective\u001b[0m\u001b[0;34m,\u001b[0m \u001b[0mn_trials\u001b[0m\u001b[0;34m=\u001b[0m\u001b[0;36m60\u001b[0m\u001b[0;34m)\u001b[0m\u001b[0;34m\u001b[0m\u001b[0;34m\u001b[0m\u001b[0m\n",
      "\u001b[0m\n",
      "\u001b[0;31mNameError\u001b[0m: name 'study' is not defined"
     ]
    }
   ],
   "source": [
    "def objective(trial):\n",
    "\n",
    "    penalty = trial.suggest_categorical(\"penalty\", [\"l1\", \"l2\", \"elasticnet\"])\n",
    "    alpha = trial.suggest_float(\"alpha\", 0.1, 10.0)\n",
    "    l1_ratio = trial.suggest_float(\"l1_ratio\", 0.1, 0.1)\n",
    "    pca_components = trial.suggest_int(\"pca_components\", 32, X[0].shape[0])\n",
    "    normalization = trial.suggest_categorical(\"normalization\", [True, False])\n",
    "    scaling = trial.suggest_categorical(\"scaling\", [True, False])\n",
    "\n",
    "    regressor = SGDRegressor(penalty=penalty, alpha=alpha, l1_ratio=l1_ratio)\n",
    "    score = evaluate_regressor(regressor=regressor, pca_components=pca_components, normalization=normalization, scaling=scaling)\n",
    "\n",
    "    return score\n",
    "\n",
    "study.optimize(objective, n_trials=60)"
   ]
  },
  {
   "cell_type": "code",
   "execution_count": null,
   "metadata": {
    "id": "MPJGdClmnHDZ"
   },
   "outputs": [],
   "source": [
    "study.trials_dataframe().sort_values(by=\"value\").head(10)"
   ]
  },
  {
   "cell_type": "code",
   "execution_count": null,
   "metadata": {
    "id": "RHHcfjFvnHDa"
   },
   "outputs": [],
   "source": [
    "print(f\"Best SGD regression params: {study.best_params}, achieving val RMSE: {study.best_value}\")"
   ]
  },
  {
   "cell_type": "markdown",
   "metadata": {
    "id": "Bygw9RgEhJ6I"
   },
   "source": [
    "## SVR"
   ]
  },
  {
   "cell_type": "markdown",
   "metadata": {
    "id": "nvZKfhWJhJ6I"
   },
   "source": [
    "Support Vector Regression. Tune:\n",
    "* kernel\n",
    "* gamma\n",
    "* C"
   ]
  },
  {
   "cell_type": "code",
   "execution_count": null,
   "metadata": {
    "id": "w3QypaVGpjBx"
   },
   "outputs": [],
   "source": [
    "study = optuna.create_study(study_name=\"SVR-regression\", storage=storage_name, load_if_exists=True, direction=\"minimize\")\n",
    "study.set_user_attr(\"Loss\", \"RMSE\")"
   ]
  },
  {
   "cell_type": "code",
   "execution_count": null,
   "metadata": {
    "colab": {
     "base_uri": "https://localhost:8080/",
     "height": 200
    },
    "id": "a1yakiJXpjBx",
    "outputId": "4543ab7c-f2dc-4ab0-e637-43a6e62fd319"
   },
   "outputs": [
    {
     "ename": "NameError",
     "evalue": "ignored",
     "output_type": "error",
     "traceback": [
      "\u001b[0;31m---------------------------------------------------------------------------\u001b[0m\n",
      "\u001b[0;31mNameError\u001b[0m                                 Traceback (most recent call last)\n",
      "\u001b[0;32m<ipython-input-1-d0dde88b42c6>\u001b[0m in \u001b[0;36m<module>\u001b[0;34m\u001b[0m\n",
      "\u001b[1;32m     11\u001b[0m     \u001b[0;32mreturn\u001b[0m \u001b[0mscore\u001b[0m\u001b[0;34m\u001b[0m\u001b[0;34m\u001b[0m\u001b[0m\n",
      "\u001b[1;32m     12\u001b[0m \u001b[0;34m\u001b[0m\u001b[0m\n",
      "\u001b[0;32m---> 13\u001b[0;31m \u001b[0mstudy\u001b[0m\u001b[0;34m.\u001b[0m\u001b[0moptimize\u001b[0m\u001b[0;34m(\u001b[0m\u001b[0mobjective\u001b[0m\u001b[0;34m,\u001b[0m \u001b[0mn_trials\u001b[0m\u001b[0;34m=\u001b[0m\u001b[0;36m60\u001b[0m\u001b[0;34m)\u001b[0m\u001b[0;34m\u001b[0m\u001b[0;34m\u001b[0m\u001b[0m\n",
      "\u001b[0m\n",
      "\u001b[0;31mNameError\u001b[0m: name 'study' is not defined"
     ]
    }
   ],
   "source": [
    "def objective(trial):\n",
    "\n",
    "    kernel = trial.suggest_categorical(\"kernel\", [\"l1\", \"l2\", \"elasticnet\"])\n",
    "    C = trial.suggest_float(\"C\", 0.1, 10.0)\n",
    "    gamma = trial.suggest_float(\"gamma\", 0.1, 0.1)\n",
    "    pca_components = trial.suggest_int(\"pca_components\", 32, X[0].shape[0])\n",
    "    normalization = trial.suggest_categorical(\"normalization\", [True, False])\n",
    "    scaling = trial.suggest_categorical(\"scaling\", [True, False])\n",
    "\n",
    "    regressor = SVR(kernel=kernel, C=C, gamma=gamma)\n",
    "    score = evaluate_regressor(regressor=regressor, pca_components=pca_components, normalization=normalization, scaling=scaling)\n",
    "\n",
    "    return score\n",
    "\n",
    "study.optimize(objective, n_trials=60)"
   ]
  },
  {
   "cell_type": "code",
   "execution_count": null,
   "metadata": {
    "id": "E4CUCnjypjBx"
   },
   "outputs": [],
   "source": [
    "study.trials_dataframe().sort_values(by=\"value\").head(10)"
   ]
  },
  {
   "cell_type": "code",
   "execution_count": null,
   "metadata": {
    "id": "ldt9BKzppjBx"
   },
   "outputs": [],
   "source": [
    "print(f\"Best SVR regression params: {study.best_params}, achieving val RMSE: {study.best_value}\")"
   ]
  },
  {
   "cell_type": "markdown",
   "metadata": {
    "id": "niRzqRbiqktt"
   },
   "source": [
    "## Hist Gradient Boosting Regressor"
   ]
  },
  {
   "cell_type": "markdown",
   "metadata": {
    "id": "TqDc4QTTqp-b"
   },
   "source": [
    "Gradient Boosting regression for large datasets. Tune:\n",
    "* learning rate\n",
    "* max leaf nodes\n",
    "* l2 regularization"
   ]
  },
  {
   "cell_type": "code",
   "execution_count": null,
   "metadata": {
    "id": "N1XDTSmfqxFl"
   },
   "outputs": [],
   "source": [
    "study = optuna.create_study(study_name=\"HistGBoost-regression\", storage=storage_name, load_if_exists=True, direction=\"minimize\")\n",
    "study.set_user_attr(\"Loss\", \"RMSE\")"
   ]
  },
  {
   "cell_type": "code",
   "execution_count": null,
   "metadata": {
    "colab": {
     "base_uri": "https://localhost:8080/",
     "height": 200
    },
    "id": "mSztSEIgqxFl",
    "outputId": "4543ab7c-f2dc-4ab0-e637-43a6e62fd319"
   },
   "outputs": [
    {
     "ename": "NameError",
     "evalue": "ignored",
     "output_type": "error",
     "traceback": [
      "\u001b[0;31m---------------------------------------------------------------------------\u001b[0m\n",
      "\u001b[0;31mNameError\u001b[0m                                 Traceback (most recent call last)\n",
      "\u001b[0;32m<ipython-input-1-d0dde88b42c6>\u001b[0m in \u001b[0;36m<module>\u001b[0;34m\u001b[0m\n",
      "\u001b[1;32m     11\u001b[0m     \u001b[0;32mreturn\u001b[0m \u001b[0mscore\u001b[0m\u001b[0;34m\u001b[0m\u001b[0;34m\u001b[0m\u001b[0m\n",
      "\u001b[1;32m     12\u001b[0m \u001b[0;34m\u001b[0m\u001b[0m\n",
      "\u001b[0;32m---> 13\u001b[0;31m \u001b[0mstudy\u001b[0m\u001b[0;34m.\u001b[0m\u001b[0moptimize\u001b[0m\u001b[0;34m(\u001b[0m\u001b[0mobjective\u001b[0m\u001b[0;34m,\u001b[0m \u001b[0mn_trials\u001b[0m\u001b[0;34m=\u001b[0m\u001b[0;36m60\u001b[0m\u001b[0;34m)\u001b[0m\u001b[0;34m\u001b[0m\u001b[0;34m\u001b[0m\u001b[0m\n",
      "\u001b[0m\n",
      "\u001b[0;31mNameError\u001b[0m: name 'study' is not defined"
     ]
    }
   ],
   "source": [
    "def objective(trial):\n",
    "\n",
    "    learning_rate = trial.suggest_float(\"learning_rate\", 1e-4, 0.5)\n",
    "    max_leaf_nodes = trial.suggest_int(\"max_leaf_nodes\", 10, 60)\n",
    "    l2_regularization = trial.suggest_float(\"l2_regularization\", 0.1, 10.0)\n",
    "    pca_components = trial.suggest_int(\"pca_components\", 32, X[0].shape[0])\n",
    "    normalization = trial.suggest_categorical(\"normalization\", [True, False])\n",
    "    scaling = trial.suggest_categorical(\"scaling\", [True, False])\n",
    "\n",
    "    regressor = HistGradientBoostingRegressor(learning_rate=learning_rate, max_leaf_nodes=max_leaf_nodes, l2_regularization=l2_regularization)\n",
    "    score = evaluate_regressor(regressor=regressor, pca_components=pca_components, normalization=normalization, scaling=scaling)\n",
    "\n",
    "    return score\n",
    "\n",
    "study.optimize(objective, n_trials=60)"
   ]
  },
  {
   "cell_type": "code",
   "execution_count": null,
   "metadata": {
    "id": "y0rvRiP-qxFm"
   },
   "outputs": [],
   "source": [
    "study.trials_dataframe().sort_values(by=\"value\").head(10)"
   ]
  },
  {
   "cell_type": "code",
   "execution_count": null,
   "metadata": {
    "id": "jsVyX3vTqxFm"
   },
   "outputs": [],
   "source": [
    "print(f\"Best HistGBoost regression params: {study.best_params}, achieving val RMSE: {study.best_value}\")"
   ]
  },
  {
   "attachments": {},
   "cell_type": "markdown",
   "metadata": {},
   "source": [
    "# Results"
   ]
  },
  {
   "attachments": {},
   "cell_type": "markdown",
   "metadata": {},
   "source": [
    "# Draft"
   ]
  },
  {
   "cell_type": "code",
   "execution_count": 6,
   "metadata": {},
   "outputs": [
    {
     "name": "stdout",
     "output_type": "stream",
     "text": [
      "\u001b[1mLasso regressor \u001b[0m\n",
      "Test MSE: 0.499\n",
      "Test RMSE: 0.706\n",
      "Test MAE: 0.361\n",
      "\n"
     ]
    }
   ],
   "source": [
    "regressor = Lasso()\n",
    "regressor_name = \"Lasso regressor\"\n",
    "\n",
    "reg = regressor.fit(x_train, y_train)\n",
    "preds = reg.predict(x_test)\n",
    "\n",
    "mse = mean_squared_error(y_test, preds)\n",
    "mae = mean_absolute_error(y_test, preds)\n",
    "\n",
    "print(f\"\\033[1m{regressor_name} \\033[0m\")\n",
    "print(f\"Test MSE: {round(mse, 3)}\")\n",
    "print(f\"Test RMSE: {round(np.sqrt(mse), 3)}\")\n",
    "print(f\"Test MAE: {round(mae, 3)}\\n\")"
   ]
  },
  {
   "cell_type": "code",
   "execution_count": 7,
   "metadata": {},
   "outputs": [
    {
     "name": "stdout",
     "output_type": "stream",
     "text": [
      "\u001b[1mElasticNet Regressor \u001b[0m\n",
      "Test MSE: 0.499\n",
      "Test RMSE: 0.706\n",
      "Test MAE: 0.361\n",
      "\n",
      "\u001b[1mBayesianRidge Regressor \u001b[0m\n",
      "Test MSE: 0.322\n",
      "Test RMSE: 0.567\n",
      "Test MAE: 0.28\n",
      "\n"
     ]
    }
   ],
   "source": [
    "#regressors = [LinearRegression(n_jobs=-1), SGDRegressor(), ElasticNet(), BayesianRidge(), SVR(), GradientBoostingRegressor()]\n",
    "regressors = [ElasticNet(), BayesianRidge()]\n",
    "regressor_names = [\"ElasticNet Regressor\", \"BayesianRidge Regressor\"]\n",
    "\n",
    "for reg, reg_name in zip(regressors, regressor_names):\n",
    "    \n",
    "    reg = reg.fit(x_train, y_train)\n",
    "    preds = reg.predict(x_test)\n",
    "\n",
    "    mse = mean_squared_error(y_test, preds)\n",
    "    mae = mean_absolute_error(y_test, preds)\n",
    "\n",
    "    print(f\"\\033[1m{reg_name} \\033[0m\")\n",
    "    print(f\"Test MSE: {round(mse, 3)}\")\n",
    "    print(f\"Test RMSE: {round(np.sqrt(mse), 3)}\")\n",
    "    print(f\"Test MAE: {round(mae, 3)}\\n\")"
   ]
  },
  {
   "cell_type": "code",
   "execution_count": 8,
   "metadata": {},
   "outputs": [
    {
     "name": "stdout",
     "output_type": "stream",
     "text": [
      "\u001b[1mPCA components: 5 \u001b[0m\n",
      "Test MSE: 0.454\n",
      "Test RMSE: 0.674\n",
      "Test MAE: 0.334\n",
      "\n",
      "\u001b[1mPCA components: 50 \u001b[0m\n",
      "Test MSE: 0.437\n",
      "Test RMSE: 0.661\n",
      "Test MAE: 0.325\n",
      "\n",
      "\u001b[1mPCA components: 100 \u001b[0m\n",
      "Test MSE: 0.376\n",
      "Test RMSE: 0.613\n",
      "Test MAE: 0.319\n",
      "\n",
      "\u001b[1mPCA components: 200 \u001b[0m\n",
      "Test MSE: 0.334\n",
      "Test RMSE: 0.578\n",
      "Test MAE: 0.29\n",
      "\n",
      "\u001b[1mPCA components: 500 \u001b[0m\n",
      "Test MSE: 0.325\n",
      "Test RMSE: 0.57\n",
      "Test MAE: 0.282\n",
      "\n"
     ]
    }
   ],
   "source": [
    "regressor = LinearRegression()\n",
    "regressor_name = \"Linear Regressor\"\n",
    "\n",
    "for components in [5, 50, 100, 200, 500]:\n",
    "    pipe = Pipeline([('pca', PCA(n_components=components)), (regressor_name, regressor)])\n",
    "    pipe.fit(x_train, y_train)\n",
    "    preds = pipe.predict(x_test)\n",
    "\n",
    "    mse = mean_squared_error(y_test, preds)\n",
    "    mae = mean_absolute_error(y_test, preds)\n",
    "\n",
    "    print(f\"\\033[1mPCA components: {components} \\033[0m\")\n",
    "    print(f\"Test MSE: {round(mse, 3)}\")\n",
    "    print(f\"Test RMSE: {round(np.sqrt(mse), 3)}\")\n",
    "    print(f\"Test MAE: {round(mae, 3)}\\n\")"
   ]
  }
 ],
 "metadata": {
  "kernelspec": {
   "display_name": "energy-prediction",
   "language": "python",
   "name": "python3"
  },
  "language_info": {
   "codemirror_mode": {
    "name": "ipython",
    "version": 3
   },
   "file_extension": ".py",
   "mimetype": "text/x-python",
   "name": "python",
   "nbconvert_exporter": "python",
   "pygments_lexer": "ipython3",
   "version": "3.10.4 | packaged by conda-forge | (main, Mar 30 2022, 08:38:02) [MSC v.1916 64 bit (AMD64)]"
  },
  "orig_nbformat": 4,
  "vscode": {
   "interpreter": {
    "hash": "2d8ea44dacc84c32c3ffb10f5fa42b465f31145cc9ac97a8028dfa96db72aa4c"
   }
  }
 },
 "nbformat": 4,
 "nbformat_minor": 2
}
